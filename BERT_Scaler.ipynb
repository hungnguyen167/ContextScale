{
  "cells": [
    {
      "attachments": {},
      "cell_type": "markdown",
      "metadata": {
        "id": "4k3dCezyXmXQ"
      },
      "source": [
        "# Setup"
      ]
    },
    {
      "cell_type": "code",
      "execution_count": 3,
      "metadata": {
        "colab": {
          "base_uri": "https://localhost:8080/"
        },
        "id": "vUoQrEYCXmXQ",
        "outputId": "e3e70df8-5711-46aa-b4cc-ede6cdb653f6"
      },
      "outputs": [],
      "source": [
        "## Install required packages\n",
        "#!pip install torch torchvision torchaudio --extra-index-url https://download.pytorch.org/whl/cu116\n",
        "#!pip install transformers==4.21.2\n",
        "#!pip install sentencepiece==0.1.96\n",
        "#!pip install datasets\n",
        "#!pip install nltk\n",
        "#!pip install sentence_transformers\n",
        "#!pip install gensim\n"
      ]
    },
    {
      "cell_type": "code",
      "execution_count": 1,
      "metadata": {
        "id": "dPi54JU9XmXR"
      },
      "outputs": [],
      "source": [
        "import os\n",
        "import pandas as pd\n",
        "import numpy as np\n",
        "import matplotlib as plt\n",
        "from sklearn.model_selection import train_test_split\n",
        "from sklearn import feature_extraction, model_selection, naive_bayes, pipeline, manifold, preprocessing\n",
        "from sklearn.metrics import accuracy_score, classification_report, confusion_matrix, precision_recall_fscore_support, classification_report, f1_score\n",
        "import torch.nn as nn\n",
        "import torch.optim as optim\n",
        "import seaborn as sns\n",
        "import torch\n",
        "from transformers import XLMRobertaForSequenceClassification, BertForSequenceClassification, AutoTokenizer, DataCollatorWithPadding, DataCollatorForLanguageModeling, AutoModelForMaskedLM, TrainingArguments, Trainer, BertModel\n",
        "from torch.utils.data import DataLoader, RandomSampler, SequentialSampler\n",
        "from sklearn.preprocessing import OrdinalEncoder, OneHotEncoder\n",
        "from datasets import Dataset, DatasetDict\n",
        "from utils import functions\n",
        "import random\n",
        "import nltk\n",
        "from sentence_transformers import SentenceTransformer, LoggingHandler\n",
        "from sentence_transformers import models, util, datasets, evaluation, losses\n",
        "import re\n",
        "from nltk.corpus import stopwords\n",
        "from gensim.utils import tokenize as tk\n",
        "from gensim.parsing.preprocessing import remove_stopwords, preprocess_string, strip_tags, strip_punctuation, strip_numeric, strip_multiple_whitespaces\n",
        "from gensim.models import Doc2Vec\n",
        "from collections import namedtuple\n",
        "from gensim.models.phrases import Phrases, Phraser\n",
        "from gensim.models.doc2vec import TaggedDocument\n",
        "from sentence_transformers import SentenceTransformer, LoggingHandler\n",
        "from sentence_transformers import models, util, datasets, evaluation, losses\n",
        "from torch.utils.data import DataLoader\n",
        "from sentence_transformers import SentenceTransformer\n",
        "import umap.umap_ as umap\n",
        "from sklearn.decomposition import PCA, TruncatedSVD\n",
        "\n"
      ]
    },
    {
      "cell_type": "code",
      "execution_count": 2,
      "metadata": {
        "colab": {
          "base_uri": "https://localhost:8080/",
          "height": 35
        },
        "id": "mDclkfIWZcwv",
        "outputId": "769a0b89-1e46-4b79-c424-cb6022cd4971"
      },
      "outputs": [
        {
          "data": {
            "text/plain": [
              "'NVIDIA GeForce RTX 3090'"
            ]
          },
          "execution_count": 2,
          "metadata": {},
          "output_type": "execute_result"
        }
      ],
      "source": [
        "device = torch.device('cuda')\n",
        "torch.cuda.get_device_name(device=None)\n"
      ]
    },
    {
      "cell_type": "code",
      "execution_count": 3,
      "metadata": {
        "colab": {
          "base_uri": "https://localhost:8080/"
        },
        "id": "ULX0gK7mg6d3",
        "outputId": "bdbd3c77-e5c0-46f3-cb41-c78bdbbbd4ab"
      },
      "outputs": [],
      "source": [
        "## Pseudo-randomness for reproducibility\n",
        "seed_val = 1234\n",
        "torch.manual_seed(seed_val)\n",
        "random.seed(seed_val)\n",
        "np.random.seed(seed_val)"
      ]
    },
    {
      "attachments": {},
      "cell_type": "markdown",
      "metadata": {
        "id": "b41aechYXmXT"
      },
      "source": [
        "# Example 1: Using CMP-annotated data as data for classification and supervised dimensionality reduction"
      ]
    },
    {
      "attachments": {},
      "cell_type": "markdown",
      "metadata": {},
      "source": [
        "### Data preparation"
      ]
    },
    {
      "cell_type": "code",
      "execution_count": 4,
      "metadata": {
        "id": "qB4dt7BNuojT"
      },
      "outputs": [],
      "source": [
        "manifesto = pd.read_csv(os.path.join(\"data\", \"r_outputs\",\"pulled_manifestoes.csv\"), encoding=\"utf-8\")"
      ]
    },
    {
      "cell_type": "code",
      "execution_count": 5,
      "metadata": {},
      "outputs": [
        {
          "data": {
            "text/html": [
              "<div>\n",
              "<style scoped>\n",
              "    .dataframe tbody tr th:only-of-type {\n",
              "        vertical-align: middle;\n",
              "    }\n",
              "\n",
              "    .dataframe tbody tr th {\n",
              "        vertical-align: top;\n",
              "    }\n",
              "\n",
              "    .dataframe thead th {\n",
              "        text-align: right;\n",
              "    }\n",
              "</style>\n",
              "<table border=\"1\" class=\"dataframe\">\n",
              "  <thead>\n",
              "    <tr style=\"text-align: right;\">\n",
              "      <th></th>\n",
              "      <th>text</th>\n",
              "      <th>election</th>\n",
              "      <th>code</th>\n",
              "      <th>pos</th>\n",
              "      <th>party_code</th>\n",
              "      <th>country_code</th>\n",
              "      <th>party</th>\n",
              "      <th>country</th>\n",
              "      <th>name</th>\n",
              "      <th>name_english</th>\n",
              "    </tr>\n",
              "  </thead>\n",
              "  <tbody>\n",
              "    <tr>\n",
              "      <th>0</th>\n",
              "      <td>La France est plus riche que jamais.</td>\n",
              "      <td>2012</td>\n",
              "      <td>503</td>\n",
              "      <td>3</td>\n",
              "      <td>31021_201206</td>\n",
              "      <td>31</td>\n",
              "      <td>31021</td>\n",
              "      <td>France</td>\n",
              "      <td>Front de Gauche</td>\n",
              "      <td>Left Front</td>\n",
              "    </tr>\n",
              "    <tr>\n",
              "      <th>1</th>\n",
              "      <td>Mais jamais non plus cette richesse n'a été au...</td>\n",
              "      <td>2012</td>\n",
              "      <td>503</td>\n",
              "      <td>4</td>\n",
              "      <td>31021_201206</td>\n",
              "      <td>31</td>\n",
              "      <td>31021</td>\n",
              "      <td>France</td>\n",
              "      <td>Front de Gauche</td>\n",
              "      <td>Left Front</td>\n",
              "    </tr>\n",
              "    <tr>\n",
              "      <th>2</th>\n",
              "      <td>Les réformes libérales qui se sont encore accé...</td>\n",
              "      <td>2012</td>\n",
              "      <td>503</td>\n",
              "      <td>5</td>\n",
              "      <td>31021_201206</td>\n",
              "      <td>31</td>\n",
              "      <td>31021</td>\n",
              "      <td>France</td>\n",
              "      <td>Front de Gauche</td>\n",
              "      <td>Left Front</td>\n",
              "    </tr>\n",
              "    <tr>\n",
              "      <th>3</th>\n",
              "      <td>La pauvreté et la précarité se sont étendues, ...</td>\n",
              "      <td>2012</td>\n",
              "      <td>503</td>\n",
              "      <td>6</td>\n",
              "      <td>31021_201206</td>\n",
              "      <td>31</td>\n",
              "      <td>31021</td>\n",
              "      <td>France</td>\n",
              "      <td>Front de Gauche</td>\n",
              "      <td>Left Front</td>\n",
              "    </tr>\n",
              "    <tr>\n",
              "      <th>4</th>\n",
              "      <td>L'égoïsme social des possédants viole l'intérê...</td>\n",
              "      <td>2012</td>\n",
              "      <td>503</td>\n",
              "      <td>7</td>\n",
              "      <td>31021_201206</td>\n",
              "      <td>31</td>\n",
              "      <td>31021</td>\n",
              "      <td>France</td>\n",
              "      <td>Front de Gauche</td>\n",
              "      <td>Left Front</td>\n",
              "    </tr>\n",
              "  </tbody>\n",
              "</table>\n",
              "</div>"
            ],
            "text/plain": [
              "                                                text  election code  pos  \\\n",
              "0               La France est plus riche que jamais.      2012  503    3   \n",
              "1  Mais jamais non plus cette richesse n'a été au...      2012  503    4   \n",
              "2  Les réformes libérales qui se sont encore accé...      2012  503    5   \n",
              "3  La pauvreté et la précarité se sont étendues, ...      2012  503    6   \n",
              "4  L'égoïsme social des possédants viole l'intérê...      2012  503    7   \n",
              "\n",
              "     party_code  country_code  party country             name name_english  \n",
              "0  31021_201206            31  31021  France  Front de Gauche   Left Front  \n",
              "1  31021_201206            31  31021  France  Front de Gauche   Left Front  \n",
              "2  31021_201206            31  31021  France  Front de Gauche   Left Front  \n",
              "3  31021_201206            31  31021  France  Front de Gauche   Left Front  \n",
              "4  31021_201206            31  31021  France  Front de Gauche   Left Front  "
            ]
          },
          "execution_count": 5,
          "metadata": {},
          "output_type": "execute_result"
        }
      ],
      "source": [
        "manifesto.head()"
      ]
    },
    {
      "cell_type": "code",
      "execution_count": 6,
      "metadata": {},
      "outputs": [
        {
          "data": {
            "text/plain": [
              "{'000',\n",
              " '101',\n",
              " '102',\n",
              " '103',\n",
              " '103.1',\n",
              " '103.2',\n",
              " '104',\n",
              " '105',\n",
              " '106',\n",
              " '107',\n",
              " '108',\n",
              " '109',\n",
              " '110',\n",
              " '201',\n",
              " '201.1',\n",
              " '201.2',\n",
              " '202',\n",
              " '202.1',\n",
              " '202.2',\n",
              " '202.3',\n",
              " '202.4',\n",
              " '203',\n",
              " '204',\n",
              " '301',\n",
              " '302',\n",
              " '303',\n",
              " '304',\n",
              " '305',\n",
              " '305.1',\n",
              " '305.2',\n",
              " '305.3',\n",
              " '305.5',\n",
              " '305.6',\n",
              " '401',\n",
              " '402',\n",
              " '403',\n",
              " '404',\n",
              " '405',\n",
              " '406',\n",
              " '407',\n",
              " '408',\n",
              " '409',\n",
              " '410',\n",
              " '411',\n",
              " '412',\n",
              " '413',\n",
              " '414',\n",
              " '415',\n",
              " '416',\n",
              " '416.1',\n",
              " '416.2',\n",
              " '501',\n",
              " '502',\n",
              " '503',\n",
              " '504',\n",
              " '505',\n",
              " '506',\n",
              " '507',\n",
              " '601',\n",
              " '601.1',\n",
              " '601.2',\n",
              " '602',\n",
              " '602.1',\n",
              " '602.2',\n",
              " '603',\n",
              " '604',\n",
              " '605',\n",
              " '605.1',\n",
              " '605.2',\n",
              " '606',\n",
              " '606.1',\n",
              " '606.2',\n",
              " '607',\n",
              " '607.1',\n",
              " '607.2',\n",
              " '607.3',\n",
              " '608',\n",
              " '608.1',\n",
              " '608.2',\n",
              " '701',\n",
              " '702',\n",
              " '703',\n",
              " '703.1',\n",
              " '703.2',\n",
              " '704',\n",
              " '705',\n",
              " '706',\n",
              " 'H'}"
            ]
          },
          "execution_count": 6,
          "metadata": {},
          "output_type": "execute_result"
        }
      ],
      "source": [
        "set(manifesto.code)"
      ]
    },
    {
      "cell_type": "code",
      "execution_count": 7,
      "metadata": {},
      "outputs": [],
      "source": [
        "manifesto = manifesto[(manifesto.code.notna()) & ~(manifesto.code.isin(['000','H']))].reset_index(drop=True)"
      ]
    },
    {
      "cell_type": "code",
      "execution_count": 8,
      "metadata": {
        "colab": {
          "base_uri": "https://localhost:8080/"
        },
        "id": "BvaoD683XmXc",
        "outputId": "c1d5ae1c-72ba-4193-da97-0f4cb8304318"
      },
      "outputs": [
        {
          "data": {
            "text/html": [
              "<div>\n",
              "<style scoped>\n",
              "    .dataframe tbody tr th:only-of-type {\n",
              "        vertical-align: middle;\n",
              "    }\n",
              "\n",
              "    .dataframe tbody tr th {\n",
              "        vertical-align: top;\n",
              "    }\n",
              "\n",
              "    .dataframe thead th {\n",
              "        text-align: right;\n",
              "    }\n",
              "</style>\n",
              "<table border=\"1\" class=\"dataframe\">\n",
              "  <thead>\n",
              "    <tr style=\"text-align: right;\">\n",
              "      <th></th>\n",
              "      <th>text</th>\n",
              "      <th>election</th>\n",
              "      <th>code</th>\n",
              "      <th>pos</th>\n",
              "      <th>party_code</th>\n",
              "      <th>country_code</th>\n",
              "      <th>party</th>\n",
              "      <th>country</th>\n",
              "      <th>name</th>\n",
              "      <th>name_english</th>\n",
              "    </tr>\n",
              "  </thead>\n",
              "  <tbody>\n",
              "    <tr>\n",
              "      <th>0</th>\n",
              "      <td>La France est plus riche que jamais.</td>\n",
              "      <td>2012</td>\n",
              "      <td>503</td>\n",
              "      <td>3</td>\n",
              "      <td>31021_201206</td>\n",
              "      <td>31</td>\n",
              "      <td>31021</td>\n",
              "      <td>France</td>\n",
              "      <td>Front de Gauche</td>\n",
              "      <td>Left Front</td>\n",
              "    </tr>\n",
              "    <tr>\n",
              "      <th>1</th>\n",
              "      <td>Mais jamais non plus cette richesse n'a été au...</td>\n",
              "      <td>2012</td>\n",
              "      <td>503</td>\n",
              "      <td>4</td>\n",
              "      <td>31021_201206</td>\n",
              "      <td>31</td>\n",
              "      <td>31021</td>\n",
              "      <td>France</td>\n",
              "      <td>Front de Gauche</td>\n",
              "      <td>Left Front</td>\n",
              "    </tr>\n",
              "    <tr>\n",
              "      <th>2</th>\n",
              "      <td>Les réformes libérales qui se sont encore accé...</td>\n",
              "      <td>2012</td>\n",
              "      <td>503</td>\n",
              "      <td>5</td>\n",
              "      <td>31021_201206</td>\n",
              "      <td>31</td>\n",
              "      <td>31021</td>\n",
              "      <td>France</td>\n",
              "      <td>Front de Gauche</td>\n",
              "      <td>Left Front</td>\n",
              "    </tr>\n",
              "    <tr>\n",
              "      <th>3</th>\n",
              "      <td>La pauvreté et la précarité se sont étendues, ...</td>\n",
              "      <td>2012</td>\n",
              "      <td>503</td>\n",
              "      <td>6</td>\n",
              "      <td>31021_201206</td>\n",
              "      <td>31</td>\n",
              "      <td>31021</td>\n",
              "      <td>France</td>\n",
              "      <td>Front de Gauche</td>\n",
              "      <td>Left Front</td>\n",
              "    </tr>\n",
              "    <tr>\n",
              "      <th>4</th>\n",
              "      <td>L'égoïsme social des possédants viole l'intérê...</td>\n",
              "      <td>2012</td>\n",
              "      <td>503</td>\n",
              "      <td>7</td>\n",
              "      <td>31021_201206</td>\n",
              "      <td>31</td>\n",
              "      <td>31021</td>\n",
              "      <td>France</td>\n",
              "      <td>Front de Gauche</td>\n",
              "      <td>Left Front</td>\n",
              "    </tr>\n",
              "  </tbody>\n",
              "</table>\n",
              "</div>"
            ],
            "text/plain": [
              "                                                text  election code  pos  \\\n",
              "0               La France est plus riche que jamais.      2012  503    3   \n",
              "1  Mais jamais non plus cette richesse n'a été au...      2012  503    4   \n",
              "2  Les réformes libérales qui se sont encore accé...      2012  503    5   \n",
              "3  La pauvreté et la précarité se sont étendues, ...      2012  503    6   \n",
              "4  L'égoïsme social des possédants viole l'intérê...      2012  503    7   \n",
              "\n",
              "     party_code  country_code  party country             name name_english  \n",
              "0  31021_201206            31  31021  France  Front de Gauche   Left Front  \n",
              "1  31021_201206            31  31021  France  Front de Gauche   Left Front  \n",
              "2  31021_201206            31  31021  France  Front de Gauche   Left Front  \n",
              "3  31021_201206            31  31021  France  Front de Gauche   Left Front  \n",
              "4  31021_201206            31  31021  France  Front de Gauche   Left Front  "
            ]
          },
          "execution_count": 8,
          "metadata": {},
          "output_type": "execute_result"
        }
      ],
      "source": [
        "manifesto.head()"
      ]
    },
    {
      "cell_type": "code",
      "execution_count": 9,
      "metadata": {},
      "outputs": [],
      "source": [
        "def extract_code(code):\n",
        "    if len(code.split('.')) > 1:\n",
        "        return(int(code.split('.')[0]))\n",
        "    else:\n",
        "        return int(code)\n",
        "manifesto['code_extract'] = manifesto['code'].apply(extract_code)"
      ]
    },
    {
      "cell_type": "code",
      "execution_count": 10,
      "metadata": {},
      "outputs": [
        {
          "data": {
            "text/plain": [
              "56"
            ]
          },
          "execution_count": 10,
          "metadata": {},
          "output_type": "execute_result"
        }
      ],
      "source": [
        "len(set(manifesto.code_extract))"
      ]
    },
    {
      "cell_type": "code",
      "execution_count": 11,
      "metadata": {},
      "outputs": [],
      "source": [
        "def sentiment_code(code):\n",
        "    if code in [104,201,203,305,401,402,407,414,505,601,603,605,606,410]:                                       ## social - liberal                                                  \n",
        "        return('right')\n",
        "    elif code in [103,105,106,107,202,403,404,406,412,413,504,506,701,501,416]:                                             ## social - liberal                                 \n",
        "        return('left')\n",
        "    else:\n",
        "        return('neutral')\n",
        "\n",
        "    "
      ]
    },
    {
      "cell_type": "code",
      "execution_count": 12,
      "metadata": {},
      "outputs": [],
      "source": [
        "manifesto['sentiment'] = manifesto['code_extract'].apply(sentiment_code)"
      ]
    },
    {
      "cell_type": "code",
      "execution_count": 13,
      "metadata": {},
      "outputs": [
        {
          "data": {
            "text/html": [
              "<div>\n",
              "<style scoped>\n",
              "    .dataframe tbody tr th:only-of-type {\n",
              "        vertical-align: middle;\n",
              "    }\n",
              "\n",
              "    .dataframe tbody tr th {\n",
              "        vertical-align: top;\n",
              "    }\n",
              "\n",
              "    .dataframe thead th {\n",
              "        text-align: right;\n",
              "    }\n",
              "</style>\n",
              "<table border=\"1\" class=\"dataframe\">\n",
              "  <thead>\n",
              "    <tr style=\"text-align: right;\">\n",
              "      <th></th>\n",
              "      <th>text</th>\n",
              "      <th>election</th>\n",
              "      <th>code</th>\n",
              "      <th>pos</th>\n",
              "      <th>party_code</th>\n",
              "      <th>country_code</th>\n",
              "      <th>party</th>\n",
              "      <th>country</th>\n",
              "      <th>name</th>\n",
              "      <th>name_english</th>\n",
              "      <th>code_extract</th>\n",
              "    </tr>\n",
              "    <tr>\n",
              "      <th>sentiment</th>\n",
              "      <th></th>\n",
              "      <th></th>\n",
              "      <th></th>\n",
              "      <th></th>\n",
              "      <th></th>\n",
              "      <th></th>\n",
              "      <th></th>\n",
              "      <th></th>\n",
              "      <th></th>\n",
              "      <th></th>\n",
              "      <th></th>\n",
              "    </tr>\n",
              "  </thead>\n",
              "  <tbody>\n",
              "    <tr>\n",
              "      <th>left</th>\n",
              "      <td>116160</td>\n",
              "      <td>116160</td>\n",
              "      <td>116160</td>\n",
              "      <td>116160</td>\n",
              "      <td>116160</td>\n",
              "      <td>116160</td>\n",
              "      <td>116160</td>\n",
              "      <td>116160</td>\n",
              "      <td>116160</td>\n",
              "      <td>116160</td>\n",
              "      <td>116160</td>\n",
              "    </tr>\n",
              "    <tr>\n",
              "      <th>neutral</th>\n",
              "      <td>117309</td>\n",
              "      <td>117309</td>\n",
              "      <td>117309</td>\n",
              "      <td>117309</td>\n",
              "      <td>117309</td>\n",
              "      <td>117309</td>\n",
              "      <td>117309</td>\n",
              "      <td>117309</td>\n",
              "      <td>117309</td>\n",
              "      <td>117309</td>\n",
              "      <td>117309</td>\n",
              "    </tr>\n",
              "    <tr>\n",
              "      <th>right</th>\n",
              "      <td>54695</td>\n",
              "      <td>54695</td>\n",
              "      <td>54695</td>\n",
              "      <td>54695</td>\n",
              "      <td>54695</td>\n",
              "      <td>54695</td>\n",
              "      <td>54695</td>\n",
              "      <td>54695</td>\n",
              "      <td>54695</td>\n",
              "      <td>54695</td>\n",
              "      <td>54695</td>\n",
              "    </tr>\n",
              "  </tbody>\n",
              "</table>\n",
              "</div>"
            ],
            "text/plain": [
              "             text  election    code     pos  party_code  country_code   party  \\\n",
              "sentiment                                                                       \n",
              "left       116160    116160  116160  116160      116160        116160  116160   \n",
              "neutral    117309    117309  117309  117309      117309        117309  117309   \n",
              "right       54695     54695   54695   54695       54695         54695   54695   \n",
              "\n",
              "           country    name  name_english  code_extract  \n",
              "sentiment                                               \n",
              "left        116160  116160        116160        116160  \n",
              "neutral     117309  117309        117309        117309  \n",
              "right        54695   54695         54695         54695  "
            ]
          },
          "execution_count": 13,
          "metadata": {},
          "output_type": "execute_result"
        }
      ],
      "source": [
        "manifesto.groupby('sentiment').count()"
      ]
    },
    {
      "cell_type": "code",
      "execution_count": 14,
      "metadata": {},
      "outputs": [
        {
          "data": {
            "text/html": [
              "<div>\n",
              "<style scoped>\n",
              "    .dataframe tbody tr th:only-of-type {\n",
              "        vertical-align: middle;\n",
              "    }\n",
              "\n",
              "    .dataframe tbody tr th {\n",
              "        vertical-align: top;\n",
              "    }\n",
              "\n",
              "    .dataframe thead th {\n",
              "        text-align: right;\n",
              "    }\n",
              "</style>\n",
              "<table border=\"1\" class=\"dataframe\">\n",
              "  <thead>\n",
              "    <tr style=\"text-align: right;\">\n",
              "      <th></th>\n",
              "      <th></th>\n",
              "      <th>text</th>\n",
              "      <th>code</th>\n",
              "      <th>pos</th>\n",
              "      <th>party_code</th>\n",
              "      <th>country_code</th>\n",
              "      <th>party</th>\n",
              "      <th>name</th>\n",
              "      <th>name_english</th>\n",
              "      <th>code_extract</th>\n",
              "      <th>sentiment</th>\n",
              "    </tr>\n",
              "    <tr>\n",
              "      <th>country</th>\n",
              "      <th>election</th>\n",
              "      <th></th>\n",
              "      <th></th>\n",
              "      <th></th>\n",
              "      <th></th>\n",
              "      <th></th>\n",
              "      <th></th>\n",
              "      <th></th>\n",
              "      <th></th>\n",
              "      <th></th>\n",
              "      <th></th>\n",
              "    </tr>\n",
              "  </thead>\n",
              "  <tbody>\n",
              "    <tr>\n",
              "      <th rowspan=\"2\" valign=\"top\">France</th>\n",
              "      <th>2012</th>\n",
              "      <td>4809</td>\n",
              "      <td>4809</td>\n",
              "      <td>4809</td>\n",
              "      <td>4809</td>\n",
              "      <td>4809</td>\n",
              "      <td>4809</td>\n",
              "      <td>4809</td>\n",
              "      <td>4809</td>\n",
              "      <td>4809</td>\n",
              "      <td>4809</td>\n",
              "    </tr>\n",
              "    <tr>\n",
              "      <th>2017</th>\n",
              "      <td>3460</td>\n",
              "      <td>3460</td>\n",
              "      <td>3460</td>\n",
              "      <td>3460</td>\n",
              "      <td>3460</td>\n",
              "      <td>3460</td>\n",
              "      <td>3460</td>\n",
              "      <td>3460</td>\n",
              "      <td>3460</td>\n",
              "      <td>3460</td>\n",
              "    </tr>\n",
              "    <tr>\n",
              "      <th rowspan=\"7\" valign=\"top\">Germany</th>\n",
              "      <th>1998</th>\n",
              "      <td>6046</td>\n",
              "      <td>6046</td>\n",
              "      <td>6046</td>\n",
              "      <td>6046</td>\n",
              "      <td>6046</td>\n",
              "      <td>6046</td>\n",
              "      <td>6046</td>\n",
              "      <td>6046</td>\n",
              "      <td>6046</td>\n",
              "      <td>6046</td>\n",
              "    </tr>\n",
              "    <tr>\n",
              "      <th>2002</th>\n",
              "      <td>7339</td>\n",
              "      <td>7339</td>\n",
              "      <td>7339</td>\n",
              "      <td>7339</td>\n",
              "      <td>7339</td>\n",
              "      <td>7339</td>\n",
              "      <td>7339</td>\n",
              "      <td>7339</td>\n",
              "      <td>7339</td>\n",
              "      <td>7339</td>\n",
              "    </tr>\n",
              "    <tr>\n",
              "      <th>2005</th>\n",
              "      <td>5479</td>\n",
              "      <td>5479</td>\n",
              "      <td>5479</td>\n",
              "      <td>5479</td>\n",
              "      <td>5479</td>\n",
              "      <td>5479</td>\n",
              "      <td>5479</td>\n",
              "      <td>5479</td>\n",
              "      <td>5479</td>\n",
              "      <td>5479</td>\n",
              "    </tr>\n",
              "    <tr>\n",
              "      <th>2009</th>\n",
              "      <td>11624</td>\n",
              "      <td>11624</td>\n",
              "      <td>11624</td>\n",
              "      <td>11624</td>\n",
              "      <td>11624</td>\n",
              "      <td>11624</td>\n",
              "      <td>11624</td>\n",
              "      <td>11624</td>\n",
              "      <td>11624</td>\n",
              "      <td>11624</td>\n",
              "    </tr>\n",
              "    <tr>\n",
              "      <th>2013</th>\n",
              "      <td>17629</td>\n",
              "      <td>17629</td>\n",
              "      <td>17629</td>\n",
              "      <td>17629</td>\n",
              "      <td>17629</td>\n",
              "      <td>17629</td>\n",
              "      <td>17629</td>\n",
              "      <td>17629</td>\n",
              "      <td>17629</td>\n",
              "      <td>17629</td>\n",
              "    </tr>\n",
              "    <tr>\n",
              "      <th>2017</th>\n",
              "      <td>14779</td>\n",
              "      <td>14779</td>\n",
              "      <td>14779</td>\n",
              "      <td>14779</td>\n",
              "      <td>14779</td>\n",
              "      <td>14779</td>\n",
              "      <td>14779</td>\n",
              "      <td>14779</td>\n",
              "      <td>14779</td>\n",
              "      <td>14779</td>\n",
              "    </tr>\n",
              "    <tr>\n",
              "      <th>2021</th>\n",
              "      <td>18407</td>\n",
              "      <td>18407</td>\n",
              "      <td>18407</td>\n",
              "      <td>18407</td>\n",
              "      <td>18407</td>\n",
              "      <td>18407</td>\n",
              "      <td>18407</td>\n",
              "      <td>18407</td>\n",
              "      <td>18407</td>\n",
              "      <td>18407</td>\n",
              "    </tr>\n",
              "    <tr>\n",
              "      <th rowspan=\"4\" valign=\"top\">Italy</th>\n",
              "      <th>2001</th>\n",
              "      <td>3829</td>\n",
              "      <td>3829</td>\n",
              "      <td>3829</td>\n",
              "      <td>3829</td>\n",
              "      <td>3829</td>\n",
              "      <td>3829</td>\n",
              "      <td>3829</td>\n",
              "      <td>3829</td>\n",
              "      <td>3829</td>\n",
              "      <td>3829</td>\n",
              "    </tr>\n",
              "    <tr>\n",
              "      <th>2008</th>\n",
              "      <td>718</td>\n",
              "      <td>718</td>\n",
              "      <td>718</td>\n",
              "      <td>718</td>\n",
              "      <td>718</td>\n",
              "      <td>718</td>\n",
              "      <td>718</td>\n",
              "      <td>718</td>\n",
              "      <td>718</td>\n",
              "      <td>718</td>\n",
              "    </tr>\n",
              "    <tr>\n",
              "      <th>2013</th>\n",
              "      <td>4301</td>\n",
              "      <td>4301</td>\n",
              "      <td>4301</td>\n",
              "      <td>4301</td>\n",
              "      <td>4301</td>\n",
              "      <td>4301</td>\n",
              "      <td>4301</td>\n",
              "      <td>4301</td>\n",
              "      <td>4301</td>\n",
              "      <td>4301</td>\n",
              "    </tr>\n",
              "    <tr>\n",
              "      <th>2018</th>\n",
              "      <td>10881</td>\n",
              "      <td>10881</td>\n",
              "      <td>10881</td>\n",
              "      <td>10881</td>\n",
              "      <td>10881</td>\n",
              "      <td>10881</td>\n",
              "      <td>10881</td>\n",
              "      <td>10881</td>\n",
              "      <td>10881</td>\n",
              "      <td>10881</td>\n",
              "    </tr>\n",
              "    <tr>\n",
              "      <th rowspan=\"8\" valign=\"top\">Spain</th>\n",
              "      <th>1996</th>\n",
              "      <td>4378</td>\n",
              "      <td>4378</td>\n",
              "      <td>4378</td>\n",
              "      <td>4378</td>\n",
              "      <td>4378</td>\n",
              "      <td>4378</td>\n",
              "      <td>4378</td>\n",
              "      <td>4378</td>\n",
              "      <td>4378</td>\n",
              "      <td>4378</td>\n",
              "    </tr>\n",
              "    <tr>\n",
              "      <th>2000</th>\n",
              "      <td>16794</td>\n",
              "      <td>16794</td>\n",
              "      <td>16794</td>\n",
              "      <td>16794</td>\n",
              "      <td>16794</td>\n",
              "      <td>16794</td>\n",
              "      <td>16794</td>\n",
              "      <td>16794</td>\n",
              "      <td>16794</td>\n",
              "      <td>16794</td>\n",
              "    </tr>\n",
              "    <tr>\n",
              "      <th>2004</th>\n",
              "      <td>6725</td>\n",
              "      <td>6725</td>\n",
              "      <td>6725</td>\n",
              "      <td>6725</td>\n",
              "      <td>6725</td>\n",
              "      <td>6725</td>\n",
              "      <td>6725</td>\n",
              "      <td>6725</td>\n",
              "      <td>6725</td>\n",
              "      <td>6725</td>\n",
              "    </tr>\n",
              "    <tr>\n",
              "      <th>2008</th>\n",
              "      <td>17803</td>\n",
              "      <td>17803</td>\n",
              "      <td>17803</td>\n",
              "      <td>17803</td>\n",
              "      <td>17803</td>\n",
              "      <td>17803</td>\n",
              "      <td>17803</td>\n",
              "      <td>17803</td>\n",
              "      <td>17803</td>\n",
              "      <td>17803</td>\n",
              "    </tr>\n",
              "    <tr>\n",
              "      <th>2011</th>\n",
              "      <td>14910</td>\n",
              "      <td>14910</td>\n",
              "      <td>14910</td>\n",
              "      <td>14910</td>\n",
              "      <td>14910</td>\n",
              "      <td>14910</td>\n",
              "      <td>14910</td>\n",
              "      <td>14910</td>\n",
              "      <td>14910</td>\n",
              "      <td>14910</td>\n",
              "    </tr>\n",
              "    <tr>\n",
              "      <th>2015</th>\n",
              "      <td>23545</td>\n",
              "      <td>23545</td>\n",
              "      <td>23545</td>\n",
              "      <td>23545</td>\n",
              "      <td>23545</td>\n",
              "      <td>23545</td>\n",
              "      <td>23545</td>\n",
              "      <td>23545</td>\n",
              "      <td>23545</td>\n",
              "      <td>23545</td>\n",
              "    </tr>\n",
              "    <tr>\n",
              "      <th>2016</th>\n",
              "      <td>18511</td>\n",
              "      <td>18511</td>\n",
              "      <td>18511</td>\n",
              "      <td>18511</td>\n",
              "      <td>18511</td>\n",
              "      <td>18511</td>\n",
              "      <td>18511</td>\n",
              "      <td>18511</td>\n",
              "      <td>18511</td>\n",
              "      <td>18511</td>\n",
              "    </tr>\n",
              "    <tr>\n",
              "      <th>2019</th>\n",
              "      <td>29881</td>\n",
              "      <td>29881</td>\n",
              "      <td>29881</td>\n",
              "      <td>29881</td>\n",
              "      <td>29881</td>\n",
              "      <td>29881</td>\n",
              "      <td>29881</td>\n",
              "      <td>29881</td>\n",
              "      <td>29881</td>\n",
              "      <td>29881</td>\n",
              "    </tr>\n",
              "    <tr>\n",
              "      <th rowspan=\"5\" valign=\"top\">United Kingdom</th>\n",
              "      <th>1997</th>\n",
              "      <td>1451</td>\n",
              "      <td>1451</td>\n",
              "      <td>1451</td>\n",
              "      <td>1451</td>\n",
              "      <td>1451</td>\n",
              "      <td>1451</td>\n",
              "      <td>1451</td>\n",
              "      <td>1451</td>\n",
              "      <td>1451</td>\n",
              "      <td>1451</td>\n",
              "    </tr>\n",
              "    <tr>\n",
              "      <th>2001</th>\n",
              "      <td>2195</td>\n",
              "      <td>2195</td>\n",
              "      <td>2195</td>\n",
              "      <td>2195</td>\n",
              "      <td>2195</td>\n",
              "      <td>2195</td>\n",
              "      <td>2195</td>\n",
              "      <td>2195</td>\n",
              "      <td>2195</td>\n",
              "      <td>2195</td>\n",
              "    </tr>\n",
              "    <tr>\n",
              "      <th>2015</th>\n",
              "      <td>11033</td>\n",
              "      <td>11033</td>\n",
              "      <td>11033</td>\n",
              "      <td>11033</td>\n",
              "      <td>11033</td>\n",
              "      <td>11033</td>\n",
              "      <td>11033</td>\n",
              "      <td>11033</td>\n",
              "      <td>11033</td>\n",
              "      <td>11033</td>\n",
              "    </tr>\n",
              "    <tr>\n",
              "      <th>2017</th>\n",
              "      <td>6988</td>\n",
              "      <td>6988</td>\n",
              "      <td>6988</td>\n",
              "      <td>6988</td>\n",
              "      <td>6988</td>\n",
              "      <td>6988</td>\n",
              "      <td>6988</td>\n",
              "      <td>6988</td>\n",
              "      <td>6988</td>\n",
              "      <td>6988</td>\n",
              "    </tr>\n",
              "    <tr>\n",
              "      <th>2019</th>\n",
              "      <td>9269</td>\n",
              "      <td>9269</td>\n",
              "      <td>9269</td>\n",
              "      <td>9269</td>\n",
              "      <td>9269</td>\n",
              "      <td>9269</td>\n",
              "      <td>9269</td>\n",
              "      <td>9269</td>\n",
              "      <td>9269</td>\n",
              "      <td>9269</td>\n",
              "    </tr>\n",
              "    <tr>\n",
              "      <th rowspan=\"6\" valign=\"top\">United States</th>\n",
              "      <th>1992</th>\n",
              "      <td>383</td>\n",
              "      <td>383</td>\n",
              "      <td>383</td>\n",
              "      <td>383</td>\n",
              "      <td>383</td>\n",
              "      <td>383</td>\n",
              "      <td>383</td>\n",
              "      <td>383</td>\n",
              "      <td>383</td>\n",
              "      <td>383</td>\n",
              "    </tr>\n",
              "    <tr>\n",
              "      <th>2004</th>\n",
              "      <td>2644</td>\n",
              "      <td>2644</td>\n",
              "      <td>2644</td>\n",
              "      <td>2644</td>\n",
              "      <td>2644</td>\n",
              "      <td>2644</td>\n",
              "      <td>2644</td>\n",
              "      <td>2644</td>\n",
              "      <td>2644</td>\n",
              "      <td>2644</td>\n",
              "    </tr>\n",
              "    <tr>\n",
              "      <th>2008</th>\n",
              "      <td>1002</td>\n",
              "      <td>1002</td>\n",
              "      <td>1002</td>\n",
              "      <td>1002</td>\n",
              "      <td>1002</td>\n",
              "      <td>1002</td>\n",
              "      <td>1002</td>\n",
              "      <td>1002</td>\n",
              "      <td>1002</td>\n",
              "      <td>1002</td>\n",
              "    </tr>\n",
              "    <tr>\n",
              "      <th>2012</th>\n",
              "      <td>2893</td>\n",
              "      <td>2893</td>\n",
              "      <td>2893</td>\n",
              "      <td>2893</td>\n",
              "      <td>2893</td>\n",
              "      <td>2893</td>\n",
              "      <td>2893</td>\n",
              "      <td>2893</td>\n",
              "      <td>2893</td>\n",
              "      <td>2893</td>\n",
              "    </tr>\n",
              "    <tr>\n",
              "      <th>2016</th>\n",
              "      <td>3679</td>\n",
              "      <td>3679</td>\n",
              "      <td>3679</td>\n",
              "      <td>3679</td>\n",
              "      <td>3679</td>\n",
              "      <td>3679</td>\n",
              "      <td>3679</td>\n",
              "      <td>3679</td>\n",
              "      <td>3679</td>\n",
              "      <td>3679</td>\n",
              "    </tr>\n",
              "    <tr>\n",
              "      <th>2020</th>\n",
              "      <td>4779</td>\n",
              "      <td>4779</td>\n",
              "      <td>4779</td>\n",
              "      <td>4779</td>\n",
              "      <td>4779</td>\n",
              "      <td>4779</td>\n",
              "      <td>4779</td>\n",
              "      <td>4779</td>\n",
              "      <td>4779</td>\n",
              "      <td>4779</td>\n",
              "    </tr>\n",
              "  </tbody>\n",
              "</table>\n",
              "</div>"
            ],
            "text/plain": [
              "                          text   code    pos  party_code  country_code  party  \\\n",
              "country        election                                                         \n",
              "France         2012       4809   4809   4809        4809          4809   4809   \n",
              "               2017       3460   3460   3460        3460          3460   3460   \n",
              "Germany        1998       6046   6046   6046        6046          6046   6046   \n",
              "               2002       7339   7339   7339        7339          7339   7339   \n",
              "               2005       5479   5479   5479        5479          5479   5479   \n",
              "               2009      11624  11624  11624       11624         11624  11624   \n",
              "               2013      17629  17629  17629       17629         17629  17629   \n",
              "               2017      14779  14779  14779       14779         14779  14779   \n",
              "               2021      18407  18407  18407       18407         18407  18407   \n",
              "Italy          2001       3829   3829   3829        3829          3829   3829   \n",
              "               2008        718    718    718         718           718    718   \n",
              "               2013       4301   4301   4301        4301          4301   4301   \n",
              "               2018      10881  10881  10881       10881         10881  10881   \n",
              "Spain          1996       4378   4378   4378        4378          4378   4378   \n",
              "               2000      16794  16794  16794       16794         16794  16794   \n",
              "               2004       6725   6725   6725        6725          6725   6725   \n",
              "               2008      17803  17803  17803       17803         17803  17803   \n",
              "               2011      14910  14910  14910       14910         14910  14910   \n",
              "               2015      23545  23545  23545       23545         23545  23545   \n",
              "               2016      18511  18511  18511       18511         18511  18511   \n",
              "               2019      29881  29881  29881       29881         29881  29881   \n",
              "United Kingdom 1997       1451   1451   1451        1451          1451   1451   \n",
              "               2001       2195   2195   2195        2195          2195   2195   \n",
              "               2015      11033  11033  11033       11033         11033  11033   \n",
              "               2017       6988   6988   6988        6988          6988   6988   \n",
              "               2019       9269   9269   9269        9269          9269   9269   \n",
              "United States  1992        383    383    383         383           383    383   \n",
              "               2004       2644   2644   2644        2644          2644   2644   \n",
              "               2008       1002   1002   1002        1002          1002   1002   \n",
              "               2012       2893   2893   2893        2893          2893   2893   \n",
              "               2016       3679   3679   3679        3679          3679   3679   \n",
              "               2020       4779   4779   4779        4779          4779   4779   \n",
              "\n",
              "                          name  name_english  code_extract  sentiment  \n",
              "country        election                                                \n",
              "France         2012       4809          4809          4809       4809  \n",
              "               2017       3460          3460          3460       3460  \n",
              "Germany        1998       6046          6046          6046       6046  \n",
              "               2002       7339          7339          7339       7339  \n",
              "               2005       5479          5479          5479       5479  \n",
              "               2009      11624         11624         11624      11624  \n",
              "               2013      17629         17629         17629      17629  \n",
              "               2017      14779         14779         14779      14779  \n",
              "               2021      18407         18407         18407      18407  \n",
              "Italy          2001       3829          3829          3829       3829  \n",
              "               2008        718           718           718        718  \n",
              "               2013       4301          4301          4301       4301  \n",
              "               2018      10881         10881         10881      10881  \n",
              "Spain          1996       4378          4378          4378       4378  \n",
              "               2000      16794         16794         16794      16794  \n",
              "               2004       6725          6725          6725       6725  \n",
              "               2008      17803         17803         17803      17803  \n",
              "               2011      14910         14910         14910      14910  \n",
              "               2015      23545         23545         23545      23545  \n",
              "               2016      18511         18511         18511      18511  \n",
              "               2019      29881         29881         29881      29881  \n",
              "United Kingdom 1997       1451          1451          1451       1451  \n",
              "               2001       2195          2195          2195       2195  \n",
              "               2015      11033         11033         11033      11033  \n",
              "               2017       6988          6988          6988       6988  \n",
              "               2019       9269          9269          9269       9269  \n",
              "United States  1992        383           383           383        383  \n",
              "               2004       2644          2644          2644       2644  \n",
              "               2008       1002          1002          1002       1002  \n",
              "               2012       2893          2893          2893       2893  \n",
              "               2016       3679          3679          3679       3679  \n",
              "               2020       4779          4779          4779       4779  "
            ]
          },
          "execution_count": 14,
          "metadata": {},
          "output_type": "execute_result"
        }
      ],
      "source": [
        "manifesto.groupby(['country','election']).count()"
      ]
    },
    {
      "cell_type": "code",
      "execution_count": 15,
      "metadata": {},
      "outputs": [],
      "source": [
        "texts = manifesto['text'].tolist()"
      ]
    },
    {
      "cell_type": "code",
      "execution_count": 16,
      "metadata": {},
      "outputs": [
        {
          "name": "stdout",
          "output_type": "stream",
          "text": [
            "Mean length (word) is: 20.442796463125166\n",
            "Std length (word) is: 12.823326822581686\n",
            "Min length (word) is: 1\n",
            "Max length (word) is: 160\n"
          ]
        }
      ],
      "source": [
        "from statistics import stdev, mean\n",
        "## Before\n",
        "seq_len = [len(i.split()) for i in texts]\n",
        "seq_len_mean = mean(seq_len)\n",
        "seq_len_std = stdev(seq_len)\n",
        "seq_len_max = max(seq_len)\n",
        "seq_len_min = min(seq_len)\n",
        "print('Mean length (word) is: {}'.format(seq_len_mean))\n",
        "print('Std length (word) is: {}'.format(seq_len_std))\n",
        "print('Min length (word) is: {}'.format(seq_len_min))\n",
        "print('Max length (word) is: {}'.format(seq_len_max))"
      ]
    },
    {
      "cell_type": "code",
      "execution_count": 17,
      "metadata": {},
      "outputs": [
        {
          "data": {
            "text/plain": [
              "<AxesSubplot: >"
            ]
          },
          "execution_count": 17,
          "metadata": {},
          "output_type": "execute_result"
        },
        {
          "data": {
            "image/png": "[encoded data removed]",
            "text/plain": [
              "<Figure size 640x480 with 1 Axes>"
            ]
          },
          "metadata": {},
          "output_type": "display_data"
        }
      ],
      "source": [
        "pd.Series(seq_len).hist(bins = 30)"
      ]
    },
    {
      "cell_type": "code",
      "execution_count": 18,
      "metadata": {
        "id": "IGPWv2zaXmXf"
      },
      "outputs": [
        {
          "data": {
            "text/html": [
              "<div>\n",
              "<style scoped>\n",
              "    .dataframe tbody tr th:only-of-type {\n",
              "        vertical-align: middle;\n",
              "    }\n",
              "\n",
              "    .dataframe tbody tr th {\n",
              "        vertical-align: top;\n",
              "    }\n",
              "\n",
              "    .dataframe thead th {\n",
              "        text-align: right;\n",
              "    }\n",
              "</style>\n",
              "<table border=\"1\" class=\"dataframe\">\n",
              "  <thead>\n",
              "    <tr style=\"text-align: right;\">\n",
              "      <th></th>\n",
              "      <th>text</th>\n",
              "      <th>election</th>\n",
              "      <th>code</th>\n",
              "      <th>pos</th>\n",
              "      <th>party_code</th>\n",
              "      <th>country_code</th>\n",
              "      <th>party</th>\n",
              "      <th>country</th>\n",
              "      <th>name</th>\n",
              "      <th>name_english</th>\n",
              "      <th>code_extract</th>\n",
              "    </tr>\n",
              "    <tr>\n",
              "      <th>sentiment</th>\n",
              "      <th></th>\n",
              "      <th></th>\n",
              "      <th></th>\n",
              "      <th></th>\n",
              "      <th></th>\n",
              "      <th></th>\n",
              "      <th></th>\n",
              "      <th></th>\n",
              "      <th></th>\n",
              "      <th></th>\n",
              "      <th></th>\n",
              "    </tr>\n",
              "  </thead>\n",
              "  <tbody>\n",
              "    <tr>\n",
              "      <th>left</th>\n",
              "      <td>116160</td>\n",
              "      <td>116160</td>\n",
              "      <td>116160</td>\n",
              "      <td>116160</td>\n",
              "      <td>116160</td>\n",
              "      <td>116160</td>\n",
              "      <td>116160</td>\n",
              "      <td>116160</td>\n",
              "      <td>116160</td>\n",
              "      <td>116160</td>\n",
              "      <td>116160</td>\n",
              "    </tr>\n",
              "    <tr>\n",
              "      <th>neutral</th>\n",
              "      <td>117309</td>\n",
              "      <td>117309</td>\n",
              "      <td>117309</td>\n",
              "      <td>117309</td>\n",
              "      <td>117309</td>\n",
              "      <td>117309</td>\n",
              "      <td>117309</td>\n",
              "      <td>117309</td>\n",
              "      <td>117309</td>\n",
              "      <td>117309</td>\n",
              "      <td>117309</td>\n",
              "    </tr>\n",
              "    <tr>\n",
              "      <th>right</th>\n",
              "      <td>54695</td>\n",
              "      <td>54695</td>\n",
              "      <td>54695</td>\n",
              "      <td>54695</td>\n",
              "      <td>54695</td>\n",
              "      <td>54695</td>\n",
              "      <td>54695</td>\n",
              "      <td>54695</td>\n",
              "      <td>54695</td>\n",
              "      <td>54695</td>\n",
              "      <td>54695</td>\n",
              "    </tr>\n",
              "  </tbody>\n",
              "</table>\n",
              "</div>"
            ],
            "text/plain": [
              "             text  election    code     pos  party_code  country_code   party  \\\n",
              "sentiment                                                                       \n",
              "left       116160    116160  116160  116160      116160        116160  116160   \n",
              "neutral    117309    117309  117309  117309      117309        117309  117309   \n",
              "right       54695     54695   54695   54695       54695         54695   54695   \n",
              "\n",
              "           country    name  name_english  code_extract  \n",
              "sentiment                                               \n",
              "left        116160  116160        116160        116160  \n",
              "neutral     117309  117309        117309        117309  \n",
              "right        54695   54695         54695         54695  "
            ]
          },
          "execution_count": 18,
          "metadata": {},
          "output_type": "execute_result"
        }
      ],
      "source": [
        "manifesto.groupby('sentiment').count()"
      ]
    },
    {
      "cell_type": "code",
      "execution_count": 19,
      "metadata": {},
      "outputs": [],
      "source": [
        "manifesto['country_party_election_sentiment'] = manifesto.country.str.cat(others=[manifesto.name, manifesto.election.astype(str), \n",
        "manifesto.sentiment], sep='_')"
      ]
    },
    {
      "cell_type": "code",
      "execution_count": 20,
      "metadata": {},
      "outputs": [],
      "source": [
        "def group_texts(dataset, labels_col, text_col, group_factor=5):\n",
        "    results = []\n",
        "    labels = dataset[labels_col].tolist()\n",
        "    for label in set(labels):\n",
        "        ls_texts = []\n",
        "        current_label = dataset[dataset[labels_col] == label]\n",
        "        print(f'Length of {label} is: {len(current_label)}')\n",
        "        texts = current_label[text_col].tolist()\n",
        "        total_length = len(texts)\n",
        "        for i in range(0,total_length,group_factor):\n",
        "            text_to_append = ' '.join(texts[i:i+group_factor])\n",
        "            ls_texts.append(text_to_append)\n",
        "        result = {\n",
        "            'text': ls_texts,\n",
        "            'labels': label\n",
        "        }                  \n",
        "        results.append(result)\n",
        "    return(results)   "
      ]
    },
    {
      "cell_type": "code",
      "execution_count": null,
      "metadata": {},
      "outputs": [],
      "source": [
        "results = group_texts(manifesto, 'country_party_election_sentiment','text', group_factor = 3)"
      ]
    },
    {
      "cell_type": "code",
      "execution_count": 22,
      "metadata": {},
      "outputs": [],
      "source": [
        "manifesto_regrouped = pd.DataFrame(results)\n",
        "manifesto_regrouped = manifesto_regrouped.explode('text').reset_index(drop=True)"
      ]
    },
    {
      "cell_type": "code",
      "execution_count": 23,
      "metadata": {},
      "outputs": [],
      "source": [
        "df_cols = manifesto_regrouped['labels'].str.split('_', expand=True)\n",
        "manifesto_regrouped = pd.concat([manifesto_regrouped, df_cols], axis=1)"
      ]
    },
    {
      "cell_type": "code",
      "execution_count": 24,
      "metadata": {},
      "outputs": [],
      "source": [
        "manifesto_regrouped.columns = ['text', 'country_party_election_sentiment', 'country','party', 'election', 'sentiment']"
      ]
    },
    {
      "cell_type": "code",
      "execution_count": 25,
      "metadata": {},
      "outputs": [
        {
          "data": {
            "text/html": [
              "<div>\n",
              "<style scoped>\n",
              "    .dataframe tbody tr th:only-of-type {\n",
              "        vertical-align: middle;\n",
              "    }\n",
              "\n",
              "    .dataframe tbody tr th {\n",
              "        vertical-align: top;\n",
              "    }\n",
              "\n",
              "    .dataframe thead th {\n",
              "        text-align: right;\n",
              "    }\n",
              "</style>\n",
              "<table border=\"1\" class=\"dataframe\">\n",
              "  <thead>\n",
              "    <tr style=\"text-align: right;\">\n",
              "      <th></th>\n",
              "      <th>text</th>\n",
              "      <th>country_party_election_sentiment</th>\n",
              "      <th>country</th>\n",
              "      <th>party</th>\n",
              "      <th>election</th>\n",
              "      <th>sentiment</th>\n",
              "    </tr>\n",
              "  </thead>\n",
              "  <tbody>\n",
              "    <tr>\n",
              "      <th>0</th>\n",
              "      <td>Geroa Bai es una coalición formada por Zabaltz...</td>\n",
              "      <td>Spain_Geroa Bai_2011_right</td>\n",
              "      <td>Spain</td>\n",
              "      <td>Geroa Bai</td>\n",
              "      <td>2011</td>\n",
              "      <td>right</td>\n",
              "    </tr>\n",
              "    <tr>\n",
              "      <th>1</th>\n",
              "      <td>Por todo ello, Geroa Bai expresa el sentir de ...</td>\n",
              "      <td>Spain_Geroa Bai_2011_right</td>\n",
              "      <td>Spain</td>\n",
              "      <td>Geroa Bai</td>\n",
              "      <td>2011</td>\n",
              "      <td>right</td>\n",
              "    </tr>\n",
              "    <tr>\n",
              "      <th>2</th>\n",
              "      <td>Como formación electoral Geroa Bai es la apues...</td>\n",
              "      <td>Spain_Geroa Bai_2011_right</td>\n",
              "      <td>Spain</td>\n",
              "      <td>Geroa Bai</td>\n",
              "      <td>2011</td>\n",
              "      <td>right</td>\n",
              "    </tr>\n",
              "    <tr>\n",
              "      <th>3</th>\n",
              "      <td>Geroa Bai ofrece a la ciudadanía navarra una a...</td>\n",
              "      <td>Spain_Geroa Bai_2011_right</td>\n",
              "      <td>Spain</td>\n",
              "      <td>Geroa Bai</td>\n",
              "      <td>2011</td>\n",
              "      <td>right</td>\n",
              "    </tr>\n",
              "    <tr>\n",
              "      <th>4</th>\n",
              "      <td>Apoyamos esta afirmación en el comportamiento ...</td>\n",
              "      <td>Spain_Geroa Bai_2011_right</td>\n",
              "      <td>Spain</td>\n",
              "      <td>Geroa Bai</td>\n",
              "      <td>2011</td>\n",
              "      <td>right</td>\n",
              "    </tr>\n",
              "    <tr>\n",
              "      <th>...</th>\n",
              "      <td>...</td>\n",
              "      <td>...</td>\n",
              "      <td>...</td>\n",
              "      <td>...</td>\n",
              "      <td>...</td>\n",
              "      <td>...</td>\n",
              "    </tr>\n",
              "    <tr>\n",
              "      <th>96260</th>\n",
              "      <td>including by proposing an explicit role for Br...</td>\n",
              "      <td>United Kingdom_Liberal Democrats_2015_neutral</td>\n",
              "      <td>United Kingdom</td>\n",
              "      <td>Liberal Democrats</td>\n",
              "      <td>2015</td>\n",
              "      <td>neutral</td>\n",
              "    </tr>\n",
              "    <tr>\n",
              "      <th>96261</th>\n",
              "      <td>Reinforce the EU’s tools for tackling cross bo...</td>\n",
              "      <td>United Kingdom_Liberal Democrats_2015_neutral</td>\n",
              "      <td>United Kingdom</td>\n",
              "      <td>Liberal Democrats</td>\n",
              "      <td>2015</td>\n",
              "      <td>neutral</td>\n",
              "    </tr>\n",
              "    <tr>\n",
              "      <th>96262</th>\n",
              "      <td>while ensuring swift delivery of justice. Coop...</td>\n",
              "      <td>United Kingdom_Liberal Democrats_2015_neutral</td>\n",
              "      <td>United Kingdom</td>\n",
              "      <td>Liberal Democrats</td>\n",
              "      <td>2015</td>\n",
              "      <td>neutral</td>\n",
              "    </tr>\n",
              "    <tr>\n",
              "      <th>96263</th>\n",
              "      <td>Support EU free movement, which is hugely bene...</td>\n",
              "      <td>United Kingdom_Liberal Democrats_2015_neutral</td>\n",
              "      <td>United Kingdom</td>\n",
              "      <td>Liberal Democrats</td>\n",
              "      <td>2015</td>\n",
              "      <td>neutral</td>\n",
              "    </tr>\n",
              "    <tr>\n",
              "      <th>96264</th>\n",
              "      <td>Continue to work closely with other EU governm...</td>\n",
              "      <td>United Kingdom_Liberal Democrats_2015_neutral</td>\n",
              "      <td>United Kingdom</td>\n",
              "      <td>Liberal Democrats</td>\n",
              "      <td>2015</td>\n",
              "      <td>neutral</td>\n",
              "    </tr>\n",
              "  </tbody>\n",
              "</table>\n",
              "<p>96265 rows × 6 columns</p>\n",
              "</div>"
            ],
            "text/plain": [
              "                                                    text  \\\n",
              "0      Geroa Bai es una coalición formada por Zabaltz...   \n",
              "1      Por todo ello, Geroa Bai expresa el sentir de ...   \n",
              "2      Como formación electoral Geroa Bai es la apues...   \n",
              "3      Geroa Bai ofrece a la ciudadanía navarra una a...   \n",
              "4      Apoyamos esta afirmación en el comportamiento ...   \n",
              "...                                                  ...   \n",
              "96260  including by proposing an explicit role for Br...   \n",
              "96261  Reinforce the EU’s tools for tackling cross bo...   \n",
              "96262  while ensuring swift delivery of justice. Coop...   \n",
              "96263  Support EU free movement, which is hugely bene...   \n",
              "96264  Continue to work closely with other EU governm...   \n",
              "\n",
              "                    country_party_election_sentiment         country  \\\n",
              "0                         Spain_Geroa Bai_2011_right           Spain   \n",
              "1                         Spain_Geroa Bai_2011_right           Spain   \n",
              "2                         Spain_Geroa Bai_2011_right           Spain   \n",
              "3                         Spain_Geroa Bai_2011_right           Spain   \n",
              "4                         Spain_Geroa Bai_2011_right           Spain   \n",
              "...                                              ...             ...   \n",
              "96260  United Kingdom_Liberal Democrats_2015_neutral  United Kingdom   \n",
              "96261  United Kingdom_Liberal Democrats_2015_neutral  United Kingdom   \n",
              "96262  United Kingdom_Liberal Democrats_2015_neutral  United Kingdom   \n",
              "96263  United Kingdom_Liberal Democrats_2015_neutral  United Kingdom   \n",
              "96264  United Kingdom_Liberal Democrats_2015_neutral  United Kingdom   \n",
              "\n",
              "                   party election sentiment  \n",
              "0              Geroa Bai     2011     right  \n",
              "1              Geroa Bai     2011     right  \n",
              "2              Geroa Bai     2011     right  \n",
              "3              Geroa Bai     2011     right  \n",
              "4              Geroa Bai     2011     right  \n",
              "...                  ...      ...       ...  \n",
              "96260  Liberal Democrats     2015   neutral  \n",
              "96261  Liberal Democrats     2015   neutral  \n",
              "96262  Liberal Democrats     2015   neutral  \n",
              "96263  Liberal Democrats     2015   neutral  \n",
              "96264  Liberal Democrats     2015   neutral  \n",
              "\n",
              "[96265 rows x 6 columns]"
            ]
          },
          "execution_count": 25,
          "metadata": {},
          "output_type": "execute_result"
        }
      ],
      "source": [
        "manifesto_regrouped"
      ]
    },
    {
      "attachments": {},
      "cell_type": "markdown",
      "metadata": {},
      "source": [
        "### Classification with xlm-roberta-base"
      ]
    },
    {
      "cell_type": "code",
      "execution_count": 26,
      "metadata": {},
      "outputs": [],
      "source": [
        "transformer_model = 'xlm-roberta-base'\n",
        "tokenizer = AutoTokenizer.from_pretrained(transformer_model)\n",
        "data_collator = DataCollatorWithPadding(tokenizer)"
      ]
    },
    {
      "cell_type": "code",
      "execution_count": 27,
      "metadata": {},
      "outputs": [],
      "source": [
        "manifesto_reduced = manifesto_regrouped[['sentiment','text']]"
      ]
    },
    {
      "cell_type": "code",
      "execution_count": 28,
      "metadata": {},
      "outputs": [
        {
          "name": "stderr",
          "output_type": "stream",
          "text": [
            "Parameter 'function'=<function Dataset.class_encode_column.<locals>.cast_to_class_labels at 0x0000021AA2E90820> of the transform datasets.arrow_dataset.Dataset._map_single couldn't be hashed properly, a random hash was used instead. Make sure your transforms and parameters are serializable with pickle or dill for the dataset fingerprinting and caching to work. If you reuse this transform, the caching mechanism will consider it to be different from the previous calls and recompute everything. This warning is only showed once. Subsequent hashing failures won't be showed.\n"
          ]
        },
        {
          "data": {
            "application/vnd.jupyter.widget-view+json": {
              "model_id": "e292d62ebab24dec9596a12ac728dc56",
              "version_major": 2,
              "version_minor": 0
            },
            "text/plain": [
              "Casting to class labels:   0%|          | 0/97 [00:00<?, ?ba/s]"
            ]
          },
          "metadata": {},
          "output_type": "display_data"
        },
        {
          "data": {
            "application/vnd.jupyter.widget-view+json": {
              "model_id": "cfd368c72bcd4ed7a9edc9adf63b000a",
              "version_major": 2,
              "version_minor": 0
            },
            "text/plain": [
              "Casting the dataset:   0%|          | 0/10 [00:00<?, ?ba/s]"
            ]
          },
          "metadata": {},
          "output_type": "display_data"
        }
      ],
      "source": [
        "manifesto_dataset = Dataset.from_pandas(manifesto_reduced)\n",
        "manifesto_dataset = manifesto_dataset.class_encode_column('sentiment')\n",
        "manifesto_dataset = manifesto_dataset.rename_column('sentiment','labels')\n",
        "\n"
      ]
    },
    {
      "cell_type": "code",
      "execution_count": 29,
      "metadata": {},
      "outputs": [],
      "source": [
        "train_test = manifesto_dataset.train_test_split(test_size=0.2, stratify_by_column='labels', seed=seed_val)\n",
        "train_eval = train_test['train'].train_test_split(test_size=0.3, stratify_by_column='labels', seed=seed_val)"
      ]
    },
    {
      "cell_type": "code",
      "execution_count": 30,
      "metadata": {},
      "outputs": [
        {
          "data": {
            "text/plain": [
              "DatasetDict({\n",
              "    train: Dataset({\n",
              "        features: ['labels', 'text'],\n",
              "        num_rows: 53908\n",
              "    })\n",
              "    test: Dataset({\n",
              "        features: ['labels', 'text'],\n",
              "        num_rows: 19253\n",
              "    })\n",
              "    eval: Dataset({\n",
              "        features: ['labels', 'text'],\n",
              "        num_rows: 23104\n",
              "    })\n",
              "})"
            ]
          },
          "execution_count": 30,
          "metadata": {},
          "output_type": "execute_result"
        }
      ],
      "source": [
        "manifesto_datasets = DatasetDict({\n",
        "    'train': train_eval['train'],\n",
        "    'test': train_test['test'],\n",
        "    'eval': train_eval['test']\n",
        "})\n",
        "manifesto_datasets"
      ]
    },
    {
      "cell_type": "code",
      "execution_count": 31,
      "metadata": {},
      "outputs": [],
      "source": [
        "train_df = Dataset.to_pandas(manifesto_datasets['train'])"
      ]
    },
    {
      "cell_type": "code",
      "execution_count": 32,
      "metadata": {},
      "outputs": [
        {
          "name": "stdout",
          "output_type": "stream",
          "text": [
            "[0.82712697 0.81924562 1.75327674]\n"
          ]
        }
      ],
      "source": [
        "from sklearn.utils import class_weight\n",
        "class_weights = class_weight.compute_class_weight(class_weight='balanced', classes=np.unique(train_df.labels),y=train_df['labels'].tolist())\n",
        "print(class_weights)\n"
      ]
    },
    {
      "cell_type": "code",
      "execution_count": 33,
      "metadata": {},
      "outputs": [],
      "source": [
        "def tokenize_function(dataset):\n",
        "    return tokenizer(dataset['text'], truncation=True)\n"
      ]
    },
    {
      "cell_type": "code",
      "execution_count": 34,
      "metadata": {},
      "outputs": [
        {
          "data": {
            "application/vnd.jupyter.widget-view+json": {
              "model_id": "df177f38a8dd4ab8aceef29bd29cc2b3",
              "version_major": 2,
              "version_minor": 0
            },
            "text/plain": [
              "  0%|          | 0/54 [00:00<?, ?ba/s]"
            ]
          },
          "metadata": {},
          "output_type": "display_data"
        },
        {
          "data": {
            "application/vnd.jupyter.widget-view+json": {
              "model_id": "74d30d48f9df46948b47269dc34f4acc",
              "version_major": 2,
              "version_minor": 0
            },
            "text/plain": [
              "  0%|          | 0/20 [00:00<?, ?ba/s]"
            ]
          },
          "metadata": {},
          "output_type": "display_data"
        },
        {
          "data": {
            "application/vnd.jupyter.widget-view+json": {
              "model_id": "551c3c292c4d48979c1aab9d98225b2b",
              "version_major": 2,
              "version_minor": 0
            },
            "text/plain": [
              "  0%|          | 0/24 [00:00<?, ?ba/s]"
            ]
          },
          "metadata": {},
          "output_type": "display_data"
        }
      ],
      "source": [
        "tokenized_datasets = manifesto_datasets.map(tokenize_function, batched=True, remove_columns=['text'])"
      ]
    },
    {
      "cell_type": "code",
      "execution_count": 35,
      "metadata": {},
      "outputs": [
        {
          "data": {
            "text/plain": [
              "['labels', 'input_ids', 'attention_mask']"
            ]
          },
          "execution_count": 35,
          "metadata": {},
          "output_type": "execute_result"
        }
      ],
      "source": [
        "tokenized_datasets.set_format(\"torch\")\n",
        "tokenized_datasets[\"train\"].column_names"
      ]
    },
    {
      "cell_type": "code",
      "execution_count": 36,
      "metadata": {},
      "outputs": [
        {
          "name": "stderr",
          "output_type": "stream",
          "text": [
            "Some weights of the model checkpoint at xlm-roberta-base were not used when initializing XLMRobertaForSequenceClassification: ['roberta.pooler.dense.weight', 'lm_head.bias', 'lm_head.decoder.weight', 'roberta.pooler.dense.bias', 'lm_head.layer_norm.bias', 'lm_head.dense.bias', 'lm_head.dense.weight', 'lm_head.layer_norm.weight']\n",
            "- This IS expected if you are initializing XLMRobertaForSequenceClassification from the checkpoint of a model trained on another task or with another architecture (e.g. initializing a BertForSequenceClassification model from a BertForPreTraining model).\n",
            "- This IS NOT expected if you are initializing XLMRobertaForSequenceClassification from the checkpoint of a model that you expect to be exactly identical (initializing a BertForSequenceClassification model from a BertForSequenceClassification model).\n",
            "Some weights of XLMRobertaForSequenceClassification were not initialized from the model checkpoint at xlm-roberta-base and are newly initialized: ['classifier.out_proj.bias', 'classifier.dense.bias', 'classifier.out_proj.weight', 'classifier.dense.weight']\n",
            "You should probably TRAIN this model on a down-stream task to be able to use it for predictions and inference.\n"
          ]
        }
      ],
      "source": [
        "num_classes = len(set(manifesto['sentiment']))\n",
        "model = XLMRobertaForSequenceClassification.from_pretrained(transformer_model, num_labels=num_classes).to(device)\n"
      ]
    },
    {
      "cell_type": "code",
      "execution_count": 37,
      "metadata": {},
      "outputs": [],
      "source": [
        "class CustomTrainer(Trainer):\n",
        "    def compute_loss(self, model, inputs, return_outputs=False):\n",
        "        labels = inputs.get(\"labels\")\n",
        "        # forward pass\n",
        "        outputs = model(**inputs)\n",
        "        logits = outputs.get(\"logits\")\n",
        "        loss_fct = nn.CrossEntropyLoss(weight=torch.tensor(class_weights).float().to(device))\n",
        "        loss = loss_fct(logits.view(-1, self.model.config.num_labels), labels.view(-1))\n",
        "        return (loss, outputs) if return_outputs else loss"
      ]
    },
    {
      "cell_type": "code",
      "execution_count": 51,
      "metadata": {},
      "outputs": [],
      "source": [
        "## Declare important variables\n",
        "batch_size = 32\n",
        "num_epochs = 3\n",
        "total_steps = len(tokenized_datasets['train'])/batch_size*num_epochs\n",
        "logging_steps = total_steps//10\n",
        "lr = 2e-5"
      ]
    },
    {
      "cell_type": "code",
      "execution_count": 52,
      "metadata": {},
      "outputs": [
        {
          "name": "stderr",
          "output_type": "stream",
          "text": [
            "PyTorch: setting up devices\n",
            "The default value for the training argument `--report_to` will change in v5 (from all installed integrations to none). In v5, you will need to use `--report_to all` to get the same behavior as now. You should start updating your code and make this info disappear :-).\n"
          ]
        }
      ],
      "source": [
        "training_args = TrainingArguments(\n",
        "    output_dir=\"results/multilingual/manifesto_3cl\",\n",
        "    overwrite_output_dir=True,\n",
        "    evaluation_strategy=\"epoch\",\n",
        "    learning_rate=lr,\n",
        "    weight_decay=0.01,\n",
        "    per_device_train_batch_size=batch_size,\n",
        "    per_device_eval_batch_size=batch_size,\n",
        "    fp16=True,\n",
        "    logging_steps= logging_steps,\n",
        "    num_train_epochs = num_epochs,\n",
        "    save_strategy='epoch',\n",
        "    load_best_model_at_end=True,\n",
        "    optim='adamw_torch'\n",
        ")"
      ]
    },
    {
      "cell_type": "code",
      "execution_count": 53,
      "metadata": {},
      "outputs": [
        {
          "name": "stderr",
          "output_type": "stream",
          "text": [
            "Using cuda_amp half precision backend\n"
          ]
        }
      ],
      "source": [
        "def compute_metrics(eval_preds):\n",
        "    logits, labels = eval_preds\n",
        "    predictions = np.argmax(logits, axis=-1)\n",
        "    precision, recall, f1, _ = precision_recall_fscore_support(labels, predictions, average=None)\n",
        "    matrix = confusion_matrix(labels, predictions)\n",
        "    acc = matrix.diagonal()/matrix.sum(axis=1)\n",
        "    return {\n",
        "        'precision': precision.tolist(),\n",
        "        'recall': recall.tolist(),\n",
        "        'f1': f1.tolist(),\n",
        "        'accuracy': acc.tolist()\n",
        "    }\n",
        "trainer = CustomTrainer(\n",
        "    model,\n",
        "    training_args,\n",
        "    train_dataset=tokenized_datasets[\"train\"],\n",
        "    eval_dataset=tokenized_datasets[\"eval\"],\n",
        "    tokenizer=tokenizer,\n",
        "    compute_metrics=compute_metrics,\n",
        "    data_collator=data_collator\n",
        ")"
      ]
    },
    {
      "cell_type": "code",
      "execution_count": 54,
      "metadata": {},
      "outputs": [
        {
          "name": "stderr",
          "output_type": "stream",
          "text": [
            "***** Running training *****\n",
            "  Num examples = 53908\n",
            "  Num Epochs = 3\n",
            "  Instantaneous batch size per device = 32\n",
            "  Total train batch size (w. parallel, distributed & accumulation) = 32\n",
            "  Gradient Accumulation steps = 1\n",
            "  Total optimization steps = 5055\n",
            "  Number of trainable parameters = 278045955\n"
          ]
        },
        {
          "data": {
            "application/vnd.jupyter.widget-view+json": {
              "model_id": "ad6109980dde49299b1f9e4278a48b2c",
              "version_major": 2,
              "version_minor": 0
            },
            "text/plain": [
              "  0%|          | 0/5055 [00:00<?, ?it/s]"
            ]
          },
          "metadata": {},
          "output_type": "display_data"
        },
        {
          "name": "stderr",
          "output_type": "stream",
          "text": [
            "You're using a XLMRobertaTokenizerFast tokenizer. Please note that with a fast tokenizer, using the `__call__` method is faster than using a method to encode the text followed by a call to the `pad` method to get a padded encoding.\n"
          ]
        },
        {
          "name": "stdout",
          "output_type": "stream",
          "text": [
            "{'loss': 0.8447, 'learning_rate': 1.8021760633036597e-05, 'epoch': 0.3}\n",
            "{'loss': 0.6735, 'learning_rate': 1.6023738872403564e-05, 'epoch': 0.6}\n",
            "{'loss': 0.6164, 'learning_rate': 1.4025717111770526e-05, 'epoch': 0.9}\n"
          ]
        },
        {
          "name": "stderr",
          "output_type": "stream",
          "text": [
            "***** Running Evaluation *****\n",
            "  Num examples = 23104\n",
            "  Batch size = 32\n"
          ]
        },
        {
          "data": {
            "application/vnd.jupyter.widget-view+json": {
              "model_id": "36c7987a52d9412bbfdd0aa43965771e",
              "version_major": 2,
              "version_minor": 0
            },
            "text/plain": [
              "  0%|          | 0/722 [00:00<?, ?it/s]"
            ]
          },
          "metadata": {},
          "output_type": "display_data"
        },
        {
          "name": "stderr",
          "output_type": "stream",
          "text": [
            "Trainer is attempting to log a value of \"[0.8314375605033882, 0.8171049514333096, 0.5873710534542045]\" of type <class 'list'> for key \"eval/precision\" as a scalar. This invocation of Tensorboard's writer.add_scalar() is incorrect so we dropped this attribute.\n",
            "Trainer is attempting to log a value of \"[0.7380236305048335, 0.7337517285395171, 0.8554518552242204]\" of type <class 'list'> for key \"eval/recall\" as a scalar. This invocation of Tensorboard's writer.add_scalar() is incorrect so we dropped this attribute.\n",
            "Trainer is attempting to log a value of \"[0.7819506088539889, 0.7731883651852267, 0.6965063478824947]\" of type <class 'list'> for key \"eval/f1\" as a scalar. This invocation of Tensorboard's writer.add_scalar() is incorrect so we dropped this attribute.\n",
            "Trainer is attempting to log a value of \"[0.7380236305048335, 0.7337517285395171, 0.8554518552242204]\" of type <class 'list'> for key \"eval/accuracy\" as a scalar. This invocation of Tensorboard's writer.add_scalar() is incorrect so we dropped this attribute.\n",
            "Saving model checkpoint to results/multilingual/manifesto_3cl\\checkpoint-1685\n",
            "Configuration saved in results/multilingual/manifesto_3cl\\checkpoint-1685\\config.json\n"
          ]
        },
        {
          "name": "stdout",
          "output_type": "stream",
          "text": [
            "{'eval_loss': 0.5913817286491394, 'eval_precision': [0.8314375605033882, 0.8171049514333096, 0.5873710534542045], 'eval_recall': [0.7380236305048335, 0.7337517285395171, 0.8554518552242204], 'eval_f1': [0.7819506088539889, 0.7731883651852267, 0.6965063478824947], 'eval_accuracy': [0.7380236305048335, 0.7337517285395171, 0.8554518552242204], 'eval_runtime': 36.7439, 'eval_samples_per_second': 628.785, 'eval_steps_per_second': 19.65, 'epoch': 1.0}\n"
          ]
        },
        {
          "name": "stderr",
          "output_type": "stream",
          "text": [
            "Model weights saved in results/multilingual/manifesto_3cl\\checkpoint-1685\\pytorch_model.bin\n",
            "tokenizer config file saved in results/multilingual/manifesto_3cl\\checkpoint-1685\\tokenizer_config.json\n",
            "Special tokens file saved in results/multilingual/manifesto_3cl\\checkpoint-1685\\special_tokens_map.json\n"
          ]
        },
        {
          "name": "stdout",
          "output_type": "stream",
          "text": [
            "{'loss': 0.5355, 'learning_rate': 1.2031651829871416e-05, 'epoch': 1.2}\n",
            "{'loss': 0.4943, 'learning_rate': 1.0033630069238378e-05, 'epoch': 1.5}\n",
            "{'loss': 0.4638, 'learning_rate': 8.035608308605341e-06, 'epoch': 1.8}\n"
          ]
        },
        {
          "name": "stderr",
          "output_type": "stream",
          "text": [
            "***** Running Evaluation *****\n",
            "  Num examples = 23104\n",
            "  Batch size = 32\n"
          ]
        },
        {
          "data": {
            "application/vnd.jupyter.widget-view+json": {
              "model_id": "db2f31c3145c46018e524281762ec6fc",
              "version_major": 2,
              "version_minor": 0
            },
            "text/plain": [
              "  0%|          | 0/722 [00:00<?, ?it/s]"
            ]
          },
          "metadata": {},
          "output_type": "display_data"
        },
        {
          "name": "stderr",
          "output_type": "stream",
          "text": [
            "Trainer is attempting to log a value of \"[0.8219533275713051, 0.854404209998747, 0.6355888869950571]\" of type <class 'list'> for key \"eval/precision\" as a scalar. This invocation of Tensorboard's writer.add_scalar() is incorrect so we dropped this attribute.\n",
            "Trainer is attempting to log a value of \"[0.8171858216970999, 0.7253483671949793, 0.8488504438880037]\" of type <class 'list'> for key \"eval/recall\" as a scalar. This invocation of Tensorboard's writer.add_scalar() is incorrect so we dropped this attribute.\n",
            "Trainer is attempting to log a value of \"[0.8195626413874825, 0.7846047635484985, 0.7269005847953216]\" of type <class 'list'> for key \"eval/f1\" as a scalar. This invocation of Tensorboard's writer.add_scalar() is incorrect so we dropped this attribute.\n",
            "Trainer is attempting to log a value of \"[0.8171858216970999, 0.7253483671949793, 0.8488504438880037]\" of type <class 'list'> for key \"eval/accuracy\" as a scalar. This invocation of Tensorboard's writer.add_scalar() is incorrect so we dropped this attribute.\n",
            "Saving model checkpoint to results/multilingual/manifesto_3cl\\checkpoint-3370\n",
            "Configuration saved in results/multilingual/manifesto_3cl\\checkpoint-3370\\config.json\n"
          ]
        },
        {
          "name": "stdout",
          "output_type": "stream",
          "text": [
            "{'eval_loss': 0.5324077010154724, 'eval_precision': [0.8219533275713051, 0.854404209998747, 0.6355888869950571], 'eval_recall': [0.8171858216970999, 0.7253483671949793, 0.8488504438880037], 'eval_f1': [0.8195626413874825, 0.7846047635484985, 0.7269005847953216], 'eval_accuracy': [0.8171858216970999, 0.7253483671949793, 0.8488504438880037], 'eval_runtime': 36.1619, 'eval_samples_per_second': 638.904, 'eval_steps_per_second': 19.966, 'epoch': 2.0}\n"
          ]
        },
        {
          "name": "stderr",
          "output_type": "stream",
          "text": [
            "Model weights saved in results/multilingual/manifesto_3cl\\checkpoint-3370\\pytorch_model.bin\n",
            "tokenizer config file saved in results/multilingual/manifesto_3cl\\checkpoint-3370\\tokenizer_config.json\n",
            "Special tokens file saved in results/multilingual/manifesto_3cl\\checkpoint-3370\\special_tokens_map.json\n"
          ]
        },
        {
          "name": "stdout",
          "output_type": "stream",
          "text": [
            "{'loss': 0.4298, 'learning_rate': 6.037586547972305e-06, 'epoch': 2.1}\n",
            "{'loss': 0.3747, 'learning_rate': 4.0395647873392686e-06, 'epoch': 2.4}\n",
            "{'loss': 0.3568, 'learning_rate': 2.0454995054401585e-06, 'epoch': 2.7}\n",
            "{'loss': 0.3655, 'learning_rate': 4.747774480712166e-08, 'epoch': 3.0}\n"
          ]
        },
        {
          "name": "stderr",
          "output_type": "stream",
          "text": [
            "***** Running Evaluation *****\n",
            "  Num examples = 23104\n",
            "  Batch size = 32\n"
          ]
        },
        {
          "data": {
            "application/vnd.jupyter.widget-view+json": {
              "model_id": "54da42323afd4a89b60aeb5679a59177",
              "version_major": 2,
              "version_minor": 0
            },
            "text/plain": [
              "  0%|          | 0/722 [00:00<?, ?it/s]"
            ]
          },
          "metadata": {},
          "output_type": "display_data"
        },
        {
          "name": "stderr",
          "output_type": "stream",
          "text": [
            "Trainer is attempting to log a value of \"[0.8306224246367382, 0.8401392111368909, 0.6843405549220829]\" of type <class 'list'> for key \"eval/precision\" as a scalar. This invocation of Tensorboard's writer.add_scalar() is incorrect so we dropped this attribute.\n",
            "Trainer is attempting to log a value of \"[0.8227712137486574, 0.7703435804701627, 0.819713180059185]\" of type <class 'list'> for key \"eval/recall\" as a scalar. This invocation of Tensorboard's writer.add_scalar() is incorrect so we dropped this attribute.\n",
            "Trainer is attempting to log a value of \"[0.8266781782862076, 0.8037289828533378, 0.7459347488348006]\" of type <class 'list'> for key \"eval/f1\" as a scalar. This invocation of Tensorboard's writer.add_scalar() is incorrect so we dropped this attribute.\n",
            "Trainer is attempting to log a value of \"[0.8227712137486574, 0.7703435804701627, 0.819713180059185]\" of type <class 'list'> for key \"eval/accuracy\" as a scalar. This invocation of Tensorboard's writer.add_scalar() is incorrect so we dropped this attribute.\n",
            "Saving model checkpoint to results/multilingual/manifesto_3cl\\checkpoint-5055\n",
            "Configuration saved in results/multilingual/manifesto_3cl\\checkpoint-5055\\config.json\n"
          ]
        },
        {
          "name": "stdout",
          "output_type": "stream",
          "text": [
            "{'eval_loss': 0.5480526089668274, 'eval_precision': [0.8306224246367382, 0.8401392111368909, 0.6843405549220829], 'eval_recall': [0.8227712137486574, 0.7703435804701627, 0.819713180059185], 'eval_f1': [0.8266781782862076, 0.8037289828533378, 0.7459347488348006], 'eval_accuracy': [0.8227712137486574, 0.7703435804701627, 0.819713180059185], 'eval_runtime': 36.0514, 'eval_samples_per_second': 640.863, 'eval_steps_per_second': 20.027, 'epoch': 3.0}\n"
          ]
        },
        {
          "name": "stderr",
          "output_type": "stream",
          "text": [
            "Model weights saved in results/multilingual/manifesto_3cl\\checkpoint-5055\\pytorch_model.bin\n",
            "tokenizer config file saved in results/multilingual/manifesto_3cl\\checkpoint-5055\\tokenizer_config.json\n",
            "Special tokens file saved in results/multilingual/manifesto_3cl\\checkpoint-5055\\special_tokens_map.json\n",
            "\n",
            "\n",
            "Training completed. Do not forget to share your model on huggingface.co/models =)\n",
            "\n",
            "\n",
            "Loading best model from results/multilingual/manifesto_3cl\\checkpoint-3370 (score: 0.5324077010154724).\n"
          ]
        },
        {
          "name": "stdout",
          "output_type": "stream",
          "text": [
            "{'train_runtime': 1095.0836, 'train_samples_per_second': 147.682, 'train_steps_per_second': 4.616, 'train_loss': 0.5152700626060116, 'epoch': 3.0}\n"
          ]
        },
        {
          "data": {
            "text/plain": [
              "TrainOutput(global_step=5055, training_loss=0.5152700626060116, metrics={'train_runtime': 1095.0836, 'train_samples_per_second': 147.682, 'train_steps_per_second': 4.616, 'train_loss': 0.5152700626060116, 'epoch': 3.0})"
            ]
          },
          "execution_count": 54,
          "metadata": {},
          "output_type": "execute_result"
        }
      ],
      "source": [
        "trainer.train()"
      ]
    },
    {
      "cell_type": "code",
      "execution_count": 55,
      "metadata": {},
      "outputs": [
        {
          "name": "stderr",
          "output_type": "stream",
          "text": [
            "***** Running Evaluation *****\n",
            "  Num examples = 19253\n",
            "  Batch size = 32\n"
          ]
        },
        {
          "data": {
            "application/vnd.jupyter.widget-view+json": {
              "model_id": "ce92fe0ca48e4093b838bd398103dbbc",
              "version_major": 2,
              "version_minor": 0
            },
            "text/plain": [
              "  0%|          | 0/602 [00:00<?, ?it/s]"
            ]
          },
          "metadata": {},
          "output_type": "display_data"
        },
        {
          "name": "stderr",
          "output_type": "stream",
          "text": [
            "Trainer is attempting to log a value of \"[0.8221993833504625, 0.8603543248474022, 0.6452020202020202]\" of type <class 'list'> for key \"eval/precision\" as a scalar. This invocation of Tensorboard's writer.add_scalar() is incorrect so we dropped this attribute.\n",
            "Trainer is attempting to log a value of \"[0.8249548852797113, 0.7376818994128159, 0.8374760994263862]\" of type <class 'list'> for key \"eval/recall\" as a scalar. This invocation of Tensorboard's writer.add_scalar() is incorrect so we dropped this attribute.\n",
            "Trainer is attempting to log a value of \"[0.8235748294942736, 0.7943096694385265, 0.7288719838345418]\" of type <class 'list'> for key \"eval/f1\" as a scalar. This invocation of Tensorboard's writer.add_scalar() is incorrect so we dropped this attribute.\n",
            "Trainer is attempting to log a value of \"[0.8249548852797113, 0.7376818994128159, 0.8374760994263862]\" of type <class 'list'> for key \"eval/accuracy\" as a scalar. This invocation of Tensorboard's writer.add_scalar() is incorrect so we dropped this attribute.\n"
          ]
        },
        {
          "name": "stdout",
          "output_type": "stream",
          "text": [
            "0.7822521609224472\n"
          ]
        }
      ],
      "source": [
        "res = trainer.evaluate(tokenized_datasets['test'])\n",
        "print(sum(res['eval_f1'])/num_classes)"
      ]
    },
    {
      "cell_type": "code",
      "execution_count": 56,
      "metadata": {},
      "outputs": [
        {
          "data": {
            "text/html": [
              "<div>\n",
              "<style scoped>\n",
              "    .dataframe tbody tr th:only-of-type {\n",
              "        vertical-align: middle;\n",
              "    }\n",
              "\n",
              "    .dataframe tbody tr th {\n",
              "        vertical-align: top;\n",
              "    }\n",
              "\n",
              "    .dataframe thead th {\n",
              "        text-align: right;\n",
              "    }\n",
              "</style>\n",
              "<table border=\"1\" class=\"dataframe\">\n",
              "  <thead>\n",
              "    <tr style=\"text-align: right;\">\n",
              "      <th></th>\n",
              "      <th>f1</th>\n",
              "      <th>precision</th>\n",
              "      <th>recall</th>\n",
              "      <th>accuracy</th>\n",
              "    </tr>\n",
              "  </thead>\n",
              "  <tbody>\n",
              "    <tr>\n",
              "      <th>0</th>\n",
              "      <td>0.82</td>\n",
              "      <td>0.82</td>\n",
              "      <td>0.82</td>\n",
              "      <td>0.82</td>\n",
              "    </tr>\n",
              "    <tr>\n",
              "      <th>1</th>\n",
              "      <td>0.79</td>\n",
              "      <td>0.86</td>\n",
              "      <td>0.74</td>\n",
              "      <td>0.74</td>\n",
              "    </tr>\n",
              "    <tr>\n",
              "      <th>2</th>\n",
              "      <td>0.73</td>\n",
              "      <td>0.65</td>\n",
              "      <td>0.84</td>\n",
              "      <td>0.84</td>\n",
              "    </tr>\n",
              "  </tbody>\n",
              "</table>\n",
              "</div>"
            ],
            "text/plain": [
              "     f1  precision  recall  accuracy\n",
              "0  0.82       0.82    0.82      0.82\n",
              "1  0.79       0.86    0.74      0.74\n",
              "2  0.73       0.65    0.84      0.84"
            ]
          },
          "execution_count": 56,
          "metadata": {},
          "output_type": "execute_result"
        }
      ],
      "source": [
        "res_table = pd.DataFrame({'f1': np.round(res['eval_f1'],2), 'precision': np.round(res['eval_precision'],2), \n",
        "'recall': np.round(res['eval_recall'],2), 'accuracy': np.round(res['eval_accuracy'],2)})\n",
        "res_table"
      ]
    },
    {
      "cell_type": "code",
      "execution_count": 57,
      "metadata": {},
      "outputs": [
        {
          "data": {
            "text/plain": [
              "f1           0.78\n",
              "precision    0.78\n",
              "recall       0.80\n",
              "accuracy     0.80\n",
              "dtype: float64"
            ]
          },
          "execution_count": 57,
          "metadata": {},
          "output_type": "execute_result"
        }
      ],
      "source": [
        "round(res_table.mean(axis=0),2)"
      ]
    },
    {
      "attachments": {},
      "cell_type": "markdown",
      "metadata": {},
      "source": [
        "### Scaling with Sentence Transformer and supervised dimensionality reduction"
      ]
    },
    {
      "attachments": {},
      "cell_type": "markdown",
      "metadata": {},
      "source": [
        "#### Sentence Transformer to extract sentence embeddings"
      ]
    },
    {
      "attachments": {},
      "cell_type": "markdown",
      "metadata": {},
      "source": [
        "#### Manual neural network (UMAP + autoencoders)"
      ]
    },
    {
      "attachments": {},
      "cell_type": "markdown",
      "metadata": {},
      "source": [
        "## Validation: Comparing classification performances"
      ]
    },
    {
      "attachments": {},
      "cell_type": "markdown",
      "metadata": {},
      "source": [
        "#### Bags-of-words with TF-IDF"
      ]
    },
    {
      "cell_type": "code",
      "execution_count": 79,
      "metadata": {},
      "outputs": [],
      "source": [
        "## Preprocessing for bag-of-words and word2vec models is a little different (pre-trained)\n",
        "## Tokenizer - use gensim's tokenizer \n",
        "def clean_text(text, stopwords):\n",
        "    custom_filters = [lambda x: x.lower(), strip_tags, strip_punctuation, strip_numeric, strip_multiple_whitespaces]\n",
        "    text = preprocess_string(text, custom_filters)\n",
        "    tokens = [w for w in text if w not in stopwords]\n",
        "    return ' '.join(tokens)\n"
      ]
    },
    {
      "cell_type": "code",
      "execution_count": 80,
      "metadata": {},
      "outputs": [
        {
          "data": {
            "text/plain": [
              "{'France', 'Germany', 'Italy', 'Spain', 'United Kingdom'}"
            ]
          },
          "execution_count": 80,
          "metadata": {},
          "output_type": "execute_result"
        }
      ],
      "source": [
        "set(manifesto_regrouped['country'])"
      ]
    },
    {
      "cell_type": "code",
      "execution_count": 81,
      "metadata": {},
      "outputs": [
        {
          "name": "stdout",
          "output_type": "stream",
          "text": [
            "Cleaning the 0th sentence\n",
            "Cleaning the 1000th sentence\n",
            "Cleaning the 2000th sentence\n",
            "Cleaning the 3000th sentence\n",
            "Cleaning the 4000th sentence\n",
            "Cleaning the 5000th sentence\n",
            "Cleaning the 6000th sentence\n",
            "Cleaning the 7000th sentence\n",
            "Cleaning the 8000th sentence\n",
            "Cleaning the 9000th sentence\n",
            "Cleaning the 10000th sentence\n",
            "Cleaning the 11000th sentence\n",
            "Cleaning the 12000th sentence\n",
            "Cleaning the 13000th sentence\n",
            "Cleaning the 14000th sentence\n",
            "Cleaning the 15000th sentence\n",
            "Cleaning the 16000th sentence\n",
            "Cleaning the 17000th sentence\n",
            "Cleaning the 18000th sentence\n",
            "Cleaning the 19000th sentence\n",
            "Cleaning the 20000th sentence\n",
            "Cleaning the 21000th sentence\n",
            "Cleaning the 22000th sentence\n",
            "Cleaning the 23000th sentence\n",
            "Cleaning the 24000th sentence\n",
            "Cleaning the 25000th sentence\n",
            "Cleaning the 26000th sentence\n",
            "Cleaning the 27000th sentence\n",
            "Cleaning the 28000th sentence\n",
            "Cleaning the 29000th sentence\n",
            "Cleaning the 30000th sentence\n",
            "Cleaning the 31000th sentence\n",
            "Cleaning the 32000th sentence\n",
            "Cleaning the 33000th sentence\n",
            "Cleaning the 34000th sentence\n",
            "Cleaning the 35000th sentence\n",
            "Cleaning the 36000th sentence\n",
            "Cleaning the 37000th sentence\n",
            "Cleaning the 38000th sentence\n",
            "Cleaning the 39000th sentence\n",
            "Cleaning the 40000th sentence\n",
            "Cleaning the 41000th sentence\n",
            "Cleaning the 42000th sentence\n",
            "Cleaning the 43000th sentence\n",
            "Cleaning the 44000th sentence\n",
            "Cleaning the 45000th sentence\n",
            "Cleaning the 46000th sentence\n",
            "Cleaning the 47000th sentence\n",
            "Cleaning the 48000th sentence\n",
            "Cleaning the 49000th sentence\n",
            "Cleaning the 50000th sentence\n",
            "Cleaning the 51000th sentence\n",
            "Cleaning the 52000th sentence\n",
            "Cleaning the 53000th sentence\n",
            "Cleaning the 54000th sentence\n",
            "Cleaning the 55000th sentence\n",
            "Cleaning the 56000th sentence\n",
            "Cleaning the 57000th sentence\n",
            "Cleaning the 58000th sentence\n",
            "Cleaning the 59000th sentence\n",
            "Cleaning the 60000th sentence\n",
            "Cleaning the 61000th sentence\n",
            "Cleaning the 62000th sentence\n",
            "Cleaning the 63000th sentence\n",
            "Cleaning the 64000th sentence\n",
            "Cleaning the 65000th sentence\n",
            "Cleaning the 66000th sentence\n",
            "Cleaning the 67000th sentence\n",
            "Cleaning the 68000th sentence\n",
            "Cleaning the 69000th sentence\n",
            "Cleaning the 70000th sentence\n",
            "Cleaning the 71000th sentence\n",
            "Cleaning the 72000th sentence\n",
            "Cleaning the 73000th sentence\n",
            "Cleaning the 74000th sentence\n",
            "Cleaning the 75000th sentence\n",
            "Cleaning the 76000th sentence\n",
            "Cleaning the 77000th sentence\n",
            "Cleaning the 78000th sentence\n",
            "Cleaning the 79000th sentence\n",
            "Cleaning the 80000th sentence\n",
            "Cleaning the 81000th sentence\n",
            "Cleaning the 82000th sentence\n",
            "Cleaning the 83000th sentence\n",
            "Cleaning the 84000th sentence\n",
            "Cleaning the 85000th sentence\n",
            "Cleaning the 86000th sentence\n",
            "Cleaning the 87000th sentence\n",
            "Cleaning the 88000th sentence\n",
            "Cleaning the 89000th sentence\n",
            "Cleaning the 90000th sentence\n",
            "Cleaning the 91000th sentence\n"
          ]
        }
      ],
      "source": [
        "outputs = []\n",
        "for idx, text in enumerate(manifesto_regrouped['text']):\n",
        "    if idx % 1000 ==0:\n",
        "        print(f'Cleaning the {idx}th sentence')\n",
        "    country = manifesto_regrouped.loc[idx,'country'].lower()\n",
        "    if country == 'france':\n",
        "        outputs.append(clean_text(text, stopwords.words('french')))\n",
        "    elif country == 'germany':\n",
        "        outputs.append(clean_text(text, stopwords.words('german')))\n",
        "    elif country == 'italy':\n",
        "        outputs.append(clean_text(text, stopwords.words('italian')))\n",
        "    elif country == 'spain':\n",
        "        outputs.append(clean_text(text, stopwords.words('spanish')))\n",
        "    else:\n",
        "        outputs.append(clean_text(text, stopwords.words('english')))"
      ]
    },
    {
      "cell_type": "code",
      "execution_count": 82,
      "metadata": {},
      "outputs": [],
      "source": [
        "manifesto_regrouped['text_cleaned'] = outputs"
      ]
    },
    {
      "cell_type": "code",
      "execution_count": 83,
      "metadata": {},
      "outputs": [
        {
          "data": {
            "text/plain": [
              "\"The problem: This country's education has been underfunded and undermined by repeated shifts in policy. Standards are too low, especially in core skills such as reading and maths. Britain is too low in the world league tables.\""
            ]
          },
          "execution_count": 83,
          "metadata": {},
          "output_type": "execute_result"
        }
      ],
      "source": [
        "## Before\n",
        "manifesto_regrouped.loc[0,'text']"
      ]
    },
    {
      "cell_type": "code",
      "execution_count": 84,
      "metadata": {},
      "outputs": [
        {
          "data": {
            "text/plain": [
              "'problem country education underfunded undermined repeated shifts policy standards low especially core skills reading maths britain low world league tables'"
            ]
          },
          "execution_count": 84,
          "metadata": {},
          "output_type": "execute_result"
        }
      ],
      "source": [
        "## After\n",
        "outputs[0]"
      ]
    },
    {
      "cell_type": "code",
      "execution_count": 86,
      "metadata": {},
      "outputs": [],
      "source": [
        "df_train, df_test = train_test_split(manifesto_regrouped, test_size=0.2, stratify = manifesto_regrouped['sentiment'],random_state=seed_val)\n",
        "df_train, df_eval = train_test_split(df_train, test_size=0.3, stratify = df_train['sentiment'], random_state=seed_val)\n",
        "enc = OrdinalEncoder()\n",
        "\n",
        "df_train['labels'] = enc.fit_transform(np.array(df_train['sentiment'].tolist()).reshape(-1,1))\n",
        "df_test['labels'] = enc.fit_transform(np.array(df_test['sentiment'].tolist()).reshape(-1,1))\n",
        "df_eval['labels'] = enc.fit_transform(np.array(df_eval['sentiment'].tolist()).reshape(-1,1))\n",
        "\n",
        "df_train = df_train.reset_index(drop=True)\n",
        "df_eval = df_eval.reset_index(drop=True)\n",
        "df_test = df_test.reset_index(drop=True)\n",
        "\n"
      ]
    },
    {
      "cell_type": "code",
      "execution_count": 87,
      "metadata": {},
      "outputs": [],
      "source": [
        "y_train = np.array(df_train['labels'])\n",
        "y_eval = np.array(df_eval['labels'])\n",
        "y_test = np.array(df_test['labels'])"
      ]
    },
    {
      "cell_type": "code",
      "execution_count": 88,
      "metadata": {},
      "outputs": [],
      "source": [
        "vectorizer = feature_extraction.text.TfidfVectorizer(max_features=10000, ngram_range=(1,2))"
      ]
    },
    {
      "cell_type": "code",
      "execution_count": 95,
      "metadata": {},
      "outputs": [],
      "source": [
        "corp_train = df_train['text_cleaned'].tolist()\n",
        "vectorizer.fit(corp_train)\n",
        "X_train = vectorizer.transform(corp_train)\n",
        "dic_vocabulary = vectorizer.vocabulary_"
      ]
    },
    {
      "cell_type": "code",
      "execution_count": 96,
      "metadata": {},
      "outputs": [],
      "source": [
        "classifier = naive_bayes.MultinomialNB()"
      ]
    },
    {
      "cell_type": "code",
      "execution_count": 97,
      "metadata": {},
      "outputs": [],
      "source": [
        "## pipeline\n",
        "model = pipeline.Pipeline([(\"vectorizer\", vectorizer),  \n",
        "                           (\"classifier\", classifier)])\n",
        "## train classifier\n",
        "model[\"classifier\"].fit(X_train, y_train)\n",
        "## test\n",
        "X_test = df_test[\"text_cleaned\"].tolist()\n",
        "predicted = model.predict(X_test)\n",
        "predicted_prob = model.predict_proba(X_test)"
      ]
    },
    {
      "cell_type": "code",
      "execution_count": 98,
      "metadata": {},
      "outputs": [],
      "source": [
        "precision, recall, f1, _ = precision_recall_fscore_support(y_test, predicted, average=None)\n",
        "matrix = confusion_matrix(y_test, predicted)\n",
        "accuracy = matrix.diagonal()/matrix.sum(axis=1)"
      ]
    },
    {
      "cell_type": "code",
      "execution_count": 99,
      "metadata": {},
      "outputs": [
        {
          "data": {
            "text/html": [
              "<div>\n",
              "<style scoped>\n",
              "    .dataframe tbody tr th:only-of-type {\n",
              "        vertical-align: middle;\n",
              "    }\n",
              "\n",
              "    .dataframe tbody tr th {\n",
              "        vertical-align: top;\n",
              "    }\n",
              "\n",
              "    .dataframe thead th {\n",
              "        text-align: right;\n",
              "    }\n",
              "</style>\n",
              "<table border=\"1\" class=\"dataframe\">\n",
              "  <thead>\n",
              "    <tr style=\"text-align: right;\">\n",
              "      <th></th>\n",
              "      <th>f1</th>\n",
              "      <th>precision</th>\n",
              "      <th>recall</th>\n",
              "      <th>accuracy</th>\n",
              "    </tr>\n",
              "  </thead>\n",
              "  <tbody>\n",
              "    <tr>\n",
              "      <th>0</th>\n",
              "      <td>0.71</td>\n",
              "      <td>0.69</td>\n",
              "      <td>0.73</td>\n",
              "      <td>0.73</td>\n",
              "    </tr>\n",
              "    <tr>\n",
              "      <th>1</th>\n",
              "      <td>0.67</td>\n",
              "      <td>0.67</td>\n",
              "      <td>0.68</td>\n",
              "      <td>0.68</td>\n",
              "    </tr>\n",
              "    <tr>\n",
              "      <th>2</th>\n",
              "      <td>0.50</td>\n",
              "      <td>0.56</td>\n",
              "      <td>0.45</td>\n",
              "      <td>0.45</td>\n",
              "    </tr>\n",
              "  </tbody>\n",
              "</table>\n",
              "</div>"
            ],
            "text/plain": [
              "     f1  precision  recall  accuracy\n",
              "0  0.71       0.69    0.73      0.73\n",
              "1  0.67       0.67    0.68      0.68\n",
              "2  0.50       0.56    0.45      0.45"
            ]
          },
          "execution_count": 99,
          "metadata": {},
          "output_type": "execute_result"
        }
      ],
      "source": [
        "res_table = pd.DataFrame({'f1': np.round(f1,2), 'precision': np.round(precision,2), \n",
        "'recall': np.round(recall,2), 'accuracy': np.round(accuracy,2)})\n",
        "res_table"
      ]
    },
    {
      "cell_type": "code",
      "execution_count": 100,
      "metadata": {},
      "outputs": [
        {
          "data": {
            "text/plain": [
              "f1           0.63\n",
              "precision    0.64\n",
              "recall       0.62\n",
              "accuracy     0.62\n",
              "dtype: float64"
            ]
          },
          "execution_count": 100,
          "metadata": {},
          "output_type": "execute_result"
        }
      ],
      "source": [
        "round(res_table.mean(axis=0),2)"
      ]
    },
    {
      "cell_type": "code",
      "execution_count": 105,
      "metadata": {},
      "outputs": [],
      "source": [
        "## Save vectorizer and model to other variables\n",
        "vect_bow = vectorizer\n",
        "model_bow = model\n"
      ]
    },
    {
      "attachments": {},
      "cell_type": "markdown",
      "metadata": {},
      "source": [
        "#### Doc2Vec\n"
      ]
    },
    {
      "cell_type": "code",
      "execution_count": 32,
      "metadata": {},
      "outputs": [
        {
          "name": "stdout",
          "output_type": "stream",
          "text": [
            "Cleaning the 0th sentence\n",
            "Cleaning the 1000th sentence\n",
            "Cleaning the 2000th sentence\n",
            "Cleaning the 3000th sentence\n",
            "Cleaning the 4000th sentence\n",
            "Cleaning the 5000th sentence\n",
            "Cleaning the 6000th sentence\n",
            "Cleaning the 7000th sentence\n",
            "Cleaning the 8000th sentence\n",
            "Cleaning the 9000th sentence\n",
            "Cleaning the 10000th sentence\n",
            "Cleaning the 11000th sentence\n",
            "Cleaning the 12000th sentence\n",
            "Cleaning the 13000th sentence\n",
            "Cleaning the 14000th sentence\n",
            "Cleaning the 15000th sentence\n",
            "Cleaning the 16000th sentence\n",
            "Cleaning the 17000th sentence\n",
            "Cleaning the 18000th sentence\n",
            "Cleaning the 19000th sentence\n",
            "Cleaning the 20000th sentence\n",
            "Cleaning the 21000th sentence\n",
            "Cleaning the 22000th sentence\n",
            "Cleaning the 23000th sentence\n",
            "Cleaning the 24000th sentence\n",
            "Cleaning the 25000th sentence\n",
            "Cleaning the 26000th sentence\n",
            "Cleaning the 27000th sentence\n",
            "Cleaning the 28000th sentence\n",
            "Cleaning the 29000th sentence\n",
            "Cleaning the 30000th sentence\n",
            "Cleaning the 31000th sentence\n",
            "Cleaning the 32000th sentence\n",
            "Cleaning the 33000th sentence\n",
            "Cleaning the 34000th sentence\n",
            "Cleaning the 35000th sentence\n",
            "Cleaning the 36000th sentence\n",
            "Cleaning the 37000th sentence\n",
            "Cleaning the 38000th sentence\n",
            "Cleaning the 39000th sentence\n",
            "Cleaning the 40000th sentence\n",
            "Cleaning the 41000th sentence\n",
            "Cleaning the 42000th sentence\n",
            "Cleaning the 43000th sentence\n",
            "Cleaning the 44000th sentence\n",
            "Cleaning the 45000th sentence\n",
            "Cleaning the 46000th sentence\n",
            "Cleaning the 47000th sentence\n",
            "Cleaning the 48000th sentence\n",
            "Cleaning the 49000th sentence\n",
            "Cleaning the 50000th sentence\n",
            "Cleaning the 51000th sentence\n",
            "Cleaning the 52000th sentence\n",
            "Cleaning the 53000th sentence\n",
            "Cleaning the 54000th sentence\n",
            "Cleaning the 55000th sentence\n",
            "Cleaning the 56000th sentence\n",
            "Cleaning the 57000th sentence\n",
            "Cleaning the 58000th sentence\n",
            "Cleaning the 59000th sentence\n",
            "Cleaning the 60000th sentence\n",
            "Cleaning the 61000th sentence\n",
            "Cleaning the 62000th sentence\n",
            "Cleaning the 63000th sentence\n",
            "Cleaning the 64000th sentence\n",
            "Cleaning the 65000th sentence\n",
            "Cleaning the 66000th sentence\n",
            "Cleaning the 67000th sentence\n",
            "Cleaning the 68000th sentence\n",
            "Cleaning the 69000th sentence\n",
            "Cleaning the 70000th sentence\n",
            "Cleaning the 71000th sentence\n",
            "Cleaning the 72000th sentence\n",
            "Cleaning the 73000th sentence\n",
            "Cleaning the 74000th sentence\n",
            "Cleaning the 75000th sentence\n",
            "Cleaning the 76000th sentence\n",
            "Cleaning the 77000th sentence\n",
            "Cleaning the 78000th sentence\n",
            "Cleaning the 79000th sentence\n",
            "Cleaning the 80000th sentence\n",
            "Cleaning the 81000th sentence\n",
            "Cleaning the 82000th sentence\n",
            "Cleaning the 83000th sentence\n",
            "Cleaning the 84000th sentence\n",
            "Cleaning the 85000th sentence\n",
            "Cleaning the 86000th sentence\n",
            "Cleaning the 87000th sentence\n",
            "Cleaning the 88000th sentence\n",
            "Cleaning the 89000th sentence\n",
            "Cleaning the 90000th sentence\n",
            "Cleaning the 91000th sentence\n"
          ]
        }
      ],
      "source": [
        "## We train word2vec embeddings on the GermaParl dataset before using embeddings for classification\n",
        "outputs = []\n",
        "for idx, text in enumerate(manifesto_regrouped['text']):\n",
        "    if idx % 1000 ==0:\n",
        "        print(f'Cleaning the {idx}th sentence')\n",
        "    country = manifesto_regrouped.loc[idx,'country'].lower()\n",
        "    if country == 'france':\n",
        "        outputs.append(clean_text(text, stopwords.words('french')))\n",
        "    elif country == 'germany':\n",
        "        outputs.append(clean_text(text, stopwords.words('german')))\n",
        "    elif country == 'italy':\n",
        "        outputs.append(clean_text(text, stopwords.words('italian')))\n",
        "    elif country == 'spain':\n",
        "        outputs.append(clean_text(text, stopwords.words('spanish')))\n",
        "    else:\n",
        "        outputs.append(clean_text(text, stopwords.words('english')))"
      ]
    },
    {
      "cell_type": "code",
      "execution_count": 33,
      "metadata": {},
      "outputs": [],
      "source": [
        "manifesto_regrouped['text_cleaned'] = outputs"
      ]
    },
    {
      "cell_type": "code",
      "execution_count": 106,
      "metadata": {},
      "outputs": [
        {
          "data": {
            "text/html": [
              "<div>\n",
              "<style scoped>\n",
              "    .dataframe tbody tr th:only-of-type {\n",
              "        vertical-align: middle;\n",
              "    }\n",
              "\n",
              "    .dataframe tbody tr th {\n",
              "        vertical-align: top;\n",
              "    }\n",
              "\n",
              "    .dataframe thead th {\n",
              "        text-align: right;\n",
              "    }\n",
              "</style>\n",
              "<table border=\"1\" class=\"dataframe\">\n",
              "  <thead>\n",
              "    <tr style=\"text-align: right;\">\n",
              "      <th></th>\n",
              "      <th>text</th>\n",
              "      <th>country_party_election_sentiment</th>\n",
              "      <th>country</th>\n",
              "      <th>party</th>\n",
              "      <th>election</th>\n",
              "      <th>sentiment</th>\n",
              "      <th>text_cleaned</th>\n",
              "    </tr>\n",
              "  </thead>\n",
              "  <tbody>\n",
              "    <tr>\n",
              "      <th>0</th>\n",
              "      <td>The problem: This country's education has been...</td>\n",
              "      <td>United Kingdom_Liberal Democrats_1997_left</td>\n",
              "      <td>United Kingdom</td>\n",
              "      <td>Liberal Democrats</td>\n",
              "      <td>1997</td>\n",
              "      <td>left</td>\n",
              "      <td>problem country education underfunded undermin...</td>\n",
              "    </tr>\n",
              "    <tr>\n",
              "      <th>1</th>\n",
              "      <td>Our commitment: Liberal Democrats will make ed...</td>\n",
              "      <td>United Kingdom_Liberal Democrats_1997_left</td>\n",
              "      <td>United Kingdom</td>\n",
              "      <td>Liberal Democrats</td>\n",
              "      <td>1997</td>\n",
              "      <td>left</td>\n",
              "      <td>commitment liberal democrats make education ne...</td>\n",
              "    </tr>\n",
              "    <tr>\n",
              "      <th>2</th>\n",
              "      <td>- Reduce primary school class sizes so that wi...</td>\n",
              "      <td>United Kingdom_Liberal Democrats_1997_left</td>\n",
              "      <td>United Kingdom</td>\n",
              "      <td>Liberal Democrats</td>\n",
              "      <td>1997</td>\n",
              "      <td>left</td>\n",
              "      <td>reduce primary school class sizes within years...</td>\n",
              "    </tr>\n",
              "    <tr>\n",
              "      <th>3</th>\n",
              "      <td>This will be the first call on our £2 billion ...</td>\n",
              "      <td>United Kingdom_Liberal Democrats_1997_left</td>\n",
              "      <td>United Kingdom</td>\n",
              "      <td>Liberal Democrats</td>\n",
              "      <td>1997</td>\n",
              "      <td>left</td>\n",
              "      <td>first call £ billion annual programme extra in...</td>\n",
              "    </tr>\n",
              "    <tr>\n",
              "      <th>4</th>\n",
              "      <td>We will ensure that those in early years educa...</td>\n",
              "      <td>United Kingdom_Liberal Democrats_1997_left</td>\n",
              "      <td>United Kingdom</td>\n",
              "      <td>Liberal Democrats</td>\n",
              "      <td>1997</td>\n",
              "      <td>left</td>\n",
              "      <td>ensure early years education supervised qualif...</td>\n",
              "    </tr>\n",
              "  </tbody>\n",
              "</table>\n",
              "</div>"
            ],
            "text/plain": [
              "                                                text  \\\n",
              "0  The problem: This country's education has been...   \n",
              "1  Our commitment: Liberal Democrats will make ed...   \n",
              "2  - Reduce primary school class sizes so that wi...   \n",
              "3  This will be the first call on our £2 billion ...   \n",
              "4  We will ensure that those in early years educa...   \n",
              "\n",
              "             country_party_election_sentiment         country  \\\n",
              "0  United Kingdom_Liberal Democrats_1997_left  United Kingdom   \n",
              "1  United Kingdom_Liberal Democrats_1997_left  United Kingdom   \n",
              "2  United Kingdom_Liberal Democrats_1997_left  United Kingdom   \n",
              "3  United Kingdom_Liberal Democrats_1997_left  United Kingdom   \n",
              "4  United Kingdom_Liberal Democrats_1997_left  United Kingdom   \n",
              "\n",
              "               party election sentiment  \\\n",
              "0  Liberal Democrats     1997      left   \n",
              "1  Liberal Democrats     1997      left   \n",
              "2  Liberal Democrats     1997      left   \n",
              "3  Liberal Democrats     1997      left   \n",
              "4  Liberal Democrats     1997      left   \n",
              "\n",
              "                                        text_cleaned  \n",
              "0  problem country education underfunded undermin...  \n",
              "1  commitment liberal democrats make education ne...  \n",
              "2  reduce primary school class sizes within years...  \n",
              "3  first call £ billion annual programme extra in...  \n",
              "4  ensure early years education supervised qualif...  "
            ]
          },
          "execution_count": 106,
          "metadata": {},
          "output_type": "execute_result"
        }
      ],
      "source": [
        "manifesto_regrouped.head()"
      ]
    },
    {
      "cell_type": "code",
      "execution_count": 107,
      "metadata": {},
      "outputs": [],
      "source": [
        "class corpusIterator(object):\n",
        "    def __init__(self, df, bigram=None, trigram=None):\n",
        "        if bigram:\n",
        "            self.bigram = bigram\n",
        "        else:\n",
        "            self.bigram = None\n",
        "        if trigram:\n",
        "            self.trigram = trigram\n",
        "        else:\n",
        "            self.trigram = None\n",
        "        self.df = df\n",
        "    def __iter__(self):\n",
        "        for  index, row in self.df.iterrows():\n",
        "            if index % 3000 == 0:\n",
        "                print(f'Working on the {index+1}th sentence')\n",
        "            text = row['text_cleaned']\n",
        "            labels = row['sentiment']\n",
        "            tokens = text.split()\n",
        "            if self.bigram and self.trigram:\n",
        "                self.words = self.trigram[self.bigram[tokens]]\n",
        "            elif self.bigram and not self.trigram:\n",
        "                self.words = self.bigram[tokens]\n",
        "            else:\n",
        "                self.words = tokens\n",
        "            yield TaggedDocument(self.words, [labels])\n",
        "            \n",
        "class phraseIterator(object):\n",
        "    def __init__(self, df):\n",
        "        self.df = df\n",
        "    def __iter__(self):\n",
        "        for index, row in self.df.iterrows():\n",
        "            if index % 3000 == 0:\n",
        "                print(f'Working on the {index+1}th sentence')\n",
        "            text = row['text_cleaned']\n",
        "            yield text.split()"
      ]
    },
    {
      "cell_type": "code",
      "execution_count": 108,
      "metadata": {},
      "outputs": [],
      "source": [
        "df_train, df_test = train_test_split(manifesto_regrouped, test_size=0.2, stratify = manifesto_regrouped['sentiment'],random_state=seed_val)\n",
        "df_train, df_eval = train_test_split(df_train, test_size=0.3, stratify = df_train['sentiment'], random_state=seed_val)\n",
        "enc = OrdinalEncoder()\n",
        "\n",
        "df_train['labels'] = enc.fit_transform(np.array(df_train['sentiment'].tolist()).reshape(-1,1))\n",
        "df_test['labels'] = enc.fit_transform(np.array(df_test['sentiment'].tolist()).reshape(-1,1))\n",
        "df_eval['labels'] = enc.fit_transform(np.array(df_eval['sentiment'].tolist()).reshape(-1,1))\n",
        "\n",
        "df_train = df_train.reset_index(drop=True)\n",
        "df_eval = df_eval.reset_index(drop=True)\n",
        "df_test = df_test.reset_index(drop=True)\n",
        "\n"
      ]
    },
    {
      "cell_type": "code",
      "execution_count": 109,
      "metadata": {},
      "outputs": [
        {
          "name": "stdout",
          "output_type": "stream",
          "text": [
            "Working on the 1th sentence\n",
            "Working on the 3001th sentence\n",
            "Working on the 6001th sentence\n",
            "Working on the 9001th sentence\n",
            "Working on the 12001th sentence\n",
            "Working on the 15001th sentence\n",
            "Working on the 18001th sentence\n",
            "Working on the 21001th sentence\n",
            "Working on the 24001th sentence\n",
            "Working on the 27001th sentence\n",
            "Working on the 30001th sentence\n",
            "Working on the 33001th sentence\n",
            "Working on the 36001th sentence\n",
            "Working on the 39001th sentence\n",
            "Working on the 42001th sentence\n",
            "Working on the 45001th sentence\n",
            "Working on the 48001th sentence\n",
            "Working on the 51001th sentence\n",
            "Working on the 1th sentence\n",
            "Working on the 1th sentence\n",
            "Working on the 3001th sentence\n",
            "Working on the 6001th sentence\n",
            "Working on the 9001th sentence\n",
            "Working on the 12001th sentence\n",
            "Working on the 15001th sentence\n",
            "Working on the 18001th sentence\n",
            "Working on the 21001th sentence\n",
            "Working on the 24001th sentence\n",
            "Working on the 27001th sentence\n",
            "Working on the 30001th sentence\n",
            "Working on the 33001th sentence\n",
            "Working on the 36001th sentence\n",
            "Working on the 39001th sentence\n",
            "Working on the 42001th sentence\n",
            "Working on the 45001th sentence\n",
            "Working on the 48001th sentence\n",
            "Working on the 51001th sentence\n"
          ]
        }
      ],
      "source": [
        "outputs_stream = phraseIterator(df_train)\n",
        "bigram = Phraser(Phrases(outputs_stream, min_count=1, threshold=5))\n",
        "trigram = Phrases(bigram[outputs_stream],  min_count=1, threshold=5)"
      ]
    },
    {
      "cell_type": "code",
      "execution_count": 110,
      "metadata": {},
      "outputs": [
        {
          "name": "stdout",
          "output_type": "stream",
          "text": [
            "Working on the 1th sentence\n",
            "Working on the 3001th sentence\n",
            "Working on the 6001th sentence\n",
            "Working on the 9001th sentence\n",
            "Working on the 12001th sentence\n",
            "Working on the 15001th sentence\n",
            "Working on the 18001th sentence\n",
            "Working on the 21001th sentence\n",
            "Working on the 24001th sentence\n",
            "Working on the 27001th sentence\n",
            "Working on the 30001th sentence\n",
            "Working on the 33001th sentence\n",
            "Working on the 36001th sentence\n",
            "Working on the 39001th sentence\n",
            "Working on the 42001th sentence\n",
            "Working on the 45001th sentence\n",
            "Working on the 48001th sentence\n",
            "Working on the 51001th sentence\n",
            "Working on the 1th sentence\n",
            "Working on the 3001th sentence\n",
            "Working on the 6001th sentence\n",
            "Working on the 9001th sentence\n",
            "Working on the 12001th sentence\n",
            "Working on the 15001th sentence\n",
            "Working on the 18001th sentence\n",
            "Working on the 21001th sentence\n",
            "Working on the 24001th sentence\n",
            "Working on the 27001th sentence\n",
            "Working on the 30001th sentence\n",
            "Working on the 33001th sentence\n",
            "Working on the 36001th sentence\n",
            "Working on the 39001th sentence\n",
            "Working on the 42001th sentence\n",
            "Working on the 45001th sentence\n",
            "Working on the 48001th sentence\n",
            "Working on the 51001th sentence\n",
            "Working on the 1th sentence\n",
            "Working on the 3001th sentence\n",
            "Working on the 6001th sentence\n",
            "Working on the 9001th sentence\n",
            "Working on the 12001th sentence\n",
            "Working on the 15001th sentence\n",
            "Working on the 18001th sentence\n",
            "Working on the 21001th sentence\n",
            "Working on the 24001th sentence\n",
            "Working on the 27001th sentence\n",
            "Working on the 30001th sentence\n",
            "Working on the 33001th sentence\n",
            "Working on the 36001th sentence\n",
            "Working on the 39001th sentence\n",
            "Working on the 42001th sentence\n",
            "Working on the 45001th sentence\n",
            "Working on the 48001th sentence\n",
            "Working on the 51001th sentence\n",
            "Working on the 1th sentence\n",
            "Working on the 3001th sentence\n",
            "Working on the 6001th sentence\n",
            "Working on the 9001th sentence\n",
            "Working on the 12001th sentence\n",
            "Working on the 15001th sentence\n",
            "Working on the 18001th sentence\n",
            "Working on the 21001th sentence\n",
            "Working on the 24001th sentence\n",
            "Working on the 27001th sentence\n",
            "Working on the 30001th sentence\n",
            "Working on the 33001th sentence\n",
            "Working on the 36001th sentence\n",
            "Working on the 39001th sentence\n",
            "Working on the 42001th sentence\n",
            "Working on the 45001th sentence\n",
            "Working on the 48001th sentence\n",
            "Working on the 51001th sentence\n",
            "Working on the 1th sentence\n",
            "Working on the 3001th sentence\n",
            "Working on the 6001th sentence\n",
            "Working on the 9001th sentence\n",
            "Working on the 12001th sentence\n",
            "Working on the 15001th sentence\n",
            "Working on the 18001th sentence\n",
            "Working on the 21001th sentence\n",
            "Working on the 24001th sentence\n",
            "Working on the 27001th sentence\n",
            "Working on the 30001th sentence\n",
            "Working on the 33001th sentence\n",
            "Working on the 36001th sentence\n",
            "Working on the 39001th sentence\n",
            "Working on the 42001th sentence\n",
            "Working on the 45001th sentence\n",
            "Working on the 48001th sentence\n",
            "Working on the 51001th sentence\n",
            "Working on the 1th sentence\n",
            "Working on the 3001th sentence\n",
            "Working on the 6001th sentence\n",
            "Working on the 9001th sentence\n",
            "Working on the 12001th sentence\n",
            "Working on the 15001th sentence\n",
            "Working on the 18001th sentence\n",
            "Working on the 21001th sentence\n",
            "Working on the 24001th sentence\n",
            "Working on the 27001th sentence\n",
            "Working on the 30001th sentence\n",
            "Working on the 33001th sentence\n",
            "Working on the 36001th sentence\n",
            "Working on the 39001th sentence\n",
            "Working on the 42001th sentence\n",
            "Working on the 45001th sentence\n",
            "Working on the 48001th sentence\n",
            "Working on the 51001th sentence\n",
            "Working on the 1th sentence\n",
            "Working on the 3001th sentence\n",
            "Working on the 6001th sentence\n",
            "Working on the 9001th sentence\n",
            "Working on the 12001th sentence\n",
            "Working on the 15001th sentence\n",
            "Working on the 18001th sentence\n",
            "Working on the 21001th sentence\n",
            "Working on the 24001th sentence\n",
            "Working on the 27001th sentence\n",
            "Working on the 30001th sentence\n",
            "Working on the 33001th sentence\n",
            "Working on the 36001th sentence\n",
            "Working on the 39001th sentence\n",
            "Working on the 42001th sentence\n",
            "Working on the 45001th sentence\n",
            "Working on the 48001th sentence\n",
            "Working on the 51001th sentence\n",
            "Working on the 1th sentence\n",
            "Working on the 3001th sentence\n",
            "Working on the 6001th sentence\n",
            "Working on the 9001th sentence\n",
            "Working on the 12001th sentence\n",
            "Working on the 15001th sentence\n",
            "Working on the 18001th sentence\n",
            "Working on the 21001th sentence\n",
            "Working on the 24001th sentence\n",
            "Working on the 27001th sentence\n",
            "Working on the 30001th sentence\n",
            "Working on the 33001th sentence\n",
            "Working on the 36001th sentence\n",
            "Working on the 39001th sentence\n",
            "Working on the 42001th sentence\n",
            "Working on the 45001th sentence\n",
            "Working on the 48001th sentence\n",
            "Working on the 51001th sentence\n",
            "Working on the 1th sentence\n",
            "Working on the 3001th sentence\n",
            "Working on the 6001th sentence\n",
            "Working on the 9001th sentence\n",
            "Working on the 12001th sentence\n",
            "Working on the 15001th sentence\n",
            "Working on the 18001th sentence\n",
            "Working on the 21001th sentence\n",
            "Working on the 24001th sentence\n",
            "Working on the 27001th sentence\n",
            "Working on the 30001th sentence\n",
            "Working on the 33001th sentence\n",
            "Working on the 36001th sentence\n",
            "Working on the 39001th sentence\n",
            "Working on the 42001th sentence\n",
            "Working on the 45001th sentence\n",
            "Working on the 48001th sentence\n",
            "Working on the 51001th sentence\n",
            "Working on the 1th sentence\n",
            "Working on the 3001th sentence\n",
            "Working on the 6001th sentence\n",
            "Working on the 9001th sentence\n",
            "Working on the 12001th sentence\n",
            "Working on the 15001th sentence\n",
            "Working on the 18001th sentence\n",
            "Working on the 21001th sentence\n",
            "Working on the 24001th sentence\n",
            "Working on the 27001th sentence\n",
            "Working on the 30001th sentence\n",
            "Working on the 33001th sentence\n",
            "Working on the 36001th sentence\n",
            "Working on the 39001th sentence\n",
            "Working on the 42001th sentence\n",
            "Working on the 45001th sentence\n",
            "Working on the 48001th sentence\n",
            "Working on the 51001th sentence\n",
            "Working on the 1th sentence\n",
            "Working on the 3001th sentence\n",
            "Working on the 6001th sentence\n",
            "Working on the 9001th sentence\n",
            "Working on the 12001th sentence\n",
            "Working on the 15001th sentence\n",
            "Working on the 18001th sentence\n",
            "Working on the 21001th sentence\n",
            "Working on the 24001th sentence\n",
            "Working on the 27001th sentence\n",
            "Working on the 30001th sentence\n",
            "Working on the 33001th sentence\n",
            "Working on the 36001th sentence\n",
            "Working on the 39001th sentence\n",
            "Working on the 42001th sentence\n",
            "Working on the 45001th sentence\n",
            "Working on the 48001th sentence\n",
            "Working on the 51001th sentence\n"
          ]
        }
      ],
      "source": [
        "model = Doc2Vec(vector_size=300, window=5, min_count=1, workers=8, epochs=10, seed=seed_val)\n",
        "model.build_vocab(corpusIterator(df_train, bigram=bigram, trigram=trigram))\n",
        "model.train(corpusIterator(df_train, bigram=bigram, trigram=trigram), total_examples=model.corpus_count, epochs=model.epochs)"
      ]
    },
    {
      "cell_type": "code",
      "execution_count": 111,
      "metadata": {},
      "outputs": [],
      "source": [
        "model.save(os.path.join('results', 'd2v','d2v_3cl'))"
      ]
    },
    {
      "cell_type": "code",
      "execution_count": 112,
      "metadata": {},
      "outputs": [],
      "source": [
        "def test_doc2vec(dataset, model):\n",
        "    res = []\n",
        "    for index, row in dataset.iterrows():\n",
        "        text = row['text_cleaned']\n",
        "        infer = model.dv.most_similar(model.infer_vector(text.split()),topn=1)[0][0]\n",
        "        if infer == 'right':\n",
        "            res.append(2)\n",
        "        elif infer == 'left':\n",
        "            res.append(0)\n",
        "        else:\n",
        "            res.append(1)\n",
        "    return np.array(res)\n"
      ]
    },
    {
      "cell_type": "code",
      "execution_count": 113,
      "metadata": {},
      "outputs": [],
      "source": [
        "predicted = test_doc2vec(df_test, model)\n",
        "labels = np.array(df_test['labels'].tolist())"
      ]
    },
    {
      "cell_type": "code",
      "execution_count": 114,
      "metadata": {},
      "outputs": [],
      "source": [
        "precision, recall, f1, _ = precision_recall_fscore_support(labels, predicted, average=None)\n",
        "matrix = confusion_matrix(labels, predicted)\n",
        "accuracy = matrix.diagonal()/matrix.sum(axis=1)"
      ]
    },
    {
      "cell_type": "code",
      "execution_count": 115,
      "metadata": {},
      "outputs": [
        {
          "data": {
            "text/html": [
              "<div>\n",
              "<style scoped>\n",
              "    .dataframe tbody tr th:only-of-type {\n",
              "        vertical-align: middle;\n",
              "    }\n",
              "\n",
              "    .dataframe tbody tr th {\n",
              "        vertical-align: top;\n",
              "    }\n",
              "\n",
              "    .dataframe thead th {\n",
              "        text-align: right;\n",
              "    }\n",
              "</style>\n",
              "<table border=\"1\" class=\"dataframe\">\n",
              "  <thead>\n",
              "    <tr style=\"text-align: right;\">\n",
              "      <th></th>\n",
              "      <th>f1</th>\n",
              "      <th>precision</th>\n",
              "      <th>recall</th>\n",
              "      <th>accuracy</th>\n",
              "    </tr>\n",
              "  </thead>\n",
              "  <tbody>\n",
              "    <tr>\n",
              "      <th>0</th>\n",
              "      <td>0.65</td>\n",
              "      <td>0.61</td>\n",
              "      <td>0.69</td>\n",
              "      <td>0.69</td>\n",
              "    </tr>\n",
              "    <tr>\n",
              "      <th>1</th>\n",
              "      <td>0.54</td>\n",
              "      <td>0.56</td>\n",
              "      <td>0.52</td>\n",
              "      <td>0.52</td>\n",
              "    </tr>\n",
              "    <tr>\n",
              "      <th>2</th>\n",
              "      <td>0.39</td>\n",
              "      <td>0.42</td>\n",
              "      <td>0.37</td>\n",
              "      <td>0.37</td>\n",
              "    </tr>\n",
              "  </tbody>\n",
              "</table>\n",
              "</div>"
            ],
            "text/plain": [
              "     f1  precision  recall  accuracy\n",
              "0  0.65       0.61    0.69      0.69\n",
              "1  0.54       0.56    0.52      0.52\n",
              "2  0.39       0.42    0.37      0.37"
            ]
          },
          "execution_count": 115,
          "metadata": {},
          "output_type": "execute_result"
        }
      ],
      "source": [
        "res_table = pd.DataFrame({'f1': np.round(f1,2), 'precision': np.round(precision,2), \n",
        "'recall': np.round(recall,2), 'accuracy': np.round(accuracy,2)})\n",
        "res_table"
      ]
    },
    {
      "cell_type": "code",
      "execution_count": 116,
      "metadata": {},
      "outputs": [
        {
          "data": {
            "text/plain": [
              "f1           0.53\n",
              "precision    0.53\n",
              "recall       0.53\n",
              "accuracy     0.53\n",
              "dtype: float64"
            ]
          },
          "execution_count": 116,
          "metadata": {},
          "output_type": "execute_result"
        }
      ],
      "source": [
        "round(res_table.mean(axis=0),2)"
      ]
    },
    {
      "cell_type": "code",
      "execution_count": 56,
      "metadata": {},
      "outputs": [],
      "source": [
        "def d2v_reduct(model):\n",
        "    keys = [k for k in model.dv.index_to_key]\n",
        "    M = model.vector_size\n",
        "    P = len(keys)\n",
        "    embed_dict = {}\n",
        "    for i in range( P ):\n",
        "        embed_dict.update({keys[i]: model.dv[keys[i]]})   \n",
        "    return embed_dict\n",
        "\n"
      ]
    },
    {
      "cell_type": "code",
      "execution_count": 117,
      "metadata": {},
      "outputs": [],
      "source": [
        "def d2v_pred(model, dataset):\n",
        "    res = []\n",
        "    for index, row in dataset.iterrows():\n",
        "        text = row['text_cleaned']\n",
        "        infer = model.infer_vector(text.split())\n",
        "        res.append(infer)\n",
        "    return np.array(res)\n"
      ]
    },
    {
      "attachments": {},
      "cell_type": "markdown",
      "metadata": {},
      "source": [
        "#### XLM-Roberta-XL"
      ]
    },
    {
      "attachments": {},
      "cell_type": "markdown",
      "metadata": {},
      "source": [
        "## Validation: supervised vs unsupervised dimensionality reduction"
      ]
    },
    {
      "attachments": {},
      "cell_type": "markdown",
      "metadata": {},
      "source": [
        "### Contextual embeddings: manual supervised dimensionality reduction technique vs PCA"
      ]
    },
    {
      "attachments": {},
      "cell_type": "markdown",
      "metadata": {},
      "source": [
        "### Doc2Vec embeddings: manual supervised dimensionality reduction technique vs PCA"
      ]
    },
    {
      "attachments": {},
      "cell_type": "markdown",
      "metadata": {},
      "source": [
        "### Contextual embeddings: manual supervised dimensionality reduction technique vs LDA"
      ]
    },
    {
      "attachments": {},
      "cell_type": "markdown",
      "metadata": {},
      "source": [
        "# Example 2: Stances toward Trump (from Bestvater and Monroe 2022) "
      ]
    },
    {
      "attachments": {},
      "cell_type": "markdown",
      "metadata": {},
      "source": [
        "## Data preparation"
      ]
    },
    {
      "attachments": {},
      "cell_type": "markdown",
      "metadata": {},
      "source": [
        "## Classification with xlm-roberta-base"
      ]
    },
    {
      "attachments": {},
      "cell_type": "markdown",
      "metadata": {},
      "source": [
        "## Scaling with Sentence Transformer"
      ]
    },
    {
      "attachments": {},
      "cell_type": "markdown",
      "metadata": {},
      "source": [
        "## Validation: Comparing classification performances"
      ]
    },
    {
      "attachments": {},
      "cell_type": "markdown",
      "metadata": {},
      "source": [
        "### Bags-of-words with TF-IDF"
      ]
    },
    {
      "attachments": {},
      "cell_type": "markdown",
      "metadata": {
        "notebookRunGroups": {
          "groupValue": "2"
        }
      },
      "source": [
        "### Doc2Vec"
      ]
    },
    {
      "attachments": {},
      "cell_type": "markdown",
      "metadata": {},
      "source": [
        "### XLM-Roberta-XL"
      ]
    },
    {
      "attachments": {},
      "cell_type": "markdown",
      "metadata": {},
      "source": [
        "## Validation: Mapping ideology affiliation against scaled positions"
      ]
    },
    {
      "attachments": {},
      "cell_type": "markdown",
      "metadata": {},
      "source": [
        "# Extensions"
      ]
    },
    {
      "attachments": {},
      "cell_type": "markdown",
      "metadata": {},
      "source": [
        "## Cross-lingual classification performance"
      ]
    },
    {
      "attachments": {},
      "cell_type": "markdown",
      "metadata": {},
      "source": [
        "## Extending to other definitions of ideologies: CAP - 4 classes"
      ]
    },
    {
      "attachments": {},
      "cell_type": "markdown",
      "metadata": {},
      "source": [
        "# Scaling with Sentence Transformers"
      ]
    },
    {
      "attachments": {},
      "cell_type": "markdown",
      "metadata": {},
      "source": [
        "## Supervised scaling with Sentence Transformers and UMAP"
      ]
    },
    {
      "cell_type": "code",
      "execution_count": 24,
      "metadata": {},
      "outputs": [],
      "source": [
        "transformer_model = 'results/multilingual/manifesto_3cl/checkpoint-3190'\n",
        "model = XLMRobertaForSequenceClassification.from_pretrained(transformer_model).to(device)\n",
        "tokenizer = AutoTokenizer.from_pretrained(transformer_model)\n"
      ]
    },
    {
      "cell_type": "code",
      "execution_count": 312,
      "metadata": {},
      "outputs": [],
      "source": [
        "manifesto_deu = manifesto[manifesto['country'] == 'Germany'].reset_index(drop=True)\n",
        "manifesto_deu_rgr = manifesto_regrouped[manifesto_regrouped['country'] == 'Germany'].reset_index(drop=True)"
      ]
    },
    {
      "cell_type": "code",
      "execution_count": 313,
      "metadata": {},
      "outputs": [],
      "source": [
        "def party_agg(name):\n",
        "    if any([x in name for x in ['Linke','Sozialismus']]):\n",
        "        return('PDS/Die Linke')\n",
        "    elif name.find('Sozialdemokratische') != -1:\n",
        "        return('SPD')\n",
        "    elif name.find('Christlich') != -1:\n",
        "        return('CDU/CSU')\n",
        "    elif name.find('Freie') != -1:\n",
        "        return('FDP')\n",
        "    elif name.find('Grünen') != -1:\n",
        "        return('Die Grünen')\n",
        "    elif name.find('Alternative') != -1:\n",
        "        return('AfD')\n",
        "    else:\n",
        "        return('NA')\n",
        "\n",
        "    "
      ]
    },
    {
      "cell_type": "code",
      "execution_count": null,
      "metadata": {},
      "outputs": [],
      "source": [
        "manifesto_deu['party_agg'] = manifesto_deu['name'].apply(party_agg)\n",
        "manifesto_deu_rgr['party_agg'] = manifesto_deu_rgr['party'].apply(party_agg)"
      ]
    },
    {
      "cell_type": "code",
      "execution_count": 314,
      "metadata": {},
      "outputs": [],
      "source": [
        "manifesto_deu = manifesto_deu[manifesto_deu.party_agg != 'NA'].reset_index(drop=True)\n",
        "manifesto_deu_rgr = manifesto_deu_rgr[manifesto_deu_rgr.party_agg != 'NA'].reset_index(drop=True)"
      ]
    },
    {
      "cell_type": "code",
      "execution_count": 315,
      "metadata": {},
      "outputs": [
        {
          "data": {
            "text/plain": [
              "{'AfD', 'CDU/CSU', 'Die Grünen', 'FDP', 'PDS/Die Linke', 'SPD'}"
            ]
          },
          "execution_count": 315,
          "metadata": {},
          "output_type": "execute_result"
        }
      ],
      "source": [
        "set(manifesto_deu['party_agg'])\n",
        "\n"
      ]
    },
    {
      "cell_type": "code",
      "execution_count": 316,
      "metadata": {},
      "outputs": [
        {
          "data": {
            "text/plain": [
              "{'AfD', 'CDU/CSU', 'Die Grünen', 'FDP', 'PDS/Die Linke', 'SPD'}"
            ]
          },
          "execution_count": 316,
          "metadata": {},
          "output_type": "execute_result"
        }
      ],
      "source": [
        "set(manifesto_deu_rgr['party_agg'])\n"
      ]
    },
    {
      "cell_type": "code",
      "execution_count": 318,
      "metadata": {},
      "outputs": [
        {
          "data": {
            "text/plain": [
              "78191"
            ]
          },
          "execution_count": 318,
          "metadata": {},
          "output_type": "execute_result"
        }
      ],
      "source": [
        "len(manifesto_deu)"
      ]
    },
    {
      "cell_type": "code",
      "execution_count": 317,
      "metadata": {},
      "outputs": [
        {
          "data": {
            "text/plain": [
              "26096"
            ]
          },
          "execution_count": 317,
          "metadata": {},
          "output_type": "execute_result"
        }
      ],
      "source": [
        "len(manifesto_deu_rgr)"
      ]
    },
    {
      "cell_type": "code",
      "execution_count": 319,
      "metadata": {},
      "outputs": [],
      "source": [
        "def cmp_scale(dataframe, group_vars, sent_var):\n",
        "    relscale = []\n",
        "    absscale = []\n",
        "    logscale = []\n",
        "    name_ls = []\n",
        "    for name, group in dataframe.groupby(group_vars):\n",
        "        text = group['text'].tolist()\n",
        "        len_all = len(text)\n",
        "        left = group[group[sent_var] =='left'][sent_var].tolist()\n",
        "        right = group[group[sent_var] =='right'][sent_var].tolist()\n",
        "        relscale.append((len(right)-len(left))/(len(left)+len(right)))\n",
        "        absscale.append((len(right)-len(left))/len_all)\n",
        "        logscale.append(np.log(len(right)+0.5) - np.log(len(left)+0.5))\n",
        "        name_ls.append(name)\n",
        "    return(absscale, relscale, logscale, name_ls)\n",
        "    "
      ]
    },
    {
      "cell_type": "code",
      "execution_count": 320,
      "metadata": {},
      "outputs": [],
      "source": [
        "absscale, relscale, logscale, name_ls = cmp_scale(manifesto_deu, group_vars=['party_agg','election'], sent_var='sentiment')"
      ]
    },
    {
      "cell_type": "code",
      "execution_count": 63,
      "metadata": {},
      "outputs": [],
      "source": [
        "def encode_embeds(dataframe, group_vars, model):\n",
        "    embed_dict = {}\n",
        "    for name, group in dataframe.groupby(group_vars):\n",
        "        text = group['text'].tolist()\n",
        "        embeds = model.encode(text)\n",
        "        embed_dict.update({name: embeds})\n",
        "    document_embed = np.vstack(list(embed_dict.values()))\n",
        "    return(document_embed)\n",
        "\n"
      ]
    },
    {
      "cell_type": "code",
      "execution_count": 323,
      "metadata": {},
      "outputs": [],
      "source": [
        "texts = manifesto_deu_rgr['text'].tolist()"
      ]
    },
    {
      "cell_type": "code",
      "execution_count": 60,
      "metadata": {},
      "outputs": [],
      "source": [
        "def get_prediction(model, texts):\n",
        "  res = []\n",
        "  with torch.no_grad():\n",
        "    for idx, x in enumerate(texts):\n",
        "      if idx % 1000 == 0:\n",
        "        print(idx)\n",
        "      inputs = tokenizer(x, padding=True, truncation=True, return_tensors=\"pt\").to(device)\n",
        "      # perform inference to our model\n",
        "      outputs = model(**inputs)\n",
        "      # get output probabilities by doing softmax\n",
        "      logits = outputs['logits']\n",
        "      argmax = logits.argmax(1)\n",
        "      res.append(argmax)\n",
        "  return res"
      ]
    },
    {
      "cell_type": "code",
      "execution_count": 325,
      "metadata": {},
      "outputs": [
        {
          "name": "stdout",
          "output_type": "stream",
          "text": [
            "0\n",
            "1000\n",
            "2000\n",
            "3000\n",
            "4000\n",
            "5000\n",
            "6000\n",
            "7000\n",
            "8000\n",
            "9000\n",
            "10000\n",
            "11000\n",
            "12000\n",
            "13000\n",
            "14000\n",
            "15000\n",
            "16000\n",
            "17000\n",
            "18000\n",
            "19000\n",
            "20000\n",
            "21000\n",
            "22000\n",
            "23000\n",
            "24000\n",
            "25000\n",
            "26000\n"
          ]
        }
      ],
      "source": [
        "results = get_prediction(model, texts)"
      ]
    },
    {
      "cell_type": "code",
      "execution_count": 326,
      "metadata": {},
      "outputs": [],
      "source": [
        "guide_labels = np.array([pred.cpu().detach().numpy() for pred in results])"
      ]
    },
    {
      "cell_type": "code",
      "execution_count": 327,
      "metadata": {},
      "outputs": [
        {
          "data": {
            "text/plain": [
              "(26096, 1)"
            ]
          },
          "execution_count": 327,
          "metadata": {},
          "output_type": "execute_result"
        }
      ],
      "source": [
        "guide_labels.shape"
      ]
    },
    {
      "cell_type": "code",
      "execution_count": 328,
      "metadata": {},
      "outputs": [
        {
          "name": "stderr",
          "output_type": "stream",
          "text": [
            "Some weights of the model checkpoint at results/multilingual/manifesto_3cl/checkpoint-3190 were not used when initializing XLMRobertaModel: ['classifier.out_proj.weight', 'classifier.dense.weight', 'classifier.dense.bias', 'classifier.out_proj.bias']\n",
            "- This IS expected if you are initializing XLMRobertaModel from the checkpoint of a model trained on another task or with another architecture (e.g. initializing a BertForSequenceClassification model from a BertForPreTraining model).\n",
            "- This IS NOT expected if you are initializing XLMRobertaModel from the checkpoint of a model that you expect to be exactly identical (initializing a BertForSequenceClassification model from a BertForSequenceClassification model).\n",
            "Some weights of XLMRobertaModel were not initialized from the model checkpoint at results/multilingual/manifesto_3cl/checkpoint-3190 and are newly initialized: ['roberta.pooler.dense.weight', 'roberta.pooler.dense.bias']\n",
            "You should probably TRAIN this model on a down-stream task to be able to use it for predictions and inference.\n"
          ]
        }
      ],
      "source": [
        "word_embedding_model = models.Transformer(transformer_model)\n",
        "pooling_model = models.Pooling(word_embedding_model.get_word_embedding_dimension(), 'cls')\n",
        "model = SentenceTransformer(modules=[word_embedding_model, pooling_model]).to(device)"
      ]
    },
    {
      "cell_type": "code",
      "execution_count": 329,
      "metadata": {},
      "outputs": [],
      "source": [
        "document_embed = encode_embeds(manifesto_deu_rgr, ['party_agg','election'], model)"
      ]
    },
    {
      "cell_type": "code",
      "execution_count": 330,
      "metadata": {},
      "outputs": [],
      "source": [
        "from sklearn.decomposition import TruncatedSVD"
      ]
    },
    {
      "cell_type": "code",
      "execution_count": 9,
      "metadata": {},
      "outputs": [],
      "source": [
        "def scale_topic(document_embed, guide_labels, sparse=False, guidance_weight=0.8, **kwargs):\n",
        "    y = guide_labels\n",
        "    if len(y) <= 10000:\n",
        "        k_recommended = 250\n",
        "    elif 10000 <= len(y) <= 50000:\n",
        "        k_recommended = 500\n",
        "    elif len(y) >=50000:\n",
        "        k_recommended = 1000\n",
        "    if sparse:\n",
        "        svd = TruncatedSVD(n_components=50)\n",
        "        embeddings_reduced = svd.fit_transform(document_embed)\n",
        "    else:\n",
        "        pca = PCA(n_components=50)\n",
        "        embeddings_reduced = pca.fit_transform(document_embed)\n",
        "    embeddings = umap.UMAP(n_components=1, n_neighbors=k_recommended, n_epochs=500, metric='euclidean', \n",
        "                            target_weight=guidance_weight, low_memory=True, verbose=True, **kwargs).fit_transform(embeddings_reduced, y=y)\n",
        "\n",
        "    return embeddings\n",
        "        \n"
      ]
    },
    {
      "cell_type": "code",
      "execution_count": 333,
      "metadata": {},
      "outputs": [
        {
          "name": "stdout",
          "output_type": "stream",
          "text": [
            "UMAP(n_components=1, n_epochs=500, n_neighbors=500, verbose=True)\n",
            "Mon Apr 10 17:07:22 2023 Construct fuzzy simplicial set\n",
            "Mon Apr 10 17:07:22 2023 Finding Nearest Neighbors\n",
            "Mon Apr 10 17:07:22 2023 Building RP forest with 13 trees\n",
            "Mon Apr 10 17:07:22 2023 NN descent for 15 iterations\n",
            "\t 1  /  15\n",
            "\t 2  /  15\n",
            "\t 3  /  15\n",
            "\t 4  /  15\n",
            "\tStopping threshold met -- exiting after 4 iterations\n",
            "Mon Apr 10 17:08:01 2023 Finished Nearest Neighbor Search\n",
            "Mon Apr 10 17:08:07 2023 Construct embedding\n"
          ]
        },
        {
          "data": {
            "application/vnd.jupyter.widget-view+json": {
              "model_id": "5756af7ed7bc4733a8bd866d3f54c6af",
              "version_major": 2,
              "version_minor": 0
            },
            "text/plain": [
              "Epochs completed:   0%|            0/500 [00:00]"
            ]
          },
          "metadata": {},
          "output_type": "display_data"
        },
        {
          "name": "stdout",
          "output_type": "stream",
          "text": [
            "Mon Apr 10 17:08:35 2023 Finished embedding\n"
          ]
        }
      ],
      "source": [
        "results = scale_topic( document_embed=document_embed, guide_labels = guide_labels)"
      ]
    },
    {
      "cell_type": "code",
      "execution_count": 334,
      "metadata": {},
      "outputs": [],
      "source": [
        "emb_mean_dict = {}\n",
        "for name, group in manifesto_deu_rgr.groupby(['party_agg','election']):\n",
        "    idx = group.index\n",
        "    embed = results[idx]\n",
        "    embed_mean = np.mean(embed, axis=0)\n",
        "    emb_mean_dict.update({name: embed_mean})"
      ]
    },
    {
      "cell_type": "code",
      "execution_count": 335,
      "metadata": {},
      "outputs": [],
      "source": [
        "final_embeds = np.stack(list(emb_mean_dict.values()))"
      ]
    },
    {
      "cell_type": "code",
      "execution_count": 336,
      "metadata": {},
      "outputs": [
        {
          "data": {
            "text/plain": [
              "array([[ 1.        , -0.81297573],\n",
              "       [-0.81297573,  1.        ]])"
            ]
          },
          "execution_count": 336,
          "metadata": {},
          "output_type": "execute_result"
        }
      ],
      "source": [
        "np.corrcoef(logscale, final_embeds[:,0])"
      ]
    },
    {
      "cell_type": "code",
      "execution_count": 339,
      "metadata": {},
      "outputs": [],
      "source": [
        "enc = OrdinalEncoder()\n",
        "guide_labels = enc.fit_transform(np.array(manifesto_deu_rgr['sentiment'].tolist()).reshape(-1,1))"
      ]
    },
    {
      "cell_type": "code",
      "execution_count": 340,
      "metadata": {},
      "outputs": [
        {
          "name": "stdout",
          "output_type": "stream",
          "text": [
            "UMAP(n_components=1, n_epochs=500, n_neighbors=500, verbose=True)\n",
            "Mon Apr 10 17:12:46 2023 Construct fuzzy simplicial set\n",
            "Mon Apr 10 17:12:46 2023 Finding Nearest Neighbors\n",
            "Mon Apr 10 17:12:46 2023 Building RP forest with 13 trees\n",
            "Mon Apr 10 17:12:46 2023 NN descent for 15 iterations\n",
            "\t 1  /  15\n",
            "\t 2  /  15\n",
            "\t 3  /  15\n",
            "\t 4  /  15\n",
            "\tStopping threshold met -- exiting after 4 iterations\n",
            "Mon Apr 10 17:13:25 2023 Finished Nearest Neighbor Search\n",
            "Mon Apr 10 17:13:32 2023 Construct embedding\n"
          ]
        },
        {
          "data": {
            "application/vnd.jupyter.widget-view+json": {
              "model_id": "cca08ca3810c47f186ffb0c90941557d",
              "version_major": 2,
              "version_minor": 0
            },
            "text/plain": [
              "Epochs completed:   0%|            0/500 [00:00]"
            ]
          },
          "metadata": {},
          "output_type": "display_data"
        },
        {
          "name": "stdout",
          "output_type": "stream",
          "text": [
            "Mon Apr 10 17:13:53 2023 Finished embedding\n"
          ]
        }
      ],
      "source": [
        "results = scale_topic(dataframe=manifesto_deu_rgr, document_embed=document_embed, code_var='sentiment', guide_labels = guide_labels, guidance_weight=0.5)"
      ]
    },
    {
      "cell_type": "code",
      "execution_count": 341,
      "metadata": {},
      "outputs": [],
      "source": [
        "emb_mean_dict = {}\n",
        "for name, group in manifesto_deu_rgr.groupby(['party_agg','election']):\n",
        "    idx = group.index\n",
        "    embed = results[idx]\n",
        "    embed_mean = np.mean(embed, axis=0)\n",
        "    emb_mean_dict.update({name: embed_mean})"
      ]
    },
    {
      "cell_type": "code",
      "execution_count": 342,
      "metadata": {},
      "outputs": [],
      "source": [
        "final_embeds = np.stack(list(emb_mean_dict.values()))"
      ]
    },
    {
      "cell_type": "code",
      "execution_count": 343,
      "metadata": {},
      "outputs": [
        {
          "data": {
            "text/plain": [
              "array([[ 1.        , -0.82447658],\n",
              "       [-0.82447658,  1.        ]])"
            ]
          },
          "execution_count": 343,
          "metadata": {},
          "output_type": "execute_result"
        }
      ],
      "source": [
        "np.corrcoef(logscale, final_embeds[:,0])"
      ]
    },
    {
      "cell_type": "code",
      "execution_count": 344,
      "metadata": {},
      "outputs": [],
      "source": [
        "tfm_05 = final_embeds"
      ]
    },
    {
      "cell_type": "code",
      "execution_count": null,
      "metadata": {},
      "outputs": [],
      "source": []
    },
    {
      "cell_type": "code",
      "execution_count": 461,
      "metadata": {},
      "outputs": [],
      "source": [
        "labels = ['_'.join([str(n) for n in name]) for name, group in manifesto_deu_rgr.groupby(['party_agg','election'])]\n",
        "party = [lab.split('_')[0] for lab in labels]\n",
        "year = [int(lab.split('_')[1]) for lab in labels]\n",
        "#sentiment = [lab.split('_')[2] for lab in labels]\n"
      ]
    },
    {
      "attachments": {},
      "cell_type": "markdown",
      "metadata": {},
      "source": [
        "## Supervised scaling with Doc2Vec and Bags-of-words"
      ]
    },
    {
      "attachments": {},
      "cell_type": "markdown",
      "metadata": {},
      "source": [
        "### Doc2Vec"
      ]
    },
    {
      "cell_type": "code",
      "execution_count": 345,
      "metadata": {},
      "outputs": [],
      "source": [
        "model = Doc2Vec.load(os.path.join('results','d2v', 'd2v_3cl'))"
      ]
    },
    {
      "cell_type": "code",
      "execution_count": 346,
      "metadata": {},
      "outputs": [
        {
          "data": {
            "text/html": [
              "<div>\n",
              "<style scoped>\n",
              "    .dataframe tbody tr th:only-of-type {\n",
              "        vertical-align: middle;\n",
              "    }\n",
              "\n",
              "    .dataframe tbody tr th {\n",
              "        vertical-align: top;\n",
              "    }\n",
              "\n",
              "    .dataframe thead th {\n",
              "        text-align: right;\n",
              "    }\n",
              "</style>\n",
              "<table border=\"1\" class=\"dataframe\">\n",
              "  <thead>\n",
              "    <tr style=\"text-align: right;\">\n",
              "      <th></th>\n",
              "      <th>text</th>\n",
              "      <th>country_party_election_sentiment</th>\n",
              "      <th>country</th>\n",
              "      <th>party</th>\n",
              "      <th>election</th>\n",
              "      <th>sentiment</th>\n",
              "      <th>text_cleaned</th>\n",
              "      <th>party_agg</th>\n",
              "    </tr>\n",
              "  </thead>\n",
              "  <tbody>\n",
              "    <tr>\n",
              "      <th>0</th>\n",
              "      <td>Deutschland hat eine Regierung, die mit großen...</td>\n",
              "      <td>Germany_Partei des Demokratischen Sozialismus_...</td>\n",
              "      <td>Germany</td>\n",
              "      <td>Partei des Demokratischen Sozialismus</td>\n",
              "      <td>2002</td>\n",
              "      <td>right</td>\n",
              "      <td>deutschland regierung großen hoffnungen gewähl...</td>\n",
              "      <td>PDS/Die Linke</td>\n",
              "    </tr>\n",
              "    <tr>\n",
              "      <th>1</th>\n",
              "      <td>Wir schätzen den geistigen, kulturellen und et...</td>\n",
              "      <td>Germany_Partei des Demokratischen Sozialismus_...</td>\n",
              "      <td>Germany</td>\n",
              "      <td>Partei des Demokratischen Sozialismus</td>\n",
              "      <td>2002</td>\n",
              "      <td>right</td>\n",
              "      <td>schätzen geistigen kulturellen ethischen reich...</td>\n",
              "      <td>PDS/Die Linke</td>\n",
              "    </tr>\n",
              "    <tr>\n",
              "      <th>2</th>\n",
              "      <td>SPD und Grüne einerseits, CDU/CSU andererseits...</td>\n",
              "      <td>Germany_Partei des Demokratischen Sozialismus_...</td>\n",
              "      <td>Germany</td>\n",
              "      <td>Partei des Demokratischen Sozialismus</td>\n",
              "      <td>2002</td>\n",
              "      <td>right</td>\n",
              "      <td>spd grüne einerseits cdu csu andererseits stre...</td>\n",
              "      <td>PDS/Die Linke</td>\n",
              "    </tr>\n",
              "    <tr>\n",
              "      <th>3</th>\n",
              "      <td>Die intellektuelle Debatte in der Bundesrepubl...</td>\n",
              "      <td>Germany_Partei des Demokratischen Sozialismus_...</td>\n",
              "      <td>Germany</td>\n",
              "      <td>Partei des Demokratischen Sozialismus</td>\n",
              "      <td>2002</td>\n",
              "      <td>right</td>\n",
              "      <td>intellektuelle debatte bundesrepublik gesellsc...</td>\n",
              "      <td>PDS/Die Linke</td>\n",
              "    </tr>\n",
              "    <tr>\n",
              "      <th>4</th>\n",
              "      <td>Die Partei des Demokratischen Sozialismus will...</td>\n",
              "      <td>Germany_Partei des Demokratischen Sozialismus_...</td>\n",
              "      <td>Germany</td>\n",
              "      <td>Partei des Demokratischen Sozialismus</td>\n",
              "      <td>2002</td>\n",
              "      <td>right</td>\n",
              "      <td>partei demokratischen sozialismus realistische...</td>\n",
              "      <td>PDS/Die Linke</td>\n",
              "    </tr>\n",
              "  </tbody>\n",
              "</table>\n",
              "</div>"
            ],
            "text/plain": [
              "                                                text  \\\n",
              "0  Deutschland hat eine Regierung, die mit großen...   \n",
              "1  Wir schätzen den geistigen, kulturellen und et...   \n",
              "2  SPD und Grüne einerseits, CDU/CSU andererseits...   \n",
              "3  Die intellektuelle Debatte in der Bundesrepubl...   \n",
              "4  Die Partei des Demokratischen Sozialismus will...   \n",
              "\n",
              "                    country_party_election_sentiment  country  \\\n",
              "0  Germany_Partei des Demokratischen Sozialismus_...  Germany   \n",
              "1  Germany_Partei des Demokratischen Sozialismus_...  Germany   \n",
              "2  Germany_Partei des Demokratischen Sozialismus_...  Germany   \n",
              "3  Germany_Partei des Demokratischen Sozialismus_...  Germany   \n",
              "4  Germany_Partei des Demokratischen Sozialismus_...  Germany   \n",
              "\n",
              "                                   party election sentiment  \\\n",
              "0  Partei des Demokratischen Sozialismus     2002     right   \n",
              "1  Partei des Demokratischen Sozialismus     2002     right   \n",
              "2  Partei des Demokratischen Sozialismus     2002     right   \n",
              "3  Partei des Demokratischen Sozialismus     2002     right   \n",
              "4  Partei des Demokratischen Sozialismus     2002     right   \n",
              "\n",
              "                                        text_cleaned      party_agg  \n",
              "0  deutschland regierung großen hoffnungen gewähl...  PDS/Die Linke  \n",
              "1  schätzen geistigen kulturellen ethischen reich...  PDS/Die Linke  \n",
              "2  spd grüne einerseits cdu csu andererseits stre...  PDS/Die Linke  \n",
              "3  intellektuelle debatte bundesrepublik gesellsc...  PDS/Die Linke  \n",
              "4  partei demokratischen sozialismus realistische...  PDS/Die Linke  "
            ]
          },
          "execution_count": 346,
          "metadata": {},
          "output_type": "execute_result"
        }
      ],
      "source": [
        "manifesto_deu_rgr.head()"
      ]
    },
    {
      "cell_type": "code",
      "execution_count": 347,
      "metadata": {},
      "outputs": [],
      "source": [
        "document_embed = d2v_pred(model, manifesto_deu_rgr)"
      ]
    },
    {
      "cell_type": "code",
      "execution_count": 354,
      "metadata": {},
      "outputs": [
        {
          "data": {
            "text/plain": [
              "(26096, 300)"
            ]
          },
          "execution_count": 354,
          "metadata": {},
          "output_type": "execute_result"
        }
      ],
      "source": [
        "document_embed.shape"
      ]
    },
    {
      "cell_type": "code",
      "execution_count": 349,
      "metadata": {},
      "outputs": [],
      "source": [
        "pca = PCA(n_components=1)\n",
        "d2v_org = pca.fit_transform(document_embed)"
      ]
    },
    {
      "cell_type": "code",
      "execution_count": 350,
      "metadata": {},
      "outputs": [
        {
          "data": {
            "text/plain": [
              "(26096, 1)"
            ]
          },
          "execution_count": 350,
          "metadata": {},
          "output_type": "execute_result"
        }
      ],
      "source": [
        "d2v_org.shape"
      ]
    },
    {
      "cell_type": "code",
      "execution_count": 351,
      "metadata": {},
      "outputs": [],
      "source": [
        "emb_mean_dict = {}\n",
        "for name, group in manifesto_deu_rgr.groupby(['party_agg','election']):\n",
        "    idx = group.index\n",
        "    embed = d2v_org[idx]\n",
        "    embed_mean = np.mean(embed, axis=0)\n",
        "    emb_mean_dict.update({name: embed_mean})"
      ]
    },
    {
      "cell_type": "code",
      "execution_count": 352,
      "metadata": {},
      "outputs": [],
      "source": [
        "final_embeds = np.stack(list(emb_mean_dict.values()))"
      ]
    },
    {
      "cell_type": "code",
      "execution_count": 353,
      "metadata": {},
      "outputs": [],
      "source": [
        "d2v_embeds_org = final_embeds"
      ]
    },
    {
      "cell_type": "code",
      "execution_count": 355,
      "metadata": {},
      "outputs": [],
      "source": [
        "d2v_preds = test_doc2vec(manifesto_deu_rgr, model)"
      ]
    },
    {
      "cell_type": "code",
      "execution_count": 356,
      "metadata": {},
      "outputs": [],
      "source": [
        "guide_labels = d2v_preds.reshape(-1,1)"
      ]
    },
    {
      "cell_type": "code",
      "execution_count": 357,
      "metadata": {},
      "outputs": [
        {
          "data": {
            "text/plain": [
              "(26096, 1)"
            ]
          },
          "execution_count": 357,
          "metadata": {},
          "output_type": "execute_result"
        }
      ],
      "source": [
        "guide_labels.shape"
      ]
    },
    {
      "cell_type": "code",
      "execution_count": 358,
      "metadata": {},
      "outputs": [
        {
          "name": "stdout",
          "output_type": "stream",
          "text": [
            "UMAP(n_components=1, n_epochs=500, n_neighbors=500, target_weight=0.8, verbose=True)\n",
            "Mon Apr 10 17:16:28 2023 Construct fuzzy simplicial set\n",
            "Mon Apr 10 17:16:28 2023 Finding Nearest Neighbors\n",
            "Mon Apr 10 17:16:28 2023 Building RP forest with 13 trees\n",
            "Mon Apr 10 17:16:28 2023 NN descent for 15 iterations\n",
            "\t 1  /  15\n",
            "\t 2  /  15\n",
            "\t 3  /  15\n",
            "\tStopping threshold met -- exiting after 3 iterations\n",
            "Mon Apr 10 17:17:05 2023 Finished Nearest Neighbor Search\n",
            "Mon Apr 10 17:17:11 2023 Construct embedding\n"
          ]
        },
        {
          "data": {
            "application/vnd.jupyter.widget-view+json": {
              "model_id": "a9479bd180d6469a92dd8bfdd916b7bd",
              "version_major": 2,
              "version_minor": 0
            },
            "text/plain": [
              "Epochs completed:   0%|            0/500 [00:00]"
            ]
          },
          "metadata": {},
          "output_type": "display_data"
        },
        {
          "name": "stdout",
          "output_type": "stream",
          "text": [
            "Mon Apr 10 17:17:42 2023 Finished embedding\n"
          ]
        }
      ],
      "source": [
        "results = scale_topic(dataframe=manifesto_deu_rgr, document_embed=document_embed, code_var='sentiment', guide_labels=guide_labels)"
      ]
    },
    {
      "cell_type": "code",
      "execution_count": 359,
      "metadata": {},
      "outputs": [],
      "source": [
        "emb_mean_dict = {}\n",
        "for name, group in manifesto_deu_rgr.groupby(['party_agg','election']):\n",
        "    idx = group.index\n",
        "    embed = results[idx]\n",
        "    embed_mean = np.mean(embed, axis=0)\n",
        "    emb_mean_dict.update({name: embed_mean})"
      ]
    },
    {
      "cell_type": "code",
      "execution_count": 360,
      "metadata": {},
      "outputs": [],
      "source": [
        "final_embeds = np.stack(list(emb_mean_dict.values()))"
      ]
    },
    {
      "cell_type": "code",
      "execution_count": 361,
      "metadata": {},
      "outputs": [
        {
          "data": {
            "text/plain": [
              "array([[1.       , 0.9257443],\n",
              "       [0.9257443, 1.       ]])"
            ]
          },
          "execution_count": 361,
          "metadata": {},
          "output_type": "execute_result"
        }
      ],
      "source": [
        "np.corrcoef(logscale, final_embeds[:,0])"
      ]
    },
    {
      "cell_type": "code",
      "execution_count": 362,
      "metadata": {},
      "outputs": [],
      "source": [
        "d2v_embeds = final_embeds"
      ]
    },
    {
      "cell_type": "code",
      "execution_count": 367,
      "metadata": {},
      "outputs": [
        {
          "data": {
            "text/plain": [
              "array([[1.       , 0.2442411],\n",
              "       [0.2442411, 1.       ]])"
            ]
          },
          "execution_count": 367,
          "metadata": {},
          "output_type": "execute_result"
        }
      ],
      "source": [
        "np.corrcoef(d2v_embeds_org[:,0], d2v_embeds[:,0])"
      ]
    },
    {
      "cell_type": "code",
      "execution_count": 363,
      "metadata": {},
      "outputs": [],
      "source": [
        "enc = OrdinalEncoder()\n",
        "guide_labels = enc.fit_transform(np.array(manifesto_deu_rgr['sentiment'].tolist()).reshape(-1,1))"
      ]
    },
    {
      "cell_type": "code",
      "execution_count": 364,
      "metadata": {},
      "outputs": [
        {
          "name": "stdout",
          "output_type": "stream",
          "text": [
            "UMAP(n_components=1, n_epochs=500, n_neighbors=500, verbose=True)\n",
            "Mon Apr 10 17:17:56 2023 Construct fuzzy simplicial set\n",
            "Mon Apr 10 17:17:56 2023 Finding Nearest Neighbors\n",
            "Mon Apr 10 17:17:56 2023 Building RP forest with 13 trees\n",
            "Mon Apr 10 17:17:56 2023 NN descent for 15 iterations\n",
            "\t 1  /  15\n",
            "\t 2  /  15\n",
            "\t 3  /  15\n",
            "\tStopping threshold met -- exiting after 3 iterations\n",
            "Mon Apr 10 17:18:35 2023 Finished Nearest Neighbor Search\n",
            "Mon Apr 10 17:18:42 2023 Construct embedding\n"
          ]
        },
        {
          "data": {
            "application/vnd.jupyter.widget-view+json": {
              "model_id": "eec9e3c1b003460281c676f920c2f32e",
              "version_major": 2,
              "version_minor": 0
            },
            "text/plain": [
              "Epochs completed:   0%|            0/500 [00:00]"
            ]
          },
          "metadata": {},
          "output_type": "display_data"
        },
        {
          "name": "stdout",
          "output_type": "stream",
          "text": [
            "Mon Apr 10 17:19:10 2023 Finished embedding\n"
          ]
        }
      ],
      "source": [
        "results = scale_topic(dataframe=manifesto_deu_rgr, document_embed=document_embed, code_var='sentiment', guide_labels=guide_labels, guidance_weight=0.5)"
      ]
    },
    {
      "cell_type": "code",
      "execution_count": 368,
      "metadata": {},
      "outputs": [],
      "source": [
        "emb_mean_dict = {}\n",
        "for name, group in manifesto_deu_rgr.groupby(['party_agg','election']):\n",
        "    idx = group.index\n",
        "    embed = results[idx]\n",
        "    embed_mean = np.mean(embed, axis=0)\n",
        "    emb_mean_dict.update({name: embed_mean})"
      ]
    },
    {
      "cell_type": "code",
      "execution_count": 369,
      "metadata": {},
      "outputs": [],
      "source": [
        "final_embeds = np.stack(list(emb_mean_dict.values()))"
      ]
    },
    {
      "cell_type": "code",
      "execution_count": 370,
      "metadata": {},
      "outputs": [],
      "source": [
        "d2v_05 = final_embeds"
      ]
    },
    {
      "cell_type": "code",
      "execution_count": 373,
      "metadata": {},
      "outputs": [
        {
          "data": {
            "text/plain": [
              "array([[1.        , 0.19166086],\n",
              "       [0.19166086, 1.        ]])"
            ]
          },
          "execution_count": 373,
          "metadata": {},
          "output_type": "execute_result"
        }
      ],
      "source": [
        "np.corrcoef(logscale, d2v_05[:,0])"
      ]
    },
    {
      "attachments": {},
      "cell_type": "markdown",
      "metadata": {},
      "source": [
        "### Bags-of-words"
      ]
    },
    {
      "cell_type": "code",
      "execution_count": 374,
      "metadata": {},
      "outputs": [],
      "source": [
        "model = model_bow"
      ]
    },
    {
      "cell_type": "code",
      "execution_count": 375,
      "metadata": {},
      "outputs": [],
      "source": [
        "texts = manifesto_deu_rgr['text_cleaned'].tolist()"
      ]
    },
    {
      "cell_type": "code",
      "execution_count": 376,
      "metadata": {},
      "outputs": [],
      "source": [
        "document_embed = vect_bow.fit_transform(texts)"
      ]
    },
    {
      "cell_type": "code",
      "execution_count": 377,
      "metadata": {},
      "outputs": [],
      "source": [
        "guide_labels = model.predict(texts)"
      ]
    },
    {
      "cell_type": "code",
      "execution_count": 378,
      "metadata": {},
      "outputs": [
        {
          "name": "stdout",
          "output_type": "stream",
          "text": [
            "UMAP(n_components=1, n_epochs=500, n_neighbors=500, target_weight=0.8, verbose=True)\n",
            "Mon Apr 10 17:20:24 2023 Construct fuzzy simplicial set\n",
            "Mon Apr 10 17:20:24 2023 Finding Nearest Neighbors\n",
            "Mon Apr 10 17:20:24 2023 Building RP forest with 13 trees\n",
            "Mon Apr 10 17:20:24 2023 NN descent for 15 iterations\n",
            "\t 1  /  15\n",
            "\t 2  /  15\n",
            "\t 3  /  15\n",
            "\t 4  /  15\n",
            "\t 5  /  15\n",
            "\t 6  /  15\n",
            "\t 7  /  15\n",
            "\tStopping threshold met -- exiting after 7 iterations\n",
            "Mon Apr 10 17:21:18 2023 Finished Nearest Neighbor Search\n",
            "Mon Apr 10 17:21:22 2023 Construct embedding\n"
          ]
        },
        {
          "data": {
            "application/vnd.jupyter.widget-view+json": {
              "model_id": "ce1c6bc8426440249dc43801b7de27fa",
              "version_major": 2,
              "version_minor": 0
            },
            "text/plain": [
              "Epochs completed:   0%|            0/500 [00:00]"
            ]
          },
          "metadata": {},
          "output_type": "display_data"
        },
        {
          "name": "stdout",
          "output_type": "stream",
          "text": [
            "Mon Apr 10 17:21:53 2023 Finished embedding\n"
          ]
        }
      ],
      "source": [
        "results = scale_topic(dataframe=manifesto_deu_rgr, document_embed=document_embed, code_var='sentiment', sparse = True,guide_labels=guide_labels)"
      ]
    },
    {
      "cell_type": "code",
      "execution_count": 379,
      "metadata": {},
      "outputs": [],
      "source": [
        "emb_mean_dict = {}\n",
        "for name, group in manifesto_deu_rgr.groupby(['party_agg','election']):\n",
        "    idx = group.index\n",
        "    embed = results[idx]\n",
        "    embed_mean = np.mean(embed, axis=0)\n",
        "    emb_mean_dict.update({name: embed_mean})"
      ]
    },
    {
      "cell_type": "code",
      "execution_count": 380,
      "metadata": {},
      "outputs": [],
      "source": [
        "final_embeds = np.stack(list(emb_mean_dict.values()))"
      ]
    },
    {
      "cell_type": "code",
      "execution_count": 381,
      "metadata": {},
      "outputs": [
        {
          "data": {
            "text/plain": [
              "array([[1.        , 0.22539565],\n",
              "       [0.22539565, 1.        ]])"
            ]
          },
          "execution_count": 381,
          "metadata": {},
          "output_type": "execute_result"
        }
      ],
      "source": [
        "np.corrcoef(logscale, final_embeds[:,0])"
      ]
    },
    {
      "cell_type": "code",
      "execution_count": 382,
      "metadata": {},
      "outputs": [],
      "source": [
        "bow_embeds = final_embeds"
      ]
    },
    {
      "cell_type": "code",
      "execution_count": null,
      "metadata": {},
      "outputs": [],
      "source": [
        "transformer_embeds"
      ]
    },
    {
      "cell_type": "code",
      "execution_count": 387,
      "metadata": {},
      "outputs": [],
      "source": [
        "df1 = pd.DataFrame({'roberta_dim': transformer_embeds[:,0],  'party': party, 'year': year, 'lr_log': logscale, 'lr_abs': absscale, \n",
        "                   'bow_dim': bow_embeds[:,0], 'd2v_dim': d2v_embeds[:,0],'d2v_org': d2v_embeds_org[:,0],\n",
        "                   'tfm_05': tfm_05[:,0], 'd2v_05': d2v_05[:,0]} ) #,'dim2': score[:,1]\n"
      ]
    },
    {
      "cell_type": "code",
      "execution_count": 166,
      "metadata": {},
      "outputs": [
        {
          "data": {
            "image/png": "[encoded data removed]",
            "text/plain": [
              "<Figure size 640x480 with 1 Axes>"
            ]
          },
          "metadata": {},
          "output_type": "display_data"
        }
      ],
      "source": [
        "sns.set_theme()\n",
        "fig, ax = plt.subplots()\n",
        "ax.margins(0.05) # Optional, just adds 5% padding to the autoscaling\n",
        "for name, group in df1.groupby('party'):\n",
        "    ax.plot(group.year,group.lr_log, marker='o', linestyle='dashed', ms=4, label=name)\n",
        "ax.legend(loc='upper right')\n",
        "ax.set_xlabel('Year')\n",
        "ax.set_ylabel('Position')\n",
        "ax.set_title('CMP log scale over time', fontdict={'fontsize':16})\n",
        "plt.plot()\n",
        "plt.savefig('results/tabs and figs/figure5.png', dpi=300)"
      ]
    },
    {
      "cell_type": "code",
      "execution_count": 388,
      "metadata": {},
      "outputs": [],
      "source": [
        "df1.to_csv(os.path.join('data','py_outputs','lr_deu_party.csv'))"
      ]
    },
    {
      "cell_type": "code",
      "execution_count": 389,
      "metadata": {},
      "outputs": [
        {
          "data": {
            "text/html": [
              "<div>\n",
              "<style scoped>\n",
              "    .dataframe tbody tr th:only-of-type {\n",
              "        vertical-align: middle;\n",
              "    }\n",
              "\n",
              "    .dataframe tbody tr th {\n",
              "        vertical-align: top;\n",
              "    }\n",
              "\n",
              "    .dataframe thead th {\n",
              "        text-align: right;\n",
              "    }\n",
              "</style>\n",
              "<table border=\"1\" class=\"dataframe\">\n",
              "  <thead>\n",
              "    <tr style=\"text-align: right;\">\n",
              "      <th></th>\n",
              "      <th>roberta_dim</th>\n",
              "      <th>party</th>\n",
              "      <th>year</th>\n",
              "      <th>lr_log</th>\n",
              "      <th>lr_abs</th>\n",
              "      <th>bow_dim</th>\n",
              "      <th>d2v_dim</th>\n",
              "      <th>d2v_org</th>\n",
              "      <th>tfm_05</th>\n",
              "      <th>d2v_05</th>\n",
              "    </tr>\n",
              "  </thead>\n",
              "  <tbody>\n",
              "    <tr>\n",
              "      <th>0</th>\n",
              "      <td>1.861886</td>\n",
              "      <td>AfD</td>\n",
              "      <td>2013</td>\n",
              "      <td>-0.143101</td>\n",
              "      <td>-0.041667</td>\n",
              "      <td>4.592098</td>\n",
              "      <td>0.733149</td>\n",
              "      <td>-0.278483</td>\n",
              "      <td>3.532417</td>\n",
              "      <td>8.901798</td>\n",
              "    </tr>\n",
              "    <tr>\n",
              "      <th>1</th>\n",
              "      <td>7.382490</td>\n",
              "      <td>AfD</td>\n",
              "      <td>2017</td>\n",
              "      <td>0.536458</td>\n",
              "      <td>0.174477</td>\n",
              "      <td>3.947175</td>\n",
              "      <td>8.712276</td>\n",
              "      <td>0.080919</td>\n",
              "      <td>3.328852</td>\n",
              "      <td>-0.800472</td>\n",
              "    </tr>\n",
              "    <tr>\n",
              "      <th>2</th>\n",
              "      <td>7.937183</td>\n",
              "      <td>AfD</td>\n",
              "      <td>2021</td>\n",
              "      <td>0.771917</td>\n",
              "      <td>0.245870</td>\n",
              "      <td>4.890751</td>\n",
              "      <td>10.869759</td>\n",
              "      <td>0.053116</td>\n",
              "      <td>1.116451</td>\n",
              "      <td>-0.226309</td>\n",
              "    </tr>\n",
              "    <tr>\n",
              "      <th>3</th>\n",
              "      <td>13.606391</td>\n",
              "      <td>CDU/CSU</td>\n",
              "      <td>1998</td>\n",
              "      <td>0.985217</td>\n",
              "      <td>0.305302</td>\n",
              "      <td>-0.194247</td>\n",
              "      <td>9.179988</td>\n",
              "      <td>-0.004772</td>\n",
              "      <td>1.510877</td>\n",
              "      <td>1.860072</td>\n",
              "    </tr>\n",
              "    <tr>\n",
              "      <th>4</th>\n",
              "      <td>8.666358</td>\n",
              "      <td>CDU/CSU</td>\n",
              "      <td>2002</td>\n",
              "      <td>0.607892</td>\n",
              "      <td>0.184068</td>\n",
              "      <td>-0.767532</td>\n",
              "      <td>7.671690</td>\n",
              "      <td>0.031855</td>\n",
              "      <td>0.139024</td>\n",
              "      <td>-0.864409</td>\n",
              "    </tr>\n",
              "    <tr>\n",
              "      <th>5</th>\n",
              "      <td>8.599796</td>\n",
              "      <td>CDU/CSU</td>\n",
              "      <td>2005</td>\n",
              "      <td>0.921853</td>\n",
              "      <td>0.247074</td>\n",
              "      <td>-0.117116</td>\n",
              "      <td>5.930357</td>\n",
              "      <td>-0.082282</td>\n",
              "      <td>-0.158449</td>\n",
              "      <td>1.746664</td>\n",
              "    </tr>\n",
              "    <tr>\n",
              "      <th>6</th>\n",
              "      <td>5.381460</td>\n",
              "      <td>CDU/CSU</td>\n",
              "      <td>2009</td>\n",
              "      <td>0.137832</td>\n",
              "      <td>0.037975</td>\n",
              "      <td>-0.591890</td>\n",
              "      <td>3.743273</td>\n",
              "      <td>-0.099137</td>\n",
              "      <td>0.663024</td>\n",
              "      <td>2.451614</td>\n",
              "    </tr>\n",
              "    <tr>\n",
              "      <th>7</th>\n",
              "      <td>4.680404</td>\n",
              "      <td>CDU/CSU</td>\n",
              "      <td>2013</td>\n",
              "      <td>-0.117708</td>\n",
              "      <td>-0.036306</td>\n",
              "      <td>0.943255</td>\n",
              "      <td>4.604713</td>\n",
              "      <td>-0.000546</td>\n",
              "      <td>3.939986</td>\n",
              "      <td>-0.732091</td>\n",
              "    </tr>\n",
              "    <tr>\n",
              "      <th>8</th>\n",
              "      <td>6.945989</td>\n",
              "      <td>CDU/CSU</td>\n",
              "      <td>2017</td>\n",
              "      <td>-0.035919</td>\n",
              "      <td>-0.011940</td>\n",
              "      <td>1.883396</td>\n",
              "      <td>3.902706</td>\n",
              "      <td>-0.055907</td>\n",
              "      <td>4.219203</td>\n",
              "      <td>1.452646</td>\n",
              "    </tr>\n",
              "    <tr>\n",
              "      <th>9</th>\n",
              "      <td>5.822617</td>\n",
              "      <td>CDU/CSU</td>\n",
              "      <td>2021</td>\n",
              "      <td>-0.101039</td>\n",
              "      <td>-0.032432</td>\n",
              "      <td>0.647190</td>\n",
              "      <td>3.807484</td>\n",
              "      <td>0.008673</td>\n",
              "      <td>3.946105</td>\n",
              "      <td>-0.760950</td>\n",
              "    </tr>\n",
              "    <tr>\n",
              "      <th>10</th>\n",
              "      <td>1.420381</td>\n",
              "      <td>Die Grünen</td>\n",
              "      <td>1998</td>\n",
              "      <td>-0.933018</td>\n",
              "      <td>-0.274416</td>\n",
              "      <td>1.290945</td>\n",
              "      <td>-0.130223</td>\n",
              "      <td>0.057696</td>\n",
              "      <td>7.780862</td>\n",
              "      <td>-3.269899</td>\n",
              "    </tr>\n",
              "    <tr>\n",
              "      <th>11</th>\n",
              "      <td>-2.685271</td>\n",
              "      <td>Die Grünen</td>\n",
              "      <td>2002</td>\n",
              "      <td>-0.954414</td>\n",
              "      <td>-0.272506</td>\n",
              "      <td>2.951546</td>\n",
              "      <td>-0.663411</td>\n",
              "      <td>-0.094862</td>\n",
              "      <td>5.027521</td>\n",
              "      <td>1.133262</td>\n",
              "    </tr>\n",
              "    <tr>\n",
              "      <th>12</th>\n",
              "      <td>0.636120</td>\n",
              "      <td>Die Grünen</td>\n",
              "      <td>2005</td>\n",
              "      <td>-0.739501</td>\n",
              "      <td>-0.201613</td>\n",
              "      <td>1.315138</td>\n",
              "      <td>2.444215</td>\n",
              "      <td>0.021783</td>\n",
              "      <td>3.383215</td>\n",
              "      <td>-1.888957</td>\n",
              "    </tr>\n",
              "    <tr>\n",
              "      <th>13</th>\n",
              "      <td>-0.358028</td>\n",
              "      <td>Die Grünen</td>\n",
              "      <td>2009</td>\n",
              "      <td>-0.937451</td>\n",
              "      <td>-0.253773</td>\n",
              "      <td>0.819109</td>\n",
              "      <td>0.107058</td>\n",
              "      <td>-0.056737</td>\n",
              "      <td>4.919879</td>\n",
              "      <td>-0.057268</td>\n",
              "    </tr>\n",
              "    <tr>\n",
              "      <th>14</th>\n",
              "      <td>-1.780034</td>\n",
              "      <td>Die Grünen</td>\n",
              "      <td>2013</td>\n",
              "      <td>-1.194596</td>\n",
              "      <td>-0.336864</td>\n",
              "      <td>1.294436</td>\n",
              "      <td>-0.724451</td>\n",
              "      <td>0.019921</td>\n",
              "      <td>7.133322</td>\n",
              "      <td>-2.159530</td>\n",
              "    </tr>\n",
              "    <tr>\n",
              "      <th>15</th>\n",
              "      <td>0.062461</td>\n",
              "      <td>Die Grünen</td>\n",
              "      <td>2017</td>\n",
              "      <td>-1.300462</td>\n",
              "      <td>-0.376634</td>\n",
              "      <td>0.878221</td>\n",
              "      <td>-2.105317</td>\n",
              "      <td>0.041529</td>\n",
              "      <td>7.808047</td>\n",
              "      <td>-3.217778</td>\n",
              "    </tr>\n",
              "    <tr>\n",
              "      <th>16</th>\n",
              "      <td>-1.108645</td>\n",
              "      <td>Die Grünen</td>\n",
              "      <td>2021</td>\n",
              "      <td>-1.208141</td>\n",
              "      <td>-0.363061</td>\n",
              "      <td>1.636179</td>\n",
              "      <td>-1.038051</td>\n",
              "      <td>0.176599</td>\n",
              "      <td>9.031638</td>\n",
              "      <td>-6.276641</td>\n",
              "    </tr>\n",
              "    <tr>\n",
              "      <th>17</th>\n",
              "      <td>7.145257</td>\n",
              "      <td>FDP</td>\n",
              "      <td>1998</td>\n",
              "      <td>0.388016</td>\n",
              "      <td>0.110313</td>\n",
              "      <td>0.659020</td>\n",
              "      <td>8.815378</td>\n",
              "      <td>0.099854</td>\n",
              "      <td>2.735467</td>\n",
              "      <td>-2.206813</td>\n",
              "    </tr>\n",
              "    <tr>\n",
              "      <th>18</th>\n",
              "      <td>5.496033</td>\n",
              "      <td>FDP</td>\n",
              "      <td>2002</td>\n",
              "      <td>0.087727</td>\n",
              "      <td>0.024353</td>\n",
              "      <td>1.024359</td>\n",
              "      <td>7.869465</td>\n",
              "      <td>0.126967</td>\n",
              "      <td>0.533205</td>\n",
              "      <td>-3.952638</td>\n",
              "    </tr>\n",
              "    <tr>\n",
              "      <th>19</th>\n",
              "      <td>6.033787</td>\n",
              "      <td>FDP</td>\n",
              "      <td>2005</td>\n",
              "      <td>0.573925</td>\n",
              "      <td>0.156652</td>\n",
              "      <td>0.515233</td>\n",
              "      <td>7.550291</td>\n",
              "      <td>0.040368</td>\n",
              "      <td>-1.230447</td>\n",
              "      <td>-1.268759</td>\n",
              "    </tr>\n",
              "    <tr>\n",
              "      <th>20</th>\n",
              "      <td>4.554040</td>\n",
              "      <td>FDP</td>\n",
              "      <td>2009</td>\n",
              "      <td>-0.020313</td>\n",
              "      <td>-0.005830</td>\n",
              "      <td>0.618587</td>\n",
              "      <td>4.119202</td>\n",
              "      <td>0.021135</td>\n",
              "      <td>2.690496</td>\n",
              "      <td>-1.957308</td>\n",
              "    </tr>\n",
              "    <tr>\n",
              "      <th>21</th>\n",
              "      <td>6.246435</td>\n",
              "      <td>FDP</td>\n",
              "      <td>2013</td>\n",
              "      <td>0.332860</td>\n",
              "      <td>0.103906</td>\n",
              "      <td>2.224036</td>\n",
              "      <td>4.517299</td>\n",
              "      <td>-0.014040</td>\n",
              "      <td>3.719107</td>\n",
              "      <td>0.026245</td>\n",
              "    </tr>\n",
              "    <tr>\n",
              "      <th>22</th>\n",
              "      <td>5.537163</td>\n",
              "      <td>FDP</td>\n",
              "      <td>2017</td>\n",
              "      <td>0.024357</td>\n",
              "      <td>0.008281</td>\n",
              "      <td>0.687799</td>\n",
              "      <td>5.750036</td>\n",
              "      <td>0.110001</td>\n",
              "      <td>5.893324</td>\n",
              "      <td>-3.323677</td>\n",
              "    </tr>\n",
              "    <tr>\n",
              "      <th>23</th>\n",
              "      <td>3.014619</td>\n",
              "      <td>FDP</td>\n",
              "      <td>2021</td>\n",
              "      <td>-0.111453</td>\n",
              "      <td>-0.036623</td>\n",
              "      <td>0.698398</td>\n",
              "      <td>2.265902</td>\n",
              "      <td>0.067819</td>\n",
              "      <td>6.038308</td>\n",
              "      <td>-2.295759</td>\n",
              "    </tr>\n",
              "    <tr>\n",
              "      <th>24</th>\n",
              "      <td>1.516859</td>\n",
              "      <td>PDS/Die Linke</td>\n",
              "      <td>1998</td>\n",
              "      <td>-1.047154</td>\n",
              "      <td>-0.326327</td>\n",
              "      <td>2.610957</td>\n",
              "      <td>-0.739074</td>\n",
              "      <td>0.172931</td>\n",
              "      <td>10.475363</td>\n",
              "      <td>-4.086041</td>\n",
              "    </tr>\n",
              "    <tr>\n",
              "      <th>25</th>\n",
              "      <td>1.426228</td>\n",
              "      <td>PDS/Die Linke</td>\n",
              "      <td>2002</td>\n",
              "      <td>-0.764059</td>\n",
              "      <td>-0.236905</td>\n",
              "      <td>1.612971</td>\n",
              "      <td>2.131900</td>\n",
              "      <td>0.142492</td>\n",
              "      <td>6.429306</td>\n",
              "      <td>-5.871468</td>\n",
              "    </tr>\n",
              "    <tr>\n",
              "      <th>26</th>\n",
              "      <td>-2.653664</td>\n",
              "      <td>PDS/Die Linke</td>\n",
              "      <td>2005</td>\n",
              "      <td>-1.530359</td>\n",
              "      <td>-0.382867</td>\n",
              "      <td>-2.606952</td>\n",
              "      <td>0.752912</td>\n",
              "      <td>0.013363</td>\n",
              "      <td>5.457627</td>\n",
              "      <td>-1.070470</td>\n",
              "    </tr>\n",
              "    <tr>\n",
              "      <th>27</th>\n",
              "      <td>-1.518221</td>\n",
              "      <td>PDS/Die Linke</td>\n",
              "      <td>2009</td>\n",
              "      <td>-1.239114</td>\n",
              "      <td>-0.303614</td>\n",
              "      <td>1.733163</td>\n",
              "      <td>-2.651408</td>\n",
              "      <td>-0.136621</td>\n",
              "      <td>3.465355</td>\n",
              "      <td>2.969776</td>\n",
              "    </tr>\n",
              "    <tr>\n",
              "      <th>28</th>\n",
              "      <td>-4.620930</td>\n",
              "      <td>PDS/Die Linke</td>\n",
              "      <td>2013</td>\n",
              "      <td>-1.538294</td>\n",
              "      <td>-0.421117</td>\n",
              "      <td>-0.552738</td>\n",
              "      <td>-2.385819</td>\n",
              "      <td>0.022417</td>\n",
              "      <td>9.648583</td>\n",
              "      <td>-2.400568</td>\n",
              "    </tr>\n",
              "    <tr>\n",
              "      <th>29</th>\n",
              "      <td>-3.951841</td>\n",
              "      <td>PDS/Die Linke</td>\n",
              "      <td>2017</td>\n",
              "      <td>-2.018695</td>\n",
              "      <td>-0.481406</td>\n",
              "      <td>-0.717601</td>\n",
              "      <td>-3.657057</td>\n",
              "      <td>-0.036127</td>\n",
              "      <td>10.253867</td>\n",
              "      <td>-0.523871</td>\n",
              "    </tr>\n",
              "    <tr>\n",
              "      <th>30</th>\n",
              "      <td>-4.644923</td>\n",
              "      <td>PDS/Die Linke</td>\n",
              "      <td>2021</td>\n",
              "      <td>-1.653615</td>\n",
              "      <td>-0.455258</td>\n",
              "      <td>-0.200183</td>\n",
              "      <td>-4.073682</td>\n",
              "      <td>-0.039787</td>\n",
              "      <td>10.513989</td>\n",
              "      <td>0.348601</td>\n",
              "    </tr>\n",
              "    <tr>\n",
              "      <th>31</th>\n",
              "      <td>6.925501</td>\n",
              "      <td>SPD</td>\n",
              "      <td>1998</td>\n",
              "      <td>-0.094533</td>\n",
              "      <td>-0.030083</td>\n",
              "      <td>1.030614</td>\n",
              "      <td>5.373199</td>\n",
              "      <td>-0.084683</td>\n",
              "      <td>2.240842</td>\n",
              "      <td>1.745244</td>\n",
              "    </tr>\n",
              "    <tr>\n",
              "      <th>32</th>\n",
              "      <td>4.785523</td>\n",
              "      <td>SPD</td>\n",
              "      <td>2002</td>\n",
              "      <td>0.074842</td>\n",
              "      <td>0.021370</td>\n",
              "      <td>2.858723</td>\n",
              "      <td>2.810378</td>\n",
              "      <td>-0.155910</td>\n",
              "      <td>0.729391</td>\n",
              "      <td>4.271800</td>\n",
              "    </tr>\n",
              "    <tr>\n",
              "      <th>33</th>\n",
              "      <td>4.820319</td>\n",
              "      <td>SPD</td>\n",
              "      <td>2005</td>\n",
              "      <td>-0.107674</td>\n",
              "      <td>-0.030682</td>\n",
              "      <td>1.289621</td>\n",
              "      <td>3.575632</td>\n",
              "      <td>-0.116242</td>\n",
              "      <td>0.791623</td>\n",
              "      <td>1.903352</td>\n",
              "    </tr>\n",
              "    <tr>\n",
              "      <th>34</th>\n",
              "      <td>1.042259</td>\n",
              "      <td>SPD</td>\n",
              "      <td>2009</td>\n",
              "      <td>-0.864076</td>\n",
              "      <td>-0.233838</td>\n",
              "      <td>0.346683</td>\n",
              "      <td>-0.666591</td>\n",
              "      <td>-0.187964</td>\n",
              "      <td>4.255391</td>\n",
              "      <td>4.739578</td>\n",
              "    </tr>\n",
              "    <tr>\n",
              "      <th>35</th>\n",
              "      <td>0.576563</td>\n",
              "      <td>SPD</td>\n",
              "      <td>2013</td>\n",
              "      <td>-0.906527</td>\n",
              "      <td>-0.280195</td>\n",
              "      <td>0.741488</td>\n",
              "      <td>0.092009</td>\n",
              "      <td>-0.032423</td>\n",
              "      <td>6.797111</td>\n",
              "      <td>-0.324325</td>\n",
              "    </tr>\n",
              "    <tr>\n",
              "      <th>36</th>\n",
              "      <td>1.667508</td>\n",
              "      <td>SPD</td>\n",
              "      <td>2017</td>\n",
              "      <td>-0.803759</td>\n",
              "      <td>-0.251615</td>\n",
              "      <td>1.944136</td>\n",
              "      <td>-0.324163</td>\n",
              "      <td>-0.088533</td>\n",
              "      <td>6.055636</td>\n",
              "      <td>0.993510</td>\n",
              "    </tr>\n",
              "    <tr>\n",
              "      <th>37</th>\n",
              "      <td>-1.324237</td>\n",
              "      <td>SPD</td>\n",
              "      <td>2021</td>\n",
              "      <td>-1.083154</td>\n",
              "      <td>-0.331532</td>\n",
              "      <td>1.448648</td>\n",
              "      <td>-1.051439</td>\n",
              "      <td>-0.056637</td>\n",
              "      <td>9.821818</td>\n",
              "      <td>1.523159</td>\n",
              "    </tr>\n",
              "  </tbody>\n",
              "</table>\n",
              "</div>"
            ],
            "text/plain": [
              "    roberta_dim          party  year    lr_log    lr_abs   bow_dim    d2v_dim  \\\n",
              "0      1.861886            AfD  2013 -0.143101 -0.041667  4.592098   0.733149   \n",
              "1      7.382490            AfD  2017  0.536458  0.174477  3.947175   8.712276   \n",
              "2      7.937183            AfD  2021  0.771917  0.245870  4.890751  10.869759   \n",
              "3     13.606391        CDU/CSU  1998  0.985217  0.305302 -0.194247   9.179988   \n",
              "4      8.666358        CDU/CSU  2002  0.607892  0.184068 -0.767532   7.671690   \n",
              "5      8.599796        CDU/CSU  2005  0.921853  0.247074 -0.117116   5.930357   \n",
              "6      5.381460        CDU/CSU  2009  0.137832  0.037975 -0.591890   3.743273   \n",
              "7      4.680404        CDU/CSU  2013 -0.117708 -0.036306  0.943255   4.604713   \n",
              "8      6.945989        CDU/CSU  2017 -0.035919 -0.011940  1.883396   3.902706   \n",
              "9      5.822617        CDU/CSU  2021 -0.101039 -0.032432  0.647190   3.807484   \n",
              "10     1.420381     Die Grünen  1998 -0.933018 -0.274416  1.290945  -0.130223   \n",
              "11    -2.685271     Die Grünen  2002 -0.954414 -0.272506  2.951546  -0.663411   \n",
              "12     0.636120     Die Grünen  2005 -0.739501 -0.201613  1.315138   2.444215   \n",
              "13    -0.358028     Die Grünen  2009 -0.937451 -0.253773  0.819109   0.107058   \n",
              "14    -1.780034     Die Grünen  2013 -1.194596 -0.336864  1.294436  -0.724451   \n",
              "15     0.062461     Die Grünen  2017 -1.300462 -0.376634  0.878221  -2.105317   \n",
              "16    -1.108645     Die Grünen  2021 -1.208141 -0.363061  1.636179  -1.038051   \n",
              "17     7.145257            FDP  1998  0.388016  0.110313  0.659020   8.815378   \n",
              "18     5.496033            FDP  2002  0.087727  0.024353  1.024359   7.869465   \n",
              "19     6.033787            FDP  2005  0.573925  0.156652  0.515233   7.550291   \n",
              "20     4.554040            FDP  2009 -0.020313 -0.005830  0.618587   4.119202   \n",
              "21     6.246435            FDP  2013  0.332860  0.103906  2.224036   4.517299   \n",
              "22     5.537163            FDP  2017  0.024357  0.008281  0.687799   5.750036   \n",
              "23     3.014619            FDP  2021 -0.111453 -0.036623  0.698398   2.265902   \n",
              "24     1.516859  PDS/Die Linke  1998 -1.047154 -0.326327  2.610957  -0.739074   \n",
              "25     1.426228  PDS/Die Linke  2002 -0.764059 -0.236905  1.612971   2.131900   \n",
              "26    -2.653664  PDS/Die Linke  2005 -1.530359 -0.382867 -2.606952   0.752912   \n",
              "27    -1.518221  PDS/Die Linke  2009 -1.239114 -0.303614  1.733163  -2.651408   \n",
              "28    -4.620930  PDS/Die Linke  2013 -1.538294 -0.421117 -0.552738  -2.385819   \n",
              "29    -3.951841  PDS/Die Linke  2017 -2.018695 -0.481406 -0.717601  -3.657057   \n",
              "30    -4.644923  PDS/Die Linke  2021 -1.653615 -0.455258 -0.200183  -4.073682   \n",
              "31     6.925501            SPD  1998 -0.094533 -0.030083  1.030614   5.373199   \n",
              "32     4.785523            SPD  2002  0.074842  0.021370  2.858723   2.810378   \n",
              "33     4.820319            SPD  2005 -0.107674 -0.030682  1.289621   3.575632   \n",
              "34     1.042259            SPD  2009 -0.864076 -0.233838  0.346683  -0.666591   \n",
              "35     0.576563            SPD  2013 -0.906527 -0.280195  0.741488   0.092009   \n",
              "36     1.667508            SPD  2017 -0.803759 -0.251615  1.944136  -0.324163   \n",
              "37    -1.324237            SPD  2021 -1.083154 -0.331532  1.448648  -1.051439   \n",
              "\n",
              "     d2v_org     tfm_05    d2v_05  \n",
              "0  -0.278483   3.532417  8.901798  \n",
              "1   0.080919   3.328852 -0.800472  \n",
              "2   0.053116   1.116451 -0.226309  \n",
              "3  -0.004772   1.510877  1.860072  \n",
              "4   0.031855   0.139024 -0.864409  \n",
              "5  -0.082282  -0.158449  1.746664  \n",
              "6  -0.099137   0.663024  2.451614  \n",
              "7  -0.000546   3.939986 -0.732091  \n",
              "8  -0.055907   4.219203  1.452646  \n",
              "9   0.008673   3.946105 -0.760950  \n",
              "10  0.057696   7.780862 -3.269899  \n",
              "11 -0.094862   5.027521  1.133262  \n",
              "12  0.021783   3.383215 -1.888957  \n",
              "13 -0.056737   4.919879 -0.057268  \n",
              "14  0.019921   7.133322 -2.159530  \n",
              "15  0.041529   7.808047 -3.217778  \n",
              "16  0.176599   9.031638 -6.276641  \n",
              "17  0.099854   2.735467 -2.206813  \n",
              "18  0.126967   0.533205 -3.952638  \n",
              "19  0.040368  -1.230447 -1.268759  \n",
              "20  0.021135   2.690496 -1.957308  \n",
              "21 -0.014040   3.719107  0.026245  \n",
              "22  0.110001   5.893324 -3.323677  \n",
              "23  0.067819   6.038308 -2.295759  \n",
              "24  0.172931  10.475363 -4.086041  \n",
              "25  0.142492   6.429306 -5.871468  \n",
              "26  0.013363   5.457627 -1.070470  \n",
              "27 -0.136621   3.465355  2.969776  \n",
              "28  0.022417   9.648583 -2.400568  \n",
              "29 -0.036127  10.253867 -0.523871  \n",
              "30 -0.039787  10.513989  0.348601  \n",
              "31 -0.084683   2.240842  1.745244  \n",
              "32 -0.155910   0.729391  4.271800  \n",
              "33 -0.116242   0.791623  1.903352  \n",
              "34 -0.187964   4.255391  4.739578  \n",
              "35 -0.032423   6.797111 -0.324325  \n",
              "36 -0.088533   6.055636  0.993510  \n",
              "37 -0.056637   9.821818  1.523159  "
            ]
          },
          "execution_count": 389,
          "metadata": {},
          "output_type": "execute_result"
        }
      ],
      "source": [
        "df1"
      ]
    },
    {
      "attachments": {},
      "cell_type": "markdown",
      "metadata": {},
      "source": [
        "## Focus on one issue to show the differences "
      ]
    },
    {
      "cell_type": "code",
      "execution_count": 292,
      "metadata": {},
      "outputs": [],
      "source": [
        "transformer_model = 'results/multilingual/manifesto_3cl/checkpoint-3190'\n",
        "model = XLMRobertaForSequenceClassification.from_pretrained(transformer_model).to(device)\n",
        "tokenizer = AutoTokenizer.from_pretrained(transformer_model)\n"
      ]
    },
    {
      "cell_type": "code",
      "execution_count": 293,
      "metadata": {},
      "outputs": [],
      "source": [
        "manifesto_env = manifesto[(manifesto['country'] == 'Germany') & (manifesto['code_extract'].isin([501,416,410]))].reset_index(drop=True)\n"
      ]
    },
    {
      "cell_type": "code",
      "execution_count": 294,
      "metadata": {},
      "outputs": [],
      "source": [
        "manifesto_env['party_agg'] = manifesto_env['name'].apply(party_agg)\n",
        "manifesto_env = manifesto_env[manifesto_env.party_agg != 'NA'].reset_index(drop=True)"
      ]
    },
    {
      "cell_type": "code",
      "execution_count": 295,
      "metadata": {},
      "outputs": [],
      "source": [
        "absscale, relscale, logscale, name_ls = cmp_scale(manifesto_env, group_vars=['party_agg','election'], sent_var='sentiment')"
      ]
    },
    {
      "cell_type": "code",
      "execution_count": 296,
      "metadata": {},
      "outputs": [],
      "source": [
        "texts = manifesto_env['text'].tolist()"
      ]
    },
    {
      "cell_type": "code",
      "execution_count": 298,
      "metadata": {},
      "outputs": [
        {
          "name": "stderr",
          "output_type": "stream",
          "text": [
            "Some weights of the model checkpoint at results/multilingual/manifesto_3cl/checkpoint-3190 were not used when initializing XLMRobertaModel: ['classifier.out_proj.weight', 'classifier.dense.weight', 'classifier.dense.bias', 'classifier.out_proj.bias']\n",
            "- This IS expected if you are initializing XLMRobertaModel from the checkpoint of a model trained on another task or with another architecture (e.g. initializing a BertForSequenceClassification model from a BertForPreTraining model).\n",
            "- This IS NOT expected if you are initializing XLMRobertaModel from the checkpoint of a model that you expect to be exactly identical (initializing a BertForSequenceClassification model from a BertForSequenceClassification model).\n",
            "Some weights of XLMRobertaModel were not initialized from the model checkpoint at results/multilingual/manifesto_3cl/checkpoint-3190 and are newly initialized: ['roberta.pooler.dense.weight', 'roberta.pooler.dense.bias']\n",
            "You should probably TRAIN this model on a down-stream task to be able to use it for predictions and inference.\n"
          ]
        }
      ],
      "source": [
        "transformer_model = 'results/multilingual/manifesto_3cl/checkpoint-3190'\n",
        "word_embedding_model = models.Transformer(transformer_model)\n",
        "pooling_model = models.Pooling(word_embedding_model.get_word_embedding_dimension(), 'cls')\n",
        "model = SentenceTransformer(modules=[word_embedding_model, pooling_model]).to(device)\n"
      ]
    },
    {
      "cell_type": "code",
      "execution_count": 299,
      "metadata": {},
      "outputs": [],
      "source": [
        "document_embed = encode_embeds(manifesto_env, ['party_agg','election'], model)"
      ]
    },
    {
      "cell_type": "code",
      "execution_count": 300,
      "metadata": {},
      "outputs": [
        {
          "data": {
            "text/plain": [
              "(7005, 768)"
            ]
          },
          "execution_count": 300,
          "metadata": {},
          "output_type": "execute_result"
        }
      ],
      "source": [
        "document_embed.shape"
      ]
    },
    {
      "cell_type": "code",
      "execution_count": 301,
      "metadata": {},
      "outputs": [],
      "source": [
        "enc = OrdinalEncoder()\n",
        "guide_labels = enc.fit_transform(np.array(manifesto_env['sentiment'].tolist()).reshape(-1,1))"
      ]
    },
    {
      "cell_type": "code",
      "execution_count": 302,
      "metadata": {},
      "outputs": [
        {
          "name": "stdout",
          "output_type": "stream",
          "text": [
            "UMAP(n_components=1, n_epochs=500, n_neighbors=250, target_weight=0.8, verbose=True)\n",
            "Mon Apr 10 15:26:48 2023 Construct fuzzy simplicial set\n",
            "Mon Apr 10 15:26:48 2023 Finding Nearest Neighbors\n",
            "Mon Apr 10 15:26:48 2023 Building RP forest with 9 trees\n",
            "Mon Apr 10 15:26:48 2023 NN descent for 13 iterations\n",
            "\t 1  /  13\n",
            "\t 2  /  13\n",
            "\t 3  /  13\n",
            "\tStopping threshold met -- exiting after 3 iterations\n",
            "Mon Apr 10 15:26:53 2023 Finished Nearest Neighbor Search\n",
            "Mon Apr 10 15:26:54 2023 Construct embedding\n"
          ]
        },
        {
          "data": {
            "application/vnd.jupyter.widget-view+json": {
              "model_id": "e46e341dbe224e5a852eb9bd47fef266",
              "version_major": 2,
              "version_minor": 0
            },
            "text/plain": [
              "Epochs completed:   0%|            0/500 [00:00]"
            ]
          },
          "metadata": {},
          "output_type": "display_data"
        },
        {
          "name": "stdout",
          "output_type": "stream",
          "text": [
            "Mon Apr 10 15:27:02 2023 Finished embedding\n"
          ]
        }
      ],
      "source": [
        "results = scale_topic(dataframe=manifesto_env, document_embed=document_embed, code_var='sentiment', guide_labels=guide_labels)"
      ]
    },
    {
      "cell_type": "code",
      "execution_count": 303,
      "metadata": {},
      "outputs": [],
      "source": [
        "emb_mean_dict = {}\n",
        "for name, group in manifesto_env.groupby(['party_agg','election']):\n",
        "    idx = group.index\n",
        "    embed = results[idx]\n",
        "    embed_mean = np.mean(embed, axis=0)\n",
        "    emb_mean_dict.update({name: embed_mean})\n"
      ]
    },
    {
      "cell_type": "code",
      "execution_count": 304,
      "metadata": {},
      "outputs": [],
      "source": [
        "final_embeds = np.stack(list(emb_mean_dict.values()))\n",
        "labels = ['_'.join([str(n) for n in name]) for name, group in manifesto_env.groupby(['party_agg','election'])]\n",
        "party = [lab.split('_')[0] for lab in labels]\n",
        "year = [int(lab.split('_')[1]) for lab in labels]\n",
        "#sentiment = [lab.split('_')[2] for lab in labels]\n",
        "\n"
      ]
    },
    {
      "cell_type": "code",
      "execution_count": 305,
      "metadata": {},
      "outputs": [
        {
          "data": {
            "text/plain": [
              "(38, 1)"
            ]
          },
          "execution_count": 305,
          "metadata": {},
          "output_type": "execute_result"
        }
      ],
      "source": [
        "final_embeds.shape\n"
      ]
    },
    {
      "cell_type": "code",
      "execution_count": 306,
      "metadata": {},
      "outputs": [
        {
          "data": {
            "text/plain": [
              "array([[ 1.        , -0.86292558],\n",
              "       [-0.86292558,  1.        ]])"
            ]
          },
          "execution_count": 306,
          "metadata": {},
          "output_type": "execute_result"
        }
      ],
      "source": [
        "np.corrcoef(logscale, final_embeds[:,0])"
      ]
    },
    {
      "cell_type": "code",
      "execution_count": 307,
      "metadata": {},
      "outputs": [
        {
          "data": {
            "image/png": "[encoded data removed]",
            "text/plain": [
              "<Figure size 640x480 with 1 Axes>"
            ]
          },
          "metadata": {},
          "output_type": "display_data"
        }
      ],
      "source": [
        "df = pd.DataFrame({'dim1': final_embeds[:,0],  'party': party, 'year': year, 'lr_prop': relscale, 'lr_log': logscale, 'lr_abs': absscale}) #,'dim2': score[:,1]\n",
        "import matplotlib.pyplot as plt\n",
        "sns.set_theme()\n",
        "fig, ax = plt.subplots()\n",
        "ax.margins(0.05) # Optional, just adds 5% padding to the autoscaling\n",
        "for name, group in df.groupby('party'):\n",
        "    ax.plot(group.year,group.dim1, marker='o', linestyle='dashed', ms=4, label=name)\n",
        "ax.legend()\n",
        "ax.set_xlabel('Year')\n",
        "ax.set_ylabel('Position')\n",
        "ax.set_title('CMP log scale over time', fontdict={'fontsize':16})\n",
        "plt.plot()\n",
        "plt.savefig('results/tabs and figs/figure5.png', dpi=300)"
      ]
    },
    {
      "cell_type": "code",
      "execution_count": null,
      "metadata": {},
      "outputs": [],
      "source": [
        "manifesto_env.groupby(['party_agg','sentiment']).count()"
      ]
    },
    {
      "cell_type": "code",
      "execution_count": 271,
      "metadata": {},
      "outputs": [],
      "source": [
        "manifesto_env.to_csv(os.path.join('data','py_outputs','env.csv'), encoding='utf-8')\n",
        "df.to_csv(os.path.join('data','py_outputs','env_scores.csv'))"
      ]
    },
    {
      "attachments": {},
      "cell_type": "markdown",
      "metadata": {},
      "source": [
        "## How estimates differ with different levels of guidance weights"
      ]
    },
    {
      "attachments": {},
      "cell_type": "markdown",
      "metadata": {},
      "source": [
        "### Transformer with Doc2Vec predictions, supervision weight = 0.8"
      ]
    },
    {
      "cell_type": "code",
      "execution_count": 390,
      "metadata": {},
      "outputs": [],
      "source": [
        "model = Doc2Vec.load(os.path.join('results','d2v', 'd2v_3cl'))"
      ]
    },
    {
      "cell_type": "code",
      "execution_count": 391,
      "metadata": {},
      "outputs": [],
      "source": [
        "d2v_preds = test_doc2vec(manifesto_deu_rgr, model)"
      ]
    },
    {
      "cell_type": "code",
      "execution_count": 394,
      "metadata": {},
      "outputs": [],
      "source": [
        "guide_labels = d2v_preds.reshape(-1,1)"
      ]
    },
    {
      "cell_type": "code",
      "execution_count": 392,
      "metadata": {},
      "outputs": [
        {
          "name": "stderr",
          "output_type": "stream",
          "text": [
            "Some weights of the model checkpoint at results/multilingual/manifesto_3cl/checkpoint-3190 were not used when initializing XLMRobertaModel: ['classifier.out_proj.weight', 'classifier.dense.weight', 'classifier.dense.bias', 'classifier.out_proj.bias']\n",
            "- This IS expected if you are initializing XLMRobertaModel from the checkpoint of a model trained on another task or with another architecture (e.g. initializing a BertForSequenceClassification model from a BertForPreTraining model).\n",
            "- This IS NOT expected if you are initializing XLMRobertaModel from the checkpoint of a model that you expect to be exactly identical (initializing a BertForSequenceClassification model from a BertForSequenceClassification model).\n",
            "Some weights of XLMRobertaModel were not initialized from the model checkpoint at results/multilingual/manifesto_3cl/checkpoint-3190 and are newly initialized: ['roberta.pooler.dense.weight', 'roberta.pooler.dense.bias']\n",
            "You should probably TRAIN this model on a down-stream task to be able to use it for predictions and inference.\n"
          ]
        }
      ],
      "source": [
        "word_embedding_model = models.Transformer(transformer_model)\n",
        "pooling_model = models.Pooling(word_embedding_model.get_word_embedding_dimension(), 'cls')\n",
        "model = SentenceTransformer(modules=[word_embedding_model, pooling_model]).to(device)"
      ]
    },
    {
      "cell_type": "code",
      "execution_count": 393,
      "metadata": {},
      "outputs": [],
      "source": [
        "document_embed = encode_embeds(manifesto_deu_rgr, ['party_agg','election'], model)"
      ]
    },
    {
      "cell_type": "code",
      "execution_count": 395,
      "metadata": {},
      "outputs": [
        {
          "name": "stdout",
          "output_type": "stream",
          "text": [
            "UMAP(n_components=1, n_epochs=500, n_neighbors=500, target_weight=0.8, verbose=True)\n",
            "Mon Apr 10 17:55:31 2023 Construct fuzzy simplicial set\n",
            "Mon Apr 10 17:55:31 2023 Finding Nearest Neighbors\n",
            "Mon Apr 10 17:55:31 2023 Building RP forest with 13 trees\n",
            "Mon Apr 10 17:55:31 2023 NN descent for 15 iterations\n",
            "\t 1  /  15\n",
            "\t 2  /  15\n",
            "\t 3  /  15\n",
            "\t 4  /  15\n",
            "\tStopping threshold met -- exiting after 4 iterations\n",
            "Mon Apr 10 17:56:09 2023 Finished Nearest Neighbor Search\n",
            "Mon Apr 10 17:56:15 2023 Construct embedding\n"
          ]
        },
        {
          "data": {
            "application/vnd.jupyter.widget-view+json": {
              "model_id": "f8d63f5d6d1241789174cdf11f1f0ae1",
              "version_major": 2,
              "version_minor": 0
            },
            "text/plain": [
              "Epochs completed:   0%|            0/500 [00:00]"
            ]
          },
          "metadata": {},
          "output_type": "display_data"
        },
        {
          "name": "stdout",
          "output_type": "stream",
          "text": [
            "Mon Apr 10 17:56:40 2023 Finished embedding\n"
          ]
        }
      ],
      "source": [
        "results = scale_topic(dataframe=manifesto_deu_rgr, document_embed=document_embed, code_var='sentiment', guide_labels=guide_labels, guidance_weight=0.8)"
      ]
    },
    {
      "cell_type": "code",
      "execution_count": 396,
      "metadata": {},
      "outputs": [],
      "source": [
        "emb_mean_dict = {}\n",
        "for name, group in manifesto_deu_rgr.groupby(['party_agg','election']):\n",
        "    idx = group.index\n",
        "    embed = results[idx]\n",
        "    embed_mean = np.mean(embed, axis=0)\n",
        "    emb_mean_dict.update({name: embed_mean})"
      ]
    },
    {
      "cell_type": "code",
      "execution_count": 397,
      "metadata": {},
      "outputs": [],
      "source": [
        "final_embeds = np.stack(list(emb_mean_dict.values()))"
      ]
    },
    {
      "cell_type": "code",
      "execution_count": 398,
      "metadata": {},
      "outputs": [
        {
          "data": {
            "text/plain": [
              "array([[1.       , 0.7696812],\n",
              "       [0.7696812, 1.       ]])"
            ]
          },
          "execution_count": 398,
          "metadata": {},
          "output_type": "execute_result"
        }
      ],
      "source": [
        "np.corrcoef(logscale, final_embeds[:,0])"
      ]
    },
    {
      "cell_type": "code",
      "execution_count": 399,
      "metadata": {},
      "outputs": [],
      "source": [
        "tf_d2vp = final_embeds"
      ]
    },
    {
      "attachments": {},
      "cell_type": "markdown",
      "metadata": {},
      "source": [
        "### Doc2Vec with Transformer predictions, supervision weight = 0.5"
      ]
    },
    {
      "cell_type": "code",
      "execution_count": 400,
      "metadata": {},
      "outputs": [],
      "source": [
        "model = Doc2Vec.load(os.path.join('results','d2v', 'd2v_3cl'))"
      ]
    },
    {
      "cell_type": "code",
      "execution_count": 401,
      "metadata": {},
      "outputs": [],
      "source": [
        "document_embed = d2v_pred(model, manifesto_deu_rgr)"
      ]
    },
    {
      "cell_type": "code",
      "execution_count": 404,
      "metadata": {},
      "outputs": [],
      "source": [
        "transformer_model = 'results/multilingual/manifesto_3cl/checkpoint-3190'\n",
        "model = XLMRobertaForSequenceClassification.from_pretrained(transformer_model).to(device)\n",
        "tokenizer = AutoTokenizer.from_pretrained(transformer_model)\n"
      ]
    },
    {
      "cell_type": "code",
      "execution_count": 402,
      "metadata": {},
      "outputs": [],
      "source": [
        "texts = manifesto_deu_rgr['text'].tolist()"
      ]
    },
    {
      "cell_type": "code",
      "execution_count": 405,
      "metadata": {},
      "outputs": [],
      "source": [
        "def get_prediction(model, texts):\n",
        "  res = []\n",
        "  with torch.no_grad():\n",
        "    for idx, x in enumerate(texts):\n",
        "      if idx % 1000 == 0:\n",
        "        print(idx)\n",
        "      inputs = tokenizer(x, padding=True, truncation=True, return_tensors=\"pt\").to(device)\n",
        "      # perform inference to our model\n",
        "      outputs = model(**inputs)\n",
        "      # get output probabilities by doing softmax\n",
        "      logits = outputs['logits']\n",
        "      argmax = logits.argmax(1)\n",
        "      res.append(argmax)\n",
        "  return res"
      ]
    },
    {
      "cell_type": "code",
      "execution_count": 406,
      "metadata": {},
      "outputs": [
        {
          "name": "stdout",
          "output_type": "stream",
          "text": [
            "0\n",
            "1000\n",
            "2000\n",
            "3000\n",
            "4000\n",
            "5000\n",
            "6000\n",
            "7000\n",
            "8000\n",
            "9000\n",
            "10000\n",
            "11000\n",
            "12000\n",
            "13000\n",
            "14000\n",
            "15000\n",
            "16000\n",
            "17000\n",
            "18000\n",
            "19000\n",
            "20000\n",
            "21000\n",
            "22000\n",
            "23000\n",
            "24000\n",
            "25000\n",
            "26000\n"
          ]
        }
      ],
      "source": [
        "results = get_prediction(model, texts)"
      ]
    },
    {
      "cell_type": "code",
      "execution_count": 407,
      "metadata": {},
      "outputs": [],
      "source": [
        "guide_labels = np.array([pred.cpu().detach().numpy() for pred in results])"
      ]
    },
    {
      "cell_type": "code",
      "execution_count": 408,
      "metadata": {},
      "outputs": [
        {
          "name": "stdout",
          "output_type": "stream",
          "text": [
            "UMAP(n_components=1, n_epochs=500, n_neighbors=500, verbose=True)\n",
            "Mon Apr 10 18:06:07 2023 Construct fuzzy simplicial set\n",
            "Mon Apr 10 18:06:07 2023 Finding Nearest Neighbors\n",
            "Mon Apr 10 18:06:07 2023 Building RP forest with 13 trees\n",
            "Mon Apr 10 18:06:07 2023 NN descent for 15 iterations\n",
            "\t 1  /  15\n",
            "\t 2  /  15\n",
            "\t 3  /  15\n",
            "\tStopping threshold met -- exiting after 3 iterations\n",
            "Mon Apr 10 18:06:42 2023 Finished Nearest Neighbor Search\n",
            "Mon Apr 10 18:06:49 2023 Construct embedding\n"
          ]
        },
        {
          "data": {
            "application/vnd.jupyter.widget-view+json": {
              "model_id": "ffc2a71a53a24b37b5331fdb9f73436d",
              "version_major": 2,
              "version_minor": 0
            },
            "text/plain": [
              "Epochs completed:   0%|            0/500 [00:00]"
            ]
          },
          "metadata": {},
          "output_type": "display_data"
        },
        {
          "name": "stdout",
          "output_type": "stream",
          "text": [
            "Mon Apr 10 18:07:12 2023 Finished embedding\n"
          ]
        }
      ],
      "source": [
        "results = scale_topic(dataframe=manifesto_deu_rgr, document_embed=document_embed, code_var='sentiment', guide_labels=guide_labels, guidance_weight=0.5)"
      ]
    },
    {
      "cell_type": "code",
      "execution_count": 409,
      "metadata": {},
      "outputs": [],
      "source": [
        "emb_mean_dict = {}\n",
        "for name, group in manifesto_deu_rgr.groupby(['party_agg','election']):\n",
        "    idx = group.index\n",
        "    embed = results[idx]\n",
        "    embed_mean = np.mean(embed, axis=0)\n",
        "    emb_mean_dict.update({name: embed_mean})"
      ]
    },
    {
      "cell_type": "code",
      "execution_count": 410,
      "metadata": {},
      "outputs": [],
      "source": [
        "final_embeds = np.stack(list(emb_mean_dict.values()))"
      ]
    },
    {
      "cell_type": "code",
      "execution_count": 411,
      "metadata": {},
      "outputs": [
        {
          "data": {
            "text/plain": [
              "array([[ 1.        , -0.10582136],\n",
              "       [-0.10582136,  1.        ]])"
            ]
          },
          "execution_count": 411,
          "metadata": {},
          "output_type": "execute_result"
        }
      ],
      "source": [
        "np.corrcoef(logscale, final_embeds[:,0])"
      ]
    },
    {
      "cell_type": "code",
      "execution_count": 413,
      "metadata": {},
      "outputs": [],
      "source": [
        "d2v_tfp = final_embeds"
      ]
    },
    {
      "cell_type": "code",
      "execution_count": 460,
      "metadata": {},
      "outputs": [
        {
          "data": {
            "text/plain": [
              "38"
            ]
          },
          "execution_count": 460,
          "metadata": {},
          "output_type": "execute_result"
        }
      ],
      "source": [
        "len(tfm_05[:,0])"
      ]
    },
    {
      "cell_type": "code",
      "execution_count": 462,
      "metadata": {},
      "outputs": [],
      "source": [
        "df1 = pd.DataFrame({'roberta_dim': transformer_embeds[:,0],  'party': party, 'year': year, 'lr_log': logscale, 'lr_abs': absscale, \n",
        "                   'bow_dim': bow_embeds[:,0], 'd2v_dim': d2v_embeds[:,0],'d2v_org': d2v_embeds_org[:,0],\n",
        "                   'tf_d2vp': tf_d2vp[:,0], 'd2v_tfp': d2v_tfp[:,0], 'roberta_05': tfm_05[:,0]} ) #,'dim2': score[:,1]\n"
      ]
    },
    {
      "cell_type": "code",
      "execution_count": 463,
      "metadata": {},
      "outputs": [],
      "source": [
        "df1.to_csv(os.path.join('data','py_outputs','lr_deu_party.csv'))"
      ]
    },
    {
      "attachments": {},
      "cell_type": "markdown",
      "metadata": {},
      "source": [
        "## Cross-domain extension: predicting political stances on Donald Trump using model trained on left - right CMP\n"
      ]
    },
    {
      "attachments": {},
      "cell_type": "markdown",
      "metadata": {},
      "source": [
        "### First, train a model for 2-class only"
      ]
    },
    {
      "cell_type": "code",
      "execution_count": 103,
      "metadata": {},
      "outputs": [],
      "source": [
        "trump_tweets = pd.read_csv(os.path.join('data','sins_tweets','MOTN_responses_groundtruth.csv'))"
      ]
    },
    {
      "cell_type": "code",
      "execution_count": 104,
      "metadata": {},
      "outputs": [
        {
          "data": {
            "text/plain": [
              "7146"
            ]
          },
          "execution_count": 104,
          "metadata": {},
          "output_type": "execute_result"
        }
      ],
      "source": [
        "len(trump_tweets)"
      ]
    },
    {
      "cell_type": "code",
      "execution_count": 106,
      "metadata": {},
      "outputs": [
        {
          "data": {
            "text/html": [
              "<div>\n",
              "<style scoped>\n",
              "    .dataframe tbody tr th:only-of-type {\n",
              "        vertical-align: middle;\n",
              "    }\n",
              "\n",
              "    .dataframe tbody tr th {\n",
              "        vertical-align: top;\n",
              "    }\n",
              "\n",
              "    .dataframe thead th {\n",
              "        text-align: right;\n",
              "    }\n",
              "</style>\n",
              "<table border=\"1\" class=\"dataframe\">\n",
              "  <thead>\n",
              "    <tr style=\"text-align: right;\">\n",
              "      <th></th>\n",
              "      <th>wavenum</th>\n",
              "      <th>ideo5</th>\n",
              "      <th>edits_clean_text</th>\n",
              "      <th>qpos</th>\n",
              "      <th>lexicoder_sentiment</th>\n",
              "      <th>fold</th>\n",
              "      <th>vader_sentiment</th>\n",
              "      <th>SVM_sentiment</th>\n",
              "      <th>BERT_sentiment</th>\n",
              "      <th>SVM_stance</th>\n",
              "      <th>BERT_stance</th>\n",
              "      <th>vader_scores</th>\n",
              "    </tr>\n",
              "    <tr>\n",
              "      <th>trump_stance_auto</th>\n",
              "      <th></th>\n",
              "      <th></th>\n",
              "      <th></th>\n",
              "      <th></th>\n",
              "      <th></th>\n",
              "      <th></th>\n",
              "      <th></th>\n",
              "      <th></th>\n",
              "      <th></th>\n",
              "      <th></th>\n",
              "      <th></th>\n",
              "      <th></th>\n",
              "    </tr>\n",
              "  </thead>\n",
              "  <tbody>\n",
              "    <tr>\n",
              "      <th>0</th>\n",
              "      <td>4312</td>\n",
              "      <td>4312</td>\n",
              "      <td>4312</td>\n",
              "      <td>4312</td>\n",
              "      <td>1885</td>\n",
              "      <td>4312</td>\n",
              "      <td>2012</td>\n",
              "      <td>4312</td>\n",
              "      <td>4312</td>\n",
              "      <td>4312</td>\n",
              "      <td>4312</td>\n",
              "      <td>4312</td>\n",
              "    </tr>\n",
              "    <tr>\n",
              "      <th>1</th>\n",
              "      <td>2834</td>\n",
              "      <td>2834</td>\n",
              "      <td>2834</td>\n",
              "      <td>2834</td>\n",
              "      <td>1434</td>\n",
              "      <td>2834</td>\n",
              "      <td>1573</td>\n",
              "      <td>2834</td>\n",
              "      <td>2834</td>\n",
              "      <td>2834</td>\n",
              "      <td>2834</td>\n",
              "      <td>2834</td>\n",
              "    </tr>\n",
              "  </tbody>\n",
              "</table>\n",
              "</div>"
            ],
            "text/plain": [
              "                   wavenum  ideo5  edits_clean_text  qpos  \\\n",
              "trump_stance_auto                                           \n",
              "0                     4312   4312              4312  4312   \n",
              "1                     2834   2834              2834  2834   \n",
              "\n",
              "                   lexicoder_sentiment  fold  vader_sentiment  SVM_sentiment  \\\n",
              "trump_stance_auto                                                              \n",
              "0                                 1885  4312             2012           4312   \n",
              "1                                 1434  2834             1573           2834   \n",
              "\n",
              "                   BERT_sentiment  SVM_stance  BERT_stance  vader_scores  \n",
              "trump_stance_auto                                                         \n",
              "0                            4312        4312         4312          4312  \n",
              "1                            2834        2834         2834          2834  "
            ]
          },
          "execution_count": 106,
          "metadata": {},
          "output_type": "execute_result"
        }
      ],
      "source": [
        "trump_tweets.groupby('trump_stance_auto').count()"
      ]
    },
    {
      "cell_type": "code",
      "execution_count": 107,
      "metadata": {},
      "outputs": [
        {
          "data": {
            "text/html": [
              "<div>\n",
              "<style scoped>\n",
              "    .dataframe tbody tr th:only-of-type {\n",
              "        vertical-align: middle;\n",
              "    }\n",
              "\n",
              "    .dataframe tbody tr th {\n",
              "        vertical-align: top;\n",
              "    }\n",
              "\n",
              "    .dataframe thead th {\n",
              "        text-align: right;\n",
              "    }\n",
              "</style>\n",
              "<table border=\"1\" class=\"dataframe\">\n",
              "  <thead>\n",
              "    <tr style=\"text-align: right;\">\n",
              "      <th></th>\n",
              "      <th>wavenum</th>\n",
              "      <th>ideo5</th>\n",
              "      <th>edits_clean_text</th>\n",
              "      <th>qpos</th>\n",
              "      <th>trump_stance_auto</th>\n",
              "      <th>lexicoder_sentiment</th>\n",
              "      <th>fold</th>\n",
              "      <th>vader_sentiment</th>\n",
              "      <th>SVM_sentiment</th>\n",
              "      <th>BERT_sentiment</th>\n",
              "      <th>SVM_stance</th>\n",
              "      <th>BERT_stance</th>\n",
              "      <th>vader_scores</th>\n",
              "    </tr>\n",
              "  </thead>\n",
              "  <tbody>\n",
              "    <tr>\n",
              "      <th>0</th>\n",
              "      <td>3</td>\n",
              "      <td>Moderate</td>\n",
              "      <td>the recent election of donald trump the freedo...</td>\n",
              "      <td>1</td>\n",
              "      <td>1</td>\n",
              "      <td>1.0</td>\n",
              "      <td>3</td>\n",
              "      <td>1.0</td>\n",
              "      <td>1</td>\n",
              "      <td>1</td>\n",
              "      <td>1</td>\n",
              "      <td>0</td>\n",
              "      <td>0.6369</td>\n",
              "    </tr>\n",
              "    <tr>\n",
              "      <th>1</th>\n",
              "      <td>3</td>\n",
              "      <td>Very conservative</td>\n",
              "      <td>donald trump won</td>\n",
              "      <td>1</td>\n",
              "      <td>1</td>\n",
              "      <td>1.0</td>\n",
              "      <td>1</td>\n",
              "      <td>1.0</td>\n",
              "      <td>1</td>\n",
              "      <td>1</td>\n",
              "      <td>1</td>\n",
              "      <td>1</td>\n",
              "      <td>0.5719</td>\n",
              "    </tr>\n",
              "    <tr>\n",
              "      <th>2</th>\n",
              "      <td>3</td>\n",
              "      <td>Conservative</td>\n",
              "      <td>that donald trump beat hillary clinton</td>\n",
              "      <td>1</td>\n",
              "      <td>1</td>\n",
              "      <td>NaN</td>\n",
              "      <td>5</td>\n",
              "      <td>NaN</td>\n",
              "      <td>1</td>\n",
              "      <td>1</td>\n",
              "      <td>1</td>\n",
              "      <td>1</td>\n",
              "      <td>0.0000</td>\n",
              "    </tr>\n",
              "    <tr>\n",
              "      <th>3</th>\n",
              "      <td>3</td>\n",
              "      <td>Conservative</td>\n",
              "      <td>donald trump was elected president</td>\n",
              "      <td>1</td>\n",
              "      <td>1</td>\n",
              "      <td>NaN</td>\n",
              "      <td>5</td>\n",
              "      <td>NaN</td>\n",
              "      <td>1</td>\n",
              "      <td>1</td>\n",
              "      <td>1</td>\n",
              "      <td>1</td>\n",
              "      <td>0.0000</td>\n",
              "    </tr>\n",
              "    <tr>\n",
              "      <th>4</th>\n",
              "      <td>3</td>\n",
              "      <td>Conservative</td>\n",
              "      <td>the american people saw through the obfuscatio...</td>\n",
              "      <td>1</td>\n",
              "      <td>1</td>\n",
              "      <td>1.0</td>\n",
              "      <td>3</td>\n",
              "      <td>1.0</td>\n",
              "      <td>0</td>\n",
              "      <td>1</td>\n",
              "      <td>1</td>\n",
              "      <td>1</td>\n",
              "      <td>0.4019</td>\n",
              "    </tr>\n",
              "  </tbody>\n",
              "</table>\n",
              "</div>"
            ],
            "text/plain": [
              "   wavenum              ideo5  \\\n",
              "0        3           Moderate   \n",
              "1        3  Very conservative   \n",
              "2        3       Conservative   \n",
              "3        3       Conservative   \n",
              "4        3       Conservative   \n",
              "\n",
              "                                    edits_clean_text  qpos  trump_stance_auto  \\\n",
              "0  the recent election of donald trump the freedo...     1                  1   \n",
              "1                                   donald trump won     1                  1   \n",
              "2             that donald trump beat hillary clinton     1                  1   \n",
              "3                 donald trump was elected president     1                  1   \n",
              "4  the american people saw through the obfuscatio...     1                  1   \n",
              "\n",
              "   lexicoder_sentiment  fold  vader_sentiment  SVM_sentiment  BERT_sentiment  \\\n",
              "0                  1.0     3              1.0              1               1   \n",
              "1                  1.0     1              1.0              1               1   \n",
              "2                  NaN     5              NaN              1               1   \n",
              "3                  NaN     5              NaN              1               1   \n",
              "4                  1.0     3              1.0              0               1   \n",
              "\n",
              "   SVM_stance  BERT_stance  vader_scores  \n",
              "0           1            0        0.6369  \n",
              "1           1            1        0.5719  \n",
              "2           1            1        0.0000  \n",
              "3           1            1        0.0000  \n",
              "4           1            1        0.4019  "
            ]
          },
          "execution_count": 107,
          "metadata": {},
          "output_type": "execute_result"
        }
      ],
      "source": [
        "trump_tweets.head()"
      ]
    },
    {
      "cell_type": "code",
      "execution_count": null,
      "metadata": {},
      "outputs": [],
      "source": [
        "transformer_model = 'xlm-roberta-base'\n",
        "tokenizer = AutoTokenizer.from_pretrained(transformer_model)\n",
        "data_collator = DataCollatorWithPadding(tokenizer)"
      ]
    },
    {
      "cell_type": "code",
      "execution_count": 110,
      "metadata": {},
      "outputs": [],
      "source": [
        "trump_reduced = trump_tweets[['trump_stance_auto','edits_clean_text']]"
      ]
    },
    {
      "cell_type": "code",
      "execution_count": 111,
      "metadata": {},
      "outputs": [
        {
          "data": {
            "application/vnd.jupyter.widget-view+json": {
              "model_id": "3c43987b376444aeb25c2adbd451dd00",
              "version_major": 2,
              "version_minor": 0
            },
            "text/plain": [
              "Stringifying the column:   0%|          | 0/8 [00:00<?, ?ba/s]"
            ]
          },
          "metadata": {},
          "output_type": "display_data"
        },
        {
          "data": {
            "application/vnd.jupyter.widget-view+json": {
              "model_id": "1a96c47b44c24ff5876874ae9ec8b744",
              "version_major": 2,
              "version_minor": 0
            },
            "text/plain": [
              "Casting to class labels:   0%|          | 0/8 [00:00<?, ?ba/s]"
            ]
          },
          "metadata": {},
          "output_type": "display_data"
        },
        {
          "data": {
            "application/vnd.jupyter.widget-view+json": {
              "model_id": "cf3f1605227842a2a19b8d2f9c1dc439",
              "version_major": 2,
              "version_minor": 0
            },
            "text/plain": [
              "Casting the dataset:   0%|          | 0/1 [00:00<?, ?ba/s]"
            ]
          },
          "metadata": {},
          "output_type": "display_data"
        }
      ],
      "source": [
        "trump_dataset = Dataset.from_pandas(trump_reduced)\n",
        "trump_dataset = trump_dataset.class_encode_column('trump_stance_auto')\n",
        "trump_dataset = trump_dataset.rename_column('trump_stance_auto','labels')\n",
        "\n"
      ]
    },
    {
      "cell_type": "code",
      "execution_count": 112,
      "metadata": {},
      "outputs": [],
      "source": [
        "train_test = trump_dataset.train_test_split(test_size=0.8, stratify_by_column='labels', seed=seed_val)\n",
        "train_eval = train_test['train'].train_test_split(test_size=0.25, stratify_by_column='labels', seed=seed_val)"
      ]
    },
    {
      "cell_type": "code",
      "execution_count": 114,
      "metadata": {},
      "outputs": [
        {
          "data": {
            "text/plain": [
              "DatasetDict({\n",
              "    train: Dataset({\n",
              "        features: ['labels', 'edits_clean_text'],\n",
              "        num_rows: 1071\n",
              "    })\n",
              "    test: Dataset({\n",
              "        features: ['labels', 'edits_clean_text'],\n",
              "        num_rows: 5717\n",
              "    })\n",
              "    eval: Dataset({\n",
              "        features: ['labels', 'edits_clean_text'],\n",
              "        num_rows: 358\n",
              "    })\n",
              "})"
            ]
          },
          "execution_count": 114,
          "metadata": {},
          "output_type": "execute_result"
        }
      ],
      "source": [
        "trump_datasets = DatasetDict({\n",
        "    'train': train_eval['train'],\n",
        "    'test': train_test['test'],\n",
        "    'eval': train_eval['test']\n",
        "})\n",
        "trump_datasets"
      ]
    },
    {
      "cell_type": "code",
      "execution_count": 115,
      "metadata": {},
      "outputs": [],
      "source": [
        "train_df = Dataset.to_pandas(trump_datasets['train'])"
      ]
    },
    {
      "cell_type": "code",
      "execution_count": 116,
      "metadata": {},
      "outputs": [
        {
          "data": {
            "text/html": [
              "<div>\n",
              "<style scoped>\n",
              "    .dataframe tbody tr th:only-of-type {\n",
              "        vertical-align: middle;\n",
              "    }\n",
              "\n",
              "    .dataframe tbody tr th {\n",
              "        vertical-align: top;\n",
              "    }\n",
              "\n",
              "    .dataframe thead th {\n",
              "        text-align: right;\n",
              "    }\n",
              "</style>\n",
              "<table border=\"1\" class=\"dataframe\">\n",
              "  <thead>\n",
              "    <tr style=\"text-align: right;\">\n",
              "      <th></th>\n",
              "      <th>edits_clean_text</th>\n",
              "    </tr>\n",
              "    <tr>\n",
              "      <th>labels</th>\n",
              "      <th></th>\n",
              "    </tr>\n",
              "  </thead>\n",
              "  <tbody>\n",
              "    <tr>\n",
              "      <th>0</th>\n",
              "      <td>646</td>\n",
              "    </tr>\n",
              "    <tr>\n",
              "      <th>1</th>\n",
              "      <td>425</td>\n",
              "    </tr>\n",
              "  </tbody>\n",
              "</table>\n",
              "</div>"
            ],
            "text/plain": [
              "        edits_clean_text\n",
              "labels                  \n",
              "0                    646\n",
              "1                    425"
            ]
          },
          "execution_count": 116,
          "metadata": {},
          "output_type": "execute_result"
        }
      ],
      "source": [
        "train_df.groupby('labels').count()"
      ]
    },
    {
      "cell_type": "code",
      "execution_count": 117,
      "metadata": {},
      "outputs": [
        {
          "name": "stdout",
          "output_type": "stream",
          "text": [
            "[0.82894737 1.26      ]\n"
          ]
        }
      ],
      "source": [
        "from sklearn.utils import class_weight\n",
        "class_weights = class_weight.compute_class_weight(class_weight='balanced', classes=np.unique(train_df.labels),y=train_df['labels'].tolist())\n",
        "print(class_weights)\n"
      ]
    },
    {
      "cell_type": "code",
      "execution_count": 121,
      "metadata": {},
      "outputs": [],
      "source": [
        "def tokenize_function(dataset):\n",
        "    return tokenizer(dataset['edits_clean_text'], truncation=True)\n"
      ]
    },
    {
      "cell_type": "code",
      "execution_count": 123,
      "metadata": {},
      "outputs": [
        {
          "data": {
            "application/vnd.jupyter.widget-view+json": {
              "model_id": "eb1bfdc650e24987824ece5e162ea4e7",
              "version_major": 2,
              "version_minor": 0
            },
            "text/plain": [
              "  0%|          | 0/2 [00:00<?, ?ba/s]"
            ]
          },
          "metadata": {},
          "output_type": "display_data"
        },
        {
          "data": {
            "application/vnd.jupyter.widget-view+json": {
              "model_id": "d7d06ab12dc14210b9f6eb6d2281b30b",
              "version_major": 2,
              "version_minor": 0
            },
            "text/plain": [
              "  0%|          | 0/6 [00:00<?, ?ba/s]"
            ]
          },
          "metadata": {},
          "output_type": "display_data"
        },
        {
          "data": {
            "application/vnd.jupyter.widget-view+json": {
              "model_id": "a0f5b6a2beab488c927511f379808114",
              "version_major": 2,
              "version_minor": 0
            },
            "text/plain": [
              "  0%|          | 0/1 [00:00<?, ?ba/s]"
            ]
          },
          "metadata": {},
          "output_type": "display_data"
        }
      ],
      "source": [
        "tokenized_datasets = trump_datasets.map(tokenize_function, batched=True, remove_columns=['edits_clean_text'])"
      ]
    },
    {
      "cell_type": "code",
      "execution_count": 124,
      "metadata": {},
      "outputs": [
        {
          "data": {
            "text/plain": [
              "['labels', 'input_ids', 'attention_mask']"
            ]
          },
          "execution_count": 124,
          "metadata": {},
          "output_type": "execute_result"
        }
      ],
      "source": [
        "tokenized_datasets.set_format(\"torch\")\n",
        "tokenized_datasets[\"train\"].column_names"
      ]
    },
    {
      "cell_type": "code",
      "execution_count": 127,
      "metadata": {},
      "outputs": [
        {
          "name": "stderr",
          "output_type": "stream",
          "text": [
            "loading configuration file config.json from cache at C:\\Users\\Hung/.cache\\huggingface\\hub\\models--xlm-roberta-base\\snapshots\\77de1f7a7e5e737aead1cd880979d4f1b3af6668\\config.json\n",
            "Model config XLMRobertaConfig {\n",
            "  \"architectures\": [\n",
            "    \"XLMRobertaForMaskedLM\"\n",
            "  ],\n",
            "  \"attention_probs_dropout_prob\": 0.1,\n",
            "  \"bos_token_id\": 0,\n",
            "  \"classifier_dropout\": null,\n",
            "  \"eos_token_id\": 2,\n",
            "  \"hidden_act\": \"gelu\",\n",
            "  \"hidden_dropout_prob\": 0.1,\n",
            "  \"hidden_size\": 768,\n",
            "  \"initializer_range\": 0.02,\n",
            "  \"intermediate_size\": 3072,\n",
            "  \"layer_norm_eps\": 1e-05,\n",
            "  \"max_position_embeddings\": 514,\n",
            "  \"model_type\": \"xlm-roberta\",\n",
            "  \"num_attention_heads\": 12,\n",
            "  \"num_hidden_layers\": 12,\n",
            "  \"output_past\": true,\n",
            "  \"pad_token_id\": 1,\n",
            "  \"position_embedding_type\": \"absolute\",\n",
            "  \"transformers_version\": \"4.25.1\",\n",
            "  \"type_vocab_size\": 1,\n",
            "  \"use_cache\": true,\n",
            "  \"vocab_size\": 250002\n",
            "}\n",
            "\n",
            "loading weights file pytorch_model.bin from cache at C:\\Users\\Hung/.cache\\huggingface\\hub\\models--xlm-roberta-base\\snapshots\\77de1f7a7e5e737aead1cd880979d4f1b3af6668\\pytorch_model.bin\n",
            "Some weights of the model checkpoint at xlm-roberta-base were not used when initializing XLMRobertaForSequenceClassification: ['roberta.pooler.dense.bias', 'roberta.pooler.dense.weight', 'lm_head.layer_norm.weight', 'lm_head.dense.bias', 'lm_head.bias', 'lm_head.layer_norm.bias', 'lm_head.dense.weight', 'lm_head.decoder.weight']\n",
            "- This IS expected if you are initializing XLMRobertaForSequenceClassification from the checkpoint of a model trained on another task or with another architecture (e.g. initializing a BertForSequenceClassification model from a BertForPreTraining model).\n",
            "- This IS NOT expected if you are initializing XLMRobertaForSequenceClassification from the checkpoint of a model that you expect to be exactly identical (initializing a BertForSequenceClassification model from a BertForSequenceClassification model).\n",
            "Some weights of XLMRobertaForSequenceClassification were not initialized from the model checkpoint at xlm-roberta-base and are newly initialized: ['classifier.out_proj.weight', 'classifier.dense.bias', 'classifier.dense.weight', 'classifier.out_proj.bias']\n",
            "You should probably TRAIN this model on a down-stream task to be able to use it for predictions and inference.\n"
          ]
        }
      ],
      "source": [
        "num_classes = len(set(trump_tweets['trump_stance_auto']))\n",
        "model = XLMRobertaForSequenceClassification.from_pretrained(transformer_model, num_labels=num_classes).to(device)\n"
      ]
    },
    {
      "cell_type": "code",
      "execution_count": 128,
      "metadata": {},
      "outputs": [],
      "source": [
        "class CustomTrainer(Trainer):\n",
        "    def compute_loss(self, model, inputs, return_outputs=False):\n",
        "        labels = inputs.get(\"labels\")\n",
        "        # forward pass\n",
        "        outputs = model(**inputs)\n",
        "        logits = outputs.get(\"logits\")\n",
        "        loss_fct = nn.CrossEntropyLoss(weight=torch.tensor(class_weights).float().to(device))\n",
        "        loss = loss_fct(logits.view(-1, self.model.config.num_labels), labels.view(-1))\n",
        "        return (loss, outputs) if return_outputs else loss"
      ]
    },
    {
      "cell_type": "code",
      "execution_count": 130,
      "metadata": {},
      "outputs": [
        {
          "name": "stderr",
          "output_type": "stream",
          "text": [
            "PyTorch: setting up devices\n",
            "The default value for the training argument `--report_to` will change in v5 (from all installed integrations to none). In v5, you will need to use `--report_to all` to get the same behavior as now. You should start updating your code and make this info disappear :-).\n"
          ]
        }
      ],
      "source": [
        "batch_size = 32\n",
        "training_args = TrainingArguments(\n",
        "    output_dir=\"results/multilingual/trump_2cl\",\n",
        "    overwrite_output_dir=True,\n",
        "    evaluation_strategy=\"epoch\",\n",
        "    learning_rate=2e-5,\n",
        "    weight_decay=0.01,\n",
        "    per_device_train_batch_size=batch_size,\n",
        "    per_device_eval_batch_size=batch_size,\n",
        "    fp16=True,\n",
        "    logging_steps= 100,\n",
        "    num_train_epochs = 3,\n",
        "    save_strategy='epoch',\n",
        "    load_best_model_at_end=True,\n",
        "    optim='adamw_torch'\n",
        ")"
      ]
    },
    {
      "cell_type": "code",
      "execution_count": 131,
      "metadata": {},
      "outputs": [
        {
          "name": "stderr",
          "output_type": "stream",
          "text": [
            "Using cuda_amp half precision backend\n"
          ]
        }
      ],
      "source": [
        "def compute_metrics(eval_preds):\n",
        "    logits, labels = eval_preds\n",
        "    predictions = np.argmax(logits, axis=-1)\n",
        "    precision, recall, f1, _ = precision_recall_fscore_support(labels, predictions, average=None)\n",
        "    matrix = confusion_matrix(labels, predictions)\n",
        "    acc = matrix.diagonal()/matrix.sum(axis=1)\n",
        "    return {\n",
        "        'precision': precision.tolist(),\n",
        "        'recall': recall.tolist(),\n",
        "        'f1': f1.tolist(),\n",
        "        'accuracy': acc.tolist()\n",
        "    }\n",
        "trainer = CustomTrainer(\n",
        "    model,\n",
        "    training_args,\n",
        "    train_dataset=tokenized_datasets[\"train\"],\n",
        "    eval_dataset=tokenized_datasets[\"eval\"],\n",
        "    tokenizer=tokenizer,\n",
        "    compute_metrics=compute_metrics,\n",
        "    data_collator=data_collator\n",
        ")"
      ]
    },
    {
      "cell_type": "code",
      "execution_count": 132,
      "metadata": {},
      "outputs": [
        {
          "name": "stderr",
          "output_type": "stream",
          "text": [
            "***** Running training *****\n",
            "  Num examples = 1071\n",
            "  Num Epochs = 3\n",
            "  Instantaneous batch size per device = 32\n",
            "  Total train batch size (w. parallel, distributed & accumulation) = 32\n",
            "  Gradient Accumulation steps = 1\n",
            "  Total optimization steps = 102\n",
            "  Number of trainable parameters = 278045186\n"
          ]
        },
        {
          "data": {
            "application/vnd.jupyter.widget-view+json": {
              "model_id": "de4e5c91c59d4ea780110c1726727515",
              "version_major": 2,
              "version_minor": 0
            },
            "text/plain": [
              "  0%|          | 0/102 [00:00<?, ?it/s]"
            ]
          },
          "metadata": {},
          "output_type": "display_data"
        },
        {
          "name": "stderr",
          "output_type": "stream",
          "text": [
            "You're using a XLMRobertaTokenizerFast tokenizer. Please note that with a fast tokenizer, using the `__call__` method is faster than using a method to encode the text followed by a call to the `pad` method to get a padded encoding.\n",
            "***** Running Evaluation *****\n",
            "  Num examples = 358\n",
            "  Batch size = 32\n"
          ]
        },
        {
          "data": {
            "application/vnd.jupyter.widget-view+json": {
              "model_id": "d3350051179344eab0e5696007567985",
              "version_major": 2,
              "version_minor": 0
            },
            "text/plain": [
              "  0%|          | 0/12 [00:00<?, ?it/s]"
            ]
          },
          "metadata": {},
          "output_type": "display_data"
        },
        {
          "name": "stderr",
          "output_type": "stream",
          "text": [
            "Trainer is attempting to log a value of \"[0.671875, 0.41156462585034015]\" of type <class 'list'> for key \"eval/precision\" as a scalar. This invocation of Tensorboard's writer.add_scalar() is incorrect so we dropped this attribute.\n",
            "Trainer is attempting to log a value of \"[0.19907407407407407, 0.852112676056338]\" of type <class 'list'> for key \"eval/recall\" as a scalar. This invocation of Tensorboard's writer.add_scalar() is incorrect so we dropped this attribute.\n",
            "Trainer is attempting to log a value of \"[0.30714285714285716, 0.5550458715596329]\" of type <class 'list'> for key \"eval/f1\" as a scalar. This invocation of Tensorboard's writer.add_scalar() is incorrect so we dropped this attribute.\n",
            "Trainer is attempting to log a value of \"[0.19907407407407407, 0.852112676056338]\" of type <class 'list'> for key \"eval/accuracy\" as a scalar. This invocation of Tensorboard's writer.add_scalar() is incorrect so we dropped this attribute.\n",
            "Saving model checkpoint to results/multilingual/trump_2cl\\checkpoint-34\n",
            "Configuration saved in results/multilingual/trump_2cl\\checkpoint-34\\config.json\n"
          ]
        },
        {
          "name": "stdout",
          "output_type": "stream",
          "text": [
            "{'eval_loss': 0.6908105611801147, 'eval_precision': [0.671875, 0.41156462585034015], 'eval_recall': [0.19907407407407407, 0.852112676056338], 'eval_f1': [0.30714285714285716, 0.5550458715596329], 'eval_accuracy': [0.19907407407407407, 0.852112676056338], 'eval_runtime': 0.3768, 'eval_samples_per_second': 950.068, 'eval_steps_per_second': 31.846, 'epoch': 1.0}\n"
          ]
        },
        {
          "name": "stderr",
          "output_type": "stream",
          "text": [
            "Model weights saved in results/multilingual/trump_2cl\\checkpoint-34\\pytorch_model.bin\n",
            "tokenizer config file saved in results/multilingual/trump_2cl\\checkpoint-34\\tokenizer_config.json\n",
            "Special tokens file saved in results/multilingual/trump_2cl\\checkpoint-34\\special_tokens_map.json\n",
            "***** Running Evaluation *****\n",
            "  Num examples = 358\n",
            "  Batch size = 32\n"
          ]
        },
        {
          "data": {
            "application/vnd.jupyter.widget-view+json": {
              "model_id": "07cb5b25f54b43469857cbb338b516bc",
              "version_major": 2,
              "version_minor": 0
            },
            "text/plain": [
              "  0%|          | 0/12 [00:00<?, ?it/s]"
            ]
          },
          "metadata": {},
          "output_type": "display_data"
        },
        {
          "name": "stderr",
          "output_type": "stream",
          "text": [
            "Trainer is attempting to log a value of \"[0.6784140969162996, 0.5267175572519084]\" of type <class 'list'> for key \"eval/precision\" as a scalar. This invocation of Tensorboard's writer.add_scalar() is incorrect so we dropped this attribute.\n",
            "Trainer is attempting to log a value of \"[0.7129629629629629, 0.4859154929577465]\" of type <class 'list'> for key \"eval/recall\" as a scalar. This invocation of Tensorboard's writer.add_scalar() is incorrect so we dropped this attribute.\n",
            "Trainer is attempting to log a value of \"[0.6952595936794582, 0.5054945054945056]\" of type <class 'list'> for key \"eval/f1\" as a scalar. This invocation of Tensorboard's writer.add_scalar() is incorrect so we dropped this attribute.\n",
            "Trainer is attempting to log a value of \"[0.7129629629629629, 0.4859154929577465]\" of type <class 'list'> for key \"eval/accuracy\" as a scalar. This invocation of Tensorboard's writer.add_scalar() is incorrect so we dropped this attribute.\n",
            "Saving model checkpoint to results/multilingual/trump_2cl\\checkpoint-68\n",
            "Configuration saved in results/multilingual/trump_2cl\\checkpoint-68\\config.json\n"
          ]
        },
        {
          "name": "stdout",
          "output_type": "stream",
          "text": [
            "{'eval_loss': 0.6777951717376709, 'eval_precision': [0.6784140969162996, 0.5267175572519084], 'eval_recall': [0.7129629629629629, 0.4859154929577465], 'eval_f1': [0.6952595936794582, 0.5054945054945056], 'eval_accuracy': [0.7129629629629629, 0.4859154929577465], 'eval_runtime': 0.3608, 'eval_samples_per_second': 992.304, 'eval_steps_per_second': 33.262, 'epoch': 2.0}\n"
          ]
        },
        {
          "name": "stderr",
          "output_type": "stream",
          "text": [
            "Model weights saved in results/multilingual/trump_2cl\\checkpoint-68\\pytorch_model.bin\n",
            "tokenizer config file saved in results/multilingual/trump_2cl\\checkpoint-68\\tokenizer_config.json\n",
            "Special tokens file saved in results/multilingual/trump_2cl\\checkpoint-68\\special_tokens_map.json\n"
          ]
        },
        {
          "name": "stdout",
          "output_type": "stream",
          "text": [
            "{'loss': 0.6826, 'learning_rate': 7.843137254901962e-07, 'epoch': 2.94}\n"
          ]
        },
        {
          "name": "stderr",
          "output_type": "stream",
          "text": [
            "***** Running Evaluation *****\n",
            "  Num examples = 358\n",
            "  Batch size = 32\n"
          ]
        },
        {
          "data": {
            "application/vnd.jupyter.widget-view+json": {
              "model_id": "0f6529fa4bc345b2a646a7eaaedc1259",
              "version_major": 2,
              "version_minor": 0
            },
            "text/plain": [
              "  0%|          | 0/12 [00:00<?, ?it/s]"
            ]
          },
          "metadata": {},
          "output_type": "display_data"
        },
        {
          "name": "stderr",
          "output_type": "stream",
          "text": [
            "Trainer is attempting to log a value of \"[0.7166666666666667, 0.5112359550561798]\" of type <class 'list'> for key \"eval/precision\" as a scalar. This invocation of Tensorboard's writer.add_scalar() is incorrect so we dropped this attribute.\n",
            "Trainer is attempting to log a value of \"[0.5972222222222222, 0.6408450704225352]\" of type <class 'list'> for key \"eval/recall\" as a scalar. This invocation of Tensorboard's writer.add_scalar() is incorrect so we dropped this attribute.\n",
            "Trainer is attempting to log a value of \"[0.6515151515151515, 0.56875]\" of type <class 'list'> for key \"eval/f1\" as a scalar. This invocation of Tensorboard's writer.add_scalar() is incorrect so we dropped this attribute.\n",
            "Trainer is attempting to log a value of \"[0.5972222222222222, 0.6408450704225352]\" of type <class 'list'> for key \"eval/accuracy\" as a scalar. This invocation of Tensorboard's writer.add_scalar() is incorrect so we dropped this attribute.\n",
            "Saving model checkpoint to results/multilingual/trump_2cl\\checkpoint-102\n",
            "Configuration saved in results/multilingual/trump_2cl\\checkpoint-102\\config.json\n"
          ]
        },
        {
          "name": "stdout",
          "output_type": "stream",
          "text": [
            "{'eval_loss': 0.6416300535202026, 'eval_precision': [0.7166666666666667, 0.5112359550561798], 'eval_recall': [0.5972222222222222, 0.6408450704225352], 'eval_f1': [0.6515151515151515, 0.56875], 'eval_accuracy': [0.5972222222222222, 0.6408450704225352], 'eval_runtime': 0.3772, 'eval_samples_per_second': 949.216, 'eval_steps_per_second': 31.817, 'epoch': 3.0}\n"
          ]
        },
        {
          "name": "stderr",
          "output_type": "stream",
          "text": [
            "Model weights saved in results/multilingual/trump_2cl\\checkpoint-102\\pytorch_model.bin\n",
            "tokenizer config file saved in results/multilingual/trump_2cl\\checkpoint-102\\tokenizer_config.json\n",
            "Special tokens file saved in results/multilingual/trump_2cl\\checkpoint-102\\special_tokens_map.json\n",
            "\n",
            "\n",
            "Training completed. Do not forget to share your model on huggingface.co/models =)\n",
            "\n",
            "\n",
            "Loading best model from results/multilingual/trump_2cl\\checkpoint-102 (score: 0.6416300535202026).\n"
          ]
        },
        {
          "name": "stdout",
          "output_type": "stream",
          "text": [
            "{'train_runtime': 28.3998, 'train_samples_per_second': 113.135, 'train_steps_per_second': 3.592, 'train_loss': 0.6809998844184127, 'epoch': 3.0}\n"
          ]
        },
        {
          "data": {
            "text/plain": [
              "TrainOutput(global_step=102, training_loss=0.6809998844184127, metrics={'train_runtime': 28.3998, 'train_samples_per_second': 113.135, 'train_steps_per_second': 3.592, 'train_loss': 0.6809998844184127, 'epoch': 3.0})"
            ]
          },
          "execution_count": 132,
          "metadata": {},
          "output_type": "execute_result"
        }
      ],
      "source": [
        "trainer.train()"
      ]
    },
    {
      "cell_type": "code",
      "execution_count": 133,
      "metadata": {},
      "outputs": [
        {
          "name": "stderr",
          "output_type": "stream",
          "text": [
            "***** Running Evaluation *****\n",
            "  Num examples = 5717\n",
            "  Batch size = 32\n"
          ]
        },
        {
          "data": {
            "application/vnd.jupyter.widget-view+json": {
              "model_id": "476a7ecb9d1b49e09ae6eb4a36b54fd7",
              "version_major": 2,
              "version_minor": 0
            },
            "text/plain": [
              "  0%|          | 0/179 [00:00<?, ?it/s]"
            ]
          },
          "metadata": {},
          "output_type": "display_data"
        },
        {
          "name": "stderr",
          "output_type": "stream",
          "text": [
            "Trainer is attempting to log a value of \"[0.7274640477025605, 0.5198883461270063]\" of type <class 'list'> for key \"eval/precision\" as a scalar. This invocation of Tensorboard's writer.add_scalar() is incorrect so we dropped this attribute.\n",
            "Trainer is attempting to log a value of \"[0.601159420289855, 0.6572562858403176]\" of type <class 'list'> for key \"eval/recall\" as a scalar. This invocation of Tensorboard's writer.add_scalar() is incorrect so we dropped this attribute.\n",
            "Trainer is attempting to log a value of \"[0.658308205046818, 0.5805571790375997]\" of type <class 'list'> for key \"eval/f1\" as a scalar. This invocation of Tensorboard's writer.add_scalar() is incorrect so we dropped this attribute.\n",
            "Trainer is attempting to log a value of \"[0.601159420289855, 0.6572562858403176]\" of type <class 'list'> for key \"eval/accuracy\" as a scalar. This invocation of Tensorboard's writer.add_scalar() is incorrect so we dropped this attribute.\n"
          ]
        },
        {
          "name": "stdout",
          "output_type": "stream",
          "text": [
            "0.6194326920422089\n"
          ]
        }
      ],
      "source": [
        "res = trainer.evaluate(tokenized_datasets['test'])\n",
        "print(sum(res['eval_f1'])/num_classes)"
      ]
    },
    {
      "cell_type": "code",
      "execution_count": 134,
      "metadata": {},
      "outputs": [
        {
          "data": {
            "text/html": [
              "<div>\n",
              "<style scoped>\n",
              "    .dataframe tbody tr th:only-of-type {\n",
              "        vertical-align: middle;\n",
              "    }\n",
              "\n",
              "    .dataframe tbody tr th {\n",
              "        vertical-align: top;\n",
              "    }\n",
              "\n",
              "    .dataframe thead th {\n",
              "        text-align: right;\n",
              "    }\n",
              "</style>\n",
              "<table border=\"1\" class=\"dataframe\">\n",
              "  <thead>\n",
              "    <tr style=\"text-align: right;\">\n",
              "      <th></th>\n",
              "      <th>f1</th>\n",
              "      <th>precision</th>\n",
              "      <th>recall</th>\n",
              "      <th>accuracy</th>\n",
              "    </tr>\n",
              "  </thead>\n",
              "  <tbody>\n",
              "    <tr>\n",
              "      <th>0</th>\n",
              "      <td>0.66</td>\n",
              "      <td>0.73</td>\n",
              "      <td>0.60</td>\n",
              "      <td>0.60</td>\n",
              "    </tr>\n",
              "    <tr>\n",
              "      <th>1</th>\n",
              "      <td>0.58</td>\n",
              "      <td>0.52</td>\n",
              "      <td>0.66</td>\n",
              "      <td>0.66</td>\n",
              "    </tr>\n",
              "  </tbody>\n",
              "</table>\n",
              "</div>"
            ],
            "text/plain": [
              "     f1  precision  recall  accuracy\n",
              "0  0.66       0.73    0.60      0.60\n",
              "1  0.58       0.52    0.66      0.66"
            ]
          },
          "execution_count": 134,
          "metadata": {},
          "output_type": "execute_result"
        }
      ],
      "source": [
        "res_table = pd.DataFrame({'f1': np.round(res['eval_f1'],2), 'precision': np.round(res['eval_precision'],2), \n",
        "'recall': np.round(res['eval_recall'],2), 'accuracy': np.round(res['eval_accuracy'],2)})\n",
        "res_table"
      ]
    },
    {
      "cell_type": "code",
      "execution_count": 135,
      "metadata": {},
      "outputs": [
        {
          "data": {
            "text/plain": [
              "f1           0.62\n",
              "precision    0.62\n",
              "recall       0.63\n",
              "accuracy     0.63\n",
              "dtype: float64"
            ]
          },
          "execution_count": 135,
          "metadata": {},
          "output_type": "execute_result"
        }
      ],
      "source": [
        "round(res_table.mean(axis=0),2)"
      ]
    },
    {
      "attachments": {},
      "cell_type": "markdown",
      "metadata": {},
      "source": [
        "### Apply on tweets about Donald Trump from the paper Sentiment is not Stance"
      ]
    },
    {
      "cell_type": "code",
      "execution_count": 55,
      "metadata": {},
      "outputs": [],
      "source": [
        "sins_trump = pd.read_csv(os.path.join('data','sins_tweets', 'MOTN_responses_groundtruth.csv'))"
      ]
    },
    {
      "cell_type": "code",
      "execution_count": 56,
      "metadata": {},
      "outputs": [
        {
          "data": {
            "text/html": [
              "<div>\n",
              "<style scoped>\n",
              "    .dataframe tbody tr th:only-of-type {\n",
              "        vertical-align: middle;\n",
              "    }\n",
              "\n",
              "    .dataframe tbody tr th {\n",
              "        vertical-align: top;\n",
              "    }\n",
              "\n",
              "    .dataframe thead th {\n",
              "        text-align: right;\n",
              "    }\n",
              "</style>\n",
              "<table border=\"1\" class=\"dataframe\">\n",
              "  <thead>\n",
              "    <tr style=\"text-align: right;\">\n",
              "      <th></th>\n",
              "      <th>wavenum</th>\n",
              "      <th>ideo5</th>\n",
              "      <th>edits_clean_text</th>\n",
              "      <th>qpos</th>\n",
              "      <th>trump_stance_auto</th>\n",
              "      <th>lexicoder_sentiment</th>\n",
              "      <th>fold</th>\n",
              "      <th>vader_sentiment</th>\n",
              "      <th>SVM_sentiment</th>\n",
              "      <th>BERT_sentiment</th>\n",
              "      <th>SVM_stance</th>\n",
              "      <th>BERT_stance</th>\n",
              "      <th>vader_scores</th>\n",
              "    </tr>\n",
              "  </thead>\n",
              "  <tbody>\n",
              "    <tr>\n",
              "      <th>0</th>\n",
              "      <td>3</td>\n",
              "      <td>Moderate</td>\n",
              "      <td>the recent election of donald trump the freedo...</td>\n",
              "      <td>1</td>\n",
              "      <td>1</td>\n",
              "      <td>1.0</td>\n",
              "      <td>3</td>\n",
              "      <td>1.0</td>\n",
              "      <td>1</td>\n",
              "      <td>1</td>\n",
              "      <td>1</td>\n",
              "      <td>0</td>\n",
              "      <td>0.6369</td>\n",
              "    </tr>\n",
              "    <tr>\n",
              "      <th>1</th>\n",
              "      <td>3</td>\n",
              "      <td>Very conservative</td>\n",
              "      <td>donald trump won</td>\n",
              "      <td>1</td>\n",
              "      <td>1</td>\n",
              "      <td>1.0</td>\n",
              "      <td>1</td>\n",
              "      <td>1.0</td>\n",
              "      <td>1</td>\n",
              "      <td>1</td>\n",
              "      <td>1</td>\n",
              "      <td>1</td>\n",
              "      <td>0.5719</td>\n",
              "    </tr>\n",
              "    <tr>\n",
              "      <th>2</th>\n",
              "      <td>3</td>\n",
              "      <td>Conservative</td>\n",
              "      <td>that donald trump beat hillary clinton</td>\n",
              "      <td>1</td>\n",
              "      <td>1</td>\n",
              "      <td>NaN</td>\n",
              "      <td>5</td>\n",
              "      <td>NaN</td>\n",
              "      <td>1</td>\n",
              "      <td>1</td>\n",
              "      <td>1</td>\n",
              "      <td>1</td>\n",
              "      <td>0.0000</td>\n",
              "    </tr>\n",
              "    <tr>\n",
              "      <th>3</th>\n",
              "      <td>3</td>\n",
              "      <td>Conservative</td>\n",
              "      <td>donald trump was elected president</td>\n",
              "      <td>1</td>\n",
              "      <td>1</td>\n",
              "      <td>NaN</td>\n",
              "      <td>5</td>\n",
              "      <td>NaN</td>\n",
              "      <td>1</td>\n",
              "      <td>1</td>\n",
              "      <td>1</td>\n",
              "      <td>1</td>\n",
              "      <td>0.0000</td>\n",
              "    </tr>\n",
              "    <tr>\n",
              "      <th>4</th>\n",
              "      <td>3</td>\n",
              "      <td>Conservative</td>\n",
              "      <td>the american people saw through the obfuscatio...</td>\n",
              "      <td>1</td>\n",
              "      <td>1</td>\n",
              "      <td>1.0</td>\n",
              "      <td>3</td>\n",
              "      <td>1.0</td>\n",
              "      <td>0</td>\n",
              "      <td>1</td>\n",
              "      <td>1</td>\n",
              "      <td>1</td>\n",
              "      <td>0.4019</td>\n",
              "    </tr>\n",
              "  </tbody>\n",
              "</table>\n",
              "</div>"
            ],
            "text/plain": [
              "   wavenum              ideo5  \\\n",
              "0        3           Moderate   \n",
              "1        3  Very conservative   \n",
              "2        3       Conservative   \n",
              "3        3       Conservative   \n",
              "4        3       Conservative   \n",
              "\n",
              "                                    edits_clean_text  qpos  trump_stance_auto  \\\n",
              "0  the recent election of donald trump the freedo...     1                  1   \n",
              "1                                   donald trump won     1                  1   \n",
              "2             that donald trump beat hillary clinton     1                  1   \n",
              "3                 donald trump was elected president     1                  1   \n",
              "4  the american people saw through the obfuscatio...     1                  1   \n",
              "\n",
              "   lexicoder_sentiment  fold  vader_sentiment  SVM_sentiment  BERT_sentiment  \\\n",
              "0                  1.0     3              1.0              1               1   \n",
              "1                  1.0     1              1.0              1               1   \n",
              "2                  NaN     5              NaN              1               1   \n",
              "3                  NaN     5              NaN              1               1   \n",
              "4                  1.0     3              1.0              0               1   \n",
              "\n",
              "   SVM_stance  BERT_stance  vader_scores  \n",
              "0           1            0        0.6369  \n",
              "1           1            1        0.5719  \n",
              "2           1            1        0.0000  \n",
              "3           1            1        0.0000  \n",
              "4           1            1        0.4019  "
            ]
          },
          "execution_count": 56,
          "metadata": {},
          "output_type": "execute_result"
        }
      ],
      "source": [
        "sins_trump.head()"
      ]
    },
    {
      "cell_type": "code",
      "execution_count": 57,
      "metadata": {},
      "outputs": [
        {
          "data": {
            "text/html": [
              "<div>\n",
              "<style scoped>\n",
              "    .dataframe tbody tr th:only-of-type {\n",
              "        vertical-align: middle;\n",
              "    }\n",
              "\n",
              "    .dataframe tbody tr th {\n",
              "        vertical-align: top;\n",
              "    }\n",
              "\n",
              "    .dataframe thead th {\n",
              "        text-align: right;\n",
              "    }\n",
              "</style>\n",
              "<table border=\"1\" class=\"dataframe\">\n",
              "  <thead>\n",
              "    <tr style=\"text-align: right;\">\n",
              "      <th></th>\n",
              "      <th>wavenum</th>\n",
              "      <th>ideo5</th>\n",
              "      <th>edits_clean_text</th>\n",
              "      <th>qpos</th>\n",
              "      <th>lexicoder_sentiment</th>\n",
              "      <th>fold</th>\n",
              "      <th>vader_sentiment</th>\n",
              "      <th>SVM_sentiment</th>\n",
              "      <th>BERT_sentiment</th>\n",
              "      <th>SVM_stance</th>\n",
              "      <th>BERT_stance</th>\n",
              "      <th>vader_scores</th>\n",
              "    </tr>\n",
              "    <tr>\n",
              "      <th>trump_stance_auto</th>\n",
              "      <th></th>\n",
              "      <th></th>\n",
              "      <th></th>\n",
              "      <th></th>\n",
              "      <th></th>\n",
              "      <th></th>\n",
              "      <th></th>\n",
              "      <th></th>\n",
              "      <th></th>\n",
              "      <th></th>\n",
              "      <th></th>\n",
              "      <th></th>\n",
              "    </tr>\n",
              "  </thead>\n",
              "  <tbody>\n",
              "    <tr>\n",
              "      <th>0</th>\n",
              "      <td>4312</td>\n",
              "      <td>4312</td>\n",
              "      <td>4312</td>\n",
              "      <td>4312</td>\n",
              "      <td>1885</td>\n",
              "      <td>4312</td>\n",
              "      <td>2012</td>\n",
              "      <td>4312</td>\n",
              "      <td>4312</td>\n",
              "      <td>4312</td>\n",
              "      <td>4312</td>\n",
              "      <td>4312</td>\n",
              "    </tr>\n",
              "    <tr>\n",
              "      <th>1</th>\n",
              "      <td>2834</td>\n",
              "      <td>2834</td>\n",
              "      <td>2834</td>\n",
              "      <td>2834</td>\n",
              "      <td>1434</td>\n",
              "      <td>2834</td>\n",
              "      <td>1573</td>\n",
              "      <td>2834</td>\n",
              "      <td>2834</td>\n",
              "      <td>2834</td>\n",
              "      <td>2834</td>\n",
              "      <td>2834</td>\n",
              "    </tr>\n",
              "  </tbody>\n",
              "</table>\n",
              "</div>"
            ],
            "text/plain": [
              "                   wavenum  ideo5  edits_clean_text  qpos  \\\n",
              "trump_stance_auto                                           \n",
              "0                     4312   4312              4312  4312   \n",
              "1                     2834   2834              2834  2834   \n",
              "\n",
              "                   lexicoder_sentiment  fold  vader_sentiment  SVM_sentiment  \\\n",
              "trump_stance_auto                                                              \n",
              "0                                 1885  4312             2012           4312   \n",
              "1                                 1434  2834             1573           2834   \n",
              "\n",
              "                   BERT_sentiment  SVM_stance  BERT_stance  vader_scores  \n",
              "trump_stance_auto                                                         \n",
              "0                            4312        4312         4312          4312  \n",
              "1                            2834        2834         2834          2834  "
            ]
          },
          "execution_count": 57,
          "metadata": {},
          "output_type": "execute_result"
        }
      ],
      "source": [
        "sins_trump.groupby('trump_stance_auto').count()"
      ]
    },
    {
      "cell_type": "code",
      "execution_count": 94,
      "metadata": {},
      "outputs": [
        {
          "name": "stderr",
          "output_type": "stream",
          "text": [
            "loading configuration file results/multilingual/kvn_2cl/checkpoint-234\\config.json\n",
            "Model config XLMRobertaConfig {\n",
            "  \"_name_or_path\": \"xlm-roberta-base\",\n",
            "  \"architectures\": [\n",
            "    \"XLMRobertaForSequenceClassification\"\n",
            "  ],\n",
            "  \"attention_probs_dropout_prob\": 0.1,\n",
            "  \"bos_token_id\": 0,\n",
            "  \"classifier_dropout\": null,\n",
            "  \"eos_token_id\": 2,\n",
            "  \"hidden_act\": \"gelu\",\n",
            "  \"hidden_dropout_prob\": 0.1,\n",
            "  \"hidden_size\": 768,\n",
            "  \"initializer_range\": 0.02,\n",
            "  \"intermediate_size\": 3072,\n",
            "  \"layer_norm_eps\": 1e-05,\n",
            "  \"max_position_embeddings\": 514,\n",
            "  \"model_type\": \"xlm-roberta\",\n",
            "  \"num_attention_heads\": 12,\n",
            "  \"num_hidden_layers\": 12,\n",
            "  \"output_past\": true,\n",
            "  \"pad_token_id\": 1,\n",
            "  \"position_embedding_type\": \"absolute\",\n",
            "  \"problem_type\": \"single_label_classification\",\n",
            "  \"torch_dtype\": \"float32\",\n",
            "  \"transformers_version\": \"4.25.1\",\n",
            "  \"type_vocab_size\": 1,\n",
            "  \"use_cache\": true,\n",
            "  \"vocab_size\": 250002\n",
            "}\n",
            "\n",
            "loading weights file results/multilingual/kvn_2cl/checkpoint-234\\pytorch_model.bin\n",
            "All model checkpoint weights were used when initializing XLMRobertaForSequenceClassification.\n",
            "\n",
            "All the weights of XLMRobertaForSequenceClassification were initialized from the model checkpoint at results/multilingual/kvn_2cl/checkpoint-234.\n",
            "If your task is similar to the task the model of the checkpoint was trained on, you can already use XLMRobertaForSequenceClassification for predictions without further training.\n",
            "loading file sentencepiece.bpe.model\n",
            "loading file tokenizer.json\n",
            "loading file added_tokens.json\n",
            "loading file special_tokens_map.json\n",
            "loading file tokenizer_config.json\n"
          ]
        }
      ],
      "source": [
        "transformer_model = 'results/multilingual/kvn_2cl/checkpoint-234'\n",
        "model = XLMRobertaForSequenceClassification.from_pretrained(transformer_model).to(device)\n",
        "tokenizer = AutoTokenizer.from_pretrained(transformer_model)\n"
      ]
    },
    {
      "cell_type": "code",
      "execution_count": 95,
      "metadata": {},
      "outputs": [],
      "source": [
        "texts = sins_trump['edits_clean_text'].tolist()"
      ]
    },
    {
      "cell_type": "code",
      "execution_count": 96,
      "metadata": {},
      "outputs": [
        {
          "name": "stdout",
          "output_type": "stream",
          "text": [
            "0\n",
            "1000\n",
            "2000\n",
            "3000\n",
            "4000\n",
            "5000\n",
            "6000\n",
            "7000\n"
          ]
        }
      ],
      "source": [
        "results = get_prediction(model, texts)"
      ]
    },
    {
      "cell_type": "code",
      "execution_count": 97,
      "metadata": {},
      "outputs": [],
      "source": [
        "predicted = np.array([i.cpu().detach().numpy() for i in results]).flatten()"
      ]
    },
    {
      "cell_type": "code",
      "execution_count": 98,
      "metadata": {},
      "outputs": [
        {
          "data": {
            "text/plain": [
              "(7146,)"
            ]
          },
          "execution_count": 98,
          "metadata": {},
          "output_type": "execute_result"
        }
      ],
      "source": [
        "predicted.shape"
      ]
    },
    {
      "cell_type": "code",
      "execution_count": 99,
      "metadata": {},
      "outputs": [],
      "source": [
        "y_truth = np.array(sins_trump['trump_stance_auto'].tolist())"
      ]
    },
    {
      "cell_type": "code",
      "execution_count": 204,
      "metadata": {},
      "outputs": [
        {
          "data": {
            "text/plain": [
              "(7146,)"
            ]
          },
          "execution_count": 204,
          "metadata": {},
          "output_type": "execute_result"
        }
      ],
      "source": [
        "y_truth.shape"
      ]
    },
    {
      "cell_type": "code",
      "execution_count": 100,
      "metadata": {},
      "outputs": [],
      "source": [
        "precision, recall, f1, _ = precision_recall_fscore_support(y_truth, predicted, average=None)\n",
        "matrix = confusion_matrix(y_truth, predicted)\n",
        "accuracy = matrix.diagonal()/matrix.sum(axis=1)"
      ]
    },
    {
      "cell_type": "code",
      "execution_count": 102,
      "metadata": {},
      "outputs": [
        {
          "data": {
            "text/html": [
              "<div>\n",
              "<style scoped>\n",
              "    .dataframe tbody tr th:only-of-type {\n",
              "        vertical-align: middle;\n",
              "    }\n",
              "\n",
              "    .dataframe tbody tr th {\n",
              "        vertical-align: top;\n",
              "    }\n",
              "\n",
              "    .dataframe thead th {\n",
              "        text-align: right;\n",
              "    }\n",
              "</style>\n",
              "<table border=\"1\" class=\"dataframe\">\n",
              "  <thead>\n",
              "    <tr style=\"text-align: right;\">\n",
              "      <th></th>\n",
              "      <th>f1</th>\n",
              "      <th>precision</th>\n",
              "      <th>recall</th>\n",
              "      <th>accuracy</th>\n",
              "    </tr>\n",
              "  </thead>\n",
              "  <tbody>\n",
              "    <tr>\n",
              "      <th>0</th>\n",
              "      <td>0.41</td>\n",
              "      <td>0.69</td>\n",
              "      <td>0.29</td>\n",
              "      <td>0.29</td>\n",
              "    </tr>\n",
              "    <tr>\n",
              "      <th>1</th>\n",
              "      <td>0.56</td>\n",
              "      <td>0.43</td>\n",
              "      <td>0.80</td>\n",
              "      <td>0.80</td>\n",
              "    </tr>\n",
              "  </tbody>\n",
              "</table>\n",
              "</div>"
            ],
            "text/plain": [
              "     f1  precision  recall  accuracy\n",
              "0  0.41       0.69    0.29      0.29\n",
              "1  0.56       0.43    0.80      0.80"
            ]
          },
          "execution_count": 102,
          "metadata": {},
          "output_type": "execute_result"
        }
      ],
      "source": [
        "res_table = pd.DataFrame({'f1': np.round(f1,2), 'precision': np.round(precision,2), \n",
        "'recall': np.round(recall,2), 'accuracy': np.round(accuracy,2)})\n",
        "res_table"
      ]
    },
    {
      "attachments": {},
      "cell_type": "markdown",
      "metadata": {},
      "source": [
        "### Dimension reduction with UMAP"
      ]
    },
    {
      "cell_type": "code",
      "execution_count": 212,
      "metadata": {},
      "outputs": [],
      "source": [
        "def encode_embeds(dataframe, group_vars, model):\n",
        "    embed_dict = {}\n",
        "    for name, group in dataframe.groupby(group_vars):\n",
        "        text = group['edits_clean_text'].tolist()\n",
        "        embeds = model.encode(text)\n",
        "        embed_dict.update({name: embeds})\n",
        "    document_embed = np.vstack(list(embed_dict.values()))\n",
        "    return(document_embed)\n",
        "\n"
      ]
    },
    {
      "cell_type": "code",
      "execution_count": 233,
      "metadata": {},
      "outputs": [],
      "source": [
        "guide_labels = np.array(sins_trump['trump_stance_auto'].tolist()).reshape(-1,1)"
      ]
    },
    {
      "cell_type": "code",
      "execution_count": 234,
      "metadata": {},
      "outputs": [
        {
          "data": {
            "text/plain": [
              "(7146, 1)"
            ]
          },
          "execution_count": 234,
          "metadata": {},
          "output_type": "execute_result"
        }
      ],
      "source": [
        "guide_labels.shape"
      ]
    },
    {
      "cell_type": "code",
      "execution_count": 227,
      "metadata": {},
      "outputs": [
        {
          "name": "stderr",
          "output_type": "stream",
          "text": [
            "loading configuration file results/multilingual/manifesto_2cl/checkpoint-3000\\config.json\n",
            "Model config XLMRobertaConfig {\n",
            "  \"_name_or_path\": \"results/multilingual/manifesto_2cl/checkpoint-3000\",\n",
            "  \"architectures\": [\n",
            "    \"XLMRobertaForSequenceClassification\"\n",
            "  ],\n",
            "  \"attention_probs_dropout_prob\": 0.1,\n",
            "  \"bos_token_id\": 0,\n",
            "  \"classifier_dropout\": null,\n",
            "  \"eos_token_id\": 2,\n",
            "  \"hidden_act\": \"gelu\",\n",
            "  \"hidden_dropout_prob\": 0.1,\n",
            "  \"hidden_size\": 768,\n",
            "  \"initializer_range\": 0.02,\n",
            "  \"intermediate_size\": 3072,\n",
            "  \"layer_norm_eps\": 1e-05,\n",
            "  \"max_position_embeddings\": 514,\n",
            "  \"model_type\": \"xlm-roberta\",\n",
            "  \"num_attention_heads\": 12,\n",
            "  \"num_hidden_layers\": 12,\n",
            "  \"output_past\": true,\n",
            "  \"pad_token_id\": 1,\n",
            "  \"position_embedding_type\": \"absolute\",\n",
            "  \"problem_type\": \"single_label_classification\",\n",
            "  \"torch_dtype\": \"float32\",\n",
            "  \"transformers_version\": \"4.25.1\",\n",
            "  \"type_vocab_size\": 1,\n",
            "  \"use_cache\": true,\n",
            "  \"vocab_size\": 250002\n",
            "}\n",
            "\n",
            "loading weights file results/multilingual/manifesto_2cl/checkpoint-3000\\pytorch_model.bin\n",
            "Some weights of the model checkpoint at results/multilingual/manifesto_2cl/checkpoint-3000 were not used when initializing XLMRobertaModel: ['classifier.out_proj.weight', 'classifier.dense.weight', 'classifier.out_proj.bias', 'classifier.dense.bias']\n",
            "- This IS expected if you are initializing XLMRobertaModel from the checkpoint of a model trained on another task or with another architecture (e.g. initializing a BertForSequenceClassification model from a BertForPreTraining model).\n",
            "- This IS NOT expected if you are initializing XLMRobertaModel from the checkpoint of a model that you expect to be exactly identical (initializing a BertForSequenceClassification model from a BertForSequenceClassification model).\n",
            "Some weights of XLMRobertaModel were not initialized from the model checkpoint at results/multilingual/manifesto_2cl/checkpoint-3000 and are newly initialized: ['roberta.pooler.dense.bias', 'roberta.pooler.dense.weight']\n",
            "You should probably TRAIN this model on a down-stream task to be able to use it for predictions and inference.\n",
            "loading file sentencepiece.bpe.model\n",
            "loading file tokenizer.json\n",
            "loading file added_tokens.json\n",
            "loading file special_tokens_map.json\n",
            "loading file tokenizer_config.json\n"
          ]
        }
      ],
      "source": [
        "word_embedding_model = models.Transformer(transformer_model)\n",
        "pooling_model = models.Pooling(word_embedding_model.get_word_embedding_dimension(), 'cls')\n",
        "model = SentenceTransformer(modules=[word_embedding_model, pooling_model]).to(device)"
      ]
    },
    {
      "cell_type": "code",
      "execution_count": 228,
      "metadata": {},
      "outputs": [],
      "source": [
        "document_embed = encode_embeds(sins_trump, 'ideo5', model)"
      ]
    },
    {
      "cell_type": "code",
      "execution_count": 229,
      "metadata": {},
      "outputs": [],
      "source": [
        "def scale_topic(document_embed, guide_labels, sparse=False, guidance_weight=0.8, **kwargs):\n",
        "    y = guide_labels\n",
        "    if len(y) <= 10000:\n",
        "        k_recommended = 250\n",
        "    elif 10000 <= len(y) <= 50000:\n",
        "        k_recommended = 500\n",
        "    elif len(y) >=50000:\n",
        "        k_recommended = 1000\n",
        "    if sparse:\n",
        "        svd = TruncatedSVD(n_components=50)\n",
        "        embeddings_reduced = svd.fit_transform(document_embed)\n",
        "    else:\n",
        "        pca = PCA(n_components=50)\n",
        "        embeddings_reduced = pca.fit_transform(document_embed)\n",
        "    embeddings = umap.UMAP(n_components=1, n_neighbors=k_recommended, n_epochs=500, metric='euclidean', \n",
        "                            target_weight=guidance_weight, low_memory=True, verbose=True, **kwargs).fit_transform(embeddings_reduced, y=y)\n",
        "\n",
        "    return embeddings\n",
        "        \n"
      ]
    },
    {
      "cell_type": "code",
      "execution_count": 235,
      "metadata": {},
      "outputs": [
        {
          "name": "stdout",
          "output_type": "stream",
          "text": [
            "UMAP(n_components=1, n_epochs=500, n_neighbors=250, target_weight=0.8, verbose=True)\n",
            "Tue May  9 15:13:33 2023 Construct fuzzy simplicial set\n",
            "Tue May  9 15:13:33 2023 Finding Nearest Neighbors\n",
            "Tue May  9 15:13:33 2023 Building RP forest with 9 trees\n",
            "Tue May  9 15:13:33 2023 NN descent for 13 iterations\n",
            "\t 1  /  13\n",
            "\t 2  /  13\n",
            "\t 3  /  13\n",
            "\tStopping threshold met -- exiting after 3 iterations\n",
            "Tue May  9 15:13:38 2023 Finished Nearest Neighbor Search\n",
            "Tue May  9 15:13:39 2023 Construct embedding\n"
          ]
        },
        {
          "data": {
            "application/vnd.jupyter.widget-view+json": {
              "model_id": "954caaa3cb0a482caf7d19db18973ba0",
              "version_major": 2,
              "version_minor": 0
            },
            "text/plain": [
              "Epochs completed:   0%|            0/500 [00:00]"
            ]
          },
          "metadata": {},
          "output_type": "display_data"
        },
        {
          "name": "stdout",
          "output_type": "stream",
          "text": [
            "Tue May  9 15:13:52 2023 Finished embedding\n"
          ]
        }
      ],
      "source": [
        "results = scale_topic( document_embed=document_embed, guide_labels = guide_labels)"
      ]
    },
    {
      "cell_type": "code",
      "execution_count": 236,
      "metadata": {},
      "outputs": [],
      "source": [
        "emb_mean_dict = {}\n",
        "for name, group in sins_trump.groupby('ideo5'):\n",
        "    idx = group.index\n",
        "    embed = results[idx]\n",
        "    embed_mean = np.mean(embed, axis=0)\n",
        "    emb_mean_dict.update({name: embed_mean})\n"
      ]
    },
    {
      "cell_type": "code",
      "execution_count": 237,
      "metadata": {},
      "outputs": [],
      "source": [
        "final_embeds = np.stack(list(emb_mean_dict.values()))"
      ]
    },
    {
      "cell_type": "code",
      "execution_count": 238,
      "metadata": {},
      "outputs": [
        {
          "data": {
            "text/html": [
              "<div>\n",
              "<style scoped>\n",
              "    .dataframe tbody tr th:only-of-type {\n",
              "        vertical-align: middle;\n",
              "    }\n",
              "\n",
              "    .dataframe tbody tr th {\n",
              "        vertical-align: top;\n",
              "    }\n",
              "\n",
              "    .dataframe thead th {\n",
              "        text-align: right;\n",
              "    }\n",
              "</style>\n",
              "<table border=\"1\" class=\"dataframe\">\n",
              "  <thead>\n",
              "    <tr style=\"text-align: right;\">\n",
              "      <th></th>\n",
              "      <th></th>\n",
              "      <th>wavenum</th>\n",
              "      <th>edits_clean_text</th>\n",
              "      <th>qpos</th>\n",
              "      <th>lexicoder_sentiment</th>\n",
              "      <th>fold</th>\n",
              "      <th>vader_sentiment</th>\n",
              "      <th>SVM_sentiment</th>\n",
              "      <th>BERT_sentiment</th>\n",
              "      <th>SVM_stance</th>\n",
              "      <th>BERT_stance</th>\n",
              "      <th>vader_scores</th>\n",
              "    </tr>\n",
              "    <tr>\n",
              "      <th>ideo5</th>\n",
              "      <th>trump_stance_auto</th>\n",
              "      <th></th>\n",
              "      <th></th>\n",
              "      <th></th>\n",
              "      <th></th>\n",
              "      <th></th>\n",
              "      <th></th>\n",
              "      <th></th>\n",
              "      <th></th>\n",
              "      <th></th>\n",
              "      <th></th>\n",
              "      <th></th>\n",
              "    </tr>\n",
              "  </thead>\n",
              "  <tbody>\n",
              "    <tr>\n",
              "      <th rowspan=\"2\" valign=\"top\">Conservative</th>\n",
              "      <th>0</th>\n",
              "      <td>177</td>\n",
              "      <td>177</td>\n",
              "      <td>177</td>\n",
              "      <td>69</td>\n",
              "      <td>177</td>\n",
              "      <td>76</td>\n",
              "      <td>177</td>\n",
              "      <td>177</td>\n",
              "      <td>177</td>\n",
              "      <td>177</td>\n",
              "      <td>177</td>\n",
              "    </tr>\n",
              "    <tr>\n",
              "      <th>1</th>\n",
              "      <td>1204</td>\n",
              "      <td>1204</td>\n",
              "      <td>1204</td>\n",
              "      <td>616</td>\n",
              "      <td>1204</td>\n",
              "      <td>668</td>\n",
              "      <td>1204</td>\n",
              "      <td>1204</td>\n",
              "      <td>1204</td>\n",
              "      <td>1204</td>\n",
              "      <td>1204</td>\n",
              "    </tr>\n",
              "    <tr>\n",
              "      <th rowspan=\"2\" valign=\"top\">Liberal</th>\n",
              "      <th>0</th>\n",
              "      <td>1481</td>\n",
              "      <td>1481</td>\n",
              "      <td>1481</td>\n",
              "      <td>692</td>\n",
              "      <td>1481</td>\n",
              "      <td>733</td>\n",
              "      <td>1481</td>\n",
              "      <td>1481</td>\n",
              "      <td>1481</td>\n",
              "      <td>1481</td>\n",
              "      <td>1481</td>\n",
              "    </tr>\n",
              "    <tr>\n",
              "      <th>1</th>\n",
              "      <td>54</td>\n",
              "      <td>54</td>\n",
              "      <td>54</td>\n",
              "      <td>24</td>\n",
              "      <td>54</td>\n",
              "      <td>29</td>\n",
              "      <td>54</td>\n",
              "      <td>54</td>\n",
              "      <td>54</td>\n",
              "      <td>54</td>\n",
              "      <td>54</td>\n",
              "    </tr>\n",
              "    <tr>\n",
              "      <th rowspan=\"2\" valign=\"top\">Moderate</th>\n",
              "      <th>0</th>\n",
              "      <td>1339</td>\n",
              "      <td>1339</td>\n",
              "      <td>1339</td>\n",
              "      <td>564</td>\n",
              "      <td>1339</td>\n",
              "      <td>605</td>\n",
              "      <td>1339</td>\n",
              "      <td>1339</td>\n",
              "      <td>1339</td>\n",
              "      <td>1339</td>\n",
              "      <td>1339</td>\n",
              "    </tr>\n",
              "    <tr>\n",
              "      <th>1</th>\n",
              "      <td>514</td>\n",
              "      <td>514</td>\n",
              "      <td>514</td>\n",
              "      <td>269</td>\n",
              "      <td>514</td>\n",
              "      <td>300</td>\n",
              "      <td>514</td>\n",
              "      <td>514</td>\n",
              "      <td>514</td>\n",
              "      <td>514</td>\n",
              "      <td>514</td>\n",
              "    </tr>\n",
              "    <tr>\n",
              "      <th rowspan=\"2\" valign=\"top\">Not sure</th>\n",
              "      <th>0</th>\n",
              "      <td>142</td>\n",
              "      <td>142</td>\n",
              "      <td>142</td>\n",
              "      <td>45</td>\n",
              "      <td>142</td>\n",
              "      <td>49</td>\n",
              "      <td>142</td>\n",
              "      <td>142</td>\n",
              "      <td>142</td>\n",
              "      <td>142</td>\n",
              "      <td>142</td>\n",
              "    </tr>\n",
              "    <tr>\n",
              "      <th>1</th>\n",
              "      <td>62</td>\n",
              "      <td>62</td>\n",
              "      <td>62</td>\n",
              "      <td>22</td>\n",
              "      <td>62</td>\n",
              "      <td>31</td>\n",
              "      <td>62</td>\n",
              "      <td>62</td>\n",
              "      <td>62</td>\n",
              "      <td>62</td>\n",
              "      <td>62</td>\n",
              "    </tr>\n",
              "    <tr>\n",
              "      <th rowspan=\"2\" valign=\"top\">Very conservative</th>\n",
              "      <th>0</th>\n",
              "      <td>65</td>\n",
              "      <td>65</td>\n",
              "      <td>65</td>\n",
              "      <td>30</td>\n",
              "      <td>65</td>\n",
              "      <td>32</td>\n",
              "      <td>65</td>\n",
              "      <td>65</td>\n",
              "      <td>65</td>\n",
              "      <td>65</td>\n",
              "      <td>65</td>\n",
              "    </tr>\n",
              "    <tr>\n",
              "      <th>1</th>\n",
              "      <td>973</td>\n",
              "      <td>973</td>\n",
              "      <td>973</td>\n",
              "      <td>498</td>\n",
              "      <td>973</td>\n",
              "      <td>536</td>\n",
              "      <td>973</td>\n",
              "      <td>973</td>\n",
              "      <td>973</td>\n",
              "      <td>973</td>\n",
              "      <td>973</td>\n",
              "    </tr>\n",
              "    <tr>\n",
              "      <th rowspan=\"2\" valign=\"top\">Very liberal</th>\n",
              "      <th>0</th>\n",
              "      <td>1108</td>\n",
              "      <td>1108</td>\n",
              "      <td>1108</td>\n",
              "      <td>485</td>\n",
              "      <td>1108</td>\n",
              "      <td>517</td>\n",
              "      <td>1108</td>\n",
              "      <td>1108</td>\n",
              "      <td>1108</td>\n",
              "      <td>1108</td>\n",
              "      <td>1108</td>\n",
              "    </tr>\n",
              "    <tr>\n",
              "      <th>1</th>\n",
              "      <td>27</td>\n",
              "      <td>27</td>\n",
              "      <td>27</td>\n",
              "      <td>5</td>\n",
              "      <td>27</td>\n",
              "      <td>9</td>\n",
              "      <td>27</td>\n",
              "      <td>27</td>\n",
              "      <td>27</td>\n",
              "      <td>27</td>\n",
              "      <td>27</td>\n",
              "    </tr>\n",
              "  </tbody>\n",
              "</table>\n",
              "</div>"
            ],
            "text/plain": [
              "                                     wavenum  edits_clean_text  qpos  \\\n",
              "ideo5             trump_stance_auto                                    \n",
              "Conservative      0                      177               177   177   \n",
              "                  1                     1204              1204  1204   \n",
              "Liberal           0                     1481              1481  1481   \n",
              "                  1                       54                54    54   \n",
              "Moderate          0                     1339              1339  1339   \n",
              "                  1                      514               514   514   \n",
              "Not sure          0                      142               142   142   \n",
              "                  1                       62                62    62   \n",
              "Very conservative 0                       65                65    65   \n",
              "                  1                      973               973   973   \n",
              "Very liberal      0                     1108              1108  1108   \n",
              "                  1                       27                27    27   \n",
              "\n",
              "                                     lexicoder_sentiment  fold  \\\n",
              "ideo5             trump_stance_auto                              \n",
              "Conservative      0                                   69   177   \n",
              "                  1                                  616  1204   \n",
              "Liberal           0                                  692  1481   \n",
              "                  1                                   24    54   \n",
              "Moderate          0                                  564  1339   \n",
              "                  1                                  269   514   \n",
              "Not sure          0                                   45   142   \n",
              "                  1                                   22    62   \n",
              "Very conservative 0                                   30    65   \n",
              "                  1                                  498   973   \n",
              "Very liberal      0                                  485  1108   \n",
              "                  1                                    5    27   \n",
              "\n",
              "                                     vader_sentiment  SVM_sentiment  \\\n",
              "ideo5             trump_stance_auto                                   \n",
              "Conservative      0                               76            177   \n",
              "                  1                              668           1204   \n",
              "Liberal           0                              733           1481   \n",
              "                  1                               29             54   \n",
              "Moderate          0                              605           1339   \n",
              "                  1                              300            514   \n",
              "Not sure          0                               49            142   \n",
              "                  1                               31             62   \n",
              "Very conservative 0                               32             65   \n",
              "                  1                              536            973   \n",
              "Very liberal      0                              517           1108   \n",
              "                  1                                9             27   \n",
              "\n",
              "                                     BERT_sentiment  SVM_stance  BERT_stance  \\\n",
              "ideo5             trump_stance_auto                                            \n",
              "Conservative      0                             177         177          177   \n",
              "                  1                            1204        1204         1204   \n",
              "Liberal           0                            1481        1481         1481   \n",
              "                  1                              54          54           54   \n",
              "Moderate          0                            1339        1339         1339   \n",
              "                  1                             514         514          514   \n",
              "Not sure          0                             142         142          142   \n",
              "                  1                              62          62           62   \n",
              "Very conservative 0                              65          65           65   \n",
              "                  1                             973         973          973   \n",
              "Very liberal      0                            1108        1108         1108   \n",
              "                  1                              27          27           27   \n",
              "\n",
              "                                     vader_scores  \n",
              "ideo5             trump_stance_auto                \n",
              "Conservative      0                           177  \n",
              "                  1                          1204  \n",
              "Liberal           0                          1481  \n",
              "                  1                            54  \n",
              "Moderate          0                          1339  \n",
              "                  1                           514  \n",
              "Not sure          0                           142  \n",
              "                  1                            62  \n",
              "Very conservative 0                            65  \n",
              "                  1                           973  \n",
              "Very liberal      0                          1108  \n",
              "                  1                            27  "
            ]
          },
          "execution_count": 238,
          "metadata": {},
          "output_type": "execute_result"
        }
      ],
      "source": [
        "sins_trump.groupby(['ideo5','trump_stance_auto']).count()"
      ]
    },
    {
      "cell_type": "code",
      "execution_count": 239,
      "metadata": {},
      "outputs": [
        {
          "data": {
            "text/plain": [
              "array([[ 20.764511 ],\n",
              "       [-11.03211  ],\n",
              "       [ -1.1955696],\n",
              "       [  0.6113985],\n",
              "       [ 23.709496 ],\n",
              "       [-10.032596 ]], dtype=float32)"
            ]
          },
          "execution_count": 239,
          "metadata": {},
          "output_type": "execute_result"
        }
      ],
      "source": [
        "final_embeds"
      ]
    },
    {
      "cell_type": "code",
      "execution_count": 1,
      "metadata": {},
      "outputs": [
        {
          "data": {
            "text/plain": [
              "-0.01209361905435151"
            ]
          },
          "execution_count": 1,
          "metadata": {},
          "output_type": "execute_result"
        }
      ],
      "source": [
        "27/1108 - 54/1481\n"
      ]
    },
    {
      "attachments": {},
      "cell_type": "markdown",
      "metadata": {},
      "source": [
        "## Misc "
      ]
    },
    {
      "cell_type": "code",
      "execution_count": null,
      "metadata": {},
      "outputs": [],
      "source": [
        "from sklearn.decomposition import PCA\n",
        "pca = PCA(n_components=2, random_state=seed_val)\n",
        "pca_embed = pca.fit_transform(document_embed)"
      ]
    },
    {
      "cell_type": "code",
      "execution_count": 182,
      "metadata": {},
      "outputs": [],
      "source": [
        "cluster = hdbscan.HDBSCAN(min_cluster_size=3,\n",
        "                          metric='euclidean',                      \n",
        "                          cluster_selection_method='eom').fit(pca_embed)"
      ]
    },
    {
      "cell_type": "code",
      "execution_count": 183,
      "metadata": {},
      "outputs": [
        {
          "data": {
            "text/plain": [
              "array([-1,  2, -1,  0,  0,  0, -1, -1,  2,  2,  2,  2,  2,  2,  1,  2,  2,\n",
              "        2,  2,  2, -1, -1,  1,  1, -1,  2,  2,  2, -1,  2, -1, -1,  2,  2,\n",
              "        2], dtype=int64)"
            ]
          },
          "execution_count": 183,
          "metadata": {},
          "output_type": "execute_result"
        }
      ],
      "source": [
        "cluster.labels_"
      ]
    },
    {
      "cell_type": "code",
      "execution_count": 140,
      "metadata": {},
      "outputs": [
        {
          "data": {
            "text/plain": [
              "(35, 3)"
            ]
          },
          "execution_count": 140,
          "metadata": {},
          "output_type": "execute_result"
        }
      ],
      "source": [
        "document_embed.shape"
      ]
    },
    {
      "cell_type": "code",
      "execution_count": 498,
      "metadata": {},
      "outputs": [],
      "source": [
        "umap_data = umap.UMAP(n_neighbors=15, n_components=2, min_dist=0.0, metric='cosine').fit_transform(document_embed)\n",
        "result = pd.DataFrame(umap_data, columns=['x', 'y'])\n",
        "result['labels'] = cluster.labels_"
      ]
    },
    {
      "cell_type": "code",
      "execution_count": 502,
      "metadata": {},
      "outputs": [
        {
          "data": {
            "text/plain": [
              "<matplotlib.colorbar.Colorbar at 0x18ebb6f0460>"
            ]
          },
          "execution_count": 502,
          "metadata": {},
          "output_type": "execute_result"
        },
        {
          "data": {
            "image/png": "[encoded data removed]",
            "text/plain": [
              "<Figure size 2000x1000 with 2 Axes>"
            ]
          },
          "metadata": {},
          "output_type": "display_data"
        }
      ],
      "source": [
        "# Visualize clusters\n",
        "fig, ax = plt.subplots(figsize=(20, 10))\n",
        "outliers = result.loc[result.labels == -1, :]\n",
        "clustered = result.loc[result.labels != -1, :]\n",
        "plt.scatter(outliers.x, outliers.y, color='#BDBDBD', s=1)\n",
        "plt.scatter(clustered.x, clustered.y, c=clustered.labels, s=1, cmap='hsv_r')\n",
        "plt.colorbar()"
      ]
    },
    {
      "cell_type": "code",
      "execution_count": null,
      "metadata": {},
      "outputs": [],
      "source": [
        "docs_df = pd.DataFrame(manifesto_welfare['text'].tolist(), columns=[\"Doc\"])\n",
        "docs_df['Topic'] = cluster.labels_\n",
        "docs_df['Doc_ID'] = range(len(docs_df))\n",
        "docs_per_topic = docs_df.groupby(['Topic'], as_index = False).agg({'Doc': ' '.join})"
      ]
    },
    {
      "cell_type": "code",
      "execution_count": 150,
      "metadata": {},
      "outputs": [],
      "source": [
        "from sklearn.feature_extraction.text import CountVectorizer\n",
        "\n",
        "def c_tf_idf(documents, m, ngram_range=(1, 1)):\n",
        "    count = CountVectorizer(ngram_range=ngram_range, stop_words=stopwords.words('german')).fit(documents)\n",
        "    t = count.transform(documents).toarray()\n",
        "    w = t.sum(axis=1)\n",
        "    tf = np.divide(t.T, w)\n",
        "    sum_t = t.sum(axis=0)\n",
        "    idf = np.log(np.divide(m, sum_t)).reshape(-1, 1)\n",
        "    tf_idf = np.multiply(tf, idf)\n",
        "\n",
        "    return tf_idf, count\n",
        "  \n",
        "tf_idf, count = c_tf_idf(docs_per_topic.Doc.values, m=len(manifesto_welfare['text'].tolist()))"
      ]
    },
    {
      "cell_type": "code",
      "execution_count": 151,
      "metadata": {},
      "outputs": [
        {
          "data": {
            "text/html": [
              "<div>\n",
              "<style scoped>\n",
              "    .dataframe tbody tr th:only-of-type {\n",
              "        vertical-align: middle;\n",
              "    }\n",
              "\n",
              "    .dataframe tbody tr th {\n",
              "        vertical-align: top;\n",
              "    }\n",
              "\n",
              "    .dataframe thead th {\n",
              "        text-align: right;\n",
              "    }\n",
              "</style>\n",
              "<table border=\"1\" class=\"dataframe\">\n",
              "  <thead>\n",
              "    <tr style=\"text-align: right;\">\n",
              "      <th></th>\n",
              "      <th>Topic</th>\n",
              "      <th>Size</th>\n",
              "    </tr>\n",
              "  </thead>\n",
              "  <tbody>\n",
              "    <tr>\n",
              "      <th>0</th>\n",
              "      <td>-1</td>\n",
              "      <td>3394</td>\n",
              "    </tr>\n",
              "    <tr>\n",
              "      <th>3</th>\n",
              "      <td>2</td>\n",
              "      <td>934</td>\n",
              "    </tr>\n",
              "    <tr>\n",
              "      <th>2</th>\n",
              "      <td>1</td>\n",
              "      <td>627</td>\n",
              "    </tr>\n",
              "    <tr>\n",
              "      <th>1</th>\n",
              "      <td>0</td>\n",
              "      <td>232</td>\n",
              "    </tr>\n",
              "  </tbody>\n",
              "</table>\n",
              "</div>"
            ],
            "text/plain": [
              "   Topic  Size\n",
              "0     -1  3394\n",
              "3      2   934\n",
              "2      1   627\n",
              "1      0   232"
            ]
          },
          "execution_count": 151,
          "metadata": {},
          "output_type": "execute_result"
        }
      ],
      "source": [
        "def extract_top_n_words_per_topic(tf_idf, count, docs_per_topic, n=20):\n",
        "    words = count.get_feature_names_out()\n",
        "    labels = list(docs_per_topic.Topic)\n",
        "    tf_idf_transposed = tf_idf.T\n",
        "    indices = tf_idf_transposed.argsort()[:, -n:]\n",
        "    top_n_words = {label: [(words[j], tf_idf_transposed[i][j]) for j in indices[i]][::-1] for i, label in enumerate(labels)}\n",
        "    return top_n_words\n",
        "\n",
        "def extract_topic_sizes(df):\n",
        "    topic_sizes = (df.groupby(['Topic'])\n",
        "                     .Doc\n",
        "                     .count()\n",
        "                     .reset_index()\n",
        "                     .rename({\"Topic\": \"Topic\", \"Doc\": \"Size\"}, axis='columns')\n",
        "                     .sort_values(\"Size\", ascending=False))\n",
        "    return topic_sizes\n",
        "\n",
        "top_n_words = extract_top_n_words_per_topic(tf_idf, count, docs_per_topic, n=20)\n",
        "topic_sizes = extract_topic_sizes(docs_df); topic_sizes.head(10)"
      ]
    },
    {
      "cell_type": "code",
      "execution_count": 148,
      "metadata": {},
      "outputs": [
        {
          "data": {
            "text/html": [
              "<div>\n",
              "<style scoped>\n",
              "    .dataframe tbody tr th:only-of-type {\n",
              "        vertical-align: middle;\n",
              "    }\n",
              "\n",
              "    .dataframe tbody tr th {\n",
              "        vertical-align: top;\n",
              "    }\n",
              "\n",
              "    .dataframe thead th {\n",
              "        text-align: right;\n",
              "    }\n",
              "</style>\n",
              "<table border=\"1\" class=\"dataframe\">\n",
              "  <thead>\n",
              "    <tr style=\"text-align: right;\">\n",
              "      <th></th>\n",
              "      <th>Topic</th>\n",
              "      <th>Size</th>\n",
              "    </tr>\n",
              "  </thead>\n",
              "  <tbody>\n",
              "    <tr>\n",
              "      <th>0</th>\n",
              "      <td>-1</td>\n",
              "      <td>5187</td>\n",
              "    </tr>\n",
              "  </tbody>\n",
              "</table>\n",
              "</div>"
            ],
            "text/plain": [
              "   Topic  Size\n",
              "0     -1  5187"
            ]
          },
          "execution_count": 148,
          "metadata": {},
          "output_type": "execute_result"
        }
      ],
      "source": [
        "from sklearn.metrics.pairwise import cosine_similarity\n",
        "for i in range(20):\n",
        "    # Calculate cosine similarity\n",
        "    similarities = cosine_similarity(tf_idf.T)\n",
        "    np.fill_diagonal(similarities, 0)\n",
        "\n",
        "    # Extract label to merge into and from where\n",
        "    topic_sizes = docs_df.groupby(['Topic']).count().sort_values(\"Doc\", ascending=False).reset_index()\n",
        "    topic_to_merge = topic_sizes.iloc[-1].Topic\n",
        "    topic_to_merge_into = np.argmax(similarities[topic_to_merge + 1]) - 1\n",
        "\n",
        "    # Adjust topics\n",
        "    docs_df.loc[docs_df.Topic == topic_to_merge, \"Topic\"] = topic_to_merge_into\n",
        "    old_topics = docs_df.sort_values(\"Topic\").Topic.unique()\n",
        "    map_topics = {old_topic: index - 1 for index, old_topic in enumerate(old_topics)}\n",
        "    docs_df.Topic = docs_df.Topic.map(map_topics)\n",
        "    docs_per_topic = docs_df.groupby(['Topic'], as_index = False).agg({'Doc': ' '.join})\n",
        "\n",
        "    # Calculate new topic words\n",
        "    m = len(manifesto_welfare['text'].tolist())\n",
        "    tf_idf, count = c_tf_idf(docs_per_topic.Doc.values, m)\n",
        "    top_n_words = extract_top_n_words_per_topic(tf_idf, count, docs_per_topic, n=20)\n",
        "\n",
        "topic_sizes = extract_topic_sizes(docs_df); topic_sizes.head(10)"
      ]
    },
    {
      "cell_type": "code",
      "execution_count": 154,
      "metadata": {},
      "outputs": [
        {
          "data": {
            "text/plain": [
              "[('rente', 0.0386656175170545),\n",
              " ('altersvorsorge', 0.030643967244284004),\n",
              " ('rentenversicherung', 0.02440442182644493),\n",
              " ('kindergeld', 0.022400303538711978),\n",
              " ('müssen', 0.020437202206478423),\n",
              " ('private', 0.019964771430003126),\n",
              " ('gesetzlichen', 0.01860772532188563),\n",
              " ('altersarmut', 0.0181979623140137),\n",
              " ('alterssicherung', 0.017720215004242906),\n",
              " ('grundsicherung', 0.01767733905579135),\n",
              " ('gesetzliche', 0.017572755096767607),\n",
              " ('menschen', 0.01725232659521793),\n",
              " ('vorsorge', 0.016646262579743335),\n",
              " ('leistungen', 0.016580193036088507),\n",
              " ('alter', 0.01594378531548992),\n",
              " ('kinder', 0.015586618065077601),\n",
              " ('einführen', 0.015517385748632678),\n",
              " ('rentner', 0.015214105919124971),\n",
              " ('euro', 0.014711914568041448),\n",
              " ('einkommen', 0.014703566052634778)]"
            ]
          },
          "execution_count": 154,
          "metadata": {},
          "output_type": "execute_result"
        }
      ],
      "source": [
        "top_n_words[2][:20]"
      ]
    },
    {
      "cell_type": "code",
      "execution_count": null,
      "metadata": {},
      "outputs": [],
      "source": [
        "topic_model = BERTopic(embedding_model=\"xlm-r-bert-base-nli-stsb-mean-tokens\").fit(docs)"
      ]
    },
    {
      "cell_type": "code",
      "execution_count": 470,
      "metadata": {},
      "outputs": [],
      "source": [
        "document_embed = np.stack(list(emb_mean_dict.values()))"
      ]
    },
    {
      "cell_type": "code",
      "execution_count": 464,
      "metadata": {},
      "outputs": [],
      "source": [
        "len_text = (2*(len_text- np.min(len_text))/(np.max(len_text) - np.min(len_text)))-1\n",
        "document_embed = np.multiply(document_embed, len_text.reshape(document_embed.shape[0],-1))"
      ]
    },
    {
      "cell_type": "code",
      "execution_count": 447,
      "metadata": {},
      "outputs": [
        {
          "data": {
            "text/plain": [
              "array([-0.01081081,  0.05783133,  0.575     ,  0.90810811,  0.54825175,\n",
              "        0.95952381,  0.82274882, -1.        , -0.87586207, -0.13333333,\n",
              "       -0.19220779, -0.81086957,  0.18148148,  0.41818182,  0.89634146,\n",
              "        0.92916667,  0.83495146,  0.93982301,  0.93388889,  1.        ,\n",
              "        1.        ,  1.        ,  1.        ,  1.        ,  1.        ,\n",
              "        0.98577406,  1.        ,  0.99344894,  0.07272727,  0.575     ,\n",
              "        0.575     ,  0.9442623 ,  0.92013423,  1.        ,  1.        ])"
            ]
          },
          "execution_count": 447,
          "metadata": {},
          "output_type": "execute_result"
        }
      ],
      "source": [
        "len_text"
      ]
    }
  ],
  "metadata": {
    "accelerator": "GPU",
    "colab": {
      "collapsed_sections": [],
      "machine_shape": "hm",
      "provenance": [],
      "toc_visible": true
    },
    "kernelspec": {
      "display_name": "transformer_scaler",
      "language": "python",
      "name": "python3"
    },
    "language_info": {
      "codemirror_mode": {
        "name": "ipython",
        "version": 3
      },
      "file_extension": ".py",
      "mimetype": "text/x-python",
      "name": "python",
      "nbconvert_exporter": "python",
      "pygments_lexer": "ipython3",
      "version": "3.9.15"
    },
    "vscode": {
      "interpreter": {
        "hash": "c74026b94628c66cd663c77f24c406f477045c3cca5cde67105d11e47ed54e5a"
      }
    }
  },
  "nbformat": 4,
  "nbformat_minor": 0
}
