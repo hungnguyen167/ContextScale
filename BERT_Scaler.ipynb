{
  "cells": [
    {
      "attachments": {},
      "cell_type": "markdown",
      "metadata": {
        "id": "4k3dCezyXmXQ"
      },
      "source": [
        "# Setup"
      ]
    },
    {
      "cell_type": "code",
      "execution_count": 1,
      "metadata": {
        "colab": {
          "base_uri": "https://localhost:8080/"
        },
        "id": "vUoQrEYCXmXQ",
        "outputId": "e3e70df8-5711-46aa-b4cc-ede6cdb653f6"
      },
      "outputs": [],
      "source": [
        "## Install required packages\n",
        "#!pip install torch torchvision torchaudio --extra-index-url https://download.pytorch.org/whl/cu116\n",
        "#!pip install transformers==4.21.2\n",
        "#!pip install sentencepiece==0.1.96\n",
        "#!pip install datasets\n",
        "#!pip install nltk\n",
        "#!pip install sentence_transformers\n",
        "#!pip install gensim\n",
        "#!pip install torchtext\n"
      ]
    },
    {
      "cell_type": "code",
      "execution_count": 2,
      "metadata": {
        "id": "dPi54JU9XmXR"
      },
      "outputs": [],
      "source": [
        "import os\n",
        "import pandas as pd\n",
        "import numpy as np\n",
        "import matplotlib as plt\n",
        "from sklearn.model_selection import train_test_split\n",
        "from sklearn import feature_extraction, model_selection, naive_bayes, pipeline, manifold, preprocessing\n",
        "from sklearn.metrics import accuracy_score, classification_report, confusion_matrix, precision_recall_fscore_support, classification_report, f1_score\n",
        "import torch.nn as nn\n",
        "import torch.optim as optim\n",
        "import seaborn as sns\n",
        "import torch\n",
        "from transformers import XLMRobertaForSequenceClassification, XLMRobertaModel, AutoTokenizer, DataCollatorWithPadding, DataCollatorForLanguageModeling, AutoModelForMaskedLM, TrainingArguments, Trainer, BertModel\n",
        "from torch.utils.data import DataLoader, RandomSampler, SequentialSampler\n",
        "from sklearn.preprocessing import OrdinalEncoder, OneHotEncoder\n",
        "from datasets import Dataset, DatasetDict\n",
        "from utils import functions\n",
        "import random\n",
        "import nltk\n",
        "from sentence_transformers import SentenceTransformer, LoggingHandler\n",
        "from sentence_transformers import models, util, datasets, evaluation, losses\n",
        "import re\n",
        "from nltk.corpus import stopwords\n",
        "from gensim.utils import tokenize as tk\n",
        "from gensim.parsing.preprocessing import remove_stopwords, preprocess_string, strip_tags, strip_punctuation, strip_numeric, strip_multiple_whitespaces\n",
        "from gensim.models import Doc2Vec\n",
        "from collections import namedtuple\n",
        "from gensim.models.phrases import Phrases, Phraser\n",
        "from gensim.models.doc2vec import TaggedDocument\n",
        "from sentence_transformers import SentenceTransformer, LoggingHandler\n",
        "from sentence_transformers import models, util, datasets, evaluation, losses\n",
        "from torch.utils.data import DataLoader\n",
        "from sentence_transformers import SentenceTransformer\n",
        "import umap.umap_ as umap\n",
        "from sklearn.decomposition import PCA, TruncatedSVD\n",
        "from pynndescent import NNDescent\n",
        "from sklearn.utils import check_random_state\n",
        "from umap.umap_ import fuzzy_simplicial_set\n"
      ]
    },
    {
      "cell_type": "code",
      "execution_count": 3,
      "metadata": {
        "colab": {
          "base_uri": "https://localhost:8080/",
          "height": 35
        },
        "id": "mDclkfIWZcwv",
        "outputId": "769a0b89-1e46-4b79-c424-cb6022cd4971"
      },
      "outputs": [
        {
          "ename": "AssertionError",
          "evalue": "Torch not compiled with CUDA enabled",
          "output_type": "error",
          "traceback": [
            "\u001b[1;31m---------------------------------------------------------------------------\u001b[0m",
            "\u001b[1;31mAssertionError\u001b[0m                            Traceback (most recent call last)",
            "Cell \u001b[1;32mIn[3], line 3\u001b[0m\n\u001b[0;32m      1\u001b[0m torch\u001b[39m.\u001b[39mcuda\u001b[39m.\u001b[39mempty_cache() \n\u001b[0;32m      2\u001b[0m device \u001b[39m=\u001b[39m torch\u001b[39m.\u001b[39mdevice(\u001b[39m'\u001b[39m\u001b[39mcuda\u001b[39m\u001b[39m'\u001b[39m)\n\u001b[1;32m----> 3\u001b[0m torch\u001b[39m.\u001b[39;49mcuda\u001b[39m.\u001b[39;49mget_device_name(device\u001b[39m=\u001b[39;49m\u001b[39mNone\u001b[39;49;00m)\n",
            "File \u001b[1;32mc:\\Users\\Hung\\anaconda3\\envs\\transformer_scaler\\lib\\site-packages\\torch\\cuda\\__init__.py:365\u001b[0m, in \u001b[0;36mget_device_name\u001b[1;34m(device)\u001b[0m\n\u001b[0;32m    353\u001b[0m \u001b[39mdef\u001b[39;00m \u001b[39mget_device_name\u001b[39m(device: Optional[_device_t] \u001b[39m=\u001b[39m \u001b[39mNone\u001b[39;00m) \u001b[39m-\u001b[39m\u001b[39m>\u001b[39m \u001b[39mstr\u001b[39m:\n\u001b[0;32m    354\u001b[0m     \u001b[39mr\u001b[39m\u001b[39m\"\"\"Gets the name of a device.\u001b[39;00m\n\u001b[0;32m    355\u001b[0m \n\u001b[0;32m    356\u001b[0m \u001b[39m    Args:\u001b[39;00m\n\u001b[1;32m   (...)\u001b[0m\n\u001b[0;32m    363\u001b[0m \u001b[39m        str: the name of the device\u001b[39;00m\n\u001b[0;32m    364\u001b[0m \u001b[39m    \"\"\"\u001b[39;00m\n\u001b[1;32m--> 365\u001b[0m     \u001b[39mreturn\u001b[39;00m get_device_properties(device)\u001b[39m.\u001b[39mname\n",
            "File \u001b[1;32mc:\\Users\\Hung\\anaconda3\\envs\\transformer_scaler\\lib\\site-packages\\torch\\cuda\\__init__.py:395\u001b[0m, in \u001b[0;36mget_device_properties\u001b[1;34m(device)\u001b[0m\n\u001b[0;32m    385\u001b[0m \u001b[39mdef\u001b[39;00m \u001b[39mget_device_properties\u001b[39m(device: _device_t) \u001b[39m-\u001b[39m\u001b[39m>\u001b[39m _CudaDeviceProperties:\n\u001b[0;32m    386\u001b[0m     \u001b[39mr\u001b[39m\u001b[39m\"\"\"Gets the properties of a device.\u001b[39;00m\n\u001b[0;32m    387\u001b[0m \n\u001b[0;32m    388\u001b[0m \u001b[39m    Args:\u001b[39;00m\n\u001b[1;32m   (...)\u001b[0m\n\u001b[0;32m    393\u001b[0m \u001b[39m        _CudaDeviceProperties: the properties of the device\u001b[39;00m\n\u001b[0;32m    394\u001b[0m \u001b[39m    \"\"\"\u001b[39;00m\n\u001b[1;32m--> 395\u001b[0m     _lazy_init()  \u001b[39m# will define _get_device_properties\u001b[39;00m\n\u001b[0;32m    396\u001b[0m     device \u001b[39m=\u001b[39m _get_device_index(device, optional\u001b[39m=\u001b[39m\u001b[39mTrue\u001b[39;00m)\n\u001b[0;32m    397\u001b[0m     \u001b[39mif\u001b[39;00m device \u001b[39m<\u001b[39m \u001b[39m0\u001b[39m \u001b[39mor\u001b[39;00m device \u001b[39m>\u001b[39m\u001b[39m=\u001b[39m device_count():\n",
            "File \u001b[1;32mc:\\Users\\Hung\\anaconda3\\envs\\transformer_scaler\\lib\\site-packages\\torch\\cuda\\__init__.py:239\u001b[0m, in \u001b[0;36m_lazy_init\u001b[1;34m()\u001b[0m\n\u001b[0;32m    235\u001b[0m     \u001b[39mraise\u001b[39;00m \u001b[39mRuntimeError\u001b[39;00m(\n\u001b[0;32m    236\u001b[0m         \u001b[39m\"\u001b[39m\u001b[39mCannot re-initialize CUDA in forked subprocess. To use CUDA with \u001b[39m\u001b[39m\"\u001b[39m\n\u001b[0;32m    237\u001b[0m         \u001b[39m\"\u001b[39m\u001b[39mmultiprocessing, you must use the \u001b[39m\u001b[39m'\u001b[39m\u001b[39mspawn\u001b[39m\u001b[39m'\u001b[39m\u001b[39m start method\u001b[39m\u001b[39m\"\u001b[39m)\n\u001b[0;32m    238\u001b[0m \u001b[39mif\u001b[39;00m \u001b[39mnot\u001b[39;00m \u001b[39mhasattr\u001b[39m(torch\u001b[39m.\u001b[39m_C, \u001b[39m'\u001b[39m\u001b[39m_cuda_getDeviceCount\u001b[39m\u001b[39m'\u001b[39m):\n\u001b[1;32m--> 239\u001b[0m     \u001b[39mraise\u001b[39;00m \u001b[39mAssertionError\u001b[39;00m(\u001b[39m\"\u001b[39m\u001b[39mTorch not compiled with CUDA enabled\u001b[39m\u001b[39m\"\u001b[39m)\n\u001b[0;32m    240\u001b[0m \u001b[39mif\u001b[39;00m _cudart \u001b[39mis\u001b[39;00m \u001b[39mNone\u001b[39;00m:\n\u001b[0;32m    241\u001b[0m     \u001b[39mraise\u001b[39;00m \u001b[39mAssertionError\u001b[39;00m(\n\u001b[0;32m    242\u001b[0m         \u001b[39m\"\u001b[39m\u001b[39mlibcudart functions unavailable. It looks like you have a broken build?\u001b[39m\u001b[39m\"\u001b[39m)\n",
            "\u001b[1;31mAssertionError\u001b[0m: Torch not compiled with CUDA enabled"
          ]
        }
      ],
      "source": [
        "torch.cuda.empty_cache() \n",
        "device = torch.device('cuda')\n",
        "torch.cuda.get_device_name(device=None)\n"
      ]
    },
    {
      "cell_type": "code",
      "execution_count": null,
      "metadata": {
        "colab": {
          "base_uri": "https://localhost:8080/"
        },
        "id": "ULX0gK7mg6d3",
        "outputId": "bdbd3c77-e5c0-46f3-cb41-c78bdbbbd4ab"
      },
      "outputs": [],
      "source": [
        "## Pseudo-randomness for reproducibility\n",
        "seed_val = 1234\n",
        "torch.manual_seed(seed_val)\n",
        "random.seed(seed_val)\n",
        "np.random.seed(seed_val)"
      ]
    },
    {
      "attachments": {},
      "cell_type": "markdown",
      "metadata": {
        "id": "b41aechYXmXT"
      },
      "source": [
        "# Application: Using CMP-annotated data as data for classification and supervised dimensionality reduction"
      ]
    },
    {
      "attachments": {},
      "cell_type": "markdown",
      "metadata": {},
      "source": [
        "### Data preparation"
      ]
    },
    {
      "cell_type": "code",
      "execution_count": null,
      "metadata": {
        "id": "qB4dt7BNuojT"
      },
      "outputs": [],
      "source": [
        "manifesto = pd.read_csv(os.path.join(\"data\", \"r_outputs\",\"pulled_manifestoes.csv\"), encoding=\"utf-8\")"
      ]
    },
    {
      "cell_type": "code",
      "execution_count": null,
      "metadata": {},
      "outputs": [
        {
          "data": {
            "text/html": [
              "<div>\n",
              "<style scoped>\n",
              "    .dataframe tbody tr th:only-of-type {\n",
              "        vertical-align: middle;\n",
              "    }\n",
              "\n",
              "    .dataframe tbody tr th {\n",
              "        vertical-align: top;\n",
              "    }\n",
              "\n",
              "    .dataframe thead th {\n",
              "        text-align: right;\n",
              "    }\n",
              "</style>\n",
              "<table border=\"1\" class=\"dataframe\">\n",
              "  <thead>\n",
              "    <tr style=\"text-align: right;\">\n",
              "      <th></th>\n",
              "      <th>text</th>\n",
              "      <th>election</th>\n",
              "      <th>code</th>\n",
              "      <th>pos</th>\n",
              "      <th>party_code</th>\n",
              "      <th>country_code</th>\n",
              "      <th>party</th>\n",
              "      <th>country</th>\n",
              "      <th>name</th>\n",
              "      <th>name_english</th>\n",
              "    </tr>\n",
              "  </thead>\n",
              "  <tbody>\n",
              "    <tr>\n",
              "      <th>0</th>\n",
              "      <td>La France est plus riche que jamais.</td>\n",
              "      <td>2012</td>\n",
              "      <td>503</td>\n",
              "      <td>3</td>\n",
              "      <td>31021_201206</td>\n",
              "      <td>31</td>\n",
              "      <td>31021</td>\n",
              "      <td>France</td>\n",
              "      <td>Front de Gauche</td>\n",
              "      <td>Left Front</td>\n",
              "    </tr>\n",
              "    <tr>\n",
              "      <th>1</th>\n",
              "      <td>Mais jamais non plus cette richesse n'a été au...</td>\n",
              "      <td>2012</td>\n",
              "      <td>503</td>\n",
              "      <td>4</td>\n",
              "      <td>31021_201206</td>\n",
              "      <td>31</td>\n",
              "      <td>31021</td>\n",
              "      <td>France</td>\n",
              "      <td>Front de Gauche</td>\n",
              "      <td>Left Front</td>\n",
              "    </tr>\n",
              "    <tr>\n",
              "      <th>2</th>\n",
              "      <td>Les réformes libérales qui se sont encore accé...</td>\n",
              "      <td>2012</td>\n",
              "      <td>503</td>\n",
              "      <td>5</td>\n",
              "      <td>31021_201206</td>\n",
              "      <td>31</td>\n",
              "      <td>31021</td>\n",
              "      <td>France</td>\n",
              "      <td>Front de Gauche</td>\n",
              "      <td>Left Front</td>\n",
              "    </tr>\n",
              "    <tr>\n",
              "      <th>3</th>\n",
              "      <td>La pauvreté et la précarité se sont étendues, ...</td>\n",
              "      <td>2012</td>\n",
              "      <td>503</td>\n",
              "      <td>6</td>\n",
              "      <td>31021_201206</td>\n",
              "      <td>31</td>\n",
              "      <td>31021</td>\n",
              "      <td>France</td>\n",
              "      <td>Front de Gauche</td>\n",
              "      <td>Left Front</td>\n",
              "    </tr>\n",
              "    <tr>\n",
              "      <th>4</th>\n",
              "      <td>L'égoïsme social des possédants viole l'intérê...</td>\n",
              "      <td>2012</td>\n",
              "      <td>503</td>\n",
              "      <td>7</td>\n",
              "      <td>31021_201206</td>\n",
              "      <td>31</td>\n",
              "      <td>31021</td>\n",
              "      <td>France</td>\n",
              "      <td>Front de Gauche</td>\n",
              "      <td>Left Front</td>\n",
              "    </tr>\n",
              "  </tbody>\n",
              "</table>\n",
              "</div>"
            ],
            "text/plain": [
              "                                                text  election code  pos  \\\n",
              "0               La France est plus riche que jamais.      2012  503    3   \n",
              "1  Mais jamais non plus cette richesse n'a été au...      2012  503    4   \n",
              "2  Les réformes libérales qui se sont encore accé...      2012  503    5   \n",
              "3  La pauvreté et la précarité se sont étendues, ...      2012  503    6   \n",
              "4  L'égoïsme social des possédants viole l'intérê...      2012  503    7   \n",
              "\n",
              "     party_code  country_code  party country             name name_english  \n",
              "0  31021_201206            31  31021  France  Front de Gauche   Left Front  \n",
              "1  31021_201206            31  31021  France  Front de Gauche   Left Front  \n",
              "2  31021_201206            31  31021  France  Front de Gauche   Left Front  \n",
              "3  31021_201206            31  31021  France  Front de Gauche   Left Front  \n",
              "4  31021_201206            31  31021  France  Front de Gauche   Left Front  "
            ]
          },
          "execution_count": 6,
          "metadata": {},
          "output_type": "execute_result"
        }
      ],
      "source": [
        "manifesto.head()"
      ]
    },
    {
      "cell_type": "code",
      "execution_count": null,
      "metadata": {},
      "outputs": [
        {
          "data": {
            "text/plain": [
              "{'000',\n",
              " '101',\n",
              " '102',\n",
              " '103',\n",
              " '103.1',\n",
              " '103.2',\n",
              " '104',\n",
              " '105',\n",
              " '106',\n",
              " '107',\n",
              " '108',\n",
              " '109',\n",
              " '110',\n",
              " '201',\n",
              " '201.1',\n",
              " '201.2',\n",
              " '202',\n",
              " '202.1',\n",
              " '202.2',\n",
              " '202.3',\n",
              " '202.4',\n",
              " '203',\n",
              " '204',\n",
              " '301',\n",
              " '302',\n",
              " '303',\n",
              " '304',\n",
              " '305',\n",
              " '305.1',\n",
              " '305.2',\n",
              " '305.3',\n",
              " '305.5',\n",
              " '305.6',\n",
              " '401',\n",
              " '402',\n",
              " '403',\n",
              " '404',\n",
              " '405',\n",
              " '406',\n",
              " '407',\n",
              " '408',\n",
              " '409',\n",
              " '410',\n",
              " '411',\n",
              " '412',\n",
              " '413',\n",
              " '414',\n",
              " '415',\n",
              " '416',\n",
              " '416.1',\n",
              " '416.2',\n",
              " '501',\n",
              " '502',\n",
              " '503',\n",
              " '504',\n",
              " '505',\n",
              " '506',\n",
              " '507',\n",
              " '601',\n",
              " '601.1',\n",
              " '601.2',\n",
              " '602',\n",
              " '602.1',\n",
              " '602.2',\n",
              " '603',\n",
              " '604',\n",
              " '605',\n",
              " '605.1',\n",
              " '605.2',\n",
              " '606',\n",
              " '606.1',\n",
              " '606.2',\n",
              " '607',\n",
              " '607.1',\n",
              " '607.2',\n",
              " '607.3',\n",
              " '608',\n",
              " '608.1',\n",
              " '608.2',\n",
              " '701',\n",
              " '702',\n",
              " '703',\n",
              " '703.1',\n",
              " '703.2',\n",
              " '704',\n",
              " '705',\n",
              " '706',\n",
              " 'H'}"
            ]
          },
          "execution_count": 7,
          "metadata": {},
          "output_type": "execute_result"
        }
      ],
      "source": [
        "set(manifesto.code)"
      ]
    },
    {
      "cell_type": "code",
      "execution_count": null,
      "metadata": {},
      "outputs": [],
      "source": [
        "manifesto = manifesto[(manifesto.code.notna()) & ~(manifesto.code.isin(['000','H']))].reset_index(drop=True)"
      ]
    },
    {
      "cell_type": "code",
      "execution_count": null,
      "metadata": {
        "colab": {
          "base_uri": "https://localhost:8080/"
        },
        "id": "BvaoD683XmXc",
        "outputId": "c1d5ae1c-72ba-4193-da97-0f4cb8304318"
      },
      "outputs": [
        {
          "data": {
            "text/html": [
              "<div>\n",
              "<style scoped>\n",
              "    .dataframe tbody tr th:only-of-type {\n",
              "        vertical-align: middle;\n",
              "    }\n",
              "\n",
              "    .dataframe tbody tr th {\n",
              "        vertical-align: top;\n",
              "    }\n",
              "\n",
              "    .dataframe thead th {\n",
              "        text-align: right;\n",
              "    }\n",
              "</style>\n",
              "<table border=\"1\" class=\"dataframe\">\n",
              "  <thead>\n",
              "    <tr style=\"text-align: right;\">\n",
              "      <th></th>\n",
              "      <th>text</th>\n",
              "      <th>election</th>\n",
              "      <th>code</th>\n",
              "      <th>pos</th>\n",
              "      <th>party_code</th>\n",
              "      <th>country_code</th>\n",
              "      <th>party</th>\n",
              "      <th>country</th>\n",
              "      <th>name</th>\n",
              "      <th>name_english</th>\n",
              "    </tr>\n",
              "  </thead>\n",
              "  <tbody>\n",
              "    <tr>\n",
              "      <th>0</th>\n",
              "      <td>La France est plus riche que jamais.</td>\n",
              "      <td>2012</td>\n",
              "      <td>503</td>\n",
              "      <td>3</td>\n",
              "      <td>31021_201206</td>\n",
              "      <td>31</td>\n",
              "      <td>31021</td>\n",
              "      <td>France</td>\n",
              "      <td>Front de Gauche</td>\n",
              "      <td>Left Front</td>\n",
              "    </tr>\n",
              "    <tr>\n",
              "      <th>1</th>\n",
              "      <td>Mais jamais non plus cette richesse n'a été au...</td>\n",
              "      <td>2012</td>\n",
              "      <td>503</td>\n",
              "      <td>4</td>\n",
              "      <td>31021_201206</td>\n",
              "      <td>31</td>\n",
              "      <td>31021</td>\n",
              "      <td>France</td>\n",
              "      <td>Front de Gauche</td>\n",
              "      <td>Left Front</td>\n",
              "    </tr>\n",
              "    <tr>\n",
              "      <th>2</th>\n",
              "      <td>Les réformes libérales qui se sont encore accé...</td>\n",
              "      <td>2012</td>\n",
              "      <td>503</td>\n",
              "      <td>5</td>\n",
              "      <td>31021_201206</td>\n",
              "      <td>31</td>\n",
              "      <td>31021</td>\n",
              "      <td>France</td>\n",
              "      <td>Front de Gauche</td>\n",
              "      <td>Left Front</td>\n",
              "    </tr>\n",
              "    <tr>\n",
              "      <th>3</th>\n",
              "      <td>La pauvreté et la précarité se sont étendues, ...</td>\n",
              "      <td>2012</td>\n",
              "      <td>503</td>\n",
              "      <td>6</td>\n",
              "      <td>31021_201206</td>\n",
              "      <td>31</td>\n",
              "      <td>31021</td>\n",
              "      <td>France</td>\n",
              "      <td>Front de Gauche</td>\n",
              "      <td>Left Front</td>\n",
              "    </tr>\n",
              "    <tr>\n",
              "      <th>4</th>\n",
              "      <td>L'égoïsme social des possédants viole l'intérê...</td>\n",
              "      <td>2012</td>\n",
              "      <td>503</td>\n",
              "      <td>7</td>\n",
              "      <td>31021_201206</td>\n",
              "      <td>31</td>\n",
              "      <td>31021</td>\n",
              "      <td>France</td>\n",
              "      <td>Front de Gauche</td>\n",
              "      <td>Left Front</td>\n",
              "    </tr>\n",
              "  </tbody>\n",
              "</table>\n",
              "</div>"
            ],
            "text/plain": [
              "                                                text  election code  pos  \\\n",
              "0               La France est plus riche que jamais.      2012  503    3   \n",
              "1  Mais jamais non plus cette richesse n'a été au...      2012  503    4   \n",
              "2  Les réformes libérales qui se sont encore accé...      2012  503    5   \n",
              "3  La pauvreté et la précarité se sont étendues, ...      2012  503    6   \n",
              "4  L'égoïsme social des possédants viole l'intérê...      2012  503    7   \n",
              "\n",
              "     party_code  country_code  party country             name name_english  \n",
              "0  31021_201206            31  31021  France  Front de Gauche   Left Front  \n",
              "1  31021_201206            31  31021  France  Front de Gauche   Left Front  \n",
              "2  31021_201206            31  31021  France  Front de Gauche   Left Front  \n",
              "3  31021_201206            31  31021  France  Front de Gauche   Left Front  \n",
              "4  31021_201206            31  31021  France  Front de Gauche   Left Front  "
            ]
          },
          "execution_count": 9,
          "metadata": {},
          "output_type": "execute_result"
        }
      ],
      "source": [
        "manifesto.head()"
      ]
    },
    {
      "cell_type": "code",
      "execution_count": null,
      "metadata": {},
      "outputs": [],
      "source": [
        "def extract_code(code):\n",
        "    if len(code.split('.')) > 1:\n",
        "        return(int(code.split('.')[0]))\n",
        "    else:\n",
        "        return int(code)\n",
        "manifesto['code_extract'] = manifesto['code'].apply(extract_code)"
      ]
    },
    {
      "cell_type": "code",
      "execution_count": null,
      "metadata": {},
      "outputs": [
        {
          "data": {
            "text/plain": [
              "56"
            ]
          },
          "execution_count": 11,
          "metadata": {},
          "output_type": "execute_result"
        }
      ],
      "source": [
        "len(set(manifesto.code_extract))"
      ]
    },
    {
      "cell_type": "code",
      "execution_count": null,
      "metadata": {},
      "outputs": [],
      "source": [
        "def sentiment_code(code):\n",
        "    if code in [104,201,203,305,401,402,407,414,505,601,603,605,606,410]:                                       ## social - liberal                                                  \n",
        "        return('right')\n",
        "    elif code in [103,105,106,107,202,403,404,406,412,413,504,506,701,501,416]:                                             ## social - liberal                                 \n",
        "        return('left')\n",
        "    else:\n",
        "        return('neutral')\n",
        "\n",
        "    "
      ]
    },
    {
      "cell_type": "code",
      "execution_count": null,
      "metadata": {},
      "outputs": [],
      "source": [
        "manifesto['sentiment'] = manifesto['code_extract'].apply(sentiment_code)"
      ]
    },
    {
      "cell_type": "code",
      "execution_count": null,
      "metadata": {},
      "outputs": [
        {
          "data": {
            "text/html": [
              "<div>\n",
              "<style scoped>\n",
              "    .dataframe tbody tr th:only-of-type {\n",
              "        vertical-align: middle;\n",
              "    }\n",
              "\n",
              "    .dataframe tbody tr th {\n",
              "        vertical-align: top;\n",
              "    }\n",
              "\n",
              "    .dataframe thead th {\n",
              "        text-align: right;\n",
              "    }\n",
              "</style>\n",
              "<table border=\"1\" class=\"dataframe\">\n",
              "  <thead>\n",
              "    <tr style=\"text-align: right;\">\n",
              "      <th></th>\n",
              "      <th>text</th>\n",
              "      <th>election</th>\n",
              "      <th>code</th>\n",
              "      <th>pos</th>\n",
              "      <th>party_code</th>\n",
              "      <th>country_code</th>\n",
              "      <th>party</th>\n",
              "      <th>country</th>\n",
              "      <th>name</th>\n",
              "      <th>name_english</th>\n",
              "      <th>code_extract</th>\n",
              "    </tr>\n",
              "    <tr>\n",
              "      <th>sentiment</th>\n",
              "      <th></th>\n",
              "      <th></th>\n",
              "      <th></th>\n",
              "      <th></th>\n",
              "      <th></th>\n",
              "      <th></th>\n",
              "      <th></th>\n",
              "      <th></th>\n",
              "      <th></th>\n",
              "      <th></th>\n",
              "      <th></th>\n",
              "    </tr>\n",
              "  </thead>\n",
              "  <tbody>\n",
              "    <tr>\n",
              "      <th>left</th>\n",
              "      <td>116160</td>\n",
              "      <td>116160</td>\n",
              "      <td>116160</td>\n",
              "      <td>116160</td>\n",
              "      <td>116160</td>\n",
              "      <td>116160</td>\n",
              "      <td>116160</td>\n",
              "      <td>116160</td>\n",
              "      <td>116160</td>\n",
              "      <td>116160</td>\n",
              "      <td>116160</td>\n",
              "    </tr>\n",
              "    <tr>\n",
              "      <th>neutral</th>\n",
              "      <td>117309</td>\n",
              "      <td>117309</td>\n",
              "      <td>117309</td>\n",
              "      <td>117309</td>\n",
              "      <td>117309</td>\n",
              "      <td>117309</td>\n",
              "      <td>117309</td>\n",
              "      <td>117309</td>\n",
              "      <td>117309</td>\n",
              "      <td>117309</td>\n",
              "      <td>117309</td>\n",
              "    </tr>\n",
              "    <tr>\n",
              "      <th>right</th>\n",
              "      <td>54695</td>\n",
              "      <td>54695</td>\n",
              "      <td>54695</td>\n",
              "      <td>54695</td>\n",
              "      <td>54695</td>\n",
              "      <td>54695</td>\n",
              "      <td>54695</td>\n",
              "      <td>54695</td>\n",
              "      <td>54695</td>\n",
              "      <td>54695</td>\n",
              "      <td>54695</td>\n",
              "    </tr>\n",
              "  </tbody>\n",
              "</table>\n",
              "</div>"
            ],
            "text/plain": [
              "             text  election    code     pos  party_code  country_code   party  \\\n",
              "sentiment                                                                       \n",
              "left       116160    116160  116160  116160      116160        116160  116160   \n",
              "neutral    117309    117309  117309  117309      117309        117309  117309   \n",
              "right       54695     54695   54695   54695       54695         54695   54695   \n",
              "\n",
              "           country    name  name_english  code_extract  \n",
              "sentiment                                               \n",
              "left        116160  116160        116160        116160  \n",
              "neutral     117309  117309        117309        117309  \n",
              "right        54695   54695         54695         54695  "
            ]
          },
          "execution_count": 14,
          "metadata": {},
          "output_type": "execute_result"
        }
      ],
      "source": [
        "manifesto.groupby('sentiment').count()"
      ]
    },
    {
      "cell_type": "code",
      "execution_count": null,
      "metadata": {},
      "outputs": [
        {
          "data": {
            "text/html": [
              "<div>\n",
              "<style scoped>\n",
              "    .dataframe tbody tr th:only-of-type {\n",
              "        vertical-align: middle;\n",
              "    }\n",
              "\n",
              "    .dataframe tbody tr th {\n",
              "        vertical-align: top;\n",
              "    }\n",
              "\n",
              "    .dataframe thead th {\n",
              "        text-align: right;\n",
              "    }\n",
              "</style>\n",
              "<table border=\"1\" class=\"dataframe\">\n",
              "  <thead>\n",
              "    <tr style=\"text-align: right;\">\n",
              "      <th></th>\n",
              "      <th></th>\n",
              "      <th>text</th>\n",
              "      <th>code</th>\n",
              "      <th>pos</th>\n",
              "      <th>party_code</th>\n",
              "      <th>country_code</th>\n",
              "      <th>party</th>\n",
              "      <th>name</th>\n",
              "      <th>name_english</th>\n",
              "      <th>code_extract</th>\n",
              "      <th>sentiment</th>\n",
              "    </tr>\n",
              "    <tr>\n",
              "      <th>country</th>\n",
              "      <th>election</th>\n",
              "      <th></th>\n",
              "      <th></th>\n",
              "      <th></th>\n",
              "      <th></th>\n",
              "      <th></th>\n",
              "      <th></th>\n",
              "      <th></th>\n",
              "      <th></th>\n",
              "      <th></th>\n",
              "      <th></th>\n",
              "    </tr>\n",
              "  </thead>\n",
              "  <tbody>\n",
              "    <tr>\n",
              "      <th rowspan=\"2\" valign=\"top\">France</th>\n",
              "      <th>2012</th>\n",
              "      <td>4809</td>\n",
              "      <td>4809</td>\n",
              "      <td>4809</td>\n",
              "      <td>4809</td>\n",
              "      <td>4809</td>\n",
              "      <td>4809</td>\n",
              "      <td>4809</td>\n",
              "      <td>4809</td>\n",
              "      <td>4809</td>\n",
              "      <td>4809</td>\n",
              "    </tr>\n",
              "    <tr>\n",
              "      <th>2017</th>\n",
              "      <td>3460</td>\n",
              "      <td>3460</td>\n",
              "      <td>3460</td>\n",
              "      <td>3460</td>\n",
              "      <td>3460</td>\n",
              "      <td>3460</td>\n",
              "      <td>3460</td>\n",
              "      <td>3460</td>\n",
              "      <td>3460</td>\n",
              "      <td>3460</td>\n",
              "    </tr>\n",
              "    <tr>\n",
              "      <th rowspan=\"7\" valign=\"top\">Germany</th>\n",
              "      <th>1998</th>\n",
              "      <td>6046</td>\n",
              "      <td>6046</td>\n",
              "      <td>6046</td>\n",
              "      <td>6046</td>\n",
              "      <td>6046</td>\n",
              "      <td>6046</td>\n",
              "      <td>6046</td>\n",
              "      <td>6046</td>\n",
              "      <td>6046</td>\n",
              "      <td>6046</td>\n",
              "    </tr>\n",
              "    <tr>\n",
              "      <th>2002</th>\n",
              "      <td>7339</td>\n",
              "      <td>7339</td>\n",
              "      <td>7339</td>\n",
              "      <td>7339</td>\n",
              "      <td>7339</td>\n",
              "      <td>7339</td>\n",
              "      <td>7339</td>\n",
              "      <td>7339</td>\n",
              "      <td>7339</td>\n",
              "      <td>7339</td>\n",
              "    </tr>\n",
              "    <tr>\n",
              "      <th>2005</th>\n",
              "      <td>5479</td>\n",
              "      <td>5479</td>\n",
              "      <td>5479</td>\n",
              "      <td>5479</td>\n",
              "      <td>5479</td>\n",
              "      <td>5479</td>\n",
              "      <td>5479</td>\n",
              "      <td>5479</td>\n",
              "      <td>5479</td>\n",
              "      <td>5479</td>\n",
              "    </tr>\n",
              "    <tr>\n",
              "      <th>2009</th>\n",
              "      <td>11624</td>\n",
              "      <td>11624</td>\n",
              "      <td>11624</td>\n",
              "      <td>11624</td>\n",
              "      <td>11624</td>\n",
              "      <td>11624</td>\n",
              "      <td>11624</td>\n",
              "      <td>11624</td>\n",
              "      <td>11624</td>\n",
              "      <td>11624</td>\n",
              "    </tr>\n",
              "    <tr>\n",
              "      <th>2013</th>\n",
              "      <td>17629</td>\n",
              "      <td>17629</td>\n",
              "      <td>17629</td>\n",
              "      <td>17629</td>\n",
              "      <td>17629</td>\n",
              "      <td>17629</td>\n",
              "      <td>17629</td>\n",
              "      <td>17629</td>\n",
              "      <td>17629</td>\n",
              "      <td>17629</td>\n",
              "    </tr>\n",
              "    <tr>\n",
              "      <th>2017</th>\n",
              "      <td>14779</td>\n",
              "      <td>14779</td>\n",
              "      <td>14779</td>\n",
              "      <td>14779</td>\n",
              "      <td>14779</td>\n",
              "      <td>14779</td>\n",
              "      <td>14779</td>\n",
              "      <td>14779</td>\n",
              "      <td>14779</td>\n",
              "      <td>14779</td>\n",
              "    </tr>\n",
              "    <tr>\n",
              "      <th>2021</th>\n",
              "      <td>18407</td>\n",
              "      <td>18407</td>\n",
              "      <td>18407</td>\n",
              "      <td>18407</td>\n",
              "      <td>18407</td>\n",
              "      <td>18407</td>\n",
              "      <td>18407</td>\n",
              "      <td>18407</td>\n",
              "      <td>18407</td>\n",
              "      <td>18407</td>\n",
              "    </tr>\n",
              "    <tr>\n",
              "      <th rowspan=\"4\" valign=\"top\">Italy</th>\n",
              "      <th>2001</th>\n",
              "      <td>3829</td>\n",
              "      <td>3829</td>\n",
              "      <td>3829</td>\n",
              "      <td>3829</td>\n",
              "      <td>3829</td>\n",
              "      <td>3829</td>\n",
              "      <td>3829</td>\n",
              "      <td>3829</td>\n",
              "      <td>3829</td>\n",
              "      <td>3829</td>\n",
              "    </tr>\n",
              "    <tr>\n",
              "      <th>2008</th>\n",
              "      <td>718</td>\n",
              "      <td>718</td>\n",
              "      <td>718</td>\n",
              "      <td>718</td>\n",
              "      <td>718</td>\n",
              "      <td>718</td>\n",
              "      <td>718</td>\n",
              "      <td>718</td>\n",
              "      <td>718</td>\n",
              "      <td>718</td>\n",
              "    </tr>\n",
              "    <tr>\n",
              "      <th>2013</th>\n",
              "      <td>4301</td>\n",
              "      <td>4301</td>\n",
              "      <td>4301</td>\n",
              "      <td>4301</td>\n",
              "      <td>4301</td>\n",
              "      <td>4301</td>\n",
              "      <td>4301</td>\n",
              "      <td>4301</td>\n",
              "      <td>4301</td>\n",
              "      <td>4301</td>\n",
              "    </tr>\n",
              "    <tr>\n",
              "      <th>2018</th>\n",
              "      <td>10881</td>\n",
              "      <td>10881</td>\n",
              "      <td>10881</td>\n",
              "      <td>10881</td>\n",
              "      <td>10881</td>\n",
              "      <td>10881</td>\n",
              "      <td>10881</td>\n",
              "      <td>10881</td>\n",
              "      <td>10881</td>\n",
              "      <td>10881</td>\n",
              "    </tr>\n",
              "    <tr>\n",
              "      <th rowspan=\"8\" valign=\"top\">Spain</th>\n",
              "      <th>1996</th>\n",
              "      <td>4378</td>\n",
              "      <td>4378</td>\n",
              "      <td>4378</td>\n",
              "      <td>4378</td>\n",
              "      <td>4378</td>\n",
              "      <td>4378</td>\n",
              "      <td>4378</td>\n",
              "      <td>4378</td>\n",
              "      <td>4378</td>\n",
              "      <td>4378</td>\n",
              "    </tr>\n",
              "    <tr>\n",
              "      <th>2000</th>\n",
              "      <td>16794</td>\n",
              "      <td>16794</td>\n",
              "      <td>16794</td>\n",
              "      <td>16794</td>\n",
              "      <td>16794</td>\n",
              "      <td>16794</td>\n",
              "      <td>16794</td>\n",
              "      <td>16794</td>\n",
              "      <td>16794</td>\n",
              "      <td>16794</td>\n",
              "    </tr>\n",
              "    <tr>\n",
              "      <th>2004</th>\n",
              "      <td>6725</td>\n",
              "      <td>6725</td>\n",
              "      <td>6725</td>\n",
              "      <td>6725</td>\n",
              "      <td>6725</td>\n",
              "      <td>6725</td>\n",
              "      <td>6725</td>\n",
              "      <td>6725</td>\n",
              "      <td>6725</td>\n",
              "      <td>6725</td>\n",
              "    </tr>\n",
              "    <tr>\n",
              "      <th>2008</th>\n",
              "      <td>17803</td>\n",
              "      <td>17803</td>\n",
              "      <td>17803</td>\n",
              "      <td>17803</td>\n",
              "      <td>17803</td>\n",
              "      <td>17803</td>\n",
              "      <td>17803</td>\n",
              "      <td>17803</td>\n",
              "      <td>17803</td>\n",
              "      <td>17803</td>\n",
              "    </tr>\n",
              "    <tr>\n",
              "      <th>2011</th>\n",
              "      <td>14910</td>\n",
              "      <td>14910</td>\n",
              "      <td>14910</td>\n",
              "      <td>14910</td>\n",
              "      <td>14910</td>\n",
              "      <td>14910</td>\n",
              "      <td>14910</td>\n",
              "      <td>14910</td>\n",
              "      <td>14910</td>\n",
              "      <td>14910</td>\n",
              "    </tr>\n",
              "    <tr>\n",
              "      <th>2015</th>\n",
              "      <td>23545</td>\n",
              "      <td>23545</td>\n",
              "      <td>23545</td>\n",
              "      <td>23545</td>\n",
              "      <td>23545</td>\n",
              "      <td>23545</td>\n",
              "      <td>23545</td>\n",
              "      <td>23545</td>\n",
              "      <td>23545</td>\n",
              "      <td>23545</td>\n",
              "    </tr>\n",
              "    <tr>\n",
              "      <th>2016</th>\n",
              "      <td>18511</td>\n",
              "      <td>18511</td>\n",
              "      <td>18511</td>\n",
              "      <td>18511</td>\n",
              "      <td>18511</td>\n",
              "      <td>18511</td>\n",
              "      <td>18511</td>\n",
              "      <td>18511</td>\n",
              "      <td>18511</td>\n",
              "      <td>18511</td>\n",
              "    </tr>\n",
              "    <tr>\n",
              "      <th>2019</th>\n",
              "      <td>29881</td>\n",
              "      <td>29881</td>\n",
              "      <td>29881</td>\n",
              "      <td>29881</td>\n",
              "      <td>29881</td>\n",
              "      <td>29881</td>\n",
              "      <td>29881</td>\n",
              "      <td>29881</td>\n",
              "      <td>29881</td>\n",
              "      <td>29881</td>\n",
              "    </tr>\n",
              "    <tr>\n",
              "      <th rowspan=\"5\" valign=\"top\">United Kingdom</th>\n",
              "      <th>1997</th>\n",
              "      <td>1451</td>\n",
              "      <td>1451</td>\n",
              "      <td>1451</td>\n",
              "      <td>1451</td>\n",
              "      <td>1451</td>\n",
              "      <td>1451</td>\n",
              "      <td>1451</td>\n",
              "      <td>1451</td>\n",
              "      <td>1451</td>\n",
              "      <td>1451</td>\n",
              "    </tr>\n",
              "    <tr>\n",
              "      <th>2001</th>\n",
              "      <td>2195</td>\n",
              "      <td>2195</td>\n",
              "      <td>2195</td>\n",
              "      <td>2195</td>\n",
              "      <td>2195</td>\n",
              "      <td>2195</td>\n",
              "      <td>2195</td>\n",
              "      <td>2195</td>\n",
              "      <td>2195</td>\n",
              "      <td>2195</td>\n",
              "    </tr>\n",
              "    <tr>\n",
              "      <th>2015</th>\n",
              "      <td>11033</td>\n",
              "      <td>11033</td>\n",
              "      <td>11033</td>\n",
              "      <td>11033</td>\n",
              "      <td>11033</td>\n",
              "      <td>11033</td>\n",
              "      <td>11033</td>\n",
              "      <td>11033</td>\n",
              "      <td>11033</td>\n",
              "      <td>11033</td>\n",
              "    </tr>\n",
              "    <tr>\n",
              "      <th>2017</th>\n",
              "      <td>6988</td>\n",
              "      <td>6988</td>\n",
              "      <td>6988</td>\n",
              "      <td>6988</td>\n",
              "      <td>6988</td>\n",
              "      <td>6988</td>\n",
              "      <td>6988</td>\n",
              "      <td>6988</td>\n",
              "      <td>6988</td>\n",
              "      <td>6988</td>\n",
              "    </tr>\n",
              "    <tr>\n",
              "      <th>2019</th>\n",
              "      <td>9269</td>\n",
              "      <td>9269</td>\n",
              "      <td>9269</td>\n",
              "      <td>9269</td>\n",
              "      <td>9269</td>\n",
              "      <td>9269</td>\n",
              "      <td>9269</td>\n",
              "      <td>9269</td>\n",
              "      <td>9269</td>\n",
              "      <td>9269</td>\n",
              "    </tr>\n",
              "    <tr>\n",
              "      <th rowspan=\"6\" valign=\"top\">United States</th>\n",
              "      <th>1992</th>\n",
              "      <td>383</td>\n",
              "      <td>383</td>\n",
              "      <td>383</td>\n",
              "      <td>383</td>\n",
              "      <td>383</td>\n",
              "      <td>383</td>\n",
              "      <td>383</td>\n",
              "      <td>383</td>\n",
              "      <td>383</td>\n",
              "      <td>383</td>\n",
              "    </tr>\n",
              "    <tr>\n",
              "      <th>2004</th>\n",
              "      <td>2644</td>\n",
              "      <td>2644</td>\n",
              "      <td>2644</td>\n",
              "      <td>2644</td>\n",
              "      <td>2644</td>\n",
              "      <td>2644</td>\n",
              "      <td>2644</td>\n",
              "      <td>2644</td>\n",
              "      <td>2644</td>\n",
              "      <td>2644</td>\n",
              "    </tr>\n",
              "    <tr>\n",
              "      <th>2008</th>\n",
              "      <td>1002</td>\n",
              "      <td>1002</td>\n",
              "      <td>1002</td>\n",
              "      <td>1002</td>\n",
              "      <td>1002</td>\n",
              "      <td>1002</td>\n",
              "      <td>1002</td>\n",
              "      <td>1002</td>\n",
              "      <td>1002</td>\n",
              "      <td>1002</td>\n",
              "    </tr>\n",
              "    <tr>\n",
              "      <th>2012</th>\n",
              "      <td>2893</td>\n",
              "      <td>2893</td>\n",
              "      <td>2893</td>\n",
              "      <td>2893</td>\n",
              "      <td>2893</td>\n",
              "      <td>2893</td>\n",
              "      <td>2893</td>\n",
              "      <td>2893</td>\n",
              "      <td>2893</td>\n",
              "      <td>2893</td>\n",
              "    </tr>\n",
              "    <tr>\n",
              "      <th>2016</th>\n",
              "      <td>3679</td>\n",
              "      <td>3679</td>\n",
              "      <td>3679</td>\n",
              "      <td>3679</td>\n",
              "      <td>3679</td>\n",
              "      <td>3679</td>\n",
              "      <td>3679</td>\n",
              "      <td>3679</td>\n",
              "      <td>3679</td>\n",
              "      <td>3679</td>\n",
              "    </tr>\n",
              "    <tr>\n",
              "      <th>2020</th>\n",
              "      <td>4779</td>\n",
              "      <td>4779</td>\n",
              "      <td>4779</td>\n",
              "      <td>4779</td>\n",
              "      <td>4779</td>\n",
              "      <td>4779</td>\n",
              "      <td>4779</td>\n",
              "      <td>4779</td>\n",
              "      <td>4779</td>\n",
              "      <td>4779</td>\n",
              "    </tr>\n",
              "  </tbody>\n",
              "</table>\n",
              "</div>"
            ],
            "text/plain": [
              "                          text   code    pos  party_code  country_code  party  \\\n",
              "country        election                                                         \n",
              "France         2012       4809   4809   4809        4809          4809   4809   \n",
              "               2017       3460   3460   3460        3460          3460   3460   \n",
              "Germany        1998       6046   6046   6046        6046          6046   6046   \n",
              "               2002       7339   7339   7339        7339          7339   7339   \n",
              "               2005       5479   5479   5479        5479          5479   5479   \n",
              "               2009      11624  11624  11624       11624         11624  11624   \n",
              "               2013      17629  17629  17629       17629         17629  17629   \n",
              "               2017      14779  14779  14779       14779         14779  14779   \n",
              "               2021      18407  18407  18407       18407         18407  18407   \n",
              "Italy          2001       3829   3829   3829        3829          3829   3829   \n",
              "               2008        718    718    718         718           718    718   \n",
              "               2013       4301   4301   4301        4301          4301   4301   \n",
              "               2018      10881  10881  10881       10881         10881  10881   \n",
              "Spain          1996       4378   4378   4378        4378          4378   4378   \n",
              "               2000      16794  16794  16794       16794         16794  16794   \n",
              "               2004       6725   6725   6725        6725          6725   6725   \n",
              "               2008      17803  17803  17803       17803         17803  17803   \n",
              "               2011      14910  14910  14910       14910         14910  14910   \n",
              "               2015      23545  23545  23545       23545         23545  23545   \n",
              "               2016      18511  18511  18511       18511         18511  18511   \n",
              "               2019      29881  29881  29881       29881         29881  29881   \n",
              "United Kingdom 1997       1451   1451   1451        1451          1451   1451   \n",
              "               2001       2195   2195   2195        2195          2195   2195   \n",
              "               2015      11033  11033  11033       11033         11033  11033   \n",
              "               2017       6988   6988   6988        6988          6988   6988   \n",
              "               2019       9269   9269   9269        9269          9269   9269   \n",
              "United States  1992        383    383    383         383           383    383   \n",
              "               2004       2644   2644   2644        2644          2644   2644   \n",
              "               2008       1002   1002   1002        1002          1002   1002   \n",
              "               2012       2893   2893   2893        2893          2893   2893   \n",
              "               2016       3679   3679   3679        3679          3679   3679   \n",
              "               2020       4779   4779   4779        4779          4779   4779   \n",
              "\n",
              "                          name  name_english  code_extract  sentiment  \n",
              "country        election                                                \n",
              "France         2012       4809          4809          4809       4809  \n",
              "               2017       3460          3460          3460       3460  \n",
              "Germany        1998       6046          6046          6046       6046  \n",
              "               2002       7339          7339          7339       7339  \n",
              "               2005       5479          5479          5479       5479  \n",
              "               2009      11624         11624         11624      11624  \n",
              "               2013      17629         17629         17629      17629  \n",
              "               2017      14779         14779         14779      14779  \n",
              "               2021      18407         18407         18407      18407  \n",
              "Italy          2001       3829          3829          3829       3829  \n",
              "               2008        718           718           718        718  \n",
              "               2013       4301          4301          4301       4301  \n",
              "               2018      10881         10881         10881      10881  \n",
              "Spain          1996       4378          4378          4378       4378  \n",
              "               2000      16794         16794         16794      16794  \n",
              "               2004       6725          6725          6725       6725  \n",
              "               2008      17803         17803         17803      17803  \n",
              "               2011      14910         14910         14910      14910  \n",
              "               2015      23545         23545         23545      23545  \n",
              "               2016      18511         18511         18511      18511  \n",
              "               2019      29881         29881         29881      29881  \n",
              "United Kingdom 1997       1451          1451          1451       1451  \n",
              "               2001       2195          2195          2195       2195  \n",
              "               2015      11033         11033         11033      11033  \n",
              "               2017       6988          6988          6988       6988  \n",
              "               2019       9269          9269          9269       9269  \n",
              "United States  1992        383           383           383        383  \n",
              "               2004       2644          2644          2644       2644  \n",
              "               2008       1002          1002          1002       1002  \n",
              "               2012       2893          2893          2893       2893  \n",
              "               2016       3679          3679          3679       3679  \n",
              "               2020       4779          4779          4779       4779  "
            ]
          },
          "execution_count": 15,
          "metadata": {},
          "output_type": "execute_result"
        }
      ],
      "source": [
        "manifesto.groupby(['country','election']).count()"
      ]
    },
    {
      "cell_type": "code",
      "execution_count": null,
      "metadata": {},
      "outputs": [],
      "source": [
        "texts = manifesto['text'].tolist()"
      ]
    },
    {
      "cell_type": "code",
      "execution_count": null,
      "metadata": {},
      "outputs": [
        {
          "name": "stdout",
          "output_type": "stream",
          "text": [
            "Mean length (word) is: 20.442796463125166\n",
            "Std length (word) is: 12.823326822581686\n",
            "Min length (word) is: 1\n",
            "Max length (word) is: 160\n"
          ]
        }
      ],
      "source": [
        "from statistics import stdev, mean\n",
        "## Before\n",
        "seq_len = [len(i.split()) for i in texts]\n",
        "seq_len_mean = mean(seq_len)\n",
        "seq_len_std = stdev(seq_len)\n",
        "seq_len_max = max(seq_len)\n",
        "seq_len_min = min(seq_len)\n",
        "print('Mean length (word) is: {}'.format(seq_len_mean))\n",
        "print('Std length (word) is: {}'.format(seq_len_std))\n",
        "print('Min length (word) is: {}'.format(seq_len_min))\n",
        "print('Max length (word) is: {}'.format(seq_len_max))"
      ]
    },
    {
      "cell_type": "code",
      "execution_count": null,
      "metadata": {},
      "outputs": [
        {
          "data": {
            "text/plain": [
              "<AxesSubplot: >"
            ]
          },
          "execution_count": 18,
          "metadata": {},
          "output_type": "execute_result"
        },
        {
          "data": {
            "image/png": "[encoded data removed]",
            "text/plain": [
              "<Figure size 640x480 with 1 Axes>"
            ]
          },
          "metadata": {},
          "output_type": "display_data"
        }
      ],
      "source": [
        "pd.Series(seq_len).hist(bins = 30)"
      ]
    },
    {
      "cell_type": "code",
      "execution_count": null,
      "metadata": {
        "id": "IGPWv2zaXmXf"
      },
      "outputs": [
        {
          "data": {
            "text/html": [
              "<div>\n",
              "<style scoped>\n",
              "    .dataframe tbody tr th:only-of-type {\n",
              "        vertical-align: middle;\n",
              "    }\n",
              "\n",
              "    .dataframe tbody tr th {\n",
              "        vertical-align: top;\n",
              "    }\n",
              "\n",
              "    .dataframe thead th {\n",
              "        text-align: right;\n",
              "    }\n",
              "</style>\n",
              "<table border=\"1\" class=\"dataframe\">\n",
              "  <thead>\n",
              "    <tr style=\"text-align: right;\">\n",
              "      <th></th>\n",
              "      <th>text</th>\n",
              "      <th>election</th>\n",
              "      <th>code</th>\n",
              "      <th>pos</th>\n",
              "      <th>party_code</th>\n",
              "      <th>country_code</th>\n",
              "      <th>party</th>\n",
              "      <th>country</th>\n",
              "      <th>name</th>\n",
              "      <th>name_english</th>\n",
              "      <th>code_extract</th>\n",
              "    </tr>\n",
              "    <tr>\n",
              "      <th>sentiment</th>\n",
              "      <th></th>\n",
              "      <th></th>\n",
              "      <th></th>\n",
              "      <th></th>\n",
              "      <th></th>\n",
              "      <th></th>\n",
              "      <th></th>\n",
              "      <th></th>\n",
              "      <th></th>\n",
              "      <th></th>\n",
              "      <th></th>\n",
              "    </tr>\n",
              "  </thead>\n",
              "  <tbody>\n",
              "    <tr>\n",
              "      <th>left</th>\n",
              "      <td>116160</td>\n",
              "      <td>116160</td>\n",
              "      <td>116160</td>\n",
              "      <td>116160</td>\n",
              "      <td>116160</td>\n",
              "      <td>116160</td>\n",
              "      <td>116160</td>\n",
              "      <td>116160</td>\n",
              "      <td>116160</td>\n",
              "      <td>116160</td>\n",
              "      <td>116160</td>\n",
              "    </tr>\n",
              "    <tr>\n",
              "      <th>neutral</th>\n",
              "      <td>117309</td>\n",
              "      <td>117309</td>\n",
              "      <td>117309</td>\n",
              "      <td>117309</td>\n",
              "      <td>117309</td>\n",
              "      <td>117309</td>\n",
              "      <td>117309</td>\n",
              "      <td>117309</td>\n",
              "      <td>117309</td>\n",
              "      <td>117309</td>\n",
              "      <td>117309</td>\n",
              "    </tr>\n",
              "    <tr>\n",
              "      <th>right</th>\n",
              "      <td>54695</td>\n",
              "      <td>54695</td>\n",
              "      <td>54695</td>\n",
              "      <td>54695</td>\n",
              "      <td>54695</td>\n",
              "      <td>54695</td>\n",
              "      <td>54695</td>\n",
              "      <td>54695</td>\n",
              "      <td>54695</td>\n",
              "      <td>54695</td>\n",
              "      <td>54695</td>\n",
              "    </tr>\n",
              "  </tbody>\n",
              "</table>\n",
              "</div>"
            ],
            "text/plain": [
              "             text  election    code     pos  party_code  country_code   party  \\\n",
              "sentiment                                                                       \n",
              "left       116160    116160  116160  116160      116160        116160  116160   \n",
              "neutral    117309    117309  117309  117309      117309        117309  117309   \n",
              "right       54695     54695   54695   54695       54695         54695   54695   \n",
              "\n",
              "           country    name  name_english  code_extract  \n",
              "sentiment                                               \n",
              "left        116160  116160        116160        116160  \n",
              "neutral     117309  117309        117309        117309  \n",
              "right        54695   54695         54695         54695  "
            ]
          },
          "execution_count": 19,
          "metadata": {},
          "output_type": "execute_result"
        }
      ],
      "source": [
        "manifesto.groupby('sentiment').count()"
      ]
    },
    {
      "cell_type": "code",
      "execution_count": null,
      "metadata": {},
      "outputs": [],
      "source": [
        "manifesto['country_party_election_sentiment'] = manifesto.country.str.cat(others=[manifesto.name, manifesto.election.astype(str), \n",
        "manifesto.sentiment], sep='_')"
      ]
    },
    {
      "cell_type": "code",
      "execution_count": null,
      "metadata": {},
      "outputs": [],
      "source": [
        "def group_texts(dataset, labels_col, text_col, group_factor=5):\n",
        "    results = []\n",
        "    labels = dataset[labels_col].tolist()\n",
        "    for label in set(labels):\n",
        "        ls_texts = []\n",
        "        current_label = dataset[dataset[labels_col] == label]\n",
        "        print(f'Length of {label} is: {len(current_label)}')\n",
        "        texts = current_label[text_col].tolist()\n",
        "        total_length = len(texts)\n",
        "        for i in range(0,total_length,group_factor):\n",
        "            text_to_append = ' '.join(texts[i:i+group_factor])\n",
        "            ls_texts.append(text_to_append)\n",
        "        result = {\n",
        "            'text': ls_texts,\n",
        "            'labels': label\n",
        "        }                  \n",
        "        results.append(result)\n",
        "    return(results)   "
      ]
    },
    {
      "cell_type": "code",
      "execution_count": null,
      "metadata": {},
      "outputs": [
        {
          "name": "stdout",
          "output_type": "stream",
          "text": [
            "Length of Spain_Cadidatura d'Unitat Popular_2019_left is: 42\n",
            "Length of Germany_Partei des Demokratischen Sozialismus_1998_neutral is: 291\n",
            "Length of Spain_Podemos_2016_right is: 118\n",
            "Length of Spain_En Comú Podem_2016_right is: 200\n",
            "Length of Spain_Coalición Canaria - Nueva Canarias_2011_right is: 91\n",
            "Length of Spain_Coalición Canaria - Nueva Canarias_2008_left is: 280\n",
            "Length of Spain_Partido Nacionalista Vasco/Euzko Alderdi Jeltzalea_2019_left is: 567\n",
            "Length of Germany_Sozialdemokratische Partei Deutschlands_1998_neutral is: 351\n",
            "Length of United Kingdom_Social Democratic and Labour Party_2015_neutral is: 193\n",
            "Length of United States_Democratic Party_2012_left is: 543\n",
            "Length of United Kingdom_Democratic Unionist Party_2015_right is: 103\n",
            "Length of Spain_Partido Nacionalista Vasco/Euzko Alderdi Jeltzalea_2016_left is: 137\n",
            "Length of Spain_Convergència i Unió_2008_right is: 60\n",
            "Length of France_Nouveau Centre_2012_right is: 108\n",
            "Length of France_Parti Communiste Français_2017_right is: 10\n",
            "Length of United Kingdom_Labour Party_2017_left is: 657\n",
            "Length of United States_Democratic Party_2020_left is: 1249\n",
            "Length of Spain_Chunta Aragonesista_2008_right is: 77\n",
            "Length of United Kingdom_Green Party of England and Wales_2015_neutral is: 595\n",
            "Length of Germany_Bündnis‘90/Die Grünen_2017_neutral is: 1307\n",
            "Length of Italy_Liberi e Uguali_2018_left is: 134\n",
            "Length of Germany_Sozialdemokratische Partei Deutschlands_2002_right is: 471\n",
            "Length of Italy_Democrazia Europea_2001_right is: 38\n",
            "Length of Italy_Casa delle Libertà_2001_left is: 70\n",
            "Length of France_Alliance Centriste_2012_left is: 36\n",
            "Length of United Kingdom_Green Party of England and Wales_2015_left is: 1437\n",
            "Length of United Kingdom_United Kingdom Independence Party_2017_left is: 359\n",
            "Length of Germany_Freie Demokratische Partei_2009_neutral is: 951\n",
            "Length of Germany_Christlich-Demokratische Union/Christlich-Soziale Union_2013_right is: 736\n",
            "Length of Italy_Partito della Rifondazione Comunista_2001_neutral is: 797\n",
            "Length of Germany_Christlich-Demokratische Union/Christlich-Soziale Union_2005_left is: 125\n",
            "Length of France_Parti Communiste Français_2017_left is: 19\n",
            "Length of Italy_Lista di Pietro - Italia del Valori_2001_neutral is: 405\n",
            "Length of United Kingdom_Democratic Unionist Party_2019_right is: 173\n",
            "Length of Italy_Lista di Pietro - Italia del Valori_2008_left is: 17\n",
            "Length of France_Front National_2017_right is: 81\n",
            "Length of Italy_Scelta Civica_2013_left is: 94\n",
            "Length of Spain_Esquerra Republicana de Catalunya_2008_neutral is: 1272\n",
            "Length of Germany_Sozialdemokratische Partei Deutschlands_2013_right is: 545\n",
            "Length of Germany_Bündnis‘90/Die Grünen_2021_neutral is: 1294\n",
            "Length of United Kingdom_Labour Party_2015_right is: 268\n",
            "Length of Italy_Fratelli d'Italia_2018_left is: 60\n",
            "Length of United Kingdom_Conservative Party_2015_neutral is: 464\n",
            "Length of Spain_Podemos_2015_left is: 849\n",
            "Length of United States_Democratic Party_2004_right is: 369\n",
            "Length of Germany_Sozialdemokratische Partei Deutschlands_2009_neutral is: 929\n",
            "Length of France_Union pour un Mouvement Populaire_2017_right is: 99\n",
            "Length of United Kingdom_Scottish National Party_2001_neutral is: 364\n",
            "Length of Spain_Partido Socialista Obrero Español_2011_right is: 240\n",
            "Length of Italy_Coalizione Südtiroler Volkspartei e Partito Autonomista Trentino Tirolese_2018_right is: 1\n",
            "Length of United States_Republican Party_2020_right is: 1190\n",
            "Length of Germany_Sozialdemokratische Partei Deutschlands_2005_neutral is: 379\n",
            "Length of Germany_Piraten_2013_right is: 406\n",
            "Length of Spain_Coalición Canaria - Nueva Canarias_2004_right is: 107\n",
            "Length of Spain_Coalición Canaria - Nueva Canarias_1996_right is: 201\n",
            "Length of Germany_Christlich-Demokratische Union/Christlich-Soziale Union_2021_neutral is: 993\n",
            "Length of France_Europe Écologie Les Verts_2012_right is: 98\n",
            "Length of Spain_Partido Socialista Obrero Español_2000_left is: 494\n",
            "Length of Spain_A la valencia_2015_left is: 1089\n",
            "Length of Germany_Die Linke_2021_neutral is: 1598\n",
            "Length of Spain_En marea_2015_right is: 16\n",
            "Length of Germany_Bündnis‘90/Die Grünen_2021_right is: 610\n",
            "Length of Germany_Bündnis‘90/Die Grünen_2005_left is: 717\n",
            "Length of United Kingdom_United Kingdom Independence Party_2015_neutral is: 443\n",
            "Length of Spain_Junts per Catalunya_2019_neutral is: 1648\n",
            "Length of Spain_Chunta Aragonesista_2008_left is: 328\n",
            "Length of Spain_Cadidatura d'Unitat Popular_2019_right is: 23\n",
            "Length of Spain_Partido Popular_2000_neutral is: 1369\n",
            "Length of Spain_Chunta Aragonesista_2004_neutral is: 643\n",
            "Length of Italy_Fratelli d'Italia_2013_right is: 180\n",
            "Length of France_Union pour un Mouvement Populaire_2012_right is: 172\n",
            "Length of United Kingdom_United Kingdom Independence Party_2015_left is: 533\n",
            "Length of United Kingdom_Green Party of England and Wales_2017_right is: 29\n",
            "Length of France_Front de Gauche_2012_neutral is: 281\n",
            "Length of United States_Democratic Party_1992_right is: 161\n",
            "Length of Germany_Freie Demokratische Partei_2005_right is: 501\n",
            "Length of Spain_Unidas Podemos_2016_neutral is: 102\n",
            "Length of Germany_Bündnis‘90/Die Grünen_2002_neutral is: 636\n",
            "Length of Italy_Unione di Centro_2013_left is: 113\n",
            "Length of Spain_Unión, Progreso y Democracia_2011_left is: 259\n",
            "Length of Germany_Südschleswigscher Wählerverband - Sydslesvigsk Vælgerforening_2021_neutral is: 540\n",
            "Length of United Kingdom_Plaid Cymru_2019_right is: 168\n",
            "Length of Spain_Izquierda Unida_2008_neutral is: 1002\n",
            "Length of United Kingdom_Scottish National Party_2019_right is: 152\n",
            "Length of Spain_En Comú Podem_2015_right is: 200\n",
            "Length of Spain_Més Compromís_2019_right is: 164\n",
            "Length of Spain_Unidad Popular_2015_right is: 102\n",
            "Length of France_Union des démocrates et indépendants_2017_right is: 99\n",
            "Length of Germany_Freie Demokratische Partei_2005_left is: 282\n",
            "Length of Germany_Sozialdemokratische Partei Deutschlands_2021_left is: 834\n",
            "Length of Spain_Partido Socialista Obrero Español_2000_neutral is: 557\n",
            "Length of France_Front National_2017_left is: 88\n",
            "Length of Italy_Noi con l'Italia_2018_right is: 62\n",
            "Length of Germany_Alternative für Deutschland_2017_left is: 246\n",
            "Length of Germany_Die Linke_2017_left is: 2179\n",
            "Length of Spain_Izquierda Unida_2011_neutral is: 708\n",
            "Length of Italy_Italia Europa Insieme_2018_right is: 55\n",
            "Length of Spain_Euskal Herria Bildu_2015_left is: 32\n",
            "Length of Spain_Coalición Canaria - Nueva Canarias_2015_right is: 85\n",
            "Length of Spain_Partido Socialista Obrero Español_2019_left is: 1308\n",
            "Length of Germany_Christlich-Demokratische Union/Christlich-Soziale Union_2005_right is: 315\n",
            "Length of Spain_Partido Nacionalista Vasco/Euzko Alderdi Jeltzalea_2000_right is: 250\n",
            "Length of Germany_Alternative für Deutschland_2021_right is: 719\n",
            "Length of United Kingdom_Liberal Democrats_2019_neutral is: 451\n",
            "Length of United Kingdom_Liberal Democrats_2017_left is: 530\n",
            "Length of Germany_Christlich-Demokratische Union/Christlich-Soziale Union_2017_right is: 437\n",
            "Length of Germany_Christlich-Demokratische Union/Christlich-Soziale Union_2013_left is: 828\n",
            "Length of United Kingdom_Liberal Democrats_2015_right is: 381\n",
            "Length of United Kingdom_Alliance Party of Northern Ireland_2019_right is: 131\n",
            "Length of France_Mouvement Démocrate_2012_neutral is: 115\n",
            "Length of France_Front National_2012_neutral is: 88\n",
            "Length of Germany_Bündnis‘90/Die Grünen_2017_right is: 539\n",
            "Length of Spain_Junts per Catalunya_2019_right is: 476\n",
            "Length of Germany_Sozialdemokratische Partei Deutschlands_2017_neutral is: 897\n",
            "Length of Italy_Lista Lavoro e Libertà_2013_left is: 100\n",
            "Length of Spain_Más País-Equo_2019_left is: 709\n",
            "Length of Spain_Euskal Herria Bildu_2016_neutral is: 46\n",
            "Length of Germany_Sozialdemokratische Partei Deutschlands_2013_left is: 1350\n",
            "Length of Spain_Coalición Canaria - Nueva Canarias_2019_left is: 449\n",
            "Length of Spain_Bloque Nacionalista Galego_2011_right is: 21\n",
            "Length of Spain_Izquierda Unida_2000_neutral is: 2784\n",
            "Length of Spain_Convergència Democràtica de Catalunya_2016_left is: 676\n",
            "Length of United Kingdom_Labour Party_2001_neutral is: 512\n",
            "Length of Spain_Partido Popular_1996_right is: 723\n",
            "Length of United States_Republican Party_2004_left is: 424\n",
            "Length of Italy_Vallée d'Aoste - Autonomie Prògres Fédéralisme_2013_neutral is: 8\n",
            "Length of Spain_Partido Popular_2019_left is: 526\n",
            "Length of United States_Republican Party_2012_left is: 310\n",
            "Length of France_Europe Écologie Les Verts_2017_left is: 118\n",
            "Length of Spain_Compromís-Q_2011_neutral is: 452\n",
            "Length of France_Front National_2012_left is: 96\n",
            "Length of Spain_Vox_2019_left is: 83\n",
            "Length of United States_Republican Party_2008_right is: 420\n",
            "Length of United Kingdom_Labour Party_2019_neutral is: 549\n",
            "Length of Spain_Partido Popular_1996_neutral is: 1415\n",
            "Length of Germany_Christlich-Demokratische Union/Christlich-Soziale Union_2002_neutral is: 487\n",
            "Length of Spain_Esquerra Republicana de Catalunya_2016_left is: 270\n",
            "Length of United Kingdom_United Kingdom Independence Party_2017_right is: 341\n",
            "Length of Italy_MoVimento 5 Stelle_2018_right is: 898\n",
            "Length of Italy_Partito Democratico_2018_right is: 242\n",
            "Length of Spain_Podemos_2016_neutral is: 765\n",
            "Length of Italy_Civica Popolare_2018_neutral is: 66\n",
            "Length of United Kingdom_Alliance Party of Northern Ireland_2019_neutral is: 222\n",
            "Length of Italy_Partito Democratico_2008_left is: 65\n",
            "Length of Spain_Esquerra Republicana de Catalunya_2008_right is: 167\n",
            "Length of Spain_Partido Socialista Obrero Español_2008_neutral is: 2105\n",
            "Length of Spain_Bloque Nacionalista Galego_2011_neutral is: 246\n",
            "Length of Spain_Esquerra Republicana de Catalunya_2011_right is: 200\n",
            "Length of Spain_En marea_2015_left is: 165\n",
            "Length of Spain_Chunta Aragonesista_2004_right is: 64\n",
            "Length of Spain_Ciudadanos - Partido de la Ciudadania_2019_right is: 290\n",
            "Length of Italy_Südtiroler Volkspartei_2013_neutral is: 220\n",
            "Length of Germany_Die Linke_2013_neutral is: 856\n",
            "Length of Germany_Alternative für Deutschland_2021_left is: 332\n",
            "Length of Spain_Bloque Nacionalista Galego_2008_neutral is: 978\n",
            "Length of Spain_Partido Socialista Obrero Español_2008_left is: 1881\n",
            "Length of Spain_Euskal Herria Bildu_2016_left is: 28\n",
            "Length of Germany_Bündnis‘90/Die Grünen_2017_left is: 1980\n",
            "Length of United Kingdom_Liberal Democrats_1997_left is: 317\n",
            "Length of United Kingdom_Scottish National Party_2019_left is: 503\n",
            "Length of Spain_Coalición Canaria - Nueva Canarias_2004_neutral is: 586\n",
            "Length of Italy_Lega_2013_left is: 64\n",
            "Length of Italy_Fratelli d'Italia_2013_left is: 136\n",
            "Length of Germany_Christlich-Demokratische Union/Christlich-Soziale Union_2002_right is: 522\n",
            "Length of France_Parti Socialiste_2012_neutral is: 66\n",
            "Length of Italy_Partito Democratico_2008_right is: 41\n",
            "Length of Spain_Foro Asturias_2011_neutral is: 661\n",
            "Length of Spain_Esquerra Republicana de Catalunya_2015_left is: 213\n",
            "Length of Germany_Christlich-Demokratische Union/Christlich-Soziale Union_2009_left is: 507\n",
            "Length of United States_Democratic Party_2016_neutral is: 507\n",
            "Length of Spain_Izquierda Unida_2019_left is: 4212\n",
            "Length of Italy_Centro Democratico_2013_right is: 181\n",
            "Length of Germany_Christlich-Demokratische Union/Christlich-Soziale Union_2013_neutral is: 970\n",
            "Length of Italy_MoVimento 5 Stelle_2013_left is: 128\n",
            "Length of Germany_Partei des Demokratischen Sozialismus_2002_right is: 173\n",
            "Length of Germany_Sozialdemokratische Partei Deutschlands_2021_neutral is: 549\n",
            "Length of Spain_Partido Socialista Obrero Español_2019_right is: 357\n",
            "Length of Spain_¡Teruel Existe!_2019_neutral is: 30\n",
            "Length of Spain_Foro Asturias_2011_left is: 493\n",
            "Length of Spain_Amaiur_2011_neutral is: 32\n",
            "Length of United States_Democratic Party_2004_neutral is: 172\n",
            "Length of Spain_En Comú Podem_2015_left is: 1358\n",
            "Length of Germany_Bündnis‘90/Die Grünen_2009_left is: 1492\n",
            "Length of Spain_Coalición Canaria - Nueva Canarias_2011_left is: 227\n",
            "Length of France_Parti Radical_2012_left is: 119\n",
            "Length of Spain_Cadidatura d'Unitat Popular_2019_neutral is: 47\n",
            "Length of United States_Republican Party_2020_left is: 408\n",
            "Length of United Kingdom_Democratic Unionist Party_2017_left is: 75\n",
            "Length of Germany_Alternative für Deutschland_2013_neutral is: 31\n",
            "Length of Germany_Die Linke_2009_right is: 205\n",
            "Length of Germany_Freie Demokratische Partei_2017_left is: 689\n",
            "Length of Spain_Coalición Canaria - Nueva Canarias_2016_neutral is: 367\n",
            "Length of France_Nouveau Centre_2012_left is: 289\n",
            "Length of Spain_Esquerra Republicana de Catalunya_2008_left is: 432\n",
            "Length of France_Mouvement Démocrate_2017_right is: 101\n",
            "Length of France_Europe Écologie Les Verts_2017_right is: 43\n",
            "Length of Spain_Partido Socialista Obrero Español_2000_right is: 206\n",
            "Length of Spain_Partido Popular_2015_neutral is: 966\n",
            "Length of Spain_Bloque Nacionalista Galego_2008_right is: 95\n",
            "Length of Germany_Die Linke_2017_right is: 289\n",
            "Length of Spain_Partido Socialista Obrero Español_2019_neutral is: 1089\n",
            "Length of Italy_Il Popolo della Libertà_2013_neutral is: 85\n",
            "Length of United Kingdom_Sinn Féin_2019_left is: 41\n",
            "Length of United Kingdom_Democratic Unionist Party_2017_right is: 205\n",
            "Length of Germany_Sozialdemokratische Partei Deutschlands_2002_neutral is: 683\n",
            "Length of Italy_MoVimento 5 Stelle_2018_neutral is: 2003\n",
            "Length of Spain_A la valencia_2016_neutral is: 733\n",
            "Length of United Kingdom_Plaid Cymru_2017_neutral is: 144\n",
            "Length of Germany_Sozialdemokratische Partei Deutschlands_2005_left is: 264\n",
            "Length of Spain_Convergència Democràtica de Catalunya_2016_right is: 272\n",
            "Length of United States_Democratic Party_1992_left is: 115\n",
            "Length of Germany_Partei des Demokratischen Sozialismus_2002_neutral is: 295\n",
            "Length of Spain_Euskal Herria Bildu_2019_right is: 13\n",
            "Length of Spain_Partido Nacionalista Vasco/Euzko Alderdi Jeltzalea_2015_right is: 112\n",
            "Length of Italy_Sinistra Ecologia Libertà_2013_right is: 89\n",
            "Length of United Kingdom_Labour Party_2015_left is: 483\n",
            "Length of Italy_MoVimento 5 Stelle_2013_neutral is: 18\n",
            "Length of Spain_Eusko Alkartasuna_2008_neutral is: 257\n",
            "Length of Spain_¡Teruel Existe!_2019_right is: 8\n",
            "Length of Germany_Freie Demokratische Partei_2013_neutral is: 948\n",
            "Length of Spain_Eusko Alkartasuna_2008_right is: 130\n",
            "Length of United Kingdom_Liberal Democrats_2015_neutral is: 612\n",
            "Length of Spain_Ciudadanos - Partido de la Ciudadania_2019_left is: 555\n",
            "Length of United States_Democratic Party_2004_left is: 339\n",
            "Length of Italy_Lista di Pietro - Italia del Valori_2008_neutral is: 10\n",
            "Length of Germany_Die Linke_2009_neutral is: 746\n",
            "Length of Italy_MoVimento 5 Stelle_2013_right is: 9\n",
            "Length of Spain_Partido Socialista Obrero Español_2015_neutral is: 1878\n",
            "Length of Spain_Partido Popular_2008_right is: 894\n",
            "Length of Italy_Forza Italia_2018_left is: 19\n",
            "Length of Spain_Convergència i Unió_2008_left is: 93\n",
            "Length of Italy_Partito Democratico_2008_neutral is: 81\n",
            "Length of Germany_Christlich-Demokratische Union/Christlich-Soziale Union_1998_right is: 266\n",
            "Length of Germany_Christlich-Demokratische Union/Christlich-Soziale Union_2009_neutral is: 886\n",
            "Length of United Kingdom_Democratic Unionist Party_2017_neutral is: 153\n",
            "Length of Italy_Forza Italia_2018_neutral is: 43\n",
            "Length of Spain_Partido Nacionalista Vasco/Euzko Alderdi Jeltzalea_2019_neutral is: 585\n",
            "Length of United Kingdom_Labour Party_2019_right is: 225\n",
            "Length of Italy_Lega_2008_right is: 56\n",
            "Length of Italy_MoVimento 5 Stelle_2018_left is: 3594\n",
            "Length of Spain_Ciudadanos - Partido de la Ciudadania_2016_neutral is: 345\n",
            "Length of United States_Democratic Party_2020_neutral is: 781\n",
            "Length of Spain_Partido Nacionalista Vasco/Euzko Alderdi Jeltzalea_2008_left is: 263\n",
            "Length of France_Parti Radical de Gauche_2017_neutral is: 213\n",
            "Length of Spain_Foro Asturias_2011_right is: 174\n",
            "Length of United Kingdom_Democratic Unionist Party_2015_left is: 40\n",
            "Length of United Kingdom_Labour Party_2015_neutral is: 258\n",
            "Length of Germany_Christlich-Demokratische Union/Christlich-Soziale Union_2017_left is: 453\n",
            "Length of Spain_Unidas Podemos_2016_left is: 213\n",
            "Length of Spain_Democràcia i Libertat_2015_neutral is: 1043\n",
            "Length of France_Mouvement Démocrate_2017_neutral is: 147\n",
            "Length of Spain_Geroa Bai_2011_right is: 95\n",
            "Length of United Kingdom_Labour Party_2017_neutral is: 428\n",
            "Length of Italy_Rivoluzione Civile_2013_left is: 197\n",
            "Length of Spain_Euskal Herria Bildu_2019_left is: 47\n",
            "Length of France_Alliance Centriste_2012_right is: 22\n",
            "Length of Spain_Partido Popular_2011_left is: 578\n",
            "Length of United Kingdom_Conservative Party_2017_neutral is: 538\n",
            "Length of United Kingdom_Scottish National Party_2019_neutral is: 416\n",
            "Length of United Kingdom_Scottish National Party_1997_left is: 183\n",
            "Length of United Kingdom_Conservative Party_2015_left is: 597\n",
            "Length of Spain_Partido Popular_2019_neutral is: 534\n",
            "Length of United Kingdom_Scottish National Party_2015_neutral is: 341\n",
            "Length of United Kingdom_Ulster Unionist Party_2015_right is: 136\n",
            "Length of Spain_Coalición Canaria - Nueva Canarias_2008_neutral is: 746\n",
            "Length of Spain_Podemos_2015_neutral is: 765\n",
            "Length of Spain_Partido Socialista Obrero Español_2008_right is: 564\n",
            "Length of Spain_Partido Popular_2015_left is: 715\n",
            "Length of Italy_Democrazia Europea_2001_neutral is: 64\n",
            "Length of Spain_Más País-Equo_2019_right is: 91\n",
            "Length of Germany_Partei des Demokratischen Sozialismus_1998_right is: 159\n",
            "Length of Spain_Podemos_2015_right is: 118\n",
            "Length of Germany_Christlich-Demokratische Union/Christlich-Soziale Union_2021_left is: 936\n",
            "Length of Spain_En marea_2016_left is: 170\n",
            "Length of Spain_Coalición Canaria - Nueva Canarias_1996_left is: 350\n",
            "Length of Italy_Rivoluzione Civile_2013_neutral is: 155\n",
            "Length of United Kingdom_Plaid Cymru_2017_right is: 55\n",
            "Length of United Kingdom_United Kingdom Independence Party_2017_neutral is: 376\n",
            "Length of France_Europe Écologie Les Verts_2017_neutral is: 59\n",
            "Length of Spain_En marea_2016_neutral is: 110\n",
            "Length of Germany_Sozialdemokratische Partei Deutschlands_2021_right is: 282\n",
            "Length of United Kingdom_Green Party of England and Wales_2017_neutral is: 49\n",
            "Length of Italy_Civica Popolare_2018_left is: 90\n",
            "Length of Spain_¡Teruel Existe!_2019_left is: 17\n",
            "Length of France_Europe Écologie Les Verts_2012_neutral is: 353\n",
            "Length of Spain_En Comú Podem_2016_neutral is: 698\n",
            "Length of Italy_Partito Democratico_2013_neutral is: 89\n",
            "Length of United States_Republican Party_2008_neutral is: 397\n",
            "Length of Spain_Coalición Canaria - Nueva Canarias_2019_right is: 137\n",
            "Length of Spain_Partido Popular_2011_right is: 501\n",
            "Length of Spain_Podemos_2016_left is: 849\n",
            "Length of France_Parti Radical de Gauche_2012_left is: 234\n",
            "Length of Germany_Die Linke_2009_left is: 709\n",
            "Length of Spain_Bloque Nacionalista Galego_2019_left is: 250\n",
            "Length of Spain_Partido Regionalista de Cantabria_2019_neutral is: 71\n",
            "Length of Spain_Partido Popular_2016_left is: 715\n",
            "Length of United Kingdom_Green Party of England and Wales_2017_left is: 131\n",
            "Length of France_La France insoumise_2017_right is: 165\n",
            "Length of Germany_Bündnis‘90/Die Grünen_2013_neutral is: 1995\n",
            "Length of Spain_Podemos_2019_right is: 268\n",
            "Length of Italy_Partito Democratico_2018_neutral is: 611\n",
            "Length of Germany_Freie Demokratische Partei_2002_right is: 571\n",
            "Length of Italy_Italia Europa Insieme_2018_left is: 196\n",
            "Length of Spain_Partido Andalucista_2004_right is: 255\n",
            "Length of United States_Democratic Party_2012_right is: 428\n",
            "Length of France_Union pour un Mouvement Populaire_2012_left is: 154\n",
            "Length of France_Parti Radical de Gauche_2017_left is: 191\n",
            "Length of Italy_Fratelli d'Italia_2018_neutral is: 57\n",
            "Length of Spain_A la valencia_2016_left is: 1096\n",
            "Length of Spain_Izquierda Unida_2019_right is: 600\n",
            "Length of United Kingdom_Liberal Democrats_2019_left is: 755\n",
            "Length of Spain_Partido Nacionalista Vasco/Euzko Alderdi Jeltzalea_2000_left is: 552\n",
            "Length of Spain_Ciudadanos - Partido de la Ciudadania_2019_neutral is: 571\n",
            "Length of Spain_Más País-Equo_2019_neutral is: 374\n",
            "Length of United Kingdom_Sinn Féin_2019_neutral is: 76\n",
            "Length of Spain_Esquerra Republicana de Catalunya_2011_left is: 855\n",
            "Length of Spain_En marea_2015_neutral is: 109\n",
            "Length of Spain_Coalición Canaria - Nueva Canarias_2004_left is: 185\n",
            "Length of United Kingdom_Liberal Democrats_2019_right is: 261\n",
            "Length of Italy_Fratelli d'Italia_2018_right is: 61\n",
            "Length of France_Renaissance_2017_right is: 91\n",
            "Length of Germany_Partei des Demokratischen Sozialismus_1998_left is: 454\n",
            "Length of United Kingdom_Plaid Cymru_2019_left is: 396\n",
            "Length of Spain_Ciudadanos - Partido de la Ciudadania_2016_right is: 100\n",
            "Length of Spain_Unión, Progreso y Democracia_2011_neutral is: 275\n",
            "Length of United Kingdom_Scottish National Party_2017_neutral is: 294\n",
            "Length of Germany_Sozialdemokratische Partei Deutschlands_2005_right is: 237\n",
            "Length of Spain_Convergència i Unió_2011_right is: 238\n",
            "Length of United Kingdom_Sinn Féin_2019_right is: 10\n",
            "Length of Italy_Fratelli d'Italia_2013_neutral is: 144\n",
            "Length of Spain_Coalición Canaria - Nueva Canarias_2000_left is: 205\n",
            "Length of France_Union des démocrates et indépendants_2017_left is: 73\n",
            "Length of Italy_Casa delle Libertà_2001_neutral is: 368\n",
            "Length of France_Parti Radical de Gauche_2012_right is: 59\n",
            "Length of France_Renaissance_2017_left is: 110\n",
            "Length of Italy_Più Europa_2018_left is: 116\n",
            "Length of Italy_Scelta Civica_2013_neutral is: 142\n",
            "Length of Spain_Partido Socialista Obrero Español_2011_neutral is: 874\n",
            "Length of United Kingdom_Labour Party_2001_right is: 431\n",
            "Length of United Kingdom_Green Party of England and Wales_2015_right is: 181\n",
            "Length of United Kingdom_Scottish National Party_2001_right is: 146\n",
            "Length of Spain_Ciudadanos - Partido de la Ciudadania_2016_left is: 385\n",
            "Length of Germany_Sozialdemokratische Partei Deutschlands_1998_right is: 292\n",
            "Length of Spain_Chunta Aragonesista_2008_neutral is: 473\n",
            "Length of Spain_Bloque Nacionalista Galego_2011_left is: 188\n",
            "Length of Spain_Convergència i Unió_2011_neutral is: 852\n",
            "Length of United Kingdom_Democratic Unionist Party_2019_left is: 149\n",
            "Length of France_Europe Écologie Les Verts_2012_left is: 679\n",
            "Length of Spain_Partido Socialista Obrero Español_2015_right is: 646\n",
            "Length of Spain_Convergència i Unió_2011_left is: 489\n",
            "Length of Italy_Civica Popolare_2018_right is: 63\n",
            "Length of Germany_Freie Demokratische Partei_2013_right is: 939\n",
            "Length of Germany_Die Linke.PDS_2005_neutral is: 233\n",
            "Length of Spain_Amaiur_2011_right is: 7\n",
            "Length of Spain_Unión del Pueblo Navarro_2004_left is: 11\n",
            "Length of United Kingdom_Conservative Party_2019_right is: 446\n",
            "Length of United States_Republican Party_2008_left is: 185\n",
            "Length of France_Parti Socialiste_2012_left is: 112\n",
            "Length of Italy_Lega_2008_left is: 66\n",
            "Length of France_Parti Socialiste_2017_left is: 40\n",
            "Length of Spain_Partido Nacionalista Vasco/Euzko Alderdi Jeltzalea_2019_right is: 288\n",
            "Length of Italy_Vallée d'Aoste - Autonomie Prògres Fédéralisme_2013_left is: 3\n",
            "Length of Germany_Sozialdemokratische Partei Deutschlands_2002_left is: 437\n",
            "Length of Italy_Il Popolo della Libertà_2008_right is: 96\n",
            "Length of Spain_Bloque Nacionalista Galego_2000_neutral is: 663\n",
            "Length of United Kingdom_Sinn Féin_2015_right is: 45\n",
            "Length of Spain_Izquierda Unida_2008_left is: 751\n",
            "Length of Germany_Alternative für Deutschland_2013_left is: 22\n",
            "Length of Germany_Bündnis‘90/Die Grünen_2013_left is: 2600\n",
            "Length of Italy_Lista di Pietro - Italia del Valori_2001_left is: 485\n",
            "Length of United States_Democratic Party_2012_neutral is: 344\n",
            "Length of Spain_Esquerra Republicana de Catalunya_2019_left is: 1628\n",
            "Length of Germany_Bündnis‘90/Die Grünen_2005_neutral is: 801\n",
            "Length of Italy_Unione di Centro_2013_neutral is: 60\n",
            "Length of Germany_Freie Demokratische Partei_1998_right is: 525\n",
            "Length of Italy_Scelta Civica_2013_right is: 100\n",
            "Length of Spain_Partido Nacionalista Vasco/Euzko Alderdi Jeltzalea_2011_left is: 120\n",
            "Length of Germany_Christlich-Demokratische Union/Christlich-Soziale Union_2017_neutral is: 450\n",
            "Length of Spain_Bloque Nacionalista Galego_2019_neutral is: 272\n",
            "Length of Spain_Democràcia i Libertat_2015_left is: 642\n",
            "Length of Spain_Esquerra Republicana de Catalunya_2019_neutral is: 1677\n",
            "Length of Germany_Die Linke_2021_left is: 2730\n",
            "Length of United Kingdom_Plaid Cymru_2017_left is: 137\n",
            "Length of Germany_Freie Demokratische Partei_2021_right is: 695\n",
            "Length of Spain_Partido Socialista Obrero Español_2016_left is: 2021\n",
            "Length of Spain_Coalición Canaria - Nueva Canarias_1996_neutral is: 1175\n",
            "Length of France_Parti Socialiste_2017_right is: 10\n",
            "Length of Spain_Geroa Bai_2011_left is: 295\n",
            "Length of Spain_Partido Nacionalista Vasco/Euzko Alderdi Jeltzalea_2000_neutral is: 1249\n",
            "Length of Italy_Centro Democratico_2013_neutral is: 133\n",
            "Length of Germany_Südschleswigscher Wählerverband - Sydslesvigsk Vælgerforening_2021_left is: 652\n",
            "Length of United Kingdom_Sinn Féin_2015_neutral is: 163\n",
            "Length of United States_Democratic Party_2016_left is: 667\n",
            "Length of Spain_Partido Nacionalista Vasco/Euzko Alderdi Jeltzalea_2015_neutral is: 192\n",
            "Length of Spain_Ciudadanos - Partido de la Ciudadania_2015_left is: 1879\n",
            "Length of Germany_Bündnis‘90/Die Grünen_2021_left is: 2043\n",
            "Length of Spain_Partido Nacionalista Vasco/Euzko Alderdi Jeltzalea_2016_right is: 112\n",
            "Length of Spain_Esquerra Republicana de Catalunya_2015_neutral is: 324\n",
            "Length of Germany_Bündnis‘90/Die Grünen_1998_left is: 949\n",
            "Length of United Kingdom_Labour Party_2019_left is: 928\n",
            "Length of Germany_Freie Demokratische Partei_1998_left is: 356\n",
            "Length of Spain_Convergència Democràtica de Catalunya_2016_neutral is: 1096\n",
            "Length of Spain_Esquerra Republicana de Catalunya_2019_right is: 397\n",
            "Length of Italy_Partito Democratico_2013_left is: 68\n",
            "Length of Italy_Lista Lavoro e Libertà_2013_neutral is: 85\n",
            "Length of Italy_Più Europa_2018_right is: 91\n",
            "Length of United States_Republican Party_2020_neutral is: 594\n",
            "Length of Germany_Partei des Demokratischen Sozialismus_2002_left is: 372\n",
            "Length of Italy_Partito Democratico_2013_right is: 47\n",
            "Length of France_Nouveau Centre_2012_neutral is: 323\n",
            "Length of France_Alliance Centriste_2012_neutral is: 14\n",
            "Length of Spain_Junts per Catalunya_2019_left is: 1270\n",
            "Length of Spain_Partido Popular_2011_neutral is: 795\n",
            "Length of Italy_Coalizione Südtiroler Volkspartei e Partito Autonomista Trentino Tirolese_2018_neutral is: 15\n",
            "Length of Spain_Partido Socialista Obrero Español_2016_neutral is: 2008\n",
            "Length of Spain_En Comú Podem_2016_left is: 1358\n",
            "Length of France_Mouvement Démocrate_2012_right is: 95\n",
            "Length of United States_Democratic Party_1992_neutral is: 107\n",
            "Length of Germany_Piraten_2013_neutral is: 584\n",
            "Length of Italy_Noi con l'Italia_2018_left is: 45\n",
            "Length of United Kingdom_Liberal Democrats_1997_neutral is: 322\n",
            "Length of Italy_Rivoluzione Civile_2013_right is: 62\n",
            "Length of Spain_Partido Nacionalista Vasco/Euzko Alderdi Jeltzalea_2011_neutral is: 178\n",
            "Length of Spain_Convergència i Unió_2008_neutral is: 170\n",
            "Length of Spain_A la valencia_2016_right is: 124\n",
            "Length of United Kingdom_Conservative Party_2017_right is: 453\n",
            "Length of Spain_Coalición Canaria - Nueva Canarias_2019_neutral is: 552\n",
            "Length of Germany_Christlich-Demokratische Union/Christlich-Soziale Union_1998_neutral is: 182\n",
            "Length of Spain_Partido Regionalista de Cantabria_2019_left is: 15\n",
            "Length of United States_Democratic Party_2020_right is: 557\n",
            "Length of Germany_Sozialdemokratische Partei Deutschlands_2009_left is: 881\n",
            "Length of Italy_Sinistra Ecologia Libertà_2013_neutral is: 222\n",
            "Length of Spain_Ciudadanos - Partido de la Ciudadania_2015_right is: 763\n",
            "Length of France_Parti Radical_2012_neutral is: 117\n",
            "Length of Spain_Vox_2019_neutral is: 139\n",
            "Length of United Kingdom_Plaid Cymru_2015_right is: 77\n",
            "Length of United Kingdom_Ulster Unionist Party_2015_neutral is: 139\n",
            "Length of Spain_Partido Regionalista de Cantabria_2019_right is: 22\n",
            "Length of Spain_Euskal Herria Bildu_2019_neutral is: 46\n",
            "Length of France_Union pour un Mouvement Populaire_2017_neutral is: 85\n",
            "Length of France_La France insoumise_2017_left is: 583\n",
            "Length of Italy_Lega_2018_right is: 334\n",
            "Length of Spain_Izquierda Unida_2011_left is: 802\n",
            "Length of France_Front de Gauche_2012_left is: 432\n",
            "Length of United Kingdom_Green Party of England and Wales_2019_right is: 165\n",
            "Length of Spain_Bloque Nacionalista Galego_2004_right is: 162\n",
            "Length of Spain_Izquierda Unida_2008_right is: 294\n",
            "Length of United Kingdom_Liberal Democrats_2015_left is: 899\n",
            "Length of Italy_Forza Italia_2018_right is: 34\n",
            "Length of United Kingdom_Conservative Party_2019_left is: 455\n",
            "Length of Spain_Amaiur_2011_left is: 19\n",
            "Length of France_Mouvement Démocrate_2012_left is: 203\n",
            "Length of Spain_Izquierda Unida_2000_left is: 3058\n",
            "Length of Germany_Freie Demokratische Partei_2021_left is: 777\n",
            "Length of United Kingdom_Sinn Féin_2017_neutral is: 91\n",
            "Length of Germany_Alternative für Deutschland_2017_neutral is: 336\n",
            "Length of France_Parti Radical de Gauche_2017_right is: 133\n",
            "Length of Italy_Partito della Rifondazione Comunista_2001_right is: 98\n",
            "Length of Italy_Liberi e Uguali_2018_neutral is: 110\n",
            "Length of Italy_Lista di Pietro - Italia del Valori_2008_right is: 16\n",
            "Length of United Kingdom_Liberal Democrats_2017_neutral is: 394\n",
            "Length of Germany_Bündnis‘90/Die Grünen_2009_right is: 584\n",
            "Length of France_Front de Gauche_2012_right is: 34\n",
            "Length of United Kingdom_Green Party of England and Wales_2019_left is: 737\n",
            "Length of Spain_Ciudadanos - Partido de la Ciudadania_2015_neutral is: 2405\n",
            "Length of Spain_Vox_2019_right is: 234\n",
            "Length of Spain_Coalición Canaria - Nueva Canarias_2000_right is: 98\n",
            "Length of Spain_Bloque Nacionalista Galego_2019_right is: 31\n",
            "Length of United Kingdom_Social Democratic and Labour Party_2015_left is: 157\n",
            "Length of United States_Republican Party_2004_neutral is: 503\n",
            "Length of Spain_Coalición Canaria - Nueva Canarias_2000_neutral is: 472\n",
            "Length of United Kingdom_Labour Party_2001_left is: 460\n",
            "Length of Spain_Partido Popular_2008_neutral is: 1806\n",
            "Length of Spain_Coalición Canaria - Nueva Canarias_2016_left is: 173\n",
            "Length of Spain_Podemos_2019_neutral is: 741\n",
            "Length of United Kingdom_Green Party of England and Wales_2019_neutral is: 296\n",
            "Length of United Kingdom_Social Democratic and Labour Party_2015_right is: 57\n",
            "Length of France_Parti Socialiste_2012_right is: 36\n",
            "Length of United Kingdom_Social Democratic and Labour Party_2019_neutral is: 163\n",
            "Length of Spain_Coalición Canaria - Nueva Canarias_2011_neutral is: 444\n",
            "Length of Spain_Partido Popular_1996_left is: 514\n",
            "Length of Spain_Partido Nacionalista Vasco/Euzko Alderdi Jeltzalea_2008_neutral is: 465\n",
            "Length of Italy_Il Popolo della Libertà_2008_neutral is: 93\n",
            "Length of Spain_Unidas Podemos_2016_right is: 27\n",
            "Length of Germany_Christlich-Demokratische Union/Christlich-Soziale Union_2021_right is: 846\n",
            "Length of Italy_Partito della Rifondazione Comunista_2001_left is: 1030\n",
            "Length of Germany_Freie Demokratische Partei_2009_left is: 646\n",
            "Length of France_Union pour un Mouvement Populaire_2012_neutral is: 146\n",
            "Length of United Kingdom_Conservative Party_2019_neutral is: 320\n",
            "Length of United Kingdom_Plaid Cymru_2019_neutral is: 386\n",
            "Length of Germany_Freie Demokratische Partei_2021_neutral is: 767\n",
            "Length of Italy_Lega_2018_neutral is: 570\n",
            "Length of Italy_Unione di Centro_2013_right is: 246\n",
            "Length of Italy_Il Popolo della Libertà_2013_right is: 61\n",
            "Length of France_Parti Radical_2012_right is: 50\n",
            "Length of Spain_Bloque Nacionalista Galego_2008_left is: 287\n",
            "Length of Germany_Bündnis‘90/Die Grünen_1998_right is: 373\n",
            "Length of Spain_Geroa Bai_2011_neutral is: 271\n",
            "Length of Germany_Alternative für Deutschland_2013_right is: 19\n",
            "Length of Spain_Bloque Nacionalista Galego_2004_left is: 370\n",
            "Length of United States_Republican Party_2012_neutral is: 455\n",
            "Length of Spain_Partido Popular_2008_left is: 1343\n",
            "Length of Germany_Bündnis‘90/Die Grünen_2002_right is: 280\n",
            "Length of United Kingdom_Conservative Party_2015_right is: 527\n",
            "Length of Germany_Freie Demokratische Partei_2009_right is: 633\n",
            "Length of Spain_Unión del Pueblo Navarro_2004_neutral is: 53\n",
            "Length of Germany_Bündnis‘90/Die Grünen_1998_neutral is: 777\n",
            "Length of France_Parti Communiste Français_2017_neutral is: 7\n",
            "Length of Germany_Die Linke_2021_right is: 522\n",
            "Length of Spain_Eusko Alkartasuna_2008_left is: 252\n",
            "Length of Germany_Christlich-Demokratische Union/Christlich-Soziale Union_1998_left is: 99\n",
            "Length of Spain_Esquerra Republicana de Catalunya_2011_neutral is: 1407\n",
            "Length of Italy_Lega_2013_right is: 61\n",
            "Length of United Kingdom_Alliance Party of Northern Ireland_2019_left is: 269\n",
            "Length of Germany_Die Linke_2013_right is: 282\n",
            "Length of Germany_Freie Demokratische Partei_2013_left is: 673\n",
            "Length of United Kingdom_Ulster Unionist Party_2015_left is: 142\n",
            "Length of Spain_Partido Nacionalista Vasco/Euzko Alderdi Jeltzalea_2011_right is: 66\n",
            "Length of United Kingdom_Scottish National Party_2001_left is: 282\n",
            "Length of United Kingdom_Scottish National Party_2017_left is: 357\n",
            "Length of Spain_Esquerra Republicana de Catalunya_2016_right is: 78\n",
            "Length of Italy_Lista di Pietro - Italia del Valori_2001_right is: 233\n",
            "Length of Spain_Unión del Pueblo Navarro_2004_right is: 24\n",
            "Length of Spain_Chunta Aragonesista_2004_left is: 349\n",
            "Length of France_Union des démocrates et indépendants_2017_neutral is: 85\n",
            "Length of United States_Republican Party_2004_right is: 837\n",
            "Length of Germany_Die Linke_2017_neutral is: 1458\n",
            "Length of Spain_Coalición Canaria - Nueva Canarias_2016_right is: 115\n",
            "Length of Germany_Christlich-Demokratische Union/Christlich-Soziale Union_2005_neutral is: 329\n",
            "Length of United Kingdom_Scottish National Party_1997_right is: 173\n",
            "Length of Spain_Partido Popular_2000_left is: 748\n",
            "Length of Spain_Partido Popular_2019_right is: 535\n",
            "Length of Italy_Italia Europa Insieme_2018_neutral is: 166\n",
            "Length of Spain_Coalición Canaria - Nueva Canarias_2015_left is: 171\n",
            "Length of Germany_Sozialdemokratische Partei Deutschlands_2009_right is: 371\n",
            "Length of Italy_Casa delle Libertà_2001_right is: 185\n",
            "Length of France_Renaissance_2017_neutral is: 161\n",
            "Length of Italy_Südtiroler Volkspartei_2013_left is: 194\n",
            "Length of Spain_Partido Socialista Obrero Español_2016_right is: 722\n",
            "Length of Spain_Partido Socialista Obrero Español_2015_left is: 1894\n",
            "Length of Germany_Bündnis‘90/Die Grünen_2002_left is: 728\n",
            "Length of France_Union pour un Mouvement Populaire_2017_left is: 73\n",
            "Length of Spain_Convergència i Unió_2000_right is: 522\n",
            "Length of United Kingdom_Scottish National Party_1997_neutral is: 253\n",
            "Length of Spain_En marea_2016_right is: 16\n",
            "Length of Spain_Bloque Nacionalista Galego_2000_left is: 214\n",
            "Length of Germany_Alternative für Deutschland_2021_neutral is: 523\n",
            "Length of Germany_Die Linke.PDS_2005_right is: 60\n",
            "Length of United States_Republican Party_2016_neutral is: 594\n",
            "Length of Spain_Democràcia i Libertat_2015_right is: 236\n",
            "Length of Spain_Izquierda Unida_2011_right is: 103\n",
            "Length of Germany_Piraten_2013_left is: 765\n",
            "Length of United Kingdom_Social Democratic and Labour Party_2019_left is: 203\n",
            "Length of United Kingdom_Sinn Féin_2017_left is: 62\n",
            "Length of Spain_Convergència i Unió_2000_left is: 578\n",
            "Length of Germany_Freie Demokratische Partei_2002_neutral is: 877\n",
            "Length of France_Mouvement Démocrate_2017_left is: 204\n",
            "Length of Spain_Podemos_2019_left is: 1458\n",
            "Length of Spain_Unión, Progreso y Democracia_2011_right is: 72\n",
            "Length of United Kingdom_Democratic Unionist Party_2015_neutral is: 84\n",
            "Length of Spain_A la valencia_2015_right is: 124\n",
            "Length of United Kingdom_Scottish National Party_2015_left is: 401\n",
            "Length of Italy_Più Europa_2018_neutral is: 218\n",
            "Length of France_Parti Socialiste_2017_neutral is: 26\n",
            "Length of United Kingdom_Social Democratic and Labour Party_2019_right is: 72\n",
            "Length of France_Parti Radical de Gauche_2012_neutral is: 165\n",
            "Length of Spain_A la valencia_2015_neutral is: 715\n",
            "Length of United Kingdom_Scottish National Party_2017_right is: 135\n",
            "Length of Germany_Sozialdemokratische Partei Deutschlands_2017_right is: 536\n",
            "Length of Germany_Südschleswigscher Wählerverband - Sydslesvigsk Vælgerforening_2021_right is: 165\n",
            "Length of Spain_Euskal Herria Bildu_2015_right is: 30\n",
            "Length of United States_Republican Party_2016_right is: 1190\n",
            "Length of Spain_Compromís-Q_2011_left is: 545\n",
            "Length of Spain_Partido Andalucista_2004_neutral is: 2006\n",
            "Length of Spain_Partido Andalucista_2004_left is: 665\n",
            "Length of Spain_Euskal Herria Bildu_2016_right is: 42\n",
            "Length of United Kingdom_Liberal Democrats_2017_right is: 207\n",
            "Length of Italy_Il Popolo della Libertà_2008_left is: 63\n",
            "Length of Germany_Bündnis‘90/Die Grünen_2009_neutral is: 1502\n",
            "Length of United Kingdom_Sinn Féin_2017_right is: 40\n",
            "Length of Spain_Partido Socialista Obrero Español_2011_left is: 937\n",
            "Length of Spain_Partido Popular_2016_neutral is: 966\n",
            "Length of Germany_Freie Demokratische Partei_1998_neutral is: 651\n",
            "Length of United Kingdom_Sinn Féin_2015_left is: 64\n",
            "Length of United Kingdom_Liberal Democrats_1997_right is: 203\n",
            "Length of United Kingdom_Plaid Cymru_2015_left is: 328\n",
            "Length of France_Front National_2017_neutral is: 70\n",
            "Length of Spain_Partido Popular_2015_right is: 676\n",
            "Length of Germany_Christlich-Demokratische Union/Christlich-Soziale Union_2002_left is: 284\n",
            "Length of Spain_Esquerra Republicana de Catalunya_2015_right is: 52\n",
            "Length of Italy_Sinistra Ecologia Libertà_2013_left is: 285\n",
            "Length of Germany_Freie Demokratische Partei_2002_left is: 523\n",
            "Length of Spain_Partido Popular_2000_right is: 755\n",
            "Length of Italy_Partito Democratico_2018_left is: 412\n",
            "Length of France_La France insoumise_2017_neutral is: 276\n",
            "Length of Spain_Esquerra Republicana de Catalunya_2016_neutral is: 390\n",
            "Length of Spain_Coalición Canaria - Nueva Canarias_2008_right is: 159\n",
            "Length of United Kingdom_Conservative Party_2017_left is: 505\n",
            "Length of Italy_Lista Lavoro e Libertà_2013_right is: 78\n",
            "Length of Italy_Südtiroler Volkspartei_2013_right is: 218\n",
            "Length of United States_Republican Party_2012_right is: 813\n",
            "Length of Germany_Freie Demokratische Partei_2005_neutral is: 615\n",
            "Length of Spain_Coalición Canaria - Nueva Canarias_2015_neutral is: 367\n",
            "Length of Italy_Lega_2008_neutral is: 114\n",
            "Length of Germany_Bündnis‘90/Die Grünen_2005_right is: 342\n",
            "Length of Germany_Sozialdemokratische Partei Deutschlands_2017_left is: 1198\n",
            "Length of Spain_Més Compromís_2019_neutral is: 816\n",
            "Length of Germany_Alternative für Deutschland_2017_right is: 421\n",
            "Length of United States_Democratic Party_2016_right is: 313\n",
            "Length of Germany_Die Linke_2013_left is: 1315\n",
            "Length of Germany_Sozialdemokratische Partei Deutschlands_1998_left is: 321\n",
            "Length of Italy_Democrazia Europea_2001_left is: 56\n",
            "Length of Spain_Partido Nacionalista Vasco/Euzko Alderdi Jeltzalea_2016_neutral is: 192\n",
            "Length of United Kingdom_Democratic Unionist Party_2019_neutral is: 151\n",
            "Length of Italy_Liberi e Uguali_2018_right is: 42\n",
            "Length of Spain_En Comú Podem_2015_neutral is: 698\n",
            "Length of Italy_Centro Democratico_2013_left is: 77\n",
            "Length of United Kingdom_United Kingdom Independence Party_2015_right is: 372\n",
            "Length of France_Front National_2012_right is: 113\n",
            "Length of United Kingdom_Plaid Cymru_2015_neutral is: 363\n",
            "Length of Spain_Izquierda Unida_2000_right is: 438\n",
            "Length of Spain_Euskal Herria Bildu_2015_neutral is: 51\n",
            "Length of Spain_Més Compromís_2019_left is: 1117\n",
            "Length of Spain_Convergència i Unió_2000_neutral is: 1494\n",
            "Length of Spain_Unidad Popular_2015_neutral is: 609\n",
            "Length of Germany_Freie Demokratische Partei_2017_right is: 706\n",
            "Length of Germany_Die Linke.PDS_2005_left is: 279\n",
            "Length of Spain_Unidad Popular_2015_left is: 1119\n",
            "Length of Italy_Noi con l'Italia_2018_neutral is: 71\n",
            "Length of Spain_Partido Nacionalista Vasco/Euzko Alderdi Jeltzalea_2008_right is: 179\n",
            "Length of Spain_Compromís-Q_2011_right is: 100\n",
            "Length of Spain_Partido Nacionalista Vasco/Euzko Alderdi Jeltzalea_2015_left is: 137\n",
            "Length of Germany_Sozialdemokratische Partei Deutschlands_2013_neutral is: 978\n",
            "Length of Germany_Freie Demokratische Partei_2017_neutral is: 658\n",
            "Length of Spain_Izquierda Unida_2019_neutral is: 2502\n",
            "Length of Spain_Bloque Nacionalista Galego_2004_neutral is: 1245\n",
            "Length of Italy_Lega_2013_neutral is: 85\n",
            "Length of Germany_Christlich-Demokratische Union/Christlich-Soziale Union_2009_right is: 582\n",
            "Length of Germany_Bündnis‘90/Die Grünen_2013_right is: 787\n",
            "Length of Spain_Bloque Nacionalista Galego_2000_right is: 88\n",
            "Length of United Kingdom_Labour Party_2017_right is: 243\n",
            "Length of Italy_Il Popolo della Libertà_2013_left is: 64\n",
            "Length of United States_Republican Party_2016_left is: 408\n",
            "Length of Italy_Lega_2018_left is: 402\n",
            "Length of United Kingdom_Scottish National Party_2015_right is: 150\n",
            "Length of Spain_Partido Popular_2016_right is: 676\n"
          ]
        }
      ],
      "source": [
        "results = group_texts(manifesto, 'country_party_election_sentiment','text', group_factor = 3)"
      ]
    },
    {
      "cell_type": "code",
      "execution_count": null,
      "metadata": {},
      "outputs": [],
      "source": [
        "manifesto_regrouped = pd.DataFrame(results)\n",
        "manifesto_regrouped = manifesto_regrouped.explode('text').reset_index(drop=True)"
      ]
    },
    {
      "cell_type": "code",
      "execution_count": null,
      "metadata": {},
      "outputs": [],
      "source": [
        "df_cols = manifesto_regrouped['labels'].str.split('_', expand=True)\n",
        "manifesto_regrouped = pd.concat([manifesto_regrouped, df_cols], axis=1)"
      ]
    },
    {
      "cell_type": "code",
      "execution_count": null,
      "metadata": {},
      "outputs": [],
      "source": [
        "manifesto_regrouped.columns = ['text', 'country_party_election_sentiment', 'country','party', 'election', 'sentiment']"
      ]
    },
    {
      "cell_type": "code",
      "execution_count": null,
      "metadata": {},
      "outputs": [
        {
          "data": {
            "text/html": [
              "<div>\n",
              "<style scoped>\n",
              "    .dataframe tbody tr th:only-of-type {\n",
              "        vertical-align: middle;\n",
              "    }\n",
              "\n",
              "    .dataframe tbody tr th {\n",
              "        vertical-align: top;\n",
              "    }\n",
              "\n",
              "    .dataframe thead th {\n",
              "        text-align: right;\n",
              "    }\n",
              "</style>\n",
              "<table border=\"1\" class=\"dataframe\">\n",
              "  <thead>\n",
              "    <tr style=\"text-align: right;\">\n",
              "      <th></th>\n",
              "      <th>text</th>\n",
              "      <th>country_party_election_sentiment</th>\n",
              "      <th>country</th>\n",
              "      <th>party</th>\n",
              "      <th>election</th>\n",
              "      <th>sentiment</th>\n",
              "    </tr>\n",
              "  </thead>\n",
              "  <tbody>\n",
              "    <tr>\n",
              "      <th>0</th>\n",
              "      <td>En el marc d’aquest context excepcional, i dav...</td>\n",
              "      <td>Spain_Cadidatura d'Unitat Popular_2019_left</td>\n",
              "      <td>Spain</td>\n",
              "      <td>Cadidatura d'Unitat Popular</td>\n",
              "      <td>2019</td>\n",
              "      <td>left</td>\n",
              "    </tr>\n",
              "    <tr>\n",
              "      <th>1</th>\n",
              "      <td>Venim a tensar unes esquerres i uns independen...</td>\n",
              "      <td>Spain_Cadidatura d'Unitat Popular_2019_left</td>\n",
              "      <td>Spain</td>\n",
              "      <td>Cadidatura d'Unitat Popular</td>\n",
              "      <td>2019</td>\n",
              "      <td>left</td>\n",
              "    </tr>\n",
              "    <tr>\n",
              "      <th>2</th>\n",
              "      <td>La CUP-PR no participarà de forma habitual en ...</td>\n",
              "      <td>Spain_Cadidatura d'Unitat Popular_2019_left</td>\n",
              "      <td>Spain</td>\n",
              "      <td>Cadidatura d'Unitat Popular</td>\n",
              "      <td>2019</td>\n",
              "      <td>left</td>\n",
              "    </tr>\n",
              "    <tr>\n",
              "      <th>3</th>\n",
              "      <td>i combatrem, igualment, totes les seves expres...</td>\n",
              "      <td>Spain_Cadidatura d'Unitat Popular_2019_left</td>\n",
              "      <td>Spain</td>\n",
              "      <td>Cadidatura d'Unitat Popular</td>\n",
              "      <td>2019</td>\n",
              "      <td>left</td>\n",
              "    </tr>\n",
              "    <tr>\n",
              "      <th>4</th>\n",
              "      <td>denunciem un Estat espanyol, i tota la seva es...</td>\n",
              "      <td>Spain_Cadidatura d'Unitat Popular_2019_left</td>\n",
              "      <td>Spain</td>\n",
              "      <td>Cadidatura d'Unitat Popular</td>\n",
              "      <td>2019</td>\n",
              "      <td>left</td>\n",
              "    </tr>\n",
              "    <tr>\n",
              "      <th>...</th>\n",
              "      <td>...</td>\n",
              "      <td>...</td>\n",
              "      <td>...</td>\n",
              "      <td>...</td>\n",
              "      <td>...</td>\n",
              "      <td>...</td>\n",
              "    </tr>\n",
              "    <tr>\n",
              "      <th>96260</th>\n",
              "      <td>3 Continuaremos la labor de fomento de la igua...</td>\n",
              "      <td>Spain_Partido Popular_2016_right</td>\n",
              "      <td>Spain</td>\n",
              "      <td>Partido Popular</td>\n",
              "      <td>2016</td>\n",
              "      <td>right</td>\n",
              "    </tr>\n",
              "    <tr>\n",
              "      <th>96261</th>\n",
              "      <td>5  Fomentaremos campañas de sensibilización y ...</td>\n",
              "      <td>Spain_Partido Popular_2016_right</td>\n",
              "      <td>Spain</td>\n",
              "      <td>Partido Popular</td>\n",
              "      <td>2016</td>\n",
              "      <td>right</td>\n",
              "    </tr>\n",
              "    <tr>\n",
              "      <th>96262</th>\n",
              "      <td>8  Impulsaremos la coordinación entre los mini...</td>\n",
              "      <td>Spain_Partido Popular_2016_right</td>\n",
              "      <td>Spain</td>\n",
              "      <td>Partido Popular</td>\n",
              "      <td>2016</td>\n",
              "      <td>right</td>\n",
              "    </tr>\n",
              "    <tr>\n",
              "      <th>96263</th>\n",
              "      <td>Estableceremos un marco legal que implante un ...</td>\n",
              "      <td>Spain_Partido Popular_2016_right</td>\n",
              "      <td>Spain</td>\n",
              "      <td>Partido Popular</td>\n",
              "      <td>2016</td>\n",
              "      <td>right</td>\n",
              "    </tr>\n",
              "    <tr>\n",
              "      <th>96264</th>\n",
              "      <td>11  Seguiremos dotando a nuestras fuerzas arma...</td>\n",
              "      <td>Spain_Partido Popular_2016_right</td>\n",
              "      <td>Spain</td>\n",
              "      <td>Partido Popular</td>\n",
              "      <td>2016</td>\n",
              "      <td>right</td>\n",
              "    </tr>\n",
              "  </tbody>\n",
              "</table>\n",
              "<p>96265 rows × 6 columns</p>\n",
              "</div>"
            ],
            "text/plain": [
              "                                                    text  \\\n",
              "0      En el marc d’aquest context excepcional, i dav...   \n",
              "1      Venim a tensar unes esquerres i uns independen...   \n",
              "2      La CUP-PR no participarà de forma habitual en ...   \n",
              "3      i combatrem, igualment, totes les seves expres...   \n",
              "4      denunciem un Estat espanyol, i tota la seva es...   \n",
              "...                                                  ...   \n",
              "96260  3 Continuaremos la labor de fomento de la igua...   \n",
              "96261  5  Fomentaremos campañas de sensibilización y ...   \n",
              "96262  8  Impulsaremos la coordinación entre los mini...   \n",
              "96263  Estableceremos un marco legal que implante un ...   \n",
              "96264  11  Seguiremos dotando a nuestras fuerzas arma...   \n",
              "\n",
              "                  country_party_election_sentiment country  \\\n",
              "0      Spain_Cadidatura d'Unitat Popular_2019_left   Spain   \n",
              "1      Spain_Cadidatura d'Unitat Popular_2019_left   Spain   \n",
              "2      Spain_Cadidatura d'Unitat Popular_2019_left   Spain   \n",
              "3      Spain_Cadidatura d'Unitat Popular_2019_left   Spain   \n",
              "4      Spain_Cadidatura d'Unitat Popular_2019_left   Spain   \n",
              "...                                            ...     ...   \n",
              "96260             Spain_Partido Popular_2016_right   Spain   \n",
              "96261             Spain_Partido Popular_2016_right   Spain   \n",
              "96262             Spain_Partido Popular_2016_right   Spain   \n",
              "96263             Spain_Partido Popular_2016_right   Spain   \n",
              "96264             Spain_Partido Popular_2016_right   Spain   \n",
              "\n",
              "                             party election sentiment  \n",
              "0      Cadidatura d'Unitat Popular     2019      left  \n",
              "1      Cadidatura d'Unitat Popular     2019      left  \n",
              "2      Cadidatura d'Unitat Popular     2019      left  \n",
              "3      Cadidatura d'Unitat Popular     2019      left  \n",
              "4      Cadidatura d'Unitat Popular     2019      left  \n",
              "...                            ...      ...       ...  \n",
              "96260              Partido Popular     2016     right  \n",
              "96261              Partido Popular     2016     right  \n",
              "96262              Partido Popular     2016     right  \n",
              "96263              Partido Popular     2016     right  \n",
              "96264              Partido Popular     2016     right  \n",
              "\n",
              "[96265 rows x 6 columns]"
            ]
          },
          "execution_count": 26,
          "metadata": {},
          "output_type": "execute_result"
        }
      ],
      "source": [
        "manifesto_regrouped"
      ]
    },
    {
      "attachments": {},
      "cell_type": "markdown",
      "metadata": {},
      "source": [
        "### Classification with xlm-roberta-base"
      ]
    },
    {
      "cell_type": "code",
      "execution_count": null,
      "metadata": {},
      "outputs": [
        {
          "name": "stderr",
          "output_type": "stream",
          "text": [
            "Some weights of the model checkpoint at xlm-roberta-base were not used when initializing XLMRobertaModel: ['lm_head.decoder.weight', 'lm_head.layer_norm.bias', 'lm_head.bias', 'lm_head.layer_norm.weight', 'lm_head.dense.weight', 'lm_head.dense.bias']\n",
            "- This IS expected if you are initializing XLMRobertaModel from the checkpoint of a model trained on another task or with another architecture (e.g. initializing a BertForSequenceClassification model from a BertForPreTraining model).\n",
            "- This IS NOT expected if you are initializing XLMRobertaModel from the checkpoint of a model that you expect to be exactly identical (initializing a BertForSequenceClassification model from a BertForSequenceClassification model).\n"
          ]
        }
      ],
      "source": [
        "model_name = 'xlm-roberta-base'\n",
        "tokenizer = AutoTokenizer.from_pretrained(model_name)\n",
        "data_collator = DataCollatorWithPadding(tokenizer)"
      ]
    },
    {
      "cell_type": "code",
      "execution_count": null,
      "metadata": {},
      "outputs": [],
      "source": [
        "manifesto_reduced = manifesto_regrouped[['sentiment','text']]"
      ]
    },
    {
      "cell_type": "code",
      "execution_count": null,
      "metadata": {},
      "outputs": [
        {
          "name": "stderr",
          "output_type": "stream",
          "text": [
            "Parameter 'function'=<function Dataset.class_encode_column.<locals>.cast_to_class_labels at 0x0000017788F949D0> of the transform datasets.arrow_dataset.Dataset._map_single couldn't be hashed properly, a random hash was used instead. Make sure your transforms and parameters are serializable with pickle or dill for the dataset fingerprinting and caching to work. If you reuse this transform, the caching mechanism will consider it to be different from the previous calls and recompute everything. This warning is only showed once. Subsequent hashing failures won't be showed.\n"
          ]
        },
        {
          "data": {
            "application/vnd.jupyter.widget-view+json": {
              "model_id": "db1dc18006ca4184a874786c2799e260",
              "version_major": 2,
              "version_minor": 0
            },
            "text/plain": [
              "Casting to class labels:   0%|          | 0/97 [00:00<?, ?ba/s]"
            ]
          },
          "metadata": {},
          "output_type": "display_data"
        },
        {
          "data": {
            "application/vnd.jupyter.widget-view+json": {
              "model_id": "5ba90d034aaa4a5cab3c3611dffc647f",
              "version_major": 2,
              "version_minor": 0
            },
            "text/plain": [
              "Casting the dataset:   0%|          | 0/10 [00:00<?, ?ba/s]"
            ]
          },
          "metadata": {},
          "output_type": "display_data"
        }
      ],
      "source": [
        "manifesto_dataset = Dataset.from_pandas(manifesto_reduced)\n",
        "manifesto_dataset = manifesto_dataset.class_encode_column('sentiment')\n",
        "manifesto_dataset = manifesto_dataset.rename_column('sentiment','labels')\n",
        "\n"
      ]
    },
    {
      "cell_type": "code",
      "execution_count": null,
      "metadata": {},
      "outputs": [],
      "source": [
        "train_test = manifesto_dataset.train_test_split(test_size=0.1, stratify_by_column='labels', seed=seed_val)\n",
        "train_eval = train_test['train'].train_test_split(test_size=0.3, stratify_by_column='labels', seed=seed_val)"
      ]
    },
    {
      "cell_type": "code",
      "execution_count": null,
      "metadata": {},
      "outputs": [
        {
          "data": {
            "text/plain": [
              "DatasetDict({\n",
              "    train: Dataset({\n",
              "        features: ['labels', 'text'],\n",
              "        num_rows: 60646\n",
              "    })\n",
              "    test: Dataset({\n",
              "        features: ['labels', 'text'],\n",
              "        num_rows: 9627\n",
              "    })\n",
              "    eval: Dataset({\n",
              "        features: ['labels', 'text'],\n",
              "        num_rows: 25992\n",
              "    })\n",
              "})"
            ]
          },
          "execution_count": 31,
          "metadata": {},
          "output_type": "execute_result"
        }
      ],
      "source": [
        "manifesto_datasets = DatasetDict({\n",
        "    'train': train_eval['train'],\n",
        "    'test': train_test['test'],\n",
        "    'eval': train_eval['test']\n",
        "})\n",
        "manifesto_datasets"
      ]
    },
    {
      "cell_type": "code",
      "execution_count": null,
      "metadata": {},
      "outputs": [],
      "source": [
        "train_df = Dataset.to_pandas(manifesto_datasets['train'])"
      ]
    },
    {
      "cell_type": "code",
      "execution_count": null,
      "metadata": {},
      "outputs": [
        {
          "name": "stdout",
          "output_type": "stream",
          "text": [
            "[0.82717514 0.81923056 1.75312925]\n"
          ]
        }
      ],
      "source": [
        "from sklearn.utils import class_weight\n",
        "class_weights = class_weight.compute_class_weight(class_weight='balanced', classes=np.unique(train_df.labels),y=train_df['labels'].tolist())\n",
        "print(class_weights)\n"
      ]
    },
    {
      "cell_type": "code",
      "execution_count": null,
      "metadata": {},
      "outputs": [],
      "source": [
        "def tokenize_function(dataset):\n",
        "    return tokenizer(dataset['text'], truncation=True)\n"
      ]
    },
    {
      "cell_type": "code",
      "execution_count": null,
      "metadata": {},
      "outputs": [
        {
          "data": {
            "application/vnd.jupyter.widget-view+json": {
              "model_id": "bca4b00ee75f4145b5bc88e5d19ded88",
              "version_major": 2,
              "version_minor": 0
            },
            "text/plain": [
              "  0%|          | 0/61 [00:00<?, ?ba/s]"
            ]
          },
          "metadata": {},
          "output_type": "display_data"
        },
        {
          "data": {
            "application/vnd.jupyter.widget-view+json": {
              "model_id": "6448b7d4c77244e693574c2a7a75d501",
              "version_major": 2,
              "version_minor": 0
            },
            "text/plain": [
              "  0%|          | 0/10 [00:00<?, ?ba/s]"
            ]
          },
          "metadata": {},
          "output_type": "display_data"
        },
        {
          "data": {
            "application/vnd.jupyter.widget-view+json": {
              "model_id": "434fb23c49cf4f95a019ccb965ea69a9",
              "version_major": 2,
              "version_minor": 0
            },
            "text/plain": [
              "  0%|          | 0/26 [00:00<?, ?ba/s]"
            ]
          },
          "metadata": {},
          "output_type": "display_data"
        }
      ],
      "source": [
        "tokenized_datasets = manifesto_datasets.map(tokenize_function, batched=True, remove_columns=['text'])"
      ]
    },
    {
      "cell_type": "code",
      "execution_count": null,
      "metadata": {},
      "outputs": [
        {
          "data": {
            "text/plain": [
              "['labels', 'input_ids', 'attention_mask']"
            ]
          },
          "execution_count": 36,
          "metadata": {},
          "output_type": "execute_result"
        }
      ],
      "source": [
        "tokenized_datasets.set_format(\"torch\")\n",
        "tokenized_datasets[\"train\"].column_names"
      ]
    },
    {
      "cell_type": "code",
      "execution_count": null,
      "metadata": {},
      "outputs": [
        {
          "name": "stderr",
          "output_type": "stream",
          "text": [
            "loading configuration file config.json from cache at C:\\Users\\Hung/.cache\\huggingface\\hub\\models--xlm-roberta-base\\snapshots\\77de1f7a7e5e737aead1cd880979d4f1b3af6668\\config.json\n",
            "Model config XLMRobertaConfig {\n",
            "  \"architectures\": [\n",
            "    \"XLMRobertaForMaskedLM\"\n",
            "  ],\n",
            "  \"attention_probs_dropout_prob\": 0.1,\n",
            "  \"bos_token_id\": 0,\n",
            "  \"classifier_dropout\": null,\n",
            "  \"eos_token_id\": 2,\n",
            "  \"hidden_act\": \"gelu\",\n",
            "  \"hidden_dropout_prob\": 0.1,\n",
            "  \"hidden_size\": 768,\n",
            "  \"id2label\": {\n",
            "    \"0\": \"LABEL_0\",\n",
            "    \"1\": \"LABEL_1\",\n",
            "    \"2\": \"LABEL_2\"\n",
            "  },\n",
            "  \"initializer_range\": 0.02,\n",
            "  \"intermediate_size\": 3072,\n",
            "  \"label2id\": {\n",
            "    \"LABEL_0\": 0,\n",
            "    \"LABEL_1\": 1,\n",
            "    \"LABEL_2\": 2\n",
            "  },\n",
            "  \"layer_norm_eps\": 1e-05,\n",
            "  \"max_position_embeddings\": 514,\n",
            "  \"model_type\": \"xlm-roberta\",\n",
            "  \"num_attention_heads\": 12,\n",
            "  \"num_hidden_layers\": 12,\n",
            "  \"output_past\": true,\n",
            "  \"pad_token_id\": 1,\n",
            "  \"position_embedding_type\": \"absolute\",\n",
            "  \"transformers_version\": \"4.25.1\",\n",
            "  \"type_vocab_size\": 1,\n",
            "  \"use_cache\": true,\n",
            "  \"vocab_size\": 250002\n",
            "}\n",
            "\n",
            "loading weights file pytorch_model.bin from cache at C:\\Users\\Hung/.cache\\huggingface\\hub\\models--xlm-roberta-base\\snapshots\\77de1f7a7e5e737aead1cd880979d4f1b3af6668\\pytorch_model.bin\n",
            "Some weights of the model checkpoint at xlm-roberta-base were not used when initializing XLMRobertaForSequenceClassification: ['lm_head.decoder.weight', 'roberta.pooler.dense.weight', 'lm_head.layer_norm.bias', 'lm_head.bias', 'lm_head.layer_norm.weight', 'lm_head.dense.weight', 'roberta.pooler.dense.bias', 'lm_head.dense.bias']\n",
            "- This IS expected if you are initializing XLMRobertaForSequenceClassification from the checkpoint of a model trained on another task or with another architecture (e.g. initializing a BertForSequenceClassification model from a BertForPreTraining model).\n",
            "- This IS NOT expected if you are initializing XLMRobertaForSequenceClassification from the checkpoint of a model that you expect to be exactly identical (initializing a BertForSequenceClassification model from a BertForSequenceClassification model).\n",
            "Some weights of XLMRobertaForSequenceClassification were not initialized from the model checkpoint at xlm-roberta-base and are newly initialized: ['classifier.dense.bias', 'classifier.dense.weight', 'classifier.out_proj.bias', 'classifier.out_proj.weight']\n",
            "You should probably TRAIN this model on a down-stream task to be able to use it for predictions and inference.\n"
          ]
        }
      ],
      "source": [
        "num_classes = len(set(manifesto['sentiment']))\n",
        "model = XLMRobertaForSequenceClassification.from_pretrained(model_name, num_labels=num_classes).to(device)\n"
      ]
    },
    {
      "cell_type": "code",
      "execution_count": null,
      "metadata": {},
      "outputs": [],
      "source": [
        "class CustomTrainer(Trainer):\n",
        "    def compute_loss(self, model, inputs, return_outputs=False):\n",
        "        labels = inputs.get(\"labels\")\n",
        "        # forward pass\n",
        "        outputs = model(**inputs)\n",
        "        logits = outputs.get(\"logits\")\n",
        "        loss_fct = nn.CrossEntropyLoss(weight=torch.tensor(class_weights).float().to(device))\n",
        "        loss = loss_fct(logits.view(-1, self.model.config.num_labels), labels.view(-1))\n",
        "        return (loss, outputs) if return_outputs else loss"
      ]
    },
    {
      "cell_type": "code",
      "execution_count": null,
      "metadata": {},
      "outputs": [],
      "source": [
        "## Declare important variables\n",
        "batch_size = 32\n",
        "num_epochs = 3\n",
        "total_steps = len(tokenized_datasets['train'])//batch_size*num_epochs\n",
        "logging_steps = total_steps//10\n",
        "lr = 2e-5"
      ]
    },
    {
      "cell_type": "code",
      "execution_count": null,
      "metadata": {},
      "outputs": [
        {
          "name": "stderr",
          "output_type": "stream",
          "text": [
            "PyTorch: setting up devices\n",
            "The default value for the training argument `--report_to` will change in v5 (from all installed integrations to none). In v5, you will need to use `--report_to all` to get the same behavior as now. You should start updating your code and make this info disappear :-).\n"
          ]
        }
      ],
      "source": [
        "training_args = TrainingArguments(\n",
        "    output_dir=\"results/multilingual/manifesto_3cl\",\n",
        "    overwrite_output_dir=True,\n",
        "    evaluation_strategy=\"epoch\",\n",
        "    learning_rate=lr,\n",
        "    weight_decay=0.01,\n",
        "    per_device_train_batch_size=batch_size,\n",
        "    per_device_eval_batch_size=batch_size,\n",
        "    fp16=True,\n",
        "    logging_steps= logging_steps,\n",
        "    num_train_epochs = num_epochs,\n",
        "    save_strategy='epoch',\n",
        "    load_best_model_at_end=True,\n",
        "    optim='adamw_torch'\n",
        ")"
      ]
    },
    {
      "cell_type": "code",
      "execution_count": null,
      "metadata": {},
      "outputs": [
        {
          "name": "stderr",
          "output_type": "stream",
          "text": [
            "Using cuda_amp half precision backend\n"
          ]
        }
      ],
      "source": [
        "def compute_metrics(eval_preds):\n",
        "    logits, labels = eval_preds\n",
        "    predictions = np.argmax(logits, axis=-1)\n",
        "    precision, recall, f1, _ = precision_recall_fscore_support(labels, predictions, average=None)\n",
        "    matrix = confusion_matrix(labels, predictions)\n",
        "    acc = matrix.diagonal()/matrix.sum(axis=1)\n",
        "    return {\n",
        "        'precision': precision.tolist(),\n",
        "        'recall': recall.tolist(),\n",
        "        'f1': f1.tolist(),\n",
        "        'accuracy': acc.tolist()\n",
        "    }\n",
        "trainer = CustomTrainer(\n",
        "    model,\n",
        "    training_args,\n",
        "    train_dataset=tokenized_datasets[\"train\"],\n",
        "    eval_dataset=tokenized_datasets[\"eval\"],\n",
        "    tokenizer=tokenizer,\n",
        "    compute_metrics=compute_metrics,\n",
        "    data_collator=data_collator\n",
        ")"
      ]
    },
    {
      "cell_type": "code",
      "execution_count": null,
      "metadata": {},
      "outputs": [
        {
          "name": "stderr",
          "output_type": "stream",
          "text": [
            "***** Running training *****\n",
            "  Num examples = 60646\n",
            "  Num Epochs = 3\n",
            "  Instantaneous batch size per device = 32\n",
            "  Total train batch size (w. parallel, distributed & accumulation) = 32\n",
            "  Gradient Accumulation steps = 1\n",
            "  Total optimization steps = 5688\n",
            "  Number of trainable parameters = 278045955\n"
          ]
        },
        {
          "data": {
            "application/vnd.jupyter.widget-view+json": {
              "model_id": "7fbe44b346c1421a8d5d22ac86b1fd1c",
              "version_major": 2,
              "version_minor": 0
            },
            "text/plain": [
              "  0%|          | 0/5688 [00:00<?, ?it/s]"
            ]
          },
          "metadata": {},
          "output_type": "display_data"
        },
        {
          "name": "stdout",
          "output_type": "stream",
          "text": [
            "{'loss': 0.8023, 'learning_rate': 1.8013361462728552e-05, 'epoch': 0.3}\n",
            "{'loss': 0.6349, 'learning_rate': 1.6016174402250353e-05, 'epoch': 0.6}\n",
            "{'loss': 0.5801, 'learning_rate': 1.4029535864978905e-05, 'epoch': 0.9}\n"
          ]
        },
        {
          "name": "stderr",
          "output_type": "stream",
          "text": [
            "***** Running Evaluation *****\n",
            "  Num examples = 25992\n",
            "  Batch size = 32\n"
          ]
        },
        {
          "data": {
            "application/vnd.jupyter.widget-view+json": {
              "model_id": "6b60f155c8124ac1a418d7a86db09738",
              "version_major": 2,
              "version_minor": 0
            },
            "text/plain": [
              "  0%|          | 0/813 [00:00<?, ?it/s]"
            ]
          },
          "metadata": {},
          "output_type": "display_data"
        },
        {
          "name": "stderr",
          "output_type": "stream",
          "text": [
            "Trainer is attempting to log a value of \"[0.8033654755152203, 0.7778274474742959, 0.7685031922440293]\" of type <class 'list'> for key \"eval/precision\" as a scalar. This invocation of Tensorboard's writer.add_scalar() is incorrect so we dropped this attribute.\n",
            "Trainer is attempting to log a value of \"[0.8113423715867863, 0.8226172465960666, 0.6576284904896803]\" of type <class 'list'> for key \"eval/recall\" as a scalar. This invocation of Tensorboard's writer.add_scalar() is incorrect so we dropped this attribute.\n",
            "Trainer is attempting to log a value of \"[0.8073342200266008, 0.7995956068195396, 0.7087558608657726]\" of type <class 'list'> for key \"eval/f1\" as a scalar. This invocation of Tensorboard's writer.add_scalar() is incorrect so we dropped this attribute.\n",
            "Trainer is attempting to log a value of \"[0.8113423715867863, 0.8226172465960666, 0.6576284904896803]\" of type <class 'list'> for key \"eval/accuracy\" as a scalar. This invocation of Tensorboard's writer.add_scalar() is incorrect so we dropped this attribute.\n",
            "Saving model checkpoint to results/multilingual/manifesto_3cl\\checkpoint-1896\n",
            "Configuration saved in results/multilingual/manifesto_3cl\\checkpoint-1896\\config.json\n"
          ]
        },
        {
          "name": "stdout",
          "output_type": "stream",
          "text": [
            "{'eval_loss': 0.5397358536720276, 'eval_precision': [0.8033654755152203, 0.7778274474742959, 0.7685031922440293], 'eval_recall': [0.8113423715867863, 0.8226172465960666, 0.6576284904896803], 'eval_f1': [0.8073342200266008, 0.7995956068195396, 0.7087558608657726], 'eval_accuracy': [0.8113423715867863, 0.8226172465960666, 0.6576284904896803], 'eval_runtime': 39.1996, 'eval_samples_per_second': 663.068, 'eval_steps_per_second': 20.74, 'epoch': 1.0}\n"
          ]
        },
        {
          "name": "stderr",
          "output_type": "stream",
          "text": [
            "Model weights saved in results/multilingual/manifesto_3cl\\checkpoint-1896\\pytorch_model.bin\n",
            "tokenizer config file saved in results/multilingual/manifesto_3cl\\checkpoint-1896\\tokenizer_config.json\n",
            "Special tokens file saved in results/multilingual/manifesto_3cl\\checkpoint-1896\\special_tokens_map.json\n"
          ]
        },
        {
          "name": "stdout",
          "output_type": "stream",
          "text": [
            "{'loss': 0.5089, 'learning_rate': 1.2032348804500704e-05, 'epoch': 1.2}\n",
            "{'loss': 0.4607, 'learning_rate': 1.0035161744022504e-05, 'epoch': 1.5}\n",
            "{'loss': 0.4498, 'learning_rate': 8.041490857946555e-06, 'epoch': 1.8}\n"
          ]
        },
        {
          "name": "stderr",
          "output_type": "stream",
          "text": [
            "***** Running Evaluation *****\n",
            "  Num examples = 25992\n",
            "  Batch size = 32\n"
          ]
        },
        {
          "data": {
            "application/vnd.jupyter.widget-view+json": {
              "model_id": "ef46c472575c48a2b0c9a645ffaac4bf",
              "version_major": 2,
              "version_minor": 0
            },
            "text/plain": [
              "  0%|          | 0/813 [00:00<?, ?it/s]"
            ]
          },
          "metadata": {},
          "output_type": "display_data"
        },
        {
          "name": "stderr",
          "output_type": "stream",
          "text": [
            "Trainer is attempting to log a value of \"[0.8301184110007639, 0.8464311463590483, 0.6890380313199105]\" of type <class 'list'> for key \"eval/precision\" as a scalar. This invocation of Tensorboard's writer.add_scalar() is incorrect so we dropped this attribute.\n",
            "Trainer is attempting to log a value of \"[0.8299599007065114, 0.7770423600605144, 0.8101983002832861]\" of type <class 'list'> for key \"eval/recall\" as a scalar. This invocation of Tensorboard's writer.add_scalar() is incorrect so we dropped this attribute.\n",
            "Trainer is attempting to log a value of \"[0.830039148286069, 0.81025388217895, 0.7447224030503116]\" of type <class 'list'> for key \"eval/f1\" as a scalar. This invocation of Tensorboard's writer.add_scalar() is incorrect so we dropped this attribute.\n",
            "Trainer is attempting to log a value of \"[0.8299599007065114, 0.7770423600605144, 0.8101983002832861]\" of type <class 'list'> for key \"eval/accuracy\" as a scalar. This invocation of Tensorboard's writer.add_scalar() is incorrect so we dropped this attribute.\n",
            "Saving model checkpoint to results/multilingual/manifesto_3cl\\checkpoint-3792\n",
            "Configuration saved in results/multilingual/manifesto_3cl\\checkpoint-3792\\config.json\n"
          ]
        },
        {
          "name": "stdout",
          "output_type": "stream",
          "text": [
            "{'eval_loss': 0.49850550293922424, 'eval_precision': [0.8301184110007639, 0.8464311463590483, 0.6890380313199105], 'eval_recall': [0.8299599007065114, 0.7770423600605144, 0.8101983002832861], 'eval_f1': [0.830039148286069, 0.81025388217895, 0.7447224030503116], 'eval_accuracy': [0.8299599007065114, 0.7770423600605144, 0.8101983002832861], 'eval_runtime': 39.3432, 'eval_samples_per_second': 660.648, 'eval_steps_per_second': 20.664, 'epoch': 2.0}\n"
          ]
        },
        {
          "name": "stderr",
          "output_type": "stream",
          "text": [
            "Model weights saved in results/multilingual/manifesto_3cl\\checkpoint-3792\\pytorch_model.bin\n",
            "tokenizer config file saved in results/multilingual/manifesto_3cl\\checkpoint-3792\\tokenizer_config.json\n",
            "Special tokens file saved in results/multilingual/manifesto_3cl\\checkpoint-3792\\special_tokens_map.json\n"
          ]
        },
        {
          "name": "stdout",
          "output_type": "stream",
          "text": [
            "{'loss': 0.4242, 'learning_rate': 6.044303797468355e-06, 'epoch': 2.1}\n",
            "{'loss': 0.3685, 'learning_rate': 4.047116736990155e-06, 'epoch': 2.4}\n",
            "{'loss': 0.3536, 'learning_rate': 2.0499296765119553e-06, 'epoch': 2.7}\n",
            "{'loss': 0.3391, 'learning_rate': 5.2742616033755277e-08, 'epoch': 3.0}\n"
          ]
        },
        {
          "name": "stderr",
          "output_type": "stream",
          "text": [
            "***** Running Evaluation *****\n",
            "  Num examples = 25992\n",
            "  Batch size = 32\n"
          ]
        },
        {
          "data": {
            "application/vnd.jupyter.widget-view+json": {
              "model_id": "e579a00e251440e6a5a3820d6a6d4a8b",
              "version_major": 2,
              "version_minor": 0
            },
            "text/plain": [
              "  0%|          | 0/813 [00:00<?, ?it/s]"
            ]
          },
          "metadata": {},
          "output_type": "display_data"
        },
        {
          "name": "stderr",
          "output_type": "stream",
          "text": [
            "Trainer is attempting to log a value of \"[0.8295348402764805, 0.8342225240081482, 0.755877034358047]\" of type <class 'list'> for key \"eval/precision\" as a scalar. This invocation of Tensorboard's writer.add_scalar() is incorrect so we dropped this attribute.\n",
            "Trainer is attempting to log a value of \"[0.8479091082680924, 0.813161875945537, 0.7612302711452853]\" of type <class 'list'> for key \"eval/recall\" as a scalar. This invocation of Tensorboard's writer.add_scalar() is incorrect so we dropped this attribute.\n",
            "Trainer is attempting to log a value of \"[0.8386213408876299, 0.8235575772085229, 0.7585442080854925]\" of type <class 'list'> for key \"eval/f1\" as a scalar. This invocation of Tensorboard's writer.add_scalar() is incorrect so we dropped this attribute.\n",
            "Trainer is attempting to log a value of \"[0.8479091082680924, 0.813161875945537, 0.7612302711452853]\" of type <class 'list'> for key \"eval/accuracy\" as a scalar. This invocation of Tensorboard's writer.add_scalar() is incorrect so we dropped this attribute.\n",
            "Saving model checkpoint to results/multilingual/manifesto_3cl\\checkpoint-5688\n",
            "Configuration saved in results/multilingual/manifesto_3cl\\checkpoint-5688\\config.json\n"
          ]
        },
        {
          "name": "stdout",
          "output_type": "stream",
          "text": [
            "{'eval_loss': 0.5100611448287964, 'eval_precision': [0.8295348402764805, 0.8342225240081482, 0.755877034358047], 'eval_recall': [0.8479091082680924, 0.813161875945537, 0.7612302711452853], 'eval_f1': [0.8386213408876299, 0.8235575772085229, 0.7585442080854925], 'eval_accuracy': [0.8479091082680924, 0.813161875945537, 0.7612302711452853], 'eval_runtime': 41.3527, 'eval_samples_per_second': 628.545, 'eval_steps_per_second': 19.66, 'epoch': 3.0}\n"
          ]
        },
        {
          "name": "stderr",
          "output_type": "stream",
          "text": [
            "Model weights saved in results/multilingual/manifesto_3cl\\checkpoint-5688\\pytorch_model.bin\n",
            "tokenizer config file saved in results/multilingual/manifesto_3cl\\checkpoint-5688\\tokenizer_config.json\n",
            "Special tokens file saved in results/multilingual/manifesto_3cl\\checkpoint-5688\\special_tokens_map.json\n",
            "\n",
            "\n",
            "Training completed. Do not forget to share your model on huggingface.co/models =)\n",
            "\n",
            "\n",
            "Loading best model from results/multilingual/manifesto_3cl\\checkpoint-3792 (score: 0.49850550293922424).\n"
          ]
        },
        {
          "name": "stdout",
          "output_type": "stream",
          "text": [
            "{'train_runtime': 1214.6146, 'train_samples_per_second': 149.791, 'train_steps_per_second': 4.683, 'train_loss': 0.4919193154397393, 'epoch': 3.0}\n"
          ]
        },
        {
          "data": {
            "text/plain": [
              "TrainOutput(global_step=5688, training_loss=0.4919193154397393, metrics={'train_runtime': 1214.6146, 'train_samples_per_second': 149.791, 'train_steps_per_second': 4.683, 'train_loss': 0.4919193154397393, 'epoch': 3.0})"
            ]
          },
          "execution_count": 53,
          "metadata": {},
          "output_type": "execute_result"
        }
      ],
      "source": [
        "trainer.train()"
      ]
    },
    {
      "cell_type": "code",
      "execution_count": null,
      "metadata": {},
      "outputs": [
        {
          "name": "stderr",
          "output_type": "stream",
          "text": [
            "***** Running Evaluation *****\n",
            "  Num examples = 9627\n",
            "  Batch size = 32\n"
          ]
        },
        {
          "data": {
            "application/vnd.jupyter.widget-view+json": {
              "model_id": "5d78e1a53a544fb692d913c9de71a726",
              "version_major": 2,
              "version_minor": 0
            },
            "text/plain": [
              "  0%|          | 0/301 [00:00<?, ?it/s]"
            ]
          },
          "metadata": {},
          "output_type": "display_data"
        },
        {
          "name": "stderr",
          "output_type": "stream",
          "text": [
            "Trainer is attempting to log a value of \"[0.8469760166840459, 0.8484848484848485, 0.6856203007518797]\" of type <class 'list'> for key \"eval/precision\" as a scalar. This invocation of Tensorboard's writer.add_scalar() is incorrect so we dropped this attribute.\n",
            "Trainer is attempting to log a value of \"[0.8373711340206186, 0.7934643860097013, 0.7972677595628416]\" of type <class 'list'> for key \"eval/recall\" as a scalar. This invocation of Tensorboard's writer.add_scalar() is incorrect so we dropped this attribute.\n",
            "Trainer is attempting to log a value of \"[0.8421461897356143, 0.8200527704485487, 0.7372410308236483]\" of type <class 'list'> for key \"eval/f1\" as a scalar. This invocation of Tensorboard's writer.add_scalar() is incorrect so we dropped this attribute.\n",
            "Trainer is attempting to log a value of \"[0.8373711340206186, 0.7934643860097013, 0.7972677595628416]\" of type <class 'list'> for key \"eval/accuracy\" as a scalar. This invocation of Tensorboard's writer.add_scalar() is incorrect so we dropped this attribute.\n"
          ]
        },
        {
          "name": "stdout",
          "output_type": "stream",
          "text": [
            "0.799813330335937\n"
          ]
        }
      ],
      "source": [
        "res = trainer.evaluate(tokenized_datasets['test'])\n",
        "print(sum(res['eval_f1'])/num_classes)"
      ]
    },
    {
      "cell_type": "code",
      "execution_count": null,
      "metadata": {},
      "outputs": [
        {
          "data": {
            "text/html": [
              "<div>\n",
              "<style scoped>\n",
              "    .dataframe tbody tr th:only-of-type {\n",
              "        vertical-align: middle;\n",
              "    }\n",
              "\n",
              "    .dataframe tbody tr th {\n",
              "        vertical-align: top;\n",
              "    }\n",
              "\n",
              "    .dataframe thead th {\n",
              "        text-align: right;\n",
              "    }\n",
              "</style>\n",
              "<table border=\"1\" class=\"dataframe\">\n",
              "  <thead>\n",
              "    <tr style=\"text-align: right;\">\n",
              "      <th></th>\n",
              "      <th>f1</th>\n",
              "      <th>precision</th>\n",
              "      <th>recall</th>\n",
              "      <th>accuracy</th>\n",
              "    </tr>\n",
              "  </thead>\n",
              "  <tbody>\n",
              "    <tr>\n",
              "      <th>0</th>\n",
              "      <td>0.84</td>\n",
              "      <td>0.85</td>\n",
              "      <td>0.84</td>\n",
              "      <td>0.84</td>\n",
              "    </tr>\n",
              "    <tr>\n",
              "      <th>1</th>\n",
              "      <td>0.82</td>\n",
              "      <td>0.85</td>\n",
              "      <td>0.79</td>\n",
              "      <td>0.79</td>\n",
              "    </tr>\n",
              "    <tr>\n",
              "      <th>2</th>\n",
              "      <td>0.74</td>\n",
              "      <td>0.69</td>\n",
              "      <td>0.80</td>\n",
              "      <td>0.80</td>\n",
              "    </tr>\n",
              "  </tbody>\n",
              "</table>\n",
              "</div>"
            ],
            "text/plain": [
              "     f1  precision  recall  accuracy\n",
              "0  0.84       0.85    0.84      0.84\n",
              "1  0.82       0.85    0.79      0.79\n",
              "2  0.74       0.69    0.80      0.80"
            ]
          },
          "execution_count": 55,
          "metadata": {},
          "output_type": "execute_result"
        }
      ],
      "source": [
        "res_table = pd.DataFrame({'f1': np.round(res['eval_f1'],2), 'precision': np.round(res['eval_precision'],2), \n",
        "'recall': np.round(res['eval_recall'],2), 'accuracy': np.round(res['eval_accuracy'],2)})\n",
        "res_table"
      ]
    },
    {
      "cell_type": "code",
      "execution_count": null,
      "metadata": {},
      "outputs": [
        {
          "data": {
            "text/plain": [
              "f1           0.80\n",
              "precision    0.80\n",
              "recall       0.81\n",
              "accuracy     0.81\n",
              "dtype: float64"
            ]
          },
          "execution_count": 56,
          "metadata": {},
          "output_type": "execute_result"
        }
      ],
      "source": [
        "round(res_table.mean(axis=0),2)"
      ]
    },
    {
      "attachments": {},
      "cell_type": "markdown",
      "metadata": {},
      "source": [
        "### Scaling with Sentence Transformer and supervised dimensionality reduction (Germany)"
      ]
    },
    {
      "attachments": {},
      "cell_type": "markdown",
      "metadata": {},
      "source": [
        "#### Sentence Transformer to extract sentence embeddings"
      ]
    },
    {
      "cell_type": "code",
      "execution_count": 27,
      "metadata": {},
      "outputs": [],
      "source": [
        "from utils.functions import party_deu, cmp_scale, encode_embeds"
      ]
    },
    {
      "cell_type": "code",
      "execution_count": 28,
      "metadata": {},
      "outputs": [],
      "source": [
        "manifesto_deu = manifesto[manifesto['country'] == 'Germany'].reset_index(drop=True)\n",
        "manifesto_deu_rgr = manifesto_regrouped[manifesto_regrouped['country'] == 'Germany'].reset_index(drop=True)"
      ]
    },
    {
      "cell_type": "code",
      "execution_count": 29,
      "metadata": {},
      "outputs": [],
      "source": [
        "manifesto_deu['party_agg'] = manifesto_deu['name'].apply(party_deu)\n",
        "manifesto_deu_rgr['party_agg'] = manifesto_deu_rgr['party'].apply(party_deu)"
      ]
    },
    {
      "cell_type": "code",
      "execution_count": 30,
      "metadata": {},
      "outputs": [],
      "source": [
        "manifesto_deu = manifesto_deu[manifesto_deu.party_agg != 'NA'].reset_index(drop=True)\n",
        "manifesto_deu_rgr = manifesto_deu_rgr[manifesto_deu_rgr.party_agg != 'NA'].reset_index(drop=True)"
      ]
    },
    {
      "cell_type": "code",
      "execution_count": 33,
      "metadata": {},
      "outputs": [],
      "source": [
        "absscale, relscale, logscale, name_ls = cmp_scale(manifesto_deu, group_vars=['party_agg','election'], sent_var='sentiment')"
      ]
    },
    {
      "cell_type": "code",
      "execution_count": 35,
      "metadata": {},
      "outputs": [
        {
          "data": {
            "text/plain": [
              "(26096, 1)"
            ]
          },
          "execution_count": 35,
          "metadata": {},
          "output_type": "execute_result"
        }
      ],
      "source": [
        "ord_enc = OrdinalEncoder()\n",
        "y = ord_enc.fit_transform(np.array(manifesto_deu_rgr['sentiment'].copy().tolist()).reshape(-1,1))\n",
        "y.shape"
      ]
    },
    {
      "cell_type": "code",
      "execution_count": 36,
      "metadata": {},
      "outputs": [
        {
          "name": "stderr",
          "output_type": "stream",
          "text": [
            "Some weights of the model checkpoint at results/multilingual/manifesto_3cl/checkpoint-3792 were not used when initializing XLMRobertaModel: ['classifier.out_proj.weight', 'classifier.out_proj.bias', 'classifier.dense.bias', 'classifier.dense.weight']\n",
            "- This IS expected if you are initializing XLMRobertaModel from the checkpoint of a model trained on another task or with another architecture (e.g. initializing a BertForSequenceClassification model from a BertForPreTraining model).\n",
            "- This IS NOT expected if you are initializing XLMRobertaModel from the checkpoint of a model that you expect to be exactly identical (initializing a BertForSequenceClassification model from a BertForSequenceClassification model).\n",
            "Some weights of XLMRobertaModel were not initialized from the model checkpoint at results/multilingual/manifesto_3cl/checkpoint-3792 and are newly initialized: ['roberta.pooler.dense.weight', 'roberta.pooler.dense.bias']\n",
            "You should probably TRAIN this model on a down-stream task to be able to use it for predictions and inference.\n"
          ]
        }
      ],
      "source": [
        "transformer_model = 'results/multilingual/manifesto_3cl/checkpoint-3792'\n",
        "word_embedding_model = models.Transformer(transformer_model)\n",
        "pooling_model = models.Pooling(word_embedding_model.get_word_embedding_dimension(), 'cls')\n",
        "model = SentenceTransformer(modules=[word_embedding_model, pooling_model]).to(device)"
      ]
    },
    {
      "cell_type": "code",
      "execution_count": 37,
      "metadata": {},
      "outputs": [],
      "source": [
        "document_embed = encode_embeds(manifesto_deu_rgr, ['party_agg','election'], model)"
      ]
    },
    {
      "cell_type": "code",
      "execution_count": null,
      "metadata": {},
      "outputs": [],
      "source": [
        "np.savetxt()"
      ]
    },
    {
      "attachments": {},
      "cell_type": "markdown",
      "metadata": {},
      "source": [
        "#### Scaling with Supervised UMAP"
      ]
    },
    {
      "cell_type": "code",
      "execution_count": 38,
      "metadata": {},
      "outputs": [],
      "source": [
        "from utils.functions import scale_topic"
      ]
    },
    {
      "cell_type": "code",
      "execution_count": 44,
      "metadata": {},
      "outputs": [
        {
          "data": {
            "text/plain": [
              "<function utils.functions.scale_topic(document_embed, guide_labels, sparse=False, guidance_weight=0.8, **kwargs)>"
            ]
          },
          "execution_count": 44,
          "metadata": {},
          "output_type": "execute_result"
        }
      ],
      "source": [
        "scale_topic"
      ]
    },
    {
      "cell_type": "code",
      "execution_count": 50,
      "metadata": {},
      "outputs": [
        {
          "name": "stdout",
          "output_type": "stream",
          "text": [
            "UMAP(n_components=1, n_epochs=500, n_neighbors=500, target_weight=0.8, verbose=True)\n",
            "Thu Jun 15 16:33:18 2023 Construct fuzzy simplicial set\n",
            "Thu Jun 15 16:33:18 2023 Finding Nearest Neighbors\n",
            "Thu Jun 15 16:33:18 2023 Building RP forest with 13 trees\n",
            "Thu Jun 15 16:33:18 2023 NN descent for 15 iterations\n",
            "\t 1  /  15\n",
            "\t 2  /  15\n",
            "\t 3  /  15\n",
            "\tStopping threshold met -- exiting after 3 iterations\n",
            "Thu Jun 15 16:33:45 2023 Finished Nearest Neighbor Search\n",
            "Thu Jun 15 16:33:51 2023 Construct embedding\n"
          ]
        },
        {
          "data": {
            "application/vnd.jupyter.widget-view+json": {
              "model_id": "e5de78cc09444937baff20b0e2ee9e35",
              "version_major": 2,
              "version_minor": 0
            },
            "text/plain": [
              "Epochs completed:   0%|            0/500 [00:00]"
            ]
          },
          "metadata": {},
          "output_type": "display_data"
        },
        {
          "name": "stdout",
          "output_type": "stream",
          "text": [
            "Thu Jun 15 16:34:12 2023 Finished embedding\n"
          ]
        }
      ],
      "source": [
        "results = scale_topic(document_embed=document_embed, guide_labels=y)"
      ]
    },
    {
      "cell_type": "code",
      "execution_count": 51,
      "metadata": {},
      "outputs": [],
      "source": [
        "emb_mean_dict = {}\n",
        "for name, group in manifesto_deu_rgr.groupby(['party_agg','election']):\n",
        "    idx = group.index\n",
        "    embed = results[idx]\n",
        "    embed_mean = np.mean(embed, axis=0)\n",
        "    emb_mean_dict.update({name: embed_mean})\n"
      ]
    },
    {
      "cell_type": "code",
      "execution_count": 52,
      "metadata": {},
      "outputs": [],
      "source": [
        "final_embeds = np.stack(list(emb_mean_dict.values()))\n"
      ]
    },
    {
      "cell_type": "code",
      "execution_count": 53,
      "metadata": {},
      "outputs": [
        {
          "data": {
            "text/plain": [
              "array([[1.        , 0.96711322],\n",
              "       [0.96711322, 1.        ]])"
            ]
          },
          "execution_count": 53,
          "metadata": {},
          "output_type": "execute_result"
        }
      ],
      "source": [
        "np.corrcoef(absscale,final_embeds[:,0])"
      ]
    },
    {
      "cell_type": "code",
      "execution_count": null,
      "metadata": {},
      "outputs": [],
      "source": [
        "labels = ['_'.join([str(n) for n in name]) for name, group in manifesto_deu.groupby(['party_agg','election'])]\n",
        "party = [lab.split('_')[0] for lab in labels]\n",
        "year = [int(lab.split('_')[1]) for lab in labels]\n",
        "#sentiment = [lab.split('_')[2] for lab in labels]\n",
        "\n",
        "\n",
        "df = pd.DataFrame({'dim1': final_embeds[:,0],  'party': party, 'year': year, 'lr_prop': relscale, 'lr_log': logscale, 'lr_abs': absscale}) #,'dim2': score[:,1]\n",
        "import matplotlib.pyplot as plt\n",
        "sns.set_theme()\n",
        "fig, ax = plt.subplots()\n",
        "ax.margins(0.05) # Optional, just adds 5% padding to the autoscaling\n",
        "for name, group in df.groupby('party'):\n",
        "    ax.plot(group.year,group.lr_abs, marker='o', linestyle='dashed', ms=4, label=name)\n",
        "ax.legend()\n",
        "ax.set_xlabel('Year')\n",
        "ax.set_ylabel('Position')\n",
        "ax.set_title('CMP log scale over time', fontdict={'fontsize':16})\n",
        "plt.plot()\n",
        "plt.savefig('results/tabs and figs/figure5.png', dpi=300)"
      ]
    },
    {
      "attachments": {},
      "cell_type": "markdown",
      "metadata": {},
      "source": [
        "### Focus on one issue to show the differences "
      ]
    },
    {
      "cell_type": "code",
      "execution_count": null,
      "metadata": {},
      "outputs": [],
      "source": [
        "model_name = 'results/multilingual/manifesto_3cl/checkpoint-3792'\n",
        "model = XLMRobertaForSequenceClassification.from_pretrained(model_name).to(device)\n",
        "tokenizer = AutoTokenizer.from_pretrained(transformer_model)\n"
      ]
    },
    {
      "cell_type": "code",
      "execution_count": null,
      "metadata": {},
      "outputs": [],
      "source": [
        "manifesto_env = manifesto[(manifesto['country'] == 'Germany') & (manifesto['code_extract'].isin([501,416,410]))].reset_index(drop=True)\n"
      ]
    },
    {
      "cell_type": "code",
      "execution_count": null,
      "metadata": {},
      "outputs": [],
      "source": [
        "manifesto_env['party_agg'] = manifesto_env['name'].apply(party_agg)\n",
        "manifesto_env = manifesto_env[manifesto_env.party_agg != 'NA'].reset_index(drop=True)"
      ]
    },
    {
      "cell_type": "code",
      "execution_count": null,
      "metadata": {},
      "outputs": [],
      "source": [
        "absscale, relscale, logscale, name_ls = cmp_scale(manifesto_env, group_vars=['party_agg','election'], sent_var='sentiment')"
      ]
    },
    {
      "cell_type": "code",
      "execution_count": null,
      "metadata": {},
      "outputs": [],
      "source": [
        "texts = manifesto_env['text'].tolist()"
      ]
    },
    {
      "cell_type": "code",
      "execution_count": null,
      "metadata": {},
      "outputs": [
        {
          "name": "stderr",
          "output_type": "stream",
          "text": [
            "Some weights of the model checkpoint at results/multilingual/manifesto_3cl/checkpoint-3190 were not used when initializing XLMRobertaModel: ['classifier.out_proj.weight', 'classifier.dense.weight', 'classifier.dense.bias', 'classifier.out_proj.bias']\n",
            "- This IS expected if you are initializing XLMRobertaModel from the checkpoint of a model trained on another task or with another architecture (e.g. initializing a BertForSequenceClassification model from a BertForPreTraining model).\n",
            "- This IS NOT expected if you are initializing XLMRobertaModel from the checkpoint of a model that you expect to be exactly identical (initializing a BertForSequenceClassification model from a BertForSequenceClassification model).\n",
            "Some weights of XLMRobertaModel were not initialized from the model checkpoint at results/multilingual/manifesto_3cl/checkpoint-3190 and are newly initialized: ['roberta.pooler.dense.weight', 'roberta.pooler.dense.bias']\n",
            "You should probably TRAIN this model on a down-stream task to be able to use it for predictions and inference.\n"
          ]
        }
      ],
      "source": [
        "transformer_model = 'results/multilingual/manifesto_3cl/checkpoint-3190'\n",
        "word_embedding_model = models.Transformer(transformer_model)\n",
        "pooling_model = models.Pooling(word_embedding_model.get_word_embedding_dimension(), 'cls')\n",
        "model = SentenceTransformer(modules=[word_embedding_model, pooling_model]).to(device)\n"
      ]
    },
    {
      "cell_type": "code",
      "execution_count": null,
      "metadata": {},
      "outputs": [],
      "source": [
        "document_embed = encode_embeds(manifesto_env, ['party_agg','election'], model)"
      ]
    },
    {
      "cell_type": "code",
      "execution_count": null,
      "metadata": {},
      "outputs": [
        {
          "data": {
            "text/plain": [
              "(7005, 768)"
            ]
          },
          "metadata": {},
          "output_type": "display_data"
        }
      ],
      "source": [
        "document_embed.shape"
      ]
    },
    {
      "cell_type": "code",
      "execution_count": null,
      "metadata": {},
      "outputs": [],
      "source": [
        "enc = OrdinalEncoder()\n",
        "guide_labels = enc.fit_transform(np.array(manifesto_env['sentiment'].tolist()).reshape(-1,1))"
      ]
    },
    {
      "cell_type": "code",
      "execution_count": null,
      "metadata": {},
      "outputs": [
        {
          "name": "stdout",
          "output_type": "stream",
          "text": [
            "UMAP(n_components=1, n_epochs=500, n_neighbors=250, target_weight=0.8, verbose=True)\n",
            "Mon Apr 10 15:26:48 2023 Construct fuzzy simplicial set\n",
            "Mon Apr 10 15:26:48 2023 Finding Nearest Neighbors\n",
            "Mon Apr 10 15:26:48 2023 Building RP forest with 9 trees\n",
            "Mon Apr 10 15:26:48 2023 NN descent for 13 iterations\n",
            "\t 1  /  13\n",
            "\t 2  /  13\n",
            "\t 3  /  13\n",
            "\tStopping threshold met -- exiting after 3 iterations\n",
            "Mon Apr 10 15:26:53 2023 Finished Nearest Neighbor Search\n",
            "Mon Apr 10 15:26:54 2023 Construct embedding\n"
          ]
        },
        {
          "data": {
            "application/vnd.jupyter.widget-view+json": {
              "model_id": "e46e341dbe224e5a852eb9bd47fef266",
              "version_major": 2,
              "version_minor": 0
            },
            "text/plain": [
              "Epochs completed:   0%|            0/500 [00:00]"
            ]
          },
          "metadata": {},
          "output_type": "display_data"
        },
        {
          "name": "stdout",
          "output_type": "stream",
          "text": [
            "Mon Apr 10 15:27:02 2023 Finished embedding\n"
          ]
        }
      ],
      "source": [
        "results = scale_topic(dataframe=manifesto_env, document_embed=document_embed, code_var='sentiment', guide_labels=guide_labels)"
      ]
    },
    {
      "cell_type": "code",
      "execution_count": null,
      "metadata": {},
      "outputs": [],
      "source": [
        "emb_mean_dict = {}\n",
        "for name, group in manifesto_env.groupby(['party_agg','election']):\n",
        "    idx = group.index\n",
        "    embed = results[idx]\n",
        "    embed_mean = np.mean(embed, axis=0)\n",
        "    emb_mean_dict.update({name: embed_mean})\n"
      ]
    },
    {
      "cell_type": "code",
      "execution_count": null,
      "metadata": {},
      "outputs": [],
      "source": [
        "final_embeds = np.stack(list(emb_mean_dict.values()))\n",
        "labels = ['_'.join([str(n) for n in name]) for name, group in manifesto_env.groupby(['party_agg','election'])]\n",
        "party = [lab.split('_')[0] for lab in labels]\n",
        "year = [int(lab.split('_')[1]) for lab in labels]\n",
        "#sentiment = [lab.split('_')[2] for lab in labels]\n",
        "\n"
      ]
    },
    {
      "cell_type": "code",
      "execution_count": null,
      "metadata": {},
      "outputs": [
        {
          "data": {
            "text/plain": [
              "(38, 1)"
            ]
          },
          "metadata": {},
          "output_type": "display_data"
        }
      ],
      "source": [
        "final_embeds.shape\n"
      ]
    },
    {
      "cell_type": "code",
      "execution_count": null,
      "metadata": {},
      "outputs": [
        {
          "data": {
            "text/plain": [
              "array([[ 1.        , -0.86292558],\n",
              "       [-0.86292558,  1.        ]])"
            ]
          },
          "metadata": {},
          "output_type": "display_data"
        }
      ],
      "source": [
        "np.corrcoef(logscale, final_embeds[:,0])"
      ]
    },
    {
      "cell_type": "code",
      "execution_count": null,
      "metadata": {},
      "outputs": [
        {
          "data": {
            "image/png": "[encoded data removed]",
            "text/plain": [
              "<Figure size 640x480 with 1 Axes>"
            ]
          },
          "metadata": {},
          "output_type": "display_data"
        }
      ],
      "source": [
        "df = pd.DataFrame({'dim1': final_embeds[:,0],  'party': party, 'year': year, 'lr_prop': relscale, 'lr_log': logscale, 'lr_abs': absscale}) #,'dim2': score[:,1]\n",
        "import matplotlib.pyplot as plt\n",
        "sns.set_theme()\n",
        "fig, ax = plt.subplots()\n",
        "ax.margins(0.05) # Optional, just adds 5% padding to the autoscaling\n",
        "for name, group in df.groupby('party'):\n",
        "    ax.plot(group.year,group.dim1, marker='o', linestyle='dashed', ms=4, label=name)\n",
        "ax.legend()\n",
        "ax.set_xlabel('Year')\n",
        "ax.set_ylabel('Position')\n",
        "ax.set_title('CMP log scale over time', fontdict={'fontsize':16})\n",
        "plt.plot()\n",
        "plt.savefig('results/tabs and figs/figure5.png', dpi=300)"
      ]
    },
    {
      "cell_type": "code",
      "execution_count": null,
      "metadata": {},
      "outputs": [],
      "source": [
        "manifesto_env.groupby(['party_agg','sentiment']).count()"
      ]
    },
    {
      "cell_type": "code",
      "execution_count": null,
      "metadata": {},
      "outputs": [],
      "source": [
        "manifesto_env.to_csv(os.path.join('data','py_outputs','env.csv'), encoding='utf-8')\n",
        "df.to_csv(os.path.join('data','py_outputs','env_scores.csv'))"
      ]
    },
    {
      "attachments": {},
      "cell_type": "markdown",
      "metadata": {},
      "source": [
        "## Validation: Comparing embeddings quality through classification performances"
      ]
    },
    {
      "attachments": {},
      "cell_type": "markdown",
      "metadata": {},
      "source": [
        "#### Bags-of-words with TF-IDF"
      ]
    },
    {
      "cell_type": "code",
      "execution_count": 55,
      "metadata": {},
      "outputs": [],
      "source": [
        "## Preprocessing for bag-of-words and word2vec models is a little different (pre-trained)\n",
        "## Tokenizer - use gensim's tokenizer \n",
        "def clean_text(text, stopwords):\n",
        "    custom_filters = [lambda x: x.lower(), strip_tags, strip_punctuation, strip_numeric, strip_multiple_whitespaces]\n",
        "    text = preprocess_string(text, custom_filters)\n",
        "    tokens = [w for w in text if w not in stopwords]\n",
        "    return ' '.join(tokens)\n"
      ]
    },
    {
      "cell_type": "code",
      "execution_count": 80,
      "metadata": {},
      "outputs": [
        {
          "data": {
            "text/plain": [
              "{'France', 'Germany', 'Italy', 'Spain', 'United Kingdom'}"
            ]
          },
          "execution_count": 80,
          "metadata": {},
          "output_type": "execute_result"
        }
      ],
      "source": [
        "set(manifesto_regrouped['country'])"
      ]
    },
    {
      "cell_type": "code",
      "execution_count": 81,
      "metadata": {},
      "outputs": [
        {
          "name": "stdout",
          "output_type": "stream",
          "text": [
            "Cleaning the 0th sentence\n",
            "Cleaning the 1000th sentence\n",
            "Cleaning the 2000th sentence\n",
            "Cleaning the 3000th sentence\n",
            "Cleaning the 4000th sentence\n",
            "Cleaning the 5000th sentence\n",
            "Cleaning the 6000th sentence\n",
            "Cleaning the 7000th sentence\n",
            "Cleaning the 8000th sentence\n",
            "Cleaning the 9000th sentence\n",
            "Cleaning the 10000th sentence\n",
            "Cleaning the 11000th sentence\n",
            "Cleaning the 12000th sentence\n",
            "Cleaning the 13000th sentence\n",
            "Cleaning the 14000th sentence\n",
            "Cleaning the 15000th sentence\n",
            "Cleaning the 16000th sentence\n",
            "Cleaning the 17000th sentence\n",
            "Cleaning the 18000th sentence\n",
            "Cleaning the 19000th sentence\n",
            "Cleaning the 20000th sentence\n",
            "Cleaning the 21000th sentence\n",
            "Cleaning the 22000th sentence\n",
            "Cleaning the 23000th sentence\n",
            "Cleaning the 24000th sentence\n",
            "Cleaning the 25000th sentence\n",
            "Cleaning the 26000th sentence\n",
            "Cleaning the 27000th sentence\n",
            "Cleaning the 28000th sentence\n",
            "Cleaning the 29000th sentence\n",
            "Cleaning the 30000th sentence\n",
            "Cleaning the 31000th sentence\n",
            "Cleaning the 32000th sentence\n",
            "Cleaning the 33000th sentence\n",
            "Cleaning the 34000th sentence\n",
            "Cleaning the 35000th sentence\n",
            "Cleaning the 36000th sentence\n",
            "Cleaning the 37000th sentence\n",
            "Cleaning the 38000th sentence\n",
            "Cleaning the 39000th sentence\n",
            "Cleaning the 40000th sentence\n",
            "Cleaning the 41000th sentence\n",
            "Cleaning the 42000th sentence\n",
            "Cleaning the 43000th sentence\n",
            "Cleaning the 44000th sentence\n",
            "Cleaning the 45000th sentence\n",
            "Cleaning the 46000th sentence\n",
            "Cleaning the 47000th sentence\n",
            "Cleaning the 48000th sentence\n",
            "Cleaning the 49000th sentence\n",
            "Cleaning the 50000th sentence\n",
            "Cleaning the 51000th sentence\n",
            "Cleaning the 52000th sentence\n",
            "Cleaning the 53000th sentence\n",
            "Cleaning the 54000th sentence\n",
            "Cleaning the 55000th sentence\n",
            "Cleaning the 56000th sentence\n",
            "Cleaning the 57000th sentence\n",
            "Cleaning the 58000th sentence\n",
            "Cleaning the 59000th sentence\n",
            "Cleaning the 60000th sentence\n",
            "Cleaning the 61000th sentence\n",
            "Cleaning the 62000th sentence\n",
            "Cleaning the 63000th sentence\n",
            "Cleaning the 64000th sentence\n",
            "Cleaning the 65000th sentence\n",
            "Cleaning the 66000th sentence\n",
            "Cleaning the 67000th sentence\n",
            "Cleaning the 68000th sentence\n",
            "Cleaning the 69000th sentence\n",
            "Cleaning the 70000th sentence\n",
            "Cleaning the 71000th sentence\n",
            "Cleaning the 72000th sentence\n",
            "Cleaning the 73000th sentence\n",
            "Cleaning the 74000th sentence\n",
            "Cleaning the 75000th sentence\n",
            "Cleaning the 76000th sentence\n",
            "Cleaning the 77000th sentence\n",
            "Cleaning the 78000th sentence\n",
            "Cleaning the 79000th sentence\n",
            "Cleaning the 80000th sentence\n",
            "Cleaning the 81000th sentence\n",
            "Cleaning the 82000th sentence\n",
            "Cleaning the 83000th sentence\n",
            "Cleaning the 84000th sentence\n",
            "Cleaning the 85000th sentence\n",
            "Cleaning the 86000th sentence\n",
            "Cleaning the 87000th sentence\n",
            "Cleaning the 88000th sentence\n",
            "Cleaning the 89000th sentence\n",
            "Cleaning the 90000th sentence\n",
            "Cleaning the 91000th sentence\n"
          ]
        }
      ],
      "source": [
        "outputs = []\n",
        "for idx, text in enumerate(manifesto_regrouped['text']):\n",
        "    if idx % 1000 ==0:\n",
        "        print(f'Cleaning the {idx}th sentence')\n",
        "    country = manifesto_regrouped.loc[idx,'country'].lower()\n",
        "    if country == 'france':\n",
        "        outputs.append(clean_text(text, stopwords.words('french')))\n",
        "    elif country == 'germany':\n",
        "        outputs.append(clean_text(text, stopwords.words('german')))\n",
        "    elif country == 'italy':\n",
        "        outputs.append(clean_text(text, stopwords.words('italian')))\n",
        "    elif country == 'spain':\n",
        "        outputs.append(clean_text(text, stopwords.words('spanish')))\n",
        "    else:\n",
        "        outputs.append(clean_text(text, stopwords.words('english')))"
      ]
    },
    {
      "cell_type": "code",
      "execution_count": 82,
      "metadata": {},
      "outputs": [],
      "source": [
        "manifesto_regrouped['text_cleaned'] = outputs"
      ]
    },
    {
      "cell_type": "code",
      "execution_count": 83,
      "metadata": {},
      "outputs": [
        {
          "data": {
            "text/plain": [
              "\"The problem: This country's education has been underfunded and undermined by repeated shifts in policy. Standards are too low, especially in core skills such as reading and maths. Britain is too low in the world league tables.\""
            ]
          },
          "execution_count": 83,
          "metadata": {},
          "output_type": "execute_result"
        }
      ],
      "source": [
        "## Before\n",
        "manifesto_regrouped.loc[0,'text']"
      ]
    },
    {
      "cell_type": "code",
      "execution_count": 84,
      "metadata": {},
      "outputs": [
        {
          "data": {
            "text/plain": [
              "'problem country education underfunded undermined repeated shifts policy standards low especially core skills reading maths britain low world league tables'"
            ]
          },
          "execution_count": 84,
          "metadata": {},
          "output_type": "execute_result"
        }
      ],
      "source": [
        "## After\n",
        "outputs[0]"
      ]
    },
    {
      "cell_type": "code",
      "execution_count": 86,
      "metadata": {},
      "outputs": [],
      "source": [
        "df_train, df_test = train_test_split(manifesto_regrouped, test_size=0.15, stratify = manifesto_regrouped['sentiment'],random_state=seed_val)\n",
        "df_train, df_eval = train_test_split(df_train, test_size=0.3, stratify = df_train['sentiment'], random_state=seed_val)\n",
        "enc = OrdinalEncoder()\n",
        "\n",
        "df_train['labels'] = enc.fit_transform(np.array(df_train['sentiment'].tolist()).reshape(-1,1))\n",
        "df_test['labels'] = enc.fit_transform(np.array(df_test['sentiment'].tolist()).reshape(-1,1))\n",
        "df_eval['labels'] = enc.fit_transform(np.array(df_eval['sentiment'].tolist()).reshape(-1,1))\n",
        "\n",
        "df_train = df_train.reset_index(drop=True)\n",
        "df_eval = df_eval.reset_index(drop=True)\n",
        "df_test = df_test.reset_index(drop=True)\n",
        "\n"
      ]
    },
    {
      "cell_type": "code",
      "execution_count": 87,
      "metadata": {},
      "outputs": [],
      "source": [
        "y_train = np.array(df_train['labels'])\n",
        "y_eval = np.array(df_eval['labels'])\n",
        "y_test = np.array(df_test['labels'])"
      ]
    },
    {
      "cell_type": "code",
      "execution_count": 88,
      "metadata": {},
      "outputs": [],
      "source": [
        "vectorizer = feature_extraction.text.TfidfVectorizer(max_features=10000, ngram_range=(1,2))"
      ]
    },
    {
      "cell_type": "code",
      "execution_count": 95,
      "metadata": {},
      "outputs": [],
      "source": [
        "corp_train = df_train['text_cleaned'].tolist()\n",
        "vectorizer.fit(corp_train)\n",
        "X_train = vectorizer.transform(corp_train)\n",
        "dic_vocabulary = vectorizer.vocabulary_"
      ]
    },
    {
      "cell_type": "code",
      "execution_count": 96,
      "metadata": {},
      "outputs": [],
      "source": [
        "classifier = naive_bayes.MultinomialNB()"
      ]
    },
    {
      "cell_type": "code",
      "execution_count": 97,
      "metadata": {},
      "outputs": [],
      "source": [
        "## pipeline\n",
        "model = pipeline.Pipeline([(\"vectorizer\", vectorizer),  \n",
        "                           (\"classifier\", classifier)])\n",
        "## train classifier\n",
        "model[\"classifier\"].fit(X_train, y_train)\n",
        "## test\n",
        "X_test = df_test[\"text_cleaned\"].tolist()\n",
        "predicted = model.predict(X_test)\n",
        "predicted_prob = model.predict_proba(X_test)"
      ]
    },
    {
      "cell_type": "code",
      "execution_count": 98,
      "metadata": {},
      "outputs": [],
      "source": [
        "precision, recall, f1, _ = precision_recall_fscore_support(y_test, predicted, average=None)\n",
        "matrix = confusion_matrix(y_test, predicted)\n",
        "accuracy = matrix.diagonal()/matrix.sum(axis=1)"
      ]
    },
    {
      "cell_type": "code",
      "execution_count": 99,
      "metadata": {},
      "outputs": [
        {
          "data": {
            "text/html": [
              "<div>\n",
              "<style scoped>\n",
              "    .dataframe tbody tr th:only-of-type {\n",
              "        vertical-align: middle;\n",
              "    }\n",
              "\n",
              "    .dataframe tbody tr th {\n",
              "        vertical-align: top;\n",
              "    }\n",
              "\n",
              "    .dataframe thead th {\n",
              "        text-align: right;\n",
              "    }\n",
              "</style>\n",
              "<table border=\"1\" class=\"dataframe\">\n",
              "  <thead>\n",
              "    <tr style=\"text-align: right;\">\n",
              "      <th></th>\n",
              "      <th>f1</th>\n",
              "      <th>precision</th>\n",
              "      <th>recall</th>\n",
              "      <th>accuracy</th>\n",
              "    </tr>\n",
              "  </thead>\n",
              "  <tbody>\n",
              "    <tr>\n",
              "      <th>0</th>\n",
              "      <td>0.71</td>\n",
              "      <td>0.69</td>\n",
              "      <td>0.73</td>\n",
              "      <td>0.73</td>\n",
              "    </tr>\n",
              "    <tr>\n",
              "      <th>1</th>\n",
              "      <td>0.67</td>\n",
              "      <td>0.67</td>\n",
              "      <td>0.68</td>\n",
              "      <td>0.68</td>\n",
              "    </tr>\n",
              "    <tr>\n",
              "      <th>2</th>\n",
              "      <td>0.50</td>\n",
              "      <td>0.56</td>\n",
              "      <td>0.45</td>\n",
              "      <td>0.45</td>\n",
              "    </tr>\n",
              "  </tbody>\n",
              "</table>\n",
              "</div>"
            ],
            "text/plain": [
              "     f1  precision  recall  accuracy\n",
              "0  0.71       0.69    0.73      0.73\n",
              "1  0.67       0.67    0.68      0.68\n",
              "2  0.50       0.56    0.45      0.45"
            ]
          },
          "execution_count": 99,
          "metadata": {},
          "output_type": "execute_result"
        }
      ],
      "source": [
        "res_table = pd.DataFrame({'f1': np.round(f1,2), 'precision': np.round(precision,2), \n",
        "'recall': np.round(recall,2), 'accuracy': np.round(accuracy,2)})\n",
        "res_table"
      ]
    },
    {
      "cell_type": "code",
      "execution_count": 100,
      "metadata": {},
      "outputs": [
        {
          "data": {
            "text/plain": [
              "f1           0.63\n",
              "precision    0.64\n",
              "recall       0.62\n",
              "accuracy     0.62\n",
              "dtype: float64"
            ]
          },
          "execution_count": 100,
          "metadata": {},
          "output_type": "execute_result"
        }
      ],
      "source": [
        "round(res_table.mean(axis=0),2)"
      ]
    },
    {
      "cell_type": "code",
      "execution_count": 105,
      "metadata": {},
      "outputs": [],
      "source": [
        "## Save vectorizer and model to other variables\n",
        "vect_bow = vectorizer\n",
        "model_bow = model\n"
      ]
    },
    {
      "attachments": {},
      "cell_type": "markdown",
      "metadata": {},
      "source": [
        "#### Doc2Vec\n"
      ]
    },
    {
      "cell_type": "code",
      "execution_count": 57,
      "metadata": {},
      "outputs": [
        {
          "name": "stdout",
          "output_type": "stream",
          "text": [
            "Cleaning the 1th sentence\n",
            "Cleaning the 10001th sentence\n",
            "Cleaning the 20001th sentence\n",
            "Cleaning the 30001th sentence\n",
            "Cleaning the 40001th sentence\n",
            "Cleaning the 50001th sentence\n",
            "Cleaning the 60001th sentence\n",
            "Cleaning the 70001th sentence\n",
            "Cleaning the 80001th sentence\n",
            "Cleaning the 90001th sentence\n"
          ]
        }
      ],
      "source": [
        "## We train word2vec embeddings on the GermaParl dataset before using embeddings for classification\n",
        "outputs = []\n",
        "for idx, text in enumerate(manifesto_regrouped['text']):\n",
        "    if idx % 10000 ==0:\n",
        "        print(f'Cleaning the {idx+1} sentence')\n",
        "    country = manifesto_regrouped.loc[idx,'country'].lower()\n",
        "    if country == 'france':\n",
        "        outputs.append(clean_text(text, stopwords.words('french')))\n",
        "    elif country == 'germany':\n",
        "        outputs.append(clean_text(text, stopwords.words('german')))\n",
        "    elif country == 'italy':\n",
        "        outputs.append(clean_text(text, stopwords.words('italian')))\n",
        "    elif country == 'spain':\n",
        "        outputs.append(clean_text(text, stopwords.words('spanish')))\n",
        "    else:\n",
        "        outputs.append(clean_text(text, stopwords.words('english')))"
      ]
    },
    {
      "cell_type": "code",
      "execution_count": 58,
      "metadata": {},
      "outputs": [],
      "source": [
        "manifesto_regrouped['text_cleaned'] = outputs"
      ]
    },
    {
      "cell_type": "code",
      "execution_count": 59,
      "metadata": {},
      "outputs": [
        {
          "data": {
            "text/html": [
              "<div>\n",
              "<style scoped>\n",
              "    .dataframe tbody tr th:only-of-type {\n",
              "        vertical-align: middle;\n",
              "    }\n",
              "\n",
              "    .dataframe tbody tr th {\n",
              "        vertical-align: top;\n",
              "    }\n",
              "\n",
              "    .dataframe thead th {\n",
              "        text-align: right;\n",
              "    }\n",
              "</style>\n",
              "<table border=\"1\" class=\"dataframe\">\n",
              "  <thead>\n",
              "    <tr style=\"text-align: right;\">\n",
              "      <th></th>\n",
              "      <th>text</th>\n",
              "      <th>country_party_election_sentiment</th>\n",
              "      <th>country</th>\n",
              "      <th>party</th>\n",
              "      <th>election</th>\n",
              "      <th>sentiment</th>\n",
              "      <th>text_cleaned</th>\n",
              "    </tr>\n",
              "  </thead>\n",
              "  <tbody>\n",
              "    <tr>\n",
              "      <th>0</th>\n",
              "      <td>La lotta per l’eliminazione della mafia e dell...</td>\n",
              "      <td>Italy_Rivoluzione Civile_2013_right</td>\n",
              "      <td>Italy</td>\n",
              "      <td>Rivoluzione Civile</td>\n",
              "      <td>2013</td>\n",
              "      <td>right</td>\n",
              "      <td>lotta l’eliminazione mafia corruzione solo obi...</td>\n",
              "    </tr>\n",
              "    <tr>\n",
              "      <th>1</th>\n",
              "      <td>Il debito pubblico italiano deve essere affron...</td>\n",
              "      <td>Italy_Rivoluzione Civile_2013_right</td>\n",
              "      <td>Italy</td>\n",
              "      <td>Rivoluzione Civile</td>\n",
              "      <td>2013</td>\n",
              "      <td>right</td>\n",
              "      <td>debito pubblico italiano deve essere affrontat...</td>\n",
              "    </tr>\n",
              "    <tr>\n",
              "      <th>2</th>\n",
              "      <td>Vanno utilizzate le risorse derivanti dalla lo...</td>\n",
              "      <td>Italy_Rivoluzione Civile_2013_right</td>\n",
              "      <td>Italy</td>\n",
              "      <td>Rivoluzione Civile</td>\n",
              "      <td>2013</td>\n",
              "      <td>right</td>\n",
              "      <td>vanno utilizzate risorse derivanti lotta all’e...</td>\n",
              "    </tr>\n",
              "    <tr>\n",
              "      <th>3</th>\n",
              "      <td>Affligge il nord come il sud d'Italia. Secondo...</td>\n",
              "      <td>Italy_Rivoluzione Civile_2013_right</td>\n",
              "      <td>Italy</td>\n",
              "      <td>Rivoluzione Civile</td>\n",
              "      <td>2013</td>\n",
              "      <td>right</td>\n",
              "      <td>affligge nord sud d italia secondo l’ultimo da...</td>\n",
              "    </tr>\n",
              "    <tr>\n",
              "      <th>4</th>\n",
              "      <td>L’economia che sfugge alle statistiche ufficia...</td>\n",
              "      <td>Italy_Rivoluzione Civile_2013_right</td>\n",
              "      <td>Italy</td>\n",
              "      <td>Rivoluzione Civile</td>\n",
              "      <td>2013</td>\n",
              "      <td>right</td>\n",
              "      <td>l’economia sfugge statistiche ufficiali sfiora...</td>\n",
              "    </tr>\n",
              "  </tbody>\n",
              "</table>\n",
              "</div>"
            ],
            "text/plain": [
              "                                                text  \\\n",
              "0  La lotta per l’eliminazione della mafia e dell...   \n",
              "1  Il debito pubblico italiano deve essere affron...   \n",
              "2  Vanno utilizzate le risorse derivanti dalla lo...   \n",
              "3  Affligge il nord come il sud d'Italia. Secondo...   \n",
              "4  L’economia che sfugge alle statistiche ufficia...   \n",
              "\n",
              "      country_party_election_sentiment country               party election  \\\n",
              "0  Italy_Rivoluzione Civile_2013_right   Italy  Rivoluzione Civile     2013   \n",
              "1  Italy_Rivoluzione Civile_2013_right   Italy  Rivoluzione Civile     2013   \n",
              "2  Italy_Rivoluzione Civile_2013_right   Italy  Rivoluzione Civile     2013   \n",
              "3  Italy_Rivoluzione Civile_2013_right   Italy  Rivoluzione Civile     2013   \n",
              "4  Italy_Rivoluzione Civile_2013_right   Italy  Rivoluzione Civile     2013   \n",
              "\n",
              "  sentiment                                       text_cleaned  \n",
              "0     right  lotta l’eliminazione mafia corruzione solo obi...  \n",
              "1     right  debito pubblico italiano deve essere affrontat...  \n",
              "2     right  vanno utilizzate risorse derivanti lotta all’e...  \n",
              "3     right  affligge nord sud d italia secondo l’ultimo da...  \n",
              "4     right  l’economia sfugge statistiche ufficiali sfiora...  "
            ]
          },
          "execution_count": 59,
          "metadata": {},
          "output_type": "execute_result"
        }
      ],
      "source": [
        "manifesto_regrouped.head()"
      ]
    },
    {
      "cell_type": "code",
      "execution_count": 111,
      "metadata": {},
      "outputs": [],
      "source": [
        "class corpusIterator(object):\n",
        "    def __init__(self, df, bigram=None, trigram=None):\n",
        "        if bigram:\n",
        "            self.bigram = bigram\n",
        "        else:\n",
        "            self.bigram = None\n",
        "        if trigram:\n",
        "            self.trigram = trigram\n",
        "        else:\n",
        "            self.trigram = None\n",
        "        self.df = df\n",
        "    def __iter__(self):\n",
        "        for  index, row in self.df.iterrows():\n",
        "            text = row['text_cleaned']\n",
        "            labels = row['sentiment']\n",
        "            tokens = text.split()\n",
        "            if self.bigram and self.trigram:\n",
        "                self.words = self.trigram[self.bigram[tokens]]\n",
        "            elif self.bigram and not self.trigram:\n",
        "                self.words = self.bigram[tokens]\n",
        "            else:\n",
        "                self.words = tokens\n",
        "            yield TaggedDocument(self.words, [labels])\n",
        "            \n",
        "class phraseIterator(object):\n",
        "    def __init__(self, df):\n",
        "        self.df = df\n",
        "    def __iter__(self):\n",
        "        for index, row in self.df.iterrows():\n",
        "            text = row['text_cleaned']\n",
        "            yield text.split()"
      ]
    },
    {
      "cell_type": "code",
      "execution_count": 92,
      "metadata": {},
      "outputs": [],
      "source": [
        "enc = OrdinalEncoder()\n",
        "df_train, df_test = train_test_split(manifesto_regrouped, test_size=0.2, stratify = manifesto_regrouped['sentiment'],random_state=seed_val)\n",
        "\n",
        "df_train['labels'] = enc.fit_transform(np.array(df_train['sentiment'].tolist()).reshape(-1,1))\n",
        "df_test['labels'] = enc.fit_transform(np.array(df_test['sentiment'].tolist()).reshape(-1,1))\n",
        "\n",
        "df_train = df_train.reset_index(drop=True)\n",
        "df_test = df_test.reset_index(drop=True)\n",
        "\n"
      ]
    },
    {
      "cell_type": "code",
      "execution_count": 93,
      "metadata": {},
      "outputs": [
        {
          "data": {
            "text/plain": [
              "77012"
            ]
          },
          "execution_count": 93,
          "metadata": {},
          "output_type": "execute_result"
        }
      ],
      "source": [
        "len(df_train)"
      ]
    },
    {
      "cell_type": "code",
      "execution_count": null,
      "metadata": {},
      "outputs": [],
      "source": [
        "outputs_stream = phraseIterator(df_train)\n",
        "bigram = Phraser(Phrases(outputs_stream, min_count=1, threshold=5))\n",
        "trigram = Phrases(bigram[outputs_stream],  min_count=1, threshold=5)"
      ]
    },
    {
      "cell_type": "code",
      "execution_count": 118,
      "metadata": {},
      "outputs": [],
      "source": [
        "model = Doc2Vec(vector_size=500, window=6, min_count=1, workers=16, epochs=10, seed=seed_val)\n",
        "model.build_vocab(corpusIterator(df_train, bigram=bigram, trigram=trigram))\n"
      ]
    },
    {
      "cell_type": "code",
      "execution_count": 119,
      "metadata": {},
      "outputs": [
        {
          "data": {
            "text/plain": [
              "0"
            ]
          },
          "execution_count": 119,
          "metadata": {},
          "output_type": "execute_result"
        }
      ],
      "source": [
        "model.get_latest_training_loss()\n"
      ]
    },
    {
      "cell_type": "code",
      "execution_count": 117,
      "metadata": {},
      "outputs": [
        {
          "name": "stdout",
          "output_type": "stream",
          "text": [
            "Epoch 1: Loss = 0.0\n",
            "Epoch 2: Loss = 0.0\n",
            "Epoch 3: Loss = 0.0\n",
            "Epoch 4: Loss = 0.0\n",
            "Epoch 5: Loss = 0.0\n",
            "Epoch 6: Loss = 0.0\n",
            "Epoch 7: Loss = 0.0\n",
            "Epoch 8: Loss = 0.0\n",
            "Epoch 9: Loss = 0.0\n",
            "Epoch 10: Loss = 0.0\n"
          ]
        }
      ],
      "source": [
        "for epoch in range(10):\n",
        "    model.train(corpusIterator(df_train, bigram=bigram, trigram=trigram), total_examples=model.corpus_count, epochs=1)\n",
        "    \n",
        "    # Compute the training loss after each epoch\n",
        "    loss = model.get_latest_training_loss()\n",
        "\n",
        "    # Print the loss\n",
        "    print(f\"Epoch {epoch + 1}: Loss = {loss}\")"
      ]
    },
    {
      "cell_type": "code",
      "execution_count": 96,
      "metadata": {},
      "outputs": [],
      "source": [
        "model.save(os.path.join('results', 'd2v','d2v_3cl'))"
      ]
    },
    {
      "cell_type": "code",
      "execution_count": 77,
      "metadata": {},
      "outputs": [],
      "source": [
        "from sklearn.linear_model import LogisticRegression"
      ]
    },
    {
      "cell_type": "code",
      "execution_count": 97,
      "metadata": {},
      "outputs": [],
      "source": [
        "def retrieve_vectors(dataset, model):\n",
        "    res = []\n",
        "    for index, row in dataset.iterrows():\n",
        "        text = row['text_cleaned']\n",
        "        infer = model.infer_vector(text.split())\n",
        "        res.append(infer)\n",
        "    return np.array(res)\n"
      ]
    },
    {
      "cell_type": "code",
      "execution_count": 98,
      "metadata": {},
      "outputs": [],
      "source": [
        "## Infer document embeddings from texts\n",
        "X_train = retrieve_vectors(df_train, model)\n",
        "X_test = retrieve_vectors(df_test, model)\n",
        "y_train = df_train['labels'].tolist()\n",
        "y_test = df_test['labels'].tolist()"
      ]
    },
    {
      "cell_type": "code",
      "execution_count": 102,
      "metadata": {},
      "outputs": [],
      "source": [
        "## Classifier\n",
        "classifier = LogisticRegression(random_state = seed_val, max_iter=10000)"
      ]
    },
    {
      "cell_type": "code",
      "execution_count": 103,
      "metadata": {},
      "outputs": [],
      "source": [
        "clf = classifier.fit(X_train,y_train)\n",
        "predicted = clf.predict(X_test)\n"
      ]
    },
    {
      "cell_type": "code",
      "execution_count": 106,
      "metadata": {},
      "outputs": [],
      "source": [
        "precision, recall, f1, _ = precision_recall_fscore_support(y_test, predicted, average=None)\n",
        "matrix = confusion_matrix(y_test, predicted)\n",
        "accuracy = matrix.diagonal()/matrix.sum(axis=1)"
      ]
    },
    {
      "cell_type": "code",
      "execution_count": 107,
      "metadata": {},
      "outputs": [
        {
          "data": {
            "text/html": [
              "<div>\n",
              "<style scoped>\n",
              "    .dataframe tbody tr th:only-of-type {\n",
              "        vertical-align: middle;\n",
              "    }\n",
              "\n",
              "    .dataframe tbody tr th {\n",
              "        vertical-align: top;\n",
              "    }\n",
              "\n",
              "    .dataframe thead th {\n",
              "        text-align: right;\n",
              "    }\n",
              "</style>\n",
              "<table border=\"1\" class=\"dataframe\">\n",
              "  <thead>\n",
              "    <tr style=\"text-align: right;\">\n",
              "      <th></th>\n",
              "      <th>f1</th>\n",
              "      <th>precision</th>\n",
              "      <th>recall</th>\n",
              "      <th>accuracy</th>\n",
              "    </tr>\n",
              "  </thead>\n",
              "  <tbody>\n",
              "    <tr>\n",
              "      <th>0</th>\n",
              "      <td>0.61</td>\n",
              "      <td>0.59</td>\n",
              "      <td>0.63</td>\n",
              "      <td>0.63</td>\n",
              "    </tr>\n",
              "    <tr>\n",
              "      <th>1</th>\n",
              "      <td>0.59</td>\n",
              "      <td>0.56</td>\n",
              "      <td>0.64</td>\n",
              "      <td>0.64</td>\n",
              "    </tr>\n",
              "    <tr>\n",
              "      <th>2</th>\n",
              "      <td>0.34</td>\n",
              "      <td>0.47</td>\n",
              "      <td>0.26</td>\n",
              "      <td>0.26</td>\n",
              "    </tr>\n",
              "  </tbody>\n",
              "</table>\n",
              "</div>"
            ],
            "text/plain": [
              "     f1  precision  recall  accuracy\n",
              "0  0.61       0.59    0.63      0.63\n",
              "1  0.59       0.56    0.64      0.64\n",
              "2  0.34       0.47    0.26      0.26"
            ]
          },
          "execution_count": 107,
          "metadata": {},
          "output_type": "execute_result"
        }
      ],
      "source": [
        "res_table = pd.DataFrame({'f1': np.round(f1,2), 'precision': np.round(precision,2), \n",
        "'recall': np.round(recall,2), 'accuracy': np.round(accuracy,2)})\n",
        "res_table"
      ]
    },
    {
      "cell_type": "code",
      "execution_count": 109,
      "metadata": {},
      "outputs": [
        {
          "data": {
            "text/plain": [
              "f1           0.51\n",
              "precision    0.54\n",
              "recall       0.51\n",
              "accuracy     0.51\n",
              "dtype: float64"
            ]
          },
          "execution_count": 109,
          "metadata": {},
          "output_type": "execute_result"
        }
      ],
      "source": [
        "round(res_table.mean(axis=0),2)"
      ]
    },
    {
      "cell_type": "code",
      "execution_count": 56,
      "metadata": {},
      "outputs": [],
      "source": [
        "def d2v_reduct(model):\n",
        "    keys = [k for k in model.dv.index_to_key]\n",
        "    M = model.vector_size\n",
        "    P = len(keys)\n",
        "    embed_dict = {}\n",
        "    for i in range( P ):\n",
        "        embed_dict.update({keys[i]: model.dv[keys[i]]})   \n",
        "    return embed_dict\n",
        "\n"
      ]
    },
    {
      "cell_type": "code",
      "execution_count": 117,
      "metadata": {},
      "outputs": [],
      "source": [
        "def d2v_pred(model, dataset):\n",
        "    res = []\n",
        "    for index, row in dataset.iterrows():\n",
        "        text = row['text_cleaned']\n",
        "        infer = model.infer_vector(text.split())\n",
        "        res.append(infer)\n",
        "    return np.array(res)\n"
      ]
    },
    {
      "attachments": {},
      "cell_type": "markdown",
      "metadata": {},
      "source": [
        "#### XLM-Roberta-Large"
      ]
    },
    {
      "cell_type": "code",
      "execution_count": 27,
      "metadata": {},
      "outputs": [],
      "source": [
        "model_name = 'xlm-roberta-large'\n",
        "tokenizer = AutoTokenizer.from_pretrained(model_name)\n",
        "data_collator = DataCollatorWithPadding(tokenizer)"
      ]
    },
    {
      "cell_type": "code",
      "execution_count": 28,
      "metadata": {},
      "outputs": [],
      "source": [
        "manifesto_reduced = manifesto_regrouped[['sentiment','text']]"
      ]
    },
    {
      "cell_type": "code",
      "execution_count": 29,
      "metadata": {},
      "outputs": [
        {
          "name": "stderr",
          "output_type": "stream",
          "text": [
            "Parameter 'function'=<function Dataset.class_encode_column.<locals>.cast_to_class_labels at 0x000002E6C5B484C0> of the transform datasets.arrow_dataset.Dataset._map_single couldn't be hashed properly, a random hash was used instead. Make sure your transforms and parameters are serializable with pickle or dill for the dataset fingerprinting and caching to work. If you reuse this transform, the caching mechanism will consider it to be different from the previous calls and recompute everything. This warning is only showed once. Subsequent hashing failures won't be showed.\n"
          ]
        },
        {
          "data": {
            "application/vnd.jupyter.widget-view+json": {
              "model_id": "6d0894149e354f26a50c3adfd4a07151",
              "version_major": 2,
              "version_minor": 0
            },
            "text/plain": [
              "Casting to class labels:   0%|          | 0/97 [00:00<?, ?ba/s]"
            ]
          },
          "metadata": {},
          "output_type": "display_data"
        },
        {
          "data": {
            "application/vnd.jupyter.widget-view+json": {
              "model_id": "8cdaca840338477da4ecc5d198cd0072",
              "version_major": 2,
              "version_minor": 0
            },
            "text/plain": [
              "Casting the dataset:   0%|          | 0/10 [00:00<?, ?ba/s]"
            ]
          },
          "metadata": {},
          "output_type": "display_data"
        }
      ],
      "source": [
        "manifesto_dataset = Dataset.from_pandas(manifesto_reduced)\n",
        "manifesto_dataset = manifesto_dataset.class_encode_column('sentiment')\n",
        "manifesto_dataset = manifesto_dataset.rename_column('sentiment','labels')\n",
        "\n"
      ]
    },
    {
      "cell_type": "code",
      "execution_count": 30,
      "metadata": {},
      "outputs": [],
      "source": [
        "train_test = manifesto_dataset.train_test_split(test_size=0.1, stratify_by_column='labels', seed=seed_val)\n",
        "train_eval = train_test['train'].train_test_split(test_size=0.3, stratify_by_column='labels', seed=seed_val)"
      ]
    },
    {
      "cell_type": "code",
      "execution_count": 31,
      "metadata": {},
      "outputs": [
        {
          "data": {
            "text/plain": [
              "DatasetDict({\n",
              "    train: Dataset({\n",
              "        features: ['labels', 'text'],\n",
              "        num_rows: 60646\n",
              "    })\n",
              "    test: Dataset({\n",
              "        features: ['labels', 'text'],\n",
              "        num_rows: 9627\n",
              "    })\n",
              "    eval: Dataset({\n",
              "        features: ['labels', 'text'],\n",
              "        num_rows: 25992\n",
              "    })\n",
              "})"
            ]
          },
          "execution_count": 31,
          "metadata": {},
          "output_type": "execute_result"
        }
      ],
      "source": [
        "manifesto_datasets = DatasetDict({\n",
        "    'train': train_eval['train'],\n",
        "    'test': train_test['test'],\n",
        "    'eval': train_eval['test']\n",
        "})\n",
        "manifesto_datasets"
      ]
    },
    {
      "cell_type": "code",
      "execution_count": 32,
      "metadata": {},
      "outputs": [],
      "source": [
        "train_df = Dataset.to_pandas(manifesto_datasets['train'])"
      ]
    },
    {
      "cell_type": "code",
      "execution_count": 33,
      "metadata": {},
      "outputs": [
        {
          "name": "stdout",
          "output_type": "stream",
          "text": [
            "[0.82717514 0.81923056 1.75312925]\n"
          ]
        }
      ],
      "source": [
        "from sklearn.utils import class_weight\n",
        "class_weights = class_weight.compute_class_weight(class_weight='balanced', classes=np.unique(train_df.labels),y=train_df['labels'].tolist())\n",
        "print(class_weights)\n"
      ]
    },
    {
      "cell_type": "code",
      "execution_count": 34,
      "metadata": {},
      "outputs": [],
      "source": [
        "def tokenize_function(dataset):\n",
        "    return tokenizer(dataset['text'], truncation=True)\n"
      ]
    },
    {
      "cell_type": "code",
      "execution_count": 35,
      "metadata": {},
      "outputs": [
        {
          "data": {
            "application/vnd.jupyter.widget-view+json": {
              "model_id": "4880f96c43414dc68a4b9db541628b47",
              "version_major": 2,
              "version_minor": 0
            },
            "text/plain": [
              "  0%|          | 0/61 [00:00<?, ?ba/s]"
            ]
          },
          "metadata": {},
          "output_type": "display_data"
        },
        {
          "data": {
            "application/vnd.jupyter.widget-view+json": {
              "model_id": "cf48791c9af349fbba716fdf5c68d1af",
              "version_major": 2,
              "version_minor": 0
            },
            "text/plain": [
              "  0%|          | 0/10 [00:00<?, ?ba/s]"
            ]
          },
          "metadata": {},
          "output_type": "display_data"
        },
        {
          "data": {
            "application/vnd.jupyter.widget-view+json": {
              "model_id": "639195ce3f9c4c4ba59e782e982429ed",
              "version_major": 2,
              "version_minor": 0
            },
            "text/plain": [
              "  0%|          | 0/26 [00:00<?, ?ba/s]"
            ]
          },
          "metadata": {},
          "output_type": "display_data"
        }
      ],
      "source": [
        "tokenized_datasets = manifesto_datasets.map(tokenize_function, batched=True, remove_columns=['text'])"
      ]
    },
    {
      "cell_type": "code",
      "execution_count": 36,
      "metadata": {},
      "outputs": [
        {
          "data": {
            "text/plain": [
              "['labels', 'input_ids', 'attention_mask']"
            ]
          },
          "execution_count": 36,
          "metadata": {},
          "output_type": "execute_result"
        }
      ],
      "source": [
        "tokenized_datasets.set_format(\"torch\")\n",
        "tokenized_datasets[\"train\"].column_names"
      ]
    },
    {
      "cell_type": "code",
      "execution_count": 37,
      "metadata": {},
      "outputs": [
        {
          "name": "stderr",
          "output_type": "stream",
          "text": [
            "Some weights of the model checkpoint at xlm-roberta-large were not used when initializing XLMRobertaForSequenceClassification: ['lm_head.decoder.weight', 'lm_head.layer_norm.weight', 'lm_head.dense.bias', 'roberta.pooler.dense.weight', 'lm_head.bias', 'roberta.pooler.dense.bias', 'lm_head.dense.weight', 'lm_head.layer_norm.bias']\n",
            "- This IS expected if you are initializing XLMRobertaForSequenceClassification from the checkpoint of a model trained on another task or with another architecture (e.g. initializing a BertForSequenceClassification model from a BertForPreTraining model).\n",
            "- This IS NOT expected if you are initializing XLMRobertaForSequenceClassification from the checkpoint of a model that you expect to be exactly identical (initializing a BertForSequenceClassification model from a BertForSequenceClassification model).\n",
            "Some weights of XLMRobertaForSequenceClassification were not initialized from the model checkpoint at xlm-roberta-large and are newly initialized: ['classifier.dense.weight', 'classifier.out_proj.weight', 'classifier.dense.bias', 'classifier.out_proj.bias']\n",
            "You should probably TRAIN this model on a down-stream task to be able to use it for predictions and inference.\n"
          ]
        }
      ],
      "source": [
        "num_classes = len(set(manifesto['sentiment']))\n",
        "model = XLMRobertaForSequenceClassification.from_pretrained(model_name, num_labels=num_classes).to(device)\n"
      ]
    },
    {
      "cell_type": "code",
      "execution_count": 38,
      "metadata": {},
      "outputs": [],
      "source": [
        "class CustomTrainer(Trainer):\n",
        "    def compute_loss(self, model, inputs, return_outputs=False):\n",
        "        labels = inputs.get(\"labels\")\n",
        "        # forward pass\n",
        "        outputs = model(**inputs)\n",
        "        logits = outputs.get(\"logits\")\n",
        "        loss_fct = nn.CrossEntropyLoss(weight=torch.tensor(class_weights).float().to(device))\n",
        "        loss = loss_fct(logits.view(-1, self.model.config.num_labels), labels.view(-1))\n",
        "        return (loss, outputs) if return_outputs else loss"
      ]
    },
    {
      "cell_type": "code",
      "execution_count": 39,
      "metadata": {},
      "outputs": [],
      "source": [
        "## Declare important variables\n",
        "batch_size = 16\n",
        "num_epochs = 3\n",
        "total_steps = len(tokenized_datasets['train'])//batch_size*num_epochs\n",
        "logging_steps = total_steps//10\n",
        "lr = 2e-5"
      ]
    },
    {
      "cell_type": "code",
      "execution_count": 40,
      "metadata": {},
      "outputs": [],
      "source": [
        "training_args = TrainingArguments(\n",
        "    output_dir=\"results/multilingual/manifesto_3cl\",\n",
        "    overwrite_output_dir=True,\n",
        "    evaluation_strategy=\"epoch\",\n",
        "    learning_rate=lr,\n",
        "    weight_decay=0.01,\n",
        "    per_device_train_batch_size=batch_size,\n",
        "    per_device_eval_batch_size=batch_size,\n",
        "    fp16=True,\n",
        "    logging_steps= logging_steps,\n",
        "    num_train_epochs = num_epochs,\n",
        "    save_strategy='epoch',\n",
        "    load_best_model_at_end=True,\n",
        "    optim='adamw_torch'\n",
        ")"
      ]
    },
    {
      "cell_type": "code",
      "execution_count": 41,
      "metadata": {},
      "outputs": [
        {
          "name": "stderr",
          "output_type": "stream",
          "text": [
            "Using cuda_amp half precision backend\n"
          ]
        }
      ],
      "source": [
        "def compute_metrics(eval_preds):\n",
        "    logits, labels = eval_preds\n",
        "    predictions = np.argmax(logits, axis=-1)\n",
        "    precision, recall, f1, _ = precision_recall_fscore_support(labels, predictions, average=None)\n",
        "    matrix = confusion_matrix(labels, predictions)\n",
        "    acc = matrix.diagonal()/matrix.sum(axis=1)\n",
        "    return {\n",
        "        'precision': precision.tolist(),\n",
        "        'recall': recall.tolist(),\n",
        "        'f1': f1.tolist(),\n",
        "        'accuracy': acc.tolist()\n",
        "    }\n",
        "trainer = CustomTrainer(\n",
        "    model,\n",
        "    training_args,\n",
        "    train_dataset=tokenized_datasets[\"train\"],\n",
        "    eval_dataset=tokenized_datasets[\"eval\"],\n",
        "    tokenizer=tokenizer,\n",
        "    compute_metrics=compute_metrics,\n",
        "    data_collator=data_collator\n",
        ")"
      ]
    },
    {
      "cell_type": "code",
      "execution_count": null,
      "metadata": {},
      "outputs": [],
      "source": [
        "trainer.train()"
      ]
    },
    {
      "cell_type": "code",
      "execution_count": null,
      "metadata": {},
      "outputs": [
        {
          "name": "stderr",
          "output_type": "stream",
          "text": [
            "***** Running Evaluation *****\n",
            "  Num examples = 9627\n",
            "  Batch size = 32\n"
          ]
        },
        {
          "data": {
            "application/vnd.jupyter.widget-view+json": {
              "model_id": "5d78e1a53a544fb692d913c9de71a726",
              "version_major": 2,
              "version_minor": 0
            },
            "text/plain": [
              "  0%|          | 0/301 [00:00<?, ?it/s]"
            ]
          },
          "metadata": {},
          "output_type": "display_data"
        },
        {
          "name": "stderr",
          "output_type": "stream",
          "text": [
            "Trainer is attempting to log a value of \"[0.8469760166840459, 0.8484848484848485, 0.6856203007518797]\" of type <class 'list'> for key \"eval/precision\" as a scalar. This invocation of Tensorboard's writer.add_scalar() is incorrect so we dropped this attribute.\n",
            "Trainer is attempting to log a value of \"[0.8373711340206186, 0.7934643860097013, 0.7972677595628416]\" of type <class 'list'> for key \"eval/recall\" as a scalar. This invocation of Tensorboard's writer.add_scalar() is incorrect so we dropped this attribute.\n",
            "Trainer is attempting to log a value of \"[0.8421461897356143, 0.8200527704485487, 0.7372410308236483]\" of type <class 'list'> for key \"eval/f1\" as a scalar. This invocation of Tensorboard's writer.add_scalar() is incorrect so we dropped this attribute.\n",
            "Trainer is attempting to log a value of \"[0.8373711340206186, 0.7934643860097013, 0.7972677595628416]\" of type <class 'list'> for key \"eval/accuracy\" as a scalar. This invocation of Tensorboard's writer.add_scalar() is incorrect so we dropped this attribute.\n"
          ]
        },
        {
          "name": "stdout",
          "output_type": "stream",
          "text": [
            "0.799813330335937\n"
          ]
        }
      ],
      "source": [
        "res = trainer.evaluate(tokenized_datasets['test'])\n",
        "print(sum(res['eval_f1'])/num_classes)"
      ]
    },
    {
      "cell_type": "code",
      "execution_count": null,
      "metadata": {},
      "outputs": [
        {
          "data": {
            "text/html": [
              "<div>\n",
              "<style scoped>\n",
              "    .dataframe tbody tr th:only-of-type {\n",
              "        vertical-align: middle;\n",
              "    }\n",
              "\n",
              "    .dataframe tbody tr th {\n",
              "        vertical-align: top;\n",
              "    }\n",
              "\n",
              "    .dataframe thead th {\n",
              "        text-align: right;\n",
              "    }\n",
              "</style>\n",
              "<table border=\"1\" class=\"dataframe\">\n",
              "  <thead>\n",
              "    <tr style=\"text-align: right;\">\n",
              "      <th></th>\n",
              "      <th>f1</th>\n",
              "      <th>precision</th>\n",
              "      <th>recall</th>\n",
              "      <th>accuracy</th>\n",
              "    </tr>\n",
              "  </thead>\n",
              "  <tbody>\n",
              "    <tr>\n",
              "      <th>0</th>\n",
              "      <td>0.84</td>\n",
              "      <td>0.85</td>\n",
              "      <td>0.84</td>\n",
              "      <td>0.84</td>\n",
              "    </tr>\n",
              "    <tr>\n",
              "      <th>1</th>\n",
              "      <td>0.82</td>\n",
              "      <td>0.85</td>\n",
              "      <td>0.79</td>\n",
              "      <td>0.79</td>\n",
              "    </tr>\n",
              "    <tr>\n",
              "      <th>2</th>\n",
              "      <td>0.74</td>\n",
              "      <td>0.69</td>\n",
              "      <td>0.80</td>\n",
              "      <td>0.80</td>\n",
              "    </tr>\n",
              "  </tbody>\n",
              "</table>\n",
              "</div>"
            ],
            "text/plain": [
              "     f1  precision  recall  accuracy\n",
              "0  0.84       0.85    0.84      0.84\n",
              "1  0.82       0.85    0.79      0.79\n",
              "2  0.74       0.69    0.80      0.80"
            ]
          },
          "metadata": {},
          "output_type": "display_data"
        }
      ],
      "source": [
        "res_table = pd.DataFrame({'f1': np.round(res['eval_f1'],2), 'precision': np.round(res['eval_precision'],2), \n",
        "'recall': np.round(res['eval_recall'],2), 'accuracy': np.round(res['eval_accuracy'],2)})\n",
        "res_table"
      ]
    },
    {
      "cell_type": "code",
      "execution_count": null,
      "metadata": {},
      "outputs": [
        {
          "data": {
            "text/plain": [
              "f1           0.80\n",
              "precision    0.80\n",
              "recall       0.81\n",
              "accuracy     0.81\n",
              "dtype: float64"
            ]
          },
          "metadata": {},
          "output_type": "display_data"
        }
      ],
      "source": [
        "round(res_table.mean(axis=0),2)"
      ]
    },
    {
      "attachments": {},
      "cell_type": "markdown",
      "metadata": {},
      "source": [
        "## Validation: supervised vs unsupervised dimensionality reduction"
      ]
    },
    {
      "attachments": {},
      "cell_type": "markdown",
      "metadata": {},
      "source": [
        "### PCA"
      ]
    },
    {
      "cell_type": "code",
      "execution_count": null,
      "metadata": {},
      "outputs": [],
      "source": []
    },
    {
      "attachments": {},
      "cell_type": "markdown",
      "metadata": {},
      "source": [
        "### Autoencoders"
      ]
    },
    {
      "cell_type": "code",
      "execution_count": null,
      "metadata": {},
      "outputs": [],
      "source": []
    },
    {
      "attachments": {},
      "cell_type": "markdown",
      "metadata": {},
      "source": [
        "### Ivis"
      ]
    },
    {
      "cell_type": "code",
      "execution_count": null,
      "metadata": {},
      "outputs": [],
      "source": []
    },
    {
      "attachments": {},
      "cell_type": "markdown",
      "metadata": {},
      "source": [
        "# Extensions"
      ]
    },
    {
      "attachments": {},
      "cell_type": "markdown",
      "metadata": {},
      "source": [
        "## Cross-lingual classification performance"
      ]
    },
    {
      "attachments": {},
      "cell_type": "markdown",
      "metadata": {},
      "source": [
        "## Cross-domain trasnfer: Stances versus Trump"
      ]
    },
    {
      "attachments": {},
      "cell_type": "markdown",
      "metadata": {},
      "source": [
        "### First, train a model for 2-class only"
      ]
    },
    {
      "cell_type": "code",
      "execution_count": 103,
      "metadata": {},
      "outputs": [],
      "source": [
        "trump_tweets = pd.read_csv(os.path.join('data','sins_tweets','MOTN_responses_groundtruth.csv'))"
      ]
    },
    {
      "cell_type": "code",
      "execution_count": 104,
      "metadata": {},
      "outputs": [
        {
          "data": {
            "text/plain": [
              "7146"
            ]
          },
          "execution_count": 104,
          "metadata": {},
          "output_type": "execute_result"
        }
      ],
      "source": [
        "len(trump_tweets)"
      ]
    },
    {
      "cell_type": "code",
      "execution_count": 106,
      "metadata": {},
      "outputs": [
        {
          "data": {
            "text/html": [
              "<div>\n",
              "<style scoped>\n",
              "    .dataframe tbody tr th:only-of-type {\n",
              "        vertical-align: middle;\n",
              "    }\n",
              "\n",
              "    .dataframe tbody tr th {\n",
              "        vertical-align: top;\n",
              "    }\n",
              "\n",
              "    .dataframe thead th {\n",
              "        text-align: right;\n",
              "    }\n",
              "</style>\n",
              "<table border=\"1\" class=\"dataframe\">\n",
              "  <thead>\n",
              "    <tr style=\"text-align: right;\">\n",
              "      <th></th>\n",
              "      <th>wavenum</th>\n",
              "      <th>ideo5</th>\n",
              "      <th>edits_clean_text</th>\n",
              "      <th>qpos</th>\n",
              "      <th>lexicoder_sentiment</th>\n",
              "      <th>fold</th>\n",
              "      <th>vader_sentiment</th>\n",
              "      <th>SVM_sentiment</th>\n",
              "      <th>BERT_sentiment</th>\n",
              "      <th>SVM_stance</th>\n",
              "      <th>BERT_stance</th>\n",
              "      <th>vader_scores</th>\n",
              "    </tr>\n",
              "    <tr>\n",
              "      <th>trump_stance_auto</th>\n",
              "      <th></th>\n",
              "      <th></th>\n",
              "      <th></th>\n",
              "      <th></th>\n",
              "      <th></th>\n",
              "      <th></th>\n",
              "      <th></th>\n",
              "      <th></th>\n",
              "      <th></th>\n",
              "      <th></th>\n",
              "      <th></th>\n",
              "      <th></th>\n",
              "    </tr>\n",
              "  </thead>\n",
              "  <tbody>\n",
              "    <tr>\n",
              "      <th>0</th>\n",
              "      <td>4312</td>\n",
              "      <td>4312</td>\n",
              "      <td>4312</td>\n",
              "      <td>4312</td>\n",
              "      <td>1885</td>\n",
              "      <td>4312</td>\n",
              "      <td>2012</td>\n",
              "      <td>4312</td>\n",
              "      <td>4312</td>\n",
              "      <td>4312</td>\n",
              "      <td>4312</td>\n",
              "      <td>4312</td>\n",
              "    </tr>\n",
              "    <tr>\n",
              "      <th>1</th>\n",
              "      <td>2834</td>\n",
              "      <td>2834</td>\n",
              "      <td>2834</td>\n",
              "      <td>2834</td>\n",
              "      <td>1434</td>\n",
              "      <td>2834</td>\n",
              "      <td>1573</td>\n",
              "      <td>2834</td>\n",
              "      <td>2834</td>\n",
              "      <td>2834</td>\n",
              "      <td>2834</td>\n",
              "      <td>2834</td>\n",
              "    </tr>\n",
              "  </tbody>\n",
              "</table>\n",
              "</div>"
            ],
            "text/plain": [
              "                   wavenum  ideo5  edits_clean_text  qpos  \\\n",
              "trump_stance_auto                                           \n",
              "0                     4312   4312              4312  4312   \n",
              "1                     2834   2834              2834  2834   \n",
              "\n",
              "                   lexicoder_sentiment  fold  vader_sentiment  SVM_sentiment  \\\n",
              "trump_stance_auto                                                              \n",
              "0                                 1885  4312             2012           4312   \n",
              "1                                 1434  2834             1573           2834   \n",
              "\n",
              "                   BERT_sentiment  SVM_stance  BERT_stance  vader_scores  \n",
              "trump_stance_auto                                                         \n",
              "0                            4312        4312         4312          4312  \n",
              "1                            2834        2834         2834          2834  "
            ]
          },
          "execution_count": 106,
          "metadata": {},
          "output_type": "execute_result"
        }
      ],
      "source": [
        "trump_tweets.groupby('trump_stance_auto').count()"
      ]
    },
    {
      "cell_type": "code",
      "execution_count": 107,
      "metadata": {},
      "outputs": [
        {
          "data": {
            "text/html": [
              "<div>\n",
              "<style scoped>\n",
              "    .dataframe tbody tr th:only-of-type {\n",
              "        vertical-align: middle;\n",
              "    }\n",
              "\n",
              "    .dataframe tbody tr th {\n",
              "        vertical-align: top;\n",
              "    }\n",
              "\n",
              "    .dataframe thead th {\n",
              "        text-align: right;\n",
              "    }\n",
              "</style>\n",
              "<table border=\"1\" class=\"dataframe\">\n",
              "  <thead>\n",
              "    <tr style=\"text-align: right;\">\n",
              "      <th></th>\n",
              "      <th>wavenum</th>\n",
              "      <th>ideo5</th>\n",
              "      <th>edits_clean_text</th>\n",
              "      <th>qpos</th>\n",
              "      <th>trump_stance_auto</th>\n",
              "      <th>lexicoder_sentiment</th>\n",
              "      <th>fold</th>\n",
              "      <th>vader_sentiment</th>\n",
              "      <th>SVM_sentiment</th>\n",
              "      <th>BERT_sentiment</th>\n",
              "      <th>SVM_stance</th>\n",
              "      <th>BERT_stance</th>\n",
              "      <th>vader_scores</th>\n",
              "    </tr>\n",
              "  </thead>\n",
              "  <tbody>\n",
              "    <tr>\n",
              "      <th>0</th>\n",
              "      <td>3</td>\n",
              "      <td>Moderate</td>\n",
              "      <td>the recent election of donald trump the freedo...</td>\n",
              "      <td>1</td>\n",
              "      <td>1</td>\n",
              "      <td>1.0</td>\n",
              "      <td>3</td>\n",
              "      <td>1.0</td>\n",
              "      <td>1</td>\n",
              "      <td>1</td>\n",
              "      <td>1</td>\n",
              "      <td>0</td>\n",
              "      <td>0.6369</td>\n",
              "    </tr>\n",
              "    <tr>\n",
              "      <th>1</th>\n",
              "      <td>3</td>\n",
              "      <td>Very conservative</td>\n",
              "      <td>donald trump won</td>\n",
              "      <td>1</td>\n",
              "      <td>1</td>\n",
              "      <td>1.0</td>\n",
              "      <td>1</td>\n",
              "      <td>1.0</td>\n",
              "      <td>1</td>\n",
              "      <td>1</td>\n",
              "      <td>1</td>\n",
              "      <td>1</td>\n",
              "      <td>0.5719</td>\n",
              "    </tr>\n",
              "    <tr>\n",
              "      <th>2</th>\n",
              "      <td>3</td>\n",
              "      <td>Conservative</td>\n",
              "      <td>that donald trump beat hillary clinton</td>\n",
              "      <td>1</td>\n",
              "      <td>1</td>\n",
              "      <td>NaN</td>\n",
              "      <td>5</td>\n",
              "      <td>NaN</td>\n",
              "      <td>1</td>\n",
              "      <td>1</td>\n",
              "      <td>1</td>\n",
              "      <td>1</td>\n",
              "      <td>0.0000</td>\n",
              "    </tr>\n",
              "    <tr>\n",
              "      <th>3</th>\n",
              "      <td>3</td>\n",
              "      <td>Conservative</td>\n",
              "      <td>donald trump was elected president</td>\n",
              "      <td>1</td>\n",
              "      <td>1</td>\n",
              "      <td>NaN</td>\n",
              "      <td>5</td>\n",
              "      <td>NaN</td>\n",
              "      <td>1</td>\n",
              "      <td>1</td>\n",
              "      <td>1</td>\n",
              "      <td>1</td>\n",
              "      <td>0.0000</td>\n",
              "    </tr>\n",
              "    <tr>\n",
              "      <th>4</th>\n",
              "      <td>3</td>\n",
              "      <td>Conservative</td>\n",
              "      <td>the american people saw through the obfuscatio...</td>\n",
              "      <td>1</td>\n",
              "      <td>1</td>\n",
              "      <td>1.0</td>\n",
              "      <td>3</td>\n",
              "      <td>1.0</td>\n",
              "      <td>0</td>\n",
              "      <td>1</td>\n",
              "      <td>1</td>\n",
              "      <td>1</td>\n",
              "      <td>0.4019</td>\n",
              "    </tr>\n",
              "  </tbody>\n",
              "</table>\n",
              "</div>"
            ],
            "text/plain": [
              "   wavenum              ideo5  \\\n",
              "0        3           Moderate   \n",
              "1        3  Very conservative   \n",
              "2        3       Conservative   \n",
              "3        3       Conservative   \n",
              "4        3       Conservative   \n",
              "\n",
              "                                    edits_clean_text  qpos  trump_stance_auto  \\\n",
              "0  the recent election of donald trump the freedo...     1                  1   \n",
              "1                                   donald trump won     1                  1   \n",
              "2             that donald trump beat hillary clinton     1                  1   \n",
              "3                 donald trump was elected president     1                  1   \n",
              "4  the american people saw through the obfuscatio...     1                  1   \n",
              "\n",
              "   lexicoder_sentiment  fold  vader_sentiment  SVM_sentiment  BERT_sentiment  \\\n",
              "0                  1.0     3              1.0              1               1   \n",
              "1                  1.0     1              1.0              1               1   \n",
              "2                  NaN     5              NaN              1               1   \n",
              "3                  NaN     5              NaN              1               1   \n",
              "4                  1.0     3              1.0              0               1   \n",
              "\n",
              "   SVM_stance  BERT_stance  vader_scores  \n",
              "0           1            0        0.6369  \n",
              "1           1            1        0.5719  \n",
              "2           1            1        0.0000  \n",
              "3           1            1        0.0000  \n",
              "4           1            1        0.4019  "
            ]
          },
          "execution_count": 107,
          "metadata": {},
          "output_type": "execute_result"
        }
      ],
      "source": [
        "trump_tweets.head()"
      ]
    },
    {
      "cell_type": "code",
      "execution_count": null,
      "metadata": {},
      "outputs": [],
      "source": [
        "transformer_model = 'xlm-roberta-base'\n",
        "tokenizer = AutoTokenizer.from_pretrained(transformer_model)\n",
        "data_collator = DataCollatorWithPadding(tokenizer)"
      ]
    },
    {
      "cell_type": "code",
      "execution_count": 110,
      "metadata": {},
      "outputs": [],
      "source": [
        "trump_reduced = trump_tweets[['trump_stance_auto','edits_clean_text']]"
      ]
    },
    {
      "cell_type": "code",
      "execution_count": 111,
      "metadata": {},
      "outputs": [
        {
          "data": {
            "application/vnd.jupyter.widget-view+json": {
              "model_id": "3c43987b376444aeb25c2adbd451dd00",
              "version_major": 2,
              "version_minor": 0
            },
            "text/plain": [
              "Stringifying the column:   0%|          | 0/8 [00:00<?, ?ba/s]"
            ]
          },
          "metadata": {},
          "output_type": "display_data"
        },
        {
          "data": {
            "application/vnd.jupyter.widget-view+json": {
              "model_id": "1a96c47b44c24ff5876874ae9ec8b744",
              "version_major": 2,
              "version_minor": 0
            },
            "text/plain": [
              "Casting to class labels:   0%|          | 0/8 [00:00<?, ?ba/s]"
            ]
          },
          "metadata": {},
          "output_type": "display_data"
        },
        {
          "data": {
            "application/vnd.jupyter.widget-view+json": {
              "model_id": "cf3f1605227842a2a19b8d2f9c1dc439",
              "version_major": 2,
              "version_minor": 0
            },
            "text/plain": [
              "Casting the dataset:   0%|          | 0/1 [00:00<?, ?ba/s]"
            ]
          },
          "metadata": {},
          "output_type": "display_data"
        }
      ],
      "source": [
        "trump_dataset = Dataset.from_pandas(trump_reduced)\n",
        "trump_dataset = trump_dataset.class_encode_column('trump_stance_auto')\n",
        "trump_dataset = trump_dataset.rename_column('trump_stance_auto','labels')\n",
        "\n"
      ]
    },
    {
      "cell_type": "code",
      "execution_count": 112,
      "metadata": {},
      "outputs": [],
      "source": [
        "train_test = trump_dataset.train_test_split(test_size=0.8, stratify_by_column='labels', seed=seed_val)\n",
        "train_eval = train_test['train'].train_test_split(test_size=0.25, stratify_by_column='labels', seed=seed_val)"
      ]
    },
    {
      "cell_type": "code",
      "execution_count": 114,
      "metadata": {},
      "outputs": [
        {
          "data": {
            "text/plain": [
              "DatasetDict({\n",
              "    train: Dataset({\n",
              "        features: ['labels', 'edits_clean_text'],\n",
              "        num_rows: 1071\n",
              "    })\n",
              "    test: Dataset({\n",
              "        features: ['labels', 'edits_clean_text'],\n",
              "        num_rows: 5717\n",
              "    })\n",
              "    eval: Dataset({\n",
              "        features: ['labels', 'edits_clean_text'],\n",
              "        num_rows: 358\n",
              "    })\n",
              "})"
            ]
          },
          "execution_count": 114,
          "metadata": {},
          "output_type": "execute_result"
        }
      ],
      "source": [
        "trump_datasets = DatasetDict({\n",
        "    'train': train_eval['train'],\n",
        "    'test': train_test['test'],\n",
        "    'eval': train_eval['test']\n",
        "})\n",
        "trump_datasets"
      ]
    },
    {
      "cell_type": "code",
      "execution_count": 115,
      "metadata": {},
      "outputs": [],
      "source": [
        "train_df = Dataset.to_pandas(trump_datasets['train'])"
      ]
    },
    {
      "cell_type": "code",
      "execution_count": 116,
      "metadata": {},
      "outputs": [
        {
          "data": {
            "text/html": [
              "<div>\n",
              "<style scoped>\n",
              "    .dataframe tbody tr th:only-of-type {\n",
              "        vertical-align: middle;\n",
              "    }\n",
              "\n",
              "    .dataframe tbody tr th {\n",
              "        vertical-align: top;\n",
              "    }\n",
              "\n",
              "    .dataframe thead th {\n",
              "        text-align: right;\n",
              "    }\n",
              "</style>\n",
              "<table border=\"1\" class=\"dataframe\">\n",
              "  <thead>\n",
              "    <tr style=\"text-align: right;\">\n",
              "      <th></th>\n",
              "      <th>edits_clean_text</th>\n",
              "    </tr>\n",
              "    <tr>\n",
              "      <th>labels</th>\n",
              "      <th></th>\n",
              "    </tr>\n",
              "  </thead>\n",
              "  <tbody>\n",
              "    <tr>\n",
              "      <th>0</th>\n",
              "      <td>646</td>\n",
              "    </tr>\n",
              "    <tr>\n",
              "      <th>1</th>\n",
              "      <td>425</td>\n",
              "    </tr>\n",
              "  </tbody>\n",
              "</table>\n",
              "</div>"
            ],
            "text/plain": [
              "        edits_clean_text\n",
              "labels                  \n",
              "0                    646\n",
              "1                    425"
            ]
          },
          "execution_count": 116,
          "metadata": {},
          "output_type": "execute_result"
        }
      ],
      "source": [
        "train_df.groupby('labels').count()"
      ]
    },
    {
      "cell_type": "code",
      "execution_count": 117,
      "metadata": {},
      "outputs": [
        {
          "name": "stdout",
          "output_type": "stream",
          "text": [
            "[0.82894737 1.26      ]\n"
          ]
        }
      ],
      "source": [
        "from sklearn.utils import class_weight\n",
        "class_weights = class_weight.compute_class_weight(class_weight='balanced', classes=np.unique(train_df.labels),y=train_df['labels'].tolist())\n",
        "print(class_weights)\n"
      ]
    },
    {
      "cell_type": "code",
      "execution_count": 121,
      "metadata": {},
      "outputs": [],
      "source": [
        "def tokenize_function(dataset):\n",
        "    return tokenizer(dataset['edits_clean_text'], truncation=True)\n"
      ]
    },
    {
      "cell_type": "code",
      "execution_count": 123,
      "metadata": {},
      "outputs": [
        {
          "data": {
            "application/vnd.jupyter.widget-view+json": {
              "model_id": "eb1bfdc650e24987824ece5e162ea4e7",
              "version_major": 2,
              "version_minor": 0
            },
            "text/plain": [
              "  0%|          | 0/2 [00:00<?, ?ba/s]"
            ]
          },
          "metadata": {},
          "output_type": "display_data"
        },
        {
          "data": {
            "application/vnd.jupyter.widget-view+json": {
              "model_id": "d7d06ab12dc14210b9f6eb6d2281b30b",
              "version_major": 2,
              "version_minor": 0
            },
            "text/plain": [
              "  0%|          | 0/6 [00:00<?, ?ba/s]"
            ]
          },
          "metadata": {},
          "output_type": "display_data"
        },
        {
          "data": {
            "application/vnd.jupyter.widget-view+json": {
              "model_id": "a0f5b6a2beab488c927511f379808114",
              "version_major": 2,
              "version_minor": 0
            },
            "text/plain": [
              "  0%|          | 0/1 [00:00<?, ?ba/s]"
            ]
          },
          "metadata": {},
          "output_type": "display_data"
        }
      ],
      "source": [
        "tokenized_datasets = trump_datasets.map(tokenize_function, batched=True, remove_columns=['edits_clean_text'])"
      ]
    },
    {
      "cell_type": "code",
      "execution_count": 124,
      "metadata": {},
      "outputs": [
        {
          "data": {
            "text/plain": [
              "['labels', 'input_ids', 'attention_mask']"
            ]
          },
          "execution_count": 124,
          "metadata": {},
          "output_type": "execute_result"
        }
      ],
      "source": [
        "tokenized_datasets.set_format(\"torch\")\n",
        "tokenized_datasets[\"train\"].column_names"
      ]
    },
    {
      "cell_type": "code",
      "execution_count": 127,
      "metadata": {},
      "outputs": [
        {
          "name": "stderr",
          "output_type": "stream",
          "text": [
            "loading configuration file config.json from cache at C:\\Users\\Hung/.cache\\huggingface\\hub\\models--xlm-roberta-base\\snapshots\\77de1f7a7e5e737aead1cd880979d4f1b3af6668\\config.json\n",
            "Model config XLMRobertaConfig {\n",
            "  \"architectures\": [\n",
            "    \"XLMRobertaForMaskedLM\"\n",
            "  ],\n",
            "  \"attention_probs_dropout_prob\": 0.1,\n",
            "  \"bos_token_id\": 0,\n",
            "  \"classifier_dropout\": null,\n",
            "  \"eos_token_id\": 2,\n",
            "  \"hidden_act\": \"gelu\",\n",
            "  \"hidden_dropout_prob\": 0.1,\n",
            "  \"hidden_size\": 768,\n",
            "  \"initializer_range\": 0.02,\n",
            "  \"intermediate_size\": 3072,\n",
            "  \"layer_norm_eps\": 1e-05,\n",
            "  \"max_position_embeddings\": 514,\n",
            "  \"model_type\": \"xlm-roberta\",\n",
            "  \"num_attention_heads\": 12,\n",
            "  \"num_hidden_layers\": 12,\n",
            "  \"output_past\": true,\n",
            "  \"pad_token_id\": 1,\n",
            "  \"position_embedding_type\": \"absolute\",\n",
            "  \"transformers_version\": \"4.25.1\",\n",
            "  \"type_vocab_size\": 1,\n",
            "  \"use_cache\": true,\n",
            "  \"vocab_size\": 250002\n",
            "}\n",
            "\n",
            "loading weights file pytorch_model.bin from cache at C:\\Users\\Hung/.cache\\huggingface\\hub\\models--xlm-roberta-base\\snapshots\\77de1f7a7e5e737aead1cd880979d4f1b3af6668\\pytorch_model.bin\n",
            "Some weights of the model checkpoint at xlm-roberta-base were not used when initializing XLMRobertaForSequenceClassification: ['roberta.pooler.dense.bias', 'roberta.pooler.dense.weight', 'lm_head.layer_norm.weight', 'lm_head.dense.bias', 'lm_head.bias', 'lm_head.layer_norm.bias', 'lm_head.dense.weight', 'lm_head.decoder.weight']\n",
            "- This IS expected if you are initializing XLMRobertaForSequenceClassification from the checkpoint of a model trained on another task or with another architecture (e.g. initializing a BertForSequenceClassification model from a BertForPreTraining model).\n",
            "- This IS NOT expected if you are initializing XLMRobertaForSequenceClassification from the checkpoint of a model that you expect to be exactly identical (initializing a BertForSequenceClassification model from a BertForSequenceClassification model).\n",
            "Some weights of XLMRobertaForSequenceClassification were not initialized from the model checkpoint at xlm-roberta-base and are newly initialized: ['classifier.out_proj.weight', 'classifier.dense.bias', 'classifier.dense.weight', 'classifier.out_proj.bias']\n",
            "You should probably TRAIN this model on a down-stream task to be able to use it for predictions and inference.\n"
          ]
        }
      ],
      "source": [
        "num_classes = len(set(trump_tweets['trump_stance_auto']))\n",
        "model = XLMRobertaForSequenceClassification.from_pretrained(transformer_model, num_labels=num_classes).to(device)\n"
      ]
    },
    {
      "cell_type": "code",
      "execution_count": 128,
      "metadata": {},
      "outputs": [],
      "source": [
        "class CustomTrainer(Trainer):\n",
        "    def compute_loss(self, model, inputs, return_outputs=False):\n",
        "        labels = inputs.get(\"labels\")\n",
        "        # forward pass\n",
        "        outputs = model(**inputs)\n",
        "        logits = outputs.get(\"logits\")\n",
        "        loss_fct = nn.CrossEntropyLoss(weight=torch.tensor(class_weights).float().to(device))\n",
        "        loss = loss_fct(logits.view(-1, self.model.config.num_labels), labels.view(-1))\n",
        "        return (loss, outputs) if return_outputs else loss"
      ]
    },
    {
      "cell_type": "code",
      "execution_count": 130,
      "metadata": {},
      "outputs": [
        {
          "name": "stderr",
          "output_type": "stream",
          "text": [
            "PyTorch: setting up devices\n",
            "The default value for the training argument `--report_to` will change in v5 (from all installed integrations to none). In v5, you will need to use `--report_to all` to get the same behavior as now. You should start updating your code and make this info disappear :-).\n"
          ]
        }
      ],
      "source": [
        "batch_size = 32\n",
        "training_args = TrainingArguments(\n",
        "    output_dir=\"results/multilingual/trump_2cl\",\n",
        "    overwrite_output_dir=True,\n",
        "    evaluation_strategy=\"epoch\",\n",
        "    learning_rate=2e-5,\n",
        "    weight_decay=0.01,\n",
        "    per_device_train_batch_size=batch_size,\n",
        "    per_device_eval_batch_size=batch_size,\n",
        "    fp16=True,\n",
        "    logging_steps= 100,\n",
        "    num_train_epochs = 3,\n",
        "    save_strategy='epoch',\n",
        "    load_best_model_at_end=True,\n",
        "    optim='adamw_torch'\n",
        ")"
      ]
    },
    {
      "cell_type": "code",
      "execution_count": 131,
      "metadata": {},
      "outputs": [
        {
          "name": "stderr",
          "output_type": "stream",
          "text": [
            "Using cuda_amp half precision backend\n"
          ]
        }
      ],
      "source": [
        "def compute_metrics(eval_preds):\n",
        "    logits, labels = eval_preds\n",
        "    predictions = np.argmax(logits, axis=-1)\n",
        "    precision, recall, f1, _ = precision_recall_fscore_support(labels, predictions, average=None)\n",
        "    matrix = confusion_matrix(labels, predictions)\n",
        "    acc = matrix.diagonal()/matrix.sum(axis=1)\n",
        "    return {\n",
        "        'precision': precision.tolist(),\n",
        "        'recall': recall.tolist(),\n",
        "        'f1': f1.tolist(),\n",
        "        'accuracy': acc.tolist()\n",
        "    }\n",
        "trainer = CustomTrainer(\n",
        "    model,\n",
        "    training_args,\n",
        "    train_dataset=tokenized_datasets[\"train\"],\n",
        "    eval_dataset=tokenized_datasets[\"eval\"],\n",
        "    tokenizer=tokenizer,\n",
        "    compute_metrics=compute_metrics,\n",
        "    data_collator=data_collator\n",
        ")"
      ]
    },
    {
      "cell_type": "code",
      "execution_count": 132,
      "metadata": {},
      "outputs": [
        {
          "name": "stderr",
          "output_type": "stream",
          "text": [
            "***** Running training *****\n",
            "  Num examples = 1071\n",
            "  Num Epochs = 3\n",
            "  Instantaneous batch size per device = 32\n",
            "  Total train batch size (w. parallel, distributed & accumulation) = 32\n",
            "  Gradient Accumulation steps = 1\n",
            "  Total optimization steps = 102\n",
            "  Number of trainable parameters = 278045186\n"
          ]
        },
        {
          "data": {
            "application/vnd.jupyter.widget-view+json": {
              "model_id": "de4e5c91c59d4ea780110c1726727515",
              "version_major": 2,
              "version_minor": 0
            },
            "text/plain": [
              "  0%|          | 0/102 [00:00<?, ?it/s]"
            ]
          },
          "metadata": {},
          "output_type": "display_data"
        },
        {
          "name": "stderr",
          "output_type": "stream",
          "text": [
            "You're using a XLMRobertaTokenizerFast tokenizer. Please note that with a fast tokenizer, using the `__call__` method is faster than using a method to encode the text followed by a call to the `pad` method to get a padded encoding.\n",
            "***** Running Evaluation *****\n",
            "  Num examples = 358\n",
            "  Batch size = 32\n"
          ]
        },
        {
          "data": {
            "application/vnd.jupyter.widget-view+json": {
              "model_id": "d3350051179344eab0e5696007567985",
              "version_major": 2,
              "version_minor": 0
            },
            "text/plain": [
              "  0%|          | 0/12 [00:00<?, ?it/s]"
            ]
          },
          "metadata": {},
          "output_type": "display_data"
        },
        {
          "name": "stderr",
          "output_type": "stream",
          "text": [
            "Trainer is attempting to log a value of \"[0.671875, 0.41156462585034015]\" of type <class 'list'> for key \"eval/precision\" as a scalar. This invocation of Tensorboard's writer.add_scalar() is incorrect so we dropped this attribute.\n",
            "Trainer is attempting to log a value of \"[0.19907407407407407, 0.852112676056338]\" of type <class 'list'> for key \"eval/recall\" as a scalar. This invocation of Tensorboard's writer.add_scalar() is incorrect so we dropped this attribute.\n",
            "Trainer is attempting to log a value of \"[0.30714285714285716, 0.5550458715596329]\" of type <class 'list'> for key \"eval/f1\" as a scalar. This invocation of Tensorboard's writer.add_scalar() is incorrect so we dropped this attribute.\n",
            "Trainer is attempting to log a value of \"[0.19907407407407407, 0.852112676056338]\" of type <class 'list'> for key \"eval/accuracy\" as a scalar. This invocation of Tensorboard's writer.add_scalar() is incorrect so we dropped this attribute.\n",
            "Saving model checkpoint to results/multilingual/trump_2cl\\checkpoint-34\n",
            "Configuration saved in results/multilingual/trump_2cl\\checkpoint-34\\config.json\n"
          ]
        },
        {
          "name": "stdout",
          "output_type": "stream",
          "text": [
            "{'eval_loss': 0.6908105611801147, 'eval_precision': [0.671875, 0.41156462585034015], 'eval_recall': [0.19907407407407407, 0.852112676056338], 'eval_f1': [0.30714285714285716, 0.5550458715596329], 'eval_accuracy': [0.19907407407407407, 0.852112676056338], 'eval_runtime': 0.3768, 'eval_samples_per_second': 950.068, 'eval_steps_per_second': 31.846, 'epoch': 1.0}\n"
          ]
        },
        {
          "name": "stderr",
          "output_type": "stream",
          "text": [
            "Model weights saved in results/multilingual/trump_2cl\\checkpoint-34\\pytorch_model.bin\n",
            "tokenizer config file saved in results/multilingual/trump_2cl\\checkpoint-34\\tokenizer_config.json\n",
            "Special tokens file saved in results/multilingual/trump_2cl\\checkpoint-34\\special_tokens_map.json\n",
            "***** Running Evaluation *****\n",
            "  Num examples = 358\n",
            "  Batch size = 32\n"
          ]
        },
        {
          "data": {
            "application/vnd.jupyter.widget-view+json": {
              "model_id": "07cb5b25f54b43469857cbb338b516bc",
              "version_major": 2,
              "version_minor": 0
            },
            "text/plain": [
              "  0%|          | 0/12 [00:00<?, ?it/s]"
            ]
          },
          "metadata": {},
          "output_type": "display_data"
        },
        {
          "name": "stderr",
          "output_type": "stream",
          "text": [
            "Trainer is attempting to log a value of \"[0.6784140969162996, 0.5267175572519084]\" of type <class 'list'> for key \"eval/precision\" as a scalar. This invocation of Tensorboard's writer.add_scalar() is incorrect so we dropped this attribute.\n",
            "Trainer is attempting to log a value of \"[0.7129629629629629, 0.4859154929577465]\" of type <class 'list'> for key \"eval/recall\" as a scalar. This invocation of Tensorboard's writer.add_scalar() is incorrect so we dropped this attribute.\n",
            "Trainer is attempting to log a value of \"[0.6952595936794582, 0.5054945054945056]\" of type <class 'list'> for key \"eval/f1\" as a scalar. This invocation of Tensorboard's writer.add_scalar() is incorrect so we dropped this attribute.\n",
            "Trainer is attempting to log a value of \"[0.7129629629629629, 0.4859154929577465]\" of type <class 'list'> for key \"eval/accuracy\" as a scalar. This invocation of Tensorboard's writer.add_scalar() is incorrect so we dropped this attribute.\n",
            "Saving model checkpoint to results/multilingual/trump_2cl\\checkpoint-68\n",
            "Configuration saved in results/multilingual/trump_2cl\\checkpoint-68\\config.json\n"
          ]
        },
        {
          "name": "stdout",
          "output_type": "stream",
          "text": [
            "{'eval_loss': 0.6777951717376709, 'eval_precision': [0.6784140969162996, 0.5267175572519084], 'eval_recall': [0.7129629629629629, 0.4859154929577465], 'eval_f1': [0.6952595936794582, 0.5054945054945056], 'eval_accuracy': [0.7129629629629629, 0.4859154929577465], 'eval_runtime': 0.3608, 'eval_samples_per_second': 992.304, 'eval_steps_per_second': 33.262, 'epoch': 2.0}\n"
          ]
        },
        {
          "name": "stderr",
          "output_type": "stream",
          "text": [
            "Model weights saved in results/multilingual/trump_2cl\\checkpoint-68\\pytorch_model.bin\n",
            "tokenizer config file saved in results/multilingual/trump_2cl\\checkpoint-68\\tokenizer_config.json\n",
            "Special tokens file saved in results/multilingual/trump_2cl\\checkpoint-68\\special_tokens_map.json\n"
          ]
        },
        {
          "name": "stdout",
          "output_type": "stream",
          "text": [
            "{'loss': 0.6826, 'learning_rate': 7.843137254901962e-07, 'epoch': 2.94}\n"
          ]
        },
        {
          "name": "stderr",
          "output_type": "stream",
          "text": [
            "***** Running Evaluation *****\n",
            "  Num examples = 358\n",
            "  Batch size = 32\n"
          ]
        },
        {
          "data": {
            "application/vnd.jupyter.widget-view+json": {
              "model_id": "0f6529fa4bc345b2a646a7eaaedc1259",
              "version_major": 2,
              "version_minor": 0
            },
            "text/plain": [
              "  0%|          | 0/12 [00:00<?, ?it/s]"
            ]
          },
          "metadata": {},
          "output_type": "display_data"
        },
        {
          "name": "stderr",
          "output_type": "stream",
          "text": [
            "Trainer is attempting to log a value of \"[0.7166666666666667, 0.5112359550561798]\" of type <class 'list'> for key \"eval/precision\" as a scalar. This invocation of Tensorboard's writer.add_scalar() is incorrect so we dropped this attribute.\n",
            "Trainer is attempting to log a value of \"[0.5972222222222222, 0.6408450704225352]\" of type <class 'list'> for key \"eval/recall\" as a scalar. This invocation of Tensorboard's writer.add_scalar() is incorrect so we dropped this attribute.\n",
            "Trainer is attempting to log a value of \"[0.6515151515151515, 0.56875]\" of type <class 'list'> for key \"eval/f1\" as a scalar. This invocation of Tensorboard's writer.add_scalar() is incorrect so we dropped this attribute.\n",
            "Trainer is attempting to log a value of \"[0.5972222222222222, 0.6408450704225352]\" of type <class 'list'> for key \"eval/accuracy\" as a scalar. This invocation of Tensorboard's writer.add_scalar() is incorrect so we dropped this attribute.\n",
            "Saving model checkpoint to results/multilingual/trump_2cl\\checkpoint-102\n",
            "Configuration saved in results/multilingual/trump_2cl\\checkpoint-102\\config.json\n"
          ]
        },
        {
          "name": "stdout",
          "output_type": "stream",
          "text": [
            "{'eval_loss': 0.6416300535202026, 'eval_precision': [0.7166666666666667, 0.5112359550561798], 'eval_recall': [0.5972222222222222, 0.6408450704225352], 'eval_f1': [0.6515151515151515, 0.56875], 'eval_accuracy': [0.5972222222222222, 0.6408450704225352], 'eval_runtime': 0.3772, 'eval_samples_per_second': 949.216, 'eval_steps_per_second': 31.817, 'epoch': 3.0}\n"
          ]
        },
        {
          "name": "stderr",
          "output_type": "stream",
          "text": [
            "Model weights saved in results/multilingual/trump_2cl\\checkpoint-102\\pytorch_model.bin\n",
            "tokenizer config file saved in results/multilingual/trump_2cl\\checkpoint-102\\tokenizer_config.json\n",
            "Special tokens file saved in results/multilingual/trump_2cl\\checkpoint-102\\special_tokens_map.json\n",
            "\n",
            "\n",
            "Training completed. Do not forget to share your model on huggingface.co/models =)\n",
            "\n",
            "\n",
            "Loading best model from results/multilingual/trump_2cl\\checkpoint-102 (score: 0.6416300535202026).\n"
          ]
        },
        {
          "name": "stdout",
          "output_type": "stream",
          "text": [
            "{'train_runtime': 28.3998, 'train_samples_per_second': 113.135, 'train_steps_per_second': 3.592, 'train_loss': 0.6809998844184127, 'epoch': 3.0}\n"
          ]
        },
        {
          "data": {
            "text/plain": [
              "TrainOutput(global_step=102, training_loss=0.6809998844184127, metrics={'train_runtime': 28.3998, 'train_samples_per_second': 113.135, 'train_steps_per_second': 3.592, 'train_loss': 0.6809998844184127, 'epoch': 3.0})"
            ]
          },
          "execution_count": 132,
          "metadata": {},
          "output_type": "execute_result"
        }
      ],
      "source": [
        "trainer.train()"
      ]
    },
    {
      "cell_type": "code",
      "execution_count": 133,
      "metadata": {},
      "outputs": [
        {
          "name": "stderr",
          "output_type": "stream",
          "text": [
            "***** Running Evaluation *****\n",
            "  Num examples = 5717\n",
            "  Batch size = 32\n"
          ]
        },
        {
          "data": {
            "application/vnd.jupyter.widget-view+json": {
              "model_id": "476a7ecb9d1b49e09ae6eb4a36b54fd7",
              "version_major": 2,
              "version_minor": 0
            },
            "text/plain": [
              "  0%|          | 0/179 [00:00<?, ?it/s]"
            ]
          },
          "metadata": {},
          "output_type": "display_data"
        },
        {
          "name": "stderr",
          "output_type": "stream",
          "text": [
            "Trainer is attempting to log a value of \"[0.7274640477025605, 0.5198883461270063]\" of type <class 'list'> for key \"eval/precision\" as a scalar. This invocation of Tensorboard's writer.add_scalar() is incorrect so we dropped this attribute.\n",
            "Trainer is attempting to log a value of \"[0.601159420289855, 0.6572562858403176]\" of type <class 'list'> for key \"eval/recall\" as a scalar. This invocation of Tensorboard's writer.add_scalar() is incorrect so we dropped this attribute.\n",
            "Trainer is attempting to log a value of \"[0.658308205046818, 0.5805571790375997]\" of type <class 'list'> for key \"eval/f1\" as a scalar. This invocation of Tensorboard's writer.add_scalar() is incorrect so we dropped this attribute.\n",
            "Trainer is attempting to log a value of \"[0.601159420289855, 0.6572562858403176]\" of type <class 'list'> for key \"eval/accuracy\" as a scalar. This invocation of Tensorboard's writer.add_scalar() is incorrect so we dropped this attribute.\n"
          ]
        },
        {
          "name": "stdout",
          "output_type": "stream",
          "text": [
            "0.6194326920422089\n"
          ]
        }
      ],
      "source": [
        "res = trainer.evaluate(tokenized_datasets['test'])\n",
        "print(sum(res['eval_f1'])/num_classes)"
      ]
    },
    {
      "cell_type": "code",
      "execution_count": 134,
      "metadata": {},
      "outputs": [
        {
          "data": {
            "text/html": [
              "<div>\n",
              "<style scoped>\n",
              "    .dataframe tbody tr th:only-of-type {\n",
              "        vertical-align: middle;\n",
              "    }\n",
              "\n",
              "    .dataframe tbody tr th {\n",
              "        vertical-align: top;\n",
              "    }\n",
              "\n",
              "    .dataframe thead th {\n",
              "        text-align: right;\n",
              "    }\n",
              "</style>\n",
              "<table border=\"1\" class=\"dataframe\">\n",
              "  <thead>\n",
              "    <tr style=\"text-align: right;\">\n",
              "      <th></th>\n",
              "      <th>f1</th>\n",
              "      <th>precision</th>\n",
              "      <th>recall</th>\n",
              "      <th>accuracy</th>\n",
              "    </tr>\n",
              "  </thead>\n",
              "  <tbody>\n",
              "    <tr>\n",
              "      <th>0</th>\n",
              "      <td>0.66</td>\n",
              "      <td>0.73</td>\n",
              "      <td>0.60</td>\n",
              "      <td>0.60</td>\n",
              "    </tr>\n",
              "    <tr>\n",
              "      <th>1</th>\n",
              "      <td>0.58</td>\n",
              "      <td>0.52</td>\n",
              "      <td>0.66</td>\n",
              "      <td>0.66</td>\n",
              "    </tr>\n",
              "  </tbody>\n",
              "</table>\n",
              "</div>"
            ],
            "text/plain": [
              "     f1  precision  recall  accuracy\n",
              "0  0.66       0.73    0.60      0.60\n",
              "1  0.58       0.52    0.66      0.66"
            ]
          },
          "execution_count": 134,
          "metadata": {},
          "output_type": "execute_result"
        }
      ],
      "source": [
        "res_table = pd.DataFrame({'f1': np.round(res['eval_f1'],2), 'precision': np.round(res['eval_precision'],2), \n",
        "'recall': np.round(res['eval_recall'],2), 'accuracy': np.round(res['eval_accuracy'],2)})\n",
        "res_table"
      ]
    },
    {
      "cell_type": "code",
      "execution_count": 135,
      "metadata": {},
      "outputs": [
        {
          "data": {
            "text/plain": [
              "f1           0.62\n",
              "precision    0.62\n",
              "recall       0.63\n",
              "accuracy     0.63\n",
              "dtype: float64"
            ]
          },
          "execution_count": 135,
          "metadata": {},
          "output_type": "execute_result"
        }
      ],
      "source": [
        "round(res_table.mean(axis=0),2)"
      ]
    },
    {
      "attachments": {},
      "cell_type": "markdown",
      "metadata": {},
      "source": [
        "### Apply on tweets about Donald Trump from the paper Sentiment is not Stance"
      ]
    },
    {
      "cell_type": "code",
      "execution_count": 55,
      "metadata": {},
      "outputs": [],
      "source": [
        "sins_trump = pd.read_csv(os.path.join('data','sins_tweets', 'MOTN_responses_groundtruth.csv'))"
      ]
    },
    {
      "cell_type": "code",
      "execution_count": 56,
      "metadata": {},
      "outputs": [
        {
          "data": {
            "text/html": [
              "<div>\n",
              "<style scoped>\n",
              "    .dataframe tbody tr th:only-of-type {\n",
              "        vertical-align: middle;\n",
              "    }\n",
              "\n",
              "    .dataframe tbody tr th {\n",
              "        vertical-align: top;\n",
              "    }\n",
              "\n",
              "    .dataframe thead th {\n",
              "        text-align: right;\n",
              "    }\n",
              "</style>\n",
              "<table border=\"1\" class=\"dataframe\">\n",
              "  <thead>\n",
              "    <tr style=\"text-align: right;\">\n",
              "      <th></th>\n",
              "      <th>wavenum</th>\n",
              "      <th>ideo5</th>\n",
              "      <th>edits_clean_text</th>\n",
              "      <th>qpos</th>\n",
              "      <th>trump_stance_auto</th>\n",
              "      <th>lexicoder_sentiment</th>\n",
              "      <th>fold</th>\n",
              "      <th>vader_sentiment</th>\n",
              "      <th>SVM_sentiment</th>\n",
              "      <th>BERT_sentiment</th>\n",
              "      <th>SVM_stance</th>\n",
              "      <th>BERT_stance</th>\n",
              "      <th>vader_scores</th>\n",
              "    </tr>\n",
              "  </thead>\n",
              "  <tbody>\n",
              "    <tr>\n",
              "      <th>0</th>\n",
              "      <td>3</td>\n",
              "      <td>Moderate</td>\n",
              "      <td>the recent election of donald trump the freedo...</td>\n",
              "      <td>1</td>\n",
              "      <td>1</td>\n",
              "      <td>1.0</td>\n",
              "      <td>3</td>\n",
              "      <td>1.0</td>\n",
              "      <td>1</td>\n",
              "      <td>1</td>\n",
              "      <td>1</td>\n",
              "      <td>0</td>\n",
              "      <td>0.6369</td>\n",
              "    </tr>\n",
              "    <tr>\n",
              "      <th>1</th>\n",
              "      <td>3</td>\n",
              "      <td>Very conservative</td>\n",
              "      <td>donald trump won</td>\n",
              "      <td>1</td>\n",
              "      <td>1</td>\n",
              "      <td>1.0</td>\n",
              "      <td>1</td>\n",
              "      <td>1.0</td>\n",
              "      <td>1</td>\n",
              "      <td>1</td>\n",
              "      <td>1</td>\n",
              "      <td>1</td>\n",
              "      <td>0.5719</td>\n",
              "    </tr>\n",
              "    <tr>\n",
              "      <th>2</th>\n",
              "      <td>3</td>\n",
              "      <td>Conservative</td>\n",
              "      <td>that donald trump beat hillary clinton</td>\n",
              "      <td>1</td>\n",
              "      <td>1</td>\n",
              "      <td>NaN</td>\n",
              "      <td>5</td>\n",
              "      <td>NaN</td>\n",
              "      <td>1</td>\n",
              "      <td>1</td>\n",
              "      <td>1</td>\n",
              "      <td>1</td>\n",
              "      <td>0.0000</td>\n",
              "    </tr>\n",
              "    <tr>\n",
              "      <th>3</th>\n",
              "      <td>3</td>\n",
              "      <td>Conservative</td>\n",
              "      <td>donald trump was elected president</td>\n",
              "      <td>1</td>\n",
              "      <td>1</td>\n",
              "      <td>NaN</td>\n",
              "      <td>5</td>\n",
              "      <td>NaN</td>\n",
              "      <td>1</td>\n",
              "      <td>1</td>\n",
              "      <td>1</td>\n",
              "      <td>1</td>\n",
              "      <td>0.0000</td>\n",
              "    </tr>\n",
              "    <tr>\n",
              "      <th>4</th>\n",
              "      <td>3</td>\n",
              "      <td>Conservative</td>\n",
              "      <td>the american people saw through the obfuscatio...</td>\n",
              "      <td>1</td>\n",
              "      <td>1</td>\n",
              "      <td>1.0</td>\n",
              "      <td>3</td>\n",
              "      <td>1.0</td>\n",
              "      <td>0</td>\n",
              "      <td>1</td>\n",
              "      <td>1</td>\n",
              "      <td>1</td>\n",
              "      <td>0.4019</td>\n",
              "    </tr>\n",
              "  </tbody>\n",
              "</table>\n",
              "</div>"
            ],
            "text/plain": [
              "   wavenum              ideo5  \\\n",
              "0        3           Moderate   \n",
              "1        3  Very conservative   \n",
              "2        3       Conservative   \n",
              "3        3       Conservative   \n",
              "4        3       Conservative   \n",
              "\n",
              "                                    edits_clean_text  qpos  trump_stance_auto  \\\n",
              "0  the recent election of donald trump the freedo...     1                  1   \n",
              "1                                   donald trump won     1                  1   \n",
              "2             that donald trump beat hillary clinton     1                  1   \n",
              "3                 donald trump was elected president     1                  1   \n",
              "4  the american people saw through the obfuscatio...     1                  1   \n",
              "\n",
              "   lexicoder_sentiment  fold  vader_sentiment  SVM_sentiment  BERT_sentiment  \\\n",
              "0                  1.0     3              1.0              1               1   \n",
              "1                  1.0     1              1.0              1               1   \n",
              "2                  NaN     5              NaN              1               1   \n",
              "3                  NaN     5              NaN              1               1   \n",
              "4                  1.0     3              1.0              0               1   \n",
              "\n",
              "   SVM_stance  BERT_stance  vader_scores  \n",
              "0           1            0        0.6369  \n",
              "1           1            1        0.5719  \n",
              "2           1            1        0.0000  \n",
              "3           1            1        0.0000  \n",
              "4           1            1        0.4019  "
            ]
          },
          "execution_count": 56,
          "metadata": {},
          "output_type": "execute_result"
        }
      ],
      "source": [
        "sins_trump.head()"
      ]
    },
    {
      "cell_type": "code",
      "execution_count": 57,
      "metadata": {},
      "outputs": [
        {
          "data": {
            "text/html": [
              "<div>\n",
              "<style scoped>\n",
              "    .dataframe tbody tr th:only-of-type {\n",
              "        vertical-align: middle;\n",
              "    }\n",
              "\n",
              "    .dataframe tbody tr th {\n",
              "        vertical-align: top;\n",
              "    }\n",
              "\n",
              "    .dataframe thead th {\n",
              "        text-align: right;\n",
              "    }\n",
              "</style>\n",
              "<table border=\"1\" class=\"dataframe\">\n",
              "  <thead>\n",
              "    <tr style=\"text-align: right;\">\n",
              "      <th></th>\n",
              "      <th>wavenum</th>\n",
              "      <th>ideo5</th>\n",
              "      <th>edits_clean_text</th>\n",
              "      <th>qpos</th>\n",
              "      <th>lexicoder_sentiment</th>\n",
              "      <th>fold</th>\n",
              "      <th>vader_sentiment</th>\n",
              "      <th>SVM_sentiment</th>\n",
              "      <th>BERT_sentiment</th>\n",
              "      <th>SVM_stance</th>\n",
              "      <th>BERT_stance</th>\n",
              "      <th>vader_scores</th>\n",
              "    </tr>\n",
              "    <tr>\n",
              "      <th>trump_stance_auto</th>\n",
              "      <th></th>\n",
              "      <th></th>\n",
              "      <th></th>\n",
              "      <th></th>\n",
              "      <th></th>\n",
              "      <th></th>\n",
              "      <th></th>\n",
              "      <th></th>\n",
              "      <th></th>\n",
              "      <th></th>\n",
              "      <th></th>\n",
              "      <th></th>\n",
              "    </tr>\n",
              "  </thead>\n",
              "  <tbody>\n",
              "    <tr>\n",
              "      <th>0</th>\n",
              "      <td>4312</td>\n",
              "      <td>4312</td>\n",
              "      <td>4312</td>\n",
              "      <td>4312</td>\n",
              "      <td>1885</td>\n",
              "      <td>4312</td>\n",
              "      <td>2012</td>\n",
              "      <td>4312</td>\n",
              "      <td>4312</td>\n",
              "      <td>4312</td>\n",
              "      <td>4312</td>\n",
              "      <td>4312</td>\n",
              "    </tr>\n",
              "    <tr>\n",
              "      <th>1</th>\n",
              "      <td>2834</td>\n",
              "      <td>2834</td>\n",
              "      <td>2834</td>\n",
              "      <td>2834</td>\n",
              "      <td>1434</td>\n",
              "      <td>2834</td>\n",
              "      <td>1573</td>\n",
              "      <td>2834</td>\n",
              "      <td>2834</td>\n",
              "      <td>2834</td>\n",
              "      <td>2834</td>\n",
              "      <td>2834</td>\n",
              "    </tr>\n",
              "  </tbody>\n",
              "</table>\n",
              "</div>"
            ],
            "text/plain": [
              "                   wavenum  ideo5  edits_clean_text  qpos  \\\n",
              "trump_stance_auto                                           \n",
              "0                     4312   4312              4312  4312   \n",
              "1                     2834   2834              2834  2834   \n",
              "\n",
              "                   lexicoder_sentiment  fold  vader_sentiment  SVM_sentiment  \\\n",
              "trump_stance_auto                                                              \n",
              "0                                 1885  4312             2012           4312   \n",
              "1                                 1434  2834             1573           2834   \n",
              "\n",
              "                   BERT_sentiment  SVM_stance  BERT_stance  vader_scores  \n",
              "trump_stance_auto                                                         \n",
              "0                            4312        4312         4312          4312  \n",
              "1                            2834        2834         2834          2834  "
            ]
          },
          "execution_count": 57,
          "metadata": {},
          "output_type": "execute_result"
        }
      ],
      "source": [
        "sins_trump.groupby('trump_stance_auto').count()"
      ]
    },
    {
      "cell_type": "code",
      "execution_count": 94,
      "metadata": {},
      "outputs": [
        {
          "name": "stderr",
          "output_type": "stream",
          "text": [
            "loading configuration file results/multilingual/kvn_2cl/checkpoint-234\\config.json\n",
            "Model config XLMRobertaConfig {\n",
            "  \"_name_or_path\": \"xlm-roberta-base\",\n",
            "  \"architectures\": [\n",
            "    \"XLMRobertaForSequenceClassification\"\n",
            "  ],\n",
            "  \"attention_probs_dropout_prob\": 0.1,\n",
            "  \"bos_token_id\": 0,\n",
            "  \"classifier_dropout\": null,\n",
            "  \"eos_token_id\": 2,\n",
            "  \"hidden_act\": \"gelu\",\n",
            "  \"hidden_dropout_prob\": 0.1,\n",
            "  \"hidden_size\": 768,\n",
            "  \"initializer_range\": 0.02,\n",
            "  \"intermediate_size\": 3072,\n",
            "  \"layer_norm_eps\": 1e-05,\n",
            "  \"max_position_embeddings\": 514,\n",
            "  \"model_type\": \"xlm-roberta\",\n",
            "  \"num_attention_heads\": 12,\n",
            "  \"num_hidden_layers\": 12,\n",
            "  \"output_past\": true,\n",
            "  \"pad_token_id\": 1,\n",
            "  \"position_embedding_type\": \"absolute\",\n",
            "  \"problem_type\": \"single_label_classification\",\n",
            "  \"torch_dtype\": \"float32\",\n",
            "  \"transformers_version\": \"4.25.1\",\n",
            "  \"type_vocab_size\": 1,\n",
            "  \"use_cache\": true,\n",
            "  \"vocab_size\": 250002\n",
            "}\n",
            "\n",
            "loading weights file results/multilingual/kvn_2cl/checkpoint-234\\pytorch_model.bin\n",
            "All model checkpoint weights were used when initializing XLMRobertaForSequenceClassification.\n",
            "\n",
            "All the weights of XLMRobertaForSequenceClassification were initialized from the model checkpoint at results/multilingual/kvn_2cl/checkpoint-234.\n",
            "If your task is similar to the task the model of the checkpoint was trained on, you can already use XLMRobertaForSequenceClassification for predictions without further training.\n",
            "loading file sentencepiece.bpe.model\n",
            "loading file tokenizer.json\n",
            "loading file added_tokens.json\n",
            "loading file special_tokens_map.json\n",
            "loading file tokenizer_config.json\n"
          ]
        }
      ],
      "source": [
        "transformer_model = 'results/multilingual/kvn_2cl/checkpoint-234'\n",
        "model = XLMRobertaForSequenceClassification.from_pretrained(transformer_model).to(device)\n",
        "tokenizer = AutoTokenizer.from_pretrained(transformer_model)\n"
      ]
    },
    {
      "cell_type": "code",
      "execution_count": 95,
      "metadata": {},
      "outputs": [],
      "source": [
        "texts = sins_trump['edits_clean_text'].tolist()"
      ]
    },
    {
      "cell_type": "code",
      "execution_count": 96,
      "metadata": {},
      "outputs": [
        {
          "name": "stdout",
          "output_type": "stream",
          "text": [
            "0\n",
            "1000\n",
            "2000\n",
            "3000\n",
            "4000\n",
            "5000\n",
            "6000\n",
            "7000\n"
          ]
        }
      ],
      "source": [
        "results = get_prediction(model, texts)"
      ]
    },
    {
      "cell_type": "code",
      "execution_count": 97,
      "metadata": {},
      "outputs": [],
      "source": [
        "predicted = np.array([i.cpu().detach().numpy() for i in results]).flatten()"
      ]
    },
    {
      "cell_type": "code",
      "execution_count": 98,
      "metadata": {},
      "outputs": [
        {
          "data": {
            "text/plain": [
              "(7146,)"
            ]
          },
          "execution_count": 98,
          "metadata": {},
          "output_type": "execute_result"
        }
      ],
      "source": [
        "predicted.shape"
      ]
    },
    {
      "cell_type": "code",
      "execution_count": 99,
      "metadata": {},
      "outputs": [],
      "source": [
        "y_truth = np.array(sins_trump['trump_stance_auto'].tolist())"
      ]
    },
    {
      "cell_type": "code",
      "execution_count": 204,
      "metadata": {},
      "outputs": [
        {
          "data": {
            "text/plain": [
              "(7146,)"
            ]
          },
          "execution_count": 204,
          "metadata": {},
          "output_type": "execute_result"
        }
      ],
      "source": [
        "y_truth.shape"
      ]
    },
    {
      "cell_type": "code",
      "execution_count": 100,
      "metadata": {},
      "outputs": [],
      "source": [
        "precision, recall, f1, _ = precision_recall_fscore_support(y_truth, predicted, average=None)\n",
        "matrix = confusion_matrix(y_truth, predicted)\n",
        "accuracy = matrix.diagonal()/matrix.sum(axis=1)"
      ]
    },
    {
      "cell_type": "code",
      "execution_count": 102,
      "metadata": {},
      "outputs": [
        {
          "data": {
            "text/html": [
              "<div>\n",
              "<style scoped>\n",
              "    .dataframe tbody tr th:only-of-type {\n",
              "        vertical-align: middle;\n",
              "    }\n",
              "\n",
              "    .dataframe tbody tr th {\n",
              "        vertical-align: top;\n",
              "    }\n",
              "\n",
              "    .dataframe thead th {\n",
              "        text-align: right;\n",
              "    }\n",
              "</style>\n",
              "<table border=\"1\" class=\"dataframe\">\n",
              "  <thead>\n",
              "    <tr style=\"text-align: right;\">\n",
              "      <th></th>\n",
              "      <th>f1</th>\n",
              "      <th>precision</th>\n",
              "      <th>recall</th>\n",
              "      <th>accuracy</th>\n",
              "    </tr>\n",
              "  </thead>\n",
              "  <tbody>\n",
              "    <tr>\n",
              "      <th>0</th>\n",
              "      <td>0.41</td>\n",
              "      <td>0.69</td>\n",
              "      <td>0.29</td>\n",
              "      <td>0.29</td>\n",
              "    </tr>\n",
              "    <tr>\n",
              "      <th>1</th>\n",
              "      <td>0.56</td>\n",
              "      <td>0.43</td>\n",
              "      <td>0.80</td>\n",
              "      <td>0.80</td>\n",
              "    </tr>\n",
              "  </tbody>\n",
              "</table>\n",
              "</div>"
            ],
            "text/plain": [
              "     f1  precision  recall  accuracy\n",
              "0  0.41       0.69    0.29      0.29\n",
              "1  0.56       0.43    0.80      0.80"
            ]
          },
          "execution_count": 102,
          "metadata": {},
          "output_type": "execute_result"
        }
      ],
      "source": [
        "res_table = pd.DataFrame({'f1': np.round(f1,2), 'precision': np.round(precision,2), \n",
        "'recall': np.round(recall,2), 'accuracy': np.round(accuracy,2)})\n",
        "res_table"
      ]
    },
    {
      "attachments": {},
      "cell_type": "markdown",
      "metadata": {},
      "source": [
        "### Dimension reduction with UMAP"
      ]
    },
    {
      "cell_type": "code",
      "execution_count": 212,
      "metadata": {},
      "outputs": [],
      "source": [
        "def encode_embeds(dataframe, group_vars, model):\n",
        "    embed_dict = {}\n",
        "    for name, group in dataframe.groupby(group_vars):\n",
        "        text = group['edits_clean_text'].tolist()\n",
        "        embeds = model.encode(text)\n",
        "        embed_dict.update({name: embeds})\n",
        "    document_embed = np.vstack(list(embed_dict.values()))\n",
        "    return(document_embed)\n",
        "\n"
      ]
    },
    {
      "cell_type": "code",
      "execution_count": 233,
      "metadata": {},
      "outputs": [],
      "source": [
        "guide_labels = np.array(sins_trump['trump_stance_auto'].tolist()).reshape(-1,1)"
      ]
    },
    {
      "cell_type": "code",
      "execution_count": 234,
      "metadata": {},
      "outputs": [
        {
          "data": {
            "text/plain": [
              "(7146, 1)"
            ]
          },
          "execution_count": 234,
          "metadata": {},
          "output_type": "execute_result"
        }
      ],
      "source": [
        "guide_labels.shape"
      ]
    },
    {
      "cell_type": "code",
      "execution_count": 227,
      "metadata": {},
      "outputs": [
        {
          "name": "stderr",
          "output_type": "stream",
          "text": [
            "loading configuration file results/multilingual/manifesto_2cl/checkpoint-3000\\config.json\n",
            "Model config XLMRobertaConfig {\n",
            "  \"_name_or_path\": \"results/multilingual/manifesto_2cl/checkpoint-3000\",\n",
            "  \"architectures\": [\n",
            "    \"XLMRobertaForSequenceClassification\"\n",
            "  ],\n",
            "  \"attention_probs_dropout_prob\": 0.1,\n",
            "  \"bos_token_id\": 0,\n",
            "  \"classifier_dropout\": null,\n",
            "  \"eos_token_id\": 2,\n",
            "  \"hidden_act\": \"gelu\",\n",
            "  \"hidden_dropout_prob\": 0.1,\n",
            "  \"hidden_size\": 768,\n",
            "  \"initializer_range\": 0.02,\n",
            "  \"intermediate_size\": 3072,\n",
            "  \"layer_norm_eps\": 1e-05,\n",
            "  \"max_position_embeddings\": 514,\n",
            "  \"model_type\": \"xlm-roberta\",\n",
            "  \"num_attention_heads\": 12,\n",
            "  \"num_hidden_layers\": 12,\n",
            "  \"output_past\": true,\n",
            "  \"pad_token_id\": 1,\n",
            "  \"position_embedding_type\": \"absolute\",\n",
            "  \"problem_type\": \"single_label_classification\",\n",
            "  \"torch_dtype\": \"float32\",\n",
            "  \"transformers_version\": \"4.25.1\",\n",
            "  \"type_vocab_size\": 1,\n",
            "  \"use_cache\": true,\n",
            "  \"vocab_size\": 250002\n",
            "}\n",
            "\n",
            "loading weights file results/multilingual/manifesto_2cl/checkpoint-3000\\pytorch_model.bin\n",
            "Some weights of the model checkpoint at results/multilingual/manifesto_2cl/checkpoint-3000 were not used when initializing XLMRobertaModel: ['classifier.out_proj.weight', 'classifier.dense.weight', 'classifier.out_proj.bias', 'classifier.dense.bias']\n",
            "- This IS expected if you are initializing XLMRobertaModel from the checkpoint of a model trained on another task or with another architecture (e.g. initializing a BertForSequenceClassification model from a BertForPreTraining model).\n",
            "- This IS NOT expected if you are initializing XLMRobertaModel from the checkpoint of a model that you expect to be exactly identical (initializing a BertForSequenceClassification model from a BertForSequenceClassification model).\n",
            "Some weights of XLMRobertaModel were not initialized from the model checkpoint at results/multilingual/manifesto_2cl/checkpoint-3000 and are newly initialized: ['roberta.pooler.dense.bias', 'roberta.pooler.dense.weight']\n",
            "You should probably TRAIN this model on a down-stream task to be able to use it for predictions and inference.\n",
            "loading file sentencepiece.bpe.model\n",
            "loading file tokenizer.json\n",
            "loading file added_tokens.json\n",
            "loading file special_tokens_map.json\n",
            "loading file tokenizer_config.json\n"
          ]
        }
      ],
      "source": [
        "word_embedding_model = models.Transformer(transformer_model)\n",
        "pooling_model = models.Pooling(word_embedding_model.get_word_embedding_dimension(), 'cls')\n",
        "model = SentenceTransformer(modules=[word_embedding_model, pooling_model]).to(device)"
      ]
    },
    {
      "cell_type": "code",
      "execution_count": 228,
      "metadata": {},
      "outputs": [],
      "source": [
        "document_embed = encode_embeds(sins_trump, 'ideo5', model)"
      ]
    },
    {
      "cell_type": "code",
      "execution_count": 229,
      "metadata": {},
      "outputs": [],
      "source": [
        "def scale_topic(document_embed, guide_labels, sparse=False, guidance_weight=0.8, **kwargs):\n",
        "    y = guide_labels\n",
        "    if len(y) <= 10000:\n",
        "        k_recommended = 250\n",
        "    elif 10000 <= len(y) <= 50000:\n",
        "        k_recommended = 500\n",
        "    elif len(y) >=50000:\n",
        "        k_recommended = 1000\n",
        "    if sparse:\n",
        "        svd = TruncatedSVD(n_components=50)\n",
        "        embeddings_reduced = svd.fit_transform(document_embed)\n",
        "    else:\n",
        "        pca = PCA(n_components=50)\n",
        "        embeddings_reduced = pca.fit_transform(document_embed)\n",
        "    embeddings = umap.UMAP(n_components=1, n_neighbors=k_recommended, n_epochs=500, metric='euclidean', \n",
        "                            target_weight=guidance_weight, low_memory=True, verbose=True, **kwargs).fit_transform(embeddings_reduced, y=y)\n",
        "\n",
        "    return embeddings\n",
        "        \n"
      ]
    },
    {
      "cell_type": "code",
      "execution_count": 235,
      "metadata": {},
      "outputs": [
        {
          "name": "stdout",
          "output_type": "stream",
          "text": [
            "UMAP(n_components=1, n_epochs=500, n_neighbors=250, target_weight=0.8, verbose=True)\n",
            "Tue May  9 15:13:33 2023 Construct fuzzy simplicial set\n",
            "Tue May  9 15:13:33 2023 Finding Nearest Neighbors\n",
            "Tue May  9 15:13:33 2023 Building RP forest with 9 trees\n",
            "Tue May  9 15:13:33 2023 NN descent for 13 iterations\n",
            "\t 1  /  13\n",
            "\t 2  /  13\n",
            "\t 3  /  13\n",
            "\tStopping threshold met -- exiting after 3 iterations\n",
            "Tue May  9 15:13:38 2023 Finished Nearest Neighbor Search\n",
            "Tue May  9 15:13:39 2023 Construct embedding\n"
          ]
        },
        {
          "data": {
            "application/vnd.jupyter.widget-view+json": {
              "model_id": "954caaa3cb0a482caf7d19db18973ba0",
              "version_major": 2,
              "version_minor": 0
            },
            "text/plain": [
              "Epochs completed:   0%|            0/500 [00:00]"
            ]
          },
          "metadata": {},
          "output_type": "display_data"
        },
        {
          "name": "stdout",
          "output_type": "stream",
          "text": [
            "Tue May  9 15:13:52 2023 Finished embedding\n"
          ]
        }
      ],
      "source": [
        "results = scale_topic( document_embed=document_embed, guide_labels = guide_labels)"
      ]
    },
    {
      "cell_type": "code",
      "execution_count": 236,
      "metadata": {},
      "outputs": [],
      "source": [
        "emb_mean_dict = {}\n",
        "for name, group in sins_trump.groupby('ideo5'):\n",
        "    idx = group.index\n",
        "    embed = results[idx]\n",
        "    embed_mean = np.mean(embed, axis=0)\n",
        "    emb_mean_dict.update({name: embed_mean})\n"
      ]
    },
    {
      "cell_type": "code",
      "execution_count": 237,
      "metadata": {},
      "outputs": [],
      "source": [
        "final_embeds = np.stack(list(emb_mean_dict.values()))"
      ]
    },
    {
      "cell_type": "code",
      "execution_count": 238,
      "metadata": {},
      "outputs": [
        {
          "data": {
            "text/html": [
              "<div>\n",
              "<style scoped>\n",
              "    .dataframe tbody tr th:only-of-type {\n",
              "        vertical-align: middle;\n",
              "    }\n",
              "\n",
              "    .dataframe tbody tr th {\n",
              "        vertical-align: top;\n",
              "    }\n",
              "\n",
              "    .dataframe thead th {\n",
              "        text-align: right;\n",
              "    }\n",
              "</style>\n",
              "<table border=\"1\" class=\"dataframe\">\n",
              "  <thead>\n",
              "    <tr style=\"text-align: right;\">\n",
              "      <th></th>\n",
              "      <th></th>\n",
              "      <th>wavenum</th>\n",
              "      <th>edits_clean_text</th>\n",
              "      <th>qpos</th>\n",
              "      <th>lexicoder_sentiment</th>\n",
              "      <th>fold</th>\n",
              "      <th>vader_sentiment</th>\n",
              "      <th>SVM_sentiment</th>\n",
              "      <th>BERT_sentiment</th>\n",
              "      <th>SVM_stance</th>\n",
              "      <th>BERT_stance</th>\n",
              "      <th>vader_scores</th>\n",
              "    </tr>\n",
              "    <tr>\n",
              "      <th>ideo5</th>\n",
              "      <th>trump_stance_auto</th>\n",
              "      <th></th>\n",
              "      <th></th>\n",
              "      <th></th>\n",
              "      <th></th>\n",
              "      <th></th>\n",
              "      <th></th>\n",
              "      <th></th>\n",
              "      <th></th>\n",
              "      <th></th>\n",
              "      <th></th>\n",
              "      <th></th>\n",
              "    </tr>\n",
              "  </thead>\n",
              "  <tbody>\n",
              "    <tr>\n",
              "      <th rowspan=\"2\" valign=\"top\">Conservative</th>\n",
              "      <th>0</th>\n",
              "      <td>177</td>\n",
              "      <td>177</td>\n",
              "      <td>177</td>\n",
              "      <td>69</td>\n",
              "      <td>177</td>\n",
              "      <td>76</td>\n",
              "      <td>177</td>\n",
              "      <td>177</td>\n",
              "      <td>177</td>\n",
              "      <td>177</td>\n",
              "      <td>177</td>\n",
              "    </tr>\n",
              "    <tr>\n",
              "      <th>1</th>\n",
              "      <td>1204</td>\n",
              "      <td>1204</td>\n",
              "      <td>1204</td>\n",
              "      <td>616</td>\n",
              "      <td>1204</td>\n",
              "      <td>668</td>\n",
              "      <td>1204</td>\n",
              "      <td>1204</td>\n",
              "      <td>1204</td>\n",
              "      <td>1204</td>\n",
              "      <td>1204</td>\n",
              "    </tr>\n",
              "    <tr>\n",
              "      <th rowspan=\"2\" valign=\"top\">Liberal</th>\n",
              "      <th>0</th>\n",
              "      <td>1481</td>\n",
              "      <td>1481</td>\n",
              "      <td>1481</td>\n",
              "      <td>692</td>\n",
              "      <td>1481</td>\n",
              "      <td>733</td>\n",
              "      <td>1481</td>\n",
              "      <td>1481</td>\n",
              "      <td>1481</td>\n",
              "      <td>1481</td>\n",
              "      <td>1481</td>\n",
              "    </tr>\n",
              "    <tr>\n",
              "      <th>1</th>\n",
              "      <td>54</td>\n",
              "      <td>54</td>\n",
              "      <td>54</td>\n",
              "      <td>24</td>\n",
              "      <td>54</td>\n",
              "      <td>29</td>\n",
              "      <td>54</td>\n",
              "      <td>54</td>\n",
              "      <td>54</td>\n",
              "      <td>54</td>\n",
              "      <td>54</td>\n",
              "    </tr>\n",
              "    <tr>\n",
              "      <th rowspan=\"2\" valign=\"top\">Moderate</th>\n",
              "      <th>0</th>\n",
              "      <td>1339</td>\n",
              "      <td>1339</td>\n",
              "      <td>1339</td>\n",
              "      <td>564</td>\n",
              "      <td>1339</td>\n",
              "      <td>605</td>\n",
              "      <td>1339</td>\n",
              "      <td>1339</td>\n",
              "      <td>1339</td>\n",
              "      <td>1339</td>\n",
              "      <td>1339</td>\n",
              "    </tr>\n",
              "    <tr>\n",
              "      <th>1</th>\n",
              "      <td>514</td>\n",
              "      <td>514</td>\n",
              "      <td>514</td>\n",
              "      <td>269</td>\n",
              "      <td>514</td>\n",
              "      <td>300</td>\n",
              "      <td>514</td>\n",
              "      <td>514</td>\n",
              "      <td>514</td>\n",
              "      <td>514</td>\n",
              "      <td>514</td>\n",
              "    </tr>\n",
              "    <tr>\n",
              "      <th rowspan=\"2\" valign=\"top\">Not sure</th>\n",
              "      <th>0</th>\n",
              "      <td>142</td>\n",
              "      <td>142</td>\n",
              "      <td>142</td>\n",
              "      <td>45</td>\n",
              "      <td>142</td>\n",
              "      <td>49</td>\n",
              "      <td>142</td>\n",
              "      <td>142</td>\n",
              "      <td>142</td>\n",
              "      <td>142</td>\n",
              "      <td>142</td>\n",
              "    </tr>\n",
              "    <tr>\n",
              "      <th>1</th>\n",
              "      <td>62</td>\n",
              "      <td>62</td>\n",
              "      <td>62</td>\n",
              "      <td>22</td>\n",
              "      <td>62</td>\n",
              "      <td>31</td>\n",
              "      <td>62</td>\n",
              "      <td>62</td>\n",
              "      <td>62</td>\n",
              "      <td>62</td>\n",
              "      <td>62</td>\n",
              "    </tr>\n",
              "    <tr>\n",
              "      <th rowspan=\"2\" valign=\"top\">Very conservative</th>\n",
              "      <th>0</th>\n",
              "      <td>65</td>\n",
              "      <td>65</td>\n",
              "      <td>65</td>\n",
              "      <td>30</td>\n",
              "      <td>65</td>\n",
              "      <td>32</td>\n",
              "      <td>65</td>\n",
              "      <td>65</td>\n",
              "      <td>65</td>\n",
              "      <td>65</td>\n",
              "      <td>65</td>\n",
              "    </tr>\n",
              "    <tr>\n",
              "      <th>1</th>\n",
              "      <td>973</td>\n",
              "      <td>973</td>\n",
              "      <td>973</td>\n",
              "      <td>498</td>\n",
              "      <td>973</td>\n",
              "      <td>536</td>\n",
              "      <td>973</td>\n",
              "      <td>973</td>\n",
              "      <td>973</td>\n",
              "      <td>973</td>\n",
              "      <td>973</td>\n",
              "    </tr>\n",
              "    <tr>\n",
              "      <th rowspan=\"2\" valign=\"top\">Very liberal</th>\n",
              "      <th>0</th>\n",
              "      <td>1108</td>\n",
              "      <td>1108</td>\n",
              "      <td>1108</td>\n",
              "      <td>485</td>\n",
              "      <td>1108</td>\n",
              "      <td>517</td>\n",
              "      <td>1108</td>\n",
              "      <td>1108</td>\n",
              "      <td>1108</td>\n",
              "      <td>1108</td>\n",
              "      <td>1108</td>\n",
              "    </tr>\n",
              "    <tr>\n",
              "      <th>1</th>\n",
              "      <td>27</td>\n",
              "      <td>27</td>\n",
              "      <td>27</td>\n",
              "      <td>5</td>\n",
              "      <td>27</td>\n",
              "      <td>9</td>\n",
              "      <td>27</td>\n",
              "      <td>27</td>\n",
              "      <td>27</td>\n",
              "      <td>27</td>\n",
              "      <td>27</td>\n",
              "    </tr>\n",
              "  </tbody>\n",
              "</table>\n",
              "</div>"
            ],
            "text/plain": [
              "                                     wavenum  edits_clean_text  qpos  \\\n",
              "ideo5             trump_stance_auto                                    \n",
              "Conservative      0                      177               177   177   \n",
              "                  1                     1204              1204  1204   \n",
              "Liberal           0                     1481              1481  1481   \n",
              "                  1                       54                54    54   \n",
              "Moderate          0                     1339              1339  1339   \n",
              "                  1                      514               514   514   \n",
              "Not sure          0                      142               142   142   \n",
              "                  1                       62                62    62   \n",
              "Very conservative 0                       65                65    65   \n",
              "                  1                      973               973   973   \n",
              "Very liberal      0                     1108              1108  1108   \n",
              "                  1                       27                27    27   \n",
              "\n",
              "                                     lexicoder_sentiment  fold  \\\n",
              "ideo5             trump_stance_auto                              \n",
              "Conservative      0                                   69   177   \n",
              "                  1                                  616  1204   \n",
              "Liberal           0                                  692  1481   \n",
              "                  1                                   24    54   \n",
              "Moderate          0                                  564  1339   \n",
              "                  1                                  269   514   \n",
              "Not sure          0                                   45   142   \n",
              "                  1                                   22    62   \n",
              "Very conservative 0                                   30    65   \n",
              "                  1                                  498   973   \n",
              "Very liberal      0                                  485  1108   \n",
              "                  1                                    5    27   \n",
              "\n",
              "                                     vader_sentiment  SVM_sentiment  \\\n",
              "ideo5             trump_stance_auto                                   \n",
              "Conservative      0                               76            177   \n",
              "                  1                              668           1204   \n",
              "Liberal           0                              733           1481   \n",
              "                  1                               29             54   \n",
              "Moderate          0                              605           1339   \n",
              "                  1                              300            514   \n",
              "Not sure          0                               49            142   \n",
              "                  1                               31             62   \n",
              "Very conservative 0                               32             65   \n",
              "                  1                              536            973   \n",
              "Very liberal      0                              517           1108   \n",
              "                  1                                9             27   \n",
              "\n",
              "                                     BERT_sentiment  SVM_stance  BERT_stance  \\\n",
              "ideo5             trump_stance_auto                                            \n",
              "Conservative      0                             177         177          177   \n",
              "                  1                            1204        1204         1204   \n",
              "Liberal           0                            1481        1481         1481   \n",
              "                  1                              54          54           54   \n",
              "Moderate          0                            1339        1339         1339   \n",
              "                  1                             514         514          514   \n",
              "Not sure          0                             142         142          142   \n",
              "                  1                              62          62           62   \n",
              "Very conservative 0                              65          65           65   \n",
              "                  1                             973         973          973   \n",
              "Very liberal      0                            1108        1108         1108   \n",
              "                  1                              27          27           27   \n",
              "\n",
              "                                     vader_scores  \n",
              "ideo5             trump_stance_auto                \n",
              "Conservative      0                           177  \n",
              "                  1                          1204  \n",
              "Liberal           0                          1481  \n",
              "                  1                            54  \n",
              "Moderate          0                          1339  \n",
              "                  1                           514  \n",
              "Not sure          0                           142  \n",
              "                  1                            62  \n",
              "Very conservative 0                            65  \n",
              "                  1                           973  \n",
              "Very liberal      0                          1108  \n",
              "                  1                            27  "
            ]
          },
          "execution_count": 238,
          "metadata": {},
          "output_type": "execute_result"
        }
      ],
      "source": [
        "sins_trump.groupby(['ideo5','trump_stance_auto']).count()"
      ]
    },
    {
      "cell_type": "code",
      "execution_count": 239,
      "metadata": {},
      "outputs": [
        {
          "data": {
            "text/plain": [
              "array([[ 20.764511 ],\n",
              "       [-11.03211  ],\n",
              "       [ -1.1955696],\n",
              "       [  0.6113985],\n",
              "       [ 23.709496 ],\n",
              "       [-10.032596 ]], dtype=float32)"
            ]
          },
          "execution_count": 239,
          "metadata": {},
          "output_type": "execute_result"
        }
      ],
      "source": [
        "final_embeds"
      ]
    },
    {
      "cell_type": "code",
      "execution_count": 1,
      "metadata": {},
      "outputs": [
        {
          "data": {
            "text/plain": [
              "-0.01209361905435151"
            ]
          },
          "execution_count": 1,
          "metadata": {},
          "output_type": "execute_result"
        }
      ],
      "source": [
        "27/1108 - 54/1481\n"
      ]
    }
  ],
  "metadata": {
    "accelerator": "GPU",
    "colab": {
      "collapsed_sections": [],
      "machine_shape": "hm",
      "provenance": [],
      "toc_visible": true
    },
    "kernelspec": {
      "display_name": "transformer_scaler",
      "language": "python",
      "name": "python3"
    },
    "language_info": {
      "codemirror_mode": {
        "name": "ipython",
        "version": 3
      },
      "file_extension": ".py",
      "mimetype": "text/x-python",
      "name": "python",
      "nbconvert_exporter": "python",
      "pygments_lexer": "ipython3",
      "version": "3.9.15"
    },
    "vscode": {
      "interpreter": {
        "hash": "c74026b94628c66cd663c77f24c406f477045c3cca5cde67105d11e47ed54e5a"
      }
    }
  },
  "nbformat": 4,
  "nbformat_minor": 0
}
