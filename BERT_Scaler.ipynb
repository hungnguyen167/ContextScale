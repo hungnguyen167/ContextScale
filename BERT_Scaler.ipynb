{
  "cells": [
    {
      "attachments": {},
      "cell_type": "markdown",
      "metadata": {
        "id": "4k3dCezyXmXQ"
      },
      "source": [
        "# Setup"
      ]
    },
    {
      "cell_type": "code",
      "execution_count": 1,
      "metadata": {
        "colab": {
          "base_uri": "https://localhost:8080/"
        },
        "id": "vUoQrEYCXmXQ",
        "outputId": "e3e70df8-5711-46aa-b4cc-ede6cdb653f6"
      },
      "outputs": [],
      "source": [
        "## Install required packages\n",
        "#!pip install torch torchvision torchaudio --extra-index-url https://download.pytorch.org/whl/cu116\n",
        "#!pip install transformers==4.21.2\n",
        "#!pip install sentencepiece==0.1.96\n",
        "#!pip install datasets\n",
        "#!pip install nltk\n",
        "#!pip install sentence_transformers\n",
        "#!pip install gensim\n",
        "#!pip install torchtext\n"
      ]
    },
    {
      "cell_type": "code",
      "execution_count": 2,
      "metadata": {
        "id": "dPi54JU9XmXR"
      },
      "outputs": [],
      "source": [
        "import os\n",
        "import pandas as pd\n",
        "import numpy as np\n",
        "import matplotlib as plt\n",
        "from sklearn.model_selection import train_test_split\n",
        "from sklearn import feature_extraction, model_selection, naive_bayes, pipeline, manifold, preprocessing\n",
        "from sklearn.manifold import trustworthiness\n",
        "from sklearn.metrics import accuracy_score, classification_report, confusion_matrix, precision_recall_fscore_support, classification_report, f1_score, silhouette_score\n",
        "import torch.nn as nn\n",
        "import torch.optim as optim\n",
        "import seaborn as sns\n",
        "import torch\n",
        "from transformers import XLMRobertaForSequenceClassification, BertForSequenceClassification, AutoTokenizer, DataCollatorWithPadding, DataCollatorForLanguageModeling, RobertaForSequenceClassification, TrainingArguments, Trainer, BertModel\n",
        "from torch.utils.data import DataLoader, RandomSampler, SequentialSampler\n",
        "from sklearn.preprocessing import OrdinalEncoder, OneHotEncoder\n",
        "from datasets import Dataset, DatasetDict\n",
        "from utils import functions\n",
        "import random\n",
        "import nltk\n",
        "from sentence_transformers import SentenceTransformer, LoggingHandler\n",
        "from sentence_transformers import models, util, datasets, evaluation, losses\n",
        "import re\n",
        "from nltk.corpus import stopwords\n",
        "from gensim.utils import tokenize as tk\n",
        "from gensim.parsing.preprocessing import remove_stopwords, preprocess_string, strip_tags, strip_punctuation, strip_numeric, strip_multiple_whitespaces\n",
        "from gensim.models import Doc2Vec\n",
        "from collections import namedtuple\n",
        "from gensim.models.phrases import Phrases, Phraser\n",
        "from gensim.models.doc2vec import TaggedDocument\n",
        "from sentence_transformers import SentenceTransformer, LoggingHandler\n",
        "from sentence_transformers import models, util, datasets, evaluation, losses\n",
        "from torch.utils.data import DataLoader\n",
        "from sentence_transformers import SentenceTransformer\n",
        "import umap.umap_ as umap\n",
        "from sklearn.decomposition import PCA, TruncatedSVD\n",
        "from pynndescent import NNDescent\n",
        "from sklearn.utils import check_random_state\n",
        "from umap.umap_ import fuzzy_simplicial_set\n"
      ]
    },
    {
      "cell_type": "code",
      "execution_count": 3,
      "metadata": {},
      "outputs": [],
      "source": [
        "import math"
      ]
    },
    {
      "cell_type": "code",
      "execution_count": 4,
      "metadata": {
        "colab": {
          "base_uri": "https://localhost:8080/",
          "height": 35
        },
        "id": "mDclkfIWZcwv",
        "outputId": "769a0b89-1e46-4b79-c424-cb6022cd4971"
      },
      "outputs": [
        {
          "data": {
            "text/plain": [
              "'NVIDIA GeForce RTX 3090'"
            ]
          },
          "execution_count": 4,
          "metadata": {},
          "output_type": "execute_result"
        }
      ],
      "source": [
        "torch.cuda.empty_cache() \n",
        "device = torch.device('cuda')\n",
        "torch.cuda.get_device_name(device=None)\n"
      ]
    },
    {
      "cell_type": "code",
      "execution_count": 5,
      "metadata": {
        "colab": {
          "base_uri": "https://localhost:8080/"
        },
        "id": "ULX0gK7mg6d3",
        "outputId": "bdbd3c77-e5c0-46f3-cb41-c78bdbbbd4ab"
      },
      "outputs": [],
      "source": [
        "## Pseudo-randomness for reproducibility\n",
        "seed_val = 1234\n",
        "torch.manual_seed(seed_val)\n",
        "random.seed(seed_val)\n",
        "np.random.seed(seed_val)"
      ]
    },
    {
      "attachments": {},
      "cell_type": "markdown",
      "metadata": {
        "id": "b41aechYXmXT"
      },
      "source": [
        "# Application: Using CMP-annotated data as data for classification and supervised dimensionality reduction"
      ]
    },
    {
      "attachments": {},
      "cell_type": "markdown",
      "metadata": {},
      "source": [
        "### Data preparation"
      ]
    },
    {
      "cell_type": "code",
      "execution_count": 6,
      "metadata": {
        "id": "qB4dt7BNuojT"
      },
      "outputs": [],
      "source": [
        "manifesto = pd.read_csv(os.path.join(\"data\", \"r_outputs\",\"pulled_manifestoes.csv\"), encoding=\"utf-8\")"
      ]
    },
    {
      "cell_type": "code",
      "execution_count": 7,
      "metadata": {},
      "outputs": [
        {
          "data": {
            "text/html": [
              "<div>\n",
              "<style scoped>\n",
              "    .dataframe tbody tr th:only-of-type {\n",
              "        vertical-align: middle;\n",
              "    }\n",
              "\n",
              "    .dataframe tbody tr th {\n",
              "        vertical-align: top;\n",
              "    }\n",
              "\n",
              "    .dataframe thead th {\n",
              "        text-align: right;\n",
              "    }\n",
              "</style>\n",
              "<table border=\"1\" class=\"dataframe\">\n",
              "  <thead>\n",
              "    <tr style=\"text-align: right;\">\n",
              "      <th></th>\n",
              "      <th>text</th>\n",
              "      <th>election</th>\n",
              "      <th>code</th>\n",
              "      <th>pos</th>\n",
              "      <th>party_code</th>\n",
              "      <th>country_code</th>\n",
              "      <th>party</th>\n",
              "      <th>country</th>\n",
              "      <th>name</th>\n",
              "      <th>name_english</th>\n",
              "    </tr>\n",
              "  </thead>\n",
              "  <tbody>\n",
              "    <tr>\n",
              "      <th>0</th>\n",
              "      <td>La France est plus riche que jamais.</td>\n",
              "      <td>2012</td>\n",
              "      <td>503</td>\n",
              "      <td>3</td>\n",
              "      <td>31021_201206</td>\n",
              "      <td>31</td>\n",
              "      <td>31021</td>\n",
              "      <td>France</td>\n",
              "      <td>Front de Gauche</td>\n",
              "      <td>Left Front</td>\n",
              "    </tr>\n",
              "    <tr>\n",
              "      <th>1</th>\n",
              "      <td>Mais jamais non plus cette richesse n'a été au...</td>\n",
              "      <td>2012</td>\n",
              "      <td>503</td>\n",
              "      <td>4</td>\n",
              "      <td>31021_201206</td>\n",
              "      <td>31</td>\n",
              "      <td>31021</td>\n",
              "      <td>France</td>\n",
              "      <td>Front de Gauche</td>\n",
              "      <td>Left Front</td>\n",
              "    </tr>\n",
              "    <tr>\n",
              "      <th>2</th>\n",
              "      <td>Les réformes libérales qui se sont encore accé...</td>\n",
              "      <td>2012</td>\n",
              "      <td>503</td>\n",
              "      <td>5</td>\n",
              "      <td>31021_201206</td>\n",
              "      <td>31</td>\n",
              "      <td>31021</td>\n",
              "      <td>France</td>\n",
              "      <td>Front de Gauche</td>\n",
              "      <td>Left Front</td>\n",
              "    </tr>\n",
              "    <tr>\n",
              "      <th>3</th>\n",
              "      <td>La pauvreté et la précarité se sont étendues, ...</td>\n",
              "      <td>2012</td>\n",
              "      <td>503</td>\n",
              "      <td>6</td>\n",
              "      <td>31021_201206</td>\n",
              "      <td>31</td>\n",
              "      <td>31021</td>\n",
              "      <td>France</td>\n",
              "      <td>Front de Gauche</td>\n",
              "      <td>Left Front</td>\n",
              "    </tr>\n",
              "    <tr>\n",
              "      <th>4</th>\n",
              "      <td>L'égoïsme social des possédants viole l'intérê...</td>\n",
              "      <td>2012</td>\n",
              "      <td>503</td>\n",
              "      <td>7</td>\n",
              "      <td>31021_201206</td>\n",
              "      <td>31</td>\n",
              "      <td>31021</td>\n",
              "      <td>France</td>\n",
              "      <td>Front de Gauche</td>\n",
              "      <td>Left Front</td>\n",
              "    </tr>\n",
              "  </tbody>\n",
              "</table>\n",
              "</div>"
            ],
            "text/plain": [
              "                                                text  election code  pos  \\\n",
              "0               La France est plus riche que jamais.      2012  503    3   \n",
              "1  Mais jamais non plus cette richesse n'a été au...      2012  503    4   \n",
              "2  Les réformes libérales qui se sont encore accé...      2012  503    5   \n",
              "3  La pauvreté et la précarité se sont étendues, ...      2012  503    6   \n",
              "4  L'égoïsme social des possédants viole l'intérê...      2012  503    7   \n",
              "\n",
              "     party_code  country_code  party country             name name_english  \n",
              "0  31021_201206            31  31021  France  Front de Gauche   Left Front  \n",
              "1  31021_201206            31  31021  France  Front de Gauche   Left Front  \n",
              "2  31021_201206            31  31021  France  Front de Gauche   Left Front  \n",
              "3  31021_201206            31  31021  France  Front de Gauche   Left Front  \n",
              "4  31021_201206            31  31021  France  Front de Gauche   Left Front  "
            ]
          },
          "execution_count": 7,
          "metadata": {},
          "output_type": "execute_result"
        }
      ],
      "source": [
        "manifesto.head()"
      ]
    },
    {
      "cell_type": "code",
      "execution_count": 8,
      "metadata": {},
      "outputs": [
        {
          "data": {
            "text/plain": [
              "{'000',\n",
              " '101',\n",
              " '102',\n",
              " '103',\n",
              " '103.1',\n",
              " '103.2',\n",
              " '104',\n",
              " '105',\n",
              " '106',\n",
              " '107',\n",
              " '108',\n",
              " '109',\n",
              " '110',\n",
              " '201',\n",
              " '201.1',\n",
              " '201.2',\n",
              " '202',\n",
              " '202.1',\n",
              " '202.2',\n",
              " '202.3',\n",
              " '202.4',\n",
              " '203',\n",
              " '204',\n",
              " '301',\n",
              " '302',\n",
              " '303',\n",
              " '304',\n",
              " '305',\n",
              " '305.1',\n",
              " '305.2',\n",
              " '305.3',\n",
              " '305.5',\n",
              " '305.6',\n",
              " '401',\n",
              " '402',\n",
              " '403',\n",
              " '404',\n",
              " '405',\n",
              " '406',\n",
              " '407',\n",
              " '408',\n",
              " '409',\n",
              " '410',\n",
              " '411',\n",
              " '412',\n",
              " '413',\n",
              " '414',\n",
              " '415',\n",
              " '416',\n",
              " '416.1',\n",
              " '416.2',\n",
              " '501',\n",
              " '502',\n",
              " '503',\n",
              " '504',\n",
              " '505',\n",
              " '506',\n",
              " '507',\n",
              " '601',\n",
              " '601.1',\n",
              " '601.2',\n",
              " '602',\n",
              " '602.1',\n",
              " '602.2',\n",
              " '603',\n",
              " '604',\n",
              " '605',\n",
              " '605.1',\n",
              " '605.2',\n",
              " '606',\n",
              " '606.1',\n",
              " '606.2',\n",
              " '607',\n",
              " '607.1',\n",
              " '607.2',\n",
              " '607.3',\n",
              " '608',\n",
              " '608.1',\n",
              " '608.2',\n",
              " '701',\n",
              " '702',\n",
              " '703',\n",
              " '703.1',\n",
              " '703.2',\n",
              " '704',\n",
              " '705',\n",
              " '706',\n",
              " 'H'}"
            ]
          },
          "execution_count": 8,
          "metadata": {},
          "output_type": "execute_result"
        }
      ],
      "source": [
        "set(manifesto.code)"
      ]
    },
    {
      "cell_type": "code",
      "execution_count": 9,
      "metadata": {},
      "outputs": [],
      "source": [
        "manifesto = manifesto[(manifesto.code.notna()) & ~(manifesto.code.isin(['000','H']))].reset_index(drop=True)"
      ]
    },
    {
      "cell_type": "code",
      "execution_count": 10,
      "metadata": {
        "colab": {
          "base_uri": "https://localhost:8080/"
        },
        "id": "BvaoD683XmXc",
        "outputId": "c1d5ae1c-72ba-4193-da97-0f4cb8304318"
      },
      "outputs": [
        {
          "data": {
            "text/plain": [
              "{'101',\n",
              " '102',\n",
              " '103',\n",
              " '103.1',\n",
              " '103.2',\n",
              " '104',\n",
              " '105',\n",
              " '106',\n",
              " '107',\n",
              " '108',\n",
              " '109',\n",
              " '110',\n",
              " '201',\n",
              " '201.1',\n",
              " '201.2',\n",
              " '202',\n",
              " '202.1',\n",
              " '202.2',\n",
              " '202.3',\n",
              " '202.4',\n",
              " '203',\n",
              " '204',\n",
              " '301',\n",
              " '302',\n",
              " '303',\n",
              " '304',\n",
              " '305',\n",
              " '305.1',\n",
              " '305.2',\n",
              " '305.3',\n",
              " '305.5',\n",
              " '305.6',\n",
              " '401',\n",
              " '402',\n",
              " '403',\n",
              " '404',\n",
              " '405',\n",
              " '406',\n",
              " '407',\n",
              " '408',\n",
              " '409',\n",
              " '410',\n",
              " '411',\n",
              " '412',\n",
              " '413',\n",
              " '414',\n",
              " '415',\n",
              " '416',\n",
              " '416.1',\n",
              " '416.2',\n",
              " '501',\n",
              " '502',\n",
              " '503',\n",
              " '504',\n",
              " '505',\n",
              " '506',\n",
              " '507',\n",
              " '601',\n",
              " '601.1',\n",
              " '601.2',\n",
              " '602',\n",
              " '602.1',\n",
              " '602.2',\n",
              " '603',\n",
              " '604',\n",
              " '605',\n",
              " '605.1',\n",
              " '605.2',\n",
              " '606',\n",
              " '606.1',\n",
              " '606.2',\n",
              " '607',\n",
              " '607.1',\n",
              " '607.2',\n",
              " '607.3',\n",
              " '608',\n",
              " '608.1',\n",
              " '608.2',\n",
              " '701',\n",
              " '702',\n",
              " '703',\n",
              " '703.1',\n",
              " '703.2',\n",
              " '704',\n",
              " '705',\n",
              " '706'}"
            ]
          },
          "execution_count": 10,
          "metadata": {},
          "output_type": "execute_result"
        }
      ],
      "source": [
        "set(manifesto.code)"
      ]
    },
    {
      "cell_type": "code",
      "execution_count": 11,
      "metadata": {},
      "outputs": [],
      "source": [
        "def extract_code(code):\n",
        "    if len(code.split('.')) > 1:\n",
        "        return(int(code.split('.')[0]))\n",
        "    else:\n",
        "        return int(code)\n",
        "manifesto['code_extract'] = manifesto['code'].apply(extract_code)"
      ]
    },
    {
      "cell_type": "code",
      "execution_count": 12,
      "metadata": {},
      "outputs": [
        {
          "data": {
            "text/plain": [
              "56"
            ]
          },
          "execution_count": 12,
          "metadata": {},
          "output_type": "execute_result"
        }
      ],
      "source": [
        "len(set(manifesto.code_extract))"
      ]
    },
    {
      "cell_type": "code",
      "execution_count": 13,
      "metadata": {},
      "outputs": [],
      "source": [
        "def sentiment_code(code):\n",
        "    if code in [104,201,203,305,401,402,407,414,505,601,603,605,606,410]:                                       ## social - liberal                                                  \n",
        "        return('right')\n",
        "    elif code in [103,105,106,107,202,403,404,406,412,413,504,506,701,501,416]:                                             ## social - liberal                                 \n",
        "        return('left')\n",
        "    else:\n",
        "        return('neutral')\n",
        "\n",
        "    "
      ]
    },
    {
      "cell_type": "code",
      "execution_count": 14,
      "metadata": {},
      "outputs": [],
      "source": [
        "manifesto.loc[:,'sentiment'] = manifesto.loc[:,'code_extract'].apply(sentiment_code)"
      ]
    },
    {
      "cell_type": "code",
      "execution_count": 15,
      "metadata": {},
      "outputs": [
        {
          "data": {
            "text/html": [
              "<div>\n",
              "<style scoped>\n",
              "    .dataframe tbody tr th:only-of-type {\n",
              "        vertical-align: middle;\n",
              "    }\n",
              "\n",
              "    .dataframe tbody tr th {\n",
              "        vertical-align: top;\n",
              "    }\n",
              "\n",
              "    .dataframe thead th {\n",
              "        text-align: right;\n",
              "    }\n",
              "</style>\n",
              "<table border=\"1\" class=\"dataframe\">\n",
              "  <thead>\n",
              "    <tr style=\"text-align: right;\">\n",
              "      <th></th>\n",
              "      <th>text</th>\n",
              "      <th>election</th>\n",
              "      <th>code</th>\n",
              "      <th>pos</th>\n",
              "      <th>party_code</th>\n",
              "      <th>country_code</th>\n",
              "      <th>party</th>\n",
              "      <th>country</th>\n",
              "      <th>name</th>\n",
              "      <th>name_english</th>\n",
              "      <th>code_extract</th>\n",
              "    </tr>\n",
              "    <tr>\n",
              "      <th>sentiment</th>\n",
              "      <th></th>\n",
              "      <th></th>\n",
              "      <th></th>\n",
              "      <th></th>\n",
              "      <th></th>\n",
              "      <th></th>\n",
              "      <th></th>\n",
              "      <th></th>\n",
              "      <th></th>\n",
              "      <th></th>\n",
              "      <th></th>\n",
              "    </tr>\n",
              "  </thead>\n",
              "  <tbody>\n",
              "    <tr>\n",
              "      <th>left</th>\n",
              "      <td>116160</td>\n",
              "      <td>116160</td>\n",
              "      <td>116160</td>\n",
              "      <td>116160</td>\n",
              "      <td>116160</td>\n",
              "      <td>116160</td>\n",
              "      <td>116160</td>\n",
              "      <td>116160</td>\n",
              "      <td>116160</td>\n",
              "      <td>116160</td>\n",
              "      <td>116160</td>\n",
              "    </tr>\n",
              "    <tr>\n",
              "      <th>neutral</th>\n",
              "      <td>117309</td>\n",
              "      <td>117309</td>\n",
              "      <td>117309</td>\n",
              "      <td>117309</td>\n",
              "      <td>117309</td>\n",
              "      <td>117309</td>\n",
              "      <td>117309</td>\n",
              "      <td>117309</td>\n",
              "      <td>117309</td>\n",
              "      <td>117309</td>\n",
              "      <td>117309</td>\n",
              "    </tr>\n",
              "    <tr>\n",
              "      <th>right</th>\n",
              "      <td>54695</td>\n",
              "      <td>54695</td>\n",
              "      <td>54695</td>\n",
              "      <td>54695</td>\n",
              "      <td>54695</td>\n",
              "      <td>54695</td>\n",
              "      <td>54695</td>\n",
              "      <td>54695</td>\n",
              "      <td>54695</td>\n",
              "      <td>54695</td>\n",
              "      <td>54695</td>\n",
              "    </tr>\n",
              "  </tbody>\n",
              "</table>\n",
              "</div>"
            ],
            "text/plain": [
              "             text  election    code     pos  party_code  country_code   party  \\\n",
              "sentiment                                                                       \n",
              "left       116160    116160  116160  116160      116160        116160  116160   \n",
              "neutral    117309    117309  117309  117309      117309        117309  117309   \n",
              "right       54695     54695   54695   54695       54695         54695   54695   \n",
              "\n",
              "           country    name  name_english  code_extract  \n",
              "sentiment                                               \n",
              "left        116160  116160        116160        116160  \n",
              "neutral     117309  117309        117309        117309  \n",
              "right        54695   54695         54695         54695  "
            ]
          },
          "execution_count": 15,
          "metadata": {},
          "output_type": "execute_result"
        }
      ],
      "source": [
        "manifesto.groupby('sentiment').count()"
      ]
    },
    {
      "cell_type": "code",
      "execution_count": 16,
      "metadata": {},
      "outputs": [
        {
          "data": {
            "text/html": [
              "<div>\n",
              "<style scoped>\n",
              "    .dataframe tbody tr th:only-of-type {\n",
              "        vertical-align: middle;\n",
              "    }\n",
              "\n",
              "    .dataframe tbody tr th {\n",
              "        vertical-align: top;\n",
              "    }\n",
              "\n",
              "    .dataframe thead th {\n",
              "        text-align: right;\n",
              "    }\n",
              "</style>\n",
              "<table border=\"1\" class=\"dataframe\">\n",
              "  <thead>\n",
              "    <tr style=\"text-align: right;\">\n",
              "      <th></th>\n",
              "      <th></th>\n",
              "      <th>text</th>\n",
              "      <th>code</th>\n",
              "      <th>pos</th>\n",
              "      <th>party_code</th>\n",
              "      <th>country_code</th>\n",
              "      <th>party</th>\n",
              "      <th>name</th>\n",
              "      <th>name_english</th>\n",
              "      <th>code_extract</th>\n",
              "      <th>sentiment</th>\n",
              "    </tr>\n",
              "    <tr>\n",
              "      <th>country</th>\n",
              "      <th>election</th>\n",
              "      <th></th>\n",
              "      <th></th>\n",
              "      <th></th>\n",
              "      <th></th>\n",
              "      <th></th>\n",
              "      <th></th>\n",
              "      <th></th>\n",
              "      <th></th>\n",
              "      <th></th>\n",
              "      <th></th>\n",
              "    </tr>\n",
              "  </thead>\n",
              "  <tbody>\n",
              "    <tr>\n",
              "      <th rowspan=\"2\" valign=\"top\">France</th>\n",
              "      <th>2012</th>\n",
              "      <td>4809</td>\n",
              "      <td>4809</td>\n",
              "      <td>4809</td>\n",
              "      <td>4809</td>\n",
              "      <td>4809</td>\n",
              "      <td>4809</td>\n",
              "      <td>4809</td>\n",
              "      <td>4809</td>\n",
              "      <td>4809</td>\n",
              "      <td>4809</td>\n",
              "    </tr>\n",
              "    <tr>\n",
              "      <th>2017</th>\n",
              "      <td>3460</td>\n",
              "      <td>3460</td>\n",
              "      <td>3460</td>\n",
              "      <td>3460</td>\n",
              "      <td>3460</td>\n",
              "      <td>3460</td>\n",
              "      <td>3460</td>\n",
              "      <td>3460</td>\n",
              "      <td>3460</td>\n",
              "      <td>3460</td>\n",
              "    </tr>\n",
              "    <tr>\n",
              "      <th rowspan=\"7\" valign=\"top\">Germany</th>\n",
              "      <th>1998</th>\n",
              "      <td>6046</td>\n",
              "      <td>6046</td>\n",
              "      <td>6046</td>\n",
              "      <td>6046</td>\n",
              "      <td>6046</td>\n",
              "      <td>6046</td>\n",
              "      <td>6046</td>\n",
              "      <td>6046</td>\n",
              "      <td>6046</td>\n",
              "      <td>6046</td>\n",
              "    </tr>\n",
              "    <tr>\n",
              "      <th>2002</th>\n",
              "      <td>7339</td>\n",
              "      <td>7339</td>\n",
              "      <td>7339</td>\n",
              "      <td>7339</td>\n",
              "      <td>7339</td>\n",
              "      <td>7339</td>\n",
              "      <td>7339</td>\n",
              "      <td>7339</td>\n",
              "      <td>7339</td>\n",
              "      <td>7339</td>\n",
              "    </tr>\n",
              "    <tr>\n",
              "      <th>2005</th>\n",
              "      <td>5479</td>\n",
              "      <td>5479</td>\n",
              "      <td>5479</td>\n",
              "      <td>5479</td>\n",
              "      <td>5479</td>\n",
              "      <td>5479</td>\n",
              "      <td>5479</td>\n",
              "      <td>5479</td>\n",
              "      <td>5479</td>\n",
              "      <td>5479</td>\n",
              "    </tr>\n",
              "    <tr>\n",
              "      <th>2009</th>\n",
              "      <td>11624</td>\n",
              "      <td>11624</td>\n",
              "      <td>11624</td>\n",
              "      <td>11624</td>\n",
              "      <td>11624</td>\n",
              "      <td>11624</td>\n",
              "      <td>11624</td>\n",
              "      <td>11624</td>\n",
              "      <td>11624</td>\n",
              "      <td>11624</td>\n",
              "    </tr>\n",
              "    <tr>\n",
              "      <th>2013</th>\n",
              "      <td>17629</td>\n",
              "      <td>17629</td>\n",
              "      <td>17629</td>\n",
              "      <td>17629</td>\n",
              "      <td>17629</td>\n",
              "      <td>17629</td>\n",
              "      <td>17629</td>\n",
              "      <td>17629</td>\n",
              "      <td>17629</td>\n",
              "      <td>17629</td>\n",
              "    </tr>\n",
              "    <tr>\n",
              "      <th>2017</th>\n",
              "      <td>14779</td>\n",
              "      <td>14779</td>\n",
              "      <td>14779</td>\n",
              "      <td>14779</td>\n",
              "      <td>14779</td>\n",
              "      <td>14779</td>\n",
              "      <td>14779</td>\n",
              "      <td>14779</td>\n",
              "      <td>14779</td>\n",
              "      <td>14779</td>\n",
              "    </tr>\n",
              "    <tr>\n",
              "      <th>2021</th>\n",
              "      <td>18407</td>\n",
              "      <td>18407</td>\n",
              "      <td>18407</td>\n",
              "      <td>18407</td>\n",
              "      <td>18407</td>\n",
              "      <td>18407</td>\n",
              "      <td>18407</td>\n",
              "      <td>18407</td>\n",
              "      <td>18407</td>\n",
              "      <td>18407</td>\n",
              "    </tr>\n",
              "    <tr>\n",
              "      <th rowspan=\"4\" valign=\"top\">Italy</th>\n",
              "      <th>2001</th>\n",
              "      <td>3829</td>\n",
              "      <td>3829</td>\n",
              "      <td>3829</td>\n",
              "      <td>3829</td>\n",
              "      <td>3829</td>\n",
              "      <td>3829</td>\n",
              "      <td>3829</td>\n",
              "      <td>3829</td>\n",
              "      <td>3829</td>\n",
              "      <td>3829</td>\n",
              "    </tr>\n",
              "    <tr>\n",
              "      <th>2008</th>\n",
              "      <td>718</td>\n",
              "      <td>718</td>\n",
              "      <td>718</td>\n",
              "      <td>718</td>\n",
              "      <td>718</td>\n",
              "      <td>718</td>\n",
              "      <td>718</td>\n",
              "      <td>718</td>\n",
              "      <td>718</td>\n",
              "      <td>718</td>\n",
              "    </tr>\n",
              "    <tr>\n",
              "      <th>2013</th>\n",
              "      <td>4301</td>\n",
              "      <td>4301</td>\n",
              "      <td>4301</td>\n",
              "      <td>4301</td>\n",
              "      <td>4301</td>\n",
              "      <td>4301</td>\n",
              "      <td>4301</td>\n",
              "      <td>4301</td>\n",
              "      <td>4301</td>\n",
              "      <td>4301</td>\n",
              "    </tr>\n",
              "    <tr>\n",
              "      <th>2018</th>\n",
              "      <td>10881</td>\n",
              "      <td>10881</td>\n",
              "      <td>10881</td>\n",
              "      <td>10881</td>\n",
              "      <td>10881</td>\n",
              "      <td>10881</td>\n",
              "      <td>10881</td>\n",
              "      <td>10881</td>\n",
              "      <td>10881</td>\n",
              "      <td>10881</td>\n",
              "    </tr>\n",
              "    <tr>\n",
              "      <th rowspan=\"8\" valign=\"top\">Spain</th>\n",
              "      <th>1996</th>\n",
              "      <td>4378</td>\n",
              "      <td>4378</td>\n",
              "      <td>4378</td>\n",
              "      <td>4378</td>\n",
              "      <td>4378</td>\n",
              "      <td>4378</td>\n",
              "      <td>4378</td>\n",
              "      <td>4378</td>\n",
              "      <td>4378</td>\n",
              "      <td>4378</td>\n",
              "    </tr>\n",
              "    <tr>\n",
              "      <th>2000</th>\n",
              "      <td>16794</td>\n",
              "      <td>16794</td>\n",
              "      <td>16794</td>\n",
              "      <td>16794</td>\n",
              "      <td>16794</td>\n",
              "      <td>16794</td>\n",
              "      <td>16794</td>\n",
              "      <td>16794</td>\n",
              "      <td>16794</td>\n",
              "      <td>16794</td>\n",
              "    </tr>\n",
              "    <tr>\n",
              "      <th>2004</th>\n",
              "      <td>6725</td>\n",
              "      <td>6725</td>\n",
              "      <td>6725</td>\n",
              "      <td>6725</td>\n",
              "      <td>6725</td>\n",
              "      <td>6725</td>\n",
              "      <td>6725</td>\n",
              "      <td>6725</td>\n",
              "      <td>6725</td>\n",
              "      <td>6725</td>\n",
              "    </tr>\n",
              "    <tr>\n",
              "      <th>2008</th>\n",
              "      <td>17803</td>\n",
              "      <td>17803</td>\n",
              "      <td>17803</td>\n",
              "      <td>17803</td>\n",
              "      <td>17803</td>\n",
              "      <td>17803</td>\n",
              "      <td>17803</td>\n",
              "      <td>17803</td>\n",
              "      <td>17803</td>\n",
              "      <td>17803</td>\n",
              "    </tr>\n",
              "    <tr>\n",
              "      <th>2011</th>\n",
              "      <td>14910</td>\n",
              "      <td>14910</td>\n",
              "      <td>14910</td>\n",
              "      <td>14910</td>\n",
              "      <td>14910</td>\n",
              "      <td>14910</td>\n",
              "      <td>14910</td>\n",
              "      <td>14910</td>\n",
              "      <td>14910</td>\n",
              "      <td>14910</td>\n",
              "    </tr>\n",
              "    <tr>\n",
              "      <th>2015</th>\n",
              "      <td>23545</td>\n",
              "      <td>23545</td>\n",
              "      <td>23545</td>\n",
              "      <td>23545</td>\n",
              "      <td>23545</td>\n",
              "      <td>23545</td>\n",
              "      <td>23545</td>\n",
              "      <td>23545</td>\n",
              "      <td>23545</td>\n",
              "      <td>23545</td>\n",
              "    </tr>\n",
              "    <tr>\n",
              "      <th>2016</th>\n",
              "      <td>18511</td>\n",
              "      <td>18511</td>\n",
              "      <td>18511</td>\n",
              "      <td>18511</td>\n",
              "      <td>18511</td>\n",
              "      <td>18511</td>\n",
              "      <td>18511</td>\n",
              "      <td>18511</td>\n",
              "      <td>18511</td>\n",
              "      <td>18511</td>\n",
              "    </tr>\n",
              "    <tr>\n",
              "      <th>2019</th>\n",
              "      <td>29881</td>\n",
              "      <td>29881</td>\n",
              "      <td>29881</td>\n",
              "      <td>29881</td>\n",
              "      <td>29881</td>\n",
              "      <td>29881</td>\n",
              "      <td>29881</td>\n",
              "      <td>29881</td>\n",
              "      <td>29881</td>\n",
              "      <td>29881</td>\n",
              "    </tr>\n",
              "    <tr>\n",
              "      <th rowspan=\"5\" valign=\"top\">United Kingdom</th>\n",
              "      <th>1997</th>\n",
              "      <td>1451</td>\n",
              "      <td>1451</td>\n",
              "      <td>1451</td>\n",
              "      <td>1451</td>\n",
              "      <td>1451</td>\n",
              "      <td>1451</td>\n",
              "      <td>1451</td>\n",
              "      <td>1451</td>\n",
              "      <td>1451</td>\n",
              "      <td>1451</td>\n",
              "    </tr>\n",
              "    <tr>\n",
              "      <th>2001</th>\n",
              "      <td>2195</td>\n",
              "      <td>2195</td>\n",
              "      <td>2195</td>\n",
              "      <td>2195</td>\n",
              "      <td>2195</td>\n",
              "      <td>2195</td>\n",
              "      <td>2195</td>\n",
              "      <td>2195</td>\n",
              "      <td>2195</td>\n",
              "      <td>2195</td>\n",
              "    </tr>\n",
              "    <tr>\n",
              "      <th>2015</th>\n",
              "      <td>11033</td>\n",
              "      <td>11033</td>\n",
              "      <td>11033</td>\n",
              "      <td>11033</td>\n",
              "      <td>11033</td>\n",
              "      <td>11033</td>\n",
              "      <td>11033</td>\n",
              "      <td>11033</td>\n",
              "      <td>11033</td>\n",
              "      <td>11033</td>\n",
              "    </tr>\n",
              "    <tr>\n",
              "      <th>2017</th>\n",
              "      <td>6988</td>\n",
              "      <td>6988</td>\n",
              "      <td>6988</td>\n",
              "      <td>6988</td>\n",
              "      <td>6988</td>\n",
              "      <td>6988</td>\n",
              "      <td>6988</td>\n",
              "      <td>6988</td>\n",
              "      <td>6988</td>\n",
              "      <td>6988</td>\n",
              "    </tr>\n",
              "    <tr>\n",
              "      <th>2019</th>\n",
              "      <td>9269</td>\n",
              "      <td>9269</td>\n",
              "      <td>9269</td>\n",
              "      <td>9269</td>\n",
              "      <td>9269</td>\n",
              "      <td>9269</td>\n",
              "      <td>9269</td>\n",
              "      <td>9269</td>\n",
              "      <td>9269</td>\n",
              "      <td>9269</td>\n",
              "    </tr>\n",
              "    <tr>\n",
              "      <th rowspan=\"6\" valign=\"top\">United States</th>\n",
              "      <th>1992</th>\n",
              "      <td>383</td>\n",
              "      <td>383</td>\n",
              "      <td>383</td>\n",
              "      <td>383</td>\n",
              "      <td>383</td>\n",
              "      <td>383</td>\n",
              "      <td>383</td>\n",
              "      <td>383</td>\n",
              "      <td>383</td>\n",
              "      <td>383</td>\n",
              "    </tr>\n",
              "    <tr>\n",
              "      <th>2004</th>\n",
              "      <td>2644</td>\n",
              "      <td>2644</td>\n",
              "      <td>2644</td>\n",
              "      <td>2644</td>\n",
              "      <td>2644</td>\n",
              "      <td>2644</td>\n",
              "      <td>2644</td>\n",
              "      <td>2644</td>\n",
              "      <td>2644</td>\n",
              "      <td>2644</td>\n",
              "    </tr>\n",
              "    <tr>\n",
              "      <th>2008</th>\n",
              "      <td>1002</td>\n",
              "      <td>1002</td>\n",
              "      <td>1002</td>\n",
              "      <td>1002</td>\n",
              "      <td>1002</td>\n",
              "      <td>1002</td>\n",
              "      <td>1002</td>\n",
              "      <td>1002</td>\n",
              "      <td>1002</td>\n",
              "      <td>1002</td>\n",
              "    </tr>\n",
              "    <tr>\n",
              "      <th>2012</th>\n",
              "      <td>2893</td>\n",
              "      <td>2893</td>\n",
              "      <td>2893</td>\n",
              "      <td>2893</td>\n",
              "      <td>2893</td>\n",
              "      <td>2893</td>\n",
              "      <td>2893</td>\n",
              "      <td>2893</td>\n",
              "      <td>2893</td>\n",
              "      <td>2893</td>\n",
              "    </tr>\n",
              "    <tr>\n",
              "      <th>2016</th>\n",
              "      <td>3679</td>\n",
              "      <td>3679</td>\n",
              "      <td>3679</td>\n",
              "      <td>3679</td>\n",
              "      <td>3679</td>\n",
              "      <td>3679</td>\n",
              "      <td>3679</td>\n",
              "      <td>3679</td>\n",
              "      <td>3679</td>\n",
              "      <td>3679</td>\n",
              "    </tr>\n",
              "    <tr>\n",
              "      <th>2020</th>\n",
              "      <td>4779</td>\n",
              "      <td>4779</td>\n",
              "      <td>4779</td>\n",
              "      <td>4779</td>\n",
              "      <td>4779</td>\n",
              "      <td>4779</td>\n",
              "      <td>4779</td>\n",
              "      <td>4779</td>\n",
              "      <td>4779</td>\n",
              "      <td>4779</td>\n",
              "    </tr>\n",
              "  </tbody>\n",
              "</table>\n",
              "</div>"
            ],
            "text/plain": [
              "                          text   code    pos  party_code  country_code  party  \\\n",
              "country        election                                                         \n",
              "France         2012       4809   4809   4809        4809          4809   4809   \n",
              "               2017       3460   3460   3460        3460          3460   3460   \n",
              "Germany        1998       6046   6046   6046        6046          6046   6046   \n",
              "               2002       7339   7339   7339        7339          7339   7339   \n",
              "               2005       5479   5479   5479        5479          5479   5479   \n",
              "               2009      11624  11624  11624       11624         11624  11624   \n",
              "               2013      17629  17629  17629       17629         17629  17629   \n",
              "               2017      14779  14779  14779       14779         14779  14779   \n",
              "               2021      18407  18407  18407       18407         18407  18407   \n",
              "Italy          2001       3829   3829   3829        3829          3829   3829   \n",
              "               2008        718    718    718         718           718    718   \n",
              "               2013       4301   4301   4301        4301          4301   4301   \n",
              "               2018      10881  10881  10881       10881         10881  10881   \n",
              "Spain          1996       4378   4378   4378        4378          4378   4378   \n",
              "               2000      16794  16794  16794       16794         16794  16794   \n",
              "               2004       6725   6725   6725        6725          6725   6725   \n",
              "               2008      17803  17803  17803       17803         17803  17803   \n",
              "               2011      14910  14910  14910       14910         14910  14910   \n",
              "               2015      23545  23545  23545       23545         23545  23545   \n",
              "               2016      18511  18511  18511       18511         18511  18511   \n",
              "               2019      29881  29881  29881       29881         29881  29881   \n",
              "United Kingdom 1997       1451   1451   1451        1451          1451   1451   \n",
              "               2001       2195   2195   2195        2195          2195   2195   \n",
              "               2015      11033  11033  11033       11033         11033  11033   \n",
              "               2017       6988   6988   6988        6988          6988   6988   \n",
              "               2019       9269   9269   9269        9269          9269   9269   \n",
              "United States  1992        383    383    383         383           383    383   \n",
              "               2004       2644   2644   2644        2644          2644   2644   \n",
              "               2008       1002   1002   1002        1002          1002   1002   \n",
              "               2012       2893   2893   2893        2893          2893   2893   \n",
              "               2016       3679   3679   3679        3679          3679   3679   \n",
              "               2020       4779   4779   4779        4779          4779   4779   \n",
              "\n",
              "                          name  name_english  code_extract  sentiment  \n",
              "country        election                                                \n",
              "France         2012       4809          4809          4809       4809  \n",
              "               2017       3460          3460          3460       3460  \n",
              "Germany        1998       6046          6046          6046       6046  \n",
              "               2002       7339          7339          7339       7339  \n",
              "               2005       5479          5479          5479       5479  \n",
              "               2009      11624         11624         11624      11624  \n",
              "               2013      17629         17629         17629      17629  \n",
              "               2017      14779         14779         14779      14779  \n",
              "               2021      18407         18407         18407      18407  \n",
              "Italy          2001       3829          3829          3829       3829  \n",
              "               2008        718           718           718        718  \n",
              "               2013       4301          4301          4301       4301  \n",
              "               2018      10881         10881         10881      10881  \n",
              "Spain          1996       4378          4378          4378       4378  \n",
              "               2000      16794         16794         16794      16794  \n",
              "               2004       6725          6725          6725       6725  \n",
              "               2008      17803         17803         17803      17803  \n",
              "               2011      14910         14910         14910      14910  \n",
              "               2015      23545         23545         23545      23545  \n",
              "               2016      18511         18511         18511      18511  \n",
              "               2019      29881         29881         29881      29881  \n",
              "United Kingdom 1997       1451          1451          1451       1451  \n",
              "               2001       2195          2195          2195       2195  \n",
              "               2015      11033         11033         11033      11033  \n",
              "               2017       6988          6988          6988       6988  \n",
              "               2019       9269          9269          9269       9269  \n",
              "United States  1992        383           383           383        383  \n",
              "               2004       2644          2644          2644       2644  \n",
              "               2008       1002          1002          1002       1002  \n",
              "               2012       2893          2893          2893       2893  \n",
              "               2016       3679          3679          3679       3679  \n",
              "               2020       4779          4779          4779       4779  "
            ]
          },
          "execution_count": 16,
          "metadata": {},
          "output_type": "execute_result"
        }
      ],
      "source": [
        "manifesto.groupby(['country','election']).count()"
      ]
    },
    {
      "cell_type": "code",
      "execution_count": 17,
      "metadata": {},
      "outputs": [],
      "source": [
        "texts = manifesto['text'].tolist()"
      ]
    },
    {
      "cell_type": "code",
      "execution_count": 18,
      "metadata": {},
      "outputs": [
        {
          "name": "stdout",
          "output_type": "stream",
          "text": [
            "Mean length (word) is: 20.442796463125166\n",
            "Std length (word) is: 12.823326822581686\n",
            "Min length (word) is: 1\n",
            "Max length (word) is: 160\n"
          ]
        }
      ],
      "source": [
        "from statistics import stdev, mean\n",
        "## Before\n",
        "seq_len = [len(i.split()) for i in texts]\n",
        "seq_len_mean = mean(seq_len)\n",
        "seq_len_std = stdev(seq_len)\n",
        "seq_len_max = max(seq_len)\n",
        "seq_len_min = min(seq_len)\n",
        "print('Mean length (word) is: {}'.format(seq_len_mean))\n",
        "print('Std length (word) is: {}'.format(seq_len_std))\n",
        "print('Min length (word) is: {}'.format(seq_len_min))\n",
        "print('Max length (word) is: {}'.format(seq_len_max))"
      ]
    },
    {
      "cell_type": "code",
      "execution_count": 19,
      "metadata": {},
      "outputs": [
        {
          "data": {
            "text/plain": [
              "<AxesSubplot: >"
            ]
          },
          "execution_count": 19,
          "metadata": {},
          "output_type": "execute_result"
        },
        {
          "data": {
            "image/png": "[encoded data removed]",
            "text/plain": [
              "<Figure size 640x480 with 1 Axes>"
            ]
          },
          "metadata": {},
          "output_type": "display_data"
        }
      ],
      "source": [
        "pd.Series(seq_len).hist(bins = 30)"
      ]
    },
    {
      "cell_type": "code",
      "execution_count": 20,
      "metadata": {},
      "outputs": [],
      "source": [
        "manifesto['country_party_election_sentiment'] = manifesto.country.str.cat(others=[manifesto.name, manifesto.election.astype(str), \n",
        "manifesto.sentiment], sep='_')"
      ]
    },
    {
      "cell_type": "code",
      "execution_count": 21,
      "metadata": {},
      "outputs": [],
      "source": [
        "def group_texts(dataset, labels_col, text_col, group_factor=5):\n",
        "    results = []\n",
        "    labels = dataset[labels_col].tolist()\n",
        "    for label in set(labels):\n",
        "        ls_texts = []\n",
        "        current_label = dataset[dataset[labels_col] == label]\n",
        "        print(f'Length of {label} is: {len(current_label)}')\n",
        "        texts = current_label[text_col].tolist()\n",
        "        total_length = len(texts)\n",
        "        for i in range(0,total_length,group_factor):\n",
        "            text_to_append = ' '.join(texts[i:i+group_factor])\n",
        "            ls_texts.append(text_to_append)\n",
        "        result = {\n",
        "            'text': ls_texts,\n",
        "            'labels': label\n",
        "        }                  \n",
        "        results.append(result)\n",
        "    return(results)   "
      ]
    },
    {
      "cell_type": "code",
      "execution_count": 22,
      "metadata": {},
      "outputs": [
        {
          "name": "stdout",
          "output_type": "stream",
          "text": [
            "Length of Germany_Freie Demokratische Partei_1998_right is: 525\n",
            "Length of Germany_Die Linke_2009_left is: 709\n",
            "Length of Spain_Bloque Nacionalista Galego_2008_neutral is: 978\n",
            "Length of Spain_Coalición Canaria - Nueva Canarias_2011_right is: 91\n",
            "Length of United Kingdom_Liberal Democrats_1997_right is: 203\n",
            "Length of Spain_Ciudadanos - Partido de la Ciudadania_2016_left is: 385\n",
            "Length of United Kingdom_Labour Party_2015_neutral is: 258\n",
            "Length of Spain_Partido Popular_2000_neutral is: 1369\n",
            "Length of Germany_Christlich-Demokratische Union/Christlich-Soziale Union_2002_right is: 522\n",
            "Length of Germany_Bündnis‘90/Die Grünen_2013_right is: 787\n",
            "Length of Germany_Christlich-Demokratische Union/Christlich-Soziale Union_2009_left is: 507\n",
            "Length of Germany_Bündnis‘90/Die Grünen_2002_right is: 280\n",
            "Length of Spain_Coalición Canaria - Nueva Canarias_2016_right is: 115\n",
            "Length of Spain_Partido Nacionalista Vasco/Euzko Alderdi Jeltzalea_2015_right is: 112\n",
            "Length of Germany_Sozialdemokratische Partei Deutschlands_2021_neutral is: 549\n",
            "Length of Spain_En marea_2015_right is: 16\n",
            "Length of Spain_Coalición Canaria - Nueva Canarias_2004_left is: 185\n",
            "Length of Spain_Junts per Catalunya_2019_left is: 1270\n",
            "Length of Spain_Más País-Equo_2019_left is: 709\n",
            "Length of Spain_Coalición Canaria - Nueva Canarias_2011_neutral is: 444\n",
            "Length of Italy_Fratelli d'Italia_2018_right is: 61\n",
            "Length of Italy_Fratelli d'Italia_2013_neutral is: 144\n",
            "Length of Spain_Bloque Nacionalista Galego_2000_neutral is: 663\n",
            "Length of Spain_Partido Popular_2008_left is: 1343\n",
            "Length of Germany_Christlich-Demokratische Union/Christlich-Soziale Union_2021_left is: 936\n",
            "Length of Germany_Freie Demokratische Partei_2013_right is: 939\n",
            "Length of Italy_Vallée d'Aoste - Autonomie Prògres Fédéralisme_2013_neutral is: 8\n",
            "Length of France_Alliance Centriste_2012_left is: 36\n",
            "Length of France_Nouveau Centre_2012_right is: 108\n",
            "Length of Italy_Lista di Pietro - Italia del Valori_2001_left is: 485\n",
            "Length of Germany_Sozialdemokratische Partei Deutschlands_2009_left is: 881\n",
            "Length of United Kingdom_Democratic Unionist Party_2017_left is: 75\n",
            "Length of United States_Democratic Party_2020_left is: 1249\n",
            "Length of United Kingdom_Labour Party_2001_left is: 460\n",
            "Length of Spain_Partido Nacionalista Vasco/Euzko Alderdi Jeltzalea_2008_neutral is: 465\n",
            "Length of Spain_Eusko Alkartasuna_2008_right is: 130\n",
            "Length of France_Parti Radical de Gauche_2012_right is: 59\n",
            "Length of Italy_Il Popolo della Libertà_2008_right is: 96\n",
            "Length of Spain_En marea_2015_left is: 165\n",
            "Length of Germany_Sozialdemokratische Partei Deutschlands_2005_neutral is: 379\n",
            "Length of United Kingdom_Plaid Cymru_2017_neutral is: 144\n",
            "Length of Germany_Partei des Demokratischen Sozialismus_1998_neutral is: 291\n",
            "Length of Italy_Italia Europa Insieme_2018_neutral is: 166\n",
            "Length of Spain_Amaiur_2011_neutral is: 32\n",
            "Length of United Kingdom_Democratic Unionist Party_2017_right is: 205\n",
            "Length of United Kingdom_Scottish National Party_2019_right is: 152\n",
            "Length of United States_Democratic Party_2016_neutral is: 507\n",
            "Length of United States_Democratic Party_1992_right is: 161\n",
            "Length of Spain_Partido Socialista Obrero Español_2016_left is: 2021\n",
            "Length of Germany_Die Linke_2013_right is: 282\n",
            "Length of Spain_Partido Popular_1996_right is: 723\n",
            "Length of Spain_Partido Nacionalista Vasco/Euzko Alderdi Jeltzalea_2019_left is: 567\n",
            "Length of Italy_MoVimento 5 Stelle_2018_left is: 3594\n",
            "Length of United States_Republican Party_2012_left is: 310\n",
            "Length of Italy_Lista di Pietro - Italia del Valori_2008_right is: 16\n",
            "Length of Italy_Partito della Rifondazione Comunista_2001_neutral is: 797\n",
            "Length of Spain_Unidas Podemos_2016_right is: 27\n",
            "Length of Italy_Rivoluzione Civile_2013_neutral is: 155\n",
            "Length of Italy_Scelta Civica_2013_neutral is: 142\n",
            "Length of Italy_MoVimento 5 Stelle_2013_neutral is: 18\n",
            "Length of Spain_Partido Nacionalista Vasco/Euzko Alderdi Jeltzalea_2008_left is: 263\n",
            "Length of United States_Democratic Party_2012_left is: 543\n",
            "Length of Germany_Die Linke.PDS_2005_left is: 279\n",
            "Length of Spain_Partido Nacionalista Vasco/Euzko Alderdi Jeltzalea_2016_left is: 137\n",
            "Length of Germany_Christlich-Demokratische Union/Christlich-Soziale Union_2013_neutral is: 970\n",
            "Length of Spain_Euskal Herria Bildu_2019_left is: 47\n",
            "Length of Italy_Liberi e Uguali_2018_neutral is: 110\n",
            "Length of United Kingdom_Liberal Democrats_2017_neutral is: 394\n",
            "Length of Italy_Sinistra Ecologia Libertà_2013_neutral is: 222\n",
            "Length of Italy_MoVimento 5 Stelle_2013_left is: 128\n",
            "Length of Spain_En marea_2016_left is: 170\n",
            "Length of United Kingdom_Sinn Féin_2015_right is: 45\n",
            "Length of United States_Democratic Party_2004_left is: 339\n",
            "Length of Spain_Coalición Canaria - Nueva Canarias_2019_left is: 449\n",
            "Length of Spain_Esquerra Republicana de Catalunya_2016_right is: 78\n",
            "Length of Germany_Freie Demokratische Partei_2017_neutral is: 658\n",
            "Length of Germany_Die Linke_2017_neutral is: 1458\n",
            "Length of France_Parti Radical de Gauche_2012_left is: 234\n",
            "Length of United Kingdom_Sinn Féin_2019_right is: 10\n",
            "Length of Spain_Unidas Podemos_2016_left is: 213\n",
            "Length of Italy_Coalizione Südtiroler Volkspartei e Partito Autonomista Trentino Tirolese_2018_neutral is: 15\n",
            "Length of Spain_Partido Socialista Obrero Español_2015_left is: 1894\n",
            "Length of Spain_Convergència i Unió_2008_neutral is: 170\n",
            "Length of Italy_Partito Democratico_2018_right is: 242\n",
            "Length of Italy_Unione di Centro_2013_left is: 113\n",
            "Length of Spain_Convergència Democràtica de Catalunya_2016_right is: 272\n",
            "Length of United States_Democratic Party_2020_right is: 557\n",
            "Length of United Kingdom_Democratic Unionist Party_2015_left is: 40\n",
            "Length of United States_Republican Party_2008_right is: 420\n",
            "Length of Germany_Südschleswigscher Wählerverband - Sydslesvigsk Vælgerforening_2021_left is: 652\n",
            "Length of Italy_Casa delle Libertà_2001_right is: 185\n",
            "Length of Italy_Coalizione Südtiroler Volkspartei e Partito Autonomista Trentino Tirolese_2018_right is: 1\n",
            "Length of Germany_Partei des Demokratischen Sozialismus_2002_neutral is: 295\n",
            "Length of United States_Republican Party_2016_left is: 408\n",
            "Length of Germany_Die Linke_2009_neutral is: 746\n",
            "Length of Italy_Liberi e Uguali_2018_right is: 42\n",
            "Length of Germany_Alternative für Deutschland_2017_left is: 246\n",
            "Length of United Kingdom_Liberal Democrats_2019_right is: 261\n",
            "Length of Spain_Partido Popular_2019_right is: 535\n",
            "Length of United Kingdom_United Kingdom Independence Party_2017_right is: 341\n",
            "Length of Spain_Izquierda Unida_2000_left is: 3058\n",
            "Length of Italy_Italia Europa Insieme_2018_left is: 196\n",
            "Length of United Kingdom_Sinn Féin_2017_neutral is: 91\n",
            "Length of Spain_Izquierda Unida_2019_left is: 4212\n",
            "Length of United Kingdom_Green Party of England and Wales_2019_right is: 165\n",
            "Length of France_Mouvement Démocrate_2017_neutral is: 147\n",
            "Length of Italy_Fratelli d'Italia_2018_neutral is: 57\n",
            "Length of Spain_Unión del Pueblo Navarro_2004_left is: 11\n",
            "Length of Germany_Sozialdemokratische Partei Deutschlands_2002_left is: 437\n",
            "Length of Spain_Coalición Canaria - Nueva Canarias_2015_neutral is: 367\n",
            "Length of Spain_Esquerra Republicana de Catalunya_2016_left is: 270\n",
            "Length of Spain_Euskal Herria Bildu_2019_right is: 13\n",
            "Length of United Kingdom_Ulster Unionist Party_2015_right is: 136\n",
            "Length of United Kingdom_Labour Party_2017_neutral is: 428\n",
            "Length of United Kingdom_Sinn Féin_2019_left is: 41\n",
            "Length of Spain_Convergència i Unió_2011_right is: 238\n",
            "Length of Spain_Partido Regionalista de Cantabria_2019_right is: 22\n",
            "Length of Spain_Esquerra Republicana de Catalunya_2019_left is: 1628\n",
            "Length of United Kingdom_Sinn Féin_2017_right is: 40\n",
            "Length of Spain_Bloque Nacionalista Galego_2000_left is: 214\n",
            "Length of France_Renaissance_2017_right is: 91\n",
            "Length of United Kingdom_Social Democratic and Labour Party_2019_right is: 72\n",
            "Length of Germany_Freie Demokratische Partei_2021_left is: 777\n",
            "Length of France_Alliance Centriste_2012_right is: 22\n",
            "Length of Italy_Partito della Rifondazione Comunista_2001_left is: 1030\n",
            "Length of Spain_Chunta Aragonesista_2008_neutral is: 473\n",
            "Length of Spain_Izquierda Unida_2000_neutral is: 2784\n",
            "Length of Italy_Südtiroler Volkspartei_2013_neutral is: 220\n",
            "Length of United Kingdom_Green Party of England and Wales_2017_right is: 29\n",
            "Length of United Kingdom_Scottish National Party_1997_right is: 173\n",
            "Length of United Kingdom_Liberal Democrats_1997_neutral is: 322\n",
            "Length of Italy_Centro Democratico_2013_left is: 77\n",
            "Length of Germany_Christlich-Demokratische Union/Christlich-Soziale Union_1998_left is: 99\n",
            "Length of Italy_Lega_2008_neutral is: 114\n",
            "Length of Spain_Geroa Bai_2011_right is: 95\n",
            "Length of Germany_Sozialdemokratische Partei Deutschlands_2021_right is: 282\n",
            "Length of Spain_Partido Andalucista_2004_right is: 255\n",
            "Length of United Kingdom_Conservative Party_2015_neutral is: 464\n",
            "Length of Germany_Bündnis‘90/Die Grünen_2002_neutral is: 636\n",
            "Length of United Kingdom_Social Democratic and Labour Party_2015_right is: 57\n",
            "Length of Spain_Podemos_2016_neutral is: 765\n",
            "Length of United Kingdom_Democratic Unionist Party_2017_neutral is: 153\n",
            "Length of Spain_Bloque Nacionalista Galego_2011_neutral is: 246\n",
            "Length of Germany_Freie Demokratische Partei_1998_left is: 356\n",
            "Length of Germany_Freie Demokratische Partei_2017_left is: 689\n",
            "Length of Spain_Vox_2019_left is: 83\n",
            "Length of France_Nouveau Centre_2012_left is: 289\n",
            "Length of Italy_Partito Democratico_2013_left is: 68\n",
            "Length of Spain_¡Teruel Existe!_2019_neutral is: 30\n",
            "Length of Spain_Izquierda Unida_2008_left is: 751\n",
            "Length of Spain_Partido Socialista Obrero Español_2016_right is: 722\n",
            "Length of United Kingdom_Labour Party_2019_neutral is: 549\n",
            "Length of Italy_Forza Italia_2018_neutral is: 43\n",
            "Length of Italy_Lista Lavoro e Libertà_2013_right is: 78\n",
            "Length of Spain_Coalición Canaria - Nueva Canarias_2008_right is: 159\n",
            "Length of United Kingdom_Green Party of England and Wales_2017_neutral is: 49\n",
            "Length of Spain_Eusko Alkartasuna_2008_left is: 252\n",
            "Length of Spain_Partido Socialista Obrero Español_2019_right is: 357\n",
            "Length of Spain_Bloque Nacionalista Galego_2019_neutral is: 272\n",
            "Length of Germany_Die Linke_2013_left is: 1315\n",
            "Length of Germany_Christlich-Demokratische Union/Christlich-Soziale Union_2017_neutral is: 450\n",
            "Length of Spain_Esquerra Republicana de Catalunya_2019_right is: 397\n",
            "Length of Germany_Freie Demokratische Partei_2005_neutral is: 615\n",
            "Length of Spain_En marea_2016_right is: 16\n",
            "Length of France_Union pour un Mouvement Populaire_2017_neutral is: 85\n",
            "Length of United Kingdom_Ulster Unionist Party_2015_neutral is: 139\n",
            "Length of United Kingdom_Plaid Cymru_2017_left is: 137\n",
            "Length of Spain_Foro Asturias_2011_left is: 493\n",
            "Length of Spain_Esquerra Republicana de Catalunya_2011_right is: 200\n",
            "Length of Germany_Alternative für Deutschland_2017_neutral is: 336\n",
            "Length of Spain_Partido Popular_1996_left is: 514\n",
            "Length of Spain_Democràcia i Libertat_2015_right is: 236\n",
            "Length of United Kingdom_Alliance Party of Northern Ireland_2019_neutral is: 222\n",
            "Length of Spain_En Comú Podem_2016_right is: 200\n",
            "Length of United Kingdom_Democratic Unionist Party_2019_right is: 173\n",
            "Length of Germany_Sozialdemokratische Partei Deutschlands_2017_neutral is: 897\n",
            "Length of United Kingdom_Green Party of England and Wales_2019_neutral is: 296\n",
            "Length of Spain_Democràcia i Libertat_2015_neutral is: 1043\n",
            "Length of Spain_A la valencia_2015_right is: 124\n",
            "Length of Spain_Coalición Canaria - Nueva Canarias_2008_left is: 280\n",
            "Length of United Kingdom_Green Party of England and Wales_2015_right is: 181\n",
            "Length of Germany_Bündnis‘90/Die Grünen_1998_left is: 949\n",
            "Length of Germany_Christlich-Demokratische Union/Christlich-Soziale Union_2021_neutral is: 993\n",
            "Length of United Kingdom_Liberal Democrats_2015_neutral is: 612\n",
            "Length of Spain_Partido Popular_2015_neutral is: 966\n",
            "Length of Germany_Christlich-Demokratische Union/Christlich-Soziale Union_1998_right is: 266\n",
            "Length of Germany_Bündnis‘90/Die Grünen_2017_neutral is: 1307\n",
            "Length of Germany_Sozialdemokratische Partei Deutschlands_1998_neutral is: 351\n",
            "Length of Germany_Christlich-Demokratische Union/Christlich-Soziale Union_2002_neutral is: 487\n",
            "Length of Spain_Partido Nacionalista Vasco/Euzko Alderdi Jeltzalea_2019_neutral is: 585\n",
            "Length of United Kingdom_Democratic Unionist Party_2015_right is: 103\n",
            "Length of Germany_Alternative für Deutschland_2013_left is: 22\n",
            "Length of United Kingdom_Social Democratic and Labour Party_2015_neutral is: 193\n",
            "Length of Germany_Sozialdemokratische Partei Deutschlands_2013_right is: 545\n",
            "Length of Italy_Il Popolo della Libertà_2013_left is: 64\n",
            "Length of Spain_Coalición Canaria - Nueva Canarias_1996_neutral is: 1175\n",
            "Length of Spain_Chunta Aragonesista_2004_left is: 349\n",
            "Length of Spain_Partido Nacionalista Vasco/Euzko Alderdi Jeltzalea_2016_neutral is: 192\n",
            "Length of Spain_Partido Regionalista de Cantabria_2019_neutral is: 71\n",
            "Length of United States_Democratic Party_2004_right is: 369\n",
            "Length of United Kingdom_United Kingdom Independence Party_2015_neutral is: 443\n",
            "Length of Italy_MoVimento 5 Stelle_2018_right is: 898\n",
            "Length of Spain_Coalición Canaria - Nueva Canarias_1996_right is: 201\n",
            "Length of France_Europe Écologie Les Verts_2017_neutral is: 59\n",
            "Length of Germany_Bündnis‘90/Die Grünen_2005_right is: 342\n",
            "Length of Italy_Rivoluzione Civile_2013_left is: 197\n",
            "Length of United Kingdom_Ulster Unionist Party_2015_left is: 142\n",
            "Length of United Kingdom_Liberal Democrats_2019_neutral is: 451\n",
            "Length of Italy_Lista Lavoro e Libertà_2013_neutral is: 85\n",
            "Length of Spain_Partido Nacionalista Vasco/Euzko Alderdi Jeltzalea_2000_left is: 552\n",
            "Length of Germany_Freie Demokratische Partei_1998_neutral is: 651\n",
            "Length of Spain_Más País-Equo_2019_neutral is: 374\n",
            "Length of Italy_Lista di Pietro - Italia del Valori_2008_left is: 17\n",
            "Length of United Kingdom_Liberal Democrats_2019_left is: 755\n",
            "Length of France_Front National_2017_left is: 88\n",
            "Length of France_Parti Socialiste_2017_neutral is: 26\n",
            "Length of Italy_Noi con l'Italia_2018_left is: 45\n",
            "Length of Italy_Scelta Civica_2013_right is: 100\n",
            "Length of Spain_Partido Popular_2011_left is: 578\n",
            "Length of Italy_Lega_2013_neutral is: 85\n",
            "Length of Spain_Compromís-Q_2011_left is: 545\n",
            "Length of Spain_Coalición Canaria - Nueva Canarias_2016_left is: 173\n",
            "Length of Italy_Vallée d'Aoste - Autonomie Prògres Fédéralisme_2013_left is: 3\n",
            "Length of United Kingdom_Green Party of England and Wales_2015_neutral is: 595\n",
            "Length of Germany_Freie Demokratische Partei_2013_neutral is: 948\n",
            "Length of Italy_MoVimento 5 Stelle_2018_neutral is: 2003\n",
            "Length of Spain_Compromís-Q_2011_neutral is: 452\n",
            "Length of United States_Democratic Party_2020_neutral is: 781\n",
            "Length of Spain_Més Compromís_2019_left is: 1117\n",
            "Length of United Kingdom_Scottish National Party_2017_neutral is: 294\n",
            "Length of Spain_Unión del Pueblo Navarro_2004_right is: 24\n",
            "Length of Spain_Euskal Herria Bildu_2015_neutral is: 51\n",
            "Length of Italy_Scelta Civica_2013_left is: 94\n",
            "Length of Spain_Partido Nacionalista Vasco/Euzko Alderdi Jeltzalea_2019_right is: 288\n",
            "Length of Spain_En Comú Podem_2016_left is: 1358\n",
            "Length of Spain_Esquerra Republicana de Catalunya_2011_left is: 855\n",
            "Length of United Kingdom_Democratic Unionist Party_2019_left is: 149\n",
            "Length of France_Mouvement Démocrate_2017_right is: 101\n",
            "Length of Germany_Bündnis‘90/Die Grünen_2005_neutral is: 801\n",
            "Length of United States_Democratic Party_2004_neutral is: 172\n",
            "Length of Spain_Vox_2019_right is: 234\n",
            "Length of Italy_Democrazia Europea_2001_left is: 56\n",
            "Length of Spain_Esquerra Republicana de Catalunya_2015_right is: 52\n",
            "Length of Spain_Coalición Canaria - Nueva Canarias_2004_neutral is: 586\n",
            "Length of Germany_Bündnis‘90/Die Grünen_2017_left is: 1980\n",
            "Length of United Kingdom_Liberal Democrats_2017_right is: 207\n",
            "Length of Germany_Sozialdemokratische Partei Deutschlands_1998_left is: 321\n",
            "Length of France_Union pour un Mouvement Populaire_2012_neutral is: 146\n",
            "Length of Spain_A la valencia_2016_right is: 124\n",
            "Length of France_Europe Écologie Les Verts_2012_neutral is: 353\n",
            "Length of Spain_Foro Asturias_2011_right is: 174\n",
            "Length of United Kingdom_Democratic Unionist Party_2015_neutral is: 84\n",
            "Length of United Kingdom_Conservative Party_2017_right is: 453\n",
            "Length of Italy_Democrazia Europea_2001_neutral is: 64\n",
            "Length of Spain_Podemos_2019_neutral is: 741\n",
            "Length of Spain_Coalición Canaria - Nueva Canarias_2015_right is: 85\n",
            "Length of United Kingdom_Labour Party_2015_left is: 483\n",
            "Length of United Kingdom_Plaid Cymru_2019_right is: 168\n",
            "Length of Italy_Casa delle Libertà_2001_neutral is: 368\n",
            "Length of Spain_Euskal Herria Bildu_2016_right is: 42\n",
            "Length of France_Front National_2012_right is: 113\n",
            "Length of Italy_Centro Democratico_2013_right is: 181\n",
            "Length of Spain_Coalición Canaria - Nueva Canarias_2011_left is: 227\n",
            "Length of Spain_Ciudadanos - Partido de la Ciudadania_2015_neutral is: 2405\n",
            "Length of Spain_Unidas Podemos_2016_neutral is: 102\n",
            "Length of Germany_Bündnis‘90/Die Grünen_2009_neutral is: 1502\n",
            "Length of United Kingdom_Scottish National Party_2001_left is: 282\n",
            "Length of Spain_Ciudadanos - Partido de la Ciudadania_2019_left is: 555\n",
            "Length of Spain_Partido Socialista Obrero Español_2016_neutral is: 2008\n",
            "Length of Germany_Partei des Demokratischen Sozialismus_2002_right is: 173\n",
            "Length of France_Mouvement Démocrate_2012_neutral is: 115\n",
            "Length of Spain_Esquerra Republicana de Catalunya_2008_right is: 167\n",
            "Length of France_Mouvement Démocrate_2012_left is: 203\n",
            "Length of Germany_Piraten_2013_right is: 406\n",
            "Length of Spain_Partido Socialista Obrero Español_2011_left is: 937\n",
            "Length of Spain_Partido Nacionalista Vasco/Euzko Alderdi Jeltzalea_2011_neutral is: 178\n",
            "Length of Spain_Chunta Aragonesista_2008_right is: 77\n",
            "Length of Germany_Bündnis‘90/Die Grünen_2009_right is: 584\n",
            "Length of Spain_Partido Popular_2015_left is: 715\n",
            "Length of Germany_Piraten_2013_left is: 765\n",
            "Length of Italy_Più Europa_2018_left is: 116\n",
            "Length of Spain_Bloque Nacionalista Galego_2011_left is: 188\n",
            "Length of Germany_Piraten_2013_neutral is: 584\n",
            "Length of Spain_Partido Popular_2015_right is: 676\n",
            "Length of Spain_Partido Popular_2000_left is: 748\n",
            "Length of United Kingdom_Alliance Party of Northern Ireland_2019_right is: 131\n",
            "Length of Germany_Christlich-Demokratische Union/Christlich-Soziale Union_1998_neutral is: 182\n",
            "Length of Germany_Bündnis‘90/Die Grünen_2002_left is: 728\n",
            "Length of United Kingdom_Scottish National Party_2015_left is: 401\n",
            "Length of Germany_Christlich-Demokratische Union/Christlich-Soziale Union_2021_right is: 846\n",
            "Length of Spain_A la valencia_2015_left is: 1089\n",
            "Length of United Kingdom_Plaid Cymru_2015_neutral is: 363\n",
            "Length of United Kingdom_Scottish National Party_1997_neutral is: 253\n",
            "Length of Spain_Coalición Canaria - Nueva Canarias_2000_right is: 98\n",
            "Length of Spain_Podemos_2016_right is: 118\n",
            "Length of Germany_Sozialdemokratische Partei Deutschlands_2013_neutral is: 978\n",
            "Length of Germany_Sozialdemokratische Partei Deutschlands_2005_right is: 237\n",
            "Length of France_Union pour un Mouvement Populaire_2012_right is: 172\n",
            "Length of United Kingdom_United Kingdom Independence Party_2017_neutral is: 376\n",
            "Length of Germany_Sozialdemokratische Partei Deutschlands_2002_neutral is: 683\n",
            "Length of Italy_Democrazia Europea_2001_right is: 38\n",
            "Length of Germany_Sozialdemokratische Partei Deutschlands_2005_left is: 264\n",
            "Length of Spain_Podemos_2015_left is: 849\n",
            "Length of United Kingdom_Scottish National Party_2001_right is: 146\n",
            "Length of Spain_Junts per Catalunya_2019_right is: 476\n",
            "Length of Spain_En Comú Podem_2015_right is: 200\n",
            "Length of Spain_Esquerra Republicana de Catalunya_2008_neutral is: 1272\n",
            "Length of Germany_Freie Demokratische Partei_2021_neutral is: 767\n",
            "Length of Italy_Lista Lavoro e Libertà_2013_left is: 100\n",
            "Length of Italy_Sinistra Ecologia Libertà_2013_right is: 89\n",
            "Length of Italy_Più Europa_2018_neutral is: 218\n",
            "Length of Spain_Ciudadanos - Partido de la Ciudadania_2016_neutral is: 345\n",
            "Length of Spain_Izquierda Unida_2019_right is: 600\n",
            "Length of United Kingdom_Scottish National Party_1997_left is: 183\n",
            "Length of Italy_Italia Europa Insieme_2018_right is: 55\n",
            "Length of Spain_Euskal Herria Bildu_2016_neutral is: 46\n",
            "Length of United Kingdom_Scottish National Party_2015_right is: 150\n",
            "Length of Italy_Sinistra Ecologia Libertà_2013_left is: 285\n",
            "Length of France_Europe Écologie Les Verts_2017_right is: 43\n",
            "Length of Spain_En Comú Podem_2016_neutral is: 698\n",
            "Length of Spain_Ciudadanos - Partido de la Ciudadania_2019_right is: 290\n",
            "Length of Spain_Partido Popular_2016_right is: 676\n",
            "Length of Spain_Partido Popular_2016_neutral is: 966\n",
            "Length of France_Renaissance_2017_left is: 110\n",
            "Length of Spain_Unión, Progreso y Democracia_2011_left is: 259\n",
            "Length of Italy_Partito Democratico_2013_neutral is: 89\n",
            "Length of Spain_Vox_2019_neutral is: 139\n",
            "Length of Spain_Partido Socialista Obrero Español_2000_right is: 206\n",
            "Length of Spain_Esquerra Republicana de Catalunya_2011_neutral is: 1407\n",
            "Length of Spain_Chunta Aragonesista_2004_right is: 64\n",
            "Length of Germany_Christlich-Demokratische Union/Christlich-Soziale Union_2002_left is: 284\n",
            "Length of Spain_Izquierda Unida_2011_left is: 802\n",
            "Length of Italy_Il Popolo della Libertà_2008_left is: 63\n",
            "Length of United States_Republican Party_2004_neutral is: 503\n",
            "Length of Germany_Sozialdemokratische Partei Deutschlands_2009_neutral is: 929\n",
            "Length of France_La France insoumise_2017_left is: 583\n",
            "Length of Spain_Euskal Herria Bildu_2016_left is: 28\n",
            "Length of United Kingdom_Green Party of England and Wales_2015_left is: 1437\n",
            "Length of Spain_Euskal Herria Bildu_2015_left is: 32\n",
            "Length of Germany_Alternative für Deutschland_2013_neutral is: 31\n",
            "Length of Italy_Più Europa_2018_right is: 91\n",
            "Length of United Kingdom_Labour Party_2019_left is: 928\n",
            "Length of Germany_Freie Demokratische Partei_2005_left is: 282\n",
            "Length of Spain_Unidad Popular_2015_right is: 102\n",
            "Length of Germany_Die Linke.PDS_2005_right is: 60\n",
            "Length of France_Parti Radical de Gauche_2017_left is: 191\n",
            "Length of Spain_Partido Socialista Obrero Español_2000_neutral is: 557\n",
            "Length of Spain_Ciudadanos - Partido de la Ciudadania_2015_left is: 1879\n",
            "Length of Spain_Izquierda Unida_2019_neutral is: 2502\n",
            "Length of Italy_Fratelli d'Italia_2018_left is: 60\n",
            "Length of Germany_Die Linke_2017_left is: 2179\n",
            "Length of France_Parti Communiste Français_2017_neutral is: 7\n",
            "Length of Spain_Bloque Nacionalista Galego_2008_left is: 287\n",
            "Length of Germany_Partei des Demokratischen Sozialismus_1998_left is: 454\n",
            "Length of Spain_Coalición Canaria - Nueva Canarias_2019_neutral is: 552\n",
            "Length of Spain_Podemos_2015_neutral is: 765\n",
            "Length of Spain_Coalición Canaria - Nueva Canarias_2019_right is: 137\n",
            "Length of Spain_Cadidatura d'Unitat Popular_2019_left is: 42\n",
            "Length of Germany_Christlich-Demokratische Union/Christlich-Soziale Union_2017_left is: 453\n",
            "Length of Spain_Geroa Bai_2011_neutral is: 271\n",
            "Length of Spain_Partido Socialista Obrero Español_2019_neutral is: 1089\n",
            "Length of France_La France insoumise_2017_neutral is: 276\n",
            "Length of Italy_Partito Democratico_2018_left is: 412\n",
            "Length of Spain_Junts per Catalunya_2019_neutral is: 1648\n",
            "Length of France_Front de Gauche_2012_right is: 34\n",
            "Length of United Kingdom_Plaid Cymru_2015_left is: 328\n",
            "Length of United States_Republican Party_2004_left is: 424\n",
            "Length of United Kingdom_Social Democratic and Labour Party_2019_neutral is: 163\n",
            "Length of Germany_Die Linke.PDS_2005_neutral is: 233\n",
            "Length of France_Front National_2012_left is: 96\n",
            "Length of Spain_Partido Popular_2016_left is: 715\n",
            "Length of Spain_Izquierda Unida_2011_right is: 103\n",
            "Length of Italy_Liberi e Uguali_2018_left is: 134\n",
            "Length of Italy_Lega_2008_right is: 56\n",
            "Length of United Kingdom_Plaid Cymru_2015_right is: 77\n",
            "Length of United Kingdom_Sinn Féin_2015_neutral is: 163\n",
            "Length of France_Parti Socialiste_2012_right is: 36\n",
            "Length of Spain_En marea_2016_neutral is: 110\n",
            "Length of Spain_Convergència i Unió_2011_neutral is: 852\n",
            "Length of Germany_Freie Demokratische Partei_2009_neutral is: 951\n",
            "Length of Spain_Coalición Canaria - Nueva Canarias_2000_left is: 205\n",
            "Length of France_Mouvement Démocrate_2012_right is: 95\n",
            "Length of Germany_Bündnis‘90/Die Grünen_2021_neutral is: 1294\n",
            "Length of France_Parti Radical_2012_right is: 50\n",
            "Length of United Kingdom_Liberal Democrats_2015_right is: 381\n",
            "Length of United Kingdom_Scottish National Party_2015_neutral is: 341\n",
            "Length of United States_Republican Party_2012_right is: 813\n",
            "Length of France_Front National_2017_neutral is: 70\n",
            "Length of Spain_Bloque Nacionalista Galego_2004_right is: 162\n",
            "Length of Germany_Freie Demokratische Partei_2002_left is: 523\n",
            "Length of Spain_En Comú Podem_2015_neutral is: 698\n",
            "Length of United States_Republican Party_2008_left is: 185\n",
            "Length of United Kingdom_Plaid Cymru_2017_right is: 55\n",
            "Length of Germany_Sozialdemokratische Partei Deutschlands_2021_left is: 834\n",
            "Length of Germany_Christlich-Demokratische Union/Christlich-Soziale Union_2013_right is: 736\n",
            "Length of Spain_Partido Popular_1996_neutral is: 1415\n",
            "Length of Spain_Partido Nacionalista Vasco/Euzko Alderdi Jeltzalea_2000_neutral is: 1249\n",
            "Length of Spain_Partido Socialista Obrero Español_2015_right is: 646\n",
            "Length of Germany_Partei des Demokratischen Sozialismus_2002_left is: 372\n",
            "Length of Germany_Freie Demokratische Partei_2017_right is: 706\n",
            "Length of Italy_Unione di Centro_2013_right is: 246\n",
            "Length of Italy_Lega_2018_right is: 334\n",
            "Length of France_Mouvement Démocrate_2017_left is: 204\n",
            "Length of Spain_Podemos_2015_right is: 118\n",
            "Length of United Kingdom_Green Party of England and Wales_2017_left is: 131\n",
            "Length of United States_Republican Party_2016_right is: 1190\n",
            "Length of Spain_Euskal Herria Bildu_2015_right is: 30\n",
            "Length of France_Parti Radical de Gauche_2017_neutral is: 213\n",
            "Length of Germany_Bündnis‘90/Die Grünen_2005_left is: 717\n",
            "Length of Spain_Partido Popular_2008_right is: 894\n",
            "Length of Germany_Sozialdemokratische Partei Deutschlands_2017_right is: 536\n",
            "Length of United Kingdom_Green Party of England and Wales_2019_left is: 737\n",
            "Length of France_Front National_2017_right is: 81\n",
            "Length of France_Parti Radical de Gauche_2012_neutral is: 165\n",
            "Length of France_Europe Écologie Les Verts_2017_left is: 118\n",
            "Length of Spain_Convergència i Unió_2011_left is: 489\n",
            "Length of Spain_Unión, Progreso y Democracia_2011_neutral is: 275\n",
            "Length of Spain_Amaiur_2011_left is: 19\n",
            "Length of Italy_Fratelli d'Italia_2013_left is: 136\n",
            "Length of Italy_Lega_2018_neutral is: 570\n",
            "Length of Spain_Amaiur_2011_right is: 7\n",
            "Length of United Kingdom_United Kingdom Independence Party_2015_right is: 372\n",
            "Length of Germany_Bündnis‘90/Die Grünen_2009_left is: 1492\n",
            "Length of Italy_Il Popolo della Libertà_2013_right is: 61\n",
            "Length of United States_Democratic Party_1992_neutral is: 107\n",
            "Length of France_Alliance Centriste_2012_neutral is: 14\n",
            "Length of France_Parti Socialiste_2012_neutral is: 66\n",
            "Length of Spain_Bloque Nacionalista Galego_2004_left is: 370\n",
            "Length of Germany_Alternative für Deutschland_2017_right is: 421\n",
            "Length of Germany_Freie Demokratische Partei_2009_right is: 633\n",
            "Length of United Kingdom_Labour Party_2001_right is: 431\n",
            "Length of United Kingdom_Conservative Party_2015_left is: 597\n",
            "Length of United Kingdom_Plaid Cymru_2019_left is: 396\n",
            "Length of Spain_Partido Nacionalista Vasco/Euzko Alderdi Jeltzalea_2008_right is: 179\n",
            "Length of Germany_Sozialdemokratische Partei Deutschlands_2002_right is: 471\n",
            "Length of Germany_Die Linke_2013_neutral is: 856\n",
            "Length of France_Union des démocrates et indépendants_2017_neutral is: 85\n",
            "Length of France_Front National_2012_neutral is: 88\n",
            "Length of Spain_Convergència Democràtica de Catalunya_2016_left is: 676\n",
            "Length of United Kingdom_Conservative Party_2019_left is: 455\n",
            "Length of Spain_Convergència i Unió_2000_left is: 578\n",
            "Length of Spain_Unidad Popular_2015_neutral is: 609\n",
            "Length of Italy_Unione di Centro_2013_neutral is: 60\n",
            "Length of Spain_Convergència i Unió_2000_right is: 522\n",
            "Length of United Kingdom_Conservative Party_2017_left is: 505\n",
            "Length of Spain_Izquierda Unida_2000_right is: 438\n",
            "Length of Italy_Civica Popolare_2018_right is: 63\n",
            "Length of United Kingdom_Labour Party_2001_neutral is: 512\n",
            "Length of Spain_Partido Andalucista_2004_left is: 665\n",
            "Length of Spain_En marea_2015_neutral is: 109\n",
            "Length of Spain_Partido Nacionalista Vasco/Euzko Alderdi Jeltzalea_2015_left is: 137\n",
            "Length of Germany_Christlich-Demokratische Union/Christlich-Soziale Union_2009_neutral is: 886\n",
            "Length of Spain_Partido Socialista Obrero Español_2000_left is: 494\n",
            "Length of France_La France insoumise_2017_right is: 165\n",
            "Length of Italy_Partito Democratico_2008_neutral is: 81\n",
            "Length of Germany_Partei des Demokratischen Sozialismus_1998_right is: 159\n",
            "Length of Germany_Die Linke_2021_left is: 2730\n",
            "Length of Spain_Coalición Canaria - Nueva Canarias_2004_right is: 107\n",
            "Length of Germany_Bündnis‘90/Die Grünen_2013_neutral is: 1995\n",
            "Length of United Kingdom_Plaid Cymru_2019_neutral is: 386\n",
            "Length of Spain_Ciudadanos - Partido de la Ciudadania_2019_neutral is: 571\n",
            "Length of Spain_Podemos_2019_right is: 268\n",
            "Length of United Kingdom_Sinn Féin_2015_left is: 64\n",
            "Length of Spain_Partido Socialista Obrero Español_2008_left is: 1881\n",
            "Length of Spain_A la valencia_2015_neutral is: 715\n",
            "Length of Spain_Izquierda Unida_2008_neutral is: 1002\n",
            "Length of Italy_Lega_2013_right is: 61\n",
            "Length of Spain_Ciudadanos - Partido de la Ciudadania_2016_right is: 100\n",
            "Length of Spain_Partido Socialista Obrero Español_2008_right is: 564\n",
            "Length of Italy_Forza Italia_2018_left is: 19\n",
            "Length of Spain_Convergència i Unió_2000_neutral is: 1494\n",
            "Length of Spain_Partido Socialista Obrero Español_2015_neutral is: 1878\n",
            "Length of Spain_Partido Socialista Obrero Español_2011_neutral is: 874\n",
            "Length of Spain_Unión del Pueblo Navarro_2004_neutral is: 53\n",
            "Length of Spain_En Comú Podem_2015_left is: 1358\n",
            "Length of France_Union des démocrates et indépendants_2017_left is: 73\n",
            "Length of Italy_Südtiroler Volkspartei_2013_right is: 218\n",
            "Length of Spain_Convergència i Unió_2008_left is: 93\n",
            "Length of Spain_A la valencia_2016_neutral is: 733\n",
            "Length of Italy_Noi con l'Italia_2018_neutral is: 71\n",
            "Length of Spain_Bloque Nacionalista Galego_2004_neutral is: 1245\n",
            "Length of Spain_Coalición Canaria - Nueva Canarias_2016_neutral is: 367\n",
            "Length of Germany_Christlich-Demokratische Union/Christlich-Soziale Union_2017_right is: 437\n",
            "Length of Italy_Il Popolo della Libertà_2013_neutral is: 85\n",
            "Length of Italy_Südtiroler Volkspartei_2013_left is: 194\n",
            "Length of Germany_Bündnis‘90/Die Grünen_2013_left is: 2600\n",
            "Length of Spain_Més Compromís_2019_right is: 164\n",
            "Length of United Kingdom_Scottish National Party_2019_neutral is: 416\n",
            "Length of United Kingdom_Conservative Party_2017_neutral is: 538\n",
            "Length of United States_Republican Party_2020_right is: 1190\n",
            "Length of Italy_Partito Democratico_2008_right is: 41\n",
            "Length of United Kingdom_Scottish National Party_2017_right is: 135\n",
            "Length of United Kingdom_United Kingdom Independence Party_2015_left is: 533\n",
            "Length of Spain_Esquerra Republicana de Catalunya_2015_neutral is: 324\n",
            "Length of Italy_Noi con l'Italia_2018_right is: 62\n",
            "Length of Spain_Partido Popular_2000_right is: 755\n",
            "Length of Italy_Partito Democratico_2013_right is: 47\n",
            "Length of Germany_Die Linke_2009_right is: 205\n",
            "Length of United Kingdom_Labour Party_2017_right is: 243\n",
            "Length of Spain_Unidad Popular_2015_left is: 1119\n",
            "Length of Germany_Christlich-Demokratische Union/Christlich-Soziale Union_2005_neutral is: 329\n",
            "Length of Spain_Partido Popular_2008_neutral is: 1806\n",
            "Length of Italy_Il Popolo della Libertà_2008_neutral is: 93\n",
            "Length of Spain_Geroa Bai_2011_left is: 295\n",
            "Length of Spain_Partido Socialista Obrero Español_2011_right is: 240\n",
            "Length of France_Parti Socialiste_2017_left is: 40\n",
            "Length of Spain_Partido Nacionalista Vasco/Euzko Alderdi Jeltzalea_2016_right is: 112\n",
            "Length of United Kingdom_Liberal Democrats_2015_left is: 899\n",
            "Length of United Kingdom_Social Democratic and Labour Party_2019_left is: 203\n",
            "Length of Germany_Die Linke_2021_neutral is: 1598\n",
            "Length of Spain_Chunta Aragonesista_2004_neutral is: 643\n",
            "Length of United Kingdom_Liberal Democrats_2017_left is: 530\n",
            "Length of United States_Democratic Party_2012_neutral is: 344\n",
            "Length of Germany_Freie Demokratische Partei_2021_right is: 695\n",
            "Length of United Kingdom_Social Democratic and Labour Party_2015_left is: 157\n",
            "Length of United Kingdom_Conservative Party_2015_right is: 527\n",
            "Length of Germany_Christlich-Demokratische Union/Christlich-Soziale Union_2005_left is: 125\n",
            "Length of United Kingdom_Alliance Party of Northern Ireland_2019_left is: 269\n",
            "Length of United States_Democratic Party_2012_right is: 428\n",
            "Length of Spain_Partido Nacionalista Vasco/Euzko Alderdi Jeltzalea_2000_right is: 250\n",
            "Length of United Kingdom_Labour Party_2015_right is: 268\n",
            "Length of Italy_Lista di Pietro - Italia del Valori_2008_neutral is: 10\n",
            "Length of France_Parti Communiste Français_2017_left is: 19\n",
            "Length of Italy_Forza Italia_2018_right is: 34\n",
            "Length of Spain_Bloque Nacionalista Galego_2019_right is: 31\n",
            "Length of Italy_Centro Democratico_2013_neutral is: 133\n",
            "Length of Germany_Bündnis‘90/Die Grünen_1998_neutral is: 777\n",
            "Length of France_Parti Socialiste_2012_left is: 112\n",
            "Length of Spain_Cadidatura d'Unitat Popular_2019_neutral is: 47\n",
            "Length of France_Renaissance_2017_neutral is: 161\n",
            "Length of Germany_Alternative für Deutschland_2013_right is: 19\n",
            "Length of Italy_Lista di Pietro - Italia del Valori_2001_right is: 233\n",
            "Length of Germany_Bündnis‘90/Die Grünen_1998_right is: 373\n",
            "Length of Italy_Civica Popolare_2018_left is: 90\n",
            "Length of Spain_Partido Popular_2011_neutral is: 795\n",
            "Length of Spain_Izquierda Unida_2008_right is: 294\n",
            "Length of France_Union pour un Mouvement Populaire_2017_right is: 99\n",
            "Length of France_Parti Radical_2012_left is: 119\n",
            "Length of France_Europe Écologie Les Verts_2012_right is: 98\n",
            "Length of United Kingdom_Democratic Unionist Party_2019_neutral is: 151\n",
            "Length of Germany_Freie Demokratische Partei_2013_left is: 673\n",
            "Length of Germany_Südschleswigscher Wählerverband - Sydslesvigsk Vælgerforening_2021_neutral is: 540\n",
            "Length of France_Union pour un Mouvement Populaire_2012_left is: 154\n",
            "Length of Italy_Civica Popolare_2018_neutral is: 66\n",
            "Length of Spain_Democràcia i Libertat_2015_left is: 642\n",
            "Length of United Kingdom_Liberal Democrats_1997_left is: 317\n",
            "Length of United States_Republican Party_2020_neutral is: 594\n",
            "Length of Spain_Foro Asturias_2011_neutral is: 661\n",
            "Length of United Kingdom_Labour Party_2019_right is: 225\n",
            "Length of Spain_Partido Nacionalista Vasco/Euzko Alderdi Jeltzalea_2011_left is: 120\n",
            "Length of Spain_Partido Socialista Obrero Español_2019_left is: 1308\n",
            "Length of Spain_Esquerra Republicana de Catalunya_2015_left is: 213\n",
            "Length of United States_Republican Party_2004_right is: 837\n",
            "Length of Spain_Coalición Canaria - Nueva Canarias_2015_left is: 171\n",
            "Length of Spain_Bloque Nacionalista Galego_2008_right is: 95\n",
            "Length of Spain_A la valencia_2016_left is: 1096\n",
            "Length of Italy_Partito Democratico_2008_left is: 65\n",
            "Length of France_Front de Gauche_2012_neutral is: 281\n",
            "Length of Spain_Bloque Nacionalista Galego_2000_right is: 88\n",
            "Length of United Kingdom_Conservative Party_2019_right is: 446\n",
            "Length of Germany_Alternative für Deutschland_2021_left is: 332\n",
            "Length of Spain_Convergència Democràtica de Catalunya_2016_neutral is: 1096\n",
            "Length of Spain_Ciudadanos - Partido de la Ciudadania_2015_right is: 763\n",
            "Length of Spain_Cadidatura d'Unitat Popular_2019_right is: 23\n",
            "Length of United States_Republican Party_2012_neutral is: 455\n",
            "Length of Germany_Südschleswigscher Wählerverband - Sydslesvigsk Vælgerforening_2021_right is: 165\n",
            "Length of Germany_Sozialdemokratische Partei Deutschlands_2013_left is: 1350\n",
            "Length of Germany_Christlich-Demokratische Union/Christlich-Soziale Union_2013_left is: 828\n",
            "Length of Italy_Partito della Rifondazione Comunista_2001_right is: 98\n",
            "Length of France_Nouveau Centre_2012_neutral is: 323\n",
            "Length of Italy_Lega_2018_left is: 402\n",
            "Length of Germany_Freie Demokratische Partei_2002_right is: 571\n",
            "Length of Spain_Podemos_2019_left is: 1458\n",
            "Length of Spain_¡Teruel Existe!_2019_right is: 8\n",
            "Length of United States_Democratic Party_2016_right is: 313\n",
            "Length of Spain_Partido Socialista Obrero Español_2008_neutral is: 2105\n",
            "Length of Spain_Partido Popular_2019_neutral is: 534\n",
            "Length of Germany_Freie Demokratische Partei_2002_neutral is: 877\n",
            "Length of Germany_Bündnis‘90/Die Grünen_2017_right is: 539\n",
            "Length of France_Union des démocrates et indépendants_2017_right is: 99\n",
            "Length of Germany_Sozialdemokratische Partei Deutschlands_2009_right is: 371\n",
            "Length of Germany_Bündnis‘90/Die Grünen_2021_right is: 610\n",
            "Length of Spain_Izquierda Unida_2011_neutral is: 708\n",
            "Length of Spain_Partido Popular_2019_left is: 526\n",
            "Length of Germany_Freie Demokratische Partei_2009_left is: 646\n",
            "Length of Spain_Partido Regionalista de Cantabria_2019_left is: 15\n",
            "Length of Italy_Lega_2013_left is: 64\n",
            "Length of Spain_Más País-Equo_2019_right is: 91\n",
            "Length of Spain_Eusko Alkartasuna_2008_neutral is: 257\n",
            "Length of Spain_Més Compromís_2019_neutral is: 816\n",
            "Length of United Kingdom_Scottish National Party_2019_left is: 503\n",
            "Length of United Kingdom_Conservative Party_2019_neutral is: 320\n",
            "Length of United Kingdom_Scottish National Party_2001_neutral is: 364\n",
            "Length of United Kingdom_Labour Party_2017_left is: 657\n",
            "Length of France_Parti Communiste Français_2017_right is: 10\n",
            "Length of Germany_Sozialdemokratische Partei Deutschlands_1998_right is: 292\n",
            "Length of Germany_Christlich-Demokratische Union/Christlich-Soziale Union_2005_right is: 315\n",
            "Length of Germany_Bündnis‘90/Die Grünen_2021_left is: 2043\n",
            "Length of France_Union pour un Mouvement Populaire_2017_left is: 73\n",
            "Length of Spain_Coalición Canaria - Nueva Canarias_2000_neutral is: 472\n",
            "Length of Spain_Esquerra Republicana de Catalunya_2008_left is: 432\n",
            "Length of United Kingdom_Sinn Féin_2019_neutral is: 76\n",
            "Length of Spain_Partido Popular_2011_right is: 501\n",
            "Length of Spain_Esquerra Republicana de Catalunya_2016_neutral is: 390\n",
            "Length of United States_Republican Party_2020_left is: 408\n",
            "Length of Italy_Lista di Pietro - Italia del Valori_2001_neutral is: 405\n",
            "Length of Spain_Chunta Aragonesista_2008_left is: 328\n",
            "Length of Spain_Partido Nacionalista Vasco/Euzko Alderdi Jeltzalea_2011_right is: 66\n",
            "Length of Spain_Coalición Canaria - Nueva Canarias_2008_neutral is: 746\n",
            "Length of Italy_MoVimento 5 Stelle_2013_right is: 9\n",
            "Length of Spain_Partido Nacionalista Vasco/Euzko Alderdi Jeltzalea_2015_neutral is: 192\n",
            "Length of Germany_Sozialdemokratische Partei Deutschlands_2017_left is: 1198\n",
            "Length of Spain_Unión, Progreso y Democracia_2011_right is: 72\n",
            "Length of Italy_Rivoluzione Civile_2013_right is: 62\n",
            "Length of Spain_¡Teruel Existe!_2019_left is: 17\n",
            "Length of Spain_Bloque Nacionalista Galego_2019_left is: 250\n",
            "Length of Spain_Esquerra Republicana de Catalunya_2019_neutral is: 1677\n",
            "Length of United Kingdom_United Kingdom Independence Party_2017_left is: 359\n",
            "Length of Spain_Partido Andalucista_2004_neutral is: 2006\n",
            "Length of Spain_Bloque Nacionalista Galego_2011_right is: 21\n",
            "Length of France_Parti Radical_2012_neutral is: 117\n",
            "Length of Spain_Podemos_2016_left is: 849\n",
            "Length of United Kingdom_Scottish National Party_2017_left is: 357\n",
            "Length of Italy_Partito Democratico_2018_neutral is: 611\n",
            "Length of United Kingdom_Sinn Féin_2017_left is: 62\n",
            "Length of United States_Republican Party_2016_neutral is: 594\n",
            "Length of Germany_Die Linke_2021_right is: 522\n",
            "Length of Italy_Fratelli d'Italia_2013_right is: 180\n",
            "Length of Spain_Convergència i Unió_2008_right is: 60\n",
            "Length of Germany_Christlich-Demokratische Union/Christlich-Soziale Union_2009_right is: 582\n",
            "Length of Italy_Casa delle Libertà_2001_left is: 70\n",
            "Length of Germany_Die Linke_2017_right is: 289\n",
            "Length of United States_Democratic Party_1992_left is: 115\n",
            "Length of France_Parti Socialiste_2017_right is: 10\n",
            "Length of France_Front de Gauche_2012_left is: 432\n",
            "Length of Italy_Lega_2008_left is: 66\n",
            "Length of Germany_Alternative für Deutschland_2021_neutral is: 523\n",
            "Length of Germany_Freie Demokratische Partei_2005_right is: 501\n",
            "Length of Spain_Coalición Canaria - Nueva Canarias_1996_left is: 350\n",
            "Length of Spain_Compromís-Q_2011_right is: 100\n",
            "Length of Germany_Alternative für Deutschland_2021_right is: 719\n",
            "Length of France_Parti Radical de Gauche_2017_right is: 133\n",
            "Length of United States_Republican Party_2008_neutral is: 397\n",
            "Length of Spain_Euskal Herria Bildu_2019_neutral is: 46\n",
            "Length of United States_Democratic Party_2016_left is: 667\n",
            "Length of France_Europe Écologie Les Verts_2012_left is: 679\n"
          ]
        }
      ],
      "source": [
        "results = group_texts(manifesto, 'country_party_election_sentiment','text', group_factor = 3)"
      ]
    },
    {
      "cell_type": "code",
      "execution_count": 23,
      "metadata": {},
      "outputs": [],
      "source": [
        "manifesto_regrouped = pd.DataFrame(results)\n",
        "manifesto_regrouped = manifesto_regrouped.explode('text').reset_index(drop=True)"
      ]
    },
    {
      "cell_type": "code",
      "execution_count": 24,
      "metadata": {},
      "outputs": [],
      "source": [
        "df_cols = manifesto_regrouped['labels'].str.split('_', expand=True)\n",
        "manifesto_regrouped = pd.concat([manifesto_regrouped, df_cols], axis=1)"
      ]
    },
    {
      "cell_type": "code",
      "execution_count": 25,
      "metadata": {},
      "outputs": [],
      "source": [
        "manifesto_regrouped.columns = ['text', 'country_party_election_sentiment', 'country','party', 'election', 'sentiment']"
      ]
    },
    {
      "cell_type": "code",
      "execution_count": 26,
      "metadata": {},
      "outputs": [
        {
          "data": {
            "text/html": [
              "<div>\n",
              "<style scoped>\n",
              "    .dataframe tbody tr th:only-of-type {\n",
              "        vertical-align: middle;\n",
              "    }\n",
              "\n",
              "    .dataframe tbody tr th {\n",
              "        vertical-align: top;\n",
              "    }\n",
              "\n",
              "    .dataframe thead th {\n",
              "        text-align: right;\n",
              "    }\n",
              "</style>\n",
              "<table border=\"1\" class=\"dataframe\">\n",
              "  <thead>\n",
              "    <tr style=\"text-align: right;\">\n",
              "      <th></th>\n",
              "      <th>text</th>\n",
              "      <th>country_party_election_sentiment</th>\n",
              "      <th>country</th>\n",
              "      <th>party</th>\n",
              "      <th>election</th>\n",
              "      <th>sentiment</th>\n",
              "    </tr>\n",
              "  </thead>\n",
              "  <tbody>\n",
              "    <tr>\n",
              "      <th>0</th>\n",
              "      <td>Deutschland braucht ein geistiges Klima des Au...</td>\n",
              "      <td>Germany_Freie Demokratische Partei_1998_right</td>\n",
              "      <td>Germany</td>\n",
              "      <td>Freie Demokratische Partei</td>\n",
              "      <td>1998</td>\n",
              "      <td>right</td>\n",
              "    </tr>\n",
              "    <tr>\n",
              "      <th>1</th>\n",
              "      <td>Die F.D.P appelliert an alle Kräfte, an alle G...</td>\n",
              "      <td>Germany_Freie Demokratische Partei_1998_right</td>\n",
              "      <td>Germany</td>\n",
              "      <td>Freie Demokratische Partei</td>\n",
              "      <td>1998</td>\n",
              "      <td>right</td>\n",
              "    </tr>\n",
              "    <tr>\n",
              "      <th>2</th>\n",
              "      <td>1998 geht es um eine Richtungsentscheidung: Fä...</td>\n",
              "      <td>Germany_Freie Demokratische Partei_1998_right</td>\n",
              "      <td>Germany</td>\n",
              "      <td>Freie Demokratische Partei</td>\n",
              "      <td>1998</td>\n",
              "      <td>right</td>\n",
              "    </tr>\n",
              "    <tr>\n",
              "      <th>3</th>\n",
              "      <td>zu Sozialer Marktwirtschaft anstelle bürokrati...</td>\n",
              "      <td>Germany_Freie Demokratische Partei_1998_right</td>\n",
              "      <td>Germany</td>\n",
              "      <td>Freie Demokratische Partei</td>\n",
              "      <td>1998</td>\n",
              "      <td>right</td>\n",
              "    </tr>\n",
              "    <tr>\n",
              "      <th>4</th>\n",
              "      <td>Mit der Wende zur marktwirtschaftlichen Erneue...</td>\n",
              "      <td>Germany_Freie Demokratische Partei_1998_right</td>\n",
              "      <td>Germany</td>\n",
              "      <td>Freie Demokratische Partei</td>\n",
              "      <td>1998</td>\n",
              "      <td>right</td>\n",
              "    </tr>\n",
              "    <tr>\n",
              "      <th>...</th>\n",
              "      <td>...</td>\n",
              "      <td>...</td>\n",
              "      <td>...</td>\n",
              "      <td>...</td>\n",
              "      <td>...</td>\n",
              "      <td>...</td>\n",
              "    </tr>\n",
              "    <tr>\n",
              "      <th>96260</th>\n",
              "      <td>La France, troisième exportateur d'armes dans ...</td>\n",
              "      <td>France_Europe Écologie Les Verts_2012_left</td>\n",
              "      <td>France</td>\n",
              "      <td>Europe Écologie Les Verts</td>\n",
              "      <td>2012</td>\n",
              "      <td>left</td>\n",
              "    </tr>\n",
              "    <tr>\n",
              "      <th>96261</th>\n",
              "      <td>Une politique internationale et de sécurité de...</td>\n",
              "      <td>France_Europe Écologie Les Verts_2012_left</td>\n",
              "      <td>France</td>\n",
              "      <td>Europe Écologie Les Verts</td>\n",
              "      <td>2012</td>\n",
              "      <td>left</td>\n",
              "    </tr>\n",
              "    <tr>\n",
              "      <th>96262</th>\n",
              "      <td>Cela passe également par la fermeture et le dé...</td>\n",
              "      <td>France_Europe Écologie Les Verts_2012_left</td>\n",
              "      <td>France</td>\n",
              "      <td>Europe Écologie Les Verts</td>\n",
              "      <td>2012</td>\n",
              "      <td>left</td>\n",
              "    </tr>\n",
              "    <tr>\n",
              "      <th>96263</th>\n",
              "      <td>Nous fermerons la base d'Abou Dhabi, qui s'ins...</td>\n",
              "      <td>France_Europe Écologie Les Verts_2012_left</td>\n",
              "      <td>France</td>\n",
              "      <td>Europe Écologie Les Verts</td>\n",
              "      <td>2012</td>\n",
              "      <td>left</td>\n",
              "    </tr>\n",
              "    <tr>\n",
              "      <th>96264</th>\n",
              "      <td>-le nécessaire règlement du conflit israélo-pa...</td>\n",
              "      <td>France_Europe Écologie Les Verts_2012_left</td>\n",
              "      <td>France</td>\n",
              "      <td>Europe Écologie Les Verts</td>\n",
              "      <td>2012</td>\n",
              "      <td>left</td>\n",
              "    </tr>\n",
              "  </tbody>\n",
              "</table>\n",
              "<p>96265 rows × 6 columns</p>\n",
              "</div>"
            ],
            "text/plain": [
              "                                                    text  \\\n",
              "0      Deutschland braucht ein geistiges Klima des Au...   \n",
              "1      Die F.D.P appelliert an alle Kräfte, an alle G...   \n",
              "2      1998 geht es um eine Richtungsentscheidung: Fä...   \n",
              "3      zu Sozialer Marktwirtschaft anstelle bürokrati...   \n",
              "4      Mit der Wende zur marktwirtschaftlichen Erneue...   \n",
              "...                                                  ...   \n",
              "96260  La France, troisième exportateur d'armes dans ...   \n",
              "96261  Une politique internationale et de sécurité de...   \n",
              "96262  Cela passe également par la fermeture et le dé...   \n",
              "96263  Nous fermerons la base d'Abou Dhabi, qui s'ins...   \n",
              "96264  -le nécessaire règlement du conflit israélo-pa...   \n",
              "\n",
              "                    country_party_election_sentiment  country  \\\n",
              "0      Germany_Freie Demokratische Partei_1998_right  Germany   \n",
              "1      Germany_Freie Demokratische Partei_1998_right  Germany   \n",
              "2      Germany_Freie Demokratische Partei_1998_right  Germany   \n",
              "3      Germany_Freie Demokratische Partei_1998_right  Germany   \n",
              "4      Germany_Freie Demokratische Partei_1998_right  Germany   \n",
              "...                                              ...      ...   \n",
              "96260     France_Europe Écologie Les Verts_2012_left   France   \n",
              "96261     France_Europe Écologie Les Verts_2012_left   France   \n",
              "96262     France_Europe Écologie Les Verts_2012_left   France   \n",
              "96263     France_Europe Écologie Les Verts_2012_left   France   \n",
              "96264     France_Europe Écologie Les Verts_2012_left   France   \n",
              "\n",
              "                            party election sentiment  \n",
              "0      Freie Demokratische Partei     1998     right  \n",
              "1      Freie Demokratische Partei     1998     right  \n",
              "2      Freie Demokratische Partei     1998     right  \n",
              "3      Freie Demokratische Partei     1998     right  \n",
              "4      Freie Demokratische Partei     1998     right  \n",
              "...                           ...      ...       ...  \n",
              "96260   Europe Écologie Les Verts     2012      left  \n",
              "96261   Europe Écologie Les Verts     2012      left  \n",
              "96262   Europe Écologie Les Verts     2012      left  \n",
              "96263   Europe Écologie Les Verts     2012      left  \n",
              "96264   Europe Écologie Les Verts     2012      left  \n",
              "\n",
              "[96265 rows x 6 columns]"
            ]
          },
          "execution_count": 26,
          "metadata": {},
          "output_type": "execute_result"
        }
      ],
      "source": [
        "manifesto_regrouped"
      ]
    },
    {
      "attachments": {},
      "cell_type": "markdown",
      "metadata": {},
      "source": [
        "### Classification with xlm-roberta-base"
      ]
    },
    {
      "cell_type": "code",
      "execution_count": 76,
      "metadata": {},
      "outputs": [],
      "source": [
        "model_name = 'xlm-roberta-base'\n",
        "tokenizer = AutoTokenizer.from_pretrained(model_name)\n",
        "data_collator = DataCollatorWithPadding(tokenizer)"
      ]
    },
    {
      "cell_type": "code",
      "execution_count": 77,
      "metadata": {},
      "outputs": [],
      "source": [
        "manifesto_reduced = manifesto_regrouped[['sentiment','text']]"
      ]
    },
    {
      "cell_type": "code",
      "execution_count": 78,
      "metadata": {},
      "outputs": [
        {
          "name": "stderr",
          "output_type": "stream",
          "text": [
            "Parameter 'function'=<function Dataset.class_encode_column.<locals>.cast_to_class_labels at 0x00000241BFDA2E50> of the transform datasets.arrow_dataset.Dataset._map_single couldn't be hashed properly, a random hash was used instead. Make sure your transforms and parameters are serializable with pickle or dill for the dataset fingerprinting and caching to work. If you reuse this transform, the caching mechanism will consider it to be different from the previous calls and recompute everything. This warning is only showed once. Subsequent hashing failures won't be showed.\n"
          ]
        },
        {
          "data": {
            "application/vnd.jupyter.widget-view+json": {
              "model_id": "dc8d0bd89708472690b6441f3696c503",
              "version_major": 2,
              "version_minor": 0
            },
            "text/plain": [
              "Casting to class labels:   0%|          | 0/97 [00:00<?, ?ba/s]"
            ]
          },
          "metadata": {},
          "output_type": "display_data"
        },
        {
          "data": {
            "application/vnd.jupyter.widget-view+json": {
              "model_id": "4a313b8b05154518b592af8d383842bf",
              "version_major": 2,
              "version_minor": 0
            },
            "text/plain": [
              "Casting the dataset:   0%|          | 0/10 [00:00<?, ?ba/s]"
            ]
          },
          "metadata": {},
          "output_type": "display_data"
        }
      ],
      "source": [
        "manifesto_dataset = Dataset.from_pandas(manifesto_reduced)\n",
        "manifesto_dataset = manifesto_dataset.class_encode_column('sentiment')\n",
        "manifesto_dataset = manifesto_dataset.rename_column('sentiment','labels')\n",
        "\n"
      ]
    },
    {
      "cell_type": "code",
      "execution_count": 79,
      "metadata": {},
      "outputs": [],
      "source": [
        "train_test = manifesto_dataset.train_test_split(test_size=0.1, stratify_by_column='labels', seed=seed_val)\n",
        "train_eval = train_test['train'].train_test_split(test_size=0.3, stratify_by_column='labels', seed=seed_val)"
      ]
    },
    {
      "cell_type": "code",
      "execution_count": 80,
      "metadata": {},
      "outputs": [
        {
          "data": {
            "text/plain": [
              "DatasetDict({\n",
              "    train: Dataset({\n",
              "        features: ['labels', 'text'],\n",
              "        num_rows: 60646\n",
              "    })\n",
              "    test: Dataset({\n",
              "        features: ['labels', 'text'],\n",
              "        num_rows: 9627\n",
              "    })\n",
              "    eval: Dataset({\n",
              "        features: ['labels', 'text'],\n",
              "        num_rows: 25992\n",
              "    })\n",
              "})"
            ]
          },
          "execution_count": 80,
          "metadata": {},
          "output_type": "execute_result"
        }
      ],
      "source": [
        "manifesto_datasets = DatasetDict({\n",
        "    'train': train_eval['train'],\n",
        "    'test': train_test['test'],\n",
        "    'eval': train_eval['test']\n",
        "})\n",
        "manifesto_datasets"
      ]
    },
    {
      "cell_type": "code",
      "execution_count": 68,
      "metadata": {},
      "outputs": [],
      "source": [
        "def tokenize_function(dataset):\n",
        "    return tokenizer(dataset['text'], truncation=True)\n"
      ]
    },
    {
      "cell_type": "code",
      "execution_count": 84,
      "metadata": {},
      "outputs": [
        {
          "data": {
            "application/vnd.jupyter.widget-view+json": {
              "model_id": "12138a173cc749e08b49ea0b52beae30",
              "version_major": 2,
              "version_minor": 0
            },
            "text/plain": [
              "  0%|          | 0/61 [00:00<?, ?ba/s]"
            ]
          },
          "metadata": {},
          "output_type": "display_data"
        },
        {
          "data": {
            "application/vnd.jupyter.widget-view+json": {
              "model_id": "59ebc1363fb644deb9280b3aa1eee5ec",
              "version_major": 2,
              "version_minor": 0
            },
            "text/plain": [
              "  0%|          | 0/10 [00:00<?, ?ba/s]"
            ]
          },
          "metadata": {},
          "output_type": "display_data"
        },
        {
          "data": {
            "application/vnd.jupyter.widget-view+json": {
              "model_id": "759bb0f0e0da4adc8e41045bdbda862d",
              "version_major": 2,
              "version_minor": 0
            },
            "text/plain": [
              "  0%|          | 0/26 [00:00<?, ?ba/s]"
            ]
          },
          "metadata": {},
          "output_type": "display_data"
        }
      ],
      "source": [
        "tokenized_datasets = manifesto_datasets.map(tokenize_function, batched=True, remove_columns=['text'])"
      ]
    },
    {
      "cell_type": "code",
      "execution_count": 85,
      "metadata": {},
      "outputs": [
        {
          "data": {
            "text/plain": [
              "['labels', 'input_ids', 'attention_mask']"
            ]
          },
          "execution_count": 85,
          "metadata": {},
          "output_type": "execute_result"
        }
      ],
      "source": [
        "tokenized_datasets.set_format(\"torch\")\n",
        "tokenized_datasets[\"train\"].column_names"
      ]
    },
    {
      "cell_type": "code",
      "execution_count": 86,
      "metadata": {},
      "outputs": [
        {
          "name": "stderr",
          "output_type": "stream",
          "text": [
            "Some weights of the model checkpoint at xlm-roberta-base were not used when initializing XLMRobertaForSequenceClassification: ['lm_head.dense.bias', 'roberta.pooler.dense.weight', 'lm_head.layer_norm.bias', 'lm_head.dense.weight', 'lm_head.layer_norm.weight', 'lm_head.bias', 'roberta.pooler.dense.bias', 'lm_head.decoder.weight']\n",
            "- This IS expected if you are initializing XLMRobertaForSequenceClassification from the checkpoint of a model trained on another task or with another architecture (e.g. initializing a BertForSequenceClassification model from a BertForPreTraining model).\n",
            "- This IS NOT expected if you are initializing XLMRobertaForSequenceClassification from the checkpoint of a model that you expect to be exactly identical (initializing a BertForSequenceClassification model from a BertForSequenceClassification model).\n",
            "Some weights of XLMRobertaForSequenceClassification were not initialized from the model checkpoint at xlm-roberta-base and are newly initialized: ['classifier.out_proj.bias', 'classifier.dense.bias', 'classifier.out_proj.weight', 'classifier.dense.weight']\n",
            "You should probably TRAIN this model on a down-stream task to be able to use it for predictions and inference.\n"
          ]
        }
      ],
      "source": [
        "num_classes = len(set(manifesto['sentiment']))\n",
        "model = XLMRobertaForSequenceClassification.from_pretrained(model_name, num_labels=num_classes).to(device)\n"
      ]
    },
    {
      "cell_type": "code",
      "execution_count": 88,
      "metadata": {},
      "outputs": [],
      "source": [
        "## Declare important variables\n",
        "batch_size = 32\n",
        "num_epochs = 3\n",
        "total_steps = len(tokenized_datasets['train'])//batch_size*num_epochs\n",
        "logging_steps = total_steps//10\n",
        "lr = 2e-5"
      ]
    },
    {
      "cell_type": "code",
      "execution_count": 89,
      "metadata": {},
      "outputs": [],
      "source": [
        "training_args = TrainingArguments(\n",
        "    output_dir=\"results/multilingual/manifesto_3cl\",\n",
        "    overwrite_output_dir=True,\n",
        "    evaluation_strategy=\"epoch\",\n",
        "    learning_rate=lr,\n",
        "    weight_decay=0.01,\n",
        "    per_device_train_batch_size=batch_size,\n",
        "    per_device_eval_batch_size=batch_size,\n",
        "    fp16=True,\n",
        "    logging_steps= logging_steps,\n",
        "    num_train_epochs = num_epochs,\n",
        "    save_strategy='epoch',\n",
        "    load_best_model_at_end=True,\n",
        "    optim='adamw_torch'\n",
        ")"
      ]
    },
    {
      "cell_type": "code",
      "execution_count": 90,
      "metadata": {},
      "outputs": [
        {
          "name": "stderr",
          "output_type": "stream",
          "text": [
            "Using cuda_amp half precision backend\n"
          ]
        }
      ],
      "source": [
        "def compute_metrics(eval_preds):\n",
        "    logits, labels = eval_preds\n",
        "    predictions = np.argmax(logits, axis=-1)\n",
        "    precision, recall, f1, _ = precision_recall_fscore_support(labels, predictions, average=None)\n",
        "    matrix = confusion_matrix(labels, predictions)\n",
        "    acc = matrix.diagonal()/matrix.sum(axis=1)\n",
        "    return {\n",
        "        'precision': precision.tolist(),\n",
        "        'recall': recall.tolist(),\n",
        "        'f1': f1.tolist(),\n",
        "        'accuracy': acc.tolist()\n",
        "    }\n",
        "trainer = Trainer(\n",
        "    model,\n",
        "    training_args,\n",
        "    train_dataset=tokenized_datasets[\"train\"],\n",
        "    eval_dataset=tokenized_datasets[\"eval\"],\n",
        "    tokenizer=tokenizer,\n",
        "    compute_metrics=compute_metrics,\n",
        "    data_collator=data_collator\n",
        ")"
      ]
    },
    {
      "cell_type": "code",
      "execution_count": 91,
      "metadata": {},
      "outputs": [
        {
          "name": "stderr",
          "output_type": "stream",
          "text": [
            "***** Running training *****\n",
            "  Num examples = 60646\n",
            "  Num Epochs = 3\n",
            "  Instantaneous batch size per device = 32\n",
            "  Total train batch size (w. parallel, distributed & accumulation) = 32\n",
            "  Gradient Accumulation steps = 1\n",
            "  Total optimization steps = 5688\n",
            "  Number of trainable parameters = 278045955\n"
          ]
        },
        {
          "data": {
            "application/vnd.jupyter.widget-view+json": {
              "model_id": "f28f7ff5d79247e8b2a6ba9c2d84dfd4",
              "version_major": 2,
              "version_minor": 0
            },
            "text/plain": [
              "  0%|          | 0/5688 [00:00<?, ?it/s]"
            ]
          },
          "metadata": {},
          "output_type": "display_data"
        },
        {
          "name": "stderr",
          "output_type": "stream",
          "text": [
            "You're using a XLMRobertaTokenizerFast tokenizer. Please note that with a fast tokenizer, using the `__call__` method is faster than using a method to encode the text followed by a call to the `pad` method to get a padded encoding.\n"
          ]
        },
        {
          "name": "stdout",
          "output_type": "stream",
          "text": [
            "{'loss': 0.8149, 'learning_rate': 1.8020393811533053e-05, 'epoch': 0.3}\n",
            "{'loss': 0.6401, 'learning_rate': 1.6023206751054854e-05, 'epoch': 0.6}\n",
            "{'loss': 0.5771, 'learning_rate': 1.4029535864978905e-05, 'epoch': 0.9}\n"
          ]
        },
        {
          "name": "stderr",
          "output_type": "stream",
          "text": [
            "***** Running Evaluation *****\n",
            "  Num examples = 25992\n",
            "  Batch size = 32\n"
          ]
        },
        {
          "data": {
            "application/vnd.jupyter.widget-view+json": {
              "model_id": "fb371c5f33e44fa389672f8e39c4564e",
              "version_major": 2,
              "version_minor": 0
            },
            "text/plain": [
              "  0%|          | 0/813 [00:00<?, ?it/s]"
            ]
          },
          "metadata": {},
          "output_type": "display_data"
        },
        {
          "name": "stderr",
          "output_type": "stream",
          "text": [
            "Trainer is attempting to log a value of \"[0.7867809490147566, 0.8263039934800326, 0.728339164437127]\" of type <class 'list'> for key \"eval/precision\" as a scalar. This invocation of Tensorboard's writer.add_scalar() is incorrect so we dropped this attribute.\n",
            "Trainer is attempting to log a value of \"[0.850105021959137, 0.7669251134644478, 0.716106839336301]\" of type <class 'list'> for key \"eval/recall\" as a scalar. This invocation of Tensorboard's writer.add_scalar() is incorrect so we dropped this attribute.\n",
            "Trainer is attempting to log a value of \"[0.8172181175714743, 0.7955080423695566, 0.7221712070196918]\" of type <class 'list'> for key \"eval/f1\" as a scalar. This invocation of Tensorboard's writer.add_scalar() is incorrect so we dropped this attribute.\n",
            "Trainer is attempting to log a value of \"[0.850105021959137, 0.7669251134644478, 0.716106839336301]\" of type <class 'list'> for key \"eval/accuracy\" as a scalar. This invocation of Tensorboard's writer.add_scalar() is incorrect so we dropped this attribute.\n",
            "Saving model checkpoint to results/multilingual/manifesto_3cl\\checkpoint-1896\n",
            "Configuration saved in results/multilingual/manifesto_3cl\\checkpoint-1896\\config.json\n"
          ]
        },
        {
          "name": "stdout",
          "output_type": "stream",
          "text": [
            "{'eval_loss': 0.5298818945884705, 'eval_precision': [0.7867809490147566, 0.8263039934800326, 0.728339164437127], 'eval_recall': [0.850105021959137, 0.7669251134644478, 0.716106839336301], 'eval_f1': [0.8172181175714743, 0.7955080423695566, 0.7221712070196918], 'eval_accuracy': [0.850105021959137, 0.7669251134644478, 0.716106839336301], 'eval_runtime': 40.1528, 'eval_samples_per_second': 647.328, 'eval_steps_per_second': 20.248, 'epoch': 1.0}\n"
          ]
        },
        {
          "name": "stderr",
          "output_type": "stream",
          "text": [
            "Model weights saved in results/multilingual/manifesto_3cl\\checkpoint-1896\\pytorch_model.bin\n",
            "tokenizer config file saved in results/multilingual/manifesto_3cl\\checkpoint-1896\\tokenizer_config.json\n",
            "Special tokens file saved in results/multilingual/manifesto_3cl\\checkpoint-1896\\special_tokens_map.json\n"
          ]
        },
        {
          "name": "stdout",
          "output_type": "stream",
          "text": [
            "{'loss': 0.5045, 'learning_rate': 1.2032348804500704e-05, 'epoch': 1.2}\n",
            "{'loss': 0.4662, 'learning_rate': 1.0035161744022504e-05, 'epoch': 1.5}\n",
            "{'loss': 0.4503, 'learning_rate': 8.037974683544305e-06, 'epoch': 1.8}\n"
          ]
        },
        {
          "name": "stderr",
          "output_type": "stream",
          "text": [
            "***** Running Evaluation *****\n",
            "  Num examples = 25992\n",
            "  Batch size = 32\n"
          ]
        },
        {
          "data": {
            "application/vnd.jupyter.widget-view+json": {
              "model_id": "619118d4e0dc425da103a0f96b93f127",
              "version_major": 2,
              "version_minor": 0
            },
            "text/plain": [
              "  0%|          | 0/813 [00:00<?, ?it/s]"
            ]
          },
          "metadata": {},
          "output_type": "display_data"
        },
        {
          "name": "stderr",
          "output_type": "stream",
          "text": [
            "Trainer is attempting to log a value of \"[0.827167520394612, 0.8362120907812813, 0.706300072833212]\" of type <class 'list'> for key \"eval/precision\" as a scalar. This invocation of Tensorboard's writer.add_scalar() is incorrect so we dropped this attribute.\n",
            "Trainer is attempting to log a value of \"[0.832537712430781, 0.7873487140695915, 0.7849048968029138]\" of type <class 'list'> for key \"eval/recall\" as a scalar. This invocation of Tensorboard's writer.add_scalar() is incorrect so we dropped this attribute.\n",
            "Trainer is attempting to log a value of \"[0.8298439284354778, 0.8110450959384435, 0.7435307648073604]\" of type <class 'list'> for key \"eval/f1\" as a scalar. This invocation of Tensorboard's writer.add_scalar() is incorrect so we dropped this attribute.\n",
            "Trainer is attempting to log a value of \"[0.832537712430781, 0.7873487140695915, 0.7849048968029138]\" of type <class 'list'> for key \"eval/accuracy\" as a scalar. This invocation of Tensorboard's writer.add_scalar() is incorrect so we dropped this attribute.\n",
            "Saving model checkpoint to results/multilingual/manifesto_3cl\\checkpoint-3792\n",
            "Configuration saved in results/multilingual/manifesto_3cl\\checkpoint-3792\\config.json\n"
          ]
        },
        {
          "name": "stdout",
          "output_type": "stream",
          "text": [
            "{'eval_loss': 0.50733482837677, 'eval_precision': [0.827167520394612, 0.8362120907812813, 0.706300072833212], 'eval_recall': [0.832537712430781, 0.7873487140695915, 0.7849048968029138], 'eval_f1': [0.8298439284354778, 0.8110450959384435, 0.7435307648073604], 'eval_accuracy': [0.832537712430781, 0.7873487140695915, 0.7849048968029138], 'eval_runtime': 40.8958, 'eval_samples_per_second': 635.567, 'eval_steps_per_second': 19.88, 'epoch': 2.0}\n"
          ]
        },
        {
          "name": "stderr",
          "output_type": "stream",
          "text": [
            "Model weights saved in results/multilingual/manifesto_3cl\\checkpoint-3792\\pytorch_model.bin\n",
            "tokenizer config file saved in results/multilingual/manifesto_3cl\\checkpoint-3792\\tokenizer_config.json\n",
            "Special tokens file saved in results/multilingual/manifesto_3cl\\checkpoint-3792\\special_tokens_map.json\n"
          ]
        },
        {
          "name": "stdout",
          "output_type": "stream",
          "text": [
            "{'loss': 0.4142, 'learning_rate': 6.0407876230661045e-06, 'epoch': 2.1}\n",
            "{'loss': 0.3592, 'learning_rate': 4.043600562587905e-06, 'epoch': 2.4}\n",
            "{'loss': 0.344, 'learning_rate': 2.0499296765119553e-06, 'epoch': 2.7}\n",
            "{'loss': 0.339, 'learning_rate': 5.2742616033755277e-08, 'epoch': 3.0}\n"
          ]
        },
        {
          "name": "stderr",
          "output_type": "stream",
          "text": [
            "***** Running Evaluation *****\n",
            "  Num examples = 25992\n",
            "  Batch size = 32\n"
          ]
        },
        {
          "data": {
            "application/vnd.jupyter.widget-view+json": {
              "model_id": "54cf1f86c8de40d79ffe98e8cb7c182b",
              "version_major": 2,
              "version_minor": 0
            },
            "text/plain": [
              "  0%|          | 0/813 [00:00<?, ?it/s]"
            ]
          },
          "metadata": {},
          "output_type": "display_data"
        },
        {
          "name": "stderr",
          "output_type": "stream",
          "text": [
            "Trainer is attempting to log a value of \"[0.82586879762126, 0.8273740868896579, 0.761914629092416]\" of type <class 'list'> for key \"eval/precision\" as a scalar. This invocation of Tensorboard's writer.add_scalar() is incorrect so we dropped this attribute.\n",
            "Trainer is attempting to log a value of \"[0.8485774298262364, 0.8139183055975794, 0.7440307567786322]\" of type <class 'list'> for key \"eval/recall\" as a scalar. This invocation of Tensorboard's writer.add_scalar() is incorrect so we dropped this attribute.\n",
            "Trainer is attempting to log a value of \"[0.8370691278960255, 0.8205910390848427, 0.7528665028665029]\" of type <class 'list'> for key \"eval/f1\" as a scalar. This invocation of Tensorboard's writer.add_scalar() is incorrect so we dropped this attribute.\n",
            "Trainer is attempting to log a value of \"[0.8485774298262364, 0.8139183055975794, 0.7440307567786322]\" of type <class 'list'> for key \"eval/accuracy\" as a scalar. This invocation of Tensorboard's writer.add_scalar() is incorrect so we dropped this attribute.\n",
            "Saving model checkpoint to results/multilingual/manifesto_3cl\\checkpoint-5688\n",
            "Configuration saved in results/multilingual/manifesto_3cl\\checkpoint-5688\\config.json\n"
          ]
        },
        {
          "name": "stdout",
          "output_type": "stream",
          "text": [
            "{'eval_loss': 0.5222024917602539, 'eval_precision': [0.82586879762126, 0.8273740868896579, 0.761914629092416], 'eval_recall': [0.8485774298262364, 0.8139183055975794, 0.7440307567786322], 'eval_f1': [0.8370691278960255, 0.8205910390848427, 0.7528665028665029], 'eval_accuracy': [0.8485774298262364, 0.8139183055975794, 0.7440307567786322], 'eval_runtime': 41.171, 'eval_samples_per_second': 631.318, 'eval_steps_per_second': 19.747, 'epoch': 3.0}\n"
          ]
        },
        {
          "name": "stderr",
          "output_type": "stream",
          "text": [
            "Model weights saved in results/multilingual/manifesto_3cl\\checkpoint-5688\\pytorch_model.bin\n",
            "tokenizer config file saved in results/multilingual/manifesto_3cl\\checkpoint-5688\\tokenizer_config.json\n",
            "Special tokens file saved in results/multilingual/manifesto_3cl\\checkpoint-5688\\special_tokens_map.json\n",
            "\n",
            "\n",
            "Training completed. Do not forget to share your model on huggingface.co/models =)\n",
            "\n",
            "\n",
            "Loading best model from results/multilingual/manifesto_3cl\\checkpoint-3792 (score: 0.50733482837677).\n"
          ]
        },
        {
          "name": "stdout",
          "output_type": "stream",
          "text": [
            "{'train_runtime': 1216.5212, 'train_samples_per_second': 149.556, 'train_steps_per_second': 4.676, 'train_loss': 0.4908372825627253, 'epoch': 3.0}\n"
          ]
        },
        {
          "data": {
            "text/plain": [
              "TrainOutput(global_step=5688, training_loss=0.4908372825627253, metrics={'train_runtime': 1216.5212, 'train_samples_per_second': 149.556, 'train_steps_per_second': 4.676, 'train_loss': 0.4908372825627253, 'epoch': 3.0})"
            ]
          },
          "execution_count": 91,
          "metadata": {},
          "output_type": "execute_result"
        }
      ],
      "source": [
        "trainer.train()"
      ]
    },
    {
      "cell_type": "code",
      "execution_count": 92,
      "metadata": {},
      "outputs": [
        {
          "name": "stderr",
          "output_type": "stream",
          "text": [
            "***** Running Evaluation *****\n",
            "  Num examples = 9627\n",
            "  Batch size = 32\n"
          ]
        },
        {
          "data": {
            "application/vnd.jupyter.widget-view+json": {
              "model_id": "ed34e7b80d9144fcad043bdfc6a3b085",
              "version_major": 2,
              "version_minor": 0
            },
            "text/plain": [
              "  0%|          | 0/301 [00:00<?, ?it/s]"
            ]
          },
          "metadata": {},
          "output_type": "display_data"
        },
        {
          "name": "stderr",
          "output_type": "stream",
          "text": [
            "Trainer is attempting to log a value of \"[0.8332042344435838, 0.8307610431080362, 0.7249498997995992]\" of type <class 'list'> for key \"eval/precision\" as a scalar. This invocation of Tensorboard's writer.add_scalar() is incorrect so we dropped this attribute.\n",
            "Trainer is attempting to log a value of \"[0.8317010309278351, 0.7970385499106459, 0.7907103825136612]\" of type <class 'list'> for key \"eval/recall\" as a scalar. This invocation of Tensorboard's writer.add_scalar() is incorrect so we dropped this attribute.\n",
            "Trainer is attempting to log a value of \"[0.8324519540822908, 0.8135504885993485, 0.7564035546262415]\" of type <class 'list'> for key \"eval/f1\" as a scalar. This invocation of Tensorboard's writer.add_scalar() is incorrect so we dropped this attribute.\n",
            "Trainer is attempting to log a value of \"[0.8317010309278351, 0.7970385499106459, 0.7907103825136612]\" of type <class 'list'> for key \"eval/accuracy\" as a scalar. This invocation of Tensorboard's writer.add_scalar() is incorrect so we dropped this attribute.\n"
          ]
        },
        {
          "name": "stdout",
          "output_type": "stream",
          "text": [
            "0.8008019991026268\n"
          ]
        }
      ],
      "source": [
        "res = trainer.evaluate(tokenized_datasets['test'])\n",
        "print(sum(res['eval_f1'])/num_classes)"
      ]
    },
    {
      "cell_type": "code",
      "execution_count": 93,
      "metadata": {},
      "outputs": [
        {
          "data": {
            "text/html": [
              "<div>\n",
              "<style scoped>\n",
              "    .dataframe tbody tr th:only-of-type {\n",
              "        vertical-align: middle;\n",
              "    }\n",
              "\n",
              "    .dataframe tbody tr th {\n",
              "        vertical-align: top;\n",
              "    }\n",
              "\n",
              "    .dataframe thead th {\n",
              "        text-align: right;\n",
              "    }\n",
              "</style>\n",
              "<table border=\"1\" class=\"dataframe\">\n",
              "  <thead>\n",
              "    <tr style=\"text-align: right;\">\n",
              "      <th></th>\n",
              "      <th>f1</th>\n",
              "      <th>precision</th>\n",
              "      <th>recall</th>\n",
              "      <th>accuracy</th>\n",
              "    </tr>\n",
              "  </thead>\n",
              "  <tbody>\n",
              "    <tr>\n",
              "      <th>0</th>\n",
              "      <td>0.83</td>\n",
              "      <td>0.83</td>\n",
              "      <td>0.83</td>\n",
              "      <td>0.83</td>\n",
              "    </tr>\n",
              "    <tr>\n",
              "      <th>1</th>\n",
              "      <td>0.81</td>\n",
              "      <td>0.83</td>\n",
              "      <td>0.80</td>\n",
              "      <td>0.80</td>\n",
              "    </tr>\n",
              "    <tr>\n",
              "      <th>2</th>\n",
              "      <td>0.76</td>\n",
              "      <td>0.72</td>\n",
              "      <td>0.79</td>\n",
              "      <td>0.79</td>\n",
              "    </tr>\n",
              "  </tbody>\n",
              "</table>\n",
              "</div>"
            ],
            "text/plain": [
              "     f1  precision  recall  accuracy\n",
              "0  0.83       0.83    0.83      0.83\n",
              "1  0.81       0.83    0.80      0.80\n",
              "2  0.76       0.72    0.79      0.79"
            ]
          },
          "execution_count": 93,
          "metadata": {},
          "output_type": "execute_result"
        }
      ],
      "source": [
        "res_table = pd.DataFrame({'f1': np.round(res['eval_f1'],2), 'precision': np.round(res['eval_precision'],2), \n",
        "'recall': np.round(res['eval_recall'],2), 'accuracy': np.round(res['eval_accuracy'],2)})\n",
        "res_table"
      ]
    },
    {
      "cell_type": "code",
      "execution_count": 94,
      "metadata": {},
      "outputs": [
        {
          "data": {
            "text/plain": [
              "f1           0.80\n",
              "precision    0.79\n",
              "recall       0.81\n",
              "accuracy     0.81\n",
              "dtype: float64"
            ]
          },
          "execution_count": 94,
          "metadata": {},
          "output_type": "execute_result"
        }
      ],
      "source": [
        "round(res_table.mean(axis=0),2)"
      ]
    },
    {
      "attachments": {},
      "cell_type": "markdown",
      "metadata": {},
      "source": [
        "### Scaling with Sentence Transformer and supervised dimensionality reduction (Germany)"
      ]
    },
    {
      "attachments": {},
      "cell_type": "markdown",
      "metadata": {},
      "source": [
        "#### Sentence Transformer to extract sentence embeddings"
      ]
    },
    {
      "cell_type": "code",
      "execution_count": 27,
      "metadata": {},
      "outputs": [],
      "source": [
        "from utils.functions import party_deu, cmp_scale, encode_embeds"
      ]
    },
    {
      "cell_type": "code",
      "execution_count": 28,
      "metadata": {},
      "outputs": [],
      "source": [
        "manifesto_deu = manifesto[manifesto['country'] == 'Germany'].reset_index(drop=True)\n",
        "manifesto_deu_rgr = manifesto_regrouped[manifesto_regrouped['country'] == 'Germany'].reset_index(drop=True)"
      ]
    },
    {
      "cell_type": "code",
      "execution_count": 29,
      "metadata": {},
      "outputs": [],
      "source": [
        "manifesto_deu['party_agg'] = manifesto_deu['name'].apply(party_deu)\n",
        "manifesto_deu_rgr['party_agg'] = manifesto_deu_rgr['party'].apply(party_deu)"
      ]
    },
    {
      "cell_type": "code",
      "execution_count": 30,
      "metadata": {},
      "outputs": [],
      "source": [
        "manifesto_deu = manifesto_deu[manifesto_deu.party_agg != 'NA'].reset_index(drop=True)\n",
        "manifesto_deu_rgr = manifesto_deu_rgr[manifesto_deu_rgr.party_agg != 'NA'].reset_index(drop=True)"
      ]
    },
    {
      "cell_type": "code",
      "execution_count": 54,
      "metadata": {},
      "outputs": [
        {
          "data": {
            "text/html": [
              "<div>\n",
              "<style scoped>\n",
              "    .dataframe tbody tr th:only-of-type {\n",
              "        vertical-align: middle;\n",
              "    }\n",
              "\n",
              "    .dataframe tbody tr th {\n",
              "        vertical-align: top;\n",
              "    }\n",
              "\n",
              "    .dataframe thead th {\n",
              "        text-align: right;\n",
              "    }\n",
              "</style>\n",
              "<table border=\"1\" class=\"dataframe\">\n",
              "  <thead>\n",
              "    <tr style=\"text-align: right;\">\n",
              "      <th></th>\n",
              "      <th>text</th>\n",
              "      <th>country_party_election_sentiment</th>\n",
              "      <th>country</th>\n",
              "      <th>party</th>\n",
              "      <th>election</th>\n",
              "      <th>sentiment</th>\n",
              "      <th>party_agg</th>\n",
              "    </tr>\n",
              "  </thead>\n",
              "  <tbody>\n",
              "    <tr>\n",
              "      <th>0</th>\n",
              "      <td>Chancengleichheit statt Gleichmacherei. Weltof...</td>\n",
              "      <td>Germany_Freie Demokratische Partei_2005_neutral</td>\n",
              "      <td>Germany</td>\n",
              "      <td>Freie Demokratische Partei</td>\n",
              "      <td>2005</td>\n",
              "      <td>neutral</td>\n",
              "      <td>FDP</td>\n",
              "    </tr>\n",
              "    <tr>\n",
              "      <th>1</th>\n",
              "      <td>Die zentrale Staatsaufgabe ist nicht Gleichhei...</td>\n",
              "      <td>Germany_Freie Demokratische Partei_2005_neutral</td>\n",
              "      <td>Germany</td>\n",
              "      <td>Freie Demokratische Partei</td>\n",
              "      <td>2005</td>\n",
              "      <td>neutral</td>\n",
              "      <td>FDP</td>\n",
              "    </tr>\n",
              "    <tr>\n",
              "      <th>2</th>\n",
              "      <td>Arbeit ist mehr als Erwerbseinkommen. Arbeit b...</td>\n",
              "      <td>Germany_Freie Demokratische Partei_2005_neutral</td>\n",
              "      <td>Germany</td>\n",
              "      <td>Freie Demokratische Partei</td>\n",
              "      <td>2005</td>\n",
              "      <td>neutral</td>\n",
              "      <td>FDP</td>\n",
              "    </tr>\n",
              "    <tr>\n",
              "      <th>3</th>\n",
              "      <td>Das Streben nach Einzelfallgerechtigkeit hat l...</td>\n",
              "      <td>Germany_Freie Demokratische Partei_2005_neutral</td>\n",
              "      <td>Germany</td>\n",
              "      <td>Freie Demokratische Partei</td>\n",
              "      <td>2005</td>\n",
              "      <td>neutral</td>\n",
              "      <td>FDP</td>\n",
              "    </tr>\n",
              "    <tr>\n",
              "      <th>4</th>\n",
              "      <td>Gerechtigkeit im Steuerrecht heißt, daß jeder ...</td>\n",
              "      <td>Germany_Freie Demokratische Partei_2005_neutral</td>\n",
              "      <td>Germany</td>\n",
              "      <td>Freie Demokratische Partei</td>\n",
              "      <td>2005</td>\n",
              "      <td>neutral</td>\n",
              "      <td>FDP</td>\n",
              "    </tr>\n",
              "  </tbody>\n",
              "</table>\n",
              "</div>"
            ],
            "text/plain": [
              "                                                text  \\\n",
              "0  Chancengleichheit statt Gleichmacherei. Weltof...   \n",
              "1  Die zentrale Staatsaufgabe ist nicht Gleichhei...   \n",
              "2  Arbeit ist mehr als Erwerbseinkommen. Arbeit b...   \n",
              "3  Das Streben nach Einzelfallgerechtigkeit hat l...   \n",
              "4  Gerechtigkeit im Steuerrecht heißt, daß jeder ...   \n",
              "\n",
              "                  country_party_election_sentiment  country  \\\n",
              "0  Germany_Freie Demokratische Partei_2005_neutral  Germany   \n",
              "1  Germany_Freie Demokratische Partei_2005_neutral  Germany   \n",
              "2  Germany_Freie Demokratische Partei_2005_neutral  Germany   \n",
              "3  Germany_Freie Demokratische Partei_2005_neutral  Germany   \n",
              "4  Germany_Freie Demokratische Partei_2005_neutral  Germany   \n",
              "\n",
              "                        party election sentiment party_agg  \n",
              "0  Freie Demokratische Partei     2005   neutral       FDP  \n",
              "1  Freie Demokratische Partei     2005   neutral       FDP  \n",
              "2  Freie Demokratische Partei     2005   neutral       FDP  \n",
              "3  Freie Demokratische Partei     2005   neutral       FDP  \n",
              "4  Freie Demokratische Partei     2005   neutral       FDP  "
            ]
          },
          "execution_count": 54,
          "metadata": {},
          "output_type": "execute_result"
        }
      ],
      "source": [
        "manifesto_deu_rgr.head()"
      ]
    },
    {
      "cell_type": "code",
      "execution_count": 31,
      "metadata": {},
      "outputs": [],
      "source": [
        "absscale, relscale, logscale, name_ls = cmp_scale(manifesto_deu, group_vars=['party_agg','election'], sent_var='sentiment')"
      ]
    },
    {
      "cell_type": "code",
      "execution_count": 32,
      "metadata": {},
      "outputs": [
        {
          "name": "stderr",
          "output_type": "stream",
          "text": [
            "Some weights of the model checkpoint at results/multilingual/manifesto_3cl/checkpoint-5688 were not used when initializing XLMRobertaModel: ['classifier.dense.bias', 'classifier.out_proj.weight', 'classifier.dense.weight', 'classifier.out_proj.bias']\n",
            "- This IS expected if you are initializing XLMRobertaModel from the checkpoint of a model trained on another task or with another architecture (e.g. initializing a BertForSequenceClassification model from a BertForPreTraining model).\n",
            "- This IS NOT expected if you are initializing XLMRobertaModel from the checkpoint of a model that you expect to be exactly identical (initializing a BertForSequenceClassification model from a BertForSequenceClassification model).\n",
            "Some weights of XLMRobertaModel were not initialized from the model checkpoint at results/multilingual/manifesto_3cl/checkpoint-5688 and are newly initialized: ['roberta.pooler.dense.bias', 'roberta.pooler.dense.weight']\n",
            "You should probably TRAIN this model on a down-stream task to be able to use it for predictions and inference.\n"
          ]
        }
      ],
      "source": [
        "transformer_model = 'results/multilingual/manifesto_3cl/checkpoint-5688'\n",
        "word_embedding_model = models.Transformer(transformer_model)\n",
        "pooling_model = models.Pooling(word_embedding_model.get_word_embedding_dimension(), 'cls')\n",
        "model = SentenceTransformer(modules=[word_embedding_model, pooling_model]).to(device)"
      ]
    },
    {
      "attachments": {},
      "cell_type": "markdown",
      "metadata": {},
      "source": [
        "#### Scaling with Supervised UMAP"
      ]
    },
    {
      "cell_type": "code",
      "execution_count": 33,
      "metadata": {},
      "outputs": [],
      "source": [
        "from utils.functions import scale_topic"
      ]
    },
    {
      "cell_type": "code",
      "execution_count": 34,
      "metadata": {},
      "outputs": [
        {
          "name": "stdout",
          "output_type": "stream",
          "text": [
            "Now scaling texts in: ('AfD', '2013')\n",
            "The shape of this document embeddings is: (26, 768)\n"
          ]
        },
        {
          "ename": "ValueError",
          "evalue": "n_components=50 must be between 0 and min(n_samples, n_features)=26 with svd_solver='full'",
          "output_type": "error",
          "traceback": [
            "\u001b[1;31m---------------------------------------------------------------------------\u001b[0m",
            "\u001b[1;31mValueError\u001b[0m                                Traceback (most recent call last)",
            "Cell \u001b[1;32mIn[34], line 1\u001b[0m\n\u001b[1;32m----> 1\u001b[0m scaled_results \u001b[39m=\u001b[39m scale_topic(manifesto_deu_rgr, model, \u001b[39m'\u001b[39;49m\u001b[39mtext\u001b[39;49m\u001b[39m'\u001b[39;49m, [\u001b[39m'\u001b[39;49m\u001b[39mparty_agg\u001b[39;49m\u001b[39m'\u001b[39;49m, \u001b[39m'\u001b[39;49m\u001b[39melection\u001b[39;49m\u001b[39m'\u001b[39;49m], \u001b[39m'\u001b[39;49m\u001b[39msentiment\u001b[39;49m\u001b[39m'\u001b[39;49m)\n",
            "File \u001b[1;32mc:\\Github\\BERT-Scaler\\utils\\functions.py:103\u001b[0m, in \u001b[0;36mscale_topic\u001b[1;34m(dataframe, model_transformer, text_var, group_var, guide_var, max_size, guidance_weight, **kwargs)\u001b[0m\n\u001b[0;32m    101\u001b[0m \u001b[39melse\u001b[39;00m:\n\u001b[0;32m    102\u001b[0m     y \u001b[39m=\u001b[39m enc\u001b[39m.\u001b[39mfit_transform(np\u001b[39m.\u001b[39mreshape(group\u001b[39m.\u001b[39mloc[:,guide_var]\u001b[39m.\u001b[39mtolist(), newshape\u001b[39m=\u001b[39m(\u001b[39m-\u001b[39m\u001b[39m1\u001b[39m,\u001b[39m1\u001b[39m)))\n\u001b[1;32m--> 103\u001b[0m     embeddings_reduced \u001b[39m=\u001b[39m pca\u001b[39m.\u001b[39;49mfit_transform(document_embed)\n\u001b[0;32m    104\u001b[0m     embeddings \u001b[39m=\u001b[39m umap\u001b[39m.\u001b[39mUMAP(n_components\u001b[39m=\u001b[39m\u001b[39m1\u001b[39m, n_neighbors\u001b[39m=\u001b[39mk_recommended, n_epochs\u001b[39m=\u001b[39m\u001b[39m250\u001b[39m, metric\u001b[39m=\u001b[39m\u001b[39m'\u001b[39m\u001b[39mcosine\u001b[39m\u001b[39m'\u001b[39m, \n\u001b[0;32m    105\u001b[0m                        target_weight\u001b[39m=\u001b[39mguidance_weight, low_memory\u001b[39m=\u001b[39m\u001b[39mTrue\u001b[39;00m, verbose\u001b[39m=\u001b[39m\u001b[39mTrue\u001b[39;00m, \u001b[39m*\u001b[39m\u001b[39m*\u001b[39mkwargs)\u001b[39m.\u001b[39mfit_transform(embeddings_reduced, y\u001b[39m=\u001b[39my)\n\u001b[0;32m    106\u001b[0m     group[\u001b[39m'\u001b[39m\u001b[39mpolicy_position\u001b[39m\u001b[39m'\u001b[39m] \u001b[39m=\u001b[39m embeddings[:,\u001b[39m0\u001b[39m]\n",
            "File \u001b[1;32mc:\\Users\\Hung\\anaconda3\\envs\\transformer_scaler\\lib\\site-packages\\sklearn\\decomposition\\_pca.py:433\u001b[0m, in \u001b[0;36mPCA.fit_transform\u001b[1;34m(self, X, y)\u001b[0m\n\u001b[0;32m    411\u001b[0m \u001b[39mdef\u001b[39;00m \u001b[39mfit_transform\u001b[39m(\u001b[39mself\u001b[39m, X, y\u001b[39m=\u001b[39m\u001b[39mNone\u001b[39;00m):\n\u001b[0;32m    412\u001b[0m     \u001b[39m\"\"\"Fit the model with X and apply the dimensionality reduction on X.\u001b[39;00m\n\u001b[0;32m    413\u001b[0m \n\u001b[0;32m    414\u001b[0m \u001b[39m    Parameters\u001b[39;00m\n\u001b[1;32m   (...)\u001b[0m\n\u001b[0;32m    431\u001b[0m \u001b[39m    C-ordered array, use 'np.ascontiguousarray'.\u001b[39;00m\n\u001b[0;32m    432\u001b[0m \u001b[39m    \"\"\"\u001b[39;00m\n\u001b[1;32m--> 433\u001b[0m     U, S, Vt \u001b[39m=\u001b[39m \u001b[39mself\u001b[39;49m\u001b[39m.\u001b[39;49m_fit(X)\n\u001b[0;32m    434\u001b[0m     U \u001b[39m=\u001b[39m U[:, : \u001b[39mself\u001b[39m\u001b[39m.\u001b[39mn_components_]\n\u001b[0;32m    436\u001b[0m     \u001b[39mif\u001b[39;00m \u001b[39mself\u001b[39m\u001b[39m.\u001b[39mwhiten:\n\u001b[0;32m    437\u001b[0m         \u001b[39m# X_new = X * V / S * sqrt(n_samples) = U * sqrt(n_samples)\u001b[39;00m\n",
            "File \u001b[1;32mc:\\Users\\Hung\\anaconda3\\envs\\transformer_scaler\\lib\\site-packages\\sklearn\\decomposition\\_pca.py:483\u001b[0m, in \u001b[0;36mPCA._fit\u001b[1;34m(self, X)\u001b[0m\n\u001b[0;32m    481\u001b[0m \u001b[39m# Call different fits for either full or truncated SVD\u001b[39;00m\n\u001b[0;32m    482\u001b[0m \u001b[39mif\u001b[39;00m \u001b[39mself\u001b[39m\u001b[39m.\u001b[39m_fit_svd_solver \u001b[39m==\u001b[39m \u001b[39m\"\u001b[39m\u001b[39mfull\u001b[39m\u001b[39m\"\u001b[39m:\n\u001b[1;32m--> 483\u001b[0m     \u001b[39mreturn\u001b[39;00m \u001b[39mself\u001b[39;49m\u001b[39m.\u001b[39;49m_fit_full(X, n_components)\n\u001b[0;32m    484\u001b[0m \u001b[39melif\u001b[39;00m \u001b[39mself\u001b[39m\u001b[39m.\u001b[39m_fit_svd_solver \u001b[39min\u001b[39;00m [\u001b[39m\"\u001b[39m\u001b[39marpack\u001b[39m\u001b[39m\"\u001b[39m, \u001b[39m\"\u001b[39m\u001b[39mrandomized\u001b[39m\u001b[39m\"\u001b[39m]:\n\u001b[0;32m    485\u001b[0m     \u001b[39mreturn\u001b[39;00m \u001b[39mself\u001b[39m\u001b[39m.\u001b[39m_fit_truncated(X, n_components, \u001b[39mself\u001b[39m\u001b[39m.\u001b[39m_fit_svd_solver)\n",
            "File \u001b[1;32mc:\\Users\\Hung\\anaconda3\\envs\\transformer_scaler\\lib\\site-packages\\sklearn\\decomposition\\_pca.py:501\u001b[0m, in \u001b[0;36mPCA._fit_full\u001b[1;34m(self, X, n_components)\u001b[0m\n\u001b[0;32m    497\u001b[0m         \u001b[39mraise\u001b[39;00m \u001b[39mValueError\u001b[39;00m(\n\u001b[0;32m    498\u001b[0m             \u001b[39m\"\u001b[39m\u001b[39mn_components=\u001b[39m\u001b[39m'\u001b[39m\u001b[39mmle\u001b[39m\u001b[39m'\u001b[39m\u001b[39m is only supported if n_samples >= n_features\u001b[39m\u001b[39m\"\u001b[39m\n\u001b[0;32m    499\u001b[0m         )\n\u001b[0;32m    500\u001b[0m \u001b[39melif\u001b[39;00m \u001b[39mnot\u001b[39;00m \u001b[39m0\u001b[39m \u001b[39m<\u001b[39m\u001b[39m=\u001b[39m n_components \u001b[39m<\u001b[39m\u001b[39m=\u001b[39m \u001b[39mmin\u001b[39m(n_samples, n_features):\n\u001b[1;32m--> 501\u001b[0m     \u001b[39mraise\u001b[39;00m \u001b[39mValueError\u001b[39;00m(\n\u001b[0;32m    502\u001b[0m         \u001b[39m\"\u001b[39m\u001b[39mn_components=\u001b[39m\u001b[39m%r\u001b[39;00m\u001b[39m must be between 0 and \u001b[39m\u001b[39m\"\u001b[39m\n\u001b[0;32m    503\u001b[0m         \u001b[39m\"\u001b[39m\u001b[39mmin(n_samples, n_features)=\u001b[39m\u001b[39m%r\u001b[39;00m\u001b[39m with \u001b[39m\u001b[39m\"\u001b[39m\n\u001b[0;32m    504\u001b[0m         \u001b[39m\"\u001b[39m\u001b[39msvd_solver=\u001b[39m\u001b[39m'\u001b[39m\u001b[39mfull\u001b[39m\u001b[39m'\u001b[39m\u001b[39m\"\u001b[39m \u001b[39m%\u001b[39m (n_components, \u001b[39mmin\u001b[39m(n_samples, n_features))\n\u001b[0;32m    505\u001b[0m     )\n\u001b[0;32m    506\u001b[0m \u001b[39melif\u001b[39;00m n_components \u001b[39m>\u001b[39m\u001b[39m=\u001b[39m \u001b[39m1\u001b[39m:\n\u001b[0;32m    507\u001b[0m     \u001b[39mif\u001b[39;00m \u001b[39mnot\u001b[39;00m \u001b[39misinstance\u001b[39m(n_components, numbers\u001b[39m.\u001b[39mIntegral):\n",
            "\u001b[1;31mValueError\u001b[0m: n_components=50 must be between 0 and min(n_samples, n_features)=26 with svd_solver='full'"
          ]
        }
      ],
      "source": [
        "scaled_results = scale_topic(manifesto_deu_rgr, model, 'text',  ,'sentiment')"
      ]
    },
    {
      "cell_type": "code",
      "execution_count": 76,
      "metadata": {},
      "outputs": [
        {
          "name": "stdout",
          "output_type": "stream",
          "text": [
            "UMAP(n_epochs=500, n_neighbors=500, random_state=1234, target_weight=0.8, verbose=True)\n",
            "Wed Jul  5 20:30:25 2023 Construct fuzzy simplicial set\n",
            "Wed Jul  5 20:30:25 2023 Finding Nearest Neighbors\n",
            "Wed Jul  5 20:30:25 2023 Building RP forest with 13 trees\n",
            "Wed Jul  5 20:30:25 2023 NN descent for 15 iterations\n",
            "\t 1  /  15\n",
            "\t 2  /  15\n",
            "\t 3  /  15\n",
            "\tStopping threshold met -- exiting after 3 iterations\n",
            "Wed Jul  5 20:30:52 2023 Finished Nearest Neighbor Search\n",
            "Wed Jul  5 20:30:58 2023 Construct embedding\n"
          ]
        },
        {
          "data": {
            "application/vnd.jupyter.widget-view+json": {
              "model_id": "e70c609e06e5493f842a126644323259",
              "version_major": 2,
              "version_minor": 0
            },
            "text/plain": [
              "Epochs completed:   0%|            0/500 [00:00]"
            ]
          },
          "metadata": {},
          "output_type": "display_data"
        },
        {
          "name": "stdout",
          "output_type": "stream",
          "text": [
            "Wed Jul  5 20:32:35 2023 Finished embedding\n"
          ]
        }
      ],
      "source": [
        "umap_s_scaled = scale_topic(document_embed=document_embed, guide_labels=y, n_components=2, guidance_weight=0.8, random_state=seed_val)"
      ]
    },
    {
      "cell_type": "code",
      "execution_count": 77,
      "metadata": {},
      "outputs": [],
      "source": [
        "emb_mean_dict = {}\n",
        "for name, group in manifesto_deu_rgr.groupby(['party_agg','election']):\n",
        "    idx = group.index\n",
        "    embed = umap_s_scaled[idx]\n",
        "    embed_mean = np.mean(embed, axis=0)\n",
        "    emb_mean_dict.update({name: embed_mean})\n"
      ]
    },
    {
      "cell_type": "code",
      "execution_count": 78,
      "metadata": {},
      "outputs": [],
      "source": [
        "umap_s_embeds = np.stack(list(emb_mean_dict.values()))\n"
      ]
    },
    {
      "cell_type": "code",
      "execution_count": 81,
      "metadata": {},
      "outputs": [
        {
          "data": {
            "text/plain": [
              "array([[1.        , 0.23248279],\n",
              "       [0.23248279, 1.        ]])"
            ]
          },
          "execution_count": 81,
          "metadata": {},
          "output_type": "execute_result"
        }
      ],
      "source": [
        "np.corrcoef(relscale,umap_s_embeds[:,0])"
      ]
    },
    {
      "cell_type": "code",
      "execution_count": 259,
      "metadata": {},
      "outputs": [
        {
          "data": {
            "text/plain": [
              "0.8379493"
            ]
          },
          "execution_count": 259,
          "metadata": {},
          "output_type": "execute_result"
        }
      ],
      "source": [
        "## Silhouette score\n",
        "umap_s_silscore = silhouette_score(umap_s_scaled, y.flatten())\n",
        "umap_s_silscore"
      ]
    },
    {
      "cell_type": "code",
      "execution_count": 260,
      "metadata": {},
      "outputs": [
        {
          "data": {
            "text/plain": [
              "0.9527295625935028"
            ]
          },
          "execution_count": 260,
          "metadata": {},
          "output_type": "execute_result"
        }
      ],
      "source": [
        "## Trustworthiness\n",
        "umap_s_trust = trustworthiness(document_embed, umap_s_scaled, n_neighbors=5)\n",
        "umap_s_trust"
      ]
    },
    {
      "cell_type": "code",
      "execution_count": 48,
      "metadata": {},
      "outputs": [
        {
          "data": {
            "image/png": "[encoded data removed]",
            "text/plain": [
              "<Figure size 640x480 with 1 Axes>"
            ]
          },
          "metadata": {},
          "output_type": "display_data"
        }
      ],
      "source": [
        "labels = ['_'.join([str(n) for n in name]) for name, group in manifesto_deu.groupby(['party_agg','election'])]\n",
        "party = [lab.split('_')[0] for lab in labels]\n",
        "year = [int(lab.split('_')[1]) for lab in labels]\n",
        "#sentiment = [lab.split('_')[2] for lab in labels]\n",
        "\n",
        "\n",
        "df = pd.DataFrame({'dim1': umap_s_embeds[:,1], 'party': party, 'year': year, 'lr_prop': relscale, 'lr_log': logscale, 'lr_abs': absscale}) #,'dim2': score[:,1]\n",
        "import matplotlib.pyplot as plt\n",
        "sns.set_theme()\n",
        "fig, ax = plt.subplots()\n",
        "ax.margins(0.05) # Optional, just adds 5% padding to the autoscaling\n",
        "for name, group in df.groupby('party'):\n",
        "    ax.plot(group.year,group.dim1, marker='o', linestyle='dashed', ms=4, label=name)\n",
        "ax.legend()\n",
        "ax.set_xlabel('Year')\n",
        "ax.set_ylabel('Position')\n",
        "ax.set_title('CMP log scale over time', fontdict={'fontsize':16})\n",
        "plt.plot()\n",
        "plt.savefig('results/tabs and figs/figure5.png', dpi=300)"
      ]
    },
    {
      "cell_type": "code",
      "execution_count": 101,
      "metadata": {},
      "outputs": [],
      "source": [
        "labels = ['_'.join([str(n) for n in name]) for name, group in manifesto_deu.groupby(['party_agg','election'])]\n",
        "party = [lab.split('_')[0] for lab in labels]\n",
        "election = [int(lab.split('_')[1]) for lab in labels]\n",
        "#sentiment = [lab.split('_')[2] for lab in labels]\n",
        "\n",
        "\n",
        "df = pd.DataFrame({'party': party, 'election': election, 'lr_prop': relscale, 'lr_log': logscale, 'lr_abs': absscale})"
      ]
    },
    {
      "cell_type": "code",
      "execution_count": 103,
      "metadata": {},
      "outputs": [
        {
          "data": {
            "text/plain": [
              "['AfD_2013',\n",
              " 'AfD_2017',\n",
              " 'AfD_2021',\n",
              " 'CDU/CSU_1998',\n",
              " 'CDU/CSU_2002',\n",
              " 'CDU/CSU_2005',\n",
              " 'CDU/CSU_2009',\n",
              " 'CDU/CSU_2013',\n",
              " 'CDU/CSU_2017',\n",
              " 'CDU/CSU_2021',\n",
              " 'Die Grünen_1998',\n",
              " 'Die Grünen_2002',\n",
              " 'Die Grünen_2005',\n",
              " 'Die Grünen_2009',\n",
              " 'Die Grünen_2013',\n",
              " 'Die Grünen_2017',\n",
              " 'Die Grünen_2021',\n",
              " 'FDP_1998',\n",
              " 'FDP_2002',\n",
              " 'FDP_2005',\n",
              " 'FDP_2009',\n",
              " 'FDP_2013',\n",
              " 'FDP_2017',\n",
              " 'FDP_2021',\n",
              " 'PDS/Die Linke_1998',\n",
              " 'PDS/Die Linke_2002',\n",
              " 'PDS/Die Linke_2005',\n",
              " 'PDS/Die Linke_2009',\n",
              " 'PDS/Die Linke_2013',\n",
              " 'PDS/Die Linke_2017',\n",
              " 'PDS/Die Linke_2021',\n",
              " 'SPD_1998',\n",
              " 'SPD_2002',\n",
              " 'SPD_2005',\n",
              " 'SPD_2009',\n",
              " 'SPD_2013',\n",
              " 'SPD_2017',\n",
              " 'SPD_2021']"
            ]
          },
          "execution_count": 103,
          "metadata": {},
          "output_type": "execute_result"
        }
      ],
      "source": [
        "labels"
      ]
    },
    {
      "cell_type": "code",
      "execution_count": 102,
      "metadata": {},
      "outputs": [],
      "source": [
        "df.to_csv(\"results/arrays/df_cmp.csv\", index=False)"
      ]
    },
    {
      "cell_type": "code",
      "execution_count": 158,
      "metadata": {},
      "outputs": [],
      "source": [
        "## Save data\n",
        "np.savetxt('results/arrays/umap_s_scaled.csv', umap_s_scaled)\n",
        "np.savetxt('results/arrays/umap_s_embeds.csv', umap_s_embeds)\n"
      ]
    },
    {
      "attachments": {},
      "cell_type": "markdown",
      "metadata": {},
      "source": [
        "### Focus on one issue to show the differences "
      ]
    },
    {
      "cell_type": "code",
      "execution_count": 83,
      "metadata": {},
      "outputs": [
        {
          "name": "stderr",
          "output_type": "stream",
          "text": [
            "Some weights of the model checkpoint at results/multilingual/manifesto_3cl/checkpoint-5688 were not used when initializing XLMRobertaModel: ['classifier.out_proj.weight', 'classifier.out_proj.bias', 'classifier.dense.weight', 'classifier.dense.bias']\n",
            "- This IS expected if you are initializing XLMRobertaModel from the checkpoint of a model trained on another task or with another architecture (e.g. initializing a BertForSequenceClassification model from a BertForPreTraining model).\n",
            "- This IS NOT expected if you are initializing XLMRobertaModel from the checkpoint of a model that you expect to be exactly identical (initializing a BertForSequenceClassification model from a BertForSequenceClassification model).\n",
            "Some weights of XLMRobertaModel were not initialized from the model checkpoint at results/multilingual/manifesto_3cl/checkpoint-5688 and are newly initialized: ['roberta.pooler.dense.bias', 'roberta.pooler.dense.weight']\n",
            "You should probably TRAIN this model on a down-stream task to be able to use it for predictions and inference.\n"
          ]
        }
      ],
      "source": [
        "transformer_model = 'results/multilingual/manifesto_3cl/checkpoint-5688'\n",
        "word_embedding_model = models.Transformer(transformer_model)\n",
        "pooling_model = models.Pooling(word_embedding_model.get_word_embedding_dimension(), 'cls')\n",
        "model = SentenceTransformer(modules=[word_embedding_model, pooling_model]).to(device)"
      ]
    },
    {
      "cell_type": "code",
      "execution_count": 184,
      "metadata": {},
      "outputs": [],
      "source": [
        "manifesto_wf = manifesto[(manifesto['country'] == 'Germany') & (manifesto['code_extract'].isin([504,505]))].reset_index(drop=True)\n"
      ]
    },
    {
      "cell_type": "code",
      "execution_count": 185,
      "metadata": {},
      "outputs": [],
      "source": [
        "manifesto_wf.loc[:,'party_agg'] = manifesto_wf['name'].apply(party_deu)\n",
        "manifesto_wf = manifesto_wf[manifesto_wf.party_agg != 'NA'].reset_index(drop=True)"
      ]
    },
    {
      "cell_type": "code",
      "execution_count": 186,
      "metadata": {},
      "outputs": [],
      "source": [
        "absscale, relscale, logscale, name_ls = cmp_scale(manifesto_wf, group_vars=['party_agg','election'], sent_var='sentiment')"
      ]
    },
    {
      "cell_type": "code",
      "execution_count": 84,
      "metadata": {},
      "outputs": [],
      "source": [
        "document_embed = encode_embeds(manifesto_wf, ['party_agg','election'], model)"
      ]
    },
    {
      "cell_type": "code",
      "execution_count": 85,
      "metadata": {},
      "outputs": [
        {
          "data": {
            "text/plain": [
              "(5307, 768)"
            ]
          },
          "execution_count": 85,
          "metadata": {},
          "output_type": "execute_result"
        }
      ],
      "source": [
        "document_embed.shape"
      ]
    },
    {
      "cell_type": "code",
      "execution_count": 86,
      "metadata": {},
      "outputs": [],
      "source": [
        "enc = OrdinalEncoder()\n",
        "guide_labels = enc.fit_transform(np.array(manifesto_wf['sentiment'].tolist()).reshape(-1,1))"
      ]
    },
    {
      "cell_type": "code",
      "execution_count": 88,
      "metadata": {},
      "outputs": [
        {
          "name": "stdout",
          "output_type": "stream",
          "text": [
            "UMAP(n_epochs=500, n_neighbors=250, random_state=1234, target_weight=0.8, verbose=True)\n",
            "Sat Jun 17 12:24:12 2023 Construct fuzzy simplicial set\n",
            "Sat Jun 17 12:24:12 2023 Finding Nearest Neighbors\n",
            "Sat Jun 17 12:24:12 2023 Building RP forest with 9 trees\n",
            "Sat Jun 17 12:24:12 2023 NN descent for 12 iterations\n",
            "\t 1  /  12\n",
            "\t 2  /  12\n",
            "\t 3  /  12\n",
            "\tStopping threshold met -- exiting after 3 iterations\n",
            "Sat Jun 17 12:24:15 2023 Finished Nearest Neighbor Search\n",
            "Sat Jun 17 12:24:15 2023 Construct embedding\n"
          ]
        },
        {
          "data": {
            "application/vnd.jupyter.widget-view+json": {
              "model_id": "a24d471b064941629c2649b31626ce87",
              "version_major": 2,
              "version_minor": 0
            },
            "text/plain": [
              "Epochs completed:   0%|            0/500 [00:00]"
            ]
          },
          "metadata": {},
          "output_type": "display_data"
        },
        {
          "name": "stdout",
          "output_type": "stream",
          "text": [
            "Sat Jun 17 12:24:32 2023 Finished embedding\n"
          ]
        }
      ],
      "source": [
        "umap_wf_scaled = scale_topic(document_embed=document_embed, n_components=2, random_state=seed_val, guide_labels=guide_labels)"
      ]
    },
    {
      "cell_type": "code",
      "execution_count": 89,
      "metadata": {},
      "outputs": [],
      "source": [
        "emb_mean_dict = {}\n",
        "for name, group in manifesto_wf.groupby(['party_agg','election']):\n",
        "    idx = group.index\n",
        "    embed = umap_wf_scaled[idx]\n",
        "    embed_mean = np.mean(embed, axis=0)\n",
        "    emb_mean_dict.update({name: embed_mean})\n"
      ]
    },
    {
      "cell_type": "code",
      "execution_count": 187,
      "metadata": {},
      "outputs": [
        {
          "ename": "NameError",
          "evalue": "name 'emb_mean_dict' is not defined",
          "output_type": "error",
          "traceback": [
            "\u001b[1;31m---------------------------------------------------------------------------\u001b[0m",
            "\u001b[1;31mNameError\u001b[0m                                 Traceback (most recent call last)",
            "Cell \u001b[1;32mIn[187], line 1\u001b[0m\n\u001b[1;32m----> 1\u001b[0m umap_wf_embeds \u001b[39m=\u001b[39m np\u001b[39m.\u001b[39mstack(\u001b[39mlist\u001b[39m(emb_mean_dict\u001b[39m.\u001b[39mvalues()))\n\u001b[0;32m      2\u001b[0m labels \u001b[39m=\u001b[39m [\u001b[39m'\u001b[39m\u001b[39m_\u001b[39m\u001b[39m'\u001b[39m\u001b[39m.\u001b[39mjoin([\u001b[39mstr\u001b[39m(n) \u001b[39mfor\u001b[39;00m n \u001b[39min\u001b[39;00m name]) \u001b[39mfor\u001b[39;00m name, group \u001b[39min\u001b[39;00m manifesto_wf\u001b[39m.\u001b[39mgroupby([\u001b[39m'\u001b[39m\u001b[39mparty_agg\u001b[39m\u001b[39m'\u001b[39m,\u001b[39m'\u001b[39m\u001b[39melection\u001b[39m\u001b[39m'\u001b[39m])]\n\u001b[0;32m      3\u001b[0m party \u001b[39m=\u001b[39m [lab\u001b[39m.\u001b[39msplit(\u001b[39m'\u001b[39m\u001b[39m_\u001b[39m\u001b[39m'\u001b[39m)[\u001b[39m0\u001b[39m] \u001b[39mfor\u001b[39;00m lab \u001b[39min\u001b[39;00m labels]\n",
            "\u001b[1;31mNameError\u001b[0m: name 'emb_mean_dict' is not defined"
          ]
        }
      ],
      "source": [
        "umap_wf_embeds = np.stack(list(emb_mean_dict.values()))\n",
        "\n",
        "\n"
      ]
    },
    {
      "cell_type": "code",
      "execution_count": 189,
      "metadata": {},
      "outputs": [],
      "source": [
        "labels = ['_'.join([str(n) for n in name]) for name, group in manifesto_wf.groupby(['party_agg','election'])]\n",
        "party = [lab.split('_')[0] for lab in labels]\n",
        "election = [int(lab.split('_')[1]) for lab in labels]\n",
        "#sentiment = [lab.split('_')[2] for lab in labels]\n",
        "df = pd.DataFrame({'party': party, 'election': election, 'lr_prop': relscale, 'lr_log': logscale, 'lr_abs': absscale}) #,'dim2': score[:,1]\n"
      ]
    },
    {
      "cell_type": "code",
      "execution_count": 190,
      "metadata": {},
      "outputs": [],
      "source": [
        "df.to_csv('results/arrays/wf_cmp.csv', index=False)"
      ]
    },
    {
      "cell_type": "code",
      "execution_count": 91,
      "metadata": {},
      "outputs": [
        {
          "data": {
            "text/plain": [
              "array([[ 1.        , -0.97809474],\n",
              "       [-0.97809474,  1.        ]])"
            ]
          },
          "execution_count": 91,
          "metadata": {},
          "output_type": "execute_result"
        }
      ],
      "source": [
        "np.corrcoef(absscale, umap_wf_embeds[:,0])"
      ]
    },
    {
      "cell_type": "code",
      "execution_count": 92,
      "metadata": {},
      "outputs": [
        {
          "data": {
            "image/png": "[encoded data removed]",
            "text/plain": [
              "<Figure size 640x480 with 1 Axes>"
            ]
          },
          "metadata": {},
          "output_type": "display_data"
        }
      ],
      "source": [
        "df = pd.DataFrame({'dim1': umap_wf_embeds[:,0],  'party': party, 'year': year, 'lr_prop': relscale, 'lr_log': logscale, 'lr_abs': absscale}) #,'dim2': score[:,1]\n",
        "import matplotlib.pyplot as plt\n",
        "sns.set_theme()\n",
        "fig, ax = plt.subplots()\n",
        "ax.margins(0.05) # Optional, just adds 5% padding to the autoscaling\n",
        "for name, group in df.groupby('party'):\n",
        "    ax.plot(group.year,group.dim1, marker='o', linestyle='dashed', ms=4, label=name)\n",
        "ax.legend()\n",
        "ax.set_xlabel('Year')\n",
        "ax.set_ylabel('Position')\n",
        "ax.set_title('CMP log scale over time', fontdict={'fontsize':16})\n",
        "plt.plot()\n",
        "plt.savefig('results/tabs and figs/figure5.png', dpi=300)"
      ]
    },
    {
      "cell_type": "code",
      "execution_count": 54,
      "metadata": {},
      "outputs": [
        {
          "data": {
            "text/html": [
              "<div>\n",
              "<style scoped>\n",
              "    .dataframe tbody tr th:only-of-type {\n",
              "        vertical-align: middle;\n",
              "    }\n",
              "\n",
              "    .dataframe tbody tr th {\n",
              "        vertical-align: top;\n",
              "    }\n",
              "\n",
              "    .dataframe thead th {\n",
              "        text-align: right;\n",
              "    }\n",
              "</style>\n",
              "<table border=\"1\" class=\"dataframe\">\n",
              "  <thead>\n",
              "    <tr style=\"text-align: right;\">\n",
              "      <th></th>\n",
              "      <th></th>\n",
              "      <th>text</th>\n",
              "      <th>election</th>\n",
              "      <th>code</th>\n",
              "      <th>pos</th>\n",
              "      <th>party_code</th>\n",
              "      <th>country_code</th>\n",
              "      <th>party</th>\n",
              "      <th>country</th>\n",
              "      <th>name</th>\n",
              "      <th>name_english</th>\n",
              "      <th>code_extract</th>\n",
              "      <th>country_party_election_sentiment</th>\n",
              "    </tr>\n",
              "    <tr>\n",
              "      <th>party_agg</th>\n",
              "      <th>sentiment</th>\n",
              "      <th></th>\n",
              "      <th></th>\n",
              "      <th></th>\n",
              "      <th></th>\n",
              "      <th></th>\n",
              "      <th></th>\n",
              "      <th></th>\n",
              "      <th></th>\n",
              "      <th></th>\n",
              "      <th></th>\n",
              "      <th></th>\n",
              "      <th></th>\n",
              "    </tr>\n",
              "  </thead>\n",
              "  <tbody>\n",
              "    <tr>\n",
              "      <th rowspan=\"2\" valign=\"top\">AfD</th>\n",
              "      <th>left</th>\n",
              "      <td>113</td>\n",
              "      <td>113</td>\n",
              "      <td>113</td>\n",
              "      <td>113</td>\n",
              "      <td>113</td>\n",
              "      <td>113</td>\n",
              "      <td>113</td>\n",
              "      <td>113</td>\n",
              "      <td>113</td>\n",
              "      <td>113</td>\n",
              "      <td>113</td>\n",
              "      <td>113</td>\n",
              "    </tr>\n",
              "    <tr>\n",
              "      <th>right</th>\n",
              "      <td>7</td>\n",
              "      <td>7</td>\n",
              "      <td>7</td>\n",
              "      <td>7</td>\n",
              "      <td>7</td>\n",
              "      <td>7</td>\n",
              "      <td>7</td>\n",
              "      <td>7</td>\n",
              "      <td>7</td>\n",
              "      <td>7</td>\n",
              "      <td>7</td>\n",
              "      <td>7</td>\n",
              "    </tr>\n",
              "    <tr>\n",
              "      <th rowspan=\"2\" valign=\"top\">CDU/CSU</th>\n",
              "      <th>left</th>\n",
              "      <td>543</td>\n",
              "      <td>543</td>\n",
              "      <td>543</td>\n",
              "      <td>543</td>\n",
              "      <td>543</td>\n",
              "      <td>543</td>\n",
              "      <td>543</td>\n",
              "      <td>543</td>\n",
              "      <td>543</td>\n",
              "      <td>543</td>\n",
              "      <td>543</td>\n",
              "      <td>543</td>\n",
              "    </tr>\n",
              "    <tr>\n",
              "      <th>right</th>\n",
              "      <td>68</td>\n",
              "      <td>68</td>\n",
              "      <td>68</td>\n",
              "      <td>68</td>\n",
              "      <td>68</td>\n",
              "      <td>68</td>\n",
              "      <td>68</td>\n",
              "      <td>68</td>\n",
              "      <td>68</td>\n",
              "      <td>68</td>\n",
              "      <td>68</td>\n",
              "      <td>68</td>\n",
              "    </tr>\n",
              "    <tr>\n",
              "      <th rowspan=\"2\" valign=\"top\">Die Grünen</th>\n",
              "      <th>left</th>\n",
              "      <td>1380</td>\n",
              "      <td>1380</td>\n",
              "      <td>1380</td>\n",
              "      <td>1380</td>\n",
              "      <td>1380</td>\n",
              "      <td>1380</td>\n",
              "      <td>1380</td>\n",
              "      <td>1380</td>\n",
              "      <td>1380</td>\n",
              "      <td>1380</td>\n",
              "      <td>1380</td>\n",
              "      <td>1380</td>\n",
              "    </tr>\n",
              "    <tr>\n",
              "      <th>right</th>\n",
              "      <td>21</td>\n",
              "      <td>21</td>\n",
              "      <td>21</td>\n",
              "      <td>21</td>\n",
              "      <td>21</td>\n",
              "      <td>21</td>\n",
              "      <td>21</td>\n",
              "      <td>21</td>\n",
              "      <td>21</td>\n",
              "      <td>21</td>\n",
              "      <td>21</td>\n",
              "      <td>21</td>\n",
              "    </tr>\n",
              "    <tr>\n",
              "      <th rowspan=\"2\" valign=\"top\">FDP</th>\n",
              "      <th>left</th>\n",
              "      <td>457</td>\n",
              "      <td>457</td>\n",
              "      <td>457</td>\n",
              "      <td>457</td>\n",
              "      <td>457</td>\n",
              "      <td>457</td>\n",
              "      <td>457</td>\n",
              "      <td>457</td>\n",
              "      <td>457</td>\n",
              "      <td>457</td>\n",
              "      <td>457</td>\n",
              "      <td>457</td>\n",
              "    </tr>\n",
              "    <tr>\n",
              "      <th>right</th>\n",
              "      <td>284</td>\n",
              "      <td>284</td>\n",
              "      <td>284</td>\n",
              "      <td>284</td>\n",
              "      <td>284</td>\n",
              "      <td>284</td>\n",
              "      <td>284</td>\n",
              "      <td>284</td>\n",
              "      <td>284</td>\n",
              "      <td>284</td>\n",
              "      <td>284</td>\n",
              "      <td>284</td>\n",
              "    </tr>\n",
              "    <tr>\n",
              "      <th rowspan=\"2\" valign=\"top\">PDS/Die Linke</th>\n",
              "      <th>left</th>\n",
              "      <td>1467</td>\n",
              "      <td>1467</td>\n",
              "      <td>1467</td>\n",
              "      <td>1467</td>\n",
              "      <td>1467</td>\n",
              "      <td>1467</td>\n",
              "      <td>1467</td>\n",
              "      <td>1467</td>\n",
              "      <td>1467</td>\n",
              "      <td>1467</td>\n",
              "      <td>1467</td>\n",
              "      <td>1467</td>\n",
              "    </tr>\n",
              "    <tr>\n",
              "      <th>right</th>\n",
              "      <td>2</td>\n",
              "      <td>2</td>\n",
              "      <td>2</td>\n",
              "      <td>2</td>\n",
              "      <td>2</td>\n",
              "      <td>2</td>\n",
              "      <td>2</td>\n",
              "      <td>2</td>\n",
              "      <td>2</td>\n",
              "      <td>2</td>\n",
              "      <td>2</td>\n",
              "      <td>2</td>\n",
              "    </tr>\n",
              "    <tr>\n",
              "      <th rowspan=\"2\" valign=\"top\">SPD</th>\n",
              "      <th>left</th>\n",
              "      <td>916</td>\n",
              "      <td>916</td>\n",
              "      <td>916</td>\n",
              "      <td>916</td>\n",
              "      <td>916</td>\n",
              "      <td>916</td>\n",
              "      <td>916</td>\n",
              "      <td>916</td>\n",
              "      <td>916</td>\n",
              "      <td>916</td>\n",
              "      <td>916</td>\n",
              "      <td>916</td>\n",
              "    </tr>\n",
              "    <tr>\n",
              "      <th>right</th>\n",
              "      <td>49</td>\n",
              "      <td>49</td>\n",
              "      <td>49</td>\n",
              "      <td>49</td>\n",
              "      <td>49</td>\n",
              "      <td>49</td>\n",
              "      <td>49</td>\n",
              "      <td>49</td>\n",
              "      <td>49</td>\n",
              "      <td>49</td>\n",
              "      <td>49</td>\n",
              "      <td>49</td>\n",
              "    </tr>\n",
              "  </tbody>\n",
              "</table>\n",
              "</div>"
            ],
            "text/plain": [
              "                         text  election  code   pos  party_code  country_code  \\\n",
              "party_agg     sentiment                                                         \n",
              "AfD           left        113       113   113   113         113           113   \n",
              "              right         7         7     7     7           7             7   \n",
              "CDU/CSU       left        543       543   543   543         543           543   \n",
              "              right        68        68    68    68          68            68   \n",
              "Die Grünen    left       1380      1380  1380  1380        1380          1380   \n",
              "              right        21        21    21    21          21            21   \n",
              "FDP           left        457       457   457   457         457           457   \n",
              "              right       284       284   284   284         284           284   \n",
              "PDS/Die Linke left       1467      1467  1467  1467        1467          1467   \n",
              "              right         2         2     2     2           2             2   \n",
              "SPD           left        916       916   916   916         916           916   \n",
              "              right        49        49    49    49          49            49   \n",
              "\n",
              "                         party  country  name  name_english  code_extract  \\\n",
              "party_agg     sentiment                                                     \n",
              "AfD           left         113      113   113           113           113   \n",
              "              right          7        7     7             7             7   \n",
              "CDU/CSU       left         543      543   543           543           543   \n",
              "              right         68       68    68            68            68   \n",
              "Die Grünen    left        1380     1380  1380          1380          1380   \n",
              "              right         21       21    21            21            21   \n",
              "FDP           left         457      457   457           457           457   \n",
              "              right        284      284   284           284           284   \n",
              "PDS/Die Linke left        1467     1467  1467          1467          1467   \n",
              "              right          2        2     2             2             2   \n",
              "SPD           left         916      916   916           916           916   \n",
              "              right         49       49    49            49            49   \n",
              "\n",
              "                         country_party_election_sentiment  \n",
              "party_agg     sentiment                                    \n",
              "AfD           left                                    113  \n",
              "              right                                     7  \n",
              "CDU/CSU       left                                    543  \n",
              "              right                                    68  \n",
              "Die Grünen    left                                   1380  \n",
              "              right                                    21  \n",
              "FDP           left                                    457  \n",
              "              right                                   284  \n",
              "PDS/Die Linke left                                   1467  \n",
              "              right                                     2  \n",
              "SPD           left                                    916  \n",
              "              right                                    49  "
            ]
          },
          "execution_count": 54,
          "metadata": {},
          "output_type": "execute_result"
        }
      ],
      "source": [
        "manifesto_wf.groupby(['party_agg','sentiment']).count()"
      ]
    },
    {
      "cell_type": "code",
      "execution_count": 93,
      "metadata": {},
      "outputs": [],
      "source": [
        "## Save data\n",
        "np.savetxt('results/arrays/umap_wf_scaled.csv', umap_wf_scaled)\n",
        "np.savetxt('results/arrays/umap_wf_embeds.csv', umap_wf_embeds)\n"
      ]
    },
    {
      "attachments": {},
      "cell_type": "markdown",
      "metadata": {},
      "source": [
        "## Validation: Comparing embeddings quality through classification performances"
      ]
    },
    {
      "attachments": {},
      "cell_type": "markdown",
      "metadata": {},
      "source": [
        "#### Bags-of-words with TF-IDF"
      ]
    },
    {
      "cell_type": "code",
      "execution_count": 27,
      "metadata": {},
      "outputs": [],
      "source": [
        "## Preprocessing for bag-of-words and word2vec models is a little different (pre-trained)\n",
        "## Tokenizer - use gensim's tokenizer \n",
        "def clean_text(text, stopwords):\n",
        "    custom_filters = [lambda x: x.lower(), strip_tags, strip_punctuation, strip_numeric, strip_multiple_whitespaces]\n",
        "    text = preprocess_string(text, custom_filters)\n",
        "    tokens = [w for w in text if w not in stopwords]\n",
        "    return ' '.join(tokens)\n"
      ]
    },
    {
      "cell_type": "code",
      "execution_count": 80,
      "metadata": {},
      "outputs": [
        {
          "data": {
            "text/plain": [
              "{'France', 'Germany', 'Italy', 'Spain', 'United Kingdom'}"
            ]
          },
          "execution_count": 80,
          "metadata": {},
          "output_type": "execute_result"
        }
      ],
      "source": [
        "set(manifesto_regrouped['country'])"
      ]
    },
    {
      "cell_type": "code",
      "execution_count": 81,
      "metadata": {},
      "outputs": [
        {
          "name": "stdout",
          "output_type": "stream",
          "text": [
            "Cleaning the 0th sentence\n",
            "Cleaning the 1000th sentence\n",
            "Cleaning the 2000th sentence\n",
            "Cleaning the 3000th sentence\n",
            "Cleaning the 4000th sentence\n",
            "Cleaning the 5000th sentence\n",
            "Cleaning the 6000th sentence\n",
            "Cleaning the 7000th sentence\n",
            "Cleaning the 8000th sentence\n",
            "Cleaning the 9000th sentence\n",
            "Cleaning the 10000th sentence\n",
            "Cleaning the 11000th sentence\n",
            "Cleaning the 12000th sentence\n",
            "Cleaning the 13000th sentence\n",
            "Cleaning the 14000th sentence\n",
            "Cleaning the 15000th sentence\n",
            "Cleaning the 16000th sentence\n",
            "Cleaning the 17000th sentence\n",
            "Cleaning the 18000th sentence\n",
            "Cleaning the 19000th sentence\n",
            "Cleaning the 20000th sentence\n",
            "Cleaning the 21000th sentence\n",
            "Cleaning the 22000th sentence\n",
            "Cleaning the 23000th sentence\n",
            "Cleaning the 24000th sentence\n",
            "Cleaning the 25000th sentence\n",
            "Cleaning the 26000th sentence\n",
            "Cleaning the 27000th sentence\n",
            "Cleaning the 28000th sentence\n",
            "Cleaning the 29000th sentence\n",
            "Cleaning the 30000th sentence\n",
            "Cleaning the 31000th sentence\n",
            "Cleaning the 32000th sentence\n",
            "Cleaning the 33000th sentence\n",
            "Cleaning the 34000th sentence\n",
            "Cleaning the 35000th sentence\n",
            "Cleaning the 36000th sentence\n",
            "Cleaning the 37000th sentence\n",
            "Cleaning the 38000th sentence\n",
            "Cleaning the 39000th sentence\n",
            "Cleaning the 40000th sentence\n",
            "Cleaning the 41000th sentence\n",
            "Cleaning the 42000th sentence\n",
            "Cleaning the 43000th sentence\n",
            "Cleaning the 44000th sentence\n",
            "Cleaning the 45000th sentence\n",
            "Cleaning the 46000th sentence\n",
            "Cleaning the 47000th sentence\n",
            "Cleaning the 48000th sentence\n",
            "Cleaning the 49000th sentence\n",
            "Cleaning the 50000th sentence\n",
            "Cleaning the 51000th sentence\n",
            "Cleaning the 52000th sentence\n",
            "Cleaning the 53000th sentence\n",
            "Cleaning the 54000th sentence\n",
            "Cleaning the 55000th sentence\n",
            "Cleaning the 56000th sentence\n",
            "Cleaning the 57000th sentence\n",
            "Cleaning the 58000th sentence\n",
            "Cleaning the 59000th sentence\n",
            "Cleaning the 60000th sentence\n",
            "Cleaning the 61000th sentence\n",
            "Cleaning the 62000th sentence\n",
            "Cleaning the 63000th sentence\n",
            "Cleaning the 64000th sentence\n",
            "Cleaning the 65000th sentence\n",
            "Cleaning the 66000th sentence\n",
            "Cleaning the 67000th sentence\n",
            "Cleaning the 68000th sentence\n",
            "Cleaning the 69000th sentence\n",
            "Cleaning the 70000th sentence\n",
            "Cleaning the 71000th sentence\n",
            "Cleaning the 72000th sentence\n",
            "Cleaning the 73000th sentence\n",
            "Cleaning the 74000th sentence\n",
            "Cleaning the 75000th sentence\n",
            "Cleaning the 76000th sentence\n",
            "Cleaning the 77000th sentence\n",
            "Cleaning the 78000th sentence\n",
            "Cleaning the 79000th sentence\n",
            "Cleaning the 80000th sentence\n",
            "Cleaning the 81000th sentence\n",
            "Cleaning the 82000th sentence\n",
            "Cleaning the 83000th sentence\n",
            "Cleaning the 84000th sentence\n",
            "Cleaning the 85000th sentence\n",
            "Cleaning the 86000th sentence\n",
            "Cleaning the 87000th sentence\n",
            "Cleaning the 88000th sentence\n",
            "Cleaning the 89000th sentence\n",
            "Cleaning the 90000th sentence\n",
            "Cleaning the 91000th sentence\n"
          ]
        }
      ],
      "source": [
        "outputs = []\n",
        "for idx, text in enumerate(manifesto_regrouped['text']):\n",
        "    if idx % 1000 ==0:\n",
        "        print(f'Cleaning the {idx}th sentence')\n",
        "    country = manifesto_regrouped.loc[idx,'country'].lower()\n",
        "    if country == 'france':\n",
        "        outputs.append(clean_text(text, stopwords.words('french')))\n",
        "    elif country == 'germany':\n",
        "        outputs.append(clean_text(text, stopwords.words('german')))\n",
        "    elif country == 'italy':\n",
        "        outputs.append(clean_text(text, stopwords.words('italian')))\n",
        "    elif country == 'spain':\n",
        "        outputs.append(clean_text(text, stopwords.words('spanish')))\n",
        "    else:\n",
        "        outputs.append(clean_text(text, stopwords.words('english')))"
      ]
    },
    {
      "cell_type": "code",
      "execution_count": 82,
      "metadata": {},
      "outputs": [],
      "source": [
        "manifesto_regrouped['text_cleaned'] = outputs"
      ]
    },
    {
      "cell_type": "code",
      "execution_count": 83,
      "metadata": {},
      "outputs": [
        {
          "data": {
            "text/plain": [
              "\"The problem: This country's education has been underfunded and undermined by repeated shifts in policy. Standards are too low, especially in core skills such as reading and maths. Britain is too low in the world league tables.\""
            ]
          },
          "execution_count": 83,
          "metadata": {},
          "output_type": "execute_result"
        }
      ],
      "source": [
        "## Before\n",
        "manifesto_regrouped.loc[0,'text']"
      ]
    },
    {
      "cell_type": "code",
      "execution_count": 84,
      "metadata": {},
      "outputs": [
        {
          "data": {
            "text/plain": [
              "'problem country education underfunded undermined repeated shifts policy standards low especially core skills reading maths britain low world league tables'"
            ]
          },
          "execution_count": 84,
          "metadata": {},
          "output_type": "execute_result"
        }
      ],
      "source": [
        "## After\n",
        "outputs[0]"
      ]
    },
    {
      "cell_type": "code",
      "execution_count": 86,
      "metadata": {},
      "outputs": [],
      "source": [
        "df_train, df_test = train_test_split(manifesto_regrouped, test_size=0.15, stratify = manifesto_regrouped['sentiment'],random_state=seed_val)\n",
        "df_train, df_eval = train_test_split(df_train, test_size=0.3, stratify = df_train['sentiment'], random_state=seed_val)\n",
        "enc = OrdinalEncoder()\n",
        "\n",
        "df_train['labels'] = enc.fit_transform(np.array(df_train['sentiment'].tolist()).reshape(-1,1))\n",
        "df_test['labels'] = enc.fit_transform(np.array(df_test['sentiment'].tolist()).reshape(-1,1))\n",
        "df_eval['labels'] = enc.fit_transform(np.array(df_eval['sentiment'].tolist()).reshape(-1,1))\n",
        "\n",
        "df_train = df_train.reset_index(drop=True)\n",
        "df_eval = df_eval.reset_index(drop=True)\n",
        "df_test = df_test.reset_index(drop=True)\n",
        "\n"
      ]
    },
    {
      "cell_type": "code",
      "execution_count": 87,
      "metadata": {},
      "outputs": [],
      "source": [
        "y_train = np.array(df_train['labels'])\n",
        "y_eval = np.array(df_eval['labels'])\n",
        "y_test = np.array(df_test['labels'])"
      ]
    },
    {
      "cell_type": "code",
      "execution_count": 88,
      "metadata": {},
      "outputs": [],
      "source": [
        "vectorizer = feature_extraction.text.TfidfVectorizer(max_features=10000, ngram_range=(1,2))"
      ]
    },
    {
      "cell_type": "code",
      "execution_count": 95,
      "metadata": {},
      "outputs": [],
      "source": [
        "corp_train = df_train['text_cleaned'].tolist()\n",
        "vectorizer.fit(corp_train)\n",
        "X_train = vectorizer.transform(corp_train)\n",
        "dic_vocabulary = vectorizer.vocabulary_"
      ]
    },
    {
      "cell_type": "code",
      "execution_count": 96,
      "metadata": {},
      "outputs": [],
      "source": [
        "classifier = naive_bayes.MultinomialNB()"
      ]
    },
    {
      "cell_type": "code",
      "execution_count": 97,
      "metadata": {},
      "outputs": [],
      "source": [
        "## pipeline\n",
        "model = pipeline.Pipeline([(\"vectorizer\", vectorizer),  \n",
        "                           (\"classifier\", classifier)])\n",
        "## train classifier\n",
        "model[\"classifier\"].fit(X_train, y_train)\n",
        "## test\n",
        "X_test = df_test[\"text_cleaned\"].tolist()\n",
        "predicted = model.predict(X_test)\n",
        "predicted_prob = model.predict_proba(X_test)"
      ]
    },
    {
      "cell_type": "code",
      "execution_count": 98,
      "metadata": {},
      "outputs": [],
      "source": [
        "precision, recall, f1, _ = precision_recall_fscore_support(y_test, predicted, average=None)\n",
        "matrix = confusion_matrix(y_test, predicted)\n",
        "accuracy = matrix.diagonal()/matrix.sum(axis=1)"
      ]
    },
    {
      "cell_type": "code",
      "execution_count": 99,
      "metadata": {},
      "outputs": [
        {
          "data": {
            "text/html": [
              "<div>\n",
              "<style scoped>\n",
              "    .dataframe tbody tr th:only-of-type {\n",
              "        vertical-align: middle;\n",
              "    }\n",
              "\n",
              "    .dataframe tbody tr th {\n",
              "        vertical-align: top;\n",
              "    }\n",
              "\n",
              "    .dataframe thead th {\n",
              "        text-align: right;\n",
              "    }\n",
              "</style>\n",
              "<table border=\"1\" class=\"dataframe\">\n",
              "  <thead>\n",
              "    <tr style=\"text-align: right;\">\n",
              "      <th></th>\n",
              "      <th>f1</th>\n",
              "      <th>precision</th>\n",
              "      <th>recall</th>\n",
              "      <th>accuracy</th>\n",
              "    </tr>\n",
              "  </thead>\n",
              "  <tbody>\n",
              "    <tr>\n",
              "      <th>0</th>\n",
              "      <td>0.71</td>\n",
              "      <td>0.69</td>\n",
              "      <td>0.73</td>\n",
              "      <td>0.73</td>\n",
              "    </tr>\n",
              "    <tr>\n",
              "      <th>1</th>\n",
              "      <td>0.67</td>\n",
              "      <td>0.67</td>\n",
              "      <td>0.68</td>\n",
              "      <td>0.68</td>\n",
              "    </tr>\n",
              "    <tr>\n",
              "      <th>2</th>\n",
              "      <td>0.50</td>\n",
              "      <td>0.56</td>\n",
              "      <td>0.45</td>\n",
              "      <td>0.45</td>\n",
              "    </tr>\n",
              "  </tbody>\n",
              "</table>\n",
              "</div>"
            ],
            "text/plain": [
              "     f1  precision  recall  accuracy\n",
              "0  0.71       0.69    0.73      0.73\n",
              "1  0.67       0.67    0.68      0.68\n",
              "2  0.50       0.56    0.45      0.45"
            ]
          },
          "execution_count": 99,
          "metadata": {},
          "output_type": "execute_result"
        }
      ],
      "source": [
        "res_table = pd.DataFrame({'f1': np.round(f1,2), 'precision': np.round(precision,2), \n",
        "'recall': np.round(recall,2), 'accuracy': np.round(accuracy,2)})\n",
        "res_table"
      ]
    },
    {
      "cell_type": "code",
      "execution_count": 100,
      "metadata": {},
      "outputs": [
        {
          "data": {
            "text/plain": [
              "f1           0.63\n",
              "precision    0.64\n",
              "recall       0.62\n",
              "accuracy     0.62\n",
              "dtype: float64"
            ]
          },
          "execution_count": 100,
          "metadata": {},
          "output_type": "execute_result"
        }
      ],
      "source": [
        "round(res_table.mean(axis=0),2)"
      ]
    },
    {
      "cell_type": "code",
      "execution_count": 105,
      "metadata": {},
      "outputs": [],
      "source": [
        "## Save vectorizer and model to other variables\n",
        "vect_bow = vectorizer\n",
        "model_bow = model\n"
      ]
    },
    {
      "attachments": {},
      "cell_type": "markdown",
      "metadata": {},
      "source": [
        "#### Doc2Vec\n"
      ]
    },
    {
      "cell_type": "code",
      "execution_count": 57,
      "metadata": {},
      "outputs": [
        {
          "name": "stdout",
          "output_type": "stream",
          "text": [
            "Cleaning the 1th sentence\n",
            "Cleaning the 10001th sentence\n",
            "Cleaning the 20001th sentence\n",
            "Cleaning the 30001th sentence\n",
            "Cleaning the 40001th sentence\n",
            "Cleaning the 50001th sentence\n",
            "Cleaning the 60001th sentence\n",
            "Cleaning the 70001th sentence\n",
            "Cleaning the 80001th sentence\n",
            "Cleaning the 90001th sentence\n"
          ]
        }
      ],
      "source": [
        "## We train word2vec embeddings on the GermaParl dataset before using embeddings for classification\n",
        "outputs = []\n",
        "for idx, text in enumerate(manifesto_regrouped['text']):\n",
        "    if idx % 10000 ==0:\n",
        "        print(f'Cleaning the {idx+1} sentence')\n",
        "    country = manifesto_regrouped.loc[idx,'country'].lower()\n",
        "    if country == 'france':\n",
        "        outputs.append(clean_text(text, stopwords.words('french')))\n",
        "    elif country == 'germany':\n",
        "        outputs.append(clean_text(text, stopwords.words('german')))\n",
        "    elif country == 'italy':\n",
        "        outputs.append(clean_text(text, stopwords.words('italian')))\n",
        "    elif country == 'spain':\n",
        "        outputs.append(clean_text(text, stopwords.words('spanish')))\n",
        "    else:\n",
        "        outputs.append(clean_text(text, stopwords.words('english')))"
      ]
    },
    {
      "cell_type": "code",
      "execution_count": 58,
      "metadata": {},
      "outputs": [],
      "source": [
        "manifesto_regrouped['text_cleaned'] = outputs"
      ]
    },
    {
      "cell_type": "code",
      "execution_count": 59,
      "metadata": {},
      "outputs": [
        {
          "data": {
            "text/html": [
              "<div>\n",
              "<style scoped>\n",
              "    .dataframe tbody tr th:only-of-type {\n",
              "        vertical-align: middle;\n",
              "    }\n",
              "\n",
              "    .dataframe tbody tr th {\n",
              "        vertical-align: top;\n",
              "    }\n",
              "\n",
              "    .dataframe thead th {\n",
              "        text-align: right;\n",
              "    }\n",
              "</style>\n",
              "<table border=\"1\" class=\"dataframe\">\n",
              "  <thead>\n",
              "    <tr style=\"text-align: right;\">\n",
              "      <th></th>\n",
              "      <th>text</th>\n",
              "      <th>country_party_election_sentiment</th>\n",
              "      <th>country</th>\n",
              "      <th>party</th>\n",
              "      <th>election</th>\n",
              "      <th>sentiment</th>\n",
              "      <th>text_cleaned</th>\n",
              "    </tr>\n",
              "  </thead>\n",
              "  <tbody>\n",
              "    <tr>\n",
              "      <th>0</th>\n",
              "      <td>La lotta per l’eliminazione della mafia e dell...</td>\n",
              "      <td>Italy_Rivoluzione Civile_2013_right</td>\n",
              "      <td>Italy</td>\n",
              "      <td>Rivoluzione Civile</td>\n",
              "      <td>2013</td>\n",
              "      <td>right</td>\n",
              "      <td>lotta l’eliminazione mafia corruzione solo obi...</td>\n",
              "    </tr>\n",
              "    <tr>\n",
              "      <th>1</th>\n",
              "      <td>Il debito pubblico italiano deve essere affron...</td>\n",
              "      <td>Italy_Rivoluzione Civile_2013_right</td>\n",
              "      <td>Italy</td>\n",
              "      <td>Rivoluzione Civile</td>\n",
              "      <td>2013</td>\n",
              "      <td>right</td>\n",
              "      <td>debito pubblico italiano deve essere affrontat...</td>\n",
              "    </tr>\n",
              "    <tr>\n",
              "      <th>2</th>\n",
              "      <td>Vanno utilizzate le risorse derivanti dalla lo...</td>\n",
              "      <td>Italy_Rivoluzione Civile_2013_right</td>\n",
              "      <td>Italy</td>\n",
              "      <td>Rivoluzione Civile</td>\n",
              "      <td>2013</td>\n",
              "      <td>right</td>\n",
              "      <td>vanno utilizzate risorse derivanti lotta all’e...</td>\n",
              "    </tr>\n",
              "    <tr>\n",
              "      <th>3</th>\n",
              "      <td>Affligge il nord come il sud d'Italia. Secondo...</td>\n",
              "      <td>Italy_Rivoluzione Civile_2013_right</td>\n",
              "      <td>Italy</td>\n",
              "      <td>Rivoluzione Civile</td>\n",
              "      <td>2013</td>\n",
              "      <td>right</td>\n",
              "      <td>affligge nord sud d italia secondo l’ultimo da...</td>\n",
              "    </tr>\n",
              "    <tr>\n",
              "      <th>4</th>\n",
              "      <td>L’economia che sfugge alle statistiche ufficia...</td>\n",
              "      <td>Italy_Rivoluzione Civile_2013_right</td>\n",
              "      <td>Italy</td>\n",
              "      <td>Rivoluzione Civile</td>\n",
              "      <td>2013</td>\n",
              "      <td>right</td>\n",
              "      <td>l’economia sfugge statistiche ufficiali sfiora...</td>\n",
              "    </tr>\n",
              "  </tbody>\n",
              "</table>\n",
              "</div>"
            ],
            "text/plain": [
              "                                                text  \\\n",
              "0  La lotta per l’eliminazione della mafia e dell...   \n",
              "1  Il debito pubblico italiano deve essere affron...   \n",
              "2  Vanno utilizzate le risorse derivanti dalla lo...   \n",
              "3  Affligge il nord come il sud d'Italia. Secondo...   \n",
              "4  L’economia che sfugge alle statistiche ufficia...   \n",
              "\n",
              "      country_party_election_sentiment country               party election  \\\n",
              "0  Italy_Rivoluzione Civile_2013_right   Italy  Rivoluzione Civile     2013   \n",
              "1  Italy_Rivoluzione Civile_2013_right   Italy  Rivoluzione Civile     2013   \n",
              "2  Italy_Rivoluzione Civile_2013_right   Italy  Rivoluzione Civile     2013   \n",
              "3  Italy_Rivoluzione Civile_2013_right   Italy  Rivoluzione Civile     2013   \n",
              "4  Italy_Rivoluzione Civile_2013_right   Italy  Rivoluzione Civile     2013   \n",
              "\n",
              "  sentiment                                       text_cleaned  \n",
              "0     right  lotta l’eliminazione mafia corruzione solo obi...  \n",
              "1     right  debito pubblico italiano deve essere affrontat...  \n",
              "2     right  vanno utilizzate risorse derivanti lotta all’e...  \n",
              "3     right  affligge nord sud d italia secondo l’ultimo da...  \n",
              "4     right  l’economia sfugge statistiche ufficiali sfiora...  "
            ]
          },
          "execution_count": 59,
          "metadata": {},
          "output_type": "execute_result"
        }
      ],
      "source": [
        "manifesto_regrouped.head()"
      ]
    },
    {
      "cell_type": "code",
      "execution_count": 199,
      "metadata": {},
      "outputs": [],
      "source": [
        "class corpusIterator(object):\n",
        "    def __init__(self, df, bigram=None, trigram=None,text=None,labels=None):\n",
        "        if bigram:\n",
        "            self.bigram = bigram\n",
        "        else:\n",
        "            self.bigram = None\n",
        "        if trigram:\n",
        "            self.trigram = trigram\n",
        "        else:\n",
        "            self.trigram = None\n",
        "        self.df = df\n",
        "    def __iter__(self):\n",
        "        for  index, row in self.df.iterrows():\n",
        "            text = row[text]\n",
        "            labels = row[labels]\n",
        "            tokens = text.split()\n",
        "            if self.bigram and self.trigram:\n",
        "                self.words = self.trigram[self.bigram[tokens]]\n",
        "            elif self.bigram and not self.trigram:\n",
        "                self.words = self.bigram[tokens]\n",
        "            else:\n",
        "                self.words = tokens\n",
        "            yield TaggedDocument(self.words, [labels])\n",
        "            \n",
        "class phraseIterator(object):\n",
        "    def __init__(self, df, text):\n",
        "        self.df = df\n",
        "    def __iter__(self):\n",
        "        for index, row in self.df.iterrows():\n",
        "            text = row[text]\n",
        "            yield text.split()"
      ]
    },
    {
      "cell_type": "code",
      "execution_count": 92,
      "metadata": {},
      "outputs": [],
      "source": [
        "enc = OrdinalEncoder()\n",
        "df_train, df_test = train_test_split(manifesto_regrouped, test_size=0.2, stratify = manifesto_regrouped['sentiment'],random_state=seed_val)\n",
        "\n",
        "df_train['labels'] = enc.fit_transform(np.array(df_train['sentiment'].tolist()).reshape(-1,1))\n",
        "df_test['labels'] = enc.fit_transform(np.array(df_test['sentiment'].tolist()).reshape(-1,1))\n",
        "\n",
        "df_train = df_train.reset_index(drop=True)\n",
        "df_test = df_test.reset_index(drop=True)\n",
        "\n"
      ]
    },
    {
      "cell_type": "code",
      "execution_count": 93,
      "metadata": {},
      "outputs": [
        {
          "data": {
            "text/plain": [
              "77012"
            ]
          },
          "execution_count": 93,
          "metadata": {},
          "output_type": "execute_result"
        }
      ],
      "source": [
        "len(df_train)"
      ]
    },
    {
      "cell_type": "code",
      "execution_count": null,
      "metadata": {},
      "outputs": [],
      "source": [
        "outputs_stream = phraseIterator(df_train)\n",
        "bigram = Phraser(Phrases(outputs_stream, min_count=1, threshold=5))\n",
        "trigram = Phrases(bigram[outputs_stream],  min_count=1, threshold=5)"
      ]
    },
    {
      "cell_type": "code",
      "execution_count": 118,
      "metadata": {},
      "outputs": [],
      "source": [
        "model = Doc2Vec(vector_size=500, window=6, min_count=1, workers=16, epochs=10, seed=seed_val)\n",
        "model.build_vocab(corpusIterator(df_train, bigram=bigram, trigram=trigram))\n"
      ]
    },
    {
      "cell_type": "code",
      "execution_count": 119,
      "metadata": {},
      "outputs": [
        {
          "data": {
            "text/plain": [
              "0"
            ]
          },
          "execution_count": 119,
          "metadata": {},
          "output_type": "execute_result"
        }
      ],
      "source": [
        "model.train(corpusIterator(df_train, bigram=bigram, trigram=trigram), total_examples=model.corpus_count, epochs=model.epochs)"
      ]
    },
    {
      "cell_type": "code",
      "execution_count": 96,
      "metadata": {},
      "outputs": [],
      "source": [
        "model.save(os.path.join('results', 'd2v','d2v_3cl'))"
      ]
    },
    {
      "cell_type": "code",
      "execution_count": 77,
      "metadata": {},
      "outputs": [],
      "source": [
        "from sklearn.linear_model import LogisticRegression"
      ]
    },
    {
      "cell_type": "code",
      "execution_count": 97,
      "metadata": {},
      "outputs": [],
      "source": [
        "def retrieve_vectors(dataset, model):\n",
        "    res = []\n",
        "    for index, row in dataset.iterrows():\n",
        "        text = row['text_cleaned']\n",
        "        infer = model.infer_vector(text.split())\n",
        "        res.append(infer)\n",
        "    return np.array(res)\n"
      ]
    },
    {
      "cell_type": "code",
      "execution_count": 98,
      "metadata": {},
      "outputs": [],
      "source": [
        "## Infer document embeddings from texts\n",
        "X_train = retrieve_vectors(df_train, model)\n",
        "X_test = retrieve_vectors(df_test, model)\n",
        "y_train = df_train['labels'].tolist()\n",
        "y_test = df_test['labels'].tolist()"
      ]
    },
    {
      "cell_type": "code",
      "execution_count": 102,
      "metadata": {},
      "outputs": [],
      "source": [
        "## Classifier\n",
        "classifier = LogisticRegression(random_state = seed_val, max_iter=10000)"
      ]
    },
    {
      "cell_type": "code",
      "execution_count": 103,
      "metadata": {},
      "outputs": [],
      "source": [
        "clf = classifier.fit(X_train,y_train)\n",
        "predicted = clf.predict(X_test)\n"
      ]
    },
    {
      "cell_type": "code",
      "execution_count": 106,
      "metadata": {},
      "outputs": [],
      "source": [
        "precision, recall, f1, _ = precision_recall_fscore_support(y_test, predicted, average=None)\n",
        "matrix = confusion_matrix(y_test, predicted)\n",
        "accuracy = matrix.diagonal()/matrix.sum(axis=1)"
      ]
    },
    {
      "cell_type": "code",
      "execution_count": 107,
      "metadata": {},
      "outputs": [
        {
          "data": {
            "text/html": [
              "<div>\n",
              "<style scoped>\n",
              "    .dataframe tbody tr th:only-of-type {\n",
              "        vertical-align: middle;\n",
              "    }\n",
              "\n",
              "    .dataframe tbody tr th {\n",
              "        vertical-align: top;\n",
              "    }\n",
              "\n",
              "    .dataframe thead th {\n",
              "        text-align: right;\n",
              "    }\n",
              "</style>\n",
              "<table border=\"1\" class=\"dataframe\">\n",
              "  <thead>\n",
              "    <tr style=\"text-align: right;\">\n",
              "      <th></th>\n",
              "      <th>f1</th>\n",
              "      <th>precision</th>\n",
              "      <th>recall</th>\n",
              "      <th>accuracy</th>\n",
              "    </tr>\n",
              "  </thead>\n",
              "  <tbody>\n",
              "    <tr>\n",
              "      <th>0</th>\n",
              "      <td>0.61</td>\n",
              "      <td>0.59</td>\n",
              "      <td>0.63</td>\n",
              "      <td>0.63</td>\n",
              "    </tr>\n",
              "    <tr>\n",
              "      <th>1</th>\n",
              "      <td>0.59</td>\n",
              "      <td>0.56</td>\n",
              "      <td>0.64</td>\n",
              "      <td>0.64</td>\n",
              "    </tr>\n",
              "    <tr>\n",
              "      <th>2</th>\n",
              "      <td>0.34</td>\n",
              "      <td>0.47</td>\n",
              "      <td>0.26</td>\n",
              "      <td>0.26</td>\n",
              "    </tr>\n",
              "  </tbody>\n",
              "</table>\n",
              "</div>"
            ],
            "text/plain": [
              "     f1  precision  recall  accuracy\n",
              "0  0.61       0.59    0.63      0.63\n",
              "1  0.59       0.56    0.64      0.64\n",
              "2  0.34       0.47    0.26      0.26"
            ]
          },
          "execution_count": 107,
          "metadata": {},
          "output_type": "execute_result"
        }
      ],
      "source": [
        "res_table = pd.DataFrame({'f1': np.round(f1,2), 'precision': np.round(precision,2), \n",
        "'recall': np.round(recall,2), 'accuracy': np.round(accuracy,2)})\n",
        "res_table"
      ]
    },
    {
      "cell_type": "code",
      "execution_count": 109,
      "metadata": {},
      "outputs": [
        {
          "data": {
            "text/plain": [
              "f1           0.51\n",
              "precision    0.54\n",
              "recall       0.51\n",
              "accuracy     0.51\n",
              "dtype: float64"
            ]
          },
          "execution_count": 109,
          "metadata": {},
          "output_type": "execute_result"
        }
      ],
      "source": [
        "round(res_table.mean(axis=0),2)"
      ]
    },
    {
      "cell_type": "code",
      "execution_count": 56,
      "metadata": {},
      "outputs": [],
      "source": [
        "def d2v_reduct(model):\n",
        "    keys = [k for k in model.dv.index_to_key]\n",
        "    M = model.vector_size\n",
        "    P = len(keys)\n",
        "    embed_dict = {}\n",
        "    for i in range( P ):\n",
        "        embed_dict.update({keys[i]: model.dv[keys[i]]})   \n",
        "    return embed_dict\n",
        "\n"
      ]
    },
    {
      "attachments": {},
      "cell_type": "markdown",
      "metadata": {},
      "source": [
        "#### Doc2Vec scaling (Rheault and Cochrane 2020 implementation) - Germany only"
      ]
    },
    {
      "cell_type": "code",
      "execution_count": 109,
      "metadata": {},
      "outputs": [
        {
          "name": "stdout",
          "output_type": "stream",
          "text": [
            "Cleaning the 1 sentence\n",
            "Cleaning the 10001 sentence\n",
            "Cleaning the 20001 sentence\n",
            "Cleaning the 30001 sentence\n",
            "Cleaning the 40001 sentence\n",
            "Cleaning the 50001 sentence\n",
            "Cleaning the 60001 sentence\n",
            "Cleaning the 70001 sentence\n",
            "Cleaning the 80001 sentence\n",
            "Cleaning the 90001 sentence\n"
          ]
        }
      ],
      "source": [
        "## We train word2vec embeddings on the GermaParl dataset before using embeddings for classification\n",
        "outputs = []\n",
        "for idx, text in enumerate(manifesto_regrouped['text']):\n",
        "    if idx % 10000 ==0:\n",
        "        print(f'Cleaning the {idx+1} sentence')\n",
        "    country = manifesto_regrouped.loc[idx,'country'].lower()\n",
        "    if country == 'france':\n",
        "        outputs.append(clean_text(text, stopwords.words('french')))\n",
        "    elif country == 'germany':\n",
        "        outputs.append(clean_text(text, stopwords.words('german')))\n",
        "    elif country == 'italy':\n",
        "        outputs.append(clean_text(text, stopwords.words('italian')))\n",
        "    elif country == 'spain':\n",
        "        outputs.append(clean_text(text, stopwords.words('spanish')))\n",
        "    else:\n",
        "        outputs.append(clean_text(text, stopwords.words('english')))"
      ]
    },
    {
      "cell_type": "code",
      "execution_count": 110,
      "metadata": {},
      "outputs": [],
      "source": [
        "manifesto_regrouped['text_cleaned'] = outputs"
      ]
    },
    {
      "cell_type": "code",
      "execution_count": 123,
      "metadata": {},
      "outputs": [],
      "source": [
        "manifesto_deu = manifesto_regrouped[manifesto_regrouped.country == 'Germany'].reset_index(drop=True)\n",
        "manifesto_deu['party_agg'] = manifesto_deu['party'].apply(party_deu)\n",
        "manifesto_deu = manifesto_deu[manifesto_deu.party_agg != 'NA'].reset_index(drop=True)\n"
      ]
    },
    {
      "cell_type": "code",
      "execution_count": 124,
      "metadata": {},
      "outputs": [
        {
          "data": {
            "text/html": [
              "<div>\n",
              "<style scoped>\n",
              "    .dataframe tbody tr th:only-of-type {\n",
              "        vertical-align: middle;\n",
              "    }\n",
              "\n",
              "    .dataframe tbody tr th {\n",
              "        vertical-align: top;\n",
              "    }\n",
              "\n",
              "    .dataframe thead th {\n",
              "        text-align: right;\n",
              "    }\n",
              "</style>\n",
              "<table border=\"1\" class=\"dataframe\">\n",
              "  <thead>\n",
              "    <tr style=\"text-align: right;\">\n",
              "      <th></th>\n",
              "      <th>text</th>\n",
              "      <th>country_party_election_sentiment</th>\n",
              "      <th>country</th>\n",
              "      <th>party</th>\n",
              "      <th>election</th>\n",
              "      <th>sentiment</th>\n",
              "      <th>text_cleaned</th>\n",
              "      <th>party_agg</th>\n",
              "    </tr>\n",
              "  </thead>\n",
              "  <tbody>\n",
              "    <tr>\n",
              "      <th>0</th>\n",
              "      <td>auf Freizeitangebote und soziale Betreuung Jug...</td>\n",
              "      <td>Germany_Christlich-Demokratische Union/Christl...</td>\n",
              "      <td>Germany</td>\n",
              "      <td>Christlich-Demokratische Union/Christlich-Sozi...</td>\n",
              "      <td>1998</td>\n",
              "      <td>neutral</td>\n",
              "      <td>freizeitangebote soziale betreuung jugendliche...</td>\n",
              "      <td>CDU/CSU</td>\n",
              "    </tr>\n",
              "    <tr>\n",
              "      <th>1</th>\n",
              "      <td>Wir wollen diese kulturelle Vielfalt, die die ...</td>\n",
              "      <td>Germany_Christlich-Demokratische Union/Christl...</td>\n",
              "      <td>Germany</td>\n",
              "      <td>Christlich-Demokratische Union/Christlich-Sozi...</td>\n",
              "      <td>1998</td>\n",
              "      <td>neutral</td>\n",
              "      <td>kulturelle vielfalt besondere lebensqualität u...</td>\n",
              "      <td>CDU/CSU</td>\n",
              "    </tr>\n",
              "    <tr>\n",
              "      <th>2</th>\n",
              "      <td>Wir werden alles daran setzen, diese ausgewoge...</td>\n",
              "      <td>Germany_Christlich-Demokratische Union/Christl...</td>\n",
              "      <td>Germany</td>\n",
              "      <td>Christlich-Demokratische Union/Christlich-Sozi...</td>\n",
              "      <td>1998</td>\n",
              "      <td>neutral</td>\n",
              "      <td>daran setzen ausgewogene struktur erhalten set...</td>\n",
              "      <td>CDU/CSU</td>\n",
              "    </tr>\n",
              "    <tr>\n",
              "      <th>3</th>\n",
              "      <td>Die Zuständigkeiten sollen möglichst bürgernah...</td>\n",
              "      <td>Germany_Christlich-Demokratische Union/Christl...</td>\n",
              "      <td>Germany</td>\n",
              "      <td>Christlich-Demokratische Union/Christlich-Sozi...</td>\n",
              "      <td>1998</td>\n",
              "      <td>neutral</td>\n",
              "      <td>zuständigkeiten sollen möglichst bürgernah ber...</td>\n",
              "      <td>CDU/CSU</td>\n",
              "    </tr>\n",
              "    <tr>\n",
              "      <th>4</th>\n",
              "      <td>Die über­mäßige Ansiedlung großflächiger Einka...</td>\n",
              "      <td>Germany_Christlich-Demokratische Union/Christl...</td>\n",
              "      <td>Germany</td>\n",
              "      <td>Christlich-Demokratische Union/Christlich-Sozi...</td>\n",
              "      <td>1998</td>\n",
              "      <td>neutral</td>\n",
              "      <td>über­mäßige ansiedlung großflächiger einkaufsz...</td>\n",
              "      <td>CDU/CSU</td>\n",
              "    </tr>\n",
              "    <tr>\n",
              "      <th>...</th>\n",
              "      <td>...</td>\n",
              "      <td>...</td>\n",
              "      <td>...</td>\n",
              "      <td>...</td>\n",
              "      <td>...</td>\n",
              "      <td>...</td>\n",
              "      <td>...</td>\n",
              "      <td>...</td>\n",
              "    </tr>\n",
              "    <tr>\n",
              "      <th>26091</th>\n",
              "      <td>und den Internationalen Strafgerichtshof stärk...</td>\n",
              "      <td>Germany_Sozialdemokratische Partei Deutschland...</td>\n",
              "      <td>Germany</td>\n",
              "      <td>Sozialdemokratische Partei Deutschlands</td>\n",
              "      <td>2021</td>\n",
              "      <td>left</td>\n",
              "      <td>internationalen strafgerichtshof stärken anstr...</td>\n",
              "      <td>SPD</td>\n",
              "    </tr>\n",
              "    <tr>\n",
              "      <th>26092</th>\n",
              "      <td>Förderung nachhaltiger Entwicklung Wir wissen:...</td>\n",
              "      <td>Germany_Sozialdemokratische Partei Deutschland...</td>\n",
              "      <td>Germany</td>\n",
              "      <td>Sozialdemokratische Partei Deutschlands</td>\n",
              "      <td>2021</td>\n",
              "      <td>left</td>\n",
              "      <td>förderung nachhaltiger entwicklung wissen refo...</td>\n",
              "      <td>SPD</td>\n",
              "    </tr>\n",
              "    <tr>\n",
              "      <th>26093</th>\n",
              "      <td>Unser Ziel ist ein ständiger europäischer Sitz...</td>\n",
              "      <td>Germany_Sozialdemokratische Partei Deutschland...</td>\n",
              "      <td>Germany</td>\n",
              "      <td>Sozialdemokratische Partei Deutschlands</td>\n",
              "      <td>2021</td>\n",
              "      <td>left</td>\n",
              "      <td>ziel ständiger europäischer sitz angemessene r...</td>\n",
              "      <td>SPD</td>\n",
              "    </tr>\n",
              "    <tr>\n",
              "      <th>26094</th>\n",
              "      <td>mit klimaneutralen Produkten und Technologien,...</td>\n",
              "      <td>Germany_Sozialdemokratische Partei Deutschland...</td>\n",
              "      <td>Germany</td>\n",
              "      <td>Sozialdemokratische Partei Deutschlands</td>\n",
              "      <td>2021</td>\n",
              "      <td>left</td>\n",
              "      <td>klimaneutralen produkten technologien möglichk...</td>\n",
              "      <td>SPD</td>\n",
              "    </tr>\n",
              "    <tr>\n",
              "      <th>26095</th>\n",
              "      <td>Wir wollen Frieden sichern. Aus einer starken ...</td>\n",
              "      <td>Germany_Sozialdemokratische Partei Deutschland...</td>\n",
              "      <td>Germany</td>\n",
              "      <td>Sozialdemokratische Partei Deutschlands</td>\n",
              "      <td>2021</td>\n",
              "      <td>left</td>\n",
              "      <td>frieden sichern starken europäischen gemeinsch...</td>\n",
              "      <td>SPD</td>\n",
              "    </tr>\n",
              "  </tbody>\n",
              "</table>\n",
              "<p>26096 rows × 8 columns</p>\n",
              "</div>"
            ],
            "text/plain": [
              "                                                    text  \\\n",
              "0      auf Freizeitangebote und soziale Betreuung Jug...   \n",
              "1      Wir wollen diese kulturelle Vielfalt, die die ...   \n",
              "2      Wir werden alles daran setzen, diese ausgewoge...   \n",
              "3      Die Zuständigkeiten sollen möglichst bürgernah...   \n",
              "4      Die über­mäßige Ansiedlung großflächiger Einka...   \n",
              "...                                                  ...   \n",
              "26091  und den Internationalen Strafgerichtshof stärk...   \n",
              "26092  Förderung nachhaltiger Entwicklung Wir wissen:...   \n",
              "26093  Unser Ziel ist ein ständiger europäischer Sitz...   \n",
              "26094  mit klimaneutralen Produkten und Technologien,...   \n",
              "26095  Wir wollen Frieden sichern. Aus einer starken ...   \n",
              "\n",
              "                        country_party_election_sentiment  country  \\\n",
              "0      Germany_Christlich-Demokratische Union/Christl...  Germany   \n",
              "1      Germany_Christlich-Demokratische Union/Christl...  Germany   \n",
              "2      Germany_Christlich-Demokratische Union/Christl...  Germany   \n",
              "3      Germany_Christlich-Demokratische Union/Christl...  Germany   \n",
              "4      Germany_Christlich-Demokratische Union/Christl...  Germany   \n",
              "...                                                  ...      ...   \n",
              "26091  Germany_Sozialdemokratische Partei Deutschland...  Germany   \n",
              "26092  Germany_Sozialdemokratische Partei Deutschland...  Germany   \n",
              "26093  Germany_Sozialdemokratische Partei Deutschland...  Germany   \n",
              "26094  Germany_Sozialdemokratische Partei Deutschland...  Germany   \n",
              "26095  Germany_Sozialdemokratische Partei Deutschland...  Germany   \n",
              "\n",
              "                                                   party election sentiment  \\\n",
              "0      Christlich-Demokratische Union/Christlich-Sozi...     1998   neutral   \n",
              "1      Christlich-Demokratische Union/Christlich-Sozi...     1998   neutral   \n",
              "2      Christlich-Demokratische Union/Christlich-Sozi...     1998   neutral   \n",
              "3      Christlich-Demokratische Union/Christlich-Sozi...     1998   neutral   \n",
              "4      Christlich-Demokratische Union/Christlich-Sozi...     1998   neutral   \n",
              "...                                                  ...      ...       ...   \n",
              "26091            Sozialdemokratische Partei Deutschlands     2021      left   \n",
              "26092            Sozialdemokratische Partei Deutschlands     2021      left   \n",
              "26093            Sozialdemokratische Partei Deutschlands     2021      left   \n",
              "26094            Sozialdemokratische Partei Deutschlands     2021      left   \n",
              "26095            Sozialdemokratische Partei Deutschlands     2021      left   \n",
              "\n",
              "                                            text_cleaned party_agg  \n",
              "0      freizeitangebote soziale betreuung jugendliche...   CDU/CSU  \n",
              "1      kulturelle vielfalt besondere lebensqualität u...   CDU/CSU  \n",
              "2      daran setzen ausgewogene struktur erhalten set...   CDU/CSU  \n",
              "3      zuständigkeiten sollen möglichst bürgernah ber...   CDU/CSU  \n",
              "4      über­mäßige ansiedlung großflächiger einkaufsz...   CDU/CSU  \n",
              "...                                                  ...       ...  \n",
              "26091  internationalen strafgerichtshof stärken anstr...       SPD  \n",
              "26092  förderung nachhaltiger entwicklung wissen refo...       SPD  \n",
              "26093  ziel ständiger europäischer sitz angemessene r...       SPD  \n",
              "26094  klimaneutralen produkten technologien möglichk...       SPD  \n",
              "26095  frieden sichern starken europäischen gemeinsch...       SPD  \n",
              "\n",
              "[26096 rows x 8 columns]"
            ]
          },
          "execution_count": 124,
          "metadata": {},
          "output_type": "execute_result"
        }
      ],
      "source": [
        "manifesto_deu"
      ]
    },
    {
      "cell_type": "code",
      "execution_count": 125,
      "metadata": {},
      "outputs": [],
      "source": [
        "manifesto_deu['party_election'] = manifesto_deu.party_agg.str.cat(others=[manifesto_deu.election.astype(str)], sep='_')"
      ]
    },
    {
      "cell_type": "code",
      "execution_count": 114,
      "metadata": {},
      "outputs": [],
      "source": [
        "class corpusIterator(object):\n",
        "    def __init__(self, df, bigram=None, trigram=None,text=None,labels=None):\n",
        "        if bigram:\n",
        "            self.bigram = bigram\n",
        "        else:\n",
        "            self.bigram = None\n",
        "        if trigram:\n",
        "            self.trigram = trigram\n",
        "        else:\n",
        "            self.trigram = None\n",
        "        self.df = df\n",
        "        self.text = text\n",
        "        self.labels = labels\n",
        "    def __iter__(self):\n",
        "        for  index, row in self.df.iterrows():\n",
        "            text = row[self.text]\n",
        "            labels = row[self.labels]\n",
        "            tokens = text.split()\n",
        "            if self.bigram and self.trigram:\n",
        "                self.words = self.trigram[self.bigram[tokens]]\n",
        "            elif self.bigram and not self.trigram:\n",
        "                self.words = self.bigram[tokens]\n",
        "            else:\n",
        "                self.words = tokens\n",
        "            yield TaggedDocument(self.words, [labels])\n",
        "            \n",
        "class phraseIterator(object):\n",
        "    def __init__(self, df, text):\n",
        "        self.df = df\n",
        "        self.text = text\n",
        "    def __iter__(self):\n",
        "        for index, row in self.df.iterrows():\n",
        "            text = row[self.text]\n",
        "            yield text.split()"
      ]
    },
    {
      "cell_type": "code",
      "execution_count": 126,
      "metadata": {},
      "outputs": [],
      "source": [
        "outputs_stream = phraseIterator(manifesto_deu,'text_cleaned')\n",
        "bigram = Phraser(Phrases(outputs_stream, min_count=1, threshold=5))\n",
        "trigram = Phrases(bigram[outputs_stream],  min_count=1, threshold=5)"
      ]
    },
    {
      "cell_type": "code",
      "execution_count": 127,
      "metadata": {},
      "outputs": [],
      "source": [
        "model = Doc2Vec(vector_size=500, window=6, min_count=1, workers=16, epochs=10, seed=seed_val)\n",
        "model.build_vocab(corpusIterator(manifesto_deu, bigram=bigram, trigram=trigram, text='text_cleaned',labels='party_election'))\n"
      ]
    },
    {
      "cell_type": "code",
      "execution_count": 128,
      "metadata": {},
      "outputs": [],
      "source": [
        "model.train(corpusIterator(manifesto_deu, bigram=bigram, trigram=trigram,text='text_cleaned',labels='party_election'), total_examples=model.corpus_count, epochs=10)"
      ]
    },
    {
      "cell_type": "code",
      "execution_count": 118,
      "metadata": {},
      "outputs": [],
      "source": [
        "def d2v_reduct(model):\n",
        "    keys = [k for k in model.dv.index_to_key]\n",
        "    M = model.vector_size\n",
        "    P = len(keys)\n",
        "    embed_dict = {}\n",
        "    for i in range( P ):\n",
        "        embed_dict.update({keys[i]: model.dv[keys[i]]})   \n",
        "    return embed_dict\n",
        "\n"
      ]
    },
    {
      "cell_type": "code",
      "execution_count": 129,
      "metadata": {},
      "outputs": [],
      "source": [
        "embed_dict = d2v_reduct(model)"
      ]
    },
    {
      "cell_type": "code",
      "execution_count": 152,
      "metadata": {},
      "outputs": [],
      "source": [
        "dv_d2v = pd.DataFrame.from_dict(embed_dict).transpose()\n",
        "dv_d2v.index.name = 'party_election'\n",
        "dv_d2v.reset_index(inplace=True)"
      ]
    },
    {
      "cell_type": "code",
      "execution_count": 153,
      "metadata": {},
      "outputs": [],
      "source": [
        "pca = PCA(n_components=2, random_state=seed_val)"
      ]
    },
    {
      "cell_type": "code",
      "execution_count": 154,
      "metadata": {},
      "outputs": [],
      "source": [
        "dv_d2v[['d2v_d1', 'd2v_d2']] = pca.fit_transform(dv_d2v.iloc[:,1:])"
      ]
    },
    {
      "cell_type": "code",
      "execution_count": 155,
      "metadata": {},
      "outputs": [],
      "source": [
        "dv_d2v = dv_d2v[['party_election','d2v_d1', 'd2v_d2']]"
      ]
    },
    {
      "cell_type": "code",
      "execution_count": 156,
      "metadata": {},
      "outputs": [
        {
          "data": {
            "text/html": [
              "<div>\n",
              "<style scoped>\n",
              "    .dataframe tbody tr th:only-of-type {\n",
              "        vertical-align: middle;\n",
              "    }\n",
              "\n",
              "    .dataframe tbody tr th {\n",
              "        vertical-align: top;\n",
              "    }\n",
              "\n",
              "    .dataframe thead th {\n",
              "        text-align: right;\n",
              "    }\n",
              "</style>\n",
              "<table border=\"1\" class=\"dataframe\">\n",
              "  <thead>\n",
              "    <tr style=\"text-align: right;\">\n",
              "      <th></th>\n",
              "      <th>party_election</th>\n",
              "      <th>d2v_d1</th>\n",
              "      <th>d2v_d2</th>\n",
              "    </tr>\n",
              "  </thead>\n",
              "  <tbody>\n",
              "    <tr>\n",
              "      <th>0</th>\n",
              "      <td>CDU/CSU_1998</td>\n",
              "      <td>-4.754961</td>\n",
              "      <td>-1.536211</td>\n",
              "    </tr>\n",
              "    <tr>\n",
              "      <th>1</th>\n",
              "      <td>AfD_2021</td>\n",
              "      <td>-0.181981</td>\n",
              "      <td>-9.742591</td>\n",
              "    </tr>\n",
              "    <tr>\n",
              "      <th>2</th>\n",
              "      <td>FDP_2005</td>\n",
              "      <td>-6.744800</td>\n",
              "      <td>-9.437745</td>\n",
              "    </tr>\n",
              "    <tr>\n",
              "      <th>3</th>\n",
              "      <td>PDS/Die Linke_2021</td>\n",
              "      <td>34.486340</td>\n",
              "      <td>-1.770583</td>\n",
              "    </tr>\n",
              "    <tr>\n",
              "      <th>4</th>\n",
              "      <td>SPD_1998</td>\n",
              "      <td>-5.817554</td>\n",
              "      <td>-3.670118</td>\n",
              "    </tr>\n",
              "    <tr>\n",
              "      <th>5</th>\n",
              "      <td>PDS/Die Linke_2009</td>\n",
              "      <td>9.045391</td>\n",
              "      <td>-5.047092</td>\n",
              "    </tr>\n",
              "    <tr>\n",
              "      <th>6</th>\n",
              "      <td>SPD_2017</td>\n",
              "      <td>-3.000207</td>\n",
              "      <td>10.644112</td>\n",
              "    </tr>\n",
              "    <tr>\n",
              "      <th>7</th>\n",
              "      <td>AfD_2017</td>\n",
              "      <td>-0.133459</td>\n",
              "      <td>-4.795351</td>\n",
              "    </tr>\n",
              "    <tr>\n",
              "      <th>8</th>\n",
              "      <td>CDU/CSU_2017</td>\n",
              "      <td>-6.836080</td>\n",
              "      <td>4.533677</td>\n",
              "    </tr>\n",
              "    <tr>\n",
              "      <th>9</th>\n",
              "      <td>PDS/Die Linke_2002</td>\n",
              "      <td>1.305665</td>\n",
              "      <td>-3.941261</td>\n",
              "    </tr>\n",
              "    <tr>\n",
              "      <th>10</th>\n",
              "      <td>CDU/CSU_2009</td>\n",
              "      <td>-11.578842</td>\n",
              "      <td>4.255840</td>\n",
              "    </tr>\n",
              "    <tr>\n",
              "      <th>11</th>\n",
              "      <td>PDS/Die Linke_2013</td>\n",
              "      <td>16.885695</td>\n",
              "      <td>-7.163488</td>\n",
              "    </tr>\n",
              "    <tr>\n",
              "      <th>12</th>\n",
              "      <td>SPD_2002</td>\n",
              "      <td>-7.222678</td>\n",
              "      <td>-0.984900</td>\n",
              "    </tr>\n",
              "    <tr>\n",
              "      <th>13</th>\n",
              "      <td>SPD_2013</td>\n",
              "      <td>-3.945857</td>\n",
              "      <td>3.602021</td>\n",
              "    </tr>\n",
              "    <tr>\n",
              "      <th>14</th>\n",
              "      <td>PDS/Die Linke_2005</td>\n",
              "      <td>2.111730</td>\n",
              "      <td>-2.317226</td>\n",
              "    </tr>\n",
              "    <tr>\n",
              "      <th>15</th>\n",
              "      <td>SPD_2009</td>\n",
              "      <td>-6.602752</td>\n",
              "      <td>-0.438506</td>\n",
              "    </tr>\n",
              "    <tr>\n",
              "      <th>16</th>\n",
              "      <td>FDP_2009</td>\n",
              "      <td>-9.058606</td>\n",
              "      <td>-8.159441</td>\n",
              "    </tr>\n",
              "    <tr>\n",
              "      <th>17</th>\n",
              "      <td>FDP_2002</td>\n",
              "      <td>-10.046961</td>\n",
              "      <td>-10.990233</td>\n",
              "    </tr>\n",
              "    <tr>\n",
              "      <th>18</th>\n",
              "      <td>FDP_2013</td>\n",
              "      <td>-10.696202</td>\n",
              "      <td>3.313930</td>\n",
              "    </tr>\n",
              "    <tr>\n",
              "      <th>19</th>\n",
              "      <td>SPD_2021</td>\n",
              "      <td>1.207496</td>\n",
              "      <td>8.998433</td>\n",
              "    </tr>\n",
              "    <tr>\n",
              "      <th>20</th>\n",
              "      <td>FDP_2017</td>\n",
              "      <td>-3.574386</td>\n",
              "      <td>2.450849</td>\n",
              "    </tr>\n",
              "    <tr>\n",
              "      <th>21</th>\n",
              "      <td>SPD_2005</td>\n",
              "      <td>-4.073336</td>\n",
              "      <td>0.546353</td>\n",
              "    </tr>\n",
              "    <tr>\n",
              "      <th>22</th>\n",
              "      <td>Die Grünen_1998</td>\n",
              "      <td>2.852814</td>\n",
              "      <td>-13.381242</td>\n",
              "    </tr>\n",
              "    <tr>\n",
              "      <th>23</th>\n",
              "      <td>Die Grünen_2021</td>\n",
              "      <td>9.585603</td>\n",
              "      <td>24.801083</td>\n",
              "    </tr>\n",
              "    <tr>\n",
              "      <th>24</th>\n",
              "      <td>CDU/CSU_2021</td>\n",
              "      <td>-10.073697</td>\n",
              "      <td>14.781880</td>\n",
              "    </tr>\n",
              "    <tr>\n",
              "      <th>25</th>\n",
              "      <td>CDU/CSU_2002</td>\n",
              "      <td>-7.352060</td>\n",
              "      <td>-1.833787</td>\n",
              "    </tr>\n",
              "    <tr>\n",
              "      <th>26</th>\n",
              "      <td>FDP_1998</td>\n",
              "      <td>-8.694844</td>\n",
              "      <td>-11.278744</td>\n",
              "    </tr>\n",
              "    <tr>\n",
              "      <th>27</th>\n",
              "      <td>Die Grünen_2017</td>\n",
              "      <td>14.427578</td>\n",
              "      <td>18.839909</td>\n",
              "    </tr>\n",
              "    <tr>\n",
              "      <th>28</th>\n",
              "      <td>AfD_2013</td>\n",
              "      <td>-0.485756</td>\n",
              "      <td>-0.745246</td>\n",
              "    </tr>\n",
              "    <tr>\n",
              "      <th>29</th>\n",
              "      <td>Die Grünen_2005</td>\n",
              "      <td>0.039855</td>\n",
              "      <td>-1.282879</td>\n",
              "    </tr>\n",
              "    <tr>\n",
              "      <th>30</th>\n",
              "      <td>CDU/CSU_2013</td>\n",
              "      <td>-12.295429</td>\n",
              "      <td>9.793062</td>\n",
              "    </tr>\n",
              "    <tr>\n",
              "      <th>31</th>\n",
              "      <td>Die Grünen_2009</td>\n",
              "      <td>8.060872</td>\n",
              "      <td>0.999392</td>\n",
              "    </tr>\n",
              "    <tr>\n",
              "      <th>32</th>\n",
              "      <td>FDP_2021</td>\n",
              "      <td>-3.938491</td>\n",
              "      <td>4.194108</td>\n",
              "    </tr>\n",
              "    <tr>\n",
              "      <th>33</th>\n",
              "      <td>PDS/Die Linke_2017</td>\n",
              "      <td>27.692705</td>\n",
              "      <td>-10.736106</td>\n",
              "    </tr>\n",
              "    <tr>\n",
              "      <th>34</th>\n",
              "      <td>Die Grünen_2002</td>\n",
              "      <td>-2.228695</td>\n",
              "      <td>-1.857228</td>\n",
              "    </tr>\n",
              "    <tr>\n",
              "      <th>35</th>\n",
              "      <td>CDU/CSU_2005</td>\n",
              "      <td>-3.793769</td>\n",
              "      <td>-0.708517</td>\n",
              "    </tr>\n",
              "    <tr>\n",
              "      <th>36</th>\n",
              "      <td>Die Grünen_2013</td>\n",
              "      <td>13.112658</td>\n",
              "      <td>8.847755</td>\n",
              "    </tr>\n",
              "    <tr>\n",
              "      <th>37</th>\n",
              "      <td>PDS/Die Linke_1998</td>\n",
              "      <td>2.317014</td>\n",
              "      <td>-8.783914</td>\n",
              "    </tr>\n",
              "  </tbody>\n",
              "</table>\n",
              "</div>"
            ],
            "text/plain": [
              "        party_election     d2v_d1     d2v_d2\n",
              "0         CDU/CSU_1998  -4.754961  -1.536211\n",
              "1             AfD_2021  -0.181981  -9.742591\n",
              "2             FDP_2005  -6.744800  -9.437745\n",
              "3   PDS/Die Linke_2021  34.486340  -1.770583\n",
              "4             SPD_1998  -5.817554  -3.670118\n",
              "5   PDS/Die Linke_2009   9.045391  -5.047092\n",
              "6             SPD_2017  -3.000207  10.644112\n",
              "7             AfD_2017  -0.133459  -4.795351\n",
              "8         CDU/CSU_2017  -6.836080   4.533677\n",
              "9   PDS/Die Linke_2002   1.305665  -3.941261\n",
              "10        CDU/CSU_2009 -11.578842   4.255840\n",
              "11  PDS/Die Linke_2013  16.885695  -7.163488\n",
              "12            SPD_2002  -7.222678  -0.984900\n",
              "13            SPD_2013  -3.945857   3.602021\n",
              "14  PDS/Die Linke_2005   2.111730  -2.317226\n",
              "15            SPD_2009  -6.602752  -0.438506\n",
              "16            FDP_2009  -9.058606  -8.159441\n",
              "17            FDP_2002 -10.046961 -10.990233\n",
              "18            FDP_2013 -10.696202   3.313930\n",
              "19            SPD_2021   1.207496   8.998433\n",
              "20            FDP_2017  -3.574386   2.450849\n",
              "21            SPD_2005  -4.073336   0.546353\n",
              "22     Die Grünen_1998   2.852814 -13.381242\n",
              "23     Die Grünen_2021   9.585603  24.801083\n",
              "24        CDU/CSU_2021 -10.073697  14.781880\n",
              "25        CDU/CSU_2002  -7.352060  -1.833787\n",
              "26            FDP_1998  -8.694844 -11.278744\n",
              "27     Die Grünen_2017  14.427578  18.839909\n",
              "28            AfD_2013  -0.485756  -0.745246\n",
              "29     Die Grünen_2005   0.039855  -1.282879\n",
              "30        CDU/CSU_2013 -12.295429   9.793062\n",
              "31     Die Grünen_2009   8.060872   0.999392\n",
              "32            FDP_2021  -3.938491   4.194108\n",
              "33  PDS/Die Linke_2017  27.692705 -10.736106\n",
              "34     Die Grünen_2002  -2.228695  -1.857228\n",
              "35        CDU/CSU_2005  -3.793769  -0.708517\n",
              "36     Die Grünen_2013  13.112658   8.847755\n",
              "37  PDS/Die Linke_1998   2.317014  -8.783914"
            ]
          },
          "execution_count": 156,
          "metadata": {},
          "output_type": "execute_result"
        }
      ],
      "source": [
        "dv_d2v"
      ]
    },
    {
      "cell_type": "code",
      "execution_count": 157,
      "metadata": {},
      "outputs": [],
      "source": [
        "dv_d2v.to_csv('data/py_outputs/lr_d2v.csv', index=False)"
      ]
    },
    {
      "cell_type": "code",
      "execution_count": null,
      "metadata": {},
      "outputs": [],
      "source": [
        "pca = PCA(n_components=2, random_state=seed_val)"
      ]
    },
    {
      "cell_type": "code",
      "execution_count": null,
      "metadata": {},
      "outputs": [],
      "source": [
        "dv_d2v[['d2v_d1', 'd2v_d2']] = pca.fit_transform(dv_d2v.iloc[:,1:])"
      ]
    },
    {
      "cell_type": "code",
      "execution_count": null,
      "metadata": {},
      "outputs": [],
      "source": [
        "dv_d2v = dv_d2v[['party_election','d2v_d1', 'd2v_d2']]"
      ]
    },
    {
      "cell_type": "code",
      "execution_count": null,
      "metadata": {},
      "outputs": [
        {
          "data": {
            "text/html": [
              "<div>\n",
              "<style scoped>\n",
              "    .dataframe tbody tr th:only-of-type {\n",
              "        vertical-align: middle;\n",
              "    }\n",
              "\n",
              "    .dataframe tbody tr th {\n",
              "        vertical-align: top;\n",
              "    }\n",
              "\n",
              "    .dataframe thead th {\n",
              "        text-align: right;\n",
              "    }\n",
              "</style>\n",
              "<table border=\"1\" class=\"dataframe\">\n",
              "  <thead>\n",
              "    <tr style=\"text-align: right;\">\n",
              "      <th></th>\n",
              "      <th>party_election</th>\n",
              "      <th>d2v_d1</th>\n",
              "      <th>d2v_d2</th>\n",
              "    </tr>\n",
              "  </thead>\n",
              "  <tbody>\n",
              "    <tr>\n",
              "      <th>0</th>\n",
              "      <td>CDU/CSU_1998</td>\n",
              "      <td>-4.754961</td>\n",
              "      <td>-1.536211</td>\n",
              "    </tr>\n",
              "    <tr>\n",
              "      <th>1</th>\n",
              "      <td>AfD_2021</td>\n",
              "      <td>-0.181981</td>\n",
              "      <td>-9.742591</td>\n",
              "    </tr>\n",
              "    <tr>\n",
              "      <th>2</th>\n",
              "      <td>FDP_2005</td>\n",
              "      <td>-6.744800</td>\n",
              "      <td>-9.437745</td>\n",
              "    </tr>\n",
              "    <tr>\n",
              "      <th>3</th>\n",
              "      <td>PDS/Die Linke_2021</td>\n",
              "      <td>34.486340</td>\n",
              "      <td>-1.770583</td>\n",
              "    </tr>\n",
              "    <tr>\n",
              "      <th>4</th>\n",
              "      <td>SPD_1998</td>\n",
              "      <td>-5.817554</td>\n",
              "      <td>-3.670118</td>\n",
              "    </tr>\n",
              "    <tr>\n",
              "      <th>5</th>\n",
              "      <td>PDS/Die Linke_2009</td>\n",
              "      <td>9.045391</td>\n",
              "      <td>-5.047092</td>\n",
              "    </tr>\n",
              "    <tr>\n",
              "      <th>6</th>\n",
              "      <td>SPD_2017</td>\n",
              "      <td>-3.000207</td>\n",
              "      <td>10.644112</td>\n",
              "    </tr>\n",
              "    <tr>\n",
              "      <th>7</th>\n",
              "      <td>AfD_2017</td>\n",
              "      <td>-0.133459</td>\n",
              "      <td>-4.795351</td>\n",
              "    </tr>\n",
              "    <tr>\n",
              "      <th>8</th>\n",
              "      <td>CDU/CSU_2017</td>\n",
              "      <td>-6.836080</td>\n",
              "      <td>4.533677</td>\n",
              "    </tr>\n",
              "    <tr>\n",
              "      <th>9</th>\n",
              "      <td>PDS/Die Linke_2002</td>\n",
              "      <td>1.305665</td>\n",
              "      <td>-3.941261</td>\n",
              "    </tr>\n",
              "    <tr>\n",
              "      <th>10</th>\n",
              "      <td>CDU/CSU_2009</td>\n",
              "      <td>-11.578842</td>\n",
              "      <td>4.255840</td>\n",
              "    </tr>\n",
              "    <tr>\n",
              "      <th>11</th>\n",
              "      <td>PDS/Die Linke_2013</td>\n",
              "      <td>16.885695</td>\n",
              "      <td>-7.163488</td>\n",
              "    </tr>\n",
              "    <tr>\n",
              "      <th>12</th>\n",
              "      <td>SPD_2002</td>\n",
              "      <td>-7.222678</td>\n",
              "      <td>-0.984900</td>\n",
              "    </tr>\n",
              "    <tr>\n",
              "      <th>13</th>\n",
              "      <td>SPD_2013</td>\n",
              "      <td>-3.945857</td>\n",
              "      <td>3.602021</td>\n",
              "    </tr>\n",
              "    <tr>\n",
              "      <th>14</th>\n",
              "      <td>PDS/Die Linke_2005</td>\n",
              "      <td>2.111730</td>\n",
              "      <td>-2.317226</td>\n",
              "    </tr>\n",
              "    <tr>\n",
              "      <th>15</th>\n",
              "      <td>SPD_2009</td>\n",
              "      <td>-6.602752</td>\n",
              "      <td>-0.438506</td>\n",
              "    </tr>\n",
              "    <tr>\n",
              "      <th>16</th>\n",
              "      <td>FDP_2009</td>\n",
              "      <td>-9.058606</td>\n",
              "      <td>-8.159441</td>\n",
              "    </tr>\n",
              "    <tr>\n",
              "      <th>17</th>\n",
              "      <td>FDP_2002</td>\n",
              "      <td>-10.046961</td>\n",
              "      <td>-10.990233</td>\n",
              "    </tr>\n",
              "    <tr>\n",
              "      <th>18</th>\n",
              "      <td>FDP_2013</td>\n",
              "      <td>-10.696202</td>\n",
              "      <td>3.313930</td>\n",
              "    </tr>\n",
              "    <tr>\n",
              "      <th>19</th>\n",
              "      <td>SPD_2021</td>\n",
              "      <td>1.207496</td>\n",
              "      <td>8.998433</td>\n",
              "    </tr>\n",
              "    <tr>\n",
              "      <th>20</th>\n",
              "      <td>FDP_2017</td>\n",
              "      <td>-3.574386</td>\n",
              "      <td>2.450849</td>\n",
              "    </tr>\n",
              "    <tr>\n",
              "      <th>21</th>\n",
              "      <td>SPD_2005</td>\n",
              "      <td>-4.073336</td>\n",
              "      <td>0.546353</td>\n",
              "    </tr>\n",
              "    <tr>\n",
              "      <th>22</th>\n",
              "      <td>Die Grünen_1998</td>\n",
              "      <td>2.852814</td>\n",
              "      <td>-13.381242</td>\n",
              "    </tr>\n",
              "    <tr>\n",
              "      <th>23</th>\n",
              "      <td>Die Grünen_2021</td>\n",
              "      <td>9.585603</td>\n",
              "      <td>24.801083</td>\n",
              "    </tr>\n",
              "    <tr>\n",
              "      <th>24</th>\n",
              "      <td>CDU/CSU_2021</td>\n",
              "      <td>-10.073697</td>\n",
              "      <td>14.781880</td>\n",
              "    </tr>\n",
              "    <tr>\n",
              "      <th>25</th>\n",
              "      <td>CDU/CSU_2002</td>\n",
              "      <td>-7.352060</td>\n",
              "      <td>-1.833787</td>\n",
              "    </tr>\n",
              "    <tr>\n",
              "      <th>26</th>\n",
              "      <td>FDP_1998</td>\n",
              "      <td>-8.694844</td>\n",
              "      <td>-11.278744</td>\n",
              "    </tr>\n",
              "    <tr>\n",
              "      <th>27</th>\n",
              "      <td>Die Grünen_2017</td>\n",
              "      <td>14.427578</td>\n",
              "      <td>18.839909</td>\n",
              "    </tr>\n",
              "    <tr>\n",
              "      <th>28</th>\n",
              "      <td>AfD_2013</td>\n",
              "      <td>-0.485756</td>\n",
              "      <td>-0.745246</td>\n",
              "    </tr>\n",
              "    <tr>\n",
              "      <th>29</th>\n",
              "      <td>Die Grünen_2005</td>\n",
              "      <td>0.039855</td>\n",
              "      <td>-1.282879</td>\n",
              "    </tr>\n",
              "    <tr>\n",
              "      <th>30</th>\n",
              "      <td>CDU/CSU_2013</td>\n",
              "      <td>-12.295429</td>\n",
              "      <td>9.793062</td>\n",
              "    </tr>\n",
              "    <tr>\n",
              "      <th>31</th>\n",
              "      <td>Die Grünen_2009</td>\n",
              "      <td>8.060872</td>\n",
              "      <td>0.999392</td>\n",
              "    </tr>\n",
              "    <tr>\n",
              "      <th>32</th>\n",
              "      <td>FDP_2021</td>\n",
              "      <td>-3.938491</td>\n",
              "      <td>4.194108</td>\n",
              "    </tr>\n",
              "    <tr>\n",
              "      <th>33</th>\n",
              "      <td>PDS/Die Linke_2017</td>\n",
              "      <td>27.692705</td>\n",
              "      <td>-10.736106</td>\n",
              "    </tr>\n",
              "    <tr>\n",
              "      <th>34</th>\n",
              "      <td>Die Grünen_2002</td>\n",
              "      <td>-2.228695</td>\n",
              "      <td>-1.857228</td>\n",
              "    </tr>\n",
              "    <tr>\n",
              "      <th>35</th>\n",
              "      <td>CDU/CSU_2005</td>\n",
              "      <td>-3.793769</td>\n",
              "      <td>-0.708517</td>\n",
              "    </tr>\n",
              "    <tr>\n",
              "      <th>36</th>\n",
              "      <td>Die Grünen_2013</td>\n",
              "      <td>13.112658</td>\n",
              "      <td>8.847755</td>\n",
              "    </tr>\n",
              "    <tr>\n",
              "      <th>37</th>\n",
              "      <td>PDS/Die Linke_1998</td>\n",
              "      <td>2.317014</td>\n",
              "      <td>-8.783914</td>\n",
              "    </tr>\n",
              "  </tbody>\n",
              "</table>\n",
              "</div>"
            ],
            "text/plain": [
              "        party_election     d2v_d1     d2v_d2\n",
              "0         CDU/CSU_1998  -4.754961  -1.536211\n",
              "1             AfD_2021  -0.181981  -9.742591\n",
              "2             FDP_2005  -6.744800  -9.437745\n",
              "3   PDS/Die Linke_2021  34.486340  -1.770583\n",
              "4             SPD_1998  -5.817554  -3.670118\n",
              "5   PDS/Die Linke_2009   9.045391  -5.047092\n",
              "6             SPD_2017  -3.000207  10.644112\n",
              "7             AfD_2017  -0.133459  -4.795351\n",
              "8         CDU/CSU_2017  -6.836080   4.533677\n",
              "9   PDS/Die Linke_2002   1.305665  -3.941261\n",
              "10        CDU/CSU_2009 -11.578842   4.255840\n",
              "11  PDS/Die Linke_2013  16.885695  -7.163488\n",
              "12            SPD_2002  -7.222678  -0.984900\n",
              "13            SPD_2013  -3.945857   3.602021\n",
              "14  PDS/Die Linke_2005   2.111730  -2.317226\n",
              "15            SPD_2009  -6.602752  -0.438506\n",
              "16            FDP_2009  -9.058606  -8.159441\n",
              "17            FDP_2002 -10.046961 -10.990233\n",
              "18            FDP_2013 -10.696202   3.313930\n",
              "19            SPD_2021   1.207496   8.998433\n",
              "20            FDP_2017  -3.574386   2.450849\n",
              "21            SPD_2005  -4.073336   0.546353\n",
              "22     Die Grünen_1998   2.852814 -13.381242\n",
              "23     Die Grünen_2021   9.585603  24.801083\n",
              "24        CDU/CSU_2021 -10.073697  14.781880\n",
              "25        CDU/CSU_2002  -7.352060  -1.833787\n",
              "26            FDP_1998  -8.694844 -11.278744\n",
              "27     Die Grünen_2017  14.427578  18.839909\n",
              "28            AfD_2013  -0.485756  -0.745246\n",
              "29     Die Grünen_2005   0.039855  -1.282879\n",
              "30        CDU/CSU_2013 -12.295429   9.793062\n",
              "31     Die Grünen_2009   8.060872   0.999392\n",
              "32            FDP_2021  -3.938491   4.194108\n",
              "33  PDS/Die Linke_2017  27.692705 -10.736106\n",
              "34     Die Grünen_2002  -2.228695  -1.857228\n",
              "35        CDU/CSU_2005  -3.793769  -0.708517\n",
              "36     Die Grünen_2013  13.112658   8.847755\n",
              "37  PDS/Die Linke_1998   2.317014  -8.783914"
            ]
          },
          "metadata": {},
          "output_type": "display_data"
        }
      ],
      "source": [
        "dv_d2v"
      ]
    },
    {
      "cell_type": "code",
      "execution_count": null,
      "metadata": {},
      "outputs": [],
      "source": [
        "dv_d2v.to_csv('data/py_outputs/lr_d2v.csv', index=False)"
      ]
    },
    {
      "attachments": {},
      "cell_type": "markdown",
      "metadata": {},
      "source": [
        "#### Doc2Vec scaling (Rheault and Cochrane 2020 implementation) - Germany, welfare expansion/retrenchment only"
      ]
    },
    {
      "cell_type": "code",
      "execution_count": 167,
      "metadata": {},
      "outputs": [
        {
          "name": "stdout",
          "output_type": "stream",
          "text": [
            "Cleaning the 1 sentence\n",
            "Cleaning the 10001 sentence\n",
            "Cleaning the 20001 sentence\n",
            "Cleaning the 30001 sentence\n",
            "Cleaning the 40001 sentence\n",
            "Cleaning the 50001 sentence\n",
            "Cleaning the 60001 sentence\n",
            "Cleaning the 70001 sentence\n",
            "Cleaning the 80001 sentence\n",
            "Cleaning the 90001 sentence\n",
            "Cleaning the 100001 sentence\n",
            "Cleaning the 110001 sentence\n",
            "Cleaning the 120001 sentence\n",
            "Cleaning the 130001 sentence\n",
            "Cleaning the 140001 sentence\n",
            "Cleaning the 150001 sentence\n",
            "Cleaning the 160001 sentence\n",
            "Cleaning the 170001 sentence\n",
            "Cleaning the 180001 sentence\n",
            "Cleaning the 190001 sentence\n",
            "Cleaning the 200001 sentence\n",
            "Cleaning the 210001 sentence\n",
            "Cleaning the 220001 sentence\n",
            "Cleaning the 230001 sentence\n",
            "Cleaning the 240001 sentence\n",
            "Cleaning the 250001 sentence\n",
            "Cleaning the 260001 sentence\n",
            "Cleaning the 270001 sentence\n",
            "Cleaning the 280001 sentence\n"
          ]
        }
      ],
      "source": [
        "## We train word2vec embeddings on the GermaParl dataset before using embeddings for classification\n",
        "outputs = []\n",
        "for idx, text in enumerate(manifesto['text']):\n",
        "    if idx % 10000 ==0:\n",
        "        print(f'Cleaning the {idx+1} sentence')\n",
        "    country = manifesto.loc[idx,'country'].lower()\n",
        "    if country == 'france':\n",
        "        outputs.append(clean_text(text, stopwords.words('french')))\n",
        "    elif country == 'germany':\n",
        "        outputs.append(clean_text(text, stopwords.words('german')))\n",
        "    elif country == 'italy':\n",
        "        outputs.append(clean_text(text, stopwords.words('italian')))\n",
        "    elif country == 'spain':\n",
        "        outputs.append(clean_text(text, stopwords.words('spanish')))\n",
        "    else:\n",
        "        outputs.append(clean_text(text, stopwords.words('english')))"
      ]
    },
    {
      "cell_type": "code",
      "execution_count": 168,
      "metadata": {},
      "outputs": [],
      "source": [
        "manifesto['text_cleaned'] = outputs"
      ]
    },
    {
      "cell_type": "code",
      "execution_count": 169,
      "metadata": {},
      "outputs": [],
      "source": [
        "manifesto_wf = manifesto[(manifesto['country'] == 'Germany') & (manifesto['code_extract'].isin([504,505]))].reset_index(drop=True)\n",
        "manifesto_wf['party_agg'] = manifesto_wf['name'].apply(party_deu)\n",
        "manifesto_wf = manifesto_wf[manifesto_wf.party_agg != 'NA'].reset_index(drop=True)\n"
      ]
    },
    {
      "cell_type": "code",
      "execution_count": 170,
      "metadata": {},
      "outputs": [
        {
          "data": {
            "text/html": [
              "<div>\n",
              "<style scoped>\n",
              "    .dataframe tbody tr th:only-of-type {\n",
              "        vertical-align: middle;\n",
              "    }\n",
              "\n",
              "    .dataframe tbody tr th {\n",
              "        vertical-align: top;\n",
              "    }\n",
              "\n",
              "    .dataframe thead th {\n",
              "        text-align: right;\n",
              "    }\n",
              "</style>\n",
              "<table border=\"1\" class=\"dataframe\">\n",
              "  <thead>\n",
              "    <tr style=\"text-align: right;\">\n",
              "      <th></th>\n",
              "      <th>text</th>\n",
              "      <th>election</th>\n",
              "      <th>code</th>\n",
              "      <th>pos</th>\n",
              "      <th>party_code</th>\n",
              "      <th>country_code</th>\n",
              "      <th>party</th>\n",
              "      <th>country</th>\n",
              "      <th>name</th>\n",
              "      <th>name_english</th>\n",
              "      <th>code_extract</th>\n",
              "      <th>sentiment</th>\n",
              "      <th>country_party_election_sentiment</th>\n",
              "      <th>text_cleaned</th>\n",
              "      <th>party_agg</th>\n",
              "    </tr>\n",
              "  </thead>\n",
              "  <tbody>\n",
              "    <tr>\n",
              "      <th>0</th>\n",
              "      <td>Wir wollen den Sozialstaat durch Erneuerung si...</td>\n",
              "      <td>1998</td>\n",
              "      <td>504</td>\n",
              "      <td>42</td>\n",
              "      <td>41113_199809</td>\n",
              "      <td>41</td>\n",
              "      <td>41113</td>\n",
              "      <td>Germany</td>\n",
              "      <td>Bündnis‘90/Die Grünen</td>\n",
              "      <td>Alliance‘90/Greens</td>\n",
              "      <td>504</td>\n",
              "      <td>left</td>\n",
              "      <td>Germany_Bündnis‘90/Die Grünen_1998_left</td>\n",
              "      <td>sozialstaat erneuerung sichern</td>\n",
              "      <td>Die Grünen</td>\n",
              "    </tr>\n",
              "    <tr>\n",
              "      <th>1</th>\n",
              "      <td>Die Globalisierung mußte als standortgefährden...</td>\n",
              "      <td>1998</td>\n",
              "      <td>504</td>\n",
              "      <td>59</td>\n",
              "      <td>41113_199809</td>\n",
              "      <td>41</td>\n",
              "      <td>41113</td>\n",
              "      <td>Germany</td>\n",
              "      <td>Bündnis‘90/Die Grünen</td>\n",
              "      <td>Alliance‘90/Greens</td>\n",
              "      <td>504</td>\n",
              "      <td>left</td>\n",
              "      <td>Germany_Bündnis‘90/Die Grünen_1998_left</td>\n",
              "      <td>globalisierung mußte standortgefährdendes schr...</td>\n",
              "      <td>Die Grünen</td>\n",
              "    </tr>\n",
              "    <tr>\n",
              "      <th>2</th>\n",
              "      <td>Im Gegenteil - die mit angeblichen Sachzwängen...</td>\n",
              "      <td>1998</td>\n",
              "      <td>504</td>\n",
              "      <td>98</td>\n",
              "      <td>41113_199809</td>\n",
              "      <td>41</td>\n",
              "      <td>41113</td>\n",
              "      <td>Germany</td>\n",
              "      <td>Bündnis‘90/Die Grünen</td>\n",
              "      <td>Alliance‘90/Greens</td>\n",
              "      <td>504</td>\n",
              "      <td>left</td>\n",
              "      <td>Germany_Bündnis‘90/Die Grünen_1998_left</td>\n",
              "      <td>gegenteil angeblichen sachzwängen gerechtferti...</td>\n",
              "      <td>Die Grünen</td>\n",
              "    </tr>\n",
              "    <tr>\n",
              "      <th>3</th>\n",
              "      <td>und für besonders betroffene Haushalte einen s...</td>\n",
              "      <td>1998</td>\n",
              "      <td>504</td>\n",
              "      <td>193</td>\n",
              "      <td>41113_199809</td>\n",
              "      <td>41</td>\n",
              "      <td>41113</td>\n",
              "      <td>Germany</td>\n",
              "      <td>Bündnis‘90/Die Grünen</td>\n",
              "      <td>Alliance‘90/Greens</td>\n",
              "      <td>504</td>\n",
              "      <td>left</td>\n",
              "      <td>Germany_Bündnis‘90/Die Grünen_1998_left</td>\n",
              "      <td>besonders betroffene haushalte sozialen ausgle...</td>\n",
              "      <td>Die Grünen</td>\n",
              "    </tr>\n",
              "    <tr>\n",
              "      <th>4</th>\n",
              "      <td>Menschen, die keine Beiträge zur Sozialversich...</td>\n",
              "      <td>1998</td>\n",
              "      <td>504</td>\n",
              "      <td>196</td>\n",
              "      <td>41113_199809</td>\n",
              "      <td>41</td>\n",
              "      <td>41113</td>\n",
              "      <td>Germany</td>\n",
              "      <td>Bündnis‘90/Die Grünen</td>\n",
              "      <td>Alliance‘90/Greens</td>\n",
              "      <td>504</td>\n",
              "      <td>left</td>\n",
              "      <td>Germany_Bündnis‘90/Die Grünen_1998_left</td>\n",
              "      <td>menschen beiträge sozialversicherung zahlen se...</td>\n",
              "      <td>Die Grünen</td>\n",
              "    </tr>\n",
              "    <tr>\n",
              "      <th>...</th>\n",
              "      <td>...</td>\n",
              "      <td>...</td>\n",
              "      <td>...</td>\n",
              "      <td>...</td>\n",
              "      <td>...</td>\n",
              "      <td>...</td>\n",
              "      <td>...</td>\n",
              "      <td>...</td>\n",
              "      <td>...</td>\n",
              "      <td>...</td>\n",
              "      <td>...</td>\n",
              "      <td>...</td>\n",
              "      <td>...</td>\n",
              "      <td>...</td>\n",
              "      <td>...</td>\n",
              "    </tr>\n",
              "    <tr>\n",
              "      <th>5302</th>\n",
              "      <td>Wir setzen uns zudem dafür ein, dass die WHO ...</td>\n",
              "      <td>2021</td>\n",
              "      <td>505</td>\n",
              "      <td>1409</td>\n",
              "      <td>41953_202109</td>\n",
              "      <td>41</td>\n",
              "      <td>41953</td>\n",
              "      <td>Germany</td>\n",
              "      <td>Alternative für Deutschland</td>\n",
              "      <td>Alternative for Germany</td>\n",
              "      <td>505</td>\n",
              "      <td>right</td>\n",
              "      <td>Germany_Alternative für Deutschland_2021_right</td>\n",
              "      <td>setzen zudem dafür who begrifflichen vorausse...</td>\n",
              "      <td>AfD</td>\n",
              "    </tr>\n",
              "    <tr>\n",
              "      <th>5303</th>\n",
              "      <td>minimiert die Belastung durch Wohnkosten im Alter</td>\n",
              "      <td>2021</td>\n",
              "      <td>504</td>\n",
              "      <td>1586</td>\n",
              "      <td>41953_202109</td>\n",
              "      <td>41</td>\n",
              "      <td>41953</td>\n",
              "      <td>Germany</td>\n",
              "      <td>Alternative für Deutschland</td>\n",
              "      <td>Alternative for Germany</td>\n",
              "      <td>504</td>\n",
              "      <td>left</td>\n",
              "      <td>Germany_Alternative für Deutschland_2021_left</td>\n",
              "      <td>minimiert belastung wohnkosten alter</td>\n",
              "      <td>AfD</td>\n",
              "    </tr>\n",
              "    <tr>\n",
              "      <th>5304</th>\n",
              "      <td>und vermindert damit Altersarmut.</td>\n",
              "      <td>2021</td>\n",
              "      <td>504</td>\n",
              "      <td>1587</td>\n",
              "      <td>41953_202109</td>\n",
              "      <td>41</td>\n",
              "      <td>41953</td>\n",
              "      <td>Germany</td>\n",
              "      <td>Alternative für Deutschland</td>\n",
              "      <td>Alternative for Germany</td>\n",
              "      <td>504</td>\n",
              "      <td>left</td>\n",
              "      <td>Germany_Alternative für Deutschland_2021_left</td>\n",
              "      <td>vermindert altersarmut</td>\n",
              "      <td>AfD</td>\n",
              "    </tr>\n",
              "    <tr>\n",
              "      <th>5305</th>\n",
              "      <td>Es ist besser, einkommensschwache Mieter verme...</td>\n",
              "      <td>2021</td>\n",
              "      <td>504</td>\n",
              "      <td>1600</td>\n",
              "      <td>41953_202109</td>\n",
              "      <td>41</td>\n",
              "      <td>41953</td>\n",
              "      <td>Germany</td>\n",
              "      <td>Alternative für Deutschland</td>\n",
              "      <td>Alternative for Germany</td>\n",
              "      <td>504</td>\n",
              "      <td>left</td>\n",
              "      <td>Germany_Alternative für Deutschland_2021_left</td>\n",
              "      <td>besser einkommensschwache mieter vermehrt wohn...</td>\n",
              "      <td>AfD</td>\n",
              "    </tr>\n",
              "    <tr>\n",
              "      <th>5306</th>\n",
              "      <td>Reicht das Wohngeld nicht aus, um sich eine Wo...</td>\n",
              "      <td>2021</td>\n",
              "      <td>504</td>\n",
              "      <td>1601</td>\n",
              "      <td>41953_202109</td>\n",
              "      <td>41</td>\n",
              "      <td>41953</td>\n",
              "      <td>Germany</td>\n",
              "      <td>Alternative für Deutschland</td>\n",
              "      <td>Alternative for Germany</td>\n",
              "      <td>504</td>\n",
              "      <td>left</td>\n",
              "      <td>Germany_Alternative für Deutschland_2021_left</td>\n",
              "      <td>reicht wohngeld wohnung sichern bürgern zusät...</td>\n",
              "      <td>AfD</td>\n",
              "    </tr>\n",
              "  </tbody>\n",
              "</table>\n",
              "<p>5307 rows × 15 columns</p>\n",
              "</div>"
            ],
            "text/plain": [
              "                                                   text  election code   pos  \\\n",
              "0     Wir wollen den Sozialstaat durch Erneuerung si...      1998  504    42   \n",
              "1     Die Globalisierung mußte als standortgefährden...      1998  504    59   \n",
              "2     Im Gegenteil - die mit angeblichen Sachzwängen...      1998  504    98   \n",
              "3     und für besonders betroffene Haushalte einen s...      1998  504   193   \n",
              "4     Menschen, die keine Beiträge zur Sozialversich...      1998  504   196   \n",
              "...                                                 ...       ...  ...   ...   \n",
              "5302  Wir setzen uns zudem dafür ein, dass die WHO ...      2021  505  1409   \n",
              "5303  minimiert die Belastung durch Wohnkosten im Alter      2021  504  1586   \n",
              "5304                  und vermindert damit Altersarmut.      2021  504  1587   \n",
              "5305  Es ist besser, einkommensschwache Mieter verme...      2021  504  1600   \n",
              "5306  Reicht das Wohngeld nicht aus, um sich eine Wo...      2021  504  1601   \n",
              "\n",
              "        party_code  country_code  party  country                         name  \\\n",
              "0     41113_199809            41  41113  Germany        Bündnis‘90/Die Grünen   \n",
              "1     41113_199809            41  41113  Germany        Bündnis‘90/Die Grünen   \n",
              "2     41113_199809            41  41113  Germany        Bündnis‘90/Die Grünen   \n",
              "3     41113_199809            41  41113  Germany        Bündnis‘90/Die Grünen   \n",
              "4     41113_199809            41  41113  Germany        Bündnis‘90/Die Grünen   \n",
              "...            ...           ...    ...      ...                          ...   \n",
              "5302  41953_202109            41  41953  Germany  Alternative für Deutschland   \n",
              "5303  41953_202109            41  41953  Germany  Alternative für Deutschland   \n",
              "5304  41953_202109            41  41953  Germany  Alternative für Deutschland   \n",
              "5305  41953_202109            41  41953  Germany  Alternative für Deutschland   \n",
              "5306  41953_202109            41  41953  Germany  Alternative für Deutschland   \n",
              "\n",
              "                 name_english  code_extract sentiment  \\\n",
              "0          Alliance‘90/Greens           504      left   \n",
              "1          Alliance‘90/Greens           504      left   \n",
              "2          Alliance‘90/Greens           504      left   \n",
              "3          Alliance‘90/Greens           504      left   \n",
              "4          Alliance‘90/Greens           504      left   \n",
              "...                       ...           ...       ...   \n",
              "5302  Alternative for Germany           505     right   \n",
              "5303  Alternative for Germany           504      left   \n",
              "5304  Alternative for Germany           504      left   \n",
              "5305  Alternative for Germany           504      left   \n",
              "5306  Alternative for Germany           504      left   \n",
              "\n",
              "                    country_party_election_sentiment  \\\n",
              "0            Germany_Bündnis‘90/Die Grünen_1998_left   \n",
              "1            Germany_Bündnis‘90/Die Grünen_1998_left   \n",
              "2            Germany_Bündnis‘90/Die Grünen_1998_left   \n",
              "3            Germany_Bündnis‘90/Die Grünen_1998_left   \n",
              "4            Germany_Bündnis‘90/Die Grünen_1998_left   \n",
              "...                                              ...   \n",
              "5302  Germany_Alternative für Deutschland_2021_right   \n",
              "5303   Germany_Alternative für Deutschland_2021_left   \n",
              "5304   Germany_Alternative für Deutschland_2021_left   \n",
              "5305   Germany_Alternative für Deutschland_2021_left   \n",
              "5306   Germany_Alternative für Deutschland_2021_left   \n",
              "\n",
              "                                           text_cleaned   party_agg  \n",
              "0                        sozialstaat erneuerung sichern  Die Grünen  \n",
              "1     globalisierung mußte standortgefährdendes schr...  Die Grünen  \n",
              "2     gegenteil angeblichen sachzwängen gerechtferti...  Die Grünen  \n",
              "3     besonders betroffene haushalte sozialen ausgle...  Die Grünen  \n",
              "4     menschen beiträge sozialversicherung zahlen se...  Die Grünen  \n",
              "...                                                 ...         ...  \n",
              "5302  setzen zudem dafür who begrifflichen vorausse...         AfD  \n",
              "5303               minimiert belastung wohnkosten alter         AfD  \n",
              "5304                             vermindert altersarmut         AfD  \n",
              "5305  besser einkommensschwache mieter vermehrt wohn...         AfD  \n",
              "5306  reicht wohngeld wohnung sichern bürgern zusät...         AfD  \n",
              "\n",
              "[5307 rows x 15 columns]"
            ]
          },
          "execution_count": 170,
          "metadata": {},
          "output_type": "execute_result"
        }
      ],
      "source": [
        "manifesto_wf"
      ]
    },
    {
      "cell_type": "code",
      "execution_count": 171,
      "metadata": {},
      "outputs": [],
      "source": [
        "manifesto_wf['party_election'] = manifesto_wf.party_agg.str.cat(others=[manifesto_wf.election.astype(str)], sep='_')"
      ]
    },
    {
      "cell_type": "code",
      "execution_count": null,
      "metadata": {},
      "outputs": [],
      "source": [
        "class corpusIterator(object):\n",
        "    def __init__(self, df, bigram=None, trigram=None,text=None,labels=None):\n",
        "        if bigram:\n",
        "            self.bigram = bigram\n",
        "        else:\n",
        "            self.bigram = None\n",
        "        if trigram:\n",
        "            self.trigram = trigram\n",
        "        else:\n",
        "            self.trigram = None\n",
        "        self.df = df\n",
        "        self.text = text\n",
        "        self.labels = labels\n",
        "    def __iter__(self):\n",
        "        for  index, row in self.df.iterrows():\n",
        "            text = row[self.text]\n",
        "            labels = row[self.labels]\n",
        "            tokens = text.split()\n",
        "            if self.bigram and self.trigram:\n",
        "                self.words = self.trigram[self.bigram[tokens]]\n",
        "            elif self.bigram and not self.trigram:\n",
        "                self.words = self.bigram[tokens]\n",
        "            else:\n",
        "                self.words = tokens\n",
        "            yield TaggedDocument(self.words, [labels])\n",
        "            \n",
        "class phraseIterator(object):\n",
        "    def __init__(self, df, text):\n",
        "        self.df = df\n",
        "        self.text = text\n",
        "    def __iter__(self):\n",
        "        for index, row in self.df.iterrows():\n",
        "            text = row[self.text]\n",
        "            yield text.split()"
      ]
    },
    {
      "cell_type": "code",
      "execution_count": 172,
      "metadata": {},
      "outputs": [],
      "source": [
        "outputs_stream = phraseIterator(manifesto_wf,'text_cleaned')\n",
        "bigram = Phraser(Phrases(outputs_stream, min_count=1, threshold=5))\n",
        "trigram = Phrases(bigram[outputs_stream],  min_count=1, threshold=5)"
      ]
    },
    {
      "cell_type": "code",
      "execution_count": 173,
      "metadata": {},
      "outputs": [],
      "source": [
        "model = Doc2Vec(vector_size=500, window=6, min_count=1, workers=16, epochs=10, seed=seed_val)\n",
        "model.build_vocab(corpusIterator(manifesto_wf, bigram=bigram, trigram=trigram, text='text_cleaned',labels='party_election'))\n"
      ]
    },
    {
      "cell_type": "code",
      "execution_count": 174,
      "metadata": {},
      "outputs": [],
      "source": [
        "model.train(corpusIterator(manifesto_wf, bigram=bigram, trigram=trigram,text='text_cleaned',labels='party_election'), total_examples=model.corpus_count, epochs=10)"
      ]
    },
    {
      "cell_type": "code",
      "execution_count": 175,
      "metadata": {},
      "outputs": [],
      "source": [
        "embed_dict = d2v_reduct(model)"
      ]
    },
    {
      "cell_type": "code",
      "execution_count": 176,
      "metadata": {},
      "outputs": [],
      "source": [
        "d2v_wf = pd.DataFrame.from_dict(embed_dict).transpose()\n",
        "d2v_wf.index.name = 'party_election'\n",
        "d2v_wf.reset_index(inplace=True)"
      ]
    },
    {
      "cell_type": "code",
      "execution_count": 177,
      "metadata": {},
      "outputs": [],
      "source": [
        "pca = PCA(n_components=2, random_state=seed_val)"
      ]
    },
    {
      "cell_type": "code",
      "execution_count": 178,
      "metadata": {},
      "outputs": [],
      "source": [
        "d2v_wf[['d2v_d1', 'd2v_d2']] = pca.fit_transform(d2v_wf.iloc[:,1:])"
      ]
    },
    {
      "cell_type": "code",
      "execution_count": 179,
      "metadata": {},
      "outputs": [],
      "source": [
        "d2v_wf = d2v_wf[['party_election','d2v_d1', 'd2v_d2']]"
      ]
    },
    {
      "cell_type": "code",
      "execution_count": 180,
      "metadata": {},
      "outputs": [
        {
          "data": {
            "text/html": [
              "<div>\n",
              "<style scoped>\n",
              "    .dataframe tbody tr th:only-of-type {\n",
              "        vertical-align: middle;\n",
              "    }\n",
              "\n",
              "    .dataframe tbody tr th {\n",
              "        vertical-align: top;\n",
              "    }\n",
              "\n",
              "    .dataframe thead th {\n",
              "        text-align: right;\n",
              "    }\n",
              "</style>\n",
              "<table border=\"1\" class=\"dataframe\">\n",
              "  <thead>\n",
              "    <tr style=\"text-align: right;\">\n",
              "      <th></th>\n",
              "      <th>party_election</th>\n",
              "      <th>d2v_d1</th>\n",
              "      <th>d2v_d2</th>\n",
              "    </tr>\n",
              "  </thead>\n",
              "  <tbody>\n",
              "    <tr>\n",
              "      <th>0</th>\n",
              "      <td>Die Grünen_1998</td>\n",
              "      <td>-4.025958</td>\n",
              "      <td>0.001248</td>\n",
              "    </tr>\n",
              "    <tr>\n",
              "      <th>1</th>\n",
              "      <td>PDS/Die Linke_1998</td>\n",
              "      <td>0.980480</td>\n",
              "      <td>0.004576</td>\n",
              "    </tr>\n",
              "    <tr>\n",
              "      <th>2</th>\n",
              "      <td>SPD_1998</td>\n",
              "      <td>0.769648</td>\n",
              "      <td>-0.001402</td>\n",
              "    </tr>\n",
              "    <tr>\n",
              "      <th>3</th>\n",
              "      <td>FDP_1998</td>\n",
              "      <td>-0.289726</td>\n",
              "      <td>-0.001228</td>\n",
              "    </tr>\n",
              "    <tr>\n",
              "      <th>4</th>\n",
              "      <td>CDU/CSU_1998</td>\n",
              "      <td>5.161889</td>\n",
              "      <td>0.003967</td>\n",
              "    </tr>\n",
              "    <tr>\n",
              "      <th>5</th>\n",
              "      <td>Die Grünen_2002</td>\n",
              "      <td>0.522342</td>\n",
              "      <td>-0.005446</td>\n",
              "    </tr>\n",
              "    <tr>\n",
              "      <th>6</th>\n",
              "      <td>PDS/Die Linke_2002</td>\n",
              "      <td>0.434559</td>\n",
              "      <td>0.002908</td>\n",
              "    </tr>\n",
              "    <tr>\n",
              "      <th>7</th>\n",
              "      <td>SPD_2002</td>\n",
              "      <td>2.354797</td>\n",
              "      <td>-0.001494</td>\n",
              "    </tr>\n",
              "    <tr>\n",
              "      <th>8</th>\n",
              "      <td>FDP_2002</td>\n",
              "      <td>-4.033525</td>\n",
              "      <td>-0.009828</td>\n",
              "    </tr>\n",
              "    <tr>\n",
              "      <th>9</th>\n",
              "      <td>CDU/CSU_2002</td>\n",
              "      <td>-0.058314</td>\n",
              "      <td>-0.003066</td>\n",
              "    </tr>\n",
              "    <tr>\n",
              "      <th>10</th>\n",
              "      <td>Die Grünen_2005</td>\n",
              "      <td>-0.156917</td>\n",
              "      <td>-0.003463</td>\n",
              "    </tr>\n",
              "    <tr>\n",
              "      <th>11</th>\n",
              "      <td>PDS/Die Linke_2005</td>\n",
              "      <td>3.957729</td>\n",
              "      <td>0.002707</td>\n",
              "    </tr>\n",
              "    <tr>\n",
              "      <th>12</th>\n",
              "      <td>SPD_2005</td>\n",
              "      <td>7.299553</td>\n",
              "      <td>0.001961</td>\n",
              "    </tr>\n",
              "    <tr>\n",
              "      <th>13</th>\n",
              "      <td>FDP_2005</td>\n",
              "      <td>5.777663</td>\n",
              "      <td>0.002767</td>\n",
              "    </tr>\n",
              "    <tr>\n",
              "      <th>14</th>\n",
              "      <td>CDU/CSU_2005</td>\n",
              "      <td>8.886663</td>\n",
              "      <td>0.006587</td>\n",
              "    </tr>\n",
              "    <tr>\n",
              "      <th>15</th>\n",
              "      <td>Die Grünen_2009</td>\n",
              "      <td>-0.884736</td>\n",
              "      <td>-0.007575</td>\n",
              "    </tr>\n",
              "    <tr>\n",
              "      <th>16</th>\n",
              "      <td>PDS/Die Linke_2009</td>\n",
              "      <td>3.494955</td>\n",
              "      <td>0.006973</td>\n",
              "    </tr>\n",
              "    <tr>\n",
              "      <th>17</th>\n",
              "      <td>SPD_2009</td>\n",
              "      <td>3.421670</td>\n",
              "      <td>-0.005287</td>\n",
              "    </tr>\n",
              "    <tr>\n",
              "      <th>18</th>\n",
              "      <td>FDP_2009</td>\n",
              "      <td>2.347543</td>\n",
              "      <td>0.000426</td>\n",
              "    </tr>\n",
              "    <tr>\n",
              "      <th>19</th>\n",
              "      <td>CDU/CSU_2009</td>\n",
              "      <td>7.311481</td>\n",
              "      <td>0.004620</td>\n",
              "    </tr>\n",
              "    <tr>\n",
              "      <th>20</th>\n",
              "      <td>Die Grünen_2013</td>\n",
              "      <td>-7.196893</td>\n",
              "      <td>-0.030379</td>\n",
              "    </tr>\n",
              "    <tr>\n",
              "      <th>21</th>\n",
              "      <td>PDS/Die Linke_2013</td>\n",
              "      <td>-4.639086</td>\n",
              "      <td>0.029794</td>\n",
              "    </tr>\n",
              "    <tr>\n",
              "      <th>22</th>\n",
              "      <td>SPD_2013</td>\n",
              "      <td>-5.977445</td>\n",
              "      <td>-0.020689</td>\n",
              "    </tr>\n",
              "    <tr>\n",
              "      <th>23</th>\n",
              "      <td>FDP_2013</td>\n",
              "      <td>0.820609</td>\n",
              "      <td>-0.002857</td>\n",
              "    </tr>\n",
              "    <tr>\n",
              "      <th>24</th>\n",
              "      <td>CDU/CSU_2013</td>\n",
              "      <td>-2.295145</td>\n",
              "      <td>-0.017812</td>\n",
              "    </tr>\n",
              "    <tr>\n",
              "      <th>25</th>\n",
              "      <td>AfD_2013</td>\n",
              "      <td>11.005211</td>\n",
              "      <td>0.007005</td>\n",
              "    </tr>\n",
              "    <tr>\n",
              "      <th>26</th>\n",
              "      <td>Die Grünen_2017</td>\n",
              "      <td>-5.243046</td>\n",
              "      <td>-0.026858</td>\n",
              "    </tr>\n",
              "    <tr>\n",
              "      <th>27</th>\n",
              "      <td>PDS/Die Linke_2017</td>\n",
              "      <td>-7.834846</td>\n",
              "      <td>0.071855</td>\n",
              "    </tr>\n",
              "    <tr>\n",
              "      <th>28</th>\n",
              "      <td>SPD_2017</td>\n",
              "      <td>-2.416168</td>\n",
              "      <td>-0.005783</td>\n",
              "    </tr>\n",
              "    <tr>\n",
              "      <th>29</th>\n",
              "      <td>FDP_2017</td>\n",
              "      <td>-0.591296</td>\n",
              "      <td>-0.006750</td>\n",
              "    </tr>\n",
              "    <tr>\n",
              "      <th>30</th>\n",
              "      <td>CDU/CSU_2017</td>\n",
              "      <td>2.676094</td>\n",
              "      <td>0.000597</td>\n",
              "    </tr>\n",
              "    <tr>\n",
              "      <th>31</th>\n",
              "      <td>AfD_2017</td>\n",
              "      <td>5.835619</td>\n",
              "      <td>0.004198</td>\n",
              "    </tr>\n",
              "    <tr>\n",
              "      <th>32</th>\n",
              "      <td>Die Grünen_2021</td>\n",
              "      <td>-9.901237</td>\n",
              "      <td>-0.052585</td>\n",
              "    </tr>\n",
              "    <tr>\n",
              "      <th>33</th>\n",
              "      <td>PDS/Die Linke_2021</td>\n",
              "      <td>-9.149226</td>\n",
              "      <td>0.083091</td>\n",
              "    </tr>\n",
              "    <tr>\n",
              "      <th>34</th>\n",
              "      <td>SPD_2021</td>\n",
              "      <td>-3.000865</td>\n",
              "      <td>-0.004272</td>\n",
              "    </tr>\n",
              "    <tr>\n",
              "      <th>35</th>\n",
              "      <td>FDP_2021</td>\n",
              "      <td>-1.852737</td>\n",
              "      <td>-0.010745</td>\n",
              "    </tr>\n",
              "    <tr>\n",
              "      <th>36</th>\n",
              "      <td>CDU/CSU_2021</td>\n",
              "      <td>-4.144180</td>\n",
              "      <td>-0.015630</td>\n",
              "    </tr>\n",
              "    <tr>\n",
              "      <th>37</th>\n",
              "      <td>AfD_2021</td>\n",
              "      <td>0.632841</td>\n",
              "      <td>-0.002131</td>\n",
              "    </tr>\n",
              "  </tbody>\n",
              "</table>\n",
              "</div>"
            ],
            "text/plain": [
              "        party_election     d2v_d1    d2v_d2\n",
              "0      Die Grünen_1998  -4.025958  0.001248\n",
              "1   PDS/Die Linke_1998   0.980480  0.004576\n",
              "2             SPD_1998   0.769648 -0.001402\n",
              "3             FDP_1998  -0.289726 -0.001228\n",
              "4         CDU/CSU_1998   5.161889  0.003967\n",
              "5      Die Grünen_2002   0.522342 -0.005446\n",
              "6   PDS/Die Linke_2002   0.434559  0.002908\n",
              "7             SPD_2002   2.354797 -0.001494\n",
              "8             FDP_2002  -4.033525 -0.009828\n",
              "9         CDU/CSU_2002  -0.058314 -0.003066\n",
              "10     Die Grünen_2005  -0.156917 -0.003463\n",
              "11  PDS/Die Linke_2005   3.957729  0.002707\n",
              "12            SPD_2005   7.299553  0.001961\n",
              "13            FDP_2005   5.777663  0.002767\n",
              "14        CDU/CSU_2005   8.886663  0.006587\n",
              "15     Die Grünen_2009  -0.884736 -0.007575\n",
              "16  PDS/Die Linke_2009   3.494955  0.006973\n",
              "17            SPD_2009   3.421670 -0.005287\n",
              "18            FDP_2009   2.347543  0.000426\n",
              "19        CDU/CSU_2009   7.311481  0.004620\n",
              "20     Die Grünen_2013  -7.196893 -0.030379\n",
              "21  PDS/Die Linke_2013  -4.639086  0.029794\n",
              "22            SPD_2013  -5.977445 -0.020689\n",
              "23            FDP_2013   0.820609 -0.002857\n",
              "24        CDU/CSU_2013  -2.295145 -0.017812\n",
              "25            AfD_2013  11.005211  0.007005\n",
              "26     Die Grünen_2017  -5.243046 -0.026858\n",
              "27  PDS/Die Linke_2017  -7.834846  0.071855\n",
              "28            SPD_2017  -2.416168 -0.005783\n",
              "29            FDP_2017  -0.591296 -0.006750\n",
              "30        CDU/CSU_2017   2.676094  0.000597\n",
              "31            AfD_2017   5.835619  0.004198\n",
              "32     Die Grünen_2021  -9.901237 -0.052585\n",
              "33  PDS/Die Linke_2021  -9.149226  0.083091\n",
              "34            SPD_2021  -3.000865 -0.004272\n",
              "35            FDP_2021  -1.852737 -0.010745\n",
              "36        CDU/CSU_2021  -4.144180 -0.015630\n",
              "37            AfD_2021   0.632841 -0.002131"
            ]
          },
          "execution_count": 180,
          "metadata": {},
          "output_type": "execute_result"
        }
      ],
      "source": [
        "d2v_wf"
      ]
    },
    {
      "cell_type": "code",
      "execution_count": 183,
      "metadata": {},
      "outputs": [],
      "source": [
        "d2v_wf.to_csv('data/py_outputs/d2v_wf.csv', index=False)"
      ]
    },
    {
      "attachments": {},
      "cell_type": "markdown",
      "metadata": {},
      "source": [
        "## Validation: Various supervised and unsupervised dimensionality reduction techniques"
      ]
    },
    {
      "attachments": {},
      "cell_type": "markdown",
      "metadata": {},
      "source": [
        "### PCA"
      ]
    },
    {
      "cell_type": "code",
      "execution_count": 222,
      "metadata": {},
      "outputs": [],
      "source": [
        "absscale, relscale, logscale, name_ls = cmp_scale(manifesto_deu, group_vars=['party_agg','election'], sent_var='sentiment')"
      ]
    },
    {
      "cell_type": "code",
      "execution_count": 223,
      "metadata": {},
      "outputs": [
        {
          "data": {
            "text/plain": [
              "(26096, 1)"
            ]
          },
          "execution_count": 223,
          "metadata": {},
          "output_type": "execute_result"
        }
      ],
      "source": [
        "ord_enc = OrdinalEncoder()\n",
        "y = ord_enc.fit_transform(np.array(manifesto_deu_rgr['sentiment'].copy().tolist()).reshape(-1,1))\n",
        "y.shape"
      ]
    },
    {
      "cell_type": "code",
      "execution_count": 94,
      "metadata": {},
      "outputs": [],
      "source": [
        "document_embed = np.loadtxt('data/temps/embeds.csv')"
      ]
    },
    {
      "cell_type": "code",
      "execution_count": 224,
      "metadata": {},
      "outputs": [],
      "source": [
        "pca = PCA(n_components=2)\n",
        "pca_scaled = pca.fit_transform(document_embed)"
      ]
    },
    {
      "cell_type": "code",
      "execution_count": 97,
      "metadata": {},
      "outputs": [],
      "source": [
        "emb_mean_dict = {}\n",
        "for name, group in manifesto_deu_rgr.groupby(['party_agg','election']):\n",
        "    idx = group.index\n",
        "    embed = pca_scaled[idx]\n",
        "    embed_mean = np.mean(embed, axis=0)\n",
        "    emb_mean_dict.update({name: embed_mean})\n"
      ]
    },
    {
      "cell_type": "code",
      "execution_count": 98,
      "metadata": {},
      "outputs": [],
      "source": [
        "pca_embeds = np.stack(list(emb_mean_dict.values()))\n"
      ]
    },
    {
      "cell_type": "code",
      "execution_count": 101,
      "metadata": {},
      "outputs": [
        {
          "data": {
            "text/plain": [
              "array([[ 1.        , -0.24363164],\n",
              "       [-0.24363164,  1.        ]])"
            ]
          },
          "execution_count": 101,
          "metadata": {},
          "output_type": "execute_result"
        }
      ],
      "source": [
        "np.corrcoef(absscale,pca_embeds[:,0])"
      ]
    },
    {
      "cell_type": "code",
      "execution_count": 225,
      "metadata": {},
      "outputs": [
        {
          "data": {
            "text/plain": [
              "-0.022708641724730708"
            ]
          },
          "execution_count": 225,
          "metadata": {},
          "output_type": "execute_result"
        }
      ],
      "source": [
        "## Silhouette scores\n",
        "pca_silscore = silhouette_score(pca_scaled, y.flatten())\n",
        "pca_silscore"
      ]
    },
    {
      "cell_type": "code",
      "execution_count": 226,
      "metadata": {},
      "outputs": [
        {
          "data": {
            "text/plain": [
              "0.9214345136213967"
            ]
          },
          "execution_count": 226,
          "metadata": {},
          "output_type": "execute_result"
        }
      ],
      "source": [
        "## Trustworthiness\n",
        "pca_trust = trustworthiness(document_embed, pca_scaled, n_neighbors=5)\n",
        "pca_trust"
      ]
    },
    {
      "attachments": {},
      "cell_type": "markdown",
      "metadata": {},
      "source": [
        "### Autoencoders"
      ]
    },
    {
      "cell_type": "code",
      "execution_count": 227,
      "metadata": {},
      "outputs": [],
      "source": [
        "from utils.models import Autoencoder\n",
        "from utils.dataset import AEDataset\n",
        "from utils.functions import train_ae"
      ]
    },
    {
      "cell_type": "code",
      "execution_count": 228,
      "metadata": {},
      "outputs": [],
      "source": [
        "from sklearn.preprocessing import MinMaxScaler"
      ]
    },
    {
      "cell_type": "code",
      "execution_count": 229,
      "metadata": {},
      "outputs": [],
      "source": [
        "ae_dataset = AEDataset(embeddings=document_embed)"
      ]
    },
    {
      "cell_type": "code",
      "execution_count": 230,
      "metadata": {},
      "outputs": [],
      "source": [
        "ae_dataloader = DataLoader(ae_dataset, batch_size=256, shuffle=True)"
      ]
    },
    {
      "cell_type": "code",
      "execution_count": 231,
      "metadata": {},
      "outputs": [
        {
          "data": {
            "text/plain": [
              "tensor([[ 1.1562,  1.0523,  0.1210,  ..., -0.7026,  0.1719,  0.0953],\n",
              "        [ 0.6300,  0.5689,  0.8150,  ...,  0.2263,  0.6341,  0.4679],\n",
              "        [ 1.3089,  0.4673,  0.9148,  ..., -0.2927,  0.4554,  0.7986],\n",
              "        ...,\n",
              "        [ 0.1968, -0.3156,  0.9329,  ..., -0.2231,  0.6839,  0.7246],\n",
              "        [ 1.0004,  0.6600, -0.8727,  ..., -0.4884, -0.2421, -0.7643],\n",
              "        [ 0.4767,  0.2537,  1.0201,  ..., -0.4745,  0.6542,  0.8715]])"
            ]
          },
          "execution_count": 231,
          "metadata": {},
          "output_type": "execute_result"
        }
      ],
      "source": [
        "next(iter(ae_dataloader))"
      ]
    },
    {
      "cell_type": "code",
      "execution_count": 232,
      "metadata": {},
      "outputs": [],
      "source": [
        "import time\n",
        "import datetime\n",
        "def format_time(elapsed):\n",
        "\n",
        "    # Round to the nearest second.\n",
        "    elapsed_rounded = int(round((elapsed)))\n",
        "    \n",
        "    # Format as hh:mm:ss\n",
        "    return str(datetime.timedelta(seconds=elapsed_rounded))"
      ]
    },
    {
      "cell_type": "code",
      "execution_count": 233,
      "metadata": {},
      "outputs": [],
      "source": [
        "model = Autoencoder(input_dim=document_embed.shape[1], hidden_dim = 256, hidden_dim2=128,n_components=2).to(device)"
      ]
    },
    {
      "cell_type": "code",
      "execution_count": 234,
      "metadata": {},
      "outputs": [],
      "source": [
        "n_epochs=5\n",
        "batch_size=128\n",
        "optimizer = optim.Adam(model.parameters(), lr=0.0001)\n",
        "ae_lossf = nn.MSELoss()\n"
      ]
    },
    {
      "cell_type": "code",
      "execution_count": 235,
      "metadata": {},
      "outputs": [
        {
          "name": "stdout",
          "output_type": "stream",
          "text": [
            "Epoch:1\n",
            "\n",
            "Training...\n",
            "loss: 0.373084  [76800/26096]. Took 0:00:02\n",
            "\n",
            "  Training epoch took: 0:00:02\n",
            "Epoch:2\n",
            "\n",
            "Training...\n",
            "loss: 0.180980  [76800/26096]. Took 0:00:01\n",
            "\n",
            "  Training epoch took: 0:00:01\n",
            "Epoch:3\n",
            "\n",
            "Training...\n",
            "loss: 0.129114  [76800/26096]. Took 0:00:01\n",
            "\n",
            "  Training epoch took: 0:00:01\n",
            "Epoch:4\n",
            "\n",
            "Training...\n",
            "loss: 0.083689  [76800/26096]. Took 0:00:01\n",
            "\n",
            "  Training epoch took: 0:00:01\n",
            "Epoch:5\n",
            "\n",
            "Training...\n",
            "loss: 0.072102  [76800/26096]. Took 0:00:01\n",
            "\n",
            "  Training epoch took: 0:00:01\n"
          ]
        }
      ],
      "source": [
        "for epoch in range(n_epochs):\n",
        "    print(f'Epoch:{epoch+1}')\n",
        "    train_ae(ae_dataloader, model, optimizer, device, ae_lossf)"
      ]
    },
    {
      "cell_type": "code",
      "execution_count": 236,
      "metadata": {},
      "outputs": [],
      "source": [
        "_,ae_scaled,_= model(torch.tensor(document_embed, dtype=torch.float32).to(device))"
      ]
    },
    {
      "cell_type": "code",
      "execution_count": 237,
      "metadata": {},
      "outputs": [],
      "source": [
        "ae_scaled = ae_scaled.cpu().detach().numpy()"
      ]
    },
    {
      "cell_type": "code",
      "execution_count": 122,
      "metadata": {},
      "outputs": [],
      "source": [
        "emb_mean_dict = {}\n",
        "for name, group in manifesto_deu_rgr.groupby(['party_agg','election']):\n",
        "    idx = group.index\n",
        "    embed = ae_scaled[idx]\n",
        "    embed_mean = np.mean(embed, axis=0)\n",
        "    emb_mean_dict.update({name: embed_mean})\n"
      ]
    },
    {
      "cell_type": "code",
      "execution_count": 123,
      "metadata": {},
      "outputs": [],
      "source": [
        "ae_embeds = np.stack(list(emb_mean_dict.values()))\n"
      ]
    },
    {
      "cell_type": "code",
      "execution_count": 124,
      "metadata": {},
      "outputs": [
        {
          "data": {
            "text/plain": [
              "array([[1.        , 0.20251997],\n",
              "       [0.20251997, 1.        ]])"
            ]
          },
          "execution_count": 124,
          "metadata": {},
          "output_type": "execute_result"
        }
      ],
      "source": [
        "np.corrcoef(ae_scaled[:,0],pca_scaled[:,0])"
      ]
    },
    {
      "cell_type": "code",
      "execution_count": 238,
      "metadata": {},
      "outputs": [
        {
          "data": {
            "text/plain": [
              "-0.0364314"
            ]
          },
          "execution_count": 238,
          "metadata": {},
          "output_type": "execute_result"
        }
      ],
      "source": [
        "## Silhouette scores\n",
        "ae_silscore = silhouette_score(ae_scaled, y.flatten())\n",
        "ae_silscore"
      ]
    },
    {
      "cell_type": "code",
      "execution_count": 239,
      "metadata": {},
      "outputs": [
        {
          "data": {
            "text/plain": [
              "0.9236871035326173"
            ]
          },
          "execution_count": 239,
          "metadata": {},
          "output_type": "execute_result"
        }
      ],
      "source": [
        "## Trustworthiness\n",
        "ae_trust = trustworthiness(document_embed, ae_scaled, n_neighbors=5)\n",
        "ae_trust"
      ]
    },
    {
      "attachments": {},
      "cell_type": "markdown",
      "metadata": {},
      "source": [
        "### Unsupervised UMAP"
      ]
    },
    {
      "cell_type": "code",
      "execution_count": 242,
      "metadata": {},
      "outputs": [
        {
          "name": "stdout",
          "output_type": "stream",
          "text": [
            "UMAP(n_epochs=500, n_neighbors=500, random_state=1234, target_weight=None, verbose=True)\n",
            "Mon Jun 19 19:18:19 2023 Construct fuzzy simplicial set\n",
            "Mon Jun 19 19:18:19 2023 Finding Nearest Neighbors\n",
            "Mon Jun 19 19:18:19 2023 Building RP forest with 13 trees\n",
            "Mon Jun 19 19:18:19 2023 NN descent for 15 iterations\n",
            "\t 1  /  15\n",
            "\t 2  /  15\n",
            "\t 3  /  15\n",
            "\tStopping threshold met -- exiting after 3 iterations\n",
            "Mon Jun 19 19:18:59 2023 Finished Nearest Neighbor Search\n",
            "Mon Jun 19 19:19:03 2023 Construct embedding\n"
          ]
        },
        {
          "data": {
            "application/vnd.jupyter.widget-view+json": {
              "model_id": "00cc03df385a46e8b7ddeae80ce07182",
              "version_major": 2,
              "version_minor": 0
            },
            "text/plain": [
              "Epochs completed:   0%|            0/500 [00:00]"
            ]
          },
          "metadata": {},
          "output_type": "display_data"
        },
        {
          "name": "stdout",
          "output_type": "stream",
          "text": [
            "Mon Jun 19 19:20:31 2023 Finished embedding\n"
          ]
        }
      ],
      "source": [
        "umap_us_scaled = scale_topic(document_embed=document_embed, guide_labels=None, n_components=2, guidance_weight=None, random_state=seed_val)"
      ]
    },
    {
      "cell_type": "code",
      "execution_count": 130,
      "metadata": {},
      "outputs": [],
      "source": [
        "emb_mean_dict = {}\n",
        "for name, group in manifesto_deu_rgr.groupby(['party_agg','election']):\n",
        "    idx = group.index\n",
        "    embed = umap_us_scaled[idx]\n",
        "    embed_mean = np.mean(embed, axis=0)\n",
        "    emb_mean_dict.update({name: embed_mean})\n"
      ]
    },
    {
      "cell_type": "code",
      "execution_count": 131,
      "metadata": {},
      "outputs": [],
      "source": [
        "umap_us_embeds = np.stack(list(emb_mean_dict.values()))\n"
      ]
    },
    {
      "cell_type": "code",
      "execution_count": 132,
      "metadata": {},
      "outputs": [
        {
          "data": {
            "text/plain": [
              "array([[ 1.        , -0.26601971],\n",
              "       [-0.26601971,  1.        ]])"
            ]
          },
          "execution_count": 132,
          "metadata": {},
          "output_type": "execute_result"
        }
      ],
      "source": [
        "np.corrcoef(absscale,umap_us_embeds[:,0])"
      ]
    },
    {
      "cell_type": "code",
      "execution_count": 243,
      "metadata": {},
      "outputs": [
        {
          "data": {
            "text/plain": [
              "-0.019051991"
            ]
          },
          "execution_count": 243,
          "metadata": {},
          "output_type": "execute_result"
        }
      ],
      "source": [
        "## Silhouette scores\n",
        "umap_us_silscore = silhouette_score(umap_us_scaled, y.flatten())\n",
        "umap_us_silscore"
      ]
    },
    {
      "cell_type": "code",
      "execution_count": 244,
      "metadata": {},
      "outputs": [
        {
          "data": {
            "text/plain": [
              "0.9611847392290697"
            ]
          },
          "execution_count": 244,
          "metadata": {},
          "output_type": "execute_result"
        }
      ],
      "source": [
        "## Trustworthiness\n",
        "umap_us_trust = trustworthiness(document_embed, umap_us_scaled, n_neighbors=5)\n",
        "umap_us_trust"
      ]
    },
    {
      "attachments": {},
      "cell_type": "markdown",
      "metadata": {},
      "source": [
        "### Supervised Ivis"
      ]
    },
    {
      "cell_type": "code",
      "execution_count": 245,
      "metadata": {},
      "outputs": [],
      "source": [
        "from ivis import Ivis\n"
      ]
    },
    {
      "cell_type": "code",
      "execution_count": 248,
      "metadata": {},
      "outputs": [],
      "source": [
        "model = Ivis(n_epochs_without_progress=5, embedding_dims=2, k=500,supervision_weight=0.8, supervision_metric='CategoricalCrossentropy', distance='cosine_pn')"
      ]
    },
    {
      "cell_type": "code",
      "execution_count": 137,
      "metadata": {},
      "outputs": [
        {
          "data": {
            "text/plain": [
              "(26096, 1)"
            ]
          },
          "execution_count": 137,
          "metadata": {},
          "output_type": "execute_result"
        }
      ],
      "source": [
        "y.shape"
      ]
    },
    {
      "cell_type": "code",
      "execution_count": 249,
      "metadata": {},
      "outputs": [
        {
          "name": "stdout",
          "output_type": "stream",
          "text": [
            "Building KNN index\n"
          ]
        },
        {
          "name": "stderr",
          "output_type": "stream",
          "text": [
            "100%|██████████| 26096/26096 [00:01<00:00, 21205.59it/s]\n"
          ]
        },
        {
          "name": "stdout",
          "output_type": "stream",
          "text": [
            "Extracting KNN neighbours\n"
          ]
        },
        {
          "name": "stderr",
          "output_type": "stream",
          "text": [
            "100%|██████████| 26096/26096 [00:15<00:00, 1727.34it/s]\n"
          ]
        },
        {
          "name": "stdout",
          "output_type": "stream",
          "text": [
            "Training neural network\n",
            "Epoch 1/1000\n",
            "204/204 [==============================] - 3s 8ms/step - loss: 0.0048 - stacked_triplets_loss: 0.0242 - supervised_loss: 9.7534e-08\n",
            "Epoch 2/1000\n",
            "204/204 [==============================] - 2s 8ms/step - loss: 7.8027e-08 - stacked_triplets_loss: 0.0000e+00 - supervised_loss: 9.7534e-08\n",
            "Epoch 3/1000\n",
            "204/204 [==============================] - 2s 8ms/step - loss: 7.8027e-08 - stacked_triplets_loss: 0.0000e+00 - supervised_loss: 9.7534e-08\n",
            "Epoch 4/1000\n",
            "204/204 [==============================] - 2s 8ms/step - loss: 7.8027e-08 - stacked_triplets_loss: 0.0000e+00 - supervised_loss: 9.7534e-08\n",
            "Epoch 5/1000\n",
            "204/204 [==============================] - 1s 7ms/step - loss: 7.8027e-08 - stacked_triplets_loss: 0.0000e+00 - supervised_loss: 9.7534e-08\n",
            "Epoch 6/1000\n",
            "204/204 [==============================] - 2s 8ms/step - loss: 7.8027e-08 - stacked_triplets_loss: 0.0000e+00 - supervised_loss: 9.7534e-08\n",
            "Epoch 7/1000\n",
            "204/204 [==============================] - 2s 7ms/step - loss: 7.8027e-08 - stacked_triplets_loss: 0.0000e+00 - supervised_loss: 9.7534e-08\n",
            "Epoch 8/1000\n",
            "204/204 [==============================] - 2s 7ms/step - loss: 7.8027e-08 - stacked_triplets_loss: 0.0000e+00 - supervised_loss: 9.7534e-08\n",
            "204/204 [==============================] - 0s 845us/step\n"
          ]
        }
      ],
      "source": [
        "ivis_scaled = model.fit_transform(document_embed, y)"
      ]
    },
    {
      "cell_type": "code",
      "execution_count": null,
      "metadata": {},
      "outputs": [],
      "source": [
        "emb_mean_dict = {}\n",
        "for name, group in manifesto_deu_rgr.groupby(['party_agg','election']):\n",
        "    idx = group.index\n",
        "    embed = ivis_scaled[idx]\n",
        "    embed_mean = np.mean(embed, axis=0)\n",
        "    emb_mean_dict.update({name: embed_mean})\n"
      ]
    },
    {
      "cell_type": "code",
      "execution_count": null,
      "metadata": {},
      "outputs": [],
      "source": [
        "ivis_embeds = np.stack(list(emb_mean_dict.values()))\n"
      ]
    },
    {
      "cell_type": "code",
      "execution_count": 141,
      "metadata": {},
      "outputs": [
        {
          "data": {
            "text/plain": [
              "array([[1.        , 0.31875581],\n",
              "       [0.31875581, 1.        ]])"
            ]
          },
          "execution_count": 141,
          "metadata": {},
          "output_type": "execute_result"
        }
      ],
      "source": [
        "np.corrcoef(absscale,ivis_embeds[:,0])"
      ]
    },
    {
      "cell_type": "code",
      "execution_count": 250,
      "metadata": {},
      "outputs": [
        {
          "data": {
            "text/plain": [
              "-0.0549167"
            ]
          },
          "execution_count": 250,
          "metadata": {},
          "output_type": "execute_result"
        }
      ],
      "source": [
        "## Silhouette scores\n",
        "ivis_silscore = silhouette_score(ivis_scaled, y.flatten())\n",
        "ivis_silscore"
      ]
    },
    {
      "cell_type": "code",
      "execution_count": 251,
      "metadata": {},
      "outputs": [
        {
          "data": {
            "text/plain": [
              "0.8172615639825664"
            ]
          },
          "execution_count": 251,
          "metadata": {},
          "output_type": "execute_result"
        }
      ],
      "source": [
        "## Trustworthiness\n",
        "ivis_trust = trustworthiness(document_embed, ivis_scaled, n_neighbors=5)\n",
        "ivis_trust"
      ]
    },
    {
      "attachments": {},
      "cell_type": "markdown",
      "metadata": {},
      "source": [
        "### LDA "
      ]
    },
    {
      "cell_type": "code",
      "execution_count": 252,
      "metadata": {},
      "outputs": [],
      "source": [
        "from sklearn.discriminant_analysis import LinearDiscriminantAnalysis"
      ]
    },
    {
      "cell_type": "code",
      "execution_count": 253,
      "metadata": {},
      "outputs": [],
      "source": [
        "clf = LinearDiscriminantAnalysis()"
      ]
    },
    {
      "cell_type": "code",
      "execution_count": 254,
      "metadata": {},
      "outputs": [],
      "source": [
        "lda_scaled = clf.fit_transform(document_embed,y.flatten())"
      ]
    },
    {
      "cell_type": "code",
      "execution_count": 147,
      "metadata": {},
      "outputs": [],
      "source": [
        "emb_mean_dict = {}\n",
        "for name, group in manifesto_deu_rgr.groupby(['party_agg','election']):\n",
        "    idx = group.index\n",
        "    embed = lda_scaled[idx]\n",
        "    embed_mean = np.mean(embed, axis=0)\n",
        "    emb_mean_dict.update({name: embed_mean})\n",
        "\n",
        "\n"
      ]
    },
    {
      "cell_type": "code",
      "execution_count": 148,
      "metadata": {},
      "outputs": [],
      "source": [
        "lda_embeds = np.stack(list(emb_mean_dict.values()))\n"
      ]
    },
    {
      "cell_type": "code",
      "execution_count": 149,
      "metadata": {},
      "outputs": [
        {
          "data": {
            "text/plain": [
              "array([[ 1.        , -0.09517186],\n",
              "       [-0.09517186,  1.        ]])"
            ]
          },
          "execution_count": 149,
          "metadata": {},
          "output_type": "execute_result"
        }
      ],
      "source": [
        "np.corrcoef(absscale,lda_embeds[:,0])"
      ]
    },
    {
      "cell_type": "code",
      "execution_count": 255,
      "metadata": {},
      "outputs": [
        {
          "data": {
            "text/plain": [
              "-0.015122020588360723"
            ]
          },
          "execution_count": 255,
          "metadata": {},
          "output_type": "execute_result"
        }
      ],
      "source": [
        "## Silhouette scores\n",
        "lda_silscore = silhouette_score(lda_scaled, y.flatten())\n",
        "lda_silscore"
      ]
    },
    {
      "cell_type": "code",
      "execution_count": 256,
      "metadata": {},
      "outputs": [
        {
          "data": {
            "text/plain": [
              "0.5336587538056827"
            ]
          },
          "execution_count": 256,
          "metadata": {},
          "output_type": "execute_result"
        }
      ],
      "source": [
        "## Trustworthiness\n",
        "lda_trust = trustworthiness(document_embed, lda_scaled, n_neighbors=5)\n",
        "lda_trust"
      ]
    },
    {
      "attachments": {},
      "cell_type": "markdown",
      "metadata": {},
      "source": [
        "### Save all scores and embeddings"
      ]
    },
    {
      "cell_type": "code",
      "execution_count": 159,
      "metadata": {},
      "outputs": [],
      "source": [
        "np.savetxt('results/arrays/umap_us_scaled.csv', umap_us_scaled)\n",
        "np.savetxt('results/arrays/umap_us_embeds.csv', umap_us_embeds)\n",
        "np.savetxt('results/arrays/pca_scaled.csv', pca_scaled)\n",
        "np.savetxt('results/arrays/pca_embeds.csv', pca_embeds)\n",
        "np.savetxt('results/arrays/ae_scaled.csv', ae_scaled)\n",
        "np.savetxt('results/arrays/ae_embeds.csv', ae_embeds)\n",
        "np.savetxt('results/arrays/ivis_scaled.csv', ivis_scaled)\n",
        "np.savetxt('results/arrays/ivis_embeds.csv', ivis_embeds)\n",
        "np.savetxt('results/arrays/lda_scaled.csv', lda_scaled)\n",
        "np.savetxt('results/arrays/lda_embeds.csv', lda_embeds)"
      ]
    },
    {
      "cell_type": "code",
      "execution_count": 261,
      "metadata": {},
      "outputs": [],
      "source": [
        "## Save trustworthiness and silhouette scores\n",
        "df = pd.DataFrame({'techniques': ['pca', 'umap_supervised','umap_unsupervised', 'ivis', 'lda', 'autoencoders'], 'trustworthiness': [pca_trust, umap_s_trust, umap_us_trust,  ivis_trust, lda_trust, ae_trust], \n",
        "'silhouette': [pca_silscore, umap_s_silscore, umap_us_silscore, ivis_silscore, lda_silscore, ae_silscore], \n",
        "})"
      ]
    },
    {
      "cell_type": "code",
      "execution_count": 262,
      "metadata": {},
      "outputs": [
        {
          "data": {
            "text/html": [
              "<div>\n",
              "<style scoped>\n",
              "    .dataframe tbody tr th:only-of-type {\n",
              "        vertical-align: middle;\n",
              "    }\n",
              "\n",
              "    .dataframe tbody tr th {\n",
              "        vertical-align: top;\n",
              "    }\n",
              "\n",
              "    .dataframe thead th {\n",
              "        text-align: right;\n",
              "    }\n",
              "</style>\n",
              "<table border=\"1\" class=\"dataframe\">\n",
              "  <thead>\n",
              "    <tr style=\"text-align: right;\">\n",
              "      <th></th>\n",
              "      <th>techniques</th>\n",
              "      <th>trustworthiness</th>\n",
              "      <th>silhouette</th>\n",
              "    </tr>\n",
              "  </thead>\n",
              "  <tbody>\n",
              "    <tr>\n",
              "      <th>0</th>\n",
              "      <td>pca</td>\n",
              "      <td>0.92</td>\n",
              "      <td>-0.02</td>\n",
              "    </tr>\n",
              "    <tr>\n",
              "      <th>1</th>\n",
              "      <td>umap_supervised</td>\n",
              "      <td>0.95</td>\n",
              "      <td>0.84</td>\n",
              "    </tr>\n",
              "    <tr>\n",
              "      <th>2</th>\n",
              "      <td>umap_unsupervised</td>\n",
              "      <td>0.96</td>\n",
              "      <td>-0.02</td>\n",
              "    </tr>\n",
              "    <tr>\n",
              "      <th>3</th>\n",
              "      <td>ivis</td>\n",
              "      <td>0.82</td>\n",
              "      <td>-0.05</td>\n",
              "    </tr>\n",
              "    <tr>\n",
              "      <th>4</th>\n",
              "      <td>lda</td>\n",
              "      <td>0.53</td>\n",
              "      <td>-0.02</td>\n",
              "    </tr>\n",
              "    <tr>\n",
              "      <th>5</th>\n",
              "      <td>autoencoders</td>\n",
              "      <td>0.92</td>\n",
              "      <td>-0.04</td>\n",
              "    </tr>\n",
              "  </tbody>\n",
              "</table>\n",
              "</div>"
            ],
            "text/plain": [
              "          techniques  trustworthiness  silhouette\n",
              "0                pca             0.92       -0.02\n",
              "1    umap_supervised             0.95        0.84\n",
              "2  umap_unsupervised             0.96       -0.02\n",
              "3               ivis             0.82       -0.05\n",
              "4                lda             0.53       -0.02\n",
              "5       autoencoders             0.92       -0.04"
            ]
          },
          "execution_count": 262,
          "metadata": {},
          "output_type": "execute_result"
        }
      ],
      "source": [
        "df.iloc[:,1:3] = round(df.iloc[:,1:3],2)\n",
        "df"
      ]
    },
    {
      "cell_type": "code",
      "execution_count": 263,
      "metadata": {},
      "outputs": [],
      "source": [
        "df.to_csv('results/arrays/dr_valid_scores.csv', index=False)"
      ]
    },
    {
      "attachments": {},
      "cell_type": "markdown",
      "metadata": {},
      "source": [
        "# Extensions: Stances versus Trump"
      ]
    },
    {
      "attachments": {},
      "cell_type": "markdown",
      "metadata": {},
      "source": [
        "## First, train a model for 2-class only"
      ]
    },
    {
      "cell_type": "code",
      "execution_count": 59,
      "metadata": {},
      "outputs": [
        {
          "name": "stderr",
          "output_type": "stream",
          "text": [
            "Could not locate the tokenizer configuration file, will try to use the model config instead.\n",
            "loading configuration file config.json from cache at C:\\Users\\Hung/.cache\\huggingface\\hub\\models--xlm-roberta-base\\snapshots\\77de1f7a7e5e737aead1cd880979d4f1b3af6668\\config.json\n",
            "Model config XLMRobertaConfig {\n",
            "  \"_name_or_path\": \"xlm-roberta-base\",\n",
            "  \"architectures\": [\n",
            "    \"XLMRobertaForMaskedLM\"\n",
            "  ],\n",
            "  \"attention_probs_dropout_prob\": 0.1,\n",
            "  \"bos_token_id\": 0,\n",
            "  \"classifier_dropout\": null,\n",
            "  \"eos_token_id\": 2,\n",
            "  \"hidden_act\": \"gelu\",\n",
            "  \"hidden_dropout_prob\": 0.1,\n",
            "  \"hidden_size\": 768,\n",
            "  \"initializer_range\": 0.02,\n",
            "  \"intermediate_size\": 3072,\n",
            "  \"layer_norm_eps\": 1e-05,\n",
            "  \"max_position_embeddings\": 514,\n",
            "  \"model_type\": \"xlm-roberta\",\n",
            "  \"num_attention_heads\": 12,\n",
            "  \"num_hidden_layers\": 12,\n",
            "  \"output_past\": true,\n",
            "  \"pad_token_id\": 1,\n",
            "  \"position_embedding_type\": \"absolute\",\n",
            "  \"transformers_version\": \"4.25.1\",\n",
            "  \"type_vocab_size\": 1,\n",
            "  \"use_cache\": true,\n",
            "  \"vocab_size\": 250002\n",
            "}\n",
            "\n",
            "loading file sentencepiece.bpe.model from cache at C:\\Users\\Hung/.cache\\huggingface\\hub\\models--xlm-roberta-base\\snapshots\\77de1f7a7e5e737aead1cd880979d4f1b3af6668\\sentencepiece.bpe.model\n",
            "loading file tokenizer.json from cache at C:\\Users\\Hung/.cache\\huggingface\\hub\\models--xlm-roberta-base\\snapshots\\77de1f7a7e5e737aead1cd880979d4f1b3af6668\\tokenizer.json\n",
            "loading file added_tokens.json from cache at None\n",
            "loading file special_tokens_map.json from cache at None\n",
            "loading file tokenizer_config.json from cache at None\n",
            "loading configuration file config.json from cache at C:\\Users\\Hung/.cache\\huggingface\\hub\\models--xlm-roberta-base\\snapshots\\77de1f7a7e5e737aead1cd880979d4f1b3af6668\\config.json\n",
            "Model config XLMRobertaConfig {\n",
            "  \"_name_or_path\": \"xlm-roberta-base\",\n",
            "  \"architectures\": [\n",
            "    \"XLMRobertaForMaskedLM\"\n",
            "  ],\n",
            "  \"attention_probs_dropout_prob\": 0.1,\n",
            "  \"bos_token_id\": 0,\n",
            "  \"classifier_dropout\": null,\n",
            "  \"eos_token_id\": 2,\n",
            "  \"hidden_act\": \"gelu\",\n",
            "  \"hidden_dropout_prob\": 0.1,\n",
            "  \"hidden_size\": 768,\n",
            "  \"initializer_range\": 0.02,\n",
            "  \"intermediate_size\": 3072,\n",
            "  \"layer_norm_eps\": 1e-05,\n",
            "  \"max_position_embeddings\": 514,\n",
            "  \"model_type\": \"xlm-roberta\",\n",
            "  \"num_attention_heads\": 12,\n",
            "  \"num_hidden_layers\": 12,\n",
            "  \"output_past\": true,\n",
            "  \"pad_token_id\": 1,\n",
            "  \"position_embedding_type\": \"absolute\",\n",
            "  \"transformers_version\": \"4.25.1\",\n",
            "  \"type_vocab_size\": 1,\n",
            "  \"use_cache\": true,\n",
            "  \"vocab_size\": 250002\n",
            "}\n",
            "\n"
          ]
        }
      ],
      "source": [
        "model_name = 'xlm-roberta-base'\n",
        "tokenizer = AutoTokenizer.from_pretrained(model_name)\n",
        "data_collator = DataCollatorWithPadding(tokenizer)"
      ]
    },
    {
      "cell_type": "code",
      "execution_count": 46,
      "metadata": {},
      "outputs": [],
      "source": [
        "manifesto_2cl = manifesto_regrouped[manifesto_regrouped.sentiment.isin(['left', 'right'])].reset_index(drop=True)"
      ]
    },
    {
      "cell_type": "code",
      "execution_count": 61,
      "metadata": {},
      "outputs": [
        {
          "data": {
            "text/html": [
              "<div>\n",
              "<style scoped>\n",
              "    .dataframe tbody tr th:only-of-type {\n",
              "        vertical-align: middle;\n",
              "    }\n",
              "\n",
              "    .dataframe tbody tr th {\n",
              "        vertical-align: top;\n",
              "    }\n",
              "\n",
              "    .dataframe thead th {\n",
              "        text-align: right;\n",
              "    }\n",
              "</style>\n",
              "<table border=\"1\" class=\"dataframe\">\n",
              "  <thead>\n",
              "    <tr style=\"text-align: right;\">\n",
              "      <th></th>\n",
              "      <th>text</th>\n",
              "      <th>country_party_election_sentiment</th>\n",
              "      <th>country</th>\n",
              "      <th>party</th>\n",
              "      <th>election</th>\n",
              "      <th>sentiment</th>\n",
              "    </tr>\n",
              "  </thead>\n",
              "  <tbody>\n",
              "    <tr>\n",
              "      <th>0</th>\n",
              "      <td>Esta última Legislatura ha venido marcada por ...</td>\n",
              "      <td>Spain_Coalición Canaria - Nueva Canarias_2011_...</td>\n",
              "      <td>Spain</td>\n",
              "      <td>Coalición Canaria - Nueva Canarias</td>\n",
              "      <td>2011</td>\n",
              "      <td>right</td>\n",
              "    </tr>\n",
              "    <tr>\n",
              "      <th>1</th>\n",
              "      <td>Para ello, consideramos que no solo debe actua...</td>\n",
              "      <td>Spain_Coalición Canaria - Nueva Canarias_2011_...</td>\n",
              "      <td>Spain</td>\n",
              "      <td>Coalición Canaria - Nueva Canarias</td>\n",
              "      <td>2011</td>\n",
              "      <td>right</td>\n",
              "    </tr>\n",
              "    <tr>\n",
              "      <th>2</th>\n",
              "      <td>Los nacionalistas canarios, atendiendo a las c...</td>\n",
              "      <td>Spain_Coalición Canaria - Nueva Canarias_2011_...</td>\n",
              "      <td>Spain</td>\n",
              "      <td>Coalición Canaria - Nueva Canarias</td>\n",
              "      <td>2011</td>\n",
              "      <td>right</td>\n",
              "    </tr>\n",
              "    <tr>\n",
              "      <th>3</th>\n",
              "      <td>Se ha de conseguir el apoyo estatal al plan de...</td>\n",
              "      <td>Spain_Coalición Canaria - Nueva Canarias_2011_...</td>\n",
              "      <td>Spain</td>\n",
              "      <td>Coalición Canaria - Nueva Canarias</td>\n",
              "      <td>2011</td>\n",
              "      <td>right</td>\n",
              "    </tr>\n",
              "    <tr>\n",
              "      <th>4</th>\n",
              "      <td>Esta situación se ha producido a pesar de nues...</td>\n",
              "      <td>Spain_Coalición Canaria - Nueva Canarias_2011_...</td>\n",
              "      <td>Spain</td>\n",
              "      <td>Coalición Canaria - Nueva Canarias</td>\n",
              "      <td>2011</td>\n",
              "      <td>right</td>\n",
              "    </tr>\n",
              "    <tr>\n",
              "      <th>...</th>\n",
              "      <td>...</td>\n",
              "      <td>...</td>\n",
              "      <td>...</td>\n",
              "      <td>...</td>\n",
              "      <td>...</td>\n",
              "      <td>...</td>\n",
              "    </tr>\n",
              "    <tr>\n",
              "      <th>57091</th>\n",
              "      <td>En los últimos días aparecen iniciativas que p...</td>\n",
              "      <td>Spain_Partido Andalucista_2004_right</td>\n",
              "      <td>Spain</td>\n",
              "      <td>Partido Andalucista</td>\n",
              "      <td>2004</td>\n",
              "      <td>right</td>\n",
              "    </tr>\n",
              "    <tr>\n",
              "      <th>57092</th>\n",
              "      <td>• El ejercicio de la solidaridad interterritor...</td>\n",
              "      <td>Spain_Partido Andalucista_2004_right</td>\n",
              "      <td>Spain</td>\n",
              "      <td>Partido Andalucista</td>\n",
              "      <td>2004</td>\n",
              "      <td>right</td>\n",
              "    </tr>\n",
              "    <tr>\n",
              "      <th>57093</th>\n",
              "      <td>• La neutralidad territorial del sistema fisca...</td>\n",
              "      <td>Spain_Partido Andalucista_2004_right</td>\n",
              "      <td>Spain</td>\n",
              "      <td>Partido Andalucista</td>\n",
              "      <td>2004</td>\n",
              "      <td>right</td>\n",
              "    </tr>\n",
              "    <tr>\n",
              "      <th>57094</th>\n",
              "      <td>• La unidad de mercado plantea un problema de ...</td>\n",
              "      <td>Spain_Partido Andalucista_2004_right</td>\n",
              "      <td>Spain</td>\n",
              "      <td>Partido Andalucista</td>\n",
              "      <td>2004</td>\n",
              "      <td>right</td>\n",
              "    </tr>\n",
              "    <tr>\n",
              "      <th>57095</th>\n",
              "      <td>En los últimos 18 años, el PSOE desde 1986 a 1...</td>\n",
              "      <td>Spain_Partido Andalucista_2004_right</td>\n",
              "      <td>Spain</td>\n",
              "      <td>Partido Andalucista</td>\n",
              "      <td>2004</td>\n",
              "      <td>right</td>\n",
              "    </tr>\n",
              "  </tbody>\n",
              "</table>\n",
              "<p>57096 rows × 6 columns</p>\n",
              "</div>"
            ],
            "text/plain": [
              "                                                    text  \\\n",
              "0      Esta última Legislatura ha venido marcada por ...   \n",
              "1      Para ello, consideramos que no solo debe actua...   \n",
              "2      Los nacionalistas canarios, atendiendo a las c...   \n",
              "3      Se ha de conseguir el apoyo estatal al plan de...   \n",
              "4      Esta situación se ha producido a pesar de nues...   \n",
              "...                                                  ...   \n",
              "57091  En los últimos días aparecen iniciativas que p...   \n",
              "57092  • El ejercicio de la solidaridad interterritor...   \n",
              "57093  • La neutralidad territorial del sistema fisca...   \n",
              "57094  • La unidad de mercado plantea un problema de ...   \n",
              "57095  En los últimos 18 años, el PSOE desde 1986 a 1...   \n",
              "\n",
              "                        country_party_election_sentiment country  \\\n",
              "0      Spain_Coalición Canaria - Nueva Canarias_2011_...   Spain   \n",
              "1      Spain_Coalición Canaria - Nueva Canarias_2011_...   Spain   \n",
              "2      Spain_Coalición Canaria - Nueva Canarias_2011_...   Spain   \n",
              "3      Spain_Coalición Canaria - Nueva Canarias_2011_...   Spain   \n",
              "4      Spain_Coalición Canaria - Nueva Canarias_2011_...   Spain   \n",
              "...                                                  ...     ...   \n",
              "57091               Spain_Partido Andalucista_2004_right   Spain   \n",
              "57092               Spain_Partido Andalucista_2004_right   Spain   \n",
              "57093               Spain_Partido Andalucista_2004_right   Spain   \n",
              "57094               Spain_Partido Andalucista_2004_right   Spain   \n",
              "57095               Spain_Partido Andalucista_2004_right   Spain   \n",
              "\n",
              "                                    party election sentiment  \n",
              "0      Coalición Canaria - Nueva Canarias     2011     right  \n",
              "1      Coalición Canaria - Nueva Canarias     2011     right  \n",
              "2      Coalición Canaria - Nueva Canarias     2011     right  \n",
              "3      Coalición Canaria - Nueva Canarias     2011     right  \n",
              "4      Coalición Canaria - Nueva Canarias     2011     right  \n",
              "...                                   ...      ...       ...  \n",
              "57091                 Partido Andalucista     2004     right  \n",
              "57092                 Partido Andalucista     2004     right  \n",
              "57093                 Partido Andalucista     2004     right  \n",
              "57094                 Partido Andalucista     2004     right  \n",
              "57095                 Partido Andalucista     2004     right  \n",
              "\n",
              "[57096 rows x 6 columns]"
            ]
          },
          "execution_count": 61,
          "metadata": {},
          "output_type": "execute_result"
        }
      ],
      "source": [
        "manifesto_2cl"
      ]
    },
    {
      "cell_type": "code",
      "execution_count": 62,
      "metadata": {},
      "outputs": [],
      "source": [
        "manifesto_reduced = manifesto_2cl[['sentiment','text']]"
      ]
    },
    {
      "cell_type": "code",
      "execution_count": 63,
      "metadata": {},
      "outputs": [
        {
          "data": {
            "text/plain": [
              "{'left', 'right'}"
            ]
          },
          "execution_count": 63,
          "metadata": {},
          "output_type": "execute_result"
        }
      ],
      "source": [
        "set(manifesto_reduced['sentiment'])"
      ]
    },
    {
      "cell_type": "code",
      "execution_count": 64,
      "metadata": {},
      "outputs": [
        {
          "data": {
            "application/vnd.jupyter.widget-view+json": {
              "model_id": "94973ff82e134565840d7123e7c93bbf",
              "version_major": 2,
              "version_minor": 0
            },
            "text/plain": [
              "Casting to class labels:   0%|          | 0/58 [00:00<?, ?ba/s]"
            ]
          },
          "metadata": {},
          "output_type": "display_data"
        },
        {
          "data": {
            "application/vnd.jupyter.widget-view+json": {
              "model_id": "469c9d014db74b0b87d11159b946c547",
              "version_major": 2,
              "version_minor": 0
            },
            "text/plain": [
              "Casting the dataset:   0%|          | 0/6 [00:00<?, ?ba/s]"
            ]
          },
          "metadata": {},
          "output_type": "display_data"
        }
      ],
      "source": [
        "manifesto_dataset = Dataset.from_pandas(manifesto_reduced)\n",
        "manifesto_dataset = manifesto_dataset.class_encode_column('sentiment')\n",
        "manifesto_dataset = manifesto_dataset.rename_column('sentiment','labels')\n",
        "\n"
      ]
    },
    {
      "cell_type": "code",
      "execution_count": 32,
      "metadata": {},
      "outputs": [],
      "source": [
        "train_test = manifesto_dataset.train_test_split(test_size=0.1, stratify_by_column='labels', seed=seed_val)\n",
        "train_eval = train_test['train'].train_test_split(test_size=0.3, stratify_by_column='labels', seed=seed_val)"
      ]
    },
    {
      "cell_type": "code",
      "execution_count": 65,
      "metadata": {},
      "outputs": [
        {
          "data": {
            "text/plain": [
              "DatasetDict({\n",
              "    train: Dataset({\n",
              "        features: ['labels', 'text'],\n",
              "        num_rows: 35970\n",
              "    })\n",
              "    test: Dataset({\n",
              "        features: ['labels', 'text'],\n",
              "        num_rows: 5710\n",
              "    })\n",
              "    eval: Dataset({\n",
              "        features: ['labels', 'text'],\n",
              "        num_rows: 15416\n",
              "    })\n",
              "})"
            ]
          },
          "execution_count": 65,
          "metadata": {},
          "output_type": "execute_result"
        }
      ],
      "source": [
        "manifesto_datasets = DatasetDict({\n",
        "    'train': train_eval['train'],\n",
        "    'test': train_test['test'],\n",
        "    'eval': train_eval['test']\n",
        "})\n",
        "manifesto_datasets"
      ]
    },
    {
      "cell_type": "code",
      "execution_count": 66,
      "metadata": {},
      "outputs": [],
      "source": [
        "def tokenize_function(dataset):\n",
        "    return tokenizer(dataset['text'], truncation=True)\n"
      ]
    },
    {
      "cell_type": "code",
      "execution_count": 67,
      "metadata": {},
      "outputs": [
        {
          "data": {
            "application/vnd.jupyter.widget-view+json": {
              "model_id": "81d9ea0e48a649489183500f44860bc8",
              "version_major": 2,
              "version_minor": 0
            },
            "text/plain": [
              "  0%|          | 0/36 [00:00<?, ?ba/s]"
            ]
          },
          "metadata": {},
          "output_type": "display_data"
        },
        {
          "data": {
            "application/vnd.jupyter.widget-view+json": {
              "model_id": "d45cf2e5483c423aabd2fa574fe061d0",
              "version_major": 2,
              "version_minor": 0
            },
            "text/plain": [
              "  0%|          | 0/6 [00:00<?, ?ba/s]"
            ]
          },
          "metadata": {},
          "output_type": "display_data"
        },
        {
          "data": {
            "application/vnd.jupyter.widget-view+json": {
              "model_id": "bfd201071dfe473492d237a4f52416c7",
              "version_major": 2,
              "version_minor": 0
            },
            "text/plain": [
              "  0%|          | 0/16 [00:00<?, ?ba/s]"
            ]
          },
          "metadata": {},
          "output_type": "display_data"
        }
      ],
      "source": [
        "tokenized_datasets = manifesto_datasets.map(tokenize_function, batched=True, remove_columns=['text'])"
      ]
    },
    {
      "cell_type": "code",
      "execution_count": 68,
      "metadata": {},
      "outputs": [
        {
          "data": {
            "text/plain": [
              "['labels', 'input_ids', 'attention_mask']"
            ]
          },
          "execution_count": 68,
          "metadata": {},
          "output_type": "execute_result"
        }
      ],
      "source": [
        "tokenized_datasets.set_format(\"torch\")\n",
        "tokenized_datasets[\"train\"].column_names"
      ]
    },
    {
      "cell_type": "code",
      "execution_count": 69,
      "metadata": {},
      "outputs": [
        {
          "name": "stderr",
          "output_type": "stream",
          "text": [
            "loading configuration file config.json from cache at C:\\Users\\Hung/.cache\\huggingface\\hub\\models--xlm-roberta-base\\snapshots\\77de1f7a7e5e737aead1cd880979d4f1b3af6668\\config.json\n",
            "You are using a model of type xlm-roberta to instantiate a model of type roberta. This is not supported for all configurations of models and can yield errors.\n",
            "Model config RobertaConfig {\n",
            "  \"architectures\": [\n",
            "    \"XLMRobertaForMaskedLM\"\n",
            "  ],\n",
            "  \"attention_probs_dropout_prob\": 0.1,\n",
            "  \"bos_token_id\": 0,\n",
            "  \"classifier_dropout\": null,\n",
            "  \"eos_token_id\": 2,\n",
            "  \"hidden_act\": \"gelu\",\n",
            "  \"hidden_dropout_prob\": 0.1,\n",
            "  \"hidden_size\": 768,\n",
            "  \"initializer_range\": 0.02,\n",
            "  \"intermediate_size\": 3072,\n",
            "  \"layer_norm_eps\": 1e-05,\n",
            "  \"max_position_embeddings\": 514,\n",
            "  \"model_type\": \"roberta\",\n",
            "  \"num_attention_heads\": 12,\n",
            "  \"num_hidden_layers\": 12,\n",
            "  \"output_past\": true,\n",
            "  \"pad_token_id\": 1,\n",
            "  \"position_embedding_type\": \"absolute\",\n",
            "  \"transformers_version\": \"4.25.1\",\n",
            "  \"type_vocab_size\": 1,\n",
            "  \"use_cache\": true,\n",
            "  \"vocab_size\": 250002\n",
            "}\n",
            "\n",
            "loading weights file pytorch_model.bin from cache at C:\\Users\\Hung/.cache\\huggingface\\hub\\models--xlm-roberta-base\\snapshots\\77de1f7a7e5e737aead1cd880979d4f1b3af6668\\pytorch_model.bin\n",
            "Some weights of the model checkpoint at xlm-roberta-base were not used when initializing RobertaForSequenceClassification: ['roberta.pooler.dense.bias', 'lm_head.layer_norm.bias', 'lm_head.layer_norm.weight', 'lm_head.dense.bias', 'roberta.pooler.dense.weight', 'lm_head.decoder.weight', 'lm_head.dense.weight', 'lm_head.bias']\n",
            "- This IS expected if you are initializing RobertaForSequenceClassification from the checkpoint of a model trained on another task or with another architecture (e.g. initializing a BertForSequenceClassification model from a BertForPreTraining model).\n",
            "- This IS NOT expected if you are initializing RobertaForSequenceClassification from the checkpoint of a model that you expect to be exactly identical (initializing a BertForSequenceClassification model from a BertForSequenceClassification model).\n",
            "Some weights of RobertaForSequenceClassification were not initialized from the model checkpoint at xlm-roberta-base and are newly initialized: ['classifier.dense.bias', 'classifier.out_proj.bias', 'classifier.dense.weight', 'classifier.out_proj.weight']\n",
            "You should probably TRAIN this model on a down-stream task to be able to use it for predictions and inference.\n"
          ]
        }
      ],
      "source": [
        "num_classes = len(set(manifesto_2cl['sentiment']))\n",
        "model = RobertaForSequenceClassification.from_pretrained(model_name, num_labels=num_classes).to(device)\n"
      ]
    },
    {
      "cell_type": "code",
      "execution_count": 70,
      "metadata": {},
      "outputs": [],
      "source": [
        "## Declare important variables\n",
        "batch_size = 32\n",
        "num_epochs = 3\n",
        "total_steps = len(tokenized_datasets['train'])//batch_size*num_epochs\n",
        "logging_steps = total_steps//10\n",
        "lr = 2e-5"
      ]
    },
    {
      "cell_type": "code",
      "execution_count": 71,
      "metadata": {},
      "outputs": [
        {
          "name": "stderr",
          "output_type": "stream",
          "text": [
            "PyTorch: setting up devices\n",
            "The default value for the training argument `--report_to` will change in v5 (from all installed integrations to none). In v5, you will need to use `--report_to all` to get the same behavior as now. You should start updating your code and make this info disappear :-).\n"
          ]
        }
      ],
      "source": [
        "training_args = TrainingArguments(\n",
        "    output_dir=\"results/multilingual/manifesto_2cl\",\n",
        "    overwrite_output_dir=True,\n",
        "    evaluation_strategy=\"epoch\",\n",
        "    learning_rate=lr,\n",
        "    weight_decay=0.01,\n",
        "    per_device_train_batch_size=batch_size,\n",
        "    per_device_eval_batch_size=batch_size,\n",
        "    fp16=True,\n",
        "    logging_steps= logging_steps,\n",
        "    num_train_epochs = num_epochs,\n",
        "    save_strategy='epoch',\n",
        "    load_best_model_at_end=True,\n",
        "    optim='adamw_torch'\n",
        ")"
      ]
    },
    {
      "cell_type": "code",
      "execution_count": 72,
      "metadata": {},
      "outputs": [
        {
          "name": "stderr",
          "output_type": "stream",
          "text": [
            "Using cuda_amp half precision backend\n"
          ]
        }
      ],
      "source": [
        "def compute_metrics(eval_preds):\n",
        "    logits, labels = eval_preds\n",
        "    predictions = np.argmax(logits, axis=-1)\n",
        "    precision, recall, f1, _ = precision_recall_fscore_support(labels, predictions, average=None)\n",
        "    matrix = confusion_matrix(labels, predictions)\n",
        "    acc = matrix.diagonal()/matrix.sum(axis=1)\n",
        "    return {\n",
        "        'precision': precision.tolist(),\n",
        "        'recall': recall.tolist(),\n",
        "        'f1': f1.tolist(),\n",
        "        'accuracy': acc.tolist()\n",
        "    }\n",
        "trainer = Trainer(\n",
        "    model,\n",
        "    training_args,\n",
        "    train_dataset=tokenized_datasets[\"train\"],\n",
        "    eval_dataset=tokenized_datasets[\"eval\"],\n",
        "    tokenizer=tokenizer,\n",
        "    compute_metrics=compute_metrics,\n",
        "    data_collator=data_collator\n",
        ")"
      ]
    },
    {
      "cell_type": "code",
      "execution_count": 73,
      "metadata": {},
      "outputs": [
        {
          "name": "stderr",
          "output_type": "stream",
          "text": [
            "***** Running training *****\n",
            "  Num examples = 35970\n",
            "  Num Epochs = 3\n",
            "  Instantaneous batch size per device = 32\n",
            "  Total train batch size (w. parallel, distributed & accumulation) = 32\n",
            "  Gradient Accumulation steps = 1\n",
            "  Total optimization steps = 3375\n",
            "  Number of trainable parameters = 278045186\n"
          ]
        },
        {
          "data": {
            "application/vnd.jupyter.widget-view+json": {
              "model_id": "b36a8f47b1cb4da5a96d6b6addf4fe7e",
              "version_major": 2,
              "version_minor": 0
            },
            "text/plain": [
              "  0%|          | 0/3375 [00:00<?, ?it/s]"
            ]
          },
          "metadata": {},
          "output_type": "display_data"
        },
        {
          "name": "stderr",
          "output_type": "stream",
          "text": [
            "You're using a XLMRobertaTokenizerFast tokenizer. Please note that with a fast tokenizer, using the `__call__` method is faster than using a method to encode the text followed by a call to the `pad` method to get a padded encoding.\n"
          ]
        },
        {
          "name": "stdout",
          "output_type": "stream",
          "text": [
            "{'loss': 0.4752, 'learning_rate': 1.8020740740740742e-05, 'epoch': 0.3}\n",
            "{'loss': 0.3451, 'learning_rate': 1.6023703703703706e-05, 'epoch': 0.6}\n",
            "{'loss': 0.2991, 'learning_rate': 1.4026666666666669e-05, 'epoch': 0.9}\n"
          ]
        },
        {
          "name": "stderr",
          "output_type": "stream",
          "text": [
            "***** Running Evaluation *****\n",
            "  Num examples = 15416\n",
            "  Batch size = 32\n"
          ]
        },
        {
          "data": {
            "application/vnd.jupyter.widget-view+json": {
              "model_id": "a55b20d1596e4401b7d4d999fe5477c8",
              "version_major": 2,
              "version_minor": 0
            },
            "text/plain": [
              "  0%|          | 0/482 [00:00<?, ?it/s]"
            ]
          },
          "metadata": {},
          "output_type": "display_data"
        },
        {
          "name": "stderr",
          "output_type": "stream",
          "text": [
            "Trainer is attempting to log a value of \"[0.9300870245428767, 0.8146078242435922]\" of type <class 'list'> for key \"eval/precision\" as a scalar. This invocation of Tensorboard's writer.add_scalar() is incorrect so we dropped this attribute.\n",
            "Trainer is attempting to log a value of \"[0.9081535230093565, 0.8553217320922704]\" of type <class 'list'> for key \"eval/recall\" as a scalar. This invocation of Tensorboard's writer.add_scalar() is incorrect so we dropped this attribute.\n",
            "Trainer is attempting to log a value of \"[0.9189894208009275, 0.8344684631329583]\" of type <class 'list'> for key \"eval/f1\" as a scalar. This invocation of Tensorboard's writer.add_scalar() is incorrect so we dropped this attribute.\n",
            "Trainer is attempting to log a value of \"[0.9081535230093565, 0.8553217320922704]\" of type <class 'list'> for key \"eval/accuracy\" as a scalar. This invocation of Tensorboard's writer.add_scalar() is incorrect so we dropped this attribute.\n",
            "Saving model checkpoint to results/multilingual/manifesto_2cl\\checkpoint-1125\n",
            "Configuration saved in results/multilingual/manifesto_2cl\\checkpoint-1125\\config.json\n"
          ]
        },
        {
          "name": "stdout",
          "output_type": "stream",
          "text": [
            "{'eval_loss': 0.2695968449115753, 'eval_precision': [0.9300870245428767, 0.8146078242435922], 'eval_recall': [0.9081535230093565, 0.8553217320922704], 'eval_f1': [0.9189894208009275, 0.8344684631329583], 'eval_accuracy': [0.9081535230093565, 0.8553217320922704], 'eval_runtime': 25.286, 'eval_samples_per_second': 609.666, 'eval_steps_per_second': 19.062, 'epoch': 1.0}\n"
          ]
        },
        {
          "name": "stderr",
          "output_type": "stream",
          "text": [
            "Model weights saved in results/multilingual/manifesto_2cl\\checkpoint-1125\\pytorch_model.bin\n",
            "tokenizer config file saved in results/multilingual/manifesto_2cl\\checkpoint-1125\\tokenizer_config.json\n",
            "Special tokens file saved in results/multilingual/manifesto_2cl\\checkpoint-1125\\special_tokens_map.json\n"
          ]
        },
        {
          "name": "stdout",
          "output_type": "stream",
          "text": [
            "{'loss': 0.2586, 'learning_rate': 1.202962962962963e-05, 'epoch': 1.2}\n",
            "{'loss': 0.2186, 'learning_rate': 1.0032592592592594e-05, 'epoch': 1.5}\n",
            "{'loss': 0.2196, 'learning_rate': 8.035555555555556e-06, 'epoch': 1.8}\n"
          ]
        },
        {
          "name": "stderr",
          "output_type": "stream",
          "text": [
            "***** Running Evaluation *****\n",
            "  Num examples = 15416\n",
            "  Batch size = 32\n"
          ]
        },
        {
          "data": {
            "application/vnd.jupyter.widget-view+json": {
              "model_id": "c063cdd461fe4e49a1ab972f9a519275",
              "version_major": 2,
              "version_minor": 0
            },
            "text/plain": [
              "  0%|          | 0/482 [00:00<?, ?it/s]"
            ]
          },
          "metadata": {},
          "output_type": "display_data"
        },
        {
          "name": "stderr",
          "output_type": "stream",
          "text": [
            "Trainer is attempting to log a value of \"[0.9252689186638988, 0.8613532586135326]\" of type <class 'list'> for key \"eval/precision\" as a scalar. This invocation of Tensorboard's writer.add_scalar() is incorrect so we dropped this attribute.\n",
            "Trainer is attempting to log a value of \"[0.9362230284514035, 0.839740995548361]\" of type <class 'list'> for key \"eval/recall\" as a scalar. This invocation of Tensorboard's writer.add_scalar() is incorrect so we dropped this attribute.\n",
            "Trainer is attempting to log a value of \"[0.9307137433561125, 0.8504098360655739]\" of type <class 'list'> for key \"eval/f1\" as a scalar. This invocation of Tensorboard's writer.add_scalar() is incorrect so we dropped this attribute.\n",
            "Trainer is attempting to log a value of \"[0.9362230284514035, 0.839740995548361]\" of type <class 'list'> for key \"eval/accuracy\" as a scalar. This invocation of Tensorboard's writer.add_scalar() is incorrect so we dropped this attribute.\n",
            "Saving model checkpoint to results/multilingual/manifesto_2cl\\checkpoint-2250\n",
            "Configuration saved in results/multilingual/manifesto_2cl\\checkpoint-2250\\config.json\n"
          ]
        },
        {
          "name": "stdout",
          "output_type": "stream",
          "text": [
            "{'eval_loss': 0.25134196877479553, 'eval_precision': [0.9252689186638988, 0.8613532586135326], 'eval_recall': [0.9362230284514035, 0.839740995548361], 'eval_f1': [0.9307137433561125, 0.8504098360655739], 'eval_accuracy': [0.9362230284514035, 0.839740995548361], 'eval_runtime': 25.2449, 'eval_samples_per_second': 610.658, 'eval_steps_per_second': 19.093, 'epoch': 2.0}\n"
          ]
        },
        {
          "name": "stderr",
          "output_type": "stream",
          "text": [
            "Model weights saved in results/multilingual/manifesto_2cl\\checkpoint-2250\\pytorch_model.bin\n",
            "tokenizer config file saved in results/multilingual/manifesto_2cl\\checkpoint-2250\\tokenizer_config.json\n",
            "Special tokens file saved in results/multilingual/manifesto_2cl\\checkpoint-2250\\special_tokens_map.json\n"
          ]
        },
        {
          "name": "stdout",
          "output_type": "stream",
          "text": [
            "{'loss': 0.2005, 'learning_rate': 6.044444444444445e-06, 'epoch': 2.1}\n",
            "{'loss': 0.1567, 'learning_rate': 4.0474074074074075e-06, 'epoch': 2.4}\n",
            "{'loss': 0.1532, 'learning_rate': 2.0503703703703704e-06, 'epoch': 2.7}\n",
            "{'loss': 0.147, 'learning_rate': 5.3333333333333334e-08, 'epoch': 3.0}\n"
          ]
        },
        {
          "name": "stderr",
          "output_type": "stream",
          "text": [
            "***** Running Evaluation *****\n",
            "  Num examples = 15416\n",
            "  Batch size = 32\n"
          ]
        },
        {
          "data": {
            "application/vnd.jupyter.widget-view+json": {
              "model_id": "cedbfbcc66444e1cafa7b9ec6584ce06",
              "version_major": 2,
              "version_minor": 0
            },
            "text/plain": [
              "  0%|          | 0/482 [00:00<?, ?it/s]"
            ]
          },
          "metadata": {},
          "output_type": "display_data"
        },
        {
          "name": "stderr",
          "output_type": "stream",
          "text": [
            "Trainer is attempting to log a value of \"[0.9348681055155875, 0.8541374474053296]\" of type <class 'list'> for key \"eval/precision\" as a scalar. This invocation of Tensorboard's writer.add_scalar() is incorrect so we dropped this attribute.\n",
            "Trainer is attempting to log a value of \"[0.9304945579530265, 0.8626062322946175]\" of type <class 'list'> for key \"eval/recall\" as a scalar. This invocation of Tensorboard's writer.add_scalar() is incorrect so we dropped this attribute.\n",
            "Trainer is attempting to log a value of \"[0.932676204603091, 0.8583509513742071]\" of type <class 'list'> for key \"eval/f1\" as a scalar. This invocation of Tensorboard's writer.add_scalar() is incorrect so we dropped this attribute.\n",
            "Trainer is attempting to log a value of \"[0.9304945579530265, 0.8626062322946175]\" of type <class 'list'> for key \"eval/accuracy\" as a scalar. This invocation of Tensorboard's writer.add_scalar() is incorrect so we dropped this attribute.\n",
            "Saving model checkpoint to results/multilingual/manifesto_2cl\\checkpoint-3375\n",
            "Configuration saved in results/multilingual/manifesto_2cl\\checkpoint-3375\\config.json\n"
          ]
        },
        {
          "name": "stdout",
          "output_type": "stream",
          "text": [
            "{'eval_loss': 0.278942734003067, 'eval_precision': [0.9348681055155875, 0.8541374474053296], 'eval_recall': [0.9304945579530265, 0.8626062322946175], 'eval_f1': [0.932676204603091, 0.8583509513742071], 'eval_accuracy': [0.9304945579530265, 0.8626062322946175], 'eval_runtime': 25.1258, 'eval_samples_per_second': 613.552, 'eval_steps_per_second': 19.183, 'epoch': 3.0}\n"
          ]
        },
        {
          "name": "stderr",
          "output_type": "stream",
          "text": [
            "Model weights saved in results/multilingual/manifesto_2cl\\checkpoint-3375\\pytorch_model.bin\n",
            "tokenizer config file saved in results/multilingual/manifesto_2cl\\checkpoint-3375\\tokenizer_config.json\n",
            "Special tokens file saved in results/multilingual/manifesto_2cl\\checkpoint-3375\\special_tokens_map.json\n",
            "\n",
            "\n",
            "Training completed. Do not forget to share your model on huggingface.co/models =)\n",
            "\n",
            "\n",
            "Loading best model from results/multilingual/manifesto_2cl\\checkpoint-2250 (score: 0.25134196877479553).\n"
          ]
        },
        {
          "name": "stdout",
          "output_type": "stream",
          "text": [
            "{'train_runtime': 773.1482, 'train_samples_per_second': 139.572, 'train_steps_per_second': 4.365, 'train_loss': 0.24712662472548308, 'epoch': 3.0}\n"
          ]
        },
        {
          "data": {
            "text/plain": [
              "TrainOutput(global_step=3375, training_loss=0.24712662472548308, metrics={'train_runtime': 773.1482, 'train_samples_per_second': 139.572, 'train_steps_per_second': 4.365, 'train_loss': 0.24712662472548308, 'epoch': 3.0})"
            ]
          },
          "execution_count": 73,
          "metadata": {},
          "output_type": "execute_result"
        }
      ],
      "source": [
        "trainer.train()"
      ]
    },
    {
      "cell_type": "code",
      "execution_count": 74,
      "metadata": {},
      "outputs": [
        {
          "name": "stderr",
          "output_type": "stream",
          "text": [
            "***** Running Evaluation *****\n",
            "  Num examples = 5710\n",
            "  Batch size = 32\n"
          ]
        },
        {
          "data": {
            "application/vnd.jupyter.widget-view+json": {
              "model_id": "e1d362c974fa4d418a577044dba82fe0",
              "version_major": 2,
              "version_minor": 0
            },
            "text/plain": [
              "  0%|          | 0/179 [00:00<?, ?it/s]"
            ]
          },
          "metadata": {},
          "output_type": "display_data"
        },
        {
          "name": "stderr",
          "output_type": "stream",
          "text": [
            "Trainer is attempting to log a value of \"[0.9212974603972844, 0.8753606462781304]\" of type <class 'list'> for key \"eval/precision\" as a scalar. This invocation of Tensorboard's writer.add_scalar() is incorrect so we dropped this attribute.\n",
            "Trainer is attempting to log a value of \"[0.9443298969072165, 0.8289617486338798]\" of type <class 'list'> for key \"eval/recall\" as a scalar. This invocation of Tensorboard's writer.add_scalar() is incorrect so we dropped this attribute.\n",
            "Trainer is attempting to log a value of \"[0.9326715031182385, 0.8515296098793154]\" of type <class 'list'> for key \"eval/f1\" as a scalar. This invocation of Tensorboard's writer.add_scalar() is incorrect so we dropped this attribute.\n",
            "Trainer is attempting to log a value of \"[0.9443298969072165, 0.8289617486338798]\" of type <class 'list'> for key \"eval/accuracy\" as a scalar. This invocation of Tensorboard's writer.add_scalar() is incorrect so we dropped this attribute.\n"
          ]
        },
        {
          "name": "stdout",
          "output_type": "stream",
          "text": [
            "0.892100556498777\n"
          ]
        }
      ],
      "source": [
        "res = trainer.evaluate(tokenized_datasets['test'])\n",
        "print(sum(res['eval_f1'])/num_classes)"
      ]
    },
    {
      "cell_type": "code",
      "execution_count": 75,
      "metadata": {},
      "outputs": [
        {
          "data": {
            "text/html": [
              "<div>\n",
              "<style scoped>\n",
              "    .dataframe tbody tr th:only-of-type {\n",
              "        vertical-align: middle;\n",
              "    }\n",
              "\n",
              "    .dataframe tbody tr th {\n",
              "        vertical-align: top;\n",
              "    }\n",
              "\n",
              "    .dataframe thead th {\n",
              "        text-align: right;\n",
              "    }\n",
              "</style>\n",
              "<table border=\"1\" class=\"dataframe\">\n",
              "  <thead>\n",
              "    <tr style=\"text-align: right;\">\n",
              "      <th></th>\n",
              "      <th>f1</th>\n",
              "      <th>precision</th>\n",
              "      <th>recall</th>\n",
              "      <th>accuracy</th>\n",
              "    </tr>\n",
              "  </thead>\n",
              "  <tbody>\n",
              "    <tr>\n",
              "      <th>0</th>\n",
              "      <td>0.93</td>\n",
              "      <td>0.92</td>\n",
              "      <td>0.94</td>\n",
              "      <td>0.94</td>\n",
              "    </tr>\n",
              "    <tr>\n",
              "      <th>1</th>\n",
              "      <td>0.85</td>\n",
              "      <td>0.88</td>\n",
              "      <td>0.83</td>\n",
              "      <td>0.83</td>\n",
              "    </tr>\n",
              "  </tbody>\n",
              "</table>\n",
              "</div>"
            ],
            "text/plain": [
              "     f1  precision  recall  accuracy\n",
              "0  0.93       0.92    0.94      0.94\n",
              "1  0.85       0.88    0.83      0.83"
            ]
          },
          "execution_count": 75,
          "metadata": {},
          "output_type": "execute_result"
        }
      ],
      "source": [
        "res_table = pd.DataFrame({'f1': np.round(res['eval_f1'],2), 'precision': np.round(res['eval_precision'],2), \n",
        "'recall': np.round(res['eval_recall'],2), 'accuracy': np.round(res['eval_accuracy'],2)})\n",
        "res_table"
      ]
    },
    {
      "cell_type": "code",
      "execution_count": 76,
      "metadata": {},
      "outputs": [
        {
          "data": {
            "text/plain": [
              "f1           0.89\n",
              "precision    0.90\n",
              "recall       0.88\n",
              "accuracy     0.88\n",
              "dtype: float64"
            ]
          },
          "execution_count": 76,
          "metadata": {},
          "output_type": "execute_result"
        }
      ],
      "source": [
        "round(res_table.mean(axis=0),2)"
      ]
    },
    {
      "attachments": {},
      "cell_type": "markdown",
      "metadata": {},
      "source": [
        "## Apply directly on tweets about Trump"
      ]
    },
    {
      "cell_type": "code",
      "execution_count": 54,
      "metadata": {},
      "outputs": [],
      "source": [
        "trump_tweets = pd.read_csv(os.path.join('data','sins_tweets','MOTN_responses_groundtruth.csv'))"
      ]
    },
    {
      "cell_type": "code",
      "execution_count": 78,
      "metadata": {},
      "outputs": [
        {
          "data": {
            "text/html": [
              "<div>\n",
              "<style scoped>\n",
              "    .dataframe tbody tr th:only-of-type {\n",
              "        vertical-align: middle;\n",
              "    }\n",
              "\n",
              "    .dataframe tbody tr th {\n",
              "        vertical-align: top;\n",
              "    }\n",
              "\n",
              "    .dataframe thead th {\n",
              "        text-align: right;\n",
              "    }\n",
              "</style>\n",
              "<table border=\"1\" class=\"dataframe\">\n",
              "  <thead>\n",
              "    <tr style=\"text-align: right;\">\n",
              "      <th></th>\n",
              "      <th>wavenum</th>\n",
              "      <th>ideo5</th>\n",
              "      <th>edits_clean_text</th>\n",
              "      <th>qpos</th>\n",
              "      <th>lexicoder_sentiment</th>\n",
              "      <th>fold</th>\n",
              "      <th>vader_sentiment</th>\n",
              "      <th>SVM_sentiment</th>\n",
              "      <th>BERT_sentiment</th>\n",
              "      <th>SVM_stance</th>\n",
              "      <th>BERT_stance</th>\n",
              "      <th>vader_scores</th>\n",
              "    </tr>\n",
              "    <tr>\n",
              "      <th>trump_stance_auto</th>\n",
              "      <th></th>\n",
              "      <th></th>\n",
              "      <th></th>\n",
              "      <th></th>\n",
              "      <th></th>\n",
              "      <th></th>\n",
              "      <th></th>\n",
              "      <th></th>\n",
              "      <th></th>\n",
              "      <th></th>\n",
              "      <th></th>\n",
              "      <th></th>\n",
              "    </tr>\n",
              "  </thead>\n",
              "  <tbody>\n",
              "    <tr>\n",
              "      <th>0</th>\n",
              "      <td>4312</td>\n",
              "      <td>4312</td>\n",
              "      <td>4312</td>\n",
              "      <td>4312</td>\n",
              "      <td>1885</td>\n",
              "      <td>4312</td>\n",
              "      <td>2012</td>\n",
              "      <td>4312</td>\n",
              "      <td>4312</td>\n",
              "      <td>4312</td>\n",
              "      <td>4312</td>\n",
              "      <td>4312</td>\n",
              "    </tr>\n",
              "    <tr>\n",
              "      <th>1</th>\n",
              "      <td>2834</td>\n",
              "      <td>2834</td>\n",
              "      <td>2834</td>\n",
              "      <td>2834</td>\n",
              "      <td>1434</td>\n",
              "      <td>2834</td>\n",
              "      <td>1573</td>\n",
              "      <td>2834</td>\n",
              "      <td>2834</td>\n",
              "      <td>2834</td>\n",
              "      <td>2834</td>\n",
              "      <td>2834</td>\n",
              "    </tr>\n",
              "  </tbody>\n",
              "</table>\n",
              "</div>"
            ],
            "text/plain": [
              "                   wavenum  ideo5  edits_clean_text  qpos  \\\n",
              "trump_stance_auto                                           \n",
              "0                     4312   4312              4312  4312   \n",
              "1                     2834   2834              2834  2834   \n",
              "\n",
              "                   lexicoder_sentiment  fold  vader_sentiment  SVM_sentiment  \\\n",
              "trump_stance_auto                                                              \n",
              "0                                 1885  4312             2012           4312   \n",
              "1                                 1434  2834             1573           2834   \n",
              "\n",
              "                   BERT_sentiment  SVM_stance  BERT_stance  vader_scores  \n",
              "trump_stance_auto                                                         \n",
              "0                            4312        4312         4312          4312  \n",
              "1                            2834        2834         2834          2834  "
            ]
          },
          "execution_count": 78,
          "metadata": {},
          "output_type": "execute_result"
        }
      ],
      "source": [
        "trump_tweets.groupby('trump_stance_auto').count()"
      ]
    },
    {
      "cell_type": "code",
      "execution_count": 79,
      "metadata": {},
      "outputs": [
        {
          "data": {
            "text/html": [
              "<div>\n",
              "<style scoped>\n",
              "    .dataframe tbody tr th:only-of-type {\n",
              "        vertical-align: middle;\n",
              "    }\n",
              "\n",
              "    .dataframe tbody tr th {\n",
              "        vertical-align: top;\n",
              "    }\n",
              "\n",
              "    .dataframe thead th {\n",
              "        text-align: right;\n",
              "    }\n",
              "</style>\n",
              "<table border=\"1\" class=\"dataframe\">\n",
              "  <thead>\n",
              "    <tr style=\"text-align: right;\">\n",
              "      <th></th>\n",
              "      <th>wavenum</th>\n",
              "      <th>ideo5</th>\n",
              "      <th>edits_clean_text</th>\n",
              "      <th>qpos</th>\n",
              "      <th>trump_stance_auto</th>\n",
              "      <th>lexicoder_sentiment</th>\n",
              "      <th>fold</th>\n",
              "      <th>vader_sentiment</th>\n",
              "      <th>SVM_sentiment</th>\n",
              "      <th>BERT_sentiment</th>\n",
              "      <th>SVM_stance</th>\n",
              "      <th>BERT_stance</th>\n",
              "      <th>vader_scores</th>\n",
              "    </tr>\n",
              "  </thead>\n",
              "  <tbody>\n",
              "    <tr>\n",
              "      <th>0</th>\n",
              "      <td>3</td>\n",
              "      <td>Moderate</td>\n",
              "      <td>the recent election of donald trump the freedo...</td>\n",
              "      <td>1</td>\n",
              "      <td>1</td>\n",
              "      <td>1.0</td>\n",
              "      <td>3</td>\n",
              "      <td>1.0</td>\n",
              "      <td>1</td>\n",
              "      <td>1</td>\n",
              "      <td>1</td>\n",
              "      <td>0</td>\n",
              "      <td>0.6369</td>\n",
              "    </tr>\n",
              "    <tr>\n",
              "      <th>1</th>\n",
              "      <td>3</td>\n",
              "      <td>Very conservative</td>\n",
              "      <td>donald trump won</td>\n",
              "      <td>1</td>\n",
              "      <td>1</td>\n",
              "      <td>1.0</td>\n",
              "      <td>1</td>\n",
              "      <td>1.0</td>\n",
              "      <td>1</td>\n",
              "      <td>1</td>\n",
              "      <td>1</td>\n",
              "      <td>1</td>\n",
              "      <td>0.5719</td>\n",
              "    </tr>\n",
              "    <tr>\n",
              "      <th>2</th>\n",
              "      <td>3</td>\n",
              "      <td>Conservative</td>\n",
              "      <td>that donald trump beat hillary clinton</td>\n",
              "      <td>1</td>\n",
              "      <td>1</td>\n",
              "      <td>NaN</td>\n",
              "      <td>5</td>\n",
              "      <td>NaN</td>\n",
              "      <td>1</td>\n",
              "      <td>1</td>\n",
              "      <td>1</td>\n",
              "      <td>1</td>\n",
              "      <td>0.0000</td>\n",
              "    </tr>\n",
              "    <tr>\n",
              "      <th>3</th>\n",
              "      <td>3</td>\n",
              "      <td>Conservative</td>\n",
              "      <td>donald trump was elected president</td>\n",
              "      <td>1</td>\n",
              "      <td>1</td>\n",
              "      <td>NaN</td>\n",
              "      <td>5</td>\n",
              "      <td>NaN</td>\n",
              "      <td>1</td>\n",
              "      <td>1</td>\n",
              "      <td>1</td>\n",
              "      <td>1</td>\n",
              "      <td>0.0000</td>\n",
              "    </tr>\n",
              "    <tr>\n",
              "      <th>4</th>\n",
              "      <td>3</td>\n",
              "      <td>Conservative</td>\n",
              "      <td>the american people saw through the obfuscatio...</td>\n",
              "      <td>1</td>\n",
              "      <td>1</td>\n",
              "      <td>1.0</td>\n",
              "      <td>3</td>\n",
              "      <td>1.0</td>\n",
              "      <td>0</td>\n",
              "      <td>1</td>\n",
              "      <td>1</td>\n",
              "      <td>1</td>\n",
              "      <td>0.4019</td>\n",
              "    </tr>\n",
              "  </tbody>\n",
              "</table>\n",
              "</div>"
            ],
            "text/plain": [
              "   wavenum              ideo5  \\\n",
              "0        3           Moderate   \n",
              "1        3  Very conservative   \n",
              "2        3       Conservative   \n",
              "3        3       Conservative   \n",
              "4        3       Conservative   \n",
              "\n",
              "                                    edits_clean_text  qpos  trump_stance_auto  \\\n",
              "0  the recent election of donald trump the freedo...     1                  1   \n",
              "1                                   donald trump won     1                  1   \n",
              "2             that donald trump beat hillary clinton     1                  1   \n",
              "3                 donald trump was elected president     1                  1   \n",
              "4  the american people saw through the obfuscatio...     1                  1   \n",
              "\n",
              "   lexicoder_sentiment  fold  vader_sentiment  SVM_sentiment  BERT_sentiment  \\\n",
              "0                  1.0     3              1.0              1               1   \n",
              "1                  1.0     1              1.0              1               1   \n",
              "2                  NaN     5              NaN              1               1   \n",
              "3                  NaN     5              NaN              1               1   \n",
              "4                  1.0     3              1.0              0               1   \n",
              "\n",
              "   SVM_stance  BERT_stance  vader_scores  \n",
              "0           1            0        0.6369  \n",
              "1           1            1        0.5719  \n",
              "2           1            1        0.0000  \n",
              "3           1            1        0.0000  \n",
              "4           1            1        0.4019  "
            ]
          },
          "execution_count": 79,
          "metadata": {},
          "output_type": "execute_result"
        }
      ],
      "source": [
        "trump_tweets.head()"
      ]
    },
    {
      "cell_type": "code",
      "execution_count": 55,
      "metadata": {},
      "outputs": [],
      "source": [
        "trump_reduced = trump_tweets[['trump_stance_auto','edits_clean_text']]\n",
        "trump_reduced = trump_reduced.rename(columns={'trump_stance_auto': 'labels', 'edits_clean_text':'text'})"
      ]
    },
    {
      "cell_type": "code",
      "execution_count": 81,
      "metadata": {},
      "outputs": [
        {
          "data": {
            "text/html": [
              "<div>\n",
              "<style scoped>\n",
              "    .dataframe tbody tr th:only-of-type {\n",
              "        vertical-align: middle;\n",
              "    }\n",
              "\n",
              "    .dataframe tbody tr th {\n",
              "        vertical-align: top;\n",
              "    }\n",
              "\n",
              "    .dataframe thead th {\n",
              "        text-align: right;\n",
              "    }\n",
              "</style>\n",
              "<table border=\"1\" class=\"dataframe\">\n",
              "  <thead>\n",
              "    <tr style=\"text-align: right;\">\n",
              "      <th></th>\n",
              "      <th>labels</th>\n",
              "      <th>text</th>\n",
              "    </tr>\n",
              "  </thead>\n",
              "  <tbody>\n",
              "    <tr>\n",
              "      <th>0</th>\n",
              "      <td>1</td>\n",
              "      <td>the recent election of donald trump the freedo...</td>\n",
              "    </tr>\n",
              "    <tr>\n",
              "      <th>1</th>\n",
              "      <td>1</td>\n",
              "      <td>donald trump won</td>\n",
              "    </tr>\n",
              "    <tr>\n",
              "      <th>2</th>\n",
              "      <td>1</td>\n",
              "      <td>that donald trump beat hillary clinton</td>\n",
              "    </tr>\n",
              "    <tr>\n",
              "      <th>3</th>\n",
              "      <td>1</td>\n",
              "      <td>donald trump was elected president</td>\n",
              "    </tr>\n",
              "    <tr>\n",
              "      <th>4</th>\n",
              "      <td>1</td>\n",
              "      <td>the american people saw through the obfuscatio...</td>\n",
              "    </tr>\n",
              "    <tr>\n",
              "      <th>...</th>\n",
              "      <td>...</td>\n",
              "      <td>...</td>\n",
              "    </tr>\n",
              "    <tr>\n",
              "      <th>7141</th>\n",
              "      <td>1</td>\n",
              "      <td>donald trump</td>\n",
              "    </tr>\n",
              "    <tr>\n",
              "      <th>7142</th>\n",
              "      <td>1</td>\n",
              "      <td>that donald trump will prevail and continue to...</td>\n",
              "    </tr>\n",
              "    <tr>\n",
              "      <th>7143</th>\n",
              "      <td>0</td>\n",
              "      <td>hopefully donald trump will be out of the whit...</td>\n",
              "    </tr>\n",
              "    <tr>\n",
              "      <th>7144</th>\n",
              "      <td>0</td>\n",
              "      <td>new president</td>\n",
              "    </tr>\n",
              "    <tr>\n",
              "      <th>7145</th>\n",
              "      <td>0</td>\n",
              "      <td>hopefully donald trump losing the election</td>\n",
              "    </tr>\n",
              "  </tbody>\n",
              "</table>\n",
              "<p>7146 rows × 2 columns</p>\n",
              "</div>"
            ],
            "text/plain": [
              "      labels                                               text\n",
              "0          1  the recent election of donald trump the freedo...\n",
              "1          1                                   donald trump won\n",
              "2          1             that donald trump beat hillary clinton\n",
              "3          1                 donald trump was elected president\n",
              "4          1  the american people saw through the obfuscatio...\n",
              "...      ...                                                ...\n",
              "7141       1                                       donald trump\n",
              "7142       1  that donald trump will prevail and continue to...\n",
              "7143       0  hopefully donald trump will be out of the whit...\n",
              "7144       0                                      new president\n",
              "7145       0         hopefully donald trump losing the election\n",
              "\n",
              "[7146 rows x 2 columns]"
            ]
          },
          "execution_count": 81,
          "metadata": {},
          "output_type": "execute_result"
        }
      ],
      "source": [
        "trump_reduced"
      ]
    },
    {
      "cell_type": "code",
      "execution_count": 82,
      "metadata": {},
      "outputs": [],
      "source": [
        "texts = trump_reduced['text'].tolist()\n",
        "labels = trump_reduced['labels'].tolist()"
      ]
    },
    {
      "cell_type": "code",
      "execution_count": 93,
      "metadata": {},
      "outputs": [],
      "source": [
        "from utils.functions import get_prediction"
      ]
    },
    {
      "cell_type": "code",
      "execution_count": 89,
      "metadata": {},
      "outputs": [
        {
          "name": "stderr",
          "output_type": "stream",
          "text": [
            "loading configuration file results/multilingual/manifesto_2cl/checkpoint-2250\\config.json\n",
            "You are using a model of type roberta to instantiate a model of type xlm-roberta. This is not supported for all configurations of models and can yield errors.\n",
            "Model config XLMRobertaConfig {\n",
            "  \"_name_or_path\": \"xlm-roberta-base\",\n",
            "  \"architectures\": [\n",
            "    \"RobertaForSequenceClassification\"\n",
            "  ],\n",
            "  \"attention_probs_dropout_prob\": 0.1,\n",
            "  \"bos_token_id\": 0,\n",
            "  \"classifier_dropout\": null,\n",
            "  \"eos_token_id\": 2,\n",
            "  \"hidden_act\": \"gelu\",\n",
            "  \"hidden_dropout_prob\": 0.1,\n",
            "  \"hidden_size\": 768,\n",
            "  \"initializer_range\": 0.02,\n",
            "  \"intermediate_size\": 3072,\n",
            "  \"layer_norm_eps\": 1e-05,\n",
            "  \"max_position_embeddings\": 514,\n",
            "  \"model_type\": \"xlm-roberta\",\n",
            "  \"num_attention_heads\": 12,\n",
            "  \"num_hidden_layers\": 12,\n",
            "  \"output_past\": true,\n",
            "  \"pad_token_id\": 1,\n",
            "  \"position_embedding_type\": \"absolute\",\n",
            "  \"problem_type\": \"single_label_classification\",\n",
            "  \"torch_dtype\": \"float32\",\n",
            "  \"transformers_version\": \"4.25.1\",\n",
            "  \"type_vocab_size\": 1,\n",
            "  \"use_cache\": true,\n",
            "  \"vocab_size\": 250002\n",
            "}\n",
            "\n",
            "loading weights file results/multilingual/manifesto_2cl/checkpoint-2250\\pytorch_model.bin\n",
            "All model checkpoint weights were used when initializing XLMRobertaForSequenceClassification.\n",
            "\n",
            "All the weights of XLMRobertaForSequenceClassification were initialized from the model checkpoint at results/multilingual/manifesto_2cl/checkpoint-2250.\n",
            "If your task is similar to the task the model of the checkpoint was trained on, you can already use XLMRobertaForSequenceClassification for predictions without further training.\n"
          ]
        }
      ],
      "source": [
        "num_classes = len(set(trump_tweets['trump_stance_auto']))\n",
        "model_name = 'results/multilingual/manifesto_2cl/checkpoint-2250'\n",
        "model = XLMRobertaForSequenceClassification.from_pretrained(model_name, num_labels=num_classes).to(device)\n"
      ]
    },
    {
      "cell_type": "code",
      "execution_count": 90,
      "metadata": {},
      "outputs": [
        {
          "name": "stdout",
          "output_type": "stream",
          "text": [
            "0\n",
            "1000\n",
            "2000\n",
            "3000\n",
            "4000\n",
            "5000\n",
            "6000\n",
            "7000\n"
          ]
        }
      ],
      "source": [
        "predicted = get_prediction(model, texts, tokenizer, device)"
      ]
    },
    {
      "cell_type": "code",
      "execution_count": 91,
      "metadata": {},
      "outputs": [],
      "source": [
        "predicted = np.array([i.cpu().detach().numpy() for i in predicted]).flatten()"
      ]
    },
    {
      "cell_type": "code",
      "execution_count": 92,
      "metadata": {},
      "outputs": [],
      "source": [
        "precision, recall, f1, _ = precision_recall_fscore_support(labels, predicted, average=None)\n",
        "matrix = confusion_matrix(labels, predicted)\n",
        "accuracy = matrix.diagonal()/matrix.sum(axis=1)"
      ]
    },
    {
      "cell_type": "code",
      "execution_count": 93,
      "metadata": {},
      "outputs": [
        {
          "data": {
            "text/html": [
              "<div>\n",
              "<style scoped>\n",
              "    .dataframe tbody tr th:only-of-type {\n",
              "        vertical-align: middle;\n",
              "    }\n",
              "\n",
              "    .dataframe tbody tr th {\n",
              "        vertical-align: top;\n",
              "    }\n",
              "\n",
              "    .dataframe thead th {\n",
              "        text-align: right;\n",
              "    }\n",
              "</style>\n",
              "<table border=\"1\" class=\"dataframe\">\n",
              "  <thead>\n",
              "    <tr style=\"text-align: right;\">\n",
              "      <th></th>\n",
              "      <th>f1</th>\n",
              "      <th>precision</th>\n",
              "      <th>recall</th>\n",
              "      <th>accuracy</th>\n",
              "    </tr>\n",
              "  </thead>\n",
              "  <tbody>\n",
              "    <tr>\n",
              "      <th>0</th>\n",
              "      <td>0.60</td>\n",
              "      <td>0.64</td>\n",
              "      <td>0.56</td>\n",
              "      <td>0.56</td>\n",
              "    </tr>\n",
              "    <tr>\n",
              "      <th>1</th>\n",
              "      <td>0.48</td>\n",
              "      <td>0.44</td>\n",
              "      <td>0.52</td>\n",
              "      <td>0.52</td>\n",
              "    </tr>\n",
              "  </tbody>\n",
              "</table>\n",
              "</div>"
            ],
            "text/plain": [
              "     f1  precision  recall  accuracy\n",
              "0  0.60       0.64    0.56      0.56\n",
              "1  0.48       0.44    0.52      0.52"
            ]
          },
          "execution_count": 93,
          "metadata": {},
          "output_type": "execute_result"
        }
      ],
      "source": [
        "res_table = pd.DataFrame({'f1': np.round(f1,2), 'precision': np.round(precision,2), \n",
        "'recall': np.round(recall,2), 'accuracy': np.round(accuracy,2)})\n",
        "res_table"
      ]
    },
    {
      "cell_type": "code",
      "execution_count": 94,
      "metadata": {},
      "outputs": [
        {
          "data": {
            "text/plain": [
              "f1           0.54\n",
              "precision    0.54\n",
              "recall       0.54\n",
              "accuracy     0.54\n",
              "dtype: float64"
            ]
          },
          "execution_count": 94,
          "metadata": {},
          "output_type": "execute_result"
        }
      ],
      "source": [
        "round(res_table.mean(axis=0),2)"
      ]
    },
    {
      "attachments": {},
      "cell_type": "markdown",
      "metadata": {},
      "source": [
        "## 30% training data from trump_tweets"
      ]
    },
    {
      "cell_type": "code",
      "execution_count": 70,
      "metadata": {},
      "outputs": [],
      "source": [
        "model_name = 'xlm-roberta-base'\n",
        "tokenizer = AutoTokenizer.from_pretrained(model_name)\n",
        "data_collator = DataCollatorWithPadding(tokenizer)"
      ]
    },
    {
      "cell_type": "code",
      "execution_count": 56,
      "metadata": {},
      "outputs": [],
      "source": [
        "ord_enc = OrdinalEncoder()"
      ]
    },
    {
      "cell_type": "code",
      "execution_count": 57,
      "metadata": {},
      "outputs": [
        {
          "name": "stderr",
          "output_type": "stream",
          "text": [
            "C:\\Users\\Hung\\AppData\\Local\\Temp\\ipykernel_23560\\3817075334.py:3: SettingWithCopyWarning: \n",
            "A value is trying to be set on a copy of a slice from a DataFrame.\n",
            "Try using .loc[row_indexer,col_indexer] = value instead\n",
            "\n",
            "See the caveats in the documentation: https://pandas.pydata.org/pandas-docs/stable/user_guide/indexing.html#returning-a-view-versus-a-copy\n",
            "  manifesto_reduced.loc[:,'labels'] = manifesto_labels.copy()\n"
          ]
        }
      ],
      "source": [
        "manifesto_reduced = manifesto_2cl[['sentiment','text']]\n",
        "manifesto_labels = ord_enc.fit_transform(np.array(manifesto_reduced['sentiment'].copy().tolist()).reshape(-1,1)).flatten()\n",
        "manifesto_reduced.loc[:,'labels'] = manifesto_labels.copy()\n",
        "manifesto_reduced = manifesto_reduced[['labels','text']]"
      ]
    },
    {
      "cell_type": "code",
      "execution_count": 58,
      "metadata": {},
      "outputs": [],
      "source": [
        "trump_train, trump_test = train_test_split(trump_reduced, test_size = 0.7, random_state=seed_val, stratify = trump_reduced['labels'])"
      ]
    },
    {
      "cell_type": "code",
      "execution_count": 59,
      "metadata": {},
      "outputs": [
        {
          "name": "stdout",
          "output_type": "stream",
          "text": [
            "2143\n",
            "5003\n"
          ]
        }
      ],
      "source": [
        "print(len(trump_train))\n",
        "print(len(trump_test))"
      ]
    },
    {
      "cell_type": "code",
      "execution_count": 60,
      "metadata": {},
      "outputs": [
        {
          "data": {
            "text/html": [
              "<div>\n",
              "<style scoped>\n",
              "    .dataframe tbody tr th:only-of-type {\n",
              "        vertical-align: middle;\n",
              "    }\n",
              "\n",
              "    .dataframe tbody tr th {\n",
              "        vertical-align: top;\n",
              "    }\n",
              "\n",
              "    .dataframe thead th {\n",
              "        text-align: right;\n",
              "    }\n",
              "</style>\n",
              "<table border=\"1\" class=\"dataframe\">\n",
              "  <thead>\n",
              "    <tr style=\"text-align: right;\">\n",
              "      <th></th>\n",
              "      <th>labels</th>\n",
              "      <th>text</th>\n",
              "    </tr>\n",
              "  </thead>\n",
              "  <tbody>\n",
              "    <tr>\n",
              "      <th>0</th>\n",
              "      <td>0.0</td>\n",
              "      <td>Defendemos los valores de la libertad, la igua...</td>\n",
              "    </tr>\n",
              "    <tr>\n",
              "      <th>1</th>\n",
              "      <td>0.0</td>\n",
              "      <td>Estamos convencidos de que el deseo de superac...</td>\n",
              "    </tr>\n",
              "    <tr>\n",
              "      <th>2</th>\n",
              "      <td>0.0</td>\n",
              "      <td>Defendemos una economía libre y socialmente av...</td>\n",
              "    </tr>\n",
              "    <tr>\n",
              "      <th>3</th>\n",
              "      <td>0.0</td>\n",
              "      <td>Defendemos que la ejemplaridad de los comporta...</td>\n",
              "    </tr>\n",
              "    <tr>\n",
              "      <th>4</th>\n",
              "      <td>0.0</td>\n",
              "      <td>la cooperación. Consideramos que es una respon...</td>\n",
              "    </tr>\n",
              "    <tr>\n",
              "      <th>...</th>\n",
              "      <td>...</td>\n",
              "      <td>...</td>\n",
              "    </tr>\n",
              "    <tr>\n",
              "      <th>57091</th>\n",
              "      <td>0.0</td>\n",
              "      <td>Deutschland ist bereit, international noch meh...</td>\n",
              "    </tr>\n",
              "    <tr>\n",
              "      <th>57092</th>\n",
              "      <td>0.0</td>\n",
              "      <td>Wir wollen die Instrumente zur Rüstungskontrol...</td>\n",
              "    </tr>\n",
              "    <tr>\n",
              "      <th>57093</th>\n",
              "      <td>0.0</td>\n",
              "      <td>Wir bekennen uns zu unserer Verantwortung in d...</td>\n",
              "    </tr>\n",
              "    <tr>\n",
              "      <th>57094</th>\n",
              "      <td>0.0</td>\n",
              "      <td>Wir werden in den kommenden Jahren die Entschu...</td>\n",
              "    </tr>\n",
              "    <tr>\n",
              "      <th>57095</th>\n",
              "      <td>0.0</td>\n",
              "      <td>Dies mindert auch die weltweite Abhängigkeit v...</td>\n",
              "    </tr>\n",
              "  </tbody>\n",
              "</table>\n",
              "<p>57096 rows × 2 columns</p>\n",
              "</div>"
            ],
            "text/plain": [
              "       labels                                               text\n",
              "0         0.0  Defendemos los valores de la libertad, la igua...\n",
              "1         0.0  Estamos convencidos de que el deseo de superac...\n",
              "2         0.0  Defendemos una economía libre y socialmente av...\n",
              "3         0.0  Defendemos que la ejemplaridad de los comporta...\n",
              "4         0.0  la cooperación. Consideramos que es una respon...\n",
              "...       ...                                                ...\n",
              "57091     0.0  Deutschland ist bereit, international noch meh...\n",
              "57092     0.0  Wir wollen die Instrumente zur Rüstungskontrol...\n",
              "57093     0.0  Wir bekennen uns zu unserer Verantwortung in d...\n",
              "57094     0.0  Wir werden in den kommenden Jahren die Entschu...\n",
              "57095     0.0  Dies mindert auch die weltweite Abhängigkeit v...\n",
              "\n",
              "[57096 rows x 2 columns]"
            ]
          },
          "execution_count": 60,
          "metadata": {},
          "output_type": "execute_result"
        }
      ],
      "source": [
        "manifesto_reduced"
      ]
    },
    {
      "cell_type": "code",
      "execution_count": 61,
      "metadata": {},
      "outputs": [],
      "source": [
        "joint_df = pd.concat([manifesto_reduced, trump_train]).reset_index(drop=True)\n",
        "trump_test.reset_index(drop=True, inplace=True)"
      ]
    },
    {
      "cell_type": "code",
      "execution_count": 62,
      "metadata": {},
      "outputs": [
        {
          "data": {
            "text/html": [
              "<div>\n",
              "<style scoped>\n",
              "    .dataframe tbody tr th:only-of-type {\n",
              "        vertical-align: middle;\n",
              "    }\n",
              "\n",
              "    .dataframe tbody tr th {\n",
              "        vertical-align: top;\n",
              "    }\n",
              "\n",
              "    .dataframe thead th {\n",
              "        text-align: right;\n",
              "    }\n",
              "</style>\n",
              "<table border=\"1\" class=\"dataframe\">\n",
              "  <thead>\n",
              "    <tr style=\"text-align: right;\">\n",
              "      <th></th>\n",
              "      <th>text</th>\n",
              "    </tr>\n",
              "    <tr>\n",
              "      <th>labels</th>\n",
              "      <th></th>\n",
              "    </tr>\n",
              "  </thead>\n",
              "  <tbody>\n",
              "    <tr>\n",
              "      <th>0.0</th>\n",
              "      <td>40086</td>\n",
              "    </tr>\n",
              "    <tr>\n",
              "      <th>1.0</th>\n",
              "      <td>19153</td>\n",
              "    </tr>\n",
              "  </tbody>\n",
              "</table>\n",
              "</div>"
            ],
            "text/plain": [
              "         text\n",
              "labels       \n",
              "0.0     40086\n",
              "1.0     19153"
            ]
          },
          "execution_count": 62,
          "metadata": {},
          "output_type": "execute_result"
        }
      ],
      "source": [
        "joint_df.groupby('labels').count()"
      ]
    },
    {
      "cell_type": "code",
      "execution_count": 63,
      "metadata": {},
      "outputs": [
        {
          "name": "stderr",
          "output_type": "stream",
          "text": [
            "Parameter 'function'=<function Dataset.class_encode_column.<locals>.stringify_column at 0x0000023BAF9ECE50> of the transform datasets.arrow_dataset.Dataset._map_single couldn't be hashed properly, a random hash was used instead. Make sure your transforms and parameters are serializable with pickle or dill for the dataset fingerprinting and caching to work. If you reuse this transform, the caching mechanism will consider it to be different from the previous calls and recompute everything. This warning is only showed once. Subsequent hashing failures won't be showed.\n"
          ]
        },
        {
          "data": {
            "application/vnd.jupyter.widget-view+json": {
              "model_id": "010a7fff46a54471ac259ca67fa5357c",
              "version_major": 2,
              "version_minor": 0
            },
            "text/plain": [
              "Stringifying the column:   0%|          | 0/60 [00:00<?, ?ba/s]"
            ]
          },
          "metadata": {},
          "output_type": "display_data"
        },
        {
          "data": {
            "application/vnd.jupyter.widget-view+json": {
              "model_id": "de1e39bc91a846c1af347d7427285aa1",
              "version_major": 2,
              "version_minor": 0
            },
            "text/plain": [
              "Casting to class labels:   0%|          | 0/60 [00:00<?, ?ba/s]"
            ]
          },
          "metadata": {},
          "output_type": "display_data"
        },
        {
          "data": {
            "application/vnd.jupyter.widget-view+json": {
              "model_id": "ca136a14e65f4ee8b4f488bd9e152c5b",
              "version_major": 2,
              "version_minor": 0
            },
            "text/plain": [
              "Casting the dataset:   0%|          | 0/6 [00:00<?, ?ba/s]"
            ]
          },
          "metadata": {},
          "output_type": "display_data"
        },
        {
          "data": {
            "application/vnd.jupyter.widget-view+json": {
              "model_id": "9c715f5c99124beaa7bb3be4af291dc6",
              "version_major": 2,
              "version_minor": 0
            },
            "text/plain": [
              "Stringifying the column:   0%|          | 0/6 [00:00<?, ?ba/s]"
            ]
          },
          "metadata": {},
          "output_type": "display_data"
        },
        {
          "data": {
            "application/vnd.jupyter.widget-view+json": {
              "model_id": "78565a293a6a45eb906d2fd886a21d53",
              "version_major": 2,
              "version_minor": 0
            },
            "text/plain": [
              "Casting to class labels:   0%|          | 0/6 [00:00<?, ?ba/s]"
            ]
          },
          "metadata": {},
          "output_type": "display_data"
        },
        {
          "data": {
            "application/vnd.jupyter.widget-view+json": {
              "model_id": "d3619fced6c544198194db58964bc7b4",
              "version_major": 2,
              "version_minor": 0
            },
            "text/plain": [
              "Casting the dataset:   0%|          | 0/1 [00:00<?, ?ba/s]"
            ]
          },
          "metadata": {},
          "output_type": "display_data"
        }
      ],
      "source": [
        "joint_dataset = Dataset.from_pandas(joint_df)\n",
        "joint_dataset = joint_dataset.class_encode_column('labels')\n",
        "test_dataset = Dataset.from_pandas(trump_test)\n",
        "test_dataset = test_dataset.class_encode_column('labels')\n"
      ]
    },
    {
      "cell_type": "code",
      "execution_count": 85,
      "metadata": {},
      "outputs": [],
      "source": [
        "train_eval = joint_dataset.train_test_split(test_size=0.4, stratify_by_column='labels', seed=seed_val)\n"
      ]
    },
    {
      "cell_type": "code",
      "execution_count": 86,
      "metadata": {},
      "outputs": [
        {
          "data": {
            "text/plain": [
              "DatasetDict({\n",
              "    train: Dataset({\n",
              "        features: ['labels', 'text'],\n",
              "        num_rows: 35543\n",
              "    })\n",
              "    test: Dataset({\n",
              "        features: ['labels', 'text'],\n",
              "        num_rows: 23696\n",
              "    })\n",
              "})"
            ]
          },
          "execution_count": 86,
          "metadata": {},
          "output_type": "execute_result"
        }
      ],
      "source": [
        "train_eval"
      ]
    },
    {
      "cell_type": "code",
      "execution_count": 87,
      "metadata": {},
      "outputs": [
        {
          "data": {
            "application/vnd.jupyter.widget-view+json": {
              "model_id": "fb2d53ea48c1489fbadde0f7fa85a7e8",
              "version_major": 2,
              "version_minor": 0
            },
            "text/plain": [
              "  0%|          | 0/36 [00:00<?, ?ba/s]"
            ]
          },
          "metadata": {},
          "output_type": "display_data"
        },
        {
          "data": {
            "application/vnd.jupyter.widget-view+json": {
              "model_id": "49711610dbf24f9dbd0b2e869da24c40",
              "version_major": 2,
              "version_minor": 0
            },
            "text/plain": [
              "  0%|          | 0/24 [00:00<?, ?ba/s]"
            ]
          },
          "metadata": {},
          "output_type": "display_data"
        },
        {
          "data": {
            "application/vnd.jupyter.widget-view+json": {
              "model_id": "6395679cadf04b08af71151ae0c31d95",
              "version_major": 2,
              "version_minor": 0
            },
            "text/plain": [
              "  0%|          | 0/6 [00:00<?, ?ba/s]"
            ]
          },
          "metadata": {},
          "output_type": "display_data"
        }
      ],
      "source": [
        "tokenized_traineval = train_eval.map(tokenize_function, batched=True, remove_columns=['text'])\n",
        "tokenized_test = test_dataset.map(tokenize_function, batched=True, remove_columns=['text'])"
      ]
    },
    {
      "cell_type": "code",
      "execution_count": 72,
      "metadata": {},
      "outputs": [
        {
          "data": {
            "text/plain": [
              "DatasetDict({\n",
              "    train: Dataset({\n",
              "        features: ['labels', 'input_ids', 'attention_mask'],\n",
              "        num_rows: 44429\n",
              "    })\n",
              "    test: Dataset({\n",
              "        features: ['labels', 'input_ids', 'attention_mask'],\n",
              "        num_rows: 14810\n",
              "    })\n",
              "})"
            ]
          },
          "execution_count": 72,
          "metadata": {},
          "output_type": "execute_result"
        }
      ],
      "source": [
        "tokenized_traineval.set_format(\"torch\")\n",
        "tokenized_test.set_format('torch')\n",
        "tokenized_traineval"
      ]
    },
    {
      "cell_type": "code",
      "execution_count": 73,
      "metadata": {},
      "outputs": [
        {
          "data": {
            "text/plain": [
              "{'labels': tensor(1),\n",
              " 'input_ids': tensor([     0,  13918,    959, 158200,     47,  70424,   1919,   7086,      2]),\n",
              " 'attention_mask': tensor([1, 1, 1, 1, 1, 1, 1, 1, 1])}"
            ]
          },
          "execution_count": 73,
          "metadata": {},
          "output_type": "execute_result"
        }
      ],
      "source": [
        "next(iter(tokenized_test))"
      ]
    },
    {
      "cell_type": "code",
      "execution_count": 74,
      "metadata": {},
      "outputs": [
        {
          "data": {
            "text/plain": [
              "Dataset({\n",
              "    features: ['labels', 'input_ids', 'attention_mask'],\n",
              "    num_rows: 5003\n",
              "})"
            ]
          },
          "execution_count": 74,
          "metadata": {},
          "output_type": "execute_result"
        }
      ],
      "source": [
        "tokenized_test"
      ]
    },
    {
      "cell_type": "code",
      "execution_count": 75,
      "metadata": {},
      "outputs": [
        {
          "name": "stderr",
          "output_type": "stream",
          "text": [
            "You are using a model of type xlm-roberta to instantiate a model of type roberta. This is not supported for all configurations of models and can yield errors.\n",
            "Some weights of the model checkpoint at xlm-roberta-base were not used when initializing RobertaForSequenceClassification: ['lm_head.dense.weight', 'lm_head.layer_norm.bias', 'lm_head.decoder.weight', 'lm_head.layer_norm.weight', 'lm_head.dense.bias', 'lm_head.bias', 'roberta.pooler.dense.bias', 'roberta.pooler.dense.weight']\n",
            "- This IS expected if you are initializing RobertaForSequenceClassification from the checkpoint of a model trained on another task or with another architecture (e.g. initializing a BertForSequenceClassification model from a BertForPreTraining model).\n",
            "- This IS NOT expected if you are initializing RobertaForSequenceClassification from the checkpoint of a model that you expect to be exactly identical (initializing a BertForSequenceClassification model from a BertForSequenceClassification model).\n",
            "Some weights of RobertaForSequenceClassification were not initialized from the model checkpoint at xlm-roberta-base and are newly initialized: ['classifier.out_proj.bias', 'classifier.dense.bias', 'classifier.out_proj.weight', 'classifier.dense.weight']\n",
            "You should probably TRAIN this model on a down-stream task to be able to use it for predictions and inference.\n"
          ]
        }
      ],
      "source": [
        "num_classes = len(set(trump_tweets['trump_stance_auto']))\n",
        "model = RobertaForSequenceClassification.from_pretrained(model_name, num_labels=num_classes).to(device)\n"
      ]
    },
    {
      "cell_type": "code",
      "execution_count": 76,
      "metadata": {},
      "outputs": [],
      "source": [
        "## Declare important variables\n",
        "batch_size = 32\n",
        "num_epochs = 3\n",
        "total_steps = len(tokenized_traineval['train'])//batch_size*num_epochs\n",
        "logging_steps = total_steps//10\n",
        "lr = 2e-5"
      ]
    },
    {
      "cell_type": "code",
      "execution_count": 77,
      "metadata": {},
      "outputs": [],
      "source": [
        "training_args = TrainingArguments(\n",
        "    output_dir=\"results/multilingual/joint_2cl\",\n",
        "    overwrite_output_dir=True,\n",
        "    evaluation_strategy=\"epoch\",\n",
        "    learning_rate=lr,\n",
        "    weight_decay=0.01,\n",
        "    per_device_train_batch_size=batch_size,\n",
        "    per_device_eval_batch_size=batch_size,\n",
        "    fp16=True,\n",
        "    logging_steps= logging_steps,\n",
        "    num_train_epochs = num_epochs,\n",
        "    save_strategy='epoch',\n",
        "    load_best_model_at_end=True,\n",
        "    optim='adamw_torch'\n",
        ")"
      ]
    },
    {
      "cell_type": "code",
      "execution_count": 78,
      "metadata": {},
      "outputs": [
        {
          "name": "stderr",
          "output_type": "stream",
          "text": [
            "Using cuda_amp half precision backend\n"
          ]
        }
      ],
      "source": [
        "def compute_metrics(eval_preds):\n",
        "    logits, labels = eval_preds\n",
        "    predictions = np.argmax(logits, axis=-1)\n",
        "    precision, recall, f1, _ = precision_recall_fscore_support(labels, predictions, average=None)\n",
        "    matrix = confusion_matrix(labels, predictions)\n",
        "    acc = matrix.diagonal()/matrix.sum(axis=1)\n",
        "    return {\n",
        "        'precision': precision.tolist(),\n",
        "        'recall': recall.tolist(),\n",
        "        'f1': f1.tolist(),\n",
        "        'accuracy': acc.tolist()\n",
        "    }\n",
        "trainer = Trainer(\n",
        "    model,\n",
        "    training_args,\n",
        "    train_dataset=tokenized_traineval[\"train\"],\n",
        "    eval_dataset=tokenized_traineval[\"test\"],\n",
        "    tokenizer=tokenizer,\n",
        "    compute_metrics=compute_metrics,\n",
        "    data_collator=data_collator\n",
        ")"
      ]
    },
    {
      "cell_type": "code",
      "execution_count": 79,
      "metadata": {},
      "outputs": [
        {
          "name": "stderr",
          "output_type": "stream",
          "text": [
            "***** Running training *****\n",
            "  Num examples = 44429\n",
            "  Num Epochs = 3\n",
            "  Instantaneous batch size per device = 32\n",
            "  Total train batch size (w. parallel, distributed & accumulation) = 32\n",
            "  Gradient Accumulation steps = 1\n",
            "  Total optimization steps = 4167\n",
            "  Number of trainable parameters = 278045186\n"
          ]
        },
        {
          "data": {
            "application/vnd.jupyter.widget-view+json": {
              "model_id": "da54920160064d3687eb169596078e57",
              "version_major": 2,
              "version_minor": 0
            },
            "text/plain": [
              "  0%|          | 0/4167 [00:00<?, ?it/s]"
            ]
          },
          "metadata": {},
          "output_type": "display_data"
        },
        {
          "name": "stderr",
          "output_type": "stream",
          "text": [
            "You're using a XLMRobertaTokenizerFast tokenizer. Please note that with a fast tokenizer, using the `__call__` method is faster than using a method to encode the text followed by a call to the `pad` method to get a padded encoding.\n"
          ]
        },
        {
          "name": "stdout",
          "output_type": "stream",
          "text": [
            "{'loss': 0.4541, 'learning_rate': 1.800815934725222e-05, 'epoch': 0.3}\n",
            "{'loss': 0.3451, 'learning_rate': 1.6025917926565877e-05, 'epoch': 0.6}\n",
            "{'loss': 0.3132, 'learning_rate': 1.4034077273818097e-05, 'epoch': 0.9}\n"
          ]
        },
        {
          "name": "stderr",
          "output_type": "stream",
          "text": [
            "***** Running Evaluation *****\n",
            "  Num examples = 14810\n",
            "  Batch size = 32\n"
          ]
        },
        {
          "data": {
            "application/vnd.jupyter.widget-view+json": {
              "model_id": "d38e02cdbe374c4b92df2246e8c907b1",
              "version_major": 2,
              "version_minor": 0
            },
            "text/plain": [
              "  0%|          | 0/463 [00:00<?, ?it/s]"
            ]
          },
          "metadata": {},
          "output_type": "display_data"
        },
        {
          "name": "stderr",
          "output_type": "stream",
          "text": [
            "Trainer is attempting to log a value of \"[0.9370569280343717, 0.764]\" of type <class 'list'> for key \"eval/precision\" as a scalar. This invocation of Tensorboard's writer.add_scalar() is incorrect so we dropped this attribute.\n",
            "Trainer is attempting to log a value of \"[0.8704849331470764, 0.8776106934001671]\" of type <class 'list'> for key \"eval/recall\" as a scalar. This invocation of Tensorboard's writer.add_scalar() is incorrect so we dropped this attribute.\n",
            "Trainer is attempting to log a value of \"[0.9025450031036624, 0.8168740279937792]\" of type <class 'list'> for key \"eval/f1\" as a scalar. This invocation of Tensorboard's writer.add_scalar() is incorrect so we dropped this attribute.\n",
            "Trainer is attempting to log a value of \"[0.8704849331470764, 0.8776106934001671]\" of type <class 'list'> for key \"eval/accuracy\" as a scalar. This invocation of Tensorboard's writer.add_scalar() is incorrect so we dropped this attribute.\n",
            "Saving model checkpoint to results/multilingual/joint_2cl\\checkpoint-1389\n",
            "Configuration saved in results/multilingual/joint_2cl\\checkpoint-1389\\config.json\n"
          ]
        },
        {
          "name": "stdout",
          "output_type": "stream",
          "text": [
            "{'eval_loss': 0.31928253173828125, 'eval_precision': [0.9370569280343717, 0.764], 'eval_recall': [0.8704849331470764, 0.8776106934001671], 'eval_f1': [0.9025450031036624, 0.8168740279937792], 'eval_accuracy': [0.8704849331470764, 0.8776106934001671], 'eval_runtime': 23.4651, 'eval_samples_per_second': 631.15, 'eval_steps_per_second': 19.731, 'epoch': 1.0}\n"
          ]
        },
        {
          "name": "stderr",
          "output_type": "stream",
          "text": [
            "Model weights saved in results/multilingual/joint_2cl\\checkpoint-1389\\pytorch_model.bin\n",
            "tokenizer config file saved in results/multilingual/joint_2cl\\checkpoint-1389\\tokenizer_config.json\n",
            "Special tokens file saved in results/multilingual/joint_2cl\\checkpoint-1389\\special_tokens_map.json\n"
          ]
        },
        {
          "name": "stdout",
          "output_type": "stream",
          "text": [
            "{'loss': 0.2685, 'learning_rate': 1.2037437005039598e-05, 'epoch': 1.2}\n",
            "{'loss': 0.2324, 'learning_rate': 1.0045596352291818e-05, 'epoch': 1.5}\n",
            "{'loss': 0.23, 'learning_rate': 8.04895608351332e-06, 'epoch': 1.8}\n"
          ]
        },
        {
          "name": "stderr",
          "output_type": "stream",
          "text": [
            "***** Running Evaluation *****\n",
            "  Num examples = 14810\n",
            "  Batch size = 32\n"
          ]
        },
        {
          "data": {
            "application/vnd.jupyter.widget-view+json": {
              "model_id": "9c06d8dba5614a789c2909d1a11bbc28",
              "version_major": 2,
              "version_minor": 0
            },
            "text/plain": [
              "  0%|          | 0/463 [00:00<?, ?it/s]"
            ]
          },
          "metadata": {},
          "output_type": "display_data"
        },
        {
          "name": "stderr",
          "output_type": "stream",
          "text": [
            "Trainer is attempting to log a value of \"[0.9335558252427184, 0.8392929703372612]\" of type <class 'list'> for key \"eval/precision\" as a scalar. This invocation of Tensorboard's writer.add_scalar() is incorrect so we dropped this attribute.\n",
            "Trainer is attempting to log a value of \"[0.921073637996408, 0.8627819548872181]\" of type <class 'list'> for key \"eval/recall\" as a scalar. This invocation of Tensorboard's writer.add_scalar() is incorrect so we dropped this attribute.\n",
            "Trainer is attempting to log a value of \"[0.9272727272727274, 0.8508753861997941]\" of type <class 'list'> for key \"eval/f1\" as a scalar. This invocation of Tensorboard's writer.add_scalar() is incorrect so we dropped this attribute.\n",
            "Trainer is attempting to log a value of \"[0.921073637996408, 0.8627819548872181]\" of type <class 'list'> for key \"eval/accuracy\" as a scalar. This invocation of Tensorboard's writer.add_scalar() is incorrect so we dropped this attribute.\n",
            "Saving model checkpoint to results/multilingual/joint_2cl\\checkpoint-2778\n",
            "Configuration saved in results/multilingual/joint_2cl\\checkpoint-2778\\config.json\n"
          ]
        },
        {
          "name": "stdout",
          "output_type": "stream",
          "text": [
            "{'eval_loss': 0.27678588032722473, 'eval_precision': [0.9335558252427184, 0.8392929703372612], 'eval_recall': [0.921073637996408, 0.8627819548872181], 'eval_f1': [0.9272727272727274, 0.8508753861997941], 'eval_accuracy': [0.921073637996408, 0.8627819548872181], 'eval_runtime': 23.8663, 'eval_samples_per_second': 620.541, 'eval_steps_per_second': 19.4, 'epoch': 2.0}\n"
          ]
        },
        {
          "name": "stderr",
          "output_type": "stream",
          "text": [
            "Model weights saved in results/multilingual/joint_2cl\\checkpoint-2778\\pytorch_model.bin\n",
            "tokenizer config file saved in results/multilingual/joint_2cl\\checkpoint-2778\\tokenizer_config.json\n",
            "Special tokens file saved in results/multilingual/joint_2cl\\checkpoint-2778\\special_tokens_map.json\n"
          ]
        },
        {
          "name": "stdout",
          "output_type": "stream",
          "text": [
            "{'loss': 0.197, 'learning_rate': 6.052315814734822e-06, 'epoch': 2.1}\n",
            "{'loss': 0.1571, 'learning_rate': 4.0556755459563244e-06, 'epoch': 2.4}\n",
            "{'loss': 0.1639, 'learning_rate': 2.059035277177826e-06, 'epoch': 2.7}\n",
            "{'loss': 0.159, 'learning_rate': 6.239500839932806e-08, 'epoch': 2.99}\n"
          ]
        },
        {
          "name": "stderr",
          "output_type": "stream",
          "text": [
            "***** Running Evaluation *****\n",
            "  Num examples = 14810\n",
            "  Batch size = 32\n"
          ]
        },
        {
          "data": {
            "application/vnd.jupyter.widget-view+json": {
              "model_id": "bf68be77becc4d8f99725d9fd18062f0",
              "version_major": 2,
              "version_minor": 0
            },
            "text/plain": [
              "  0%|          | 0/463 [00:00<?, ?it/s]"
            ]
          },
          "metadata": {},
          "output_type": "display_data"
        },
        {
          "name": "stderr",
          "output_type": "stream",
          "text": [
            "Trainer is attempting to log a value of \"[0.9261122620104567, 0.8643269848063343]\" of type <class 'list'> for key \"eval/precision\" as a scalar. This invocation of Tensorboard's writer.add_scalar() is incorrect so we dropped this attribute.\n",
            "Trainer is attempting to log a value of \"[0.9367391738176013, 0.8435672514619883]\" of type <class 'list'> for key \"eval/recall\" as a scalar. This invocation of Tensorboard's writer.add_scalar() is incorrect so we dropped this attribute.\n",
            "Trainer is attempting to log a value of \"[0.9313954065181804, 0.8538209491597082]\" of type <class 'list'> for key \"eval/f1\" as a scalar. This invocation of Tensorboard's writer.add_scalar() is incorrect so we dropped this attribute.\n",
            "Trainer is attempting to log a value of \"[0.9367391738176013, 0.8435672514619883]\" of type <class 'list'> for key \"eval/accuracy\" as a scalar. This invocation of Tensorboard's writer.add_scalar() is incorrect so we dropped this attribute.\n",
            "Saving model checkpoint to results/multilingual/joint_2cl\\checkpoint-4167\n",
            "Configuration saved in results/multilingual/joint_2cl\\checkpoint-4167\\config.json\n"
          ]
        },
        {
          "name": "stdout",
          "output_type": "stream",
          "text": [
            "{'eval_loss': 0.2847166359424591, 'eval_precision': [0.9261122620104567, 0.8643269848063343], 'eval_recall': [0.9367391738176013, 0.8435672514619883], 'eval_f1': [0.9313954065181804, 0.8538209491597082], 'eval_accuracy': [0.9367391738176013, 0.8435672514619883], 'eval_runtime': 23.6422, 'eval_samples_per_second': 626.423, 'eval_steps_per_second': 19.584, 'epoch': 3.0}\n"
          ]
        },
        {
          "name": "stderr",
          "output_type": "stream",
          "text": [
            "Model weights saved in results/multilingual/joint_2cl\\checkpoint-4167\\pytorch_model.bin\n",
            "tokenizer config file saved in results/multilingual/joint_2cl\\checkpoint-4167\\tokenizer_config.json\n",
            "Special tokens file saved in results/multilingual/joint_2cl\\checkpoint-4167\\special_tokens_map.json\n",
            "\n",
            "\n",
            "Training completed. Do not forget to share your model on huggingface.co/models =)\n",
            "\n",
            "\n",
            "Loading best model from results/multilingual/joint_2cl\\checkpoint-2778 (score: 0.27678588032722473).\n"
          ]
        },
        {
          "name": "stdout",
          "output_type": "stream",
          "text": [
            "{'train_runtime': 920.0913, 'train_samples_per_second': 144.863, 'train_steps_per_second': 4.529, 'train_loss': 0.25194210994149213, 'epoch': 3.0}\n"
          ]
        },
        {
          "data": {
            "text/plain": [
              "TrainOutput(global_step=4167, training_loss=0.25194210994149213, metrics={'train_runtime': 920.0913, 'train_samples_per_second': 144.863, 'train_steps_per_second': 4.529, 'train_loss': 0.25194210994149213, 'epoch': 3.0})"
            ]
          },
          "execution_count": 79,
          "metadata": {},
          "output_type": "execute_result"
        }
      ],
      "source": [
        "trainer.train()"
      ]
    },
    {
      "cell_type": "code",
      "execution_count": 80,
      "metadata": {},
      "outputs": [
        {
          "name": "stderr",
          "output_type": "stream",
          "text": [
            "***** Running Evaluation *****\n",
            "  Num examples = 5003\n",
            "  Batch size = 32\n"
          ]
        },
        {
          "data": {
            "application/vnd.jupyter.widget-view+json": {
              "model_id": "326e76a0054c43f9a2240c9c52b3632d",
              "version_major": 2,
              "version_minor": 0
            },
            "text/plain": [
              "  0%|          | 0/157 [00:00<?, ?it/s]"
            ]
          },
          "metadata": {},
          "output_type": "display_data"
        },
        {
          "name": "stderr",
          "output_type": "stream",
          "text": [
            "Trainer is attempting to log a value of \"[0.7411630558722919, 0.7197324414715719]\" of type <class 'list'> for key \"eval/precision\" as a scalar. This invocation of Tensorboard's writer.add_scalar() is incorrect so we dropped this attribute.\n",
            "Trainer is attempting to log a value of \"[0.8612123219609142, 0.5423387096774194]\" of type <class 'list'> for key \"eval/recall\" as a scalar. This invocation of Tensorboard's writer.add_scalar() is incorrect so we dropped this attribute.\n",
            "Trainer is attempting to log a value of \"[0.796690669526582, 0.6185685541822362]\" of type <class 'list'> for key \"eval/f1\" as a scalar. This invocation of Tensorboard's writer.add_scalar() is incorrect so we dropped this attribute.\n",
            "Trainer is attempting to log a value of \"[0.8612123219609142, 0.5423387096774194]\" of type <class 'list'> for key \"eval/accuracy\" as a scalar. This invocation of Tensorboard's writer.add_scalar() is incorrect so we dropped this attribute.\n"
          ]
        },
        {
          "name": "stdout",
          "output_type": "stream",
          "text": [
            "0.7076296118544091\n"
          ]
        }
      ],
      "source": [
        "res = trainer.evaluate(tokenized_test)\n",
        "print(sum(res['eval_f1'])/num_classes)"
      ]
    },
    {
      "cell_type": "code",
      "execution_count": 83,
      "metadata": {},
      "outputs": [
        {
          "data": {
            "text/html": [
              "<div>\n",
              "<style scoped>\n",
              "    .dataframe tbody tr th:only-of-type {\n",
              "        vertical-align: middle;\n",
              "    }\n",
              "\n",
              "    .dataframe tbody tr th {\n",
              "        vertical-align: top;\n",
              "    }\n",
              "\n",
              "    .dataframe thead th {\n",
              "        text-align: right;\n",
              "    }\n",
              "</style>\n",
              "<table border=\"1\" class=\"dataframe\">\n",
              "  <thead>\n",
              "    <tr style=\"text-align: right;\">\n",
              "      <th></th>\n",
              "      <th>f1</th>\n",
              "      <th>precision</th>\n",
              "      <th>recall</th>\n",
              "      <th>accuracy</th>\n",
              "    </tr>\n",
              "  </thead>\n",
              "  <tbody>\n",
              "    <tr>\n",
              "      <th>0</th>\n",
              "      <td>0.80</td>\n",
              "      <td>0.74</td>\n",
              "      <td>0.86</td>\n",
              "      <td>0.86</td>\n",
              "    </tr>\n",
              "    <tr>\n",
              "      <th>1</th>\n",
              "      <td>0.62</td>\n",
              "      <td>0.72</td>\n",
              "      <td>0.54</td>\n",
              "      <td>0.54</td>\n",
              "    </tr>\n",
              "  </tbody>\n",
              "</table>\n",
              "</div>"
            ],
            "text/plain": [
              "     f1  precision  recall  accuracy\n",
              "0  0.80       0.74    0.86      0.86\n",
              "1  0.62       0.72    0.54      0.54"
            ]
          },
          "execution_count": 83,
          "metadata": {},
          "output_type": "execute_result"
        }
      ],
      "source": [
        "res_table = pd.DataFrame({'f1': np.round(res['eval_f1'],2), 'precision': np.round(res['eval_precision'],2), \n",
        "'recall': np.round(res['eval_recall'],2), 'accuracy': np.round(res['eval_accuracy'],2)})\n",
        "res_table"
      ]
    },
    {
      "cell_type": "code",
      "execution_count": 84,
      "metadata": {},
      "outputs": [
        {
          "data": {
            "text/plain": [
              "f1           0.71\n",
              "precision    0.73\n",
              "recall       0.70\n",
              "accuracy     0.70\n",
              "dtype: float64"
            ]
          },
          "execution_count": 84,
          "metadata": {},
          "output_type": "execute_result"
        }
      ],
      "source": [
        "round(res_table.mean(axis=0),2)"
      ]
    },
    {
      "attachments": {},
      "cell_type": "markdown",
      "metadata": {},
      "source": [
        "## Train with full dataset with trump data only"
      ]
    },
    {
      "cell_type": "code",
      "execution_count": 125,
      "metadata": {},
      "outputs": [
        {
          "data": {
            "text/html": [
              "<div>\n",
              "<style scoped>\n",
              "    .dataframe tbody tr th:only-of-type {\n",
              "        vertical-align: middle;\n",
              "    }\n",
              "\n",
              "    .dataframe tbody tr th {\n",
              "        vertical-align: top;\n",
              "    }\n",
              "\n",
              "    .dataframe thead th {\n",
              "        text-align: right;\n",
              "    }\n",
              "</style>\n",
              "<table border=\"1\" class=\"dataframe\">\n",
              "  <thead>\n",
              "    <tr style=\"text-align: right;\">\n",
              "      <th></th>\n",
              "      <th>labels</th>\n",
              "      <th>text</th>\n",
              "    </tr>\n",
              "  </thead>\n",
              "  <tbody>\n",
              "    <tr>\n",
              "      <th>0</th>\n",
              "      <td>1</td>\n",
              "      <td>the recent election of donald trump the freedo...</td>\n",
              "    </tr>\n",
              "    <tr>\n",
              "      <th>1</th>\n",
              "      <td>1</td>\n",
              "      <td>donald trump won</td>\n",
              "    </tr>\n",
              "    <tr>\n",
              "      <th>2</th>\n",
              "      <td>1</td>\n",
              "      <td>that donald trump beat hillary clinton</td>\n",
              "    </tr>\n",
              "    <tr>\n",
              "      <th>3</th>\n",
              "      <td>1</td>\n",
              "      <td>donald trump was elected president</td>\n",
              "    </tr>\n",
              "    <tr>\n",
              "      <th>4</th>\n",
              "      <td>1</td>\n",
              "      <td>the american people saw through the obfuscatio...</td>\n",
              "    </tr>\n",
              "    <tr>\n",
              "      <th>...</th>\n",
              "      <td>...</td>\n",
              "      <td>...</td>\n",
              "    </tr>\n",
              "    <tr>\n",
              "      <th>7141</th>\n",
              "      <td>1</td>\n",
              "      <td>donald trump</td>\n",
              "    </tr>\n",
              "    <tr>\n",
              "      <th>7142</th>\n",
              "      <td>1</td>\n",
              "      <td>that donald trump will prevail and continue to...</td>\n",
              "    </tr>\n",
              "    <tr>\n",
              "      <th>7143</th>\n",
              "      <td>0</td>\n",
              "      <td>hopefully donald trump will be out of the whit...</td>\n",
              "    </tr>\n",
              "    <tr>\n",
              "      <th>7144</th>\n",
              "      <td>0</td>\n",
              "      <td>new president</td>\n",
              "    </tr>\n",
              "    <tr>\n",
              "      <th>7145</th>\n",
              "      <td>0</td>\n",
              "      <td>hopefully donald trump losing the election</td>\n",
              "    </tr>\n",
              "  </tbody>\n",
              "</table>\n",
              "<p>7146 rows × 2 columns</p>\n",
              "</div>"
            ],
            "text/plain": [
              "      labels                                               text\n",
              "0          1  the recent election of donald trump the freedo...\n",
              "1          1                                   donald trump won\n",
              "2          1             that donald trump beat hillary clinton\n",
              "3          1                 donald trump was elected president\n",
              "4          1  the american people saw through the obfuscatio...\n",
              "...      ...                                                ...\n",
              "7141       1                                       donald trump\n",
              "7142       1  that donald trump will prevail and continue to...\n",
              "7143       0  hopefully donald trump will be out of the whit...\n",
              "7144       0                                      new president\n",
              "7145       0         hopefully donald trump losing the election\n",
              "\n",
              "[7146 rows x 2 columns]"
            ]
          },
          "execution_count": 125,
          "metadata": {},
          "output_type": "execute_result"
        }
      ],
      "source": [
        "trump_reduced"
      ]
    },
    {
      "cell_type": "code",
      "execution_count": 126,
      "metadata": {},
      "outputs": [
        {
          "data": {
            "application/vnd.jupyter.widget-view+json": {
              "model_id": "b11657e2bf3e48639fd30da5b62822c3",
              "version_major": 2,
              "version_minor": 0
            },
            "text/plain": [
              "Stringifying the column:   0%|          | 0/8 [00:00<?, ?ba/s]"
            ]
          },
          "metadata": {},
          "output_type": "display_data"
        },
        {
          "data": {
            "application/vnd.jupyter.widget-view+json": {
              "model_id": "8f2a761c27c645258dab1b693330878e",
              "version_major": 2,
              "version_minor": 0
            },
            "text/plain": [
              "Casting to class labels:   0%|          | 0/8 [00:00<?, ?ba/s]"
            ]
          },
          "metadata": {},
          "output_type": "display_data"
        },
        {
          "data": {
            "application/vnd.jupyter.widget-view+json": {
              "model_id": "cc55a3afaf0f4f9188e669c40251839d",
              "version_major": 2,
              "version_minor": 0
            },
            "text/plain": [
              "Casting the dataset:   0%|          | 0/1 [00:00<?, ?ba/s]"
            ]
          },
          "metadata": {},
          "output_type": "display_data"
        }
      ],
      "source": [
        "trump_dataset = Dataset.from_pandas(trump_reduced)\n",
        "trump_dataset = trump_dataset.class_encode_column('labels')\n",
        "\n"
      ]
    },
    {
      "cell_type": "code",
      "execution_count": 169,
      "metadata": {},
      "outputs": [],
      "source": [
        "train_test = trump_dataset.train_test_split(test_size=0.1, stratify_by_column='labels', seed=seed_val)\n",
        "train_eval = train_test['train'].train_test_split(test_size=0.2, stratify_by_column='labels', seed=seed_val)"
      ]
    },
    {
      "cell_type": "code",
      "execution_count": 170,
      "metadata": {},
      "outputs": [
        {
          "data": {
            "text/plain": [
              "DatasetDict({\n",
              "    train: Dataset({\n",
              "        features: ['labels', 'text'],\n",
              "        num_rows: 5144\n",
              "    })\n",
              "    test: Dataset({\n",
              "        features: ['labels', 'text'],\n",
              "        num_rows: 715\n",
              "    })\n",
              "    eval: Dataset({\n",
              "        features: ['labels', 'text'],\n",
              "        num_rows: 1287\n",
              "    })\n",
              "})"
            ]
          },
          "execution_count": 170,
          "metadata": {},
          "output_type": "execute_result"
        }
      ],
      "source": [
        "trump_datasets = DatasetDict({\n",
        "    'train': train_eval['train'],\n",
        "    'test': train_test['test'],\n",
        "    'eval': train_eval['test']\n",
        "})\n",
        "trump_datasets"
      ]
    },
    {
      "cell_type": "code",
      "execution_count": 171,
      "metadata": {},
      "outputs": [
        {
          "data": {
            "application/vnd.jupyter.widget-view+json": {
              "model_id": "187aa5e8b5b945619bae3ef7e6c0317f",
              "version_major": 2,
              "version_minor": 0
            },
            "text/plain": [
              "  0%|          | 0/6 [00:00<?, ?ba/s]"
            ]
          },
          "metadata": {},
          "output_type": "display_data"
        },
        {
          "data": {
            "application/vnd.jupyter.widget-view+json": {
              "model_id": "8a620db028a048fb99f4bb1389b475b6",
              "version_major": 2,
              "version_minor": 0
            },
            "text/plain": [
              "  0%|          | 0/1 [00:00<?, ?ba/s]"
            ]
          },
          "metadata": {},
          "output_type": "display_data"
        },
        {
          "data": {
            "application/vnd.jupyter.widget-view+json": {
              "model_id": "7199d8e35f424e4082474ae4bc432af8",
              "version_major": 2,
              "version_minor": 0
            },
            "text/plain": [
              "  0%|          | 0/2 [00:00<?, ?ba/s]"
            ]
          },
          "metadata": {},
          "output_type": "display_data"
        }
      ],
      "source": [
        "tokenized_datasets = trump_datasets.map(tokenize_function, batched=True, remove_columns=['text'])\n"
      ]
    },
    {
      "cell_type": "code",
      "execution_count": 172,
      "metadata": {},
      "outputs": [
        {
          "data": {
            "text/plain": [
              "DatasetDict({\n",
              "    train: Dataset({\n",
              "        features: ['labels', 'input_ids', 'attention_mask'],\n",
              "        num_rows: 5144\n",
              "    })\n",
              "    test: Dataset({\n",
              "        features: ['labels', 'input_ids', 'attention_mask'],\n",
              "        num_rows: 715\n",
              "    })\n",
              "    eval: Dataset({\n",
              "        features: ['labels', 'input_ids', 'attention_mask'],\n",
              "        num_rows: 1287\n",
              "    })\n",
              "})"
            ]
          },
          "execution_count": 172,
          "metadata": {},
          "output_type": "execute_result"
        }
      ],
      "source": [
        "tokenized_datasets.set_format(\"torch\")\n",
        "tokenized_datasets"
      ]
    },
    {
      "cell_type": "code",
      "execution_count": 173,
      "metadata": {},
      "outputs": [
        {
          "name": "stderr",
          "output_type": "stream",
          "text": [
            "loading configuration file config.json from cache at C:\\Users\\Hung/.cache\\huggingface\\hub\\models--xlm-roberta-base\\snapshots\\77de1f7a7e5e737aead1cd880979d4f1b3af6668\\config.json\n",
            "Model config XLMRobertaConfig {\n",
            "  \"architectures\": [\n",
            "    \"XLMRobertaForMaskedLM\"\n",
            "  ],\n",
            "  \"attention_probs_dropout_prob\": 0.1,\n",
            "  \"bos_token_id\": 0,\n",
            "  \"classifier_dropout\": null,\n",
            "  \"eos_token_id\": 2,\n",
            "  \"hidden_act\": \"gelu\",\n",
            "  \"hidden_dropout_prob\": 0.1,\n",
            "  \"hidden_size\": 768,\n",
            "  \"initializer_range\": 0.02,\n",
            "  \"intermediate_size\": 3072,\n",
            "  \"layer_norm_eps\": 1e-05,\n",
            "  \"max_position_embeddings\": 514,\n",
            "  \"model_type\": \"xlm-roberta\",\n",
            "  \"num_attention_heads\": 12,\n",
            "  \"num_hidden_layers\": 12,\n",
            "  \"output_past\": true,\n",
            "  \"pad_token_id\": 1,\n",
            "  \"position_embedding_type\": \"absolute\",\n",
            "  \"transformers_version\": \"4.25.1\",\n",
            "  \"type_vocab_size\": 1,\n",
            "  \"use_cache\": true,\n",
            "  \"vocab_size\": 250002\n",
            "}\n",
            "\n",
            "loading weights file pytorch_model.bin from cache at C:\\Users\\Hung/.cache\\huggingface\\hub\\models--xlm-roberta-base\\snapshots\\77de1f7a7e5e737aead1cd880979d4f1b3af6668\\pytorch_model.bin\n",
            "Some weights of the model checkpoint at xlm-roberta-base were not used when initializing XLMRobertaForSequenceClassification: ['roberta.pooler.dense.bias', 'lm_head.layer_norm.bias', 'lm_head.layer_norm.weight', 'lm_head.dense.bias', 'roberta.pooler.dense.weight', 'lm_head.decoder.weight', 'lm_head.dense.weight', 'lm_head.bias']\n",
            "- This IS expected if you are initializing XLMRobertaForSequenceClassification from the checkpoint of a model trained on another task or with another architecture (e.g. initializing a BertForSequenceClassification model from a BertForPreTraining model).\n",
            "- This IS NOT expected if you are initializing XLMRobertaForSequenceClassification from the checkpoint of a model that you expect to be exactly identical (initializing a BertForSequenceClassification model from a BertForSequenceClassification model).\n",
            "Some weights of XLMRobertaForSequenceClassification were not initialized from the model checkpoint at xlm-roberta-base and are newly initialized: ['classifier.dense.bias', 'classifier.out_proj.bias', 'classifier.dense.weight', 'classifier.out_proj.weight']\n",
            "You should probably TRAIN this model on a down-stream task to be able to use it for predictions and inference.\n"
          ]
        }
      ],
      "source": [
        "num_classes = len(set(trump_tweets['trump_stance_auto']))\n",
        "model_name = 'xlm-roberta-base'\n",
        "model = XLMRobertaForSequenceClassification.from_pretrained(model_name, num_labels=num_classes).to(device)\n"
      ]
    },
    {
      "cell_type": "code",
      "execution_count": 174,
      "metadata": {},
      "outputs": [],
      "source": [
        "train_df = Dataset.to_pandas(trump_datasets['train'])"
      ]
    },
    {
      "cell_type": "code",
      "execution_count": 175,
      "metadata": {},
      "outputs": [
        {
          "name": "stdout",
          "output_type": "stream",
          "text": [
            "[0.82860825 1.26078431]\n"
          ]
        }
      ],
      "source": [
        "from sklearn.utils import class_weight\n",
        "class_weights = class_weight.compute_class_weight(class_weight='balanced', classes=np.unique(train_df.labels),y=train_df['labels'].tolist())\n",
        "print(class_weights)\n"
      ]
    },
    {
      "cell_type": "code",
      "execution_count": 176,
      "metadata": {},
      "outputs": [],
      "source": [
        "class CustomTrainer(Trainer):\n",
        "    def compute_loss(self, model, inputs, return_outputs=False):\n",
        "        labels = inputs.get(\"labels\")\n",
        "        # forward pass\n",
        "        outputs = model(**inputs)\n",
        "        logits = outputs.get(\"logits\")\n",
        "        loss_fct = nn.CrossEntropyLoss(weight=torch.tensor(class_weights).float().to(device))\n",
        "        loss = loss_fct(logits.view(-1, self.model.config.num_labels), labels.view(-1))\n",
        "        return (loss, outputs) if return_outputs else loss"
      ]
    },
    {
      "cell_type": "code",
      "execution_count": 177,
      "metadata": {},
      "outputs": [],
      "source": [
        "## Declare important variables\n",
        "batch_size = 32\n",
        "num_epochs = 4\n",
        "total_steps = len(tokenized_traineval['train'])//batch_size*num_epochs\n",
        "logging_steps = total_steps//10\n",
        "lr = 2e-5"
      ]
    },
    {
      "cell_type": "code",
      "execution_count": 178,
      "metadata": {},
      "outputs": [
        {
          "name": "stderr",
          "output_type": "stream",
          "text": [
            "PyTorch: setting up devices\n",
            "The default value for the training argument `--report_to` will change in v5 (from all installed integrations to none). In v5, you will need to use `--report_to all` to get the same behavior as now. You should start updating your code and make this info disappear :-).\n"
          ]
        }
      ],
      "source": [
        "training_args = TrainingArguments(\n",
        "    output_dir=\"results/multilingual/trump_2cl\",\n",
        "    overwrite_output_dir=True,\n",
        "    evaluation_strategy=\"epoch\",\n",
        "    learning_rate=lr,\n",
        "    weight_decay=0.01,\n",
        "    per_device_train_batch_size=batch_size,\n",
        "    per_device_eval_batch_size=batch_size,\n",
        "    fp16=True,\n",
        "    logging_steps= logging_steps,\n",
        "    num_train_epochs = num_epochs,\n",
        "    save_strategy='epoch',\n",
        "    load_best_model_at_end=True,\n",
        "    optim='adamw_torch'\n",
        ")"
      ]
    },
    {
      "cell_type": "code",
      "execution_count": 179,
      "metadata": {},
      "outputs": [
        {
          "name": "stderr",
          "output_type": "stream",
          "text": [
            "Using cuda_amp half precision backend\n"
          ]
        }
      ],
      "source": [
        "def compute_metrics(eval_preds):\n",
        "    logits, labels = eval_preds\n",
        "    predictions = np.argmax(logits, axis=-1)\n",
        "    precision, recall, f1, _ = precision_recall_fscore_support(labels, predictions, average=None)\n",
        "    matrix = confusion_matrix(labels, predictions)\n",
        "    acc = matrix.diagonal()/matrix.sum(axis=1)\n",
        "    return {\n",
        "        'precision': precision.tolist(),\n",
        "        'recall': recall.tolist(),\n",
        "        'f1': f1.tolist(),\n",
        "        'accuracy': acc.tolist()\n",
        "    }\n",
        "trainer = CustomTrainer(\n",
        "    model,\n",
        "    training_args,\n",
        "    train_dataset=tokenized_datasets[\"train\"],\n",
        "    eval_dataset=tokenized_datasets[\"eval\"],\n",
        "    tokenizer=tokenizer,\n",
        "    compute_metrics=compute_metrics,\n",
        "    data_collator=data_collator\n",
        ")"
      ]
    },
    {
      "cell_type": "code",
      "execution_count": 180,
      "metadata": {},
      "outputs": [
        {
          "name": "stderr",
          "output_type": "stream",
          "text": [
            "***** Running training *****\n",
            "  Num examples = 5144\n",
            "  Num Epochs = 4\n",
            "  Instantaneous batch size per device = 32\n",
            "  Total train batch size (w. parallel, distributed & accumulation) = 32\n",
            "  Gradient Accumulation steps = 1\n",
            "  Total optimization steps = 644\n",
            "  Number of trainable parameters = 278045186\n"
          ]
        },
        {
          "data": {
            "application/vnd.jupyter.widget-view+json": {
              "model_id": "1829d552fd584594a47a989feadb39a9",
              "version_major": 2,
              "version_minor": 0
            },
            "text/plain": [
              "  0%|          | 0/644 [00:00<?, ?it/s]"
            ]
          },
          "metadata": {},
          "output_type": "display_data"
        },
        {
          "name": "stderr",
          "output_type": "stream",
          "text": [
            "***** Running Evaluation *****\n",
            "  Num examples = 1287\n",
            "  Batch size = 32\n"
          ]
        },
        {
          "data": {
            "application/vnd.jupyter.widget-view+json": {
              "model_id": "475ff9374092424f914c64e300b0fd11",
              "version_major": 2,
              "version_minor": 0
            },
            "text/plain": [
              "  0%|          | 0/41 [00:00<?, ?it/s]"
            ]
          },
          "metadata": {},
          "output_type": "display_data"
        },
        {
          "name": "stderr",
          "output_type": "stream",
          "text": [
            "Trainer is attempting to log a value of \"[0.8151260504201681, 0.6596858638743456]\" of type <class 'list'> for key \"eval/precision\" as a scalar. This invocation of Tensorboard's writer.add_scalar() is incorrect so we dropped this attribute.\n",
            "Trainer is attempting to log a value of \"[0.749034749034749, 0.7411764705882353]\" of type <class 'list'> for key \"eval/recall\" as a scalar. This invocation of Tensorboard's writer.add_scalar() is incorrect so we dropped this attribute.\n",
            "Trainer is attempting to log a value of \"[0.7806841046277665, 0.698060941828255]\" of type <class 'list'> for key \"eval/f1\" as a scalar. This invocation of Tensorboard's writer.add_scalar() is incorrect so we dropped this attribute.\n",
            "Trainer is attempting to log a value of \"[0.749034749034749, 0.7411764705882353]\" of type <class 'list'> for key \"eval/accuracy\" as a scalar. This invocation of Tensorboard's writer.add_scalar() is incorrect so we dropped this attribute.\n",
            "Saving model checkpoint to results/multilingual/trump_2cl\\checkpoint-161\n",
            "Configuration saved in results/multilingual/trump_2cl\\checkpoint-161\\config.json\n"
          ]
        },
        {
          "name": "stdout",
          "output_type": "stream",
          "text": [
            "{'eval_loss': 0.532257080078125, 'eval_precision': [0.8151260504201681, 0.6596858638743456], 'eval_recall': [0.749034749034749, 0.7411764705882353], 'eval_f1': [0.7806841046277665, 0.698060941828255], 'eval_accuracy': [0.749034749034749, 0.7411764705882353], 'eval_runtime': 1.3538, 'eval_samples_per_second': 950.655, 'eval_steps_per_second': 30.285, 'epoch': 1.0}\n"
          ]
        },
        {
          "name": "stderr",
          "output_type": "stream",
          "text": [
            "Model weights saved in results/multilingual/trump_2cl\\checkpoint-161\\pytorch_model.bin\n",
            "tokenizer config file saved in results/multilingual/trump_2cl\\checkpoint-161\\tokenizer_config.json\n",
            "Special tokens file saved in results/multilingual/trump_2cl\\checkpoint-161\\special_tokens_map.json\n",
            "***** Running Evaluation *****\n",
            "  Num examples = 1287\n",
            "  Batch size = 32\n"
          ]
        },
        {
          "data": {
            "application/vnd.jupyter.widget-view+json": {
              "model_id": "25f80d2cdfd744f1a73312f6b3f3e1ed",
              "version_major": 2,
              "version_minor": 0
            },
            "text/plain": [
              "  0%|          | 0/41 [00:00<?, ?it/s]"
            ]
          },
          "metadata": {},
          "output_type": "display_data"
        },
        {
          "name": "stderr",
          "output_type": "stream",
          "text": [
            "Trainer is attempting to log a value of \"[0.7949015063731171, 0.785377358490566]\" of type <class 'list'> for key \"eval/precision\" as a scalar. This invocation of Tensorboard's writer.add_scalar() is incorrect so we dropped this attribute.\n",
            "Trainer is attempting to log a value of \"[0.8828828828828829, 0.6529411764705882]\" of type <class 'list'> for key \"eval/recall\" as a scalar. This invocation of Tensorboard's writer.add_scalar() is incorrect so we dropped this attribute.\n",
            "Trainer is attempting to log a value of \"[0.8365853658536586, 0.7130620985010707]\" of type <class 'list'> for key \"eval/f1\" as a scalar. This invocation of Tensorboard's writer.add_scalar() is incorrect so we dropped this attribute.\n",
            "Trainer is attempting to log a value of \"[0.8828828828828829, 0.6529411764705882]\" of type <class 'list'> for key \"eval/accuracy\" as a scalar. This invocation of Tensorboard's writer.add_scalar() is incorrect so we dropped this attribute.\n",
            "Saving model checkpoint to results/multilingual/trump_2cl\\checkpoint-322\n",
            "Configuration saved in results/multilingual/trump_2cl\\checkpoint-322\\config.json\n"
          ]
        },
        {
          "name": "stdout",
          "output_type": "stream",
          "text": [
            "{'eval_loss': 0.48381173610687256, 'eval_precision': [0.7949015063731171, 0.785377358490566], 'eval_recall': [0.8828828828828829, 0.6529411764705882], 'eval_f1': [0.8365853658536586, 0.7130620985010707], 'eval_accuracy': [0.8828828828828829, 0.6529411764705882], 'eval_runtime': 1.3526, 'eval_samples_per_second': 951.481, 'eval_steps_per_second': 30.311, 'epoch': 2.0}\n"
          ]
        },
        {
          "name": "stderr",
          "output_type": "stream",
          "text": [
            "Model weights saved in results/multilingual/trump_2cl\\checkpoint-322\\pytorch_model.bin\n",
            "tokenizer config file saved in results/multilingual/trump_2cl\\checkpoint-322\\tokenizer_config.json\n",
            "Special tokens file saved in results/multilingual/trump_2cl\\checkpoint-322\\special_tokens_map.json\n",
            "***** Running Evaluation *****\n",
            "  Num examples = 1287\n",
            "  Batch size = 32\n"
          ]
        },
        {
          "data": {
            "application/vnd.jupyter.widget-view+json": {
              "model_id": "7dd2fee1b4e245d3b58d735de3ba9a96",
              "version_major": 2,
              "version_minor": 0
            },
            "text/plain": [
              "  0%|          | 0/41 [00:00<?, ?it/s]"
            ]
          },
          "metadata": {},
          "output_type": "display_data"
        },
        {
          "name": "stderr",
          "output_type": "stream",
          "text": [
            "Trainer is attempting to log a value of \"[0.8295904887714664, 0.7188679245283018]\" of type <class 'list'> for key \"eval/precision\" as a scalar. This invocation of Tensorboard's writer.add_scalar() is incorrect so we dropped this attribute.\n",
            "Trainer is attempting to log a value of \"[0.8082368082368082, 0.7470588235294118]\" of type <class 'list'> for key \"eval/recall\" as a scalar. This invocation of Tensorboard's writer.add_scalar() is incorrect so we dropped this attribute.\n",
            "Trainer is attempting to log a value of \"[0.8187744458930899, 0.7326923076923076]\" of type <class 'list'> for key \"eval/f1\" as a scalar. This invocation of Tensorboard's writer.add_scalar() is incorrect so we dropped this attribute.\n",
            "Trainer is attempting to log a value of \"[0.8082368082368082, 0.7470588235294118]\" of type <class 'list'> for key \"eval/accuracy\" as a scalar. This invocation of Tensorboard's writer.add_scalar() is incorrect so we dropped this attribute.\n",
            "Saving model checkpoint to results/multilingual/trump_2cl\\checkpoint-483\n",
            "Configuration saved in results/multilingual/trump_2cl\\checkpoint-483\\config.json\n"
          ]
        },
        {
          "name": "stdout",
          "output_type": "stream",
          "text": [
            "{'eval_loss': 0.4778986871242523, 'eval_precision': [0.8295904887714664, 0.7188679245283018], 'eval_recall': [0.8082368082368082, 0.7470588235294118], 'eval_f1': [0.8187744458930899, 0.7326923076923076], 'eval_accuracy': [0.8082368082368082, 0.7470588235294118], 'eval_runtime': 1.3256, 'eval_samples_per_second': 970.909, 'eval_steps_per_second': 30.93, 'epoch': 3.0}\n"
          ]
        },
        {
          "name": "stderr",
          "output_type": "stream",
          "text": [
            "Model weights saved in results/multilingual/trump_2cl\\checkpoint-483\\pytorch_model.bin\n",
            "tokenizer config file saved in results/multilingual/trump_2cl\\checkpoint-483\\tokenizer_config.json\n",
            "Special tokens file saved in results/multilingual/trump_2cl\\checkpoint-483\\special_tokens_map.json\n"
          ]
        },
        {
          "name": "stdout",
          "output_type": "stream",
          "text": [
            "{'loss': 0.5243, 'learning_rate': 4.130434782608696e-06, 'epoch': 3.22}\n"
          ]
        },
        {
          "name": "stderr",
          "output_type": "stream",
          "text": [
            "***** Running Evaluation *****\n",
            "  Num examples = 1287\n",
            "  Batch size = 32\n"
          ]
        },
        {
          "data": {
            "application/vnd.jupyter.widget-view+json": {
              "model_id": "db31d3e6645f41b4bacda99117cc6636",
              "version_major": 2,
              "version_minor": 0
            },
            "text/plain": [
              "  0%|          | 0/41 [00:00<?, ?it/s]"
            ]
          },
          "metadata": {},
          "output_type": "display_data"
        },
        {
          "name": "stderr",
          "output_type": "stream",
          "text": [
            "Trainer is attempting to log a value of \"[0.8318002628120894, 0.7262357414448669]\" of type <class 'list'> for key \"eval/precision\" as a scalar. This invocation of Tensorboard's writer.add_scalar() is incorrect so we dropped this attribute.\n",
            "Trainer is attempting to log a value of \"[0.8146718146718147, 0.7490196078431373]\" of type <class 'list'> for key \"eval/recall\" as a scalar. This invocation of Tensorboard's writer.add_scalar() is incorrect so we dropped this attribute.\n",
            "Trainer is attempting to log a value of \"[0.823146944083225, 0.7374517374517375]\" of type <class 'list'> for key \"eval/f1\" as a scalar. This invocation of Tensorboard's writer.add_scalar() is incorrect so we dropped this attribute.\n",
            "Trainer is attempting to log a value of \"[0.8146718146718147, 0.7490196078431373]\" of type <class 'list'> for key \"eval/accuracy\" as a scalar. This invocation of Tensorboard's writer.add_scalar() is incorrect so we dropped this attribute.\n",
            "Saving model checkpoint to results/multilingual/trump_2cl\\checkpoint-644\n",
            "Configuration saved in results/multilingual/trump_2cl\\checkpoint-644\\config.json\n"
          ]
        },
        {
          "name": "stdout",
          "output_type": "stream",
          "text": [
            "{'eval_loss': 0.4799610674381256, 'eval_precision': [0.8318002628120894, 0.7262357414448669], 'eval_recall': [0.8146718146718147, 0.7490196078431373], 'eval_f1': [0.823146944083225, 0.7374517374517375], 'eval_accuracy': [0.8146718146718147, 0.7490196078431373], 'eval_runtime': 1.3418, 'eval_samples_per_second': 959.129, 'eval_steps_per_second': 30.555, 'epoch': 4.0}\n"
          ]
        },
        {
          "name": "stderr",
          "output_type": "stream",
          "text": [
            "Model weights saved in results/multilingual/trump_2cl\\checkpoint-644\\pytorch_model.bin\n",
            "tokenizer config file saved in results/multilingual/trump_2cl\\checkpoint-644\\tokenizer_config.json\n",
            "Special tokens file saved in results/multilingual/trump_2cl\\checkpoint-644\\special_tokens_map.json\n",
            "\n",
            "\n",
            "Training completed. Do not forget to share your model on huggingface.co/models =)\n",
            "\n",
            "\n",
            "Loading best model from results/multilingual/trump_2cl\\checkpoint-483 (score: 0.4778986871242523).\n"
          ]
        },
        {
          "name": "stdout",
          "output_type": "stream",
          "text": [
            "{'train_runtime': 110.4524, 'train_samples_per_second': 186.288, 'train_steps_per_second': 5.831, 'train_loss': 0.49695433741030487, 'epoch': 4.0}\n"
          ]
        },
        {
          "data": {
            "text/plain": [
              "TrainOutput(global_step=644, training_loss=0.49695433741030487, metrics={'train_runtime': 110.4524, 'train_samples_per_second': 186.288, 'train_steps_per_second': 5.831, 'train_loss': 0.49695433741030487, 'epoch': 4.0})"
            ]
          },
          "execution_count": 180,
          "metadata": {},
          "output_type": "execute_result"
        }
      ],
      "source": [
        "trainer.train()"
      ]
    },
    {
      "cell_type": "code",
      "execution_count": 181,
      "metadata": {},
      "outputs": [
        {
          "name": "stderr",
          "output_type": "stream",
          "text": [
            "***** Running Evaluation *****\n",
            "  Num examples = 715\n",
            "  Batch size = 32\n"
          ]
        },
        {
          "data": {
            "application/vnd.jupyter.widget-view+json": {
              "model_id": "fd3c32d4ada84965ad6257b642c1fd48",
              "version_major": 2,
              "version_minor": 0
            },
            "text/plain": [
              "  0%|          | 0/23 [00:00<?, ?it/s]"
            ]
          },
          "metadata": {},
          "output_type": "display_data"
        },
        {
          "name": "stderr",
          "output_type": "stream",
          "text": [
            "Trainer is attempting to log a value of \"[0.8226950354609929, 0.7157534246575342]\" of type <class 'list'> for key \"eval/precision\" as a scalar. This invocation of Tensorboard's writer.add_scalar() is incorrect so we dropped this attribute.\n",
            "Trainer is attempting to log a value of \"[0.8074245939675174, 0.7359154929577465]\" of type <class 'list'> for key \"eval/recall\" as a scalar. This invocation of Tensorboard's writer.add_scalar() is incorrect so we dropped this attribute.\n",
            "Trainer is attempting to log a value of \"[0.8149882903981265, 0.7256944444444444]\" of type <class 'list'> for key \"eval/f1\" as a scalar. This invocation of Tensorboard's writer.add_scalar() is incorrect so we dropped this attribute.\n",
            "Trainer is attempting to log a value of \"[0.8074245939675174, 0.7359154929577465]\" of type <class 'list'> for key \"eval/accuracy\" as a scalar. This invocation of Tensorboard's writer.add_scalar() is incorrect so we dropped this attribute.\n"
          ]
        },
        {
          "name": "stdout",
          "output_type": "stream",
          "text": [
            "0.7703413674212855\n"
          ]
        }
      ],
      "source": [
        "res = trainer.evaluate(tokenized_datasets['test'])\n",
        "print(sum(res['eval_f1'])/num_classes)"
      ]
    },
    {
      "cell_type": "code",
      "execution_count": 182,
      "metadata": {},
      "outputs": [
        {
          "data": {
            "text/html": [
              "<div>\n",
              "<style scoped>\n",
              "    .dataframe tbody tr th:only-of-type {\n",
              "        vertical-align: middle;\n",
              "    }\n",
              "\n",
              "    .dataframe tbody tr th {\n",
              "        vertical-align: top;\n",
              "    }\n",
              "\n",
              "    .dataframe thead th {\n",
              "        text-align: right;\n",
              "    }\n",
              "</style>\n",
              "<table border=\"1\" class=\"dataframe\">\n",
              "  <thead>\n",
              "    <tr style=\"text-align: right;\">\n",
              "      <th></th>\n",
              "      <th>f1</th>\n",
              "      <th>precision</th>\n",
              "      <th>recall</th>\n",
              "      <th>accuracy</th>\n",
              "    </tr>\n",
              "  </thead>\n",
              "  <tbody>\n",
              "    <tr>\n",
              "      <th>0</th>\n",
              "      <td>0.81</td>\n",
              "      <td>0.82</td>\n",
              "      <td>0.81</td>\n",
              "      <td>0.81</td>\n",
              "    </tr>\n",
              "    <tr>\n",
              "      <th>1</th>\n",
              "      <td>0.73</td>\n",
              "      <td>0.72</td>\n",
              "      <td>0.74</td>\n",
              "      <td>0.74</td>\n",
              "    </tr>\n",
              "  </tbody>\n",
              "</table>\n",
              "</div>"
            ],
            "text/plain": [
              "     f1  precision  recall  accuracy\n",
              "0  0.81       0.82    0.81      0.81\n",
              "1  0.73       0.72    0.74      0.74"
            ]
          },
          "execution_count": 182,
          "metadata": {},
          "output_type": "execute_result"
        }
      ],
      "source": [
        "res_table = pd.DataFrame({'f1': np.round(res['eval_f1'],2), 'precision': np.round(res['eval_precision'],2), \n",
        "'recall': np.round(res['eval_recall'],2), 'accuracy': np.round(res['eval_accuracy'],2)})\n",
        "res_table"
      ]
    },
    {
      "cell_type": "code",
      "execution_count": 183,
      "metadata": {},
      "outputs": [
        {
          "data": {
            "text/plain": [
              "f1           0.77\n",
              "precision    0.77\n",
              "recall       0.78\n",
              "accuracy     0.78\n",
              "dtype: float64"
            ]
          },
          "execution_count": 183,
          "metadata": {},
          "output_type": "execute_result"
        }
      ],
      "source": [
        "round(res_table.mean(axis=0),2)"
      ]
    },
    {
      "attachments": {},
      "cell_type": "markdown",
      "metadata": {},
      "source": [
        "## Dimension reduction with UMAP: using known labels versus transfer"
      ]
    },
    {
      "attachments": {},
      "cell_type": "markdown",
      "metadata": {},
      "source": [
        "### Known labels"
      ]
    },
    {
      "cell_type": "code",
      "execution_count": 28,
      "metadata": {},
      "outputs": [],
      "source": [
        "guide_labels = np.array(trump_tweets['trump_stance_auto'].tolist()).reshape(-1,1)"
      ]
    },
    {
      "cell_type": "code",
      "execution_count": 29,
      "metadata": {},
      "outputs": [
        {
          "data": {
            "text/plain": [
              "(7146, 1)"
            ]
          },
          "execution_count": 29,
          "metadata": {},
          "output_type": "execute_result"
        }
      ],
      "source": [
        "guide_labels.shape"
      ]
    },
    {
      "cell_type": "code",
      "execution_count": 30,
      "metadata": {},
      "outputs": [
        {
          "name": "stderr",
          "output_type": "stream",
          "text": [
            "Some weights of the model checkpoint at results/multilingual/trump_2cl/checkpoint-483 were not used when initializing XLMRobertaModel: ['classifier.out_proj.weight', 'classifier.dense.weight', 'classifier.dense.bias', 'classifier.out_proj.bias']\n",
            "- This IS expected if you are initializing XLMRobertaModel from the checkpoint of a model trained on another task or with another architecture (e.g. initializing a BertForSequenceClassification model from a BertForPreTraining model).\n",
            "- This IS NOT expected if you are initializing XLMRobertaModel from the checkpoint of a model that you expect to be exactly identical (initializing a BertForSequenceClassification model from a BertForSequenceClassification model).\n",
            "Some weights of XLMRobertaModel were not initialized from the model checkpoint at results/multilingual/trump_2cl/checkpoint-483 and are newly initialized: ['roberta.pooler.dense.bias', 'roberta.pooler.dense.weight']\n",
            "You should probably TRAIN this model on a down-stream task to be able to use it for predictions and inference.\n"
          ]
        }
      ],
      "source": [
        "model_name = 'results/multilingual/trump_2cl/checkpoint-483'\n",
        "word_embedding_model = models.Transformer(model_name)\n",
        "pooling_model = models.Pooling(word_embedding_model.get_word_embedding_dimension(), 'cls')\n",
        "model = SentenceTransformer(modules=[word_embedding_model, pooling_model]).to(device)"
      ]
    },
    {
      "cell_type": "code",
      "execution_count": 90,
      "metadata": {},
      "outputs": [],
      "source": [
        "trump_tweets.rename(columns={'edits_clean_text':'text'}, inplace=True)"
      ]
    },
    {
      "cell_type": "code",
      "execution_count": 32,
      "metadata": {},
      "outputs": [
        {
          "data": {
            "text/html": [
              "<div>\n",
              "<style scoped>\n",
              "    .dataframe tbody tr th:only-of-type {\n",
              "        vertical-align: middle;\n",
              "    }\n",
              "\n",
              "    .dataframe tbody tr th {\n",
              "        vertical-align: top;\n",
              "    }\n",
              "\n",
              "    .dataframe thead th {\n",
              "        text-align: right;\n",
              "    }\n",
              "</style>\n",
              "<table border=\"1\" class=\"dataframe\">\n",
              "  <thead>\n",
              "    <tr style=\"text-align: right;\">\n",
              "      <th></th>\n",
              "      <th>wavenum</th>\n",
              "      <th>ideo5</th>\n",
              "      <th>text</th>\n",
              "      <th>qpos</th>\n",
              "      <th>trump_stance_auto</th>\n",
              "      <th>lexicoder_sentiment</th>\n",
              "      <th>fold</th>\n",
              "      <th>vader_sentiment</th>\n",
              "      <th>SVM_sentiment</th>\n",
              "      <th>BERT_sentiment</th>\n",
              "      <th>SVM_stance</th>\n",
              "      <th>BERT_stance</th>\n",
              "      <th>vader_scores</th>\n",
              "    </tr>\n",
              "  </thead>\n",
              "  <tbody>\n",
              "    <tr>\n",
              "      <th>0</th>\n",
              "      <td>3</td>\n",
              "      <td>Moderate</td>\n",
              "      <td>the recent election of donald trump the freedo...</td>\n",
              "      <td>1</td>\n",
              "      <td>1</td>\n",
              "      <td>1.0</td>\n",
              "      <td>3</td>\n",
              "      <td>1.0</td>\n",
              "      <td>1</td>\n",
              "      <td>1</td>\n",
              "      <td>1</td>\n",
              "      <td>0</td>\n",
              "      <td>0.6369</td>\n",
              "    </tr>\n",
              "    <tr>\n",
              "      <th>1</th>\n",
              "      <td>3</td>\n",
              "      <td>Very conservative</td>\n",
              "      <td>donald trump won</td>\n",
              "      <td>1</td>\n",
              "      <td>1</td>\n",
              "      <td>1.0</td>\n",
              "      <td>1</td>\n",
              "      <td>1.0</td>\n",
              "      <td>1</td>\n",
              "      <td>1</td>\n",
              "      <td>1</td>\n",
              "      <td>1</td>\n",
              "      <td>0.5719</td>\n",
              "    </tr>\n",
              "    <tr>\n",
              "      <th>2</th>\n",
              "      <td>3</td>\n",
              "      <td>Conservative</td>\n",
              "      <td>that donald trump beat hillary clinton</td>\n",
              "      <td>1</td>\n",
              "      <td>1</td>\n",
              "      <td>NaN</td>\n",
              "      <td>5</td>\n",
              "      <td>NaN</td>\n",
              "      <td>1</td>\n",
              "      <td>1</td>\n",
              "      <td>1</td>\n",
              "      <td>1</td>\n",
              "      <td>0.0000</td>\n",
              "    </tr>\n",
              "    <tr>\n",
              "      <th>3</th>\n",
              "      <td>3</td>\n",
              "      <td>Conservative</td>\n",
              "      <td>donald trump was elected president</td>\n",
              "      <td>1</td>\n",
              "      <td>1</td>\n",
              "      <td>NaN</td>\n",
              "      <td>5</td>\n",
              "      <td>NaN</td>\n",
              "      <td>1</td>\n",
              "      <td>1</td>\n",
              "      <td>1</td>\n",
              "      <td>1</td>\n",
              "      <td>0.0000</td>\n",
              "    </tr>\n",
              "    <tr>\n",
              "      <th>4</th>\n",
              "      <td>3</td>\n",
              "      <td>Conservative</td>\n",
              "      <td>the american people saw through the obfuscatio...</td>\n",
              "      <td>1</td>\n",
              "      <td>1</td>\n",
              "      <td>1.0</td>\n",
              "      <td>3</td>\n",
              "      <td>1.0</td>\n",
              "      <td>0</td>\n",
              "      <td>1</td>\n",
              "      <td>1</td>\n",
              "      <td>1</td>\n",
              "      <td>0.4019</td>\n",
              "    </tr>\n",
              "    <tr>\n",
              "      <th>...</th>\n",
              "      <td>...</td>\n",
              "      <td>...</td>\n",
              "      <td>...</td>\n",
              "      <td>...</td>\n",
              "      <td>...</td>\n",
              "      <td>...</td>\n",
              "      <td>...</td>\n",
              "      <td>...</td>\n",
              "      <td>...</td>\n",
              "      <td>...</td>\n",
              "      <td>...</td>\n",
              "      <td>...</td>\n",
              "      <td>...</td>\n",
              "    </tr>\n",
              "    <tr>\n",
              "      <th>7141</th>\n",
              "      <td>12</td>\n",
              "      <td>Very conservative</td>\n",
              "      <td>donald trump</td>\n",
              "      <td>1</td>\n",
              "      <td>1</td>\n",
              "      <td>NaN</td>\n",
              "      <td>5</td>\n",
              "      <td>NaN</td>\n",
              "      <td>0</td>\n",
              "      <td>0</td>\n",
              "      <td>0</td>\n",
              "      <td>0</td>\n",
              "      <td>0.0000</td>\n",
              "    </tr>\n",
              "    <tr>\n",
              "      <th>7142</th>\n",
              "      <td>12</td>\n",
              "      <td>Conservative</td>\n",
              "      <td>that donald trump will prevail and continue to...</td>\n",
              "      <td>1</td>\n",
              "      <td>1</td>\n",
              "      <td>1.0</td>\n",
              "      <td>1</td>\n",
              "      <td>1.0</td>\n",
              "      <td>1</td>\n",
              "      <td>1</td>\n",
              "      <td>1</td>\n",
              "      <td>1</td>\n",
              "      <td>0.6249</td>\n",
              "    </tr>\n",
              "    <tr>\n",
              "      <th>7143</th>\n",
              "      <td>12</td>\n",
              "      <td>Moderate</td>\n",
              "      <td>hopefully donald trump will be out of the whit...</td>\n",
              "      <td>1</td>\n",
              "      <td>0</td>\n",
              "      <td>1.0</td>\n",
              "      <td>5</td>\n",
              "      <td>1.0</td>\n",
              "      <td>1</td>\n",
              "      <td>1</td>\n",
              "      <td>0</td>\n",
              "      <td>0</td>\n",
              "      <td>0.4019</td>\n",
              "    </tr>\n",
              "    <tr>\n",
              "      <th>7144</th>\n",
              "      <td>12</td>\n",
              "      <td>Very liberal</td>\n",
              "      <td>new president</td>\n",
              "      <td>1</td>\n",
              "      <td>0</td>\n",
              "      <td>NaN</td>\n",
              "      <td>2</td>\n",
              "      <td>NaN</td>\n",
              "      <td>1</td>\n",
              "      <td>1</td>\n",
              "      <td>0</td>\n",
              "      <td>0</td>\n",
              "      <td>0.0000</td>\n",
              "    </tr>\n",
              "    <tr>\n",
              "      <th>7145</th>\n",
              "      <td>12</td>\n",
              "      <td>Moderate</td>\n",
              "      <td>hopefully donald trump losing the election</td>\n",
              "      <td>1</td>\n",
              "      <td>0</td>\n",
              "      <td>NaN</td>\n",
              "      <td>5</td>\n",
              "      <td>1.0</td>\n",
              "      <td>1</td>\n",
              "      <td>1</td>\n",
              "      <td>0</td>\n",
              "      <td>0</td>\n",
              "      <td>0.0258</td>\n",
              "    </tr>\n",
              "  </tbody>\n",
              "</table>\n",
              "<p>7146 rows × 13 columns</p>\n",
              "</div>"
            ],
            "text/plain": [
              "      wavenum              ideo5  \\\n",
              "0           3           Moderate   \n",
              "1           3  Very conservative   \n",
              "2           3       Conservative   \n",
              "3           3       Conservative   \n",
              "4           3       Conservative   \n",
              "...       ...                ...   \n",
              "7141       12  Very conservative   \n",
              "7142       12       Conservative   \n",
              "7143       12           Moderate   \n",
              "7144       12       Very liberal   \n",
              "7145       12           Moderate   \n",
              "\n",
              "                                                   text  qpos  \\\n",
              "0     the recent election of donald trump the freedo...     1   \n",
              "1                                      donald trump won     1   \n",
              "2                that donald trump beat hillary clinton     1   \n",
              "3                    donald trump was elected president     1   \n",
              "4     the american people saw through the obfuscatio...     1   \n",
              "...                                                 ...   ...   \n",
              "7141                                       donald trump     1   \n",
              "7142  that donald trump will prevail and continue to...     1   \n",
              "7143  hopefully donald trump will be out of the whit...     1   \n",
              "7144                                      new president     1   \n",
              "7145         hopefully donald trump losing the election     1   \n",
              "\n",
              "      trump_stance_auto  lexicoder_sentiment  fold  vader_sentiment  \\\n",
              "0                     1                  1.0     3              1.0   \n",
              "1                     1                  1.0     1              1.0   \n",
              "2                     1                  NaN     5              NaN   \n",
              "3                     1                  NaN     5              NaN   \n",
              "4                     1                  1.0     3              1.0   \n",
              "...                 ...                  ...   ...              ...   \n",
              "7141                  1                  NaN     5              NaN   \n",
              "7142                  1                  1.0     1              1.0   \n",
              "7143                  0                  1.0     5              1.0   \n",
              "7144                  0                  NaN     2              NaN   \n",
              "7145                  0                  NaN     5              1.0   \n",
              "\n",
              "      SVM_sentiment  BERT_sentiment  SVM_stance  BERT_stance  vader_scores  \n",
              "0                 1               1           1            0        0.6369  \n",
              "1                 1               1           1            1        0.5719  \n",
              "2                 1               1           1            1        0.0000  \n",
              "3                 1               1           1            1        0.0000  \n",
              "4                 0               1           1            1        0.4019  \n",
              "...             ...             ...         ...          ...           ...  \n",
              "7141              0               0           0            0        0.0000  \n",
              "7142              1               1           1            1        0.6249  \n",
              "7143              1               1           0            0        0.4019  \n",
              "7144              1               1           0            0        0.0000  \n",
              "7145              1               1           0            0        0.0258  \n",
              "\n",
              "[7146 rows x 13 columns]"
            ]
          },
          "execution_count": 32,
          "metadata": {},
          "output_type": "execute_result"
        }
      ],
      "source": [
        "trump_tweets"
      ]
    },
    {
      "cell_type": "code",
      "execution_count": 36,
      "metadata": {},
      "outputs": [],
      "source": [
        "document_embed = encode_embeds(trump_tweets, 'ideo5', model) ## break into smaller batches to encode, doesn't impact results"
      ]
    },
    {
      "cell_type": "code",
      "execution_count": 37,
      "metadata": {},
      "outputs": [
        {
          "name": "stdout",
          "output_type": "stream",
          "text": [
            "UMAP(n_epochs=500, n_neighbors=250, random_state=1234, target_weight=0.8, verbose=True)\n",
            "Mon Jun 19 20:47:12 2023 Construct fuzzy simplicial set\n",
            "Mon Jun 19 20:47:12 2023 Finding Nearest Neighbors\n",
            "Mon Jun 19 20:47:12 2023 Building RP forest with 9 trees\n",
            "Mon Jun 19 20:47:12 2023 NN descent for 13 iterations\n",
            "\t 1  /  13\n",
            "\t 2  /  13\n",
            "\t 3  /  13\n",
            "\tStopping threshold met -- exiting after 3 iterations\n",
            "Mon Jun 19 20:47:29 2023 Finished Nearest Neighbor Search\n",
            "Mon Jun 19 20:47:32 2023 Construct embedding\n"
          ]
        },
        {
          "data": {
            "application/vnd.jupyter.widget-view+json": {
              "model_id": "43eb4ffb1b1e4c60bf6954e7af44997c",
              "version_major": 2,
              "version_minor": 0
            },
            "text/plain": [
              "Epochs completed:   0%|            0/500 [00:00]"
            ]
          },
          "metadata": {},
          "output_type": "display_data"
        },
        {
          "name": "stdout",
          "output_type": "stream",
          "text": [
            "Mon Jun 19 20:48:07 2023 Finished embedding\n"
          ]
        }
      ],
      "source": [
        "trump_scaled = scale_topic( document_embed=document_embed, guide_labels = guide_labels, n_components=2, random_state=seed_val)"
      ]
    },
    {
      "cell_type": "code",
      "execution_count": 38,
      "metadata": {},
      "outputs": [],
      "source": [
        "emb_mean_dict = {}\n",
        "for name, group in trump_tweets.groupby('ideo5'):\n",
        "    idx = group.index\n",
        "    embed = trump_scaled[idx]\n",
        "    embed_mean = np.mean(embed, axis=0)\n",
        "    emb_mean_dict.update({name: embed_mean})\n"
      ]
    },
    {
      "cell_type": "code",
      "execution_count": 39,
      "metadata": {},
      "outputs": [],
      "source": [
        "trump_embeds = np.stack(list(emb_mean_dict.values()))"
      ]
    },
    {
      "cell_type": "code",
      "execution_count": 40,
      "metadata": {},
      "outputs": [
        {
          "data": {
            "text/html": [
              "<div>\n",
              "<style scoped>\n",
              "    .dataframe tbody tr th:only-of-type {\n",
              "        vertical-align: middle;\n",
              "    }\n",
              "\n",
              "    .dataframe tbody tr th {\n",
              "        vertical-align: top;\n",
              "    }\n",
              "\n",
              "    .dataframe thead th {\n",
              "        text-align: right;\n",
              "    }\n",
              "</style>\n",
              "<table border=\"1\" class=\"dataframe\">\n",
              "  <thead>\n",
              "    <tr style=\"text-align: right;\">\n",
              "      <th></th>\n",
              "      <th></th>\n",
              "      <th>wavenum</th>\n",
              "      <th>text</th>\n",
              "      <th>qpos</th>\n",
              "      <th>lexicoder_sentiment</th>\n",
              "      <th>fold</th>\n",
              "      <th>vader_sentiment</th>\n",
              "      <th>SVM_sentiment</th>\n",
              "      <th>BERT_sentiment</th>\n",
              "      <th>SVM_stance</th>\n",
              "      <th>BERT_stance</th>\n",
              "      <th>vader_scores</th>\n",
              "    </tr>\n",
              "    <tr>\n",
              "      <th>ideo5</th>\n",
              "      <th>trump_stance_auto</th>\n",
              "      <th></th>\n",
              "      <th></th>\n",
              "      <th></th>\n",
              "      <th></th>\n",
              "      <th></th>\n",
              "      <th></th>\n",
              "      <th></th>\n",
              "      <th></th>\n",
              "      <th></th>\n",
              "      <th></th>\n",
              "      <th></th>\n",
              "    </tr>\n",
              "  </thead>\n",
              "  <tbody>\n",
              "    <tr>\n",
              "      <th rowspan=\"2\" valign=\"top\">Conservative</th>\n",
              "      <th>0</th>\n",
              "      <td>177</td>\n",
              "      <td>177</td>\n",
              "      <td>177</td>\n",
              "      <td>69</td>\n",
              "      <td>177</td>\n",
              "      <td>76</td>\n",
              "      <td>177</td>\n",
              "      <td>177</td>\n",
              "      <td>177</td>\n",
              "      <td>177</td>\n",
              "      <td>177</td>\n",
              "    </tr>\n",
              "    <tr>\n",
              "      <th>1</th>\n",
              "      <td>1204</td>\n",
              "      <td>1204</td>\n",
              "      <td>1204</td>\n",
              "      <td>616</td>\n",
              "      <td>1204</td>\n",
              "      <td>668</td>\n",
              "      <td>1204</td>\n",
              "      <td>1204</td>\n",
              "      <td>1204</td>\n",
              "      <td>1204</td>\n",
              "      <td>1204</td>\n",
              "    </tr>\n",
              "    <tr>\n",
              "      <th rowspan=\"2\" valign=\"top\">Liberal</th>\n",
              "      <th>0</th>\n",
              "      <td>1481</td>\n",
              "      <td>1481</td>\n",
              "      <td>1481</td>\n",
              "      <td>692</td>\n",
              "      <td>1481</td>\n",
              "      <td>733</td>\n",
              "      <td>1481</td>\n",
              "      <td>1481</td>\n",
              "      <td>1481</td>\n",
              "      <td>1481</td>\n",
              "      <td>1481</td>\n",
              "    </tr>\n",
              "    <tr>\n",
              "      <th>1</th>\n",
              "      <td>54</td>\n",
              "      <td>54</td>\n",
              "      <td>54</td>\n",
              "      <td>24</td>\n",
              "      <td>54</td>\n",
              "      <td>29</td>\n",
              "      <td>54</td>\n",
              "      <td>54</td>\n",
              "      <td>54</td>\n",
              "      <td>54</td>\n",
              "      <td>54</td>\n",
              "    </tr>\n",
              "    <tr>\n",
              "      <th rowspan=\"2\" valign=\"top\">Moderate</th>\n",
              "      <th>0</th>\n",
              "      <td>1339</td>\n",
              "      <td>1339</td>\n",
              "      <td>1339</td>\n",
              "      <td>564</td>\n",
              "      <td>1339</td>\n",
              "      <td>605</td>\n",
              "      <td>1339</td>\n",
              "      <td>1339</td>\n",
              "      <td>1339</td>\n",
              "      <td>1339</td>\n",
              "      <td>1339</td>\n",
              "    </tr>\n",
              "    <tr>\n",
              "      <th>1</th>\n",
              "      <td>514</td>\n",
              "      <td>514</td>\n",
              "      <td>514</td>\n",
              "      <td>269</td>\n",
              "      <td>514</td>\n",
              "      <td>300</td>\n",
              "      <td>514</td>\n",
              "      <td>514</td>\n",
              "      <td>514</td>\n",
              "      <td>514</td>\n",
              "      <td>514</td>\n",
              "    </tr>\n",
              "    <tr>\n",
              "      <th rowspan=\"2\" valign=\"top\">Not sure</th>\n",
              "      <th>0</th>\n",
              "      <td>142</td>\n",
              "      <td>142</td>\n",
              "      <td>142</td>\n",
              "      <td>45</td>\n",
              "      <td>142</td>\n",
              "      <td>49</td>\n",
              "      <td>142</td>\n",
              "      <td>142</td>\n",
              "      <td>142</td>\n",
              "      <td>142</td>\n",
              "      <td>142</td>\n",
              "    </tr>\n",
              "    <tr>\n",
              "      <th>1</th>\n",
              "      <td>62</td>\n",
              "      <td>62</td>\n",
              "      <td>62</td>\n",
              "      <td>22</td>\n",
              "      <td>62</td>\n",
              "      <td>31</td>\n",
              "      <td>62</td>\n",
              "      <td>62</td>\n",
              "      <td>62</td>\n",
              "      <td>62</td>\n",
              "      <td>62</td>\n",
              "    </tr>\n",
              "    <tr>\n",
              "      <th rowspan=\"2\" valign=\"top\">Very conservative</th>\n",
              "      <th>0</th>\n",
              "      <td>65</td>\n",
              "      <td>65</td>\n",
              "      <td>65</td>\n",
              "      <td>30</td>\n",
              "      <td>65</td>\n",
              "      <td>32</td>\n",
              "      <td>65</td>\n",
              "      <td>65</td>\n",
              "      <td>65</td>\n",
              "      <td>65</td>\n",
              "      <td>65</td>\n",
              "    </tr>\n",
              "    <tr>\n",
              "      <th>1</th>\n",
              "      <td>973</td>\n",
              "      <td>973</td>\n",
              "      <td>973</td>\n",
              "      <td>498</td>\n",
              "      <td>973</td>\n",
              "      <td>536</td>\n",
              "      <td>973</td>\n",
              "      <td>973</td>\n",
              "      <td>973</td>\n",
              "      <td>973</td>\n",
              "      <td>973</td>\n",
              "    </tr>\n",
              "    <tr>\n",
              "      <th rowspan=\"2\" valign=\"top\">Very liberal</th>\n",
              "      <th>0</th>\n",
              "      <td>1108</td>\n",
              "      <td>1108</td>\n",
              "      <td>1108</td>\n",
              "      <td>485</td>\n",
              "      <td>1108</td>\n",
              "      <td>517</td>\n",
              "      <td>1108</td>\n",
              "      <td>1108</td>\n",
              "      <td>1108</td>\n",
              "      <td>1108</td>\n",
              "      <td>1108</td>\n",
              "    </tr>\n",
              "    <tr>\n",
              "      <th>1</th>\n",
              "      <td>27</td>\n",
              "      <td>27</td>\n",
              "      <td>27</td>\n",
              "      <td>5</td>\n",
              "      <td>27</td>\n",
              "      <td>9</td>\n",
              "      <td>27</td>\n",
              "      <td>27</td>\n",
              "      <td>27</td>\n",
              "      <td>27</td>\n",
              "      <td>27</td>\n",
              "    </tr>\n",
              "  </tbody>\n",
              "</table>\n",
              "</div>"
            ],
            "text/plain": [
              "                                     wavenum  text  qpos  lexicoder_sentiment  \\\n",
              "ideo5             trump_stance_auto                                             \n",
              "Conservative      0                      177   177   177                   69   \n",
              "                  1                     1204  1204  1204                  616   \n",
              "Liberal           0                     1481  1481  1481                  692   \n",
              "                  1                       54    54    54                   24   \n",
              "Moderate          0                     1339  1339  1339                  564   \n",
              "                  1                      514   514   514                  269   \n",
              "Not sure          0                      142   142   142                   45   \n",
              "                  1                       62    62    62                   22   \n",
              "Very conservative 0                       65    65    65                   30   \n",
              "                  1                      973   973   973                  498   \n",
              "Very liberal      0                     1108  1108  1108                  485   \n",
              "                  1                       27    27    27                    5   \n",
              "\n",
              "                                     fold  vader_sentiment  SVM_sentiment  \\\n",
              "ideo5             trump_stance_auto                                         \n",
              "Conservative      0                   177               76            177   \n",
              "                  1                  1204              668           1204   \n",
              "Liberal           0                  1481              733           1481   \n",
              "                  1                    54               29             54   \n",
              "Moderate          0                  1339              605           1339   \n",
              "                  1                   514              300            514   \n",
              "Not sure          0                   142               49            142   \n",
              "                  1                    62               31             62   \n",
              "Very conservative 0                    65               32             65   \n",
              "                  1                   973              536            973   \n",
              "Very liberal      0                  1108              517           1108   \n",
              "                  1                    27                9             27   \n",
              "\n",
              "                                     BERT_sentiment  SVM_stance  BERT_stance  \\\n",
              "ideo5             trump_stance_auto                                            \n",
              "Conservative      0                             177         177          177   \n",
              "                  1                            1204        1204         1204   \n",
              "Liberal           0                            1481        1481         1481   \n",
              "                  1                              54          54           54   \n",
              "Moderate          0                            1339        1339         1339   \n",
              "                  1                             514         514          514   \n",
              "Not sure          0                             142         142          142   \n",
              "                  1                              62          62           62   \n",
              "Very conservative 0                              65          65           65   \n",
              "                  1                             973         973          973   \n",
              "Very liberal      0                            1108        1108         1108   \n",
              "                  1                              27          27           27   \n",
              "\n",
              "                                     vader_scores  \n",
              "ideo5             trump_stance_auto                \n",
              "Conservative      0                           177  \n",
              "                  1                          1204  \n",
              "Liberal           0                          1481  \n",
              "                  1                            54  \n",
              "Moderate          0                          1339  \n",
              "                  1                           514  \n",
              "Not sure          0                           142  \n",
              "                  1                            62  \n",
              "Very conservative 0                            65  \n",
              "                  1                           973  \n",
              "Very liberal      0                          1108  \n",
              "                  1                            27  "
            ]
          },
          "execution_count": 40,
          "metadata": {},
          "output_type": "execute_result"
        }
      ],
      "source": [
        "trump_tweets.groupby(['ideo5','trump_stance_auto']).count()"
      ]
    },
    {
      "cell_type": "code",
      "execution_count": 106,
      "metadata": {},
      "outputs": [
        {
          "data": {
            "text/plain": [
              "array([-6.524393 ,  1.5294262, -1.0441474, -1.2342825, -7.080954 ,\n",
              "        1.5412018], dtype=float32)"
            ]
          },
          "execution_count": 106,
          "metadata": {},
          "output_type": "execute_result"
        }
      ],
      "source": [
        "trump_embeds[:,1]"
      ]
    },
    {
      "cell_type": "code",
      "execution_count": 107,
      "metadata": {},
      "outputs": [],
      "source": [
        "np.savetxt('results/arrays/trump_scaled.csv', trump_scaled)\n",
        "np.savetxt('results/arrays/trump_embeds.csv', trump_embeds)"
      ]
    },
    {
      "attachments": {},
      "cell_type": "markdown",
      "metadata": {},
      "source": [
        "### 30% known labels, do prediction!"
      ]
    },
    {
      "cell_type": "code",
      "execution_count": 88,
      "metadata": {},
      "outputs": [
        {
          "name": "stderr",
          "output_type": "stream",
          "text": [
            "loading configuration file results/multilingual/joint_2cl/checkpoint-2778\\config.json\n",
            "You are using a model of type roberta to instantiate a model of type xlm-roberta. This is not supported for all configurations of models and can yield errors.\n",
            "Model config XLMRobertaConfig {\n",
            "  \"_name_or_path\": \"xlm-roberta-base\",\n",
            "  \"architectures\": [\n",
            "    \"RobertaForSequenceClassification\"\n",
            "  ],\n",
            "  \"attention_probs_dropout_prob\": 0.1,\n",
            "  \"bos_token_id\": 0,\n",
            "  \"classifier_dropout\": null,\n",
            "  \"eos_token_id\": 2,\n",
            "  \"hidden_act\": \"gelu\",\n",
            "  \"hidden_dropout_prob\": 0.1,\n",
            "  \"hidden_size\": 768,\n",
            "  \"initializer_range\": 0.02,\n",
            "  \"intermediate_size\": 3072,\n",
            "  \"layer_norm_eps\": 1e-05,\n",
            "  \"max_position_embeddings\": 514,\n",
            "  \"model_type\": \"xlm-roberta\",\n",
            "  \"num_attention_heads\": 12,\n",
            "  \"num_hidden_layers\": 12,\n",
            "  \"output_past\": true,\n",
            "  \"pad_token_id\": 1,\n",
            "  \"position_embedding_type\": \"absolute\",\n",
            "  \"problem_type\": \"single_label_classification\",\n",
            "  \"torch_dtype\": \"float32\",\n",
            "  \"transformers_version\": \"4.25.1\",\n",
            "  \"type_vocab_size\": 1,\n",
            "  \"use_cache\": true,\n",
            "  \"vocab_size\": 250002\n",
            "}\n",
            "\n",
            "loading weights file results/multilingual/joint_2cl/checkpoint-2778\\pytorch_model.bin\n",
            "All model checkpoint weights were used when initializing XLMRobertaForSequenceClassification.\n",
            "\n",
            "All the weights of XLMRobertaForSequenceClassification were initialized from the model checkpoint at results/multilingual/joint_2cl/checkpoint-2778.\n",
            "If your task is similar to the task the model of the checkpoint was trained on, you can already use XLMRobertaForSequenceClassification for predictions without further training.\n"
          ]
        }
      ],
      "source": [
        "model_name = 'results/multilingual/joint_2cl/checkpoint-2778'\n",
        "model = XLMRobertaForSequenceClassification.from_pretrained(model_name).to(device)"
      ]
    },
    {
      "cell_type": "code",
      "execution_count": 91,
      "metadata": {},
      "outputs": [],
      "source": [
        "texts = trump_tweets['text'].tolist()"
      ]
    },
    {
      "cell_type": "code",
      "execution_count": 94,
      "metadata": {},
      "outputs": [
        {
          "name": "stdout",
          "output_type": "stream",
          "text": [
            "0\n",
            "1000\n",
            "2000\n",
            "3000\n",
            "4000\n",
            "5000\n",
            "6000\n",
            "7000\n"
          ]
        }
      ],
      "source": [
        "predicted_labels = get_prediction(model, texts, tokenizer, device)"
      ]
    },
    {
      "cell_type": "code",
      "execution_count": 95,
      "metadata": {},
      "outputs": [],
      "source": [
        "guide_labels = np.array([i.cpu().detach().numpy() for i in predicted_labels])"
      ]
    },
    {
      "cell_type": "code",
      "execution_count": 96,
      "metadata": {},
      "outputs": [
        {
          "data": {
            "text/plain": [
              "(7146, 1)"
            ]
          },
          "execution_count": 96,
          "metadata": {},
          "output_type": "execute_result"
        }
      ],
      "source": [
        "guide_labels.shape"
      ]
    },
    {
      "cell_type": "code",
      "execution_count": 97,
      "metadata": {},
      "outputs": [
        {
          "name": "stderr",
          "output_type": "stream",
          "text": [
            "loading configuration file results/multilingual/joint_2cl/checkpoint-2778\\config.json\n",
            "Model config RobertaConfig {\n",
            "  \"_name_or_path\": \"results/multilingual/joint_2cl/checkpoint-2778\",\n",
            "  \"architectures\": [\n",
            "    \"RobertaForSequenceClassification\"\n",
            "  ],\n",
            "  \"attention_probs_dropout_prob\": 0.1,\n",
            "  \"bos_token_id\": 0,\n",
            "  \"classifier_dropout\": null,\n",
            "  \"eos_token_id\": 2,\n",
            "  \"hidden_act\": \"gelu\",\n",
            "  \"hidden_dropout_prob\": 0.1,\n",
            "  \"hidden_size\": 768,\n",
            "  \"initializer_range\": 0.02,\n",
            "  \"intermediate_size\": 3072,\n",
            "  \"layer_norm_eps\": 1e-05,\n",
            "  \"max_position_embeddings\": 514,\n",
            "  \"model_type\": \"roberta\",\n",
            "  \"num_attention_heads\": 12,\n",
            "  \"num_hidden_layers\": 12,\n",
            "  \"output_past\": true,\n",
            "  \"pad_token_id\": 1,\n",
            "  \"position_embedding_type\": \"absolute\",\n",
            "  \"problem_type\": \"single_label_classification\",\n",
            "  \"torch_dtype\": \"float32\",\n",
            "  \"transformers_version\": \"4.25.1\",\n",
            "  \"type_vocab_size\": 1,\n",
            "  \"use_cache\": true,\n",
            "  \"vocab_size\": 250002\n",
            "}\n",
            "\n",
            "loading weights file results/multilingual/joint_2cl/checkpoint-2778\\pytorch_model.bin\n",
            "Some weights of the model checkpoint at results/multilingual/joint_2cl/checkpoint-2778 were not used when initializing RobertaModel: ['classifier.out_proj.weight', 'classifier.dense.weight', 'classifier.dense.bias', 'classifier.out_proj.bias']\n",
            "- This IS expected if you are initializing RobertaModel from the checkpoint of a model trained on another task or with another architecture (e.g. initializing a BertForSequenceClassification model from a BertForPreTraining model).\n",
            "- This IS NOT expected if you are initializing RobertaModel from the checkpoint of a model that you expect to be exactly identical (initializing a BertForSequenceClassification model from a BertForSequenceClassification model).\n",
            "Some weights of RobertaModel were not initialized from the model checkpoint at results/multilingual/joint_2cl/checkpoint-2778 and are newly initialized: ['roberta.pooler.dense.bias', 'roberta.pooler.dense.weight']\n",
            "You should probably TRAIN this model on a down-stream task to be able to use it for predictions and inference.\n",
            "loading file sentencepiece.bpe.model\n",
            "loading file tokenizer.json\n",
            "loading file added_tokens.json\n",
            "loading file special_tokens_map.json\n",
            "loading file tokenizer_config.json\n"
          ]
        }
      ],
      "source": [
        "word_embedding_model = models.Transformer(model_name)\n",
        "pooling_model = models.Pooling(word_embedding_model.get_word_embedding_dimension(), 'cls')\n",
        "model = SentenceTransformer(modules=[word_embedding_model, pooling_model]).to(device)"
      ]
    },
    {
      "cell_type": "code",
      "execution_count": 98,
      "metadata": {},
      "outputs": [],
      "source": [
        "document_embed = encode_embeds(trump_tweets, 'ideo5', model) ## break into smaller batches to encode, doesn't impact results"
      ]
    },
    {
      "cell_type": "code",
      "execution_count": 99,
      "metadata": {},
      "outputs": [
        {
          "name": "stdout",
          "output_type": "stream",
          "text": [
            "UMAP(n_epochs=500, n_neighbors=250, random_state=1234, target_weight=0.8, verbose=True)\n",
            "Mon Jun 19 21:13:09 2023 Construct fuzzy simplicial set\n",
            "Mon Jun 19 21:13:09 2023 Finding Nearest Neighbors\n",
            "Mon Jun 19 21:13:09 2023 Building RP forest with 9 trees\n",
            "Mon Jun 19 21:13:09 2023 NN descent for 13 iterations\n",
            "\t 1  /  13\n",
            "\t 2  /  13\n",
            "\t 3  /  13\n",
            "\tStopping threshold met -- exiting after 3 iterations\n",
            "Mon Jun 19 21:13:14 2023 Finished Nearest Neighbor Search\n",
            "Mon Jun 19 21:13:15 2023 Construct embedding\n"
          ]
        },
        {
          "data": {
            "application/vnd.jupyter.widget-view+json": {
              "model_id": "1a57dd9cd4774a109871862e021f2712",
              "version_major": 2,
              "version_minor": 0
            },
            "text/plain": [
              "Epochs completed:   0%|            0/500 [00:00]"
            ]
          },
          "metadata": {},
          "output_type": "display_data"
        },
        {
          "name": "stdout",
          "output_type": "stream",
          "text": [
            "Mon Jun 19 21:13:53 2023 Finished embedding\n"
          ]
        }
      ],
      "source": [
        "trump_scaled_30 = scale_topic( document_embed=document_embed, guide_labels = guide_labels, n_components=2, random_state=seed_val)"
      ]
    },
    {
      "cell_type": "code",
      "execution_count": 101,
      "metadata": {},
      "outputs": [],
      "source": [
        "emb_mean_dict = {}\n",
        "for name, group in trump_tweets.groupby('ideo5'):\n",
        "    idx = group.index\n",
        "    embed = trump_scaled_30[idx]\n",
        "    embed_mean = np.mean(embed, axis=0)\n",
        "    emb_mean_dict.update({name: embed_mean})\n"
      ]
    },
    {
      "cell_type": "code",
      "execution_count": 102,
      "metadata": {},
      "outputs": [],
      "source": [
        "trump_embeds_30 = np.stack(list(emb_mean_dict.values()))"
      ]
    },
    {
      "cell_type": "code",
      "execution_count": 103,
      "metadata": {},
      "outputs": [
        {
          "data": {
            "text/html": [
              "<div>\n",
              "<style scoped>\n",
              "    .dataframe tbody tr th:only-of-type {\n",
              "        vertical-align: middle;\n",
              "    }\n",
              "\n",
              "    .dataframe tbody tr th {\n",
              "        vertical-align: top;\n",
              "    }\n",
              "\n",
              "    .dataframe thead th {\n",
              "        text-align: right;\n",
              "    }\n",
              "</style>\n",
              "<table border=\"1\" class=\"dataframe\">\n",
              "  <thead>\n",
              "    <tr style=\"text-align: right;\">\n",
              "      <th></th>\n",
              "      <th></th>\n",
              "      <th>wavenum</th>\n",
              "      <th>text</th>\n",
              "      <th>qpos</th>\n",
              "      <th>lexicoder_sentiment</th>\n",
              "      <th>fold</th>\n",
              "      <th>vader_sentiment</th>\n",
              "      <th>SVM_sentiment</th>\n",
              "      <th>BERT_sentiment</th>\n",
              "      <th>SVM_stance</th>\n",
              "      <th>BERT_stance</th>\n",
              "      <th>vader_scores</th>\n",
              "    </tr>\n",
              "    <tr>\n",
              "      <th>ideo5</th>\n",
              "      <th>trump_stance_auto</th>\n",
              "      <th></th>\n",
              "      <th></th>\n",
              "      <th></th>\n",
              "      <th></th>\n",
              "      <th></th>\n",
              "      <th></th>\n",
              "      <th></th>\n",
              "      <th></th>\n",
              "      <th></th>\n",
              "      <th></th>\n",
              "      <th></th>\n",
              "    </tr>\n",
              "  </thead>\n",
              "  <tbody>\n",
              "    <tr>\n",
              "      <th rowspan=\"2\" valign=\"top\">Conservative</th>\n",
              "      <th>0</th>\n",
              "      <td>177</td>\n",
              "      <td>177</td>\n",
              "      <td>177</td>\n",
              "      <td>69</td>\n",
              "      <td>177</td>\n",
              "      <td>76</td>\n",
              "      <td>177</td>\n",
              "      <td>177</td>\n",
              "      <td>177</td>\n",
              "      <td>177</td>\n",
              "      <td>177</td>\n",
              "    </tr>\n",
              "    <tr>\n",
              "      <th>1</th>\n",
              "      <td>1204</td>\n",
              "      <td>1204</td>\n",
              "      <td>1204</td>\n",
              "      <td>616</td>\n",
              "      <td>1204</td>\n",
              "      <td>668</td>\n",
              "      <td>1204</td>\n",
              "      <td>1204</td>\n",
              "      <td>1204</td>\n",
              "      <td>1204</td>\n",
              "      <td>1204</td>\n",
              "    </tr>\n",
              "    <tr>\n",
              "      <th rowspan=\"2\" valign=\"top\">Liberal</th>\n",
              "      <th>0</th>\n",
              "      <td>1481</td>\n",
              "      <td>1481</td>\n",
              "      <td>1481</td>\n",
              "      <td>692</td>\n",
              "      <td>1481</td>\n",
              "      <td>733</td>\n",
              "      <td>1481</td>\n",
              "      <td>1481</td>\n",
              "      <td>1481</td>\n",
              "      <td>1481</td>\n",
              "      <td>1481</td>\n",
              "    </tr>\n",
              "    <tr>\n",
              "      <th>1</th>\n",
              "      <td>54</td>\n",
              "      <td>54</td>\n",
              "      <td>54</td>\n",
              "      <td>24</td>\n",
              "      <td>54</td>\n",
              "      <td>29</td>\n",
              "      <td>54</td>\n",
              "      <td>54</td>\n",
              "      <td>54</td>\n",
              "      <td>54</td>\n",
              "      <td>54</td>\n",
              "    </tr>\n",
              "    <tr>\n",
              "      <th rowspan=\"2\" valign=\"top\">Moderate</th>\n",
              "      <th>0</th>\n",
              "      <td>1339</td>\n",
              "      <td>1339</td>\n",
              "      <td>1339</td>\n",
              "      <td>564</td>\n",
              "      <td>1339</td>\n",
              "      <td>605</td>\n",
              "      <td>1339</td>\n",
              "      <td>1339</td>\n",
              "      <td>1339</td>\n",
              "      <td>1339</td>\n",
              "      <td>1339</td>\n",
              "    </tr>\n",
              "    <tr>\n",
              "      <th>1</th>\n",
              "      <td>514</td>\n",
              "      <td>514</td>\n",
              "      <td>514</td>\n",
              "      <td>269</td>\n",
              "      <td>514</td>\n",
              "      <td>300</td>\n",
              "      <td>514</td>\n",
              "      <td>514</td>\n",
              "      <td>514</td>\n",
              "      <td>514</td>\n",
              "      <td>514</td>\n",
              "    </tr>\n",
              "    <tr>\n",
              "      <th rowspan=\"2\" valign=\"top\">Not sure</th>\n",
              "      <th>0</th>\n",
              "      <td>142</td>\n",
              "      <td>142</td>\n",
              "      <td>142</td>\n",
              "      <td>45</td>\n",
              "      <td>142</td>\n",
              "      <td>49</td>\n",
              "      <td>142</td>\n",
              "      <td>142</td>\n",
              "      <td>142</td>\n",
              "      <td>142</td>\n",
              "      <td>142</td>\n",
              "    </tr>\n",
              "    <tr>\n",
              "      <th>1</th>\n",
              "      <td>62</td>\n",
              "      <td>62</td>\n",
              "      <td>62</td>\n",
              "      <td>22</td>\n",
              "      <td>62</td>\n",
              "      <td>31</td>\n",
              "      <td>62</td>\n",
              "      <td>62</td>\n",
              "      <td>62</td>\n",
              "      <td>62</td>\n",
              "      <td>62</td>\n",
              "    </tr>\n",
              "    <tr>\n",
              "      <th rowspan=\"2\" valign=\"top\">Very conservative</th>\n",
              "      <th>0</th>\n",
              "      <td>65</td>\n",
              "      <td>65</td>\n",
              "      <td>65</td>\n",
              "      <td>30</td>\n",
              "      <td>65</td>\n",
              "      <td>32</td>\n",
              "      <td>65</td>\n",
              "      <td>65</td>\n",
              "      <td>65</td>\n",
              "      <td>65</td>\n",
              "      <td>65</td>\n",
              "    </tr>\n",
              "    <tr>\n",
              "      <th>1</th>\n",
              "      <td>973</td>\n",
              "      <td>973</td>\n",
              "      <td>973</td>\n",
              "      <td>498</td>\n",
              "      <td>973</td>\n",
              "      <td>536</td>\n",
              "      <td>973</td>\n",
              "      <td>973</td>\n",
              "      <td>973</td>\n",
              "      <td>973</td>\n",
              "      <td>973</td>\n",
              "    </tr>\n",
              "    <tr>\n",
              "      <th rowspan=\"2\" valign=\"top\">Very liberal</th>\n",
              "      <th>0</th>\n",
              "      <td>1108</td>\n",
              "      <td>1108</td>\n",
              "      <td>1108</td>\n",
              "      <td>485</td>\n",
              "      <td>1108</td>\n",
              "      <td>517</td>\n",
              "      <td>1108</td>\n",
              "      <td>1108</td>\n",
              "      <td>1108</td>\n",
              "      <td>1108</td>\n",
              "      <td>1108</td>\n",
              "    </tr>\n",
              "    <tr>\n",
              "      <th>1</th>\n",
              "      <td>27</td>\n",
              "      <td>27</td>\n",
              "      <td>27</td>\n",
              "      <td>5</td>\n",
              "      <td>27</td>\n",
              "      <td>9</td>\n",
              "      <td>27</td>\n",
              "      <td>27</td>\n",
              "      <td>27</td>\n",
              "      <td>27</td>\n",
              "      <td>27</td>\n",
              "    </tr>\n",
              "  </tbody>\n",
              "</table>\n",
              "</div>"
            ],
            "text/plain": [
              "                                     wavenum  text  qpos  lexicoder_sentiment  \\\n",
              "ideo5             trump_stance_auto                                             \n",
              "Conservative      0                      177   177   177                   69   \n",
              "                  1                     1204  1204  1204                  616   \n",
              "Liberal           0                     1481  1481  1481                  692   \n",
              "                  1                       54    54    54                   24   \n",
              "Moderate          0                     1339  1339  1339                  564   \n",
              "                  1                      514   514   514                  269   \n",
              "Not sure          0                      142   142   142                   45   \n",
              "                  1                       62    62    62                   22   \n",
              "Very conservative 0                       65    65    65                   30   \n",
              "                  1                      973   973   973                  498   \n",
              "Very liberal      0                     1108  1108  1108                  485   \n",
              "                  1                       27    27    27                    5   \n",
              "\n",
              "                                     fold  vader_sentiment  SVM_sentiment  \\\n",
              "ideo5             trump_stance_auto                                         \n",
              "Conservative      0                   177               76            177   \n",
              "                  1                  1204              668           1204   \n",
              "Liberal           0                  1481              733           1481   \n",
              "                  1                    54               29             54   \n",
              "Moderate          0                  1339              605           1339   \n",
              "                  1                   514              300            514   \n",
              "Not sure          0                   142               49            142   \n",
              "                  1                    62               31             62   \n",
              "Very conservative 0                    65               32             65   \n",
              "                  1                   973              536            973   \n",
              "Very liberal      0                  1108              517           1108   \n",
              "                  1                    27                9             27   \n",
              "\n",
              "                                     BERT_sentiment  SVM_stance  BERT_stance  \\\n",
              "ideo5             trump_stance_auto                                            \n",
              "Conservative      0                             177         177          177   \n",
              "                  1                            1204        1204         1204   \n",
              "Liberal           0                            1481        1481         1481   \n",
              "                  1                              54          54           54   \n",
              "Moderate          0                            1339        1339         1339   \n",
              "                  1                             514         514          514   \n",
              "Not sure          0                             142         142          142   \n",
              "                  1                              62          62           62   \n",
              "Very conservative 0                              65          65           65   \n",
              "                  1                             973         973          973   \n",
              "Very liberal      0                            1108        1108         1108   \n",
              "                  1                              27          27           27   \n",
              "\n",
              "                                     vader_scores  \n",
              "ideo5             trump_stance_auto                \n",
              "Conservative      0                           177  \n",
              "                  1                          1204  \n",
              "Liberal           0                          1481  \n",
              "                  1                            54  \n",
              "Moderate          0                          1339  \n",
              "                  1                           514  \n",
              "Not sure          0                           142  \n",
              "                  1                            62  \n",
              "Very conservative 0                            65  \n",
              "                  1                           973  \n",
              "Very liberal      0                          1108  \n",
              "                  1                            27  "
            ]
          },
          "execution_count": 103,
          "metadata": {},
          "output_type": "execute_result"
        }
      ],
      "source": [
        "trump_tweets.groupby(['ideo5','trump_stance_auto']).count()"
      ]
    },
    {
      "cell_type": "code",
      "execution_count": 108,
      "metadata": {},
      "outputs": [
        {
          "data": {
            "text/plain": [
              "array([3.6321077, 6.2551665, 4.7834826, 5.831114 , 2.9439592, 5.153547 ],\n",
              "      dtype=float32)"
            ]
          },
          "execution_count": 108,
          "metadata": {},
          "output_type": "execute_result"
        }
      ],
      "source": [
        "trump_embeds_30[:,1]"
      ]
    },
    {
      "cell_type": "code",
      "execution_count": 105,
      "metadata": {},
      "outputs": [],
      "source": [
        "np.savetxt('results/arrays/trump_scaled_30.csv', trump_scaled_30)\n",
        "np.savetxt('results/arrays/trump_embeds_30.csv', trump_embeds_30)"
      ]
    }
  ],
  "metadata": {
    "accelerator": "GPU",
    "colab": {
      "collapsed_sections": [],
      "machine_shape": "hm",
      "provenance": [],
      "toc_visible": true
    },
    "kernelspec": {
      "display_name": "transformer_scaler",
      "language": "python",
      "name": "python3"
    },
    "language_info": {
      "codemirror_mode": {
        "name": "ipython",
        "version": 3
      },
      "file_extension": ".py",
      "mimetype": "text/x-python",
      "name": "python",
      "nbconvert_exporter": "python",
      "pygments_lexer": "ipython3",
      "version": "3.9.15"
    },
    "vscode": {
      "interpreter": {
        "hash": "c74026b94628c66cd663c77f24c406f477045c3cca5cde67105d11e47ed54e5a"
      }
    }
  },
  "nbformat": 4,
  "nbformat_minor": 0
}
