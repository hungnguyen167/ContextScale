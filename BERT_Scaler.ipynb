{
  "cells": [
    {
      "cell_type": "markdown",
      "metadata": {
        "id": "nhx963taNlDB"
      },
      "source": [
        "# Data preparation"
      ]
    },
    {
      "cell_type": "markdown",
      "metadata": {
        "id": "4k3dCezyXmXQ"
      },
      "source": [
        "## Setup"
      ]
    },
    {
      "cell_type": "code",
      "execution_count": 178,
      "metadata": {
        "colab": {
          "base_uri": "https://localhost:8080/"
        },
        "id": "vUoQrEYCXmXQ",
        "outputId": "e3e70df8-5711-46aa-b4cc-ede6cdb653f6"
      },
      "outputs": [
        {
          "name": "stdout",
          "output_type": "stream",
          "text": [
            "Requirement already satisfied: bertopic in c:\\users\\hung\\appdata\\roaming\\python\\python39\\site-packages (0.12.0)\n",
            "Requirement already satisfied: tqdm>=4.41.1 in c:\\anaconda3\\envs\\metabert\\lib\\site-packages (from bertopic) (4.64.1)\n",
            "Requirement already satisfied: umap-learn>=0.5.0 in c:\\anaconda3\\envs\\metabert\\lib\\site-packages (from bertopic) (0.5.3)\n",
            "Requirement already satisfied: hdbscan>=0.8.28 in c:\\anaconda3\\envs\\metabert\\lib\\site-packages (from bertopic) (0.8.29)\n",
            "Requirement already satisfied: scikit-learn>=0.22.2.post1 in c:\\anaconda3\\envs\\metabert\\lib\\site-packages (from bertopic) (1.1.1)\n",
            "Requirement already satisfied: numpy>=1.20.0 in c:\\anaconda3\\envs\\metabert\\lib\\site-packages (from bertopic) (1.23.1)\n",
            "Requirement already satisfied: pandas>=1.1.5 in c:\\anaconda3\\envs\\metabert\\lib\\site-packages (from bertopic) (1.5.2)\n",
            "Requirement already satisfied: plotly>=4.7.0 in c:\\users\\hung\\appdata\\roaming\\python\\python39\\site-packages (from bertopic) (5.11.0)\n",
            "Requirement already satisfied: sentence-transformers>=0.4.1 in c:\\anaconda3\\envs\\metabert\\lib\\site-packages (from bertopic) (2.2.2)\n",
            "Requirement already satisfied: pyyaml<6.0 in c:\\users\\hung\\appdata\\roaming\\python\\python39\\site-packages (from bertopic) (5.4.1)\n",
            "Requirement already satisfied: scipy>=1.0 in c:\\anaconda3\\envs\\metabert\\lib\\site-packages (from hdbscan>=0.8.28->bertopic) (1.9.3)\n",
            "Requirement already satisfied: cython>=0.27 in c:\\anaconda3\\envs\\metabert\\lib\\site-packages (from hdbscan>=0.8.28->bertopic) (0.29.28)\n",
            "Requirement already satisfied: joblib>=1.0 in c:\\anaconda3\\envs\\metabert\\lib\\site-packages (from hdbscan>=0.8.28->bertopic) (1.1.0)\n",
            "Requirement already satisfied: pytz>=2020.1 in c:\\anaconda3\\envs\\metabert\\lib\\site-packages (from pandas>=1.1.5->bertopic) (2022.1)\n",
            "Requirement already satisfied: python-dateutil>=2.8.1 in c:\\anaconda3\\envs\\metabert\\lib\\site-packages (from pandas>=1.1.5->bertopic) (2.8.2)\n",
            "Requirement already satisfied: tenacity>=6.2.0 in c:\\anaconda3\\envs\\metabert\\lib\\site-packages (from plotly>=4.7.0->bertopic) (8.1.0)\n",
            "Requirement already satisfied: threadpoolctl>=2.0.0 in c:\\anaconda3\\envs\\metabert\\lib\\site-packages (from scikit-learn>=0.22.2.post1->bertopic) (2.2.0)\n",
            "Requirement already satisfied: transformers<5.0.0,>=4.6.0 in c:\\anaconda3\\envs\\metabert\\lib\\site-packages (from sentence-transformers>=0.4.1->bertopic) (4.21.2)\n",
            "Requirement already satisfied: torch>=1.6.0 in c:\\anaconda3\\envs\\metabert\\lib\\site-packages (from sentence-transformers>=0.4.1->bertopic) (1.12.1+cu116)\n",
            "Requirement already satisfied: huggingface-hub>=0.4.0 in c:\\anaconda3\\envs\\metabert\\lib\\site-packages (from sentence-transformers>=0.4.1->bertopic) (0.9.1)\n",
            "Requirement already satisfied: nltk in c:\\anaconda3\\envs\\metabert\\lib\\site-packages (from sentence-transformers>=0.4.1->bertopic) (3.7)\n",
            "Requirement already satisfied: sentencepiece in c:\\anaconda3\\envs\\metabert\\lib\\site-packages (from sentence-transformers>=0.4.1->bertopic) (0.1.96)\n",
            "Requirement already satisfied: torchvision in c:\\anaconda3\\envs\\metabert\\lib\\site-packages (from sentence-transformers>=0.4.1->bertopic) (0.13.1+cu116)\n",
            "Requirement already satisfied: colorama in c:\\anaconda3\\envs\\metabert\\lib\\site-packages (from tqdm>=4.41.1->bertopic) (0.4.5)\n",
            "Requirement already satisfied: numba>=0.49 in c:\\anaconda3\\envs\\metabert\\lib\\site-packages (from umap-learn>=0.5.0->bertopic) (0.56.4)\n",
            "Requirement already satisfied: pynndescent>=0.5 in c:\\anaconda3\\envs\\metabert\\lib\\site-packages (from umap-learn>=0.5.0->bertopic) (0.5.8)\n",
            "Requirement already satisfied: packaging>=20.9 in c:\\anaconda3\\envs\\metabert\\lib\\site-packages (from huggingface-hub>=0.4.0->sentence-transformers>=0.4.1->bertopic) (21.3)\n",
            "Requirement already satisfied: filelock in c:\\anaconda3\\envs\\metabert\\lib\\site-packages (from huggingface-hub>=0.4.0->sentence-transformers>=0.4.1->bertopic) (3.8.0)\n",
            "Requirement already satisfied: requests in c:\\anaconda3\\envs\\metabert\\lib\\site-packages (from huggingface-hub>=0.4.0->sentence-transformers>=0.4.1->bertopic) (2.28.1)\n",
            "Requirement already satisfied: typing-extensions>=3.7.4.3 in c:\\anaconda3\\envs\\metabert\\lib\\site-packages (from huggingface-hub>=0.4.0->sentence-transformers>=0.4.1->bertopic) (4.3.0)\n",
            "Requirement already satisfied: setuptools in c:\\anaconda3\\envs\\metabert\\lib\\site-packages (from numba>=0.49->umap-learn>=0.5.0->bertopic) (63.4.1)\n",
            "Requirement already satisfied: llvmlite<0.40,>=0.39.0dev0 in c:\\anaconda3\\envs\\metabert\\lib\\site-packages (from numba>=0.49->umap-learn>=0.5.0->bertopic) (0.39.1)\n",
            "Requirement already satisfied: six>=1.5 in c:\\anaconda3\\envs\\metabert\\lib\\site-packages (from python-dateutil>=2.8.1->pandas>=1.1.5->bertopic) (1.16.0)\n",
            "Requirement already satisfied: tokenizers!=0.11.3,<0.13,>=0.11.1 in c:\\anaconda3\\envs\\metabert\\lib\\site-packages (from transformers<5.0.0,>=4.6.0->sentence-transformers>=0.4.1->bertopic) (0.12.1)\n",
            "Requirement already satisfied: regex!=2019.12.17 in c:\\anaconda3\\envs\\metabert\\lib\\site-packages (from transformers<5.0.0,>=4.6.0->sentence-transformers>=0.4.1->bertopic) (2022.9.11)\n",
            "Requirement already satisfied: click in c:\\anaconda3\\envs\\metabert\\lib\\site-packages (from nltk->sentence-transformers>=0.4.1->bertopic) (8.1.3)\n",
            "Requirement already satisfied: pillow!=8.3.*,>=5.3.0 in c:\\anaconda3\\envs\\metabert\\lib\\site-packages (from torchvision->sentence-transformers>=0.4.1->bertopic) (9.2.0)\n",
            "Requirement already satisfied: pyparsing!=3.0.5,>=2.0.2 in c:\\anaconda3\\envs\\metabert\\lib\\site-packages (from packaging>=20.9->huggingface-hub>=0.4.0->sentence-transformers>=0.4.1->bertopic) (3.0.9)\n",
            "Requirement already satisfied: urllib3<1.27,>=1.21.1 in c:\\anaconda3\\envs\\metabert\\lib\\site-packages (from requests->huggingface-hub>=0.4.0->sentence-transformers>=0.4.1->bertopic) (1.26.11)\n",
            "Requirement already satisfied: charset-normalizer<3,>=2 in c:\\anaconda3\\envs\\metabert\\lib\\site-packages (from requests->huggingface-hub>=0.4.0->sentence-transformers>=0.4.1->bertopic) (2.0.4)\n",
            "Requirement already satisfied: idna<4,>=2.5 in c:\\anaconda3\\envs\\metabert\\lib\\site-packages (from requests->huggingface-hub>=0.4.0->sentence-transformers>=0.4.1->bertopic) (3.3)\n",
            "Requirement already satisfied: certifi>=2017.4.17 in c:\\anaconda3\\envs\\metabert\\lib\\site-packages (from requests->huggingface-hub>=0.4.0->sentence-transformers>=0.4.1->bertopic) (2022.9.24)\n"
          ]
        }
      ],
      "source": [
        "## Install required packages\n",
        "#!pip install torch torchvision torchaudio --extra-index-url https://download.pytorch.org/whl/cu116\n",
        "#!pip install transformers==4.21.2\n",
        "#!pip install sentencepiece==0.1.96\n",
        "#!pip install datasets\n",
        "#!pip install nltk\n",
        "#!pip install sentence_transformers\n",
        "#!pip install gensim\n"
      ]
    },
    {
      "cell_type": "code",
      "execution_count": 179,
      "metadata": {
        "id": "dPi54JU9XmXR"
      },
      "outputs": [],
      "source": [
        "import os\n",
        "import pandas as pd\n",
        "import numpy as np\n",
        "import matplotlib as plt\n",
        "from sklearn.model_selection import train_test_split\n",
        "from sklearn import feature_extraction, model_selection, naive_bayes, pipeline, manifold, preprocessing\n",
        "from sklearn.metrics import accuracy_score, classification_report, confusion_matrix, precision_recall_fscore_support, classification_report, f1_score\n",
        "import torch.nn as nn\n",
        "import torch.optim as optim\n",
        "import seaborn as sns\n",
        "import torch\n",
        "from transformers import AutoModelForSequenceClassification, AutoTokenizer, DataCollatorWithPadding, DataCollatorForLanguageModeling, AutoModelForMaskedLM, TrainingArguments, Trainer, BertModel\n",
        "from torch.utils.data import DataLoader, RandomSampler, SequentialSampler\n",
        "from sklearn.preprocessing import OrdinalEncoder, OneHotEncoder\n",
        "from datasets import Dataset, DatasetDict\n",
        "from utils import functions\n",
        "import random\n",
        "import nltk\n",
        "from sentence_transformers import SentenceTransformer, LoggingHandler\n",
        "from sentence_transformers import models, util, datasets, evaluation, losses\n",
        "import re\n",
        "from nltk.corpus import stopwords\n",
        "from gensim.utils import tokenize as tk\n",
        "from gensim.parsing.preprocessing import remove_stopwords, preprocess_string, strip_tags, strip_punctuation, strip_numeric, strip_multiple_whitespaces\n",
        "from gensim.models import Doc2Vec\n",
        "from collections import namedtuple\n",
        "from gensim.models.phrases import Phrases, Phraser\n",
        "from gensim.models.doc2vec import TaggedDocument\n"
      ]
    },
    {
      "cell_type": "code",
      "execution_count": 180,
      "metadata": {},
      "outputs": [
        {
          "name": "stdout",
          "output_type": "stream",
          "text": [
            "absl-py==1.3.0\n",
            "aiohttp==3.8.3\n",
            "aiosignal==1.3.1\n",
            "anyio @ file:///C:/ci/anyio_1644481921011/work/dist\n",
            "argon2-cffi @ file:///opt/conda/conda-bld/argon2-cffi_1645000214183/work\n",
            "argon2-cffi-bindings @ file:///C:/ci/argon2-cffi-bindings_1644551690056/work\n",
            "asttokens @ file:///opt/conda/conda-bld/asttokens_1646925590279/work\n",
            "astunparse==1.6.3\n",
            "async-timeout==4.0.2\n",
            "attrs @ file:///opt/conda/conda-bld/attrs_1642510447205/work\n",
            "Babel @ file:///tmp/build/80754af9/babel_1620871417480/work\n",
            "backcall @ file:///home/ktietz/src/ci/backcall_1611930011877/work\n",
            "beautifulsoup4 @ file:///C:/ci/beautifulsoup4_1650293025093/work\n",
            "bertopic==0.12.0\n",
            "bleach @ file:///opt/conda/conda-bld/bleach_1641577558959/work\n",
            "bokeh @ file:///C:/Windows/TEMP/abs_4a259bc2-ed05-4a1f-808e-ac712cc0900cddqp8sp7/croots/recipe/bokeh_1658136660686/work\n",
            "Bottleneck @ file:///C:/Windows/Temp/abs_3198ca53-903d-42fd-87b4-03e6d03a8381yfwsuve8/croots/recipe/bottleneck_1657175565403/work\n",
            "brotlipy==0.7.0\n",
            "cachetools==5.2.0\n",
            "certifi @ file:///C:/b/abs_ac29jvt43w/croot/certifi_1665076682579/work/certifi\n",
            "cffi @ file:///C:/Windows/Temp/abs_6808y9x40v/croots/recipe/cffi_1659598653989/work\n",
            "charset-normalizer @ file:///tmp/build/80754af9/charset-normalizer_1630003229654/work\n",
            "click==8.1.3\n",
            "cloudpickle @ file:///tmp/build/80754af9/cloudpickle_1632508026186/work\n",
            "colorama @ file:///C:/Windows/TEMP/abs_9439aeb1-0254-449a-96f7-33ab5eb17fc8apleb4yn/croots/recipe/colorama_1657009099097/work\n",
            "colorcet @ file:///C:/b/abs_46vyu0rpdl/croot/colorcet_1668084513237/work\n",
            "cryptography @ file:///C:/ci/cryptography_1652083563162/work\n",
            "cycler @ file:///tmp/build/80754af9/cycler_1637851556182/work\n",
            "Cython==0.29.28\n",
            "cytoolz @ file:///C:/b/abs_61m9vzb4qh/croot/cytoolz_1667465938275/work\n",
            "dask @ file:///C:/ci/dask-core_1658515307198/work\n",
            "datasets==2.7.1\n",
            "datashader @ file:///C:/b/abs_cdf2s6zvt6/croot/datashader_1670841914509/work\n",
            "datashape==0.5.4\n",
            "debugpy @ file:///C:/ci/debugpy_1637091961445/work\n",
            "decorator @ file:///opt/conda/conda-bld/decorator_1643638310831/work\n",
            "defusedxml @ file:///tmp/build/80754af9/defusedxml_1615228127516/work\n",
            "dill==0.3.6\n",
            "entrypoints @ file:///C:/ci/entrypoints_1649926621128/work\n",
            "executing @ file:///opt/conda/conda-bld/executing_1646925071911/work\n",
            "fastjsonschema @ file:///C:/Users/BUILDE~1/AppData/Local/Temp/abs_ebruxzvd08/croots/recipe/python-fastjsonschema_1661376484940/work\n",
            "filelock==3.8.0\n",
            "flatbuffers==22.12.6\n",
            "fonttools==4.25.0\n",
            "frozenlist==1.3.3\n",
            "fsspec @ file:///C:/b/abs_5bjz6v0w_f/croot/fsspec_1670336608940/work\n",
            "gast==0.4.0\n",
            "gensim==4.2.0\n",
            "google-auth==2.15.0\n",
            "google-auth-oauthlib==0.4.6\n",
            "google-pasta==0.2.0\n",
            "grpcio==1.51.1\n",
            "h5py==3.7.0\n",
            "hdbscan @ file:///D:/bld/hdbscan_1667376842526/work\n",
            "holoviews @ file:///C:/b/abs_48attd0ck4/croot/holoviews_1668506387415/work\n",
            "huggingface-hub==0.9.1\n",
            "idna @ file:///tmp/build/80754af9/idna_1637925883363/work\n",
            "imagecodecs @ file:///C:/ci/imagecodecs_1635511087451/work\n",
            "imageio @ file:///C:/Windows/TEMP/abs_24c1b783-7540-4ca9-a1b1-0e8aa8e6ae64hb79ssux/croots/recipe/imageio_1658785038775/work\n",
            "importlib-metadata @ file:///C:/ci/importlib-metadata_1648562621412/work\n",
            "ipykernel @ file:///C:/b/abs_21ykzkm7y_/croots/recipe/ipykernel_1662361803478/work\n",
            "ipython @ file:///C:/ci/ipython_1657634415474/work\n",
            "ipython-genutils @ file:///tmp/build/80754af9/ipython_genutils_1606773439826/work\n",
            "ipywidgets @ file:///tmp/build/80754af9/ipywidgets_1634143127070/work\n",
            "jedi @ file:///C:/ci/jedi_1644315428289/work\n",
            "Jinja2 @ file:///opt/conda/conda-bld/jinja2_1647436528585/work\n",
            "joblib @ file:///tmp/build/80754af9/joblib_1635411271373/work\n",
            "json5 @ file:///tmp/build/80754af9/json5_1624432770122/work\n",
            "jsonschema @ file:///C:/ci/jsonschema_1650008058050/work\n",
            "jupyter @ file:///C:/Windows/TEMP/abs_56xfdi__li/croots/recipe/jupyter_1659349053177/work\n",
            "jupyter-console @ file:///opt/conda/conda-bld/jupyter_console_1647002188872/work\n",
            "jupyter-core @ file:///C:/ci/jupyter_core_1651656286743/work\n",
            "jupyter-server @ file:///C:/Windows/TEMP/abs_d3c42c59-765d-4f9b-9fa3-ad5b1369485611i_yual/croots/recipe/jupyter_server_1658754493238/work\n",
            "jupyter_client @ file:///C:/b/abs_8fbm7986b_/croots/recipe/jupyter_client_1662504374117/work\n",
            "jupyterlab @ file:///C:/ci/jupyterlab_1658891142428/work\n",
            "jupyterlab-pygments @ file:///tmp/build/80754af9/jupyterlab_pygments_1601490720602/work\n",
            "jupyterlab-server @ file:///C:/ci/jupyterlab_server_1650289977918/work\n",
            "jupyterlab-widgets @ file:///tmp/build/80754af9/jupyterlab_widgets_1609884341231/work\n",
            "keras==2.10.0\n",
            "Keras-Preprocessing==1.1.2\n",
            "kiwisolver @ file:///C:/ci/kiwisolver_1653292407425/work\n",
            "libclang==14.0.6\n",
            "llvmlite==0.39.1\n",
            "locket @ file:///C:/ci/locket_1652904031364/work\n",
            "Markdown @ file:///C:/ci/markdown_1614364082838/work\n",
            "MarkupSafe @ file:///C:/ci/markupsafe_1654508077284/work\n",
            "matplotlib @ file:///C:/ci/matplotlib-suite_1660169687702/work\n",
            "matplotlib-inline @ file:///C:/ci/matplotlib-inline_1661915841596/work\n",
            "mistune @ file:///C:/ci/mistune_1607359457024/work\n",
            "mkl-fft==1.3.1\n",
            "mkl-random @ file:///C:/ci/mkl_random_1626186184308/work\n",
            "mkl-service==2.4.0\n",
            "multidict==6.0.2\n",
            "multipledispatch @ file:///C:/ci/multipledispatch_1607574329826/work\n",
            "multiprocess==0.70.14\n",
            "munkres==1.1.4\n",
            "nbclassic @ file:///opt/conda/conda-bld/nbclassic_1644943264176/work\n",
            "nbclient @ file:///C:/ci/nbclient_1650290387259/work\n",
            "nbconvert @ file:///C:/ci/nbconvert_1649741016669/work\n",
            "nbformat @ file:///C:/ci/nbformat_1649845125000/work\n",
            "nest-asyncio @ file:///C:/ci/nest-asyncio_1649829929390/work\n",
            "networkx @ file:///C:/ci/networkx_1657716998256/work\n",
            "nltk==3.7\n",
            "notebook @ file:///C:/Windows/TEMP/abs_79abr1_60s/croots/recipe/notebook_1659083661851/work\n",
            "numba @ file:///C:/b/abs_e53pp2e4k7/croot/numba_1670258349527/work\n",
            "numexpr @ file:///C:/Windows/Temp/abs_e2036a32-9fe9-47f3-a04c-dbb1c232ba4b334exiur/croots/recipe/numexpr_1656940304835/work\n",
            "numpy @ file:///C:/Windows/Temp/abs_2a1e1vbeag/croots/recipe/numpy_and_numpy_base_1659432712056/work\n",
            "oauthlib==3.2.2\n",
            "opt-einsum==3.3.0\n",
            "packaging @ file:///tmp/build/80754af9/packaging_1637314298585/work\n",
            "pandas @ file:///C:/b/abs_c6fuezktfm/croot/pandas_1670425103552/work\n",
            "pandocfilters @ file:///opt/conda/conda-bld/pandocfilters_1643405455980/work\n",
            "panel @ file:///C:/b/abs_a4i5eriajp/croot/panel_1668084610118/work\n",
            "param @ file:///C:/b/abs_fa3qf85bdr/croot/param_1668765235139/work\n",
            "parso @ file:///opt/conda/conda-bld/parso_1641458642106/work\n",
            "partd @ file:///opt/conda/conda-bld/partd_1647245470509/work\n",
            "pickleshare @ file:///tmp/build/80754af9/pickleshare_1606932040724/work\n",
            "Pillow==9.2.0\n",
            "plotly==5.11.0\n",
            "prometheus-client @ file:///C:/Windows/TEMP/abs_ab9nx8qb08/croots/recipe/prometheus_client_1659455104602/work\n",
            "prompt-toolkit @ file:///tmp/build/80754af9/prompt-toolkit_1633440160888/work\n",
            "protobuf==3.19.6\n",
            "psutil @ file:///C:/Windows/Temp/abs_b2c2fd7f-9fd5-4756-95ea-8aed74d0039flsd9qufz/croots/recipe/psutil_1656431277748/work\n",
            "pure-eval @ file:///opt/conda/conda-bld/pure_eval_1646925070566/work\n",
            "pyarrow==10.0.1\n",
            "pyasn1==0.4.8\n",
            "pyasn1-modules==0.2.8\n",
            "pycparser @ file:///tmp/build/80754af9/pycparser_1636541352034/work\n",
            "pyct @ file:///C:/ci/pyct_1658488033428/work\n",
            "Pygments @ file:///opt/conda/conda-bld/pygments_1644249106324/work\n",
            "pynndescent==0.5.8\n",
            "pyOpenSSL @ file:///opt/conda/conda-bld/pyopenssl_1643788558760/work\n",
            "pyparsing @ file:///C:/Users/BUILDE~1/AppData/Local/Temp/abs_7f_7lba6rl/croots/recipe/pyparsing_1661452540662/work\n",
            "pyrsistent @ file:///C:/ci/pyrsistent_1636093225342/work\n",
            "PySocks @ file:///C:/ci/pysocks_1605307512533/work\n",
            "python-dateutil @ file:///tmp/build/80754af9/python-dateutil_1626374649649/work\n",
            "pytz @ file:///C:/Windows/TEMP/abs_90eacd4e-8eff-491e-b26e-f707eba2cbe1ujvbhqz1/croots/recipe/pytz_1654762631027/work\n",
            "pyviz-comms @ file:///tmp/build/80754af9/pyviz_comms_1623747165329/work\n",
            "PyWavelets @ file:///C:/b/abs_a8r4b1511a/croot/pywavelets_1670425185881/work\n",
            "pywin32==302\n",
            "pywinpty @ file:///C:/ci_310/pywinpty_1644230983541/work/target/wheels/pywinpty-2.0.2-cp39-none-win_amd64.whl\n",
            "PyYAML==5.4.1\n",
            "pyzmq @ file:///C:/ci/pyzmq_1657615952984/work\n",
            "qtconsole @ file:///C:/ci/qtconsole_1662019208635/work\n",
            "QtPy @ file:///C:/ci/qtpy_1662015096047/work\n",
            "regex==2022.9.11\n",
            "requests @ file:///C:/ci/requests_1657735342357/work\n",
            "requests-oauthlib==1.3.1\n",
            "responses==0.18.0\n",
            "rsa==4.9\n",
            "scikit-image @ file:///C:/b/abs_63r0vmx78u/croot/scikit-image_1669241746873/work\n",
            "scikit-learn @ file:///C:/ci/scikit-learn_1658344472767/work\n",
            "scikit-learn-extra==0.2.0\n",
            "scipy==1.9.3\n",
            "seaborn @ file:///tmp/build/80754af9/seaborn_1629307859561/work\n",
            "Send2Trash @ file:///tmp/build/80754af9/send2trash_1632406701022/work\n",
            "sentence-transformers==2.2.2\n",
            "sentencepiece==0.1.96\n",
            "sip==4.19.13\n",
            "six @ file:///tmp/build/80754af9/six_1644875935023/work\n",
            "smart-open==6.2.0\n",
            "sniffio @ file:///C:/ci/sniffio_1614030527509/work\n",
            "soupsieve @ file:///tmp/build/80754af9/soupsieve_1636706018808/work\n",
            "stack-data @ file:///opt/conda/conda-bld/stack_data_1646927590127/work\n",
            "tenacity==8.1.0\n",
            "tensorboard==2.10.1\n",
            "tensorboard-data-server==0.6.1\n",
            "tensorboard-plugin-wit==1.8.1\n",
            "tensorflow==2.10.1\n",
            "tensorflow-estimator==2.10.0\n",
            "tensorflow-hub==0.12.0\n",
            "tensorflow-io-gcs-filesystem==0.28.0\n",
            "tensorflow-text==2.10.0\n",
            "termcolor==2.1.1\n",
            "terminado @ file:///C:/ci/terminado_1644322780199/work\n",
            "testpath @ file:///C:/Windows/TEMP/abs_23c7fa33-cbb9-46dc-b7c5-590c38e2de3d4bmbngal/croots/recipe/testpath_1655908553202/work\n",
            "threadpoolctl @ file:///Users/ktietz/demo/mc3/conda-bld/threadpoolctl_1629802263681/work\n",
            "tifffile @ file:///tmp/build/80754af9/tifffile_1627275862826/work\n",
            "tokenizers==0.12.1\n",
            "toolz @ file:///C:/b/abs_cfvk6rc40d/croot/toolz_1667464080130/work\n",
            "torch==1.12.1+cu116\n",
            "torchaudio==0.12.1+cu116\n",
            "torchvision==0.13.1+cu116\n",
            "tornado @ file:///C:/ci/tornado_1662458743919/work\n",
            "tqdm @ file:///C:/b/abs_0axbz66qik/croots/recipe/tqdm_1664392691071/work\n",
            "traitlets @ file:///tmp/build/80754af9/traitlets_1636710298902/work\n",
            "transformers==4.21.2\n",
            "typing_extensions @ file:///C:/Windows/TEMP/abs_dd2d0moa85/croots/recipe/typing_extensions_1659638831135/work\n",
            "umap==0.1.1\n",
            "umap-learn==0.5.3\n",
            "urllib3 @ file:///C:/Windows/TEMP/abs_65ynz4fdmi/croots/recipe/urllib3_1659110473919/work\n",
            "wcwidth @ file:///Users/ktietz/demo/mc3/conda-bld/wcwidth_1629357192024/work\n",
            "webencodings==0.5.1\n",
            "websocket-client @ file:///C:/ci/websocket-client_1614804375980/work\n",
            "Werkzeug==2.2.2\n",
            "widgetsnbextension @ file:///C:/ci/widgetsnbextension_1644991377168/work\n",
            "win-inet-pton @ file:///C:/ci/win_inet_pton_1605306162074/work\n",
            "wincertstore==0.2\n",
            "wrapt==1.14.1\n",
            "xarray @ file:///C:/b/abs_2fi_umrauo/croot/xarray_1668776806973/work\n",
            "xxhash==3.1.0\n",
            "yarl==1.8.1\n",
            "zipp @ file:///C:/ci/zipp_1652273994994/work\n"
          ]
        }
      ],
      "source": [
        "!pip freeze"
      ]
    },
    {
      "cell_type": "code",
      "execution_count": 181,
      "metadata": {
        "colab": {
          "base_uri": "https://localhost:8080/",
          "height": 35
        },
        "id": "mDclkfIWZcwv",
        "outputId": "769a0b89-1e46-4b79-c424-cb6022cd4971"
      },
      "outputs": [
        {
          "data": {
            "text/plain": [
              "'NVIDIA GeForce RTX 3090'"
            ]
          },
          "execution_count": 181,
          "metadata": {},
          "output_type": "execute_result"
        }
      ],
      "source": [
        "device = torch.device('cuda')\n",
        "torch.cuda.get_device_name(device=None)\n"
      ]
    },
    {
      "cell_type": "code",
      "execution_count": 182,
      "metadata": {
        "colab": {
          "base_uri": "https://localhost:8080/"
        },
        "id": "ULX0gK7mg6d3",
        "outputId": "bdbd3c77-e5c0-46f3-cb41-c78bdbbbd4ab"
      },
      "outputs": [],
      "source": [
        "## Pseudo-randomness for reproducibility\n",
        "seed_val = 1234\n",
        "torch.manual_seed(seed_val)\n",
        "random.seed(seed_val)\n",
        "np.random.seed(seed_val)"
      ]
    },
    {
      "cell_type": "markdown",
      "metadata": {
        "id": "b41aechYXmXT"
      },
      "source": [
        "## Load data and clean"
      ]
    },
    {
      "cell_type": "code",
      "execution_count": 183,
      "metadata": {
        "id": "qB4dt7BNuojT"
      },
      "outputs": [],
      "source": [
        "manifesto = pd.read_csv(os.path.join(\"data\", \"r_outputs\",\"manifesto.csv\"), encoding=\"utf-8\")\n"
      ]
    },
    {
      "cell_type": "code",
      "execution_count": 184,
      "metadata": {},
      "outputs": [],
      "source": [
        "manifesto = manifesto[(manifesto.code.notna()) & ~(manifesto.code.isin(['000','H']))].reset_index(drop=True)"
      ]
    },
    {
      "cell_type": "code",
      "execution_count": 185,
      "metadata": {
        "colab": {
          "base_uri": "https://localhost:8080/"
        },
        "id": "BvaoD683XmXc",
        "outputId": "c1d5ae1c-72ba-4193-da97-0f4cb8304318"
      },
      "outputs": [
        {
          "data": {
            "text/html": [
              "<div>\n",
              "<style scoped>\n",
              "    .dataframe tbody tr th:only-of-type {\n",
              "        vertical-align: middle;\n",
              "    }\n",
              "\n",
              "    .dataframe tbody tr th {\n",
              "        vertical-align: top;\n",
              "    }\n",
              "\n",
              "    .dataframe thead th {\n",
              "        text-align: right;\n",
              "    }\n",
              "</style>\n",
              "<table border=\"1\" class=\"dataframe\">\n",
              "  <thead>\n",
              "    <tr style=\"text-align: right;\">\n",
              "      <th></th>\n",
              "      <th>text</th>\n",
              "      <th>cabinet</th>\n",
              "      <th>code</th>\n",
              "      <th>pos</th>\n",
              "      <th>party</th>\n",
              "    </tr>\n",
              "  </thead>\n",
              "  <tbody>\n",
              "    <tr>\n",
              "      <th>0</th>\n",
              "      <td>Wir werden Kriminalität und Gewaltbereitschaft...</td>\n",
              "      <td>1998</td>\n",
              "      <td>605</td>\n",
              "      <td>14</td>\n",
              "      <td>CDU/CSU</td>\n",
              "    </tr>\n",
              "    <tr>\n",
              "      <th>1</th>\n",
              "      <td>Die Bürger sollen sich überall in Deutschland ...</td>\n",
              "      <td>1998</td>\n",
              "      <td>605</td>\n",
              "      <td>15</td>\n",
              "      <td>CDU/CSU</td>\n",
              "    </tr>\n",
              "    <tr>\n",
              "      <th>2</th>\n",
              "      <td>Der Leitsatz muß lauten: Wehret den Anfängen</td>\n",
              "      <td>1998</td>\n",
              "      <td>605</td>\n",
              "      <td>16</td>\n",
              "      <td>CDU/CSU</td>\n",
              "    </tr>\n",
              "    <tr>\n",
              "      <th>3</th>\n",
              "      <td>Anfänge, das sind die geduldete Ver­wahrlosung...</td>\n",
              "      <td>1998</td>\n",
              "      <td>605</td>\n",
              "      <td>17</td>\n",
              "      <td>CDU/CSU</td>\n",
              "    </tr>\n",
              "    <tr>\n",
              "      <th>4</th>\n",
              "      <td>Wir wollen keine Gewöhnung an Ordnungswidrigke...</td>\n",
              "      <td>1998</td>\n",
              "      <td>605</td>\n",
              "      <td>18</td>\n",
              "      <td>CDU/CSU</td>\n",
              "    </tr>\n",
              "  </tbody>\n",
              "</table>\n",
              "</div>"
            ],
            "text/plain": [
              "                                                text  cabinet code  pos  \\\n",
              "0  Wir werden Kriminalität und Gewaltbereitschaft...     1998  605   14   \n",
              "1  Die Bürger sollen sich überall in Deutschland ...     1998  605   15   \n",
              "2       Der Leitsatz muß lauten: Wehret den Anfängen     1998  605   16   \n",
              "3  Anfänge, das sind die geduldete Ver­wahrlosung...     1998  605   17   \n",
              "4  Wir wollen keine Gewöhnung an Ordnungswidrigke...     1998  605   18   \n",
              "\n",
              "     party  \n",
              "0  CDU/CSU  \n",
              "1  CDU/CSU  \n",
              "2  CDU/CSU  \n",
              "3  CDU/CSU  \n",
              "4  CDU/CSU  "
            ]
          },
          "execution_count": 185,
          "metadata": {},
          "output_type": "execute_result"
        }
      ],
      "source": [
        "manifesto.head()"
      ]
    },
    {
      "cell_type": "code",
      "execution_count": 186,
      "metadata": {},
      "outputs": [],
      "source": [
        "def extract_code(code):\n",
        "    if len(code.split('.')) > 1:\n",
        "        return(int(code.split('.')[0]))\n",
        "    else:\n",
        "        return int(code)\n",
        "manifesto['code_extract'] = manifesto['code'].apply(extract_code)"
      ]
    },
    {
      "cell_type": "code",
      "execution_count": 187,
      "metadata": {},
      "outputs": [],
      "source": [
        "def sentiment_code(code):\n",
        "    if code in [104,201,203,305,401,402,407,414,505,601,603,605,606]:\n",
        "        return('right')\n",
        "    elif code in [103,105,106,107,202,403,404,406,504,506,701]:\n",
        "        return('left')\n",
        "    else:\n",
        "        return('neutral')"
      ]
    },
    {
      "cell_type": "code",
      "execution_count": 188,
      "metadata": {},
      "outputs": [],
      "source": [
        "manifesto['sentiment'] = manifesto['code_extract'].apply(sentiment_code)"
      ]
    },
    {
      "cell_type": "code",
      "execution_count": 189,
      "metadata": {},
      "outputs": [
        {
          "data": {
            "text/html": [
              "<div>\n",
              "<style scoped>\n",
              "    .dataframe tbody tr th:only-of-type {\n",
              "        vertical-align: middle;\n",
              "    }\n",
              "\n",
              "    .dataframe tbody tr th {\n",
              "        vertical-align: top;\n",
              "    }\n",
              "\n",
              "    .dataframe thead th {\n",
              "        text-align: right;\n",
              "    }\n",
              "</style>\n",
              "<table border=\"1\" class=\"dataframe\">\n",
              "  <thead>\n",
              "    <tr style=\"text-align: right;\">\n",
              "      <th></th>\n",
              "      <th>text</th>\n",
              "      <th>cabinet</th>\n",
              "      <th>code</th>\n",
              "      <th>pos</th>\n",
              "      <th>party</th>\n",
              "      <th>code_extract</th>\n",
              "    </tr>\n",
              "    <tr>\n",
              "      <th>sentiment</th>\n",
              "      <th></th>\n",
              "      <th></th>\n",
              "      <th></th>\n",
              "      <th></th>\n",
              "      <th></th>\n",
              "      <th></th>\n",
              "    </tr>\n",
              "  </thead>\n",
              "  <tbody>\n",
              "    <tr>\n",
              "      <th>left</th>\n",
              "      <td>23259</td>\n",
              "      <td>23259</td>\n",
              "      <td>23259</td>\n",
              "      <td>23259</td>\n",
              "      <td>23259</td>\n",
              "      <td>23259</td>\n",
              "    </tr>\n",
              "    <tr>\n",
              "      <th>neutral</th>\n",
              "      <td>36691</td>\n",
              "      <td>36691</td>\n",
              "      <td>36691</td>\n",
              "      <td>36691</td>\n",
              "      <td>36691</td>\n",
              "      <td>36691</td>\n",
              "    </tr>\n",
              "    <tr>\n",
              "      <th>right</th>\n",
              "      <td>15592</td>\n",
              "      <td>15592</td>\n",
              "      <td>15592</td>\n",
              "      <td>15592</td>\n",
              "      <td>15592</td>\n",
              "      <td>15592</td>\n",
              "    </tr>\n",
              "  </tbody>\n",
              "</table>\n",
              "</div>"
            ],
            "text/plain": [
              "            text  cabinet   code    pos  party  code_extract\n",
              "sentiment                                                   \n",
              "left       23259    23259  23259  23259  23259         23259\n",
              "neutral    36691    36691  36691  36691  36691         36691\n",
              "right      15592    15592  15592  15592  15592         15592"
            ]
          },
          "execution_count": 189,
          "metadata": {},
          "output_type": "execute_result"
        }
      ],
      "source": [
        "manifesto.groupby('sentiment').count()"
      ]
    },
    {
      "cell_type": "code",
      "execution_count": 190,
      "metadata": {},
      "outputs": [],
      "source": [
        "def extract_domain(code):\n",
        "    return code[0]"
      ]
    },
    {
      "cell_type": "code",
      "execution_count": 191,
      "metadata": {},
      "outputs": [],
      "source": [
        "manifesto['domain'] = manifesto.code.apply(extract_domain)"
      ]
    },
    {
      "cell_type": "code",
      "execution_count": 192,
      "metadata": {},
      "outputs": [],
      "source": [
        "manifesto['party_cabinet_sentiment'] = manifesto.party.str.cat(others=[manifesto.cabinet.astype(str), \n",
        "manifesto.sentiment.astype(str)], sep='_')\n",
        "manifesto['party_cabinet'] = manifesto.party.str.cat(others=[manifesto.cabinet.astype(str)], sep='_')\n",
        "manifesto['party_cabinet_domain'] = manifesto.party.str.cat(others=[manifesto.cabinet.astype(str), \n",
        "manifesto.domain.astype(str)], sep='_')"
      ]
    },
    {
      "cell_type": "code",
      "execution_count": 193,
      "metadata": {},
      "outputs": [
        {
          "data": {
            "text/html": [
              "<div>\n",
              "<style scoped>\n",
              "    .dataframe tbody tr th:only-of-type {\n",
              "        vertical-align: middle;\n",
              "    }\n",
              "\n",
              "    .dataframe tbody tr th {\n",
              "        vertical-align: top;\n",
              "    }\n",
              "\n",
              "    .dataframe thead th {\n",
              "        text-align: right;\n",
              "    }\n",
              "</style>\n",
              "<table border=\"1\" class=\"dataframe\">\n",
              "  <thead>\n",
              "    <tr style=\"text-align: right;\">\n",
              "      <th></th>\n",
              "      <th>text</th>\n",
              "      <th>cabinet</th>\n",
              "      <th>code</th>\n",
              "      <th>pos</th>\n",
              "      <th>party</th>\n",
              "      <th>code_extract</th>\n",
              "      <th>sentiment</th>\n",
              "      <th>domain</th>\n",
              "      <th>party_cabinet_sentiment</th>\n",
              "      <th>party_cabinet</th>\n",
              "    </tr>\n",
              "    <tr>\n",
              "      <th>party_cabinet_domain</th>\n",
              "      <th></th>\n",
              "      <th></th>\n",
              "      <th></th>\n",
              "      <th></th>\n",
              "      <th></th>\n",
              "      <th></th>\n",
              "      <th></th>\n",
              "      <th></th>\n",
              "      <th></th>\n",
              "      <th></th>\n",
              "    </tr>\n",
              "  </thead>\n",
              "  <tbody>\n",
              "    <tr>\n",
              "      <th>CDU/CSU_1998_1</th>\n",
              "      <td>36</td>\n",
              "      <td>36</td>\n",
              "      <td>36</td>\n",
              "      <td>36</td>\n",
              "      <td>36</td>\n",
              "      <td>36</td>\n",
              "      <td>36</td>\n",
              "      <td>36</td>\n",
              "      <td>36</td>\n",
              "      <td>36</td>\n",
              "    </tr>\n",
              "    <tr>\n",
              "      <th>CDU/CSU_1998_2</th>\n",
              "      <td>13</td>\n",
              "      <td>13</td>\n",
              "      <td>13</td>\n",
              "      <td>13</td>\n",
              "      <td>13</td>\n",
              "      <td>13</td>\n",
              "      <td>13</td>\n",
              "      <td>13</td>\n",
              "      <td>13</td>\n",
              "      <td>13</td>\n",
              "    </tr>\n",
              "    <tr>\n",
              "      <th>CDU/CSU_1998_3</th>\n",
              "      <td>59</td>\n",
              "      <td>59</td>\n",
              "      <td>59</td>\n",
              "      <td>59</td>\n",
              "      <td>59</td>\n",
              "      <td>59</td>\n",
              "      <td>59</td>\n",
              "      <td>59</td>\n",
              "      <td>59</td>\n",
              "      <td>59</td>\n",
              "    </tr>\n",
              "    <tr>\n",
              "      <th>CDU/CSU_1998_4</th>\n",
              "      <td>167</td>\n",
              "      <td>167</td>\n",
              "      <td>167</td>\n",
              "      <td>167</td>\n",
              "      <td>167</td>\n",
              "      <td>167</td>\n",
              "      <td>167</td>\n",
              "      <td>167</td>\n",
              "      <td>167</td>\n",
              "      <td>167</td>\n",
              "    </tr>\n",
              "    <tr>\n",
              "      <th>CDU/CSU_1998_5</th>\n",
              "      <td>66</td>\n",
              "      <td>66</td>\n",
              "      <td>66</td>\n",
              "      <td>66</td>\n",
              "      <td>66</td>\n",
              "      <td>66</td>\n",
              "      <td>66</td>\n",
              "      <td>66</td>\n",
              "      <td>66</td>\n",
              "      <td>66</td>\n",
              "    </tr>\n",
              "    <tr>\n",
              "      <th>...</th>\n",
              "      <td>...</td>\n",
              "      <td>...</td>\n",
              "      <td>...</td>\n",
              "      <td>...</td>\n",
              "      <td>...</td>\n",
              "      <td>...</td>\n",
              "      <td>...</td>\n",
              "      <td>...</td>\n",
              "      <td>...</td>\n",
              "      <td>...</td>\n",
              "    </tr>\n",
              "    <tr>\n",
              "      <th>SPD_2021_3</th>\n",
              "      <td>69</td>\n",
              "      <td>69</td>\n",
              "      <td>69</td>\n",
              "      <td>69</td>\n",
              "      <td>69</td>\n",
              "      <td>69</td>\n",
              "      <td>69</td>\n",
              "      <td>69</td>\n",
              "      <td>69</td>\n",
              "      <td>69</td>\n",
              "    </tr>\n",
              "    <tr>\n",
              "      <th>SPD_2021_4</th>\n",
              "      <td>368</td>\n",
              "      <td>368</td>\n",
              "      <td>368</td>\n",
              "      <td>368</td>\n",
              "      <td>368</td>\n",
              "      <td>368</td>\n",
              "      <td>368</td>\n",
              "      <td>368</td>\n",
              "      <td>368</td>\n",
              "      <td>368</td>\n",
              "    </tr>\n",
              "    <tr>\n",
              "      <th>SPD_2021_5</th>\n",
              "      <td>527</td>\n",
              "      <td>527</td>\n",
              "      <td>527</td>\n",
              "      <td>527</td>\n",
              "      <td>527</td>\n",
              "      <td>527</td>\n",
              "      <td>527</td>\n",
              "      <td>527</td>\n",
              "      <td>527</td>\n",
              "      <td>527</td>\n",
              "    </tr>\n",
              "    <tr>\n",
              "      <th>SPD_2021_6</th>\n",
              "      <td>205</td>\n",
              "      <td>205</td>\n",
              "      <td>205</td>\n",
              "      <td>205</td>\n",
              "      <td>205</td>\n",
              "      <td>205</td>\n",
              "      <td>205</td>\n",
              "      <td>205</td>\n",
              "      <td>205</td>\n",
              "      <td>205</td>\n",
              "    </tr>\n",
              "    <tr>\n",
              "      <th>SPD_2021_7</th>\n",
              "      <td>171</td>\n",
              "      <td>171</td>\n",
              "      <td>171</td>\n",
              "      <td>171</td>\n",
              "      <td>171</td>\n",
              "      <td>171</td>\n",
              "      <td>171</td>\n",
              "      <td>171</td>\n",
              "      <td>171</td>\n",
              "      <td>171</td>\n",
              "    </tr>\n",
              "  </tbody>\n",
              "</table>\n",
              "<p>245 rows × 10 columns</p>\n",
              "</div>"
            ],
            "text/plain": [
              "                      text  cabinet  code  pos  party  code_extract  \\\n",
              "party_cabinet_domain                                                  \n",
              "CDU/CSU_1998_1          36       36    36   36     36            36   \n",
              "CDU/CSU_1998_2          13       13    13   13     13            13   \n",
              "CDU/CSU_1998_3          59       59    59   59     59            59   \n",
              "CDU/CSU_1998_4         167      167   167  167    167           167   \n",
              "CDU/CSU_1998_5          66       66    66   66     66            66   \n",
              "...                    ...      ...   ...  ...    ...           ...   \n",
              "SPD_2021_3              69       69    69   69     69            69   \n",
              "SPD_2021_4             368      368   368  368    368           368   \n",
              "SPD_2021_5             527      527   527  527    527           527   \n",
              "SPD_2021_6             205      205   205  205    205           205   \n",
              "SPD_2021_7             171      171   171  171    171           171   \n",
              "\n",
              "                      sentiment  domain  party_cabinet_sentiment  \\\n",
              "party_cabinet_domain                                               \n",
              "CDU/CSU_1998_1               36      36                       36   \n",
              "CDU/CSU_1998_2               13      13                       13   \n",
              "CDU/CSU_1998_3               59      59                       59   \n",
              "CDU/CSU_1998_4              167     167                      167   \n",
              "CDU/CSU_1998_5               66      66                       66   \n",
              "...                         ...     ...                      ...   \n",
              "SPD_2021_3                   69      69                       69   \n",
              "SPD_2021_4                  368     368                      368   \n",
              "SPD_2021_5                  527     527                      527   \n",
              "SPD_2021_6                  205     205                      205   \n",
              "SPD_2021_7                  171     171                      171   \n",
              "\n",
              "                      party_cabinet  \n",
              "party_cabinet_domain                 \n",
              "CDU/CSU_1998_1                   36  \n",
              "CDU/CSU_1998_2                   13  \n",
              "CDU/CSU_1998_3                   59  \n",
              "CDU/CSU_1998_4                  167  \n",
              "CDU/CSU_1998_5                   66  \n",
              "...                             ...  \n",
              "SPD_2021_3                       69  \n",
              "SPD_2021_4                      368  \n",
              "SPD_2021_5                      527  \n",
              "SPD_2021_6                      205  \n",
              "SPD_2021_7                      171  \n",
              "\n",
              "[245 rows x 10 columns]"
            ]
          },
          "execution_count": 193,
          "metadata": {},
          "output_type": "execute_result"
        }
      ],
      "source": [
        "manifesto.groupby('party_cabinet_domain').count()"
      ]
    },
    {
      "cell_type": "code",
      "execution_count": 194,
      "metadata": {},
      "outputs": [],
      "source": [
        "texts = manifesto['text'].tolist()"
      ]
    },
    {
      "cell_type": "code",
      "execution_count": 195,
      "metadata": {},
      "outputs": [
        {
          "name": "stdout",
          "output_type": "stream",
          "text": [
            "Mean length (word) is: 14.587871647560297\n",
            "Std length (word) is: 7.451678845266895\n",
            "Min length (word) is: 1\n",
            "Max length (word) is: 91\n"
          ]
        }
      ],
      "source": [
        "from statistics import stdev, mean\n",
        "## Before\n",
        "seq_len = [len(i.split()) for i in texts]\n",
        "seq_len_mean = mean(seq_len)\n",
        "seq_len_std = stdev(seq_len)\n",
        "seq_len_max = max(seq_len)\n",
        "seq_len_min = min(seq_len)\n",
        "print('Mean length (word) is: {}'.format(seq_len_mean))\n",
        "print('Std length (word) is: {}'.format(seq_len_std))\n",
        "print('Min length (word) is: {}'.format(seq_len_min))\n",
        "print('Max length (word) is: {}'.format(seq_len_max))"
      ]
    },
    {
      "cell_type": "code",
      "execution_count": 196,
      "metadata": {},
      "outputs": [
        {
          "name": "stdout",
          "output_type": "stream",
          "text": [
            "0\n",
            "2\n",
            "4\n",
            "6\n",
            "8\n"
          ]
        }
      ],
      "source": [
        "for i in range(0,10,2):\n",
        "    print(i)"
      ]
    },
    {
      "cell_type": "code",
      "execution_count": 197,
      "metadata": {},
      "outputs": [],
      "source": [
        "def group_texts(labels_col, text_col, dataset, group_factor=3):\n",
        "    results = []\n",
        "    labels = dataset[labels_col].tolist()\n",
        "    for label in set(labels):\n",
        "        ls_texts = []\n",
        "        current_label = dataset[dataset[labels_col] == label]\n",
        "        print(f'Length of {label} is: {len(current_label)}')\n",
        "        texts = current_label[text_col].tolist()\n",
        "        total_length = len(texts)\n",
        "        total_length = (total_length//group_factor)*group_factor\n",
        "        for i in range(0,total_length,group_factor):\n",
        "            text_to_append = ' '.join(texts[i:i+group_factor])\n",
        "            ls_texts.append(text_to_append)\n",
        "        result = {\n",
        "            'sentence_text': ls_texts,\n",
        "            'labels': label\n",
        "        }                  \n",
        "        results.append(result)\n",
        "    return(results)   "
      ]
    },
    {
      "cell_type": "code",
      "execution_count": 198,
      "metadata": {},
      "outputs": [
        {
          "name": "stdout",
          "output_type": "stream",
          "text": [
            "Length of FDP_2013_right is: 907\n",
            "Length of CDU/CSU_1998_neutral is: 240\n",
            "Length of PDS/LINKE_2021_neutral is: 2337\n",
            "Length of PDS/LINKE_2009_left is: 546\n",
            "Length of FDP_1998_left is: 264\n",
            "Length of PDS/LINKE_2002_right is: 171\n",
            "Length of PDS/LINKE_1998_right is: 151\n",
            "Length of FDP_2002_neutral is: 927\n",
            "Length of CDU/CSU_2005_left is: 101\n",
            "Length of SPD_2002_neutral is: 743\n",
            "Length of CDU/CSU_2005_neutral is: 368\n",
            "Length of CDU/CSU_2021_neutral is: 1270\n",
            "Length of Greens_2013_left is: 1799\n",
            "Length of PDS/LINKE_2002_left is: 343\n",
            "Length of SPD_2009_right is: 357\n",
            "Length of FDP_2013_left is: 543\n",
            "Length of CDU/CSU_1998_left is: 83\n",
            "Length of SPD_2013_neutral is: 1217\n",
            "Length of SPD_2021_right is: 275\n",
            "Length of SPD_2009_neutral is: 1081\n",
            "Length of PDS/LINKE_2005_left is: 225\n",
            "Length of FDP_2021_right is: 646\n",
            "Length of Greens_2017_right is: 525\n",
            "Length of CDU/CSU_2021_left is: 703\n",
            "Length of PDS/LINKE_2013_right is: 278\n",
            "Length of PDS/LINKE_2002_neutral is: 326\n",
            "Length of Greens_2002_left is: 499\n",
            "Length of FDP_2009_left is: 529\n",
            "Length of PDS/LINKE_1998_neutral is: 361\n",
            "Length of FDP_2005_neutral is: 671\n",
            "Length of Greens_2009_right is: 583\n",
            "Length of FDP_2021_neutral is: 963\n",
            "Length of CDU/CSU_2017_left is: 333\n",
            "Length of Greens_1998_right is: 363\n",
            "Length of SPD_1998_left is: 276\n",
            "Length of CDU/CSU_2005_right is: 300\n",
            "Length of SPD_2013_right is: 511\n",
            "Length of SPD_2013_left is: 1145\n",
            "Length of PDS/LINKE_2017_left is: 1505\n",
            "Length of CDU/CSU_2013_left is: 644\n",
            "Length of SPD_1998_neutral is: 428\n",
            "Length of PDS/LINKE_2009_neutral is: 910\n",
            "Length of SPD_2017_left is: 897\n",
            "Length of CDU/CSU_2009_neutral is: 1026\n",
            "Length of FDP_2017_neutral is: 762\n",
            "Length of SPD_2009_left is: 743\n",
            "Length of SPD_2005_left is: 225\n",
            "Length of CDU/CSU_2013_right is: 720\n",
            "Length of Greens_2021_neutral is: 1961\n",
            "Length of PDS/LINKE_2021_right is: 521\n",
            "Length of Greens_2005_right is: 337\n",
            "Length of Greens_2009_left is: 1038\n",
            "Length of FDP_1998_neutral is: 767\n",
            "Length of FDP_2009_neutral is: 1075\n",
            "Length of FDP_2002_left is: 476\n",
            "Length of FDP_2017_left is: 634\n",
            "Length of Greens_1998_left is: 707\n",
            "Length of PDS/LINKE_1998_left is: 392\n",
            "Length of SPD_2017_neutral is: 1254\n",
            "Length of PDS/LINKE_2017_neutral is: 2134\n",
            "Length of FDP_2002_right is: 568\n",
            "Length of CDU/CSU_2009_right is: 564\n",
            "Length of PDS/LINKE_2005_neutral is: 287\n",
            "Length of PDS/LINKE_2013_neutral is: 1179\n",
            "Length of SPD_2017_right is: 480\n",
            "Length of SPD_2005_neutral is: 448\n",
            "Length of Greens_2005_left is: 528\n",
            "Length of SPD_2021_left is: 665\n",
            "Length of CDU/CSU_2013_neutral is: 1170\n",
            "Length of Greens_2013_neutral is: 2801\n",
            "Length of SPD_2005_right is: 207\n",
            "Length of Greens_2002_right is: 277\n",
            "Length of FDP_2005_left is: 243\n",
            "Length of CDU/CSU_2002_left is: 235\n",
            "Length of FDP_2005_right is: 484\n",
            "Length of Greens_2013_right is: 782\n",
            "Length of Greens_1998_neutral is: 1029\n",
            "Length of Greens_2017_neutral is: 2138\n",
            "Length of FDP_1998_right is: 501\n",
            "Length of SPD_2002_left is: 389\n",
            "Length of PDS/LINKE_2021_left is: 1992\n",
            "Length of CDU/CSU_2002_right is: 509\n",
            "Length of Greens_2005_neutral is: 995\n",
            "Length of PDS/LINKE_2005_right is: 60\n",
            "Length of SPD_2002_right is: 459\n",
            "Length of Greens_2009_neutral is: 1957\n",
            "Length of FDP_2009_right is: 626\n",
            "Length of PDS/LINKE_2013_left is: 996\n",
            "Length of SPD_2021_neutral is: 725\n",
            "Length of Greens_2002_neutral is: 868\n",
            "Length of PDS/LINKE_2009_right is: 204\n",
            "Length of CDU/CSU_1998_right is: 224\n",
            "Length of Greens_2021_right is: 603\n",
            "Length of CDU/CSU_2017_neutral is: 614\n",
            "Length of CDU/CSU_2002_neutral is: 549\n",
            "Length of CDU/CSU_2009_left is: 385\n",
            "Length of SPD_1998_right is: 260\n",
            "Length of FDP_2013_neutral is: 1110\n",
            "Length of FDP_2017_right is: 657\n",
            "Length of CDU/CSU_2021_right is: 802\n",
            "Length of FDP_2021_left is: 630\n",
            "Length of Greens_2021_left is: 1383\n",
            "Length of PDS/LINKE_2017_right is: 287\n",
            "Length of Greens_2017_left is: 1163\n",
            "Length of CDU/CSU_2017_right is: 393\n"
          ]
        }
      ],
      "source": [
        "grouped_lists = group_texts('party_cabinet_sentiment', 'text', manifesto)"
      ]
    },
    {
      "cell_type": "code",
      "execution_count": 199,
      "metadata": {
        "id": "IGPWv2zaXmXf"
      },
      "outputs": [],
      "source": [
        "manifesto_regrouped = pd.DataFrame(grouped_lists)\n",
        "manifesto_regrouped = manifesto_regrouped.explode('sentence_text').reset_index(drop=True)"
      ]
    },
    {
      "cell_type": "code",
      "execution_count": 200,
      "metadata": {},
      "outputs": [
        {
          "data": {
            "text/plain": [
              "'Wir werben um ein starkes Mandat für einen neuen Regierungsauftrag: Für ein Deutschland, in dem wir gut und gerne leben. Damit Angela Merkel Bundeskanzlerin unseres Landes bleibt. Daher rufen wir alle Wählerinnen und Wähler auf: Geben Sie bei der Bundestagswahl am 24. September beide Stimmen CDU und CSU.'"
            ]
          },
          "execution_count": 200,
          "metadata": {},
          "output_type": "execute_result"
        }
      ],
      "source": [
        "manifesto_regrouped['sentence_text'].tolist()[-1]"
      ]
    },
    {
      "cell_type": "code",
      "execution_count": 201,
      "metadata": {},
      "outputs": [
        {
          "data": {
            "text/html": [
              "<div>\n",
              "<style scoped>\n",
              "    .dataframe tbody tr th:only-of-type {\n",
              "        vertical-align: middle;\n",
              "    }\n",
              "\n",
              "    .dataframe tbody tr th {\n",
              "        vertical-align: top;\n",
              "    }\n",
              "\n",
              "    .dataframe thead th {\n",
              "        text-align: right;\n",
              "    }\n",
              "</style>\n",
              "<table border=\"1\" class=\"dataframe\">\n",
              "  <thead>\n",
              "    <tr style=\"text-align: right;\">\n",
              "      <th></th>\n",
              "      <th>sentence_text</th>\n",
              "      <th>labels</th>\n",
              "    </tr>\n",
              "  </thead>\n",
              "  <tbody>\n",
              "    <tr>\n",
              "      <th>0</th>\n",
              "      <td>Deutschland ist auf einem guten Weg. Trotz der...</td>\n",
              "      <td>FDP_2013_right</td>\n",
              "    </tr>\n",
              "    <tr>\n",
              "      <th>1</th>\n",
              "      <td>Dafür haben wir uns vier Jahre lang in der chr...</td>\n",
              "      <td>FDP_2013_right</td>\n",
              "    </tr>\n",
              "    <tr>\n",
              "      <th>2</th>\n",
              "      <td>Wir haben den Staatshaushalt in Ordnung gebrac...</td>\n",
              "      <td>FDP_2013_right</td>\n",
              "    </tr>\n",
              "    <tr>\n",
              "      <th>3</th>\n",
              "      <td>Wir haben neue Subventionen verhindert und Sta...</td>\n",
              "      <td>FDP_2013_right</td>\n",
              "    </tr>\n",
              "    <tr>\n",
              "      <th>4</th>\n",
              "      <td>Sicheres Geld. Solide Haushalte. Und starke, f...</td>\n",
              "      <td>FDP_2013_right</td>\n",
              "    </tr>\n",
              "    <tr>\n",
              "      <th>...</th>\n",
              "      <td>...</td>\n",
              "      <td>...</td>\n",
              "    </tr>\n",
              "    <tr>\n",
              "      <th>25143</th>\n",
              "      <td>Wir werden deshalb auch künftig die Arbeit der...</td>\n",
              "      <td>CDU/CSU_2017_right</td>\n",
              "    </tr>\n",
              "    <tr>\n",
              "      <th>25144</th>\n",
              "      <td>Moscheen, in denen Hass und Gewalt gepredigt w...</td>\n",
              "      <td>CDU/CSU_2017_right</td>\n",
              "    </tr>\n",
              "    <tr>\n",
              "      <th>25145</th>\n",
              "      <td>CDU und CSU wollen weiter Verantwortung für De...</td>\n",
              "      <td>CDU/CSU_2017_right</td>\n",
              "    </tr>\n",
              "    <tr>\n",
              "      <th>25146</th>\n",
              "      <td>Sie verlangen unser mutiges und vorausschauend...</td>\n",
              "      <td>CDU/CSU_2017_right</td>\n",
              "    </tr>\n",
              "    <tr>\n",
              "      <th>25147</th>\n",
              "      <td>Wir werben um ein starkes Mandat für einen neu...</td>\n",
              "      <td>CDU/CSU_2017_right</td>\n",
              "    </tr>\n",
              "  </tbody>\n",
              "</table>\n",
              "<p>25148 rows × 2 columns</p>\n",
              "</div>"
            ],
            "text/plain": [
              "                                           sentence_text              labels\n",
              "0      Deutschland ist auf einem guten Weg. Trotz der...      FDP_2013_right\n",
              "1      Dafür haben wir uns vier Jahre lang in der chr...      FDP_2013_right\n",
              "2      Wir haben den Staatshaushalt in Ordnung gebrac...      FDP_2013_right\n",
              "3      Wir haben neue Subventionen verhindert und Sta...      FDP_2013_right\n",
              "4      Sicheres Geld. Solide Haushalte. Und starke, f...      FDP_2013_right\n",
              "...                                                  ...                 ...\n",
              "25143  Wir werden deshalb auch künftig die Arbeit der...  CDU/CSU_2017_right\n",
              "25144  Moscheen, in denen Hass und Gewalt gepredigt w...  CDU/CSU_2017_right\n",
              "25145  CDU und CSU wollen weiter Verantwortung für De...  CDU/CSU_2017_right\n",
              "25146  Sie verlangen unser mutiges und vorausschauend...  CDU/CSU_2017_right\n",
              "25147  Wir werben um ein starkes Mandat für einen neu...  CDU/CSU_2017_right\n",
              "\n",
              "[25148 rows x 2 columns]"
            ]
          },
          "execution_count": 201,
          "metadata": {},
          "output_type": "execute_result"
        }
      ],
      "source": [
        "manifesto_regrouped"
      ]
    },
    {
      "cell_type": "code",
      "execution_count": 202,
      "metadata": {},
      "outputs": [
        {
          "data": {
            "text/html": [
              "<div>\n",
              "<style scoped>\n",
              "    .dataframe tbody tr th:only-of-type {\n",
              "        vertical-align: middle;\n",
              "    }\n",
              "\n",
              "    .dataframe tbody tr th {\n",
              "        vertical-align: top;\n",
              "    }\n",
              "\n",
              "    .dataframe thead th {\n",
              "        text-align: right;\n",
              "    }\n",
              "</style>\n",
              "<table border=\"1\" class=\"dataframe\">\n",
              "  <thead>\n",
              "    <tr style=\"text-align: right;\">\n",
              "      <th></th>\n",
              "      <th>sentence_text</th>\n",
              "    </tr>\n",
              "    <tr>\n",
              "      <th>labels</th>\n",
              "      <th></th>\n",
              "    </tr>\n",
              "  </thead>\n",
              "  <tbody>\n",
              "    <tr>\n",
              "      <th>CDU/CSU_1998_left</th>\n",
              "      <td>27</td>\n",
              "    </tr>\n",
              "    <tr>\n",
              "      <th>CDU/CSU_1998_neutral</th>\n",
              "      <td>80</td>\n",
              "    </tr>\n",
              "    <tr>\n",
              "      <th>CDU/CSU_1998_right</th>\n",
              "      <td>74</td>\n",
              "    </tr>\n",
              "    <tr>\n",
              "      <th>CDU/CSU_2002_left</th>\n",
              "      <td>78</td>\n",
              "    </tr>\n",
              "    <tr>\n",
              "      <th>CDU/CSU_2002_neutral</th>\n",
              "      <td>183</td>\n",
              "    </tr>\n",
              "    <tr>\n",
              "      <th>...</th>\n",
              "      <td>...</td>\n",
              "    </tr>\n",
              "    <tr>\n",
              "      <th>SPD_2017_neutral</th>\n",
              "      <td>418</td>\n",
              "    </tr>\n",
              "    <tr>\n",
              "      <th>SPD_2017_right</th>\n",
              "      <td>160</td>\n",
              "    </tr>\n",
              "    <tr>\n",
              "      <th>SPD_2021_left</th>\n",
              "      <td>221</td>\n",
              "    </tr>\n",
              "    <tr>\n",
              "      <th>SPD_2021_neutral</th>\n",
              "      <td>241</td>\n",
              "    </tr>\n",
              "    <tr>\n",
              "      <th>SPD_2021_right</th>\n",
              "      <td>91</td>\n",
              "    </tr>\n",
              "  </tbody>\n",
              "</table>\n",
              "<p>105 rows × 1 columns</p>\n",
              "</div>"
            ],
            "text/plain": [
              "                      sentence_text\n",
              "labels                             \n",
              "CDU/CSU_1998_left                27\n",
              "CDU/CSU_1998_neutral             80\n",
              "CDU/CSU_1998_right               74\n",
              "CDU/CSU_2002_left                78\n",
              "CDU/CSU_2002_neutral            183\n",
              "...                             ...\n",
              "SPD_2017_neutral                418\n",
              "SPD_2017_right                  160\n",
              "SPD_2021_left                   221\n",
              "SPD_2021_neutral                241\n",
              "SPD_2021_right                   91\n",
              "\n",
              "[105 rows x 1 columns]"
            ]
          },
          "execution_count": 202,
          "metadata": {},
          "output_type": "execute_result"
        }
      ],
      "source": [
        "manifesto_regrouped.groupby('labels').count()"
      ]
    },
    {
      "cell_type": "code",
      "execution_count": 203,
      "metadata": {},
      "outputs": [],
      "source": [
        "df_cols = manifesto_regrouped['labels'].str.split('_', expand=True)\n",
        "manifesto_regrouped = pd.concat([manifesto_regrouped, df_cols], axis=1)"
      ]
    },
    {
      "cell_type": "code",
      "execution_count": 204,
      "metadata": {},
      "outputs": [],
      "source": [
        "manifesto_regrouped.columns = ['sentence_text', 'party_cabinet_sentiment', 'party', 'cabinet','sentiment']"
      ]
    },
    {
      "cell_type": "code",
      "execution_count": 205,
      "metadata": {},
      "outputs": [
        {
          "data": {
            "text/html": [
              "<div>\n",
              "<style scoped>\n",
              "    .dataframe tbody tr th:only-of-type {\n",
              "        vertical-align: middle;\n",
              "    }\n",
              "\n",
              "    .dataframe tbody tr th {\n",
              "        vertical-align: top;\n",
              "    }\n",
              "\n",
              "    .dataframe thead th {\n",
              "        text-align: right;\n",
              "    }\n",
              "</style>\n",
              "<table border=\"1\" class=\"dataframe\">\n",
              "  <thead>\n",
              "    <tr style=\"text-align: right;\">\n",
              "      <th></th>\n",
              "      <th>sentence_text</th>\n",
              "      <th>party_cabinet_sentiment</th>\n",
              "      <th>party</th>\n",
              "      <th>cabinet</th>\n",
              "      <th>sentiment</th>\n",
              "      <th>party_cabinet</th>\n",
              "    </tr>\n",
              "  </thead>\n",
              "  <tbody>\n",
              "    <tr>\n",
              "      <th>0</th>\n",
              "      <td>Deutschland ist auf einem guten Weg. Trotz der...</td>\n",
              "      <td>FDP_2013_right</td>\n",
              "      <td>FDP</td>\n",
              "      <td>2013</td>\n",
              "      <td>right</td>\n",
              "      <td>FDP_2013</td>\n",
              "    </tr>\n",
              "    <tr>\n",
              "      <th>1</th>\n",
              "      <td>Dafür haben wir uns vier Jahre lang in der chr...</td>\n",
              "      <td>FDP_2013_right</td>\n",
              "      <td>FDP</td>\n",
              "      <td>2013</td>\n",
              "      <td>right</td>\n",
              "      <td>FDP_2013</td>\n",
              "    </tr>\n",
              "    <tr>\n",
              "      <th>2</th>\n",
              "      <td>Wir haben den Staatshaushalt in Ordnung gebrac...</td>\n",
              "      <td>FDP_2013_right</td>\n",
              "      <td>FDP</td>\n",
              "      <td>2013</td>\n",
              "      <td>right</td>\n",
              "      <td>FDP_2013</td>\n",
              "    </tr>\n",
              "    <tr>\n",
              "      <th>3</th>\n",
              "      <td>Wir haben neue Subventionen verhindert und Sta...</td>\n",
              "      <td>FDP_2013_right</td>\n",
              "      <td>FDP</td>\n",
              "      <td>2013</td>\n",
              "      <td>right</td>\n",
              "      <td>FDP_2013</td>\n",
              "    </tr>\n",
              "    <tr>\n",
              "      <th>4</th>\n",
              "      <td>Sicheres Geld. Solide Haushalte. Und starke, f...</td>\n",
              "      <td>FDP_2013_right</td>\n",
              "      <td>FDP</td>\n",
              "      <td>2013</td>\n",
              "      <td>right</td>\n",
              "      <td>FDP_2013</td>\n",
              "    </tr>\n",
              "    <tr>\n",
              "      <th>...</th>\n",
              "      <td>...</td>\n",
              "      <td>...</td>\n",
              "      <td>...</td>\n",
              "      <td>...</td>\n",
              "      <td>...</td>\n",
              "      <td>...</td>\n",
              "    </tr>\n",
              "    <tr>\n",
              "      <th>25143</th>\n",
              "      <td>Wir werden deshalb auch künftig die Arbeit der...</td>\n",
              "      <td>CDU/CSU_2017_right</td>\n",
              "      <td>CDU/CSU</td>\n",
              "      <td>2017</td>\n",
              "      <td>right</td>\n",
              "      <td>CDU/CSU_2017</td>\n",
              "    </tr>\n",
              "    <tr>\n",
              "      <th>25144</th>\n",
              "      <td>Moscheen, in denen Hass und Gewalt gepredigt w...</td>\n",
              "      <td>CDU/CSU_2017_right</td>\n",
              "      <td>CDU/CSU</td>\n",
              "      <td>2017</td>\n",
              "      <td>right</td>\n",
              "      <td>CDU/CSU_2017</td>\n",
              "    </tr>\n",
              "    <tr>\n",
              "      <th>25145</th>\n",
              "      <td>CDU und CSU wollen weiter Verantwortung für De...</td>\n",
              "      <td>CDU/CSU_2017_right</td>\n",
              "      <td>CDU/CSU</td>\n",
              "      <td>2017</td>\n",
              "      <td>right</td>\n",
              "      <td>CDU/CSU_2017</td>\n",
              "    </tr>\n",
              "    <tr>\n",
              "      <th>25146</th>\n",
              "      <td>Sie verlangen unser mutiges und vorausschauend...</td>\n",
              "      <td>CDU/CSU_2017_right</td>\n",
              "      <td>CDU/CSU</td>\n",
              "      <td>2017</td>\n",
              "      <td>right</td>\n",
              "      <td>CDU/CSU_2017</td>\n",
              "    </tr>\n",
              "    <tr>\n",
              "      <th>25147</th>\n",
              "      <td>Wir werben um ein starkes Mandat für einen neu...</td>\n",
              "      <td>CDU/CSU_2017_right</td>\n",
              "      <td>CDU/CSU</td>\n",
              "      <td>2017</td>\n",
              "      <td>right</td>\n",
              "      <td>CDU/CSU_2017</td>\n",
              "    </tr>\n",
              "  </tbody>\n",
              "</table>\n",
              "<p>25148 rows × 6 columns</p>\n",
              "</div>"
            ],
            "text/plain": [
              "                                           sentence_text  \\\n",
              "0      Deutschland ist auf einem guten Weg. Trotz der...   \n",
              "1      Dafür haben wir uns vier Jahre lang in der chr...   \n",
              "2      Wir haben den Staatshaushalt in Ordnung gebrac...   \n",
              "3      Wir haben neue Subventionen verhindert und Sta...   \n",
              "4      Sicheres Geld. Solide Haushalte. Und starke, f...   \n",
              "...                                                  ...   \n",
              "25143  Wir werden deshalb auch künftig die Arbeit der...   \n",
              "25144  Moscheen, in denen Hass und Gewalt gepredigt w...   \n",
              "25145  CDU und CSU wollen weiter Verantwortung für De...   \n",
              "25146  Sie verlangen unser mutiges und vorausschauend...   \n",
              "25147  Wir werben um ein starkes Mandat für einen neu...   \n",
              "\n",
              "      party_cabinet_sentiment    party cabinet sentiment party_cabinet  \n",
              "0              FDP_2013_right      FDP    2013     right      FDP_2013  \n",
              "1              FDP_2013_right      FDP    2013     right      FDP_2013  \n",
              "2              FDP_2013_right      FDP    2013     right      FDP_2013  \n",
              "3              FDP_2013_right      FDP    2013     right      FDP_2013  \n",
              "4              FDP_2013_right      FDP    2013     right      FDP_2013  \n",
              "...                       ...      ...     ...       ...           ...  \n",
              "25143      CDU/CSU_2017_right  CDU/CSU    2017     right  CDU/CSU_2017  \n",
              "25144      CDU/CSU_2017_right  CDU/CSU    2017     right  CDU/CSU_2017  \n",
              "25145      CDU/CSU_2017_right  CDU/CSU    2017     right  CDU/CSU_2017  \n",
              "25146      CDU/CSU_2017_right  CDU/CSU    2017     right  CDU/CSU_2017  \n",
              "25147      CDU/CSU_2017_right  CDU/CSU    2017     right  CDU/CSU_2017  \n",
              "\n",
              "[25148 rows x 6 columns]"
            ]
          },
          "execution_count": 205,
          "metadata": {},
          "output_type": "execute_result"
        }
      ],
      "source": [
        "manifesto_regrouped['party_cabinet'] = manifesto_regrouped.party.str.cat(others=[manifesto_regrouped.cabinet], sep='_')\n",
        "manifesto_regrouped"
      ]
    },
    {
      "cell_type": "code",
      "execution_count": 206,
      "metadata": {},
      "outputs": [
        {
          "data": {
            "text/plain": [
              "38"
            ]
          },
          "execution_count": 206,
          "metadata": {},
          "output_type": "execute_result"
        }
      ],
      "source": [
        "texts = manifesto_regrouped['sentence_text'].tolist()\n",
        "len(texts[1].split())"
      ]
    },
    {
      "cell_type": "code",
      "execution_count": 207,
      "metadata": {},
      "outputs": [
        {
          "data": {
            "text/plain": [
              "43.775727692062986"
            ]
          },
          "execution_count": 207,
          "metadata": {},
          "output_type": "execute_result"
        }
      ],
      "source": [
        "mean([len(text.split()) for text in texts])"
      ]
    },
    {
      "attachments": {},
      "cell_type": "markdown",
      "metadata": {},
      "source": [
        "# Proxy task: sentiment classification"
      ]
    },
    {
      "attachments": {},
      "cell_type": "markdown",
      "metadata": {},
      "source": [
        "## BERT"
      ]
    },
    {
      "cell_type": "code",
      "execution_count": 264,
      "metadata": {},
      "outputs": [
        {
          "name": "stderr",
          "output_type": "stream",
          "text": [
            "loading configuration file https://huggingface.co/deepset/gbert-base/resolve/main/config.json from cache at C:\\Users\\Hung/.cache\\huggingface\\transformers\\0f9d6c73cd85ab98cecc6866492c84f23e72bbaf2240a24da0e5d5e3b8810707.080f0bd0794ab07ca509487675f6cb88cfbdc04fc142b21be92212223e82cb14\n",
            "Model config BertConfig {\n",
            "  \"_name_or_path\": \"deepset/gbert-base\",\n",
            "  \"architectures\": [\n",
            "    \"BertForMaskedLM\"\n",
            "  ],\n",
            "  \"attention_probs_dropout_prob\": 0.1,\n",
            "  \"classifier_dropout\": null,\n",
            "  \"hidden_act\": \"gelu\",\n",
            "  \"hidden_dropout_prob\": 0.1,\n",
            "  \"hidden_size\": 768,\n",
            "  \"initializer_range\": 0.02,\n",
            "  \"intermediate_size\": 3072,\n",
            "  \"layer_norm_eps\": 1e-12,\n",
            "  \"max_position_embeddings\": 512,\n",
            "  \"model_type\": \"bert\",\n",
            "  \"num_attention_heads\": 12,\n",
            "  \"num_hidden_layers\": 12,\n",
            "  \"pad_token_id\": 0,\n",
            "  \"position_embedding_type\": \"absolute\",\n",
            "  \"transformers_version\": \"4.21.2\",\n",
            "  \"type_vocab_size\": 2,\n",
            "  \"use_cache\": true,\n",
            "  \"vocab_size\": 31102\n",
            "}\n",
            "\n",
            "loading file https://huggingface.co/deepset/gbert-base/resolve/main/vocab.txt from cache at C:\\Users\\Hung/.cache\\huggingface\\transformers\\8ea73f36ba0a7840155009d5895ebcf32d0e295b0fdb3f3da5b2037fdd43e64f.4d65bbd3b91f2762e9d2c779d48ab14052439d3fcc8c3d2fe78c7322a9ac8d64\n",
            "loading file https://huggingface.co/deepset/gbert-base/resolve/main/tokenizer.json from cache at None\n",
            "loading file https://huggingface.co/deepset/gbert-base/resolve/main/added_tokens.json from cache at None\n",
            "loading file https://huggingface.co/deepset/gbert-base/resolve/main/special_tokens_map.json from cache at None\n",
            "loading file https://huggingface.co/deepset/gbert-base/resolve/main/tokenizer_config.json from cache at C:\\Users\\Hung/.cache\\huggingface\\transformers\\25eaa3f6fbca0d53a3bb60ceb2c51cda618ab0c2b76aee3c9b9f7ffc5bf13b5b.bd85f6a0d9c2848260fdda7056a557a7fa213a57b5ed27b530abd20572c0cbf4\n",
            "loading configuration file https://huggingface.co/deepset/gbert-base/resolve/main/config.json from cache at C:\\Users\\Hung/.cache\\huggingface\\transformers\\0f9d6c73cd85ab98cecc6866492c84f23e72bbaf2240a24da0e5d5e3b8810707.080f0bd0794ab07ca509487675f6cb88cfbdc04fc142b21be92212223e82cb14\n",
            "Model config BertConfig {\n",
            "  \"_name_or_path\": \"deepset/gbert-base\",\n",
            "  \"architectures\": [\n",
            "    \"BertForMaskedLM\"\n",
            "  ],\n",
            "  \"attention_probs_dropout_prob\": 0.1,\n",
            "  \"classifier_dropout\": null,\n",
            "  \"hidden_act\": \"gelu\",\n",
            "  \"hidden_dropout_prob\": 0.1,\n",
            "  \"hidden_size\": 768,\n",
            "  \"initializer_range\": 0.02,\n",
            "  \"intermediate_size\": 3072,\n",
            "  \"layer_norm_eps\": 1e-12,\n",
            "  \"max_position_embeddings\": 512,\n",
            "  \"model_type\": \"bert\",\n",
            "  \"num_attention_heads\": 12,\n",
            "  \"num_hidden_layers\": 12,\n",
            "  \"pad_token_id\": 0,\n",
            "  \"position_embedding_type\": \"absolute\",\n",
            "  \"transformers_version\": \"4.21.2\",\n",
            "  \"type_vocab_size\": 2,\n",
            "  \"use_cache\": true,\n",
            "  \"vocab_size\": 31102\n",
            "}\n",
            "\n",
            "loading configuration file https://huggingface.co/deepset/gbert-base/resolve/main/config.json from cache at C:\\Users\\Hung/.cache\\huggingface\\transformers\\0f9d6c73cd85ab98cecc6866492c84f23e72bbaf2240a24da0e5d5e3b8810707.080f0bd0794ab07ca509487675f6cb88cfbdc04fc142b21be92212223e82cb14\n",
            "Model config BertConfig {\n",
            "  \"_name_or_path\": \"deepset/gbert-base\",\n",
            "  \"architectures\": [\n",
            "    \"BertForMaskedLM\"\n",
            "  ],\n",
            "  \"attention_probs_dropout_prob\": 0.1,\n",
            "  \"classifier_dropout\": null,\n",
            "  \"hidden_act\": \"gelu\",\n",
            "  \"hidden_dropout_prob\": 0.1,\n",
            "  \"hidden_size\": 768,\n",
            "  \"initializer_range\": 0.02,\n",
            "  \"intermediate_size\": 3072,\n",
            "  \"layer_norm_eps\": 1e-12,\n",
            "  \"max_position_embeddings\": 512,\n",
            "  \"model_type\": \"bert\",\n",
            "  \"num_attention_heads\": 12,\n",
            "  \"num_hidden_layers\": 12,\n",
            "  \"pad_token_id\": 0,\n",
            "  \"position_embedding_type\": \"absolute\",\n",
            "  \"transformers_version\": \"4.21.2\",\n",
            "  \"type_vocab_size\": 2,\n",
            "  \"use_cache\": true,\n",
            "  \"vocab_size\": 31102\n",
            "}\n",
            "\n"
          ]
        }
      ],
      "source": [
        "bert_model = 'results/bert/bert_mlm/checkpoint-1887/'\n",
        "tokenizer = AutoTokenizer.from_pretrained('deepset/gbert-base')\n",
        "data_collator = DataCollatorWithPadding(tokenizer=tokenizer)"
      ]
    },
    {
      "cell_type": "code",
      "execution_count": 209,
      "metadata": {
        "id": "qqQoXunHXmXg"
      },
      "outputs": [
        {
          "data": {
            "application/vnd.jupyter.widget-view+json": {
              "model_id": "3dd47605d63148fb9a2353d230dcbd42",
              "version_major": 2,
              "version_minor": 0
            },
            "text/plain": [
              "Casting to class labels:   0%|          | 0/26 [00:00<?, ?ba/s]"
            ]
          },
          "metadata": {},
          "output_type": "display_data"
        }
      ],
      "source": [
        "manifesto_dataset = Dataset.from_pandas(manifesto_regrouped)\n",
        "manifesto_dataset = manifesto_dataset.class_encode_column('sentiment')\n",
        "manifesto_dataset = manifesto_dataset.rename_column('sentiment','labels')\n"
      ]
    },
    {
      "cell_type": "code",
      "execution_count": 210,
      "metadata": {},
      "outputs": [],
      "source": [
        "train_test = manifesto_dataset.train_test_split(test_size=0.2, stratify_by_column='labels', seed = seed_val)\n",
        "train_valid = train_test['train'].train_test_split(test_size=0.25, stratify_by_column='labels', seed = seed_val)"
      ]
    },
    {
      "cell_type": "code",
      "execution_count": 211,
      "metadata": {},
      "outputs": [
        {
          "data": {
            "text/plain": [
              "DatasetDict({\n",
              "    train: Dataset({\n",
              "        features: ['sentence_text', 'party_cabinet_sentiment', 'party', 'cabinet', 'labels', 'party_cabinet'],\n",
              "        num_rows: 15088\n",
              "    })\n",
              "    test: Dataset({\n",
              "        features: ['sentence_text', 'party_cabinet_sentiment', 'party', 'cabinet', 'labels', 'party_cabinet'],\n",
              "        num_rows: 5030\n",
              "    })\n",
              "    valid: Dataset({\n",
              "        features: ['sentence_text', 'party_cabinet_sentiment', 'party', 'cabinet', 'labels', 'party_cabinet'],\n",
              "        num_rows: 5030\n",
              "    })\n",
              "})"
            ]
          },
          "execution_count": 211,
          "metadata": {},
          "output_type": "execute_result"
        }
      ],
      "source": [
        "manifesto_datasets = DatasetDict({\n",
        "    'train': train_valid['train'],\n",
        "    'test': train_test['test'],\n",
        "    'valid': train_valid['test']\n",
        "})\n",
        "manifesto_datasets"
      ]
    },
    {
      "cell_type": "code",
      "execution_count": 212,
      "metadata": {},
      "outputs": [],
      "source": [
        "def tokenize_function(dataset):\n",
        "    return tokenizer(dataset['sentence_text'], truncation=True, max_length=300)\n"
      ]
    },
    {
      "cell_type": "code",
      "execution_count": 213,
      "metadata": {},
      "outputs": [
        {
          "data": {
            "text/plain": [
              "ClassLabel(names=['left', 'neutral', 'right'], id=None)"
            ]
          },
          "execution_count": 213,
          "metadata": {},
          "output_type": "execute_result"
        }
      ],
      "source": [
        "manifesto_dataset.features['labels']"
      ]
    },
    {
      "cell_type": "code",
      "execution_count": 214,
      "metadata": {},
      "outputs": [
        {
          "data": {
            "application/vnd.jupyter.widget-view+json": {
              "model_id": "66127674e6b040eba0d4efe825443378",
              "version_major": 2,
              "version_minor": 0
            },
            "text/plain": [
              "  0%|          | 0/16 [00:00<?, ?ba/s]"
            ]
          },
          "metadata": {},
          "output_type": "display_data"
        },
        {
          "data": {
            "application/vnd.jupyter.widget-view+json": {
              "model_id": "b5e1e36a966d47b1b25690a90e3e626c",
              "version_major": 2,
              "version_minor": 0
            },
            "text/plain": [
              "  0%|          | 0/6 [00:00<?, ?ba/s]"
            ]
          },
          "metadata": {},
          "output_type": "display_data"
        },
        {
          "data": {
            "application/vnd.jupyter.widget-view+json": {
              "model_id": "617289db4cbd46e8a56944b70d775230",
              "version_major": 2,
              "version_minor": 0
            },
            "text/plain": [
              "  0%|          | 0/6 [00:00<?, ?ba/s]"
            ]
          },
          "metadata": {},
          "output_type": "display_data"
        }
      ],
      "source": [
        "tokenized_datasets = manifesto_datasets.map(tokenize_function, batched=True,\n",
        "remove_columns=['sentence_text','cabinet','party','party_cabinet_sentiment','party_cabinet'])"
      ]
    },
    {
      "cell_type": "code",
      "execution_count": 215,
      "metadata": {},
      "outputs": [
        {
          "data": {
            "text/plain": [
              "['labels', 'input_ids', 'token_type_ids', 'attention_mask']"
            ]
          },
          "execution_count": 215,
          "metadata": {},
          "output_type": "execute_result"
        }
      ],
      "source": [
        "tokenized_datasets.set_format(\"torch\")\n",
        "tokenized_datasets[\"train\"].column_names"
      ]
    },
    {
      "cell_type": "code",
      "execution_count": 265,
      "metadata": {},
      "outputs": [
        {
          "name": "stderr",
          "output_type": "stream",
          "text": [
            "loading configuration file results/bert/bert_mlm/checkpoint-1887/config.json\n",
            "Model config BertConfig {\n",
            "  \"_name_or_path\": \"results/bert/bert_mlm/checkpoint-1887/\",\n",
            "  \"architectures\": [\n",
            "    \"BertForMaskedLM\"\n",
            "  ],\n",
            "  \"attention_probs_dropout_prob\": 0.1,\n",
            "  \"classifier_dropout\": null,\n",
            "  \"hidden_act\": \"gelu\",\n",
            "  \"hidden_dropout_prob\": 0.1,\n",
            "  \"hidden_size\": 768,\n",
            "  \"id2label\": {\n",
            "    \"0\": \"LABEL_0\",\n",
            "    \"1\": \"LABEL_1\",\n",
            "    \"2\": \"LABEL_2\"\n",
            "  },\n",
            "  \"initializer_range\": 0.02,\n",
            "  \"intermediate_size\": 3072,\n",
            "  \"label2id\": {\n",
            "    \"LABEL_0\": 0,\n",
            "    \"LABEL_1\": 1,\n",
            "    \"LABEL_2\": 2\n",
            "  },\n",
            "  \"layer_norm_eps\": 1e-12,\n",
            "  \"max_position_embeddings\": 512,\n",
            "  \"model_type\": \"bert\",\n",
            "  \"num_attention_heads\": 12,\n",
            "  \"num_hidden_layers\": 12,\n",
            "  \"pad_token_id\": 0,\n",
            "  \"position_embedding_type\": \"absolute\",\n",
            "  \"torch_dtype\": \"float32\",\n",
            "  \"transformers_version\": \"4.21.2\",\n",
            "  \"type_vocab_size\": 2,\n",
            "  \"use_cache\": true,\n",
            "  \"vocab_size\": 31102\n",
            "}\n",
            "\n",
            "loading weights file results/bert/bert_mlm/checkpoint-1887/pytorch_model.bin\n",
            "Some weights of the model checkpoint at results/bert/bert_mlm/checkpoint-1887/ were not used when initializing BertForSequenceClassification: ['cls.predictions.decoder.bias', 'cls.predictions.decoder.weight', 'cls.predictions.transform.LayerNorm.bias', 'cls.predictions.bias', 'cls.predictions.transform.LayerNorm.weight', 'cls.predictions.transform.dense.bias', 'cls.predictions.transform.dense.weight']\n",
            "- This IS expected if you are initializing BertForSequenceClassification from the checkpoint of a model trained on another task or with another architecture (e.g. initializing a BertForSequenceClassification model from a BertForPreTraining model).\n",
            "- This IS NOT expected if you are initializing BertForSequenceClassification from the checkpoint of a model that you expect to be exactly identical (initializing a BertForSequenceClassification model from a BertForSequenceClassification model).\n",
            "Some weights of BertForSequenceClassification were not initialized from the model checkpoint at results/bert/bert_mlm/checkpoint-1887/ and are newly initialized: ['bert.pooler.dense.weight', 'bert.pooler.dense.bias', 'classifier.bias', 'classifier.weight']\n",
            "You should probably TRAIN this model on a down-stream task to be able to use it for predictions and inference.\n"
          ]
        }
      ],
      "source": [
        "num_classes = len(set(manifesto['sentiment']))\n",
        "model = AutoModelForSequenceClassification.from_pretrained(bert_model, num_labels=num_classes).to(device)\n"
      ]
    },
    {
      "cell_type": "code",
      "execution_count": 266,
      "metadata": {},
      "outputs": [
        {
          "name": "stderr",
          "output_type": "stream",
          "text": [
            "PyTorch: setting up devices\n",
            "The default value for the training argument `--report_to` will change in v5 (from all installed integrations to none). In v5, you will need to use `--report_to all` to get the same behavior as now. You should start updating your code and make this info disappear :-).\n"
          ]
        }
      ],
      "source": [
        "batch_size = 32\n",
        "training_args = TrainingArguments(\n",
        "    output_dir=\"results/bert/bert_3class_std\",\n",
        "    overwrite_output_dir=True,\n",
        "    evaluation_strategy=\"epoch\",\n",
        "    learning_rate=3e-5,\n",
        "    weight_decay=0.01,\n",
        "    per_device_train_batch_size=batch_size,\n",
        "    per_device_eval_batch_size=batch_size,\n",
        "    fp16=True,\n",
        "    logging_steps=50,\n",
        "    num_train_epochs = 3,\n",
        "    save_strategy='epoch',\n",
        "    load_best_model_at_end=True,\n",
        "    optim='adamw_torch'\n",
        ")"
      ]
    },
    {
      "cell_type": "code",
      "execution_count": 267,
      "metadata": {},
      "outputs": [
        {
          "name": "stderr",
          "output_type": "stream",
          "text": [
            "Using cuda_amp half precision backend\n"
          ]
        }
      ],
      "source": [
        "def compute_metrics(eval_preds):\n",
        "    logits, labels = eval_preds\n",
        "    predictions = np.argmax(logits, axis=-1)\n",
        "    precision, recall, f1, _ = precision_recall_fscore_support(labels, predictions, average=None)\n",
        "    matrix = confusion_matrix(labels, predictions)\n",
        "    acc = matrix.diagonal()/matrix.sum(axis=1)\n",
        "    return {\n",
        "        'precision': precision.tolist(),\n",
        "        'recall': recall.tolist(),\n",
        "        'f1': f1.tolist(),\n",
        "        'accuracy': acc.tolist()\n",
        "    }\n",
        "trainer = Trainer(\n",
        "    model,\n",
        "    training_args,\n",
        "    train_dataset=tokenized_datasets[\"train\"],\n",
        "    eval_dataset=tokenized_datasets[\"valid\"],\n",
        "    data_collator=data_collator,\n",
        "    tokenizer=tokenizer,\n",
        "    compute_metrics=compute_metrics\n",
        ")"
      ]
    },
    {
      "cell_type": "code",
      "execution_count": 268,
      "metadata": {},
      "outputs": [
        {
          "name": "stderr",
          "output_type": "stream",
          "text": [
            "***** Running training *****\n",
            "  Num examples = 15088\n",
            "  Num Epochs = 3\n",
            "  Instantaneous batch size per device = 32\n",
            "  Total train batch size (w. parallel, distributed & accumulation) = 32\n",
            "  Gradient Accumulation steps = 1\n",
            "  Total optimization steps = 1416\n"
          ]
        },
        {
          "data": {
            "application/vnd.jupyter.widget-view+json": {
              "model_id": "3351e375be494d8480832d19528b3fcf",
              "version_major": 2,
              "version_minor": 0
            },
            "text/plain": [
              "  0%|          | 0/1416 [00:00<?, ?it/s]"
            ]
          },
          "metadata": {},
          "output_type": "display_data"
        },
        {
          "name": "stdout",
          "output_type": "stream",
          "text": [
            "{'loss': 0.9423, 'learning_rate': 2.8961864406779665e-05, 'epoch': 0.11}\n",
            "{'loss': 0.7651, 'learning_rate': 2.7902542372881356e-05, 'epoch': 0.21}\n",
            "{'loss': 0.6462, 'learning_rate': 2.6843220338983052e-05, 'epoch': 0.32}\n",
            "{'loss': 0.5912, 'learning_rate': 2.5783898305084747e-05, 'epoch': 0.42}\n",
            "{'loss': 0.5972, 'learning_rate': 2.4724576271186443e-05, 'epoch': 0.53}\n",
            "{'loss': 0.5622, 'learning_rate': 2.3665254237288138e-05, 'epoch': 0.64}\n",
            "{'loss': 0.56, 'learning_rate': 2.260593220338983e-05, 'epoch': 0.74}\n",
            "{'loss': 0.5497, 'learning_rate': 2.1546610169491525e-05, 'epoch': 0.85}\n",
            "{'loss': 0.5187, 'learning_rate': 2.048728813559322e-05, 'epoch': 0.95}\n"
          ]
        },
        {
          "name": "stderr",
          "output_type": "stream",
          "text": [
            "***** Running Evaluation *****\n",
            "  Num examples = 5030\n",
            "  Batch size = 32\n"
          ]
        },
        {
          "data": {
            "application/vnd.jupyter.widget-view+json": {
              "model_id": "fa950a367da24ab9bbb8a60f4f9baaf1",
              "version_major": 2,
              "version_minor": 0
            },
            "text/plain": [
              "  0%|          | 0/158 [00:00<?, ?it/s]"
            ]
          },
          "metadata": {},
          "output_type": "display_data"
        },
        {
          "name": "stderr",
          "output_type": "stream",
          "text": [
            "Trainer is attempting to log a value of \"[0.7065511640498106, 0.8741126360624705, 0.7214953271028037]\" of type <class 'list'> for key \"eval/precision\" as a scalar. This invocation of Tensorboard's writer.add_scalar() is incorrect so we dropped this attribute.\n",
            "Trainer is attempting to log a value of \"[0.842479018721756, 0.7557283142389526, 0.7444551591128254]\" of type <class 'list'> for key \"eval/recall\" as a scalar. This invocation of Tensorboard's writer.add_scalar() is incorrect so we dropped this attribute.\n",
            "Trainer is attempting to log a value of \"[0.7685512367491167, 0.8106210226025895, 0.7327954437588989]\" of type <class 'list'> for key \"eval/f1\" as a scalar. This invocation of Tensorboard's writer.add_scalar() is incorrect so we dropped this attribute.\n",
            "Trainer is attempting to log a value of \"[0.842479018721756, 0.7557283142389526, 0.7444551591128254]\" of type <class 'list'> for key \"eval/accuracy\" as a scalar. This invocation of Tensorboard's writer.add_scalar() is incorrect so we dropped this attribute.\n",
            "Saving model checkpoint to results/bert/bert_3class_std\\checkpoint-472\n",
            "Configuration saved in results/bert/bert_3class_std\\checkpoint-472\\config.json\n"
          ]
        },
        {
          "name": "stdout",
          "output_type": "stream",
          "text": [
            "{'eval_loss': 0.5311241149902344, 'eval_precision': [0.7065511640498106, 0.8741126360624705, 0.7214953271028037], 'eval_recall': [0.842479018721756, 0.7557283142389526, 0.7444551591128254], 'eval_f1': [0.7685512367491167, 0.8106210226025895, 0.7327954437588989], 'eval_accuracy': [0.842479018721756, 0.7557283142389526, 0.7444551591128254], 'eval_runtime': 5.1658, 'eval_samples_per_second': 973.721, 'eval_steps_per_second': 30.586, 'epoch': 1.0}\n"
          ]
        },
        {
          "name": "stderr",
          "output_type": "stream",
          "text": [
            "Model weights saved in results/bert/bert_3class_std\\checkpoint-472\\pytorch_model.bin\n",
            "tokenizer config file saved in results/bert/bert_3class_std\\checkpoint-472\\tokenizer_config.json\n",
            "Special tokens file saved in results/bert/bert_3class_std\\checkpoint-472\\special_tokens_map.json\n"
          ]
        },
        {
          "name": "stdout",
          "output_type": "stream",
          "text": [
            "{'loss': 0.4856, 'learning_rate': 1.9427966101694916e-05, 'epoch': 1.06}\n",
            "{'loss': 0.3686, 'learning_rate': 1.836864406779661e-05, 'epoch': 1.17}\n",
            "{'loss': 0.3943, 'learning_rate': 1.733050847457627e-05, 'epoch': 1.27}\n",
            "{'loss': 0.3999, 'learning_rate': 1.6271186440677967e-05, 'epoch': 1.38}\n",
            "{'loss': 0.3866, 'learning_rate': 1.5211864406779662e-05, 'epoch': 1.48}\n",
            "{'loss': 0.3775, 'learning_rate': 1.4152542372881356e-05, 'epoch': 1.59}\n",
            "{'loss': 0.363, 'learning_rate': 1.3093220338983051e-05, 'epoch': 1.69}\n",
            "{'loss': 0.3052, 'learning_rate': 1.2033898305084747e-05, 'epoch': 1.8}\n",
            "{'loss': 0.3666, 'learning_rate': 1.097457627118644e-05, 'epoch': 1.91}\n"
          ]
        },
        {
          "name": "stderr",
          "output_type": "stream",
          "text": [
            "***** Running Evaluation *****\n",
            "  Num examples = 5030\n",
            "  Batch size = 32\n"
          ]
        },
        {
          "data": {
            "application/vnd.jupyter.widget-view+json": {
              "model_id": "fd1963c2a2874a2a83044bbe4830bf90",
              "version_major": 2,
              "version_minor": 0
            },
            "text/plain": [
              "  0%|          | 0/158 [00:00<?, ?it/s]"
            ]
          },
          "metadata": {},
          "output_type": "display_data"
        },
        {
          "name": "stderr",
          "output_type": "stream",
          "text": [
            "Trainer is attempting to log a value of \"[0.817477096546864, 0.8353730754046585, 0.7625231910946196]\" of type <class 'list'> for key \"eval/precision\" as a scalar. This invocation of Tensorboard's writer.add_scalar() is incorrect so we dropped this attribute.\n",
            "Trainer is attempting to log a value of \"[0.7488702388637831, 0.8657937806873978, 0.7926711668273867]\" of type <class 'list'> for key \"eval/recall\" as a scalar. This invocation of Tensorboard's writer.add_scalar() is incorrect so we dropped this attribute.\n",
            "Trainer is attempting to log a value of \"[0.7816711590296496, 0.8503114325899136, 0.777304964539007]\" of type <class 'list'> for key \"eval/f1\" as a scalar. This invocation of Tensorboard's writer.add_scalar() is incorrect so we dropped this attribute.\n",
            "Trainer is attempting to log a value of \"[0.7488702388637831, 0.8657937806873978, 0.7926711668273867]\" of type <class 'list'> for key \"eval/accuracy\" as a scalar. This invocation of Tensorboard's writer.add_scalar() is incorrect so we dropped this attribute.\n",
            "Saving model checkpoint to results/bert/bert_3class_std\\checkpoint-944\n",
            "Configuration saved in results/bert/bert_3class_std\\checkpoint-944\\config.json\n"
          ]
        },
        {
          "name": "stdout",
          "output_type": "stream",
          "text": [
            "{'eval_loss': 0.5007196068763733, 'eval_precision': [0.817477096546864, 0.8353730754046585, 0.7625231910946196], 'eval_recall': [0.7488702388637831, 0.8657937806873978, 0.7926711668273867], 'eval_f1': [0.7816711590296496, 0.8503114325899136, 0.777304964539007], 'eval_accuracy': [0.7488702388637831, 0.8657937806873978, 0.7926711668273867], 'eval_runtime': 5.7871, 'eval_samples_per_second': 869.173, 'eval_steps_per_second': 27.302, 'epoch': 2.0}\n"
          ]
        },
        {
          "name": "stderr",
          "output_type": "stream",
          "text": [
            "Model weights saved in results/bert/bert_3class_std\\checkpoint-944\\pytorch_model.bin\n",
            "tokenizer config file saved in results/bert/bert_3class_std\\checkpoint-944\\tokenizer_config.json\n",
            "Special tokens file saved in results/bert/bert_3class_std\\checkpoint-944\\special_tokens_map.json\n"
          ]
        },
        {
          "name": "stdout",
          "output_type": "stream",
          "text": [
            "{'loss': 0.3627, 'learning_rate': 9.915254237288136e-06, 'epoch': 2.01}\n",
            "{'loss': 0.2221, 'learning_rate': 8.855932203389831e-06, 'epoch': 2.12}\n",
            "{'loss': 0.1861, 'learning_rate': 7.796610169491525e-06, 'epoch': 2.22}\n",
            "{'loss': 0.2512, 'learning_rate': 6.737288135593221e-06, 'epoch': 2.33}\n",
            "{'loss': 0.2074, 'learning_rate': 5.677966101694915e-06, 'epoch': 2.44}\n",
            "{'loss': 0.2527, 'learning_rate': 4.61864406779661e-06, 'epoch': 2.54}\n",
            "{'loss': 0.1999, 'learning_rate': 3.5593220338983053e-06, 'epoch': 2.65}\n",
            "{'loss': 0.1986, 'learning_rate': 2.4999999999999998e-06, 'epoch': 2.75}\n",
            "{'loss': 0.2142, 'learning_rate': 1.440677966101695e-06, 'epoch': 2.86}\n",
            "{'loss': 0.1884, 'learning_rate': 3.8135593220338985e-07, 'epoch': 2.97}\n"
          ]
        },
        {
          "name": "stderr",
          "output_type": "stream",
          "text": [
            "***** Running Evaluation *****\n",
            "  Num examples = 5030\n",
            "  Batch size = 32\n"
          ]
        },
        {
          "data": {
            "application/vnd.jupyter.widget-view+json": {
              "model_id": "88db86ec93df4bd58ad8aa1750a362fc",
              "version_major": 2,
              "version_minor": 0
            },
            "text/plain": [
              "  0%|          | 0/158 [00:00<?, ?it/s]"
            ]
          },
          "metadata": {},
          "output_type": "display_data"
        },
        {
          "name": "stderr",
          "output_type": "stream",
          "text": [
            "Trainer is attempting to log a value of \"[0.8013289036544851, 0.8424218123496391, 0.7720659553831232]\" of type <class 'list'> for key \"eval/precision\" as a scalar. This invocation of Tensorboard's writer.add_scalar() is incorrect so we dropped this attribute.\n",
            "Trainer is attempting to log a value of \"[0.7785668173014848, 0.8596563011456628, 0.7675988428158148]\" of type <class 'list'> for key \"eval/recall\" as a scalar. This invocation of Tensorboard's writer.add_scalar() is incorrect so we dropped this attribute.\n",
            "Trainer is attempting to log a value of \"[0.7897838899803536, 0.8509518023491293, 0.769825918762089]\" of type <class 'list'> for key \"eval/f1\" as a scalar. This invocation of Tensorboard's writer.add_scalar() is incorrect so we dropped this attribute.\n",
            "Trainer is attempting to log a value of \"[0.7785668173014848, 0.8596563011456628, 0.7675988428158148]\" of type <class 'list'> for key \"eval/accuracy\" as a scalar. This invocation of Tensorboard's writer.add_scalar() is incorrect so we dropped this attribute.\n",
            "Saving model checkpoint to results/bert/bert_3class_std\\checkpoint-1416\n",
            "Configuration saved in results/bert/bert_3class_std\\checkpoint-1416\\config.json\n"
          ]
        },
        {
          "name": "stdout",
          "output_type": "stream",
          "text": [
            "{'eval_loss': 0.5623244643211365, 'eval_precision': [0.8013289036544851, 0.8424218123496391, 0.7720659553831232], 'eval_recall': [0.7785668173014848, 0.8596563011456628, 0.7675988428158148], 'eval_f1': [0.7897838899803536, 0.8509518023491293, 0.769825918762089], 'eval_accuracy': [0.7785668173014848, 0.8596563011456628, 0.7675988428158148], 'eval_runtime': 5.2482, 'eval_samples_per_second': 958.424, 'eval_steps_per_second': 30.106, 'epoch': 3.0}\n"
          ]
        },
        {
          "name": "stderr",
          "output_type": "stream",
          "text": [
            "Model weights saved in results/bert/bert_3class_std\\checkpoint-1416\\pytorch_model.bin\n",
            "tokenizer config file saved in results/bert/bert_3class_std\\checkpoint-1416\\tokenizer_config.json\n",
            "Special tokens file saved in results/bert/bert_3class_std\\checkpoint-1416\\special_tokens_map.json\n",
            "\n",
            "\n",
            "Training completed. Do not forget to share your model on huggingface.co/models =)\n",
            "\n",
            "\n",
            "Loading best model from results/bert/bert_3class_std\\checkpoint-944 (score: 0.5007196068763733).\n"
          ]
        },
        {
          "name": "stdout",
          "output_type": "stream",
          "text": [
            "{'train_runtime': 194.0493, 'train_samples_per_second': 233.26, 'train_steps_per_second': 7.297, 'train_loss': 0.4071221654698, 'epoch': 3.0}\n"
          ]
        },
        {
          "data": {
            "text/plain": [
              "TrainOutput(global_step=1416, training_loss=0.4071221654698, metrics={'train_runtime': 194.0493, 'train_samples_per_second': 233.26, 'train_steps_per_second': 7.297, 'train_loss': 0.4071221654698, 'epoch': 3.0})"
            ]
          },
          "execution_count": 268,
          "metadata": {},
          "output_type": "execute_result"
        }
      ],
      "source": [
        "trainer.train()"
      ]
    },
    {
      "cell_type": "code",
      "execution_count": 269,
      "metadata": {},
      "outputs": [
        {
          "name": "stderr",
          "output_type": "stream",
          "text": [
            "***** Running Evaluation *****\n",
            "  Num examples = 5030\n",
            "  Batch size = 32\n"
          ]
        },
        {
          "data": {
            "application/vnd.jupyter.widget-view+json": {
              "model_id": "6d993d6cdbe94c4ea0bcd15e9341432e",
              "version_major": 2,
              "version_minor": 0
            },
            "text/plain": [
              "  0%|          | 0/158 [00:00<?, ?it/s]"
            ]
          },
          "metadata": {},
          "output_type": "display_data"
        },
        {
          "name": "stderr",
          "output_type": "stream",
          "text": [
            "Trainer is attempting to log a value of \"[0.832468495181616, 0.8094876660341556, 0.754302103250478]\" of type <class 'list'> for key \"eval/precision\" as a scalar. This invocation of Tensorboard's writer.add_scalar() is incorrect so we dropped this attribute.\n",
            "Trainer is attempting to log a value of \"[0.725452196382429, 0.8727495908346972, 0.7601156069364162]\" of type <class 'list'> for key \"eval/recall\" as a scalar. This invocation of Tensorboard's writer.add_scalar() is incorrect so we dropped this attribute.\n",
            "Trainer is attempting to log a value of \"[0.7752847773558855, 0.8399291199054932, 0.7571976967370442]\" of type <class 'list'> for key \"eval/f1\" as a scalar. This invocation of Tensorboard's writer.add_scalar() is incorrect so we dropped this attribute.\n",
            "Trainer is attempting to log a value of \"[0.725452196382429, 0.8727495908346972, 0.7601156069364162]\" of type <class 'list'> for key \"eval/accuracy\" as a scalar. This invocation of Tensorboard's writer.add_scalar() is incorrect so we dropped this attribute.\n"
          ]
        },
        {
          "name": "stdout",
          "output_type": "stream",
          "text": [
            "0.7908038646661409\n"
          ]
        }
      ],
      "source": [
        "res = trainer.evaluate(tokenized_datasets['test'])\n",
        "print(sum(res['eval_f1'])/num_classes)"
      ]
    },
    {
      "cell_type": "code",
      "execution_count": 270,
      "metadata": {},
      "outputs": [
        {
          "data": {
            "text/html": [
              "<div>\n",
              "<style scoped>\n",
              "    .dataframe tbody tr th:only-of-type {\n",
              "        vertical-align: middle;\n",
              "    }\n",
              "\n",
              "    .dataframe tbody tr th {\n",
              "        vertical-align: top;\n",
              "    }\n",
              "\n",
              "    .dataframe thead th {\n",
              "        text-align: right;\n",
              "    }\n",
              "</style>\n",
              "<table border=\"1\" class=\"dataframe\">\n",
              "  <thead>\n",
              "    <tr style=\"text-align: right;\">\n",
              "      <th></th>\n",
              "      <th>f1</th>\n",
              "      <th>precision</th>\n",
              "      <th>recall</th>\n",
              "      <th>accuracy</th>\n",
              "    </tr>\n",
              "  </thead>\n",
              "  <tbody>\n",
              "    <tr>\n",
              "      <th>0</th>\n",
              "      <td>0.78</td>\n",
              "      <td>0.83</td>\n",
              "      <td>0.73</td>\n",
              "      <td>0.73</td>\n",
              "    </tr>\n",
              "    <tr>\n",
              "      <th>1</th>\n",
              "      <td>0.84</td>\n",
              "      <td>0.81</td>\n",
              "      <td>0.87</td>\n",
              "      <td>0.87</td>\n",
              "    </tr>\n",
              "    <tr>\n",
              "      <th>2</th>\n",
              "      <td>0.76</td>\n",
              "      <td>0.75</td>\n",
              "      <td>0.76</td>\n",
              "      <td>0.76</td>\n",
              "    </tr>\n",
              "  </tbody>\n",
              "</table>\n",
              "</div>"
            ],
            "text/plain": [
              "     f1  precision  recall  accuracy\n",
              "0  0.78       0.83    0.73      0.73\n",
              "1  0.84       0.81    0.87      0.87\n",
              "2  0.76       0.75    0.76      0.76"
            ]
          },
          "execution_count": 270,
          "metadata": {},
          "output_type": "execute_result"
        }
      ],
      "source": [
        "res_table = pd.DataFrame({'f1': np.round(res['eval_f1'],2), 'precision': np.round(res['eval_precision'],2), \n",
        "'recall': np.round(res['eval_recall'],2), 'accuracy': np.round(res['eval_accuracy'],2)})\n",
        "res_table"
      ]
    },
    {
      "cell_type": "code",
      "execution_count": 278,
      "metadata": {},
      "outputs": [
        {
          "data": {
            "text/plain": [
              "f1           0.79\n",
              "precision    0.80\n",
              "recall       0.79\n",
              "accuracy     0.79\n",
              "dtype: float64"
            ]
          },
          "execution_count": 278,
          "metadata": {},
          "output_type": "execute_result"
        }
      ],
      "source": [
        "round(res_table.mean(axis=0),2)"
      ]
    },
    {
      "cell_type": "markdown",
      "metadata": {},
      "source": [
        "## Bag-of-words with TF-IDF"
      ]
    },
    {
      "cell_type": "code",
      "execution_count": 280,
      "metadata": {},
      "outputs": [],
      "source": [
        "## Preprocessing for bag-of-words and word2vec models is a little different (pre-trained)\n",
        "## Tokenizer - use gensim's tokenizer \n",
        "def clean_text(text, stopwords):\n",
        "    custom_filters = [lambda x: x.lower(), strip_tags, strip_punctuation, strip_numeric, strip_multiple_whitespaces]\n",
        "    text = preprocess_string(text, custom_filters)\n",
        "    tokens = [w for w in text if w not in stopwords]\n",
        "    return ' '.join(tokens)\n"
      ]
    },
    {
      "cell_type": "code",
      "execution_count": 281,
      "metadata": {},
      "outputs": [
        {
          "name": "stdout",
          "output_type": "stream",
          "text": [
            "Cleaning the 0th sentence\n",
            "Cleaning the 1000th sentence\n",
            "Cleaning the 2000th sentence\n",
            "Cleaning the 3000th sentence\n",
            "Cleaning the 4000th sentence\n",
            "Cleaning the 5000th sentence\n",
            "Cleaning the 6000th sentence\n",
            "Cleaning the 7000th sentence\n",
            "Cleaning the 8000th sentence\n",
            "Cleaning the 9000th sentence\n",
            "Cleaning the 10000th sentence\n",
            "Cleaning the 11000th sentence\n",
            "Cleaning the 12000th sentence\n",
            "Cleaning the 13000th sentence\n",
            "Cleaning the 14000th sentence\n",
            "Cleaning the 15000th sentence\n",
            "Cleaning the 16000th sentence\n",
            "Cleaning the 17000th sentence\n",
            "Cleaning the 18000th sentence\n",
            "Cleaning the 19000th sentence\n",
            "Cleaning the 20000th sentence\n",
            "Cleaning the 21000th sentence\n",
            "Cleaning the 22000th sentence\n",
            "Cleaning the 23000th sentence\n",
            "Cleaning the 24000th sentence\n",
            "Cleaning the 25000th sentence\n"
          ]
        }
      ],
      "source": [
        "outputs = []\n",
        "for idx, text in enumerate(manifesto_regrouped['sentence_text']):\n",
        "    if idx % 1000 ==0:\n",
        "        print(f'Cleaning the {idx}th sentence')\n",
        "    outputs.append(clean_text(text, stopwords.words('german')))"
      ]
    },
    {
      "cell_type": "code",
      "execution_count": 224,
      "metadata": {},
      "outputs": [
        {
          "data": {
            "text/html": [
              "<div>\n",
              "<style scoped>\n",
              "    .dataframe tbody tr th:only-of-type {\n",
              "        vertical-align: middle;\n",
              "    }\n",
              "\n",
              "    .dataframe tbody tr th {\n",
              "        vertical-align: top;\n",
              "    }\n",
              "\n",
              "    .dataframe thead th {\n",
              "        text-align: right;\n",
              "    }\n",
              "</style>\n",
              "<table border=\"1\" class=\"dataframe\">\n",
              "  <thead>\n",
              "    <tr style=\"text-align: right;\">\n",
              "      <th></th>\n",
              "      <th>sentence_text</th>\n",
              "      <th>party_cabinet_sentiment</th>\n",
              "      <th>party</th>\n",
              "      <th>cabinet</th>\n",
              "      <th>sentiment</th>\n",
              "      <th>party_cabinet</th>\n",
              "    </tr>\n",
              "  </thead>\n",
              "  <tbody>\n",
              "    <tr>\n",
              "      <th>0</th>\n",
              "      <td>Deutschland ist auf einem guten Weg. Trotz der...</td>\n",
              "      <td>FDP_2013_right</td>\n",
              "      <td>FDP</td>\n",
              "      <td>2013</td>\n",
              "      <td>right</td>\n",
              "      <td>FDP_2013</td>\n",
              "    </tr>\n",
              "    <tr>\n",
              "      <th>1</th>\n",
              "      <td>Dafür haben wir uns vier Jahre lang in der chr...</td>\n",
              "      <td>FDP_2013_right</td>\n",
              "      <td>FDP</td>\n",
              "      <td>2013</td>\n",
              "      <td>right</td>\n",
              "      <td>FDP_2013</td>\n",
              "    </tr>\n",
              "    <tr>\n",
              "      <th>2</th>\n",
              "      <td>Wir haben den Staatshaushalt in Ordnung gebrac...</td>\n",
              "      <td>FDP_2013_right</td>\n",
              "      <td>FDP</td>\n",
              "      <td>2013</td>\n",
              "      <td>right</td>\n",
              "      <td>FDP_2013</td>\n",
              "    </tr>\n",
              "    <tr>\n",
              "      <th>3</th>\n",
              "      <td>Wir haben neue Subventionen verhindert und Sta...</td>\n",
              "      <td>FDP_2013_right</td>\n",
              "      <td>FDP</td>\n",
              "      <td>2013</td>\n",
              "      <td>right</td>\n",
              "      <td>FDP_2013</td>\n",
              "    </tr>\n",
              "    <tr>\n",
              "      <th>4</th>\n",
              "      <td>Sicheres Geld. Solide Haushalte. Und starke, f...</td>\n",
              "      <td>FDP_2013_right</td>\n",
              "      <td>FDP</td>\n",
              "      <td>2013</td>\n",
              "      <td>right</td>\n",
              "      <td>FDP_2013</td>\n",
              "    </tr>\n",
              "    <tr>\n",
              "      <th>...</th>\n",
              "      <td>...</td>\n",
              "      <td>...</td>\n",
              "      <td>...</td>\n",
              "      <td>...</td>\n",
              "      <td>...</td>\n",
              "      <td>...</td>\n",
              "    </tr>\n",
              "    <tr>\n",
              "      <th>25143</th>\n",
              "      <td>Wir werden deshalb auch künftig die Arbeit der...</td>\n",
              "      <td>CDU/CSU_2017_right</td>\n",
              "      <td>CDU/CSU</td>\n",
              "      <td>2017</td>\n",
              "      <td>right</td>\n",
              "      <td>CDU/CSU_2017</td>\n",
              "    </tr>\n",
              "    <tr>\n",
              "      <th>25144</th>\n",
              "      <td>Moscheen, in denen Hass und Gewalt gepredigt w...</td>\n",
              "      <td>CDU/CSU_2017_right</td>\n",
              "      <td>CDU/CSU</td>\n",
              "      <td>2017</td>\n",
              "      <td>right</td>\n",
              "      <td>CDU/CSU_2017</td>\n",
              "    </tr>\n",
              "    <tr>\n",
              "      <th>25145</th>\n",
              "      <td>CDU und CSU wollen weiter Verantwortung für De...</td>\n",
              "      <td>CDU/CSU_2017_right</td>\n",
              "      <td>CDU/CSU</td>\n",
              "      <td>2017</td>\n",
              "      <td>right</td>\n",
              "      <td>CDU/CSU_2017</td>\n",
              "    </tr>\n",
              "    <tr>\n",
              "      <th>25146</th>\n",
              "      <td>Sie verlangen unser mutiges und vorausschauend...</td>\n",
              "      <td>CDU/CSU_2017_right</td>\n",
              "      <td>CDU/CSU</td>\n",
              "      <td>2017</td>\n",
              "      <td>right</td>\n",
              "      <td>CDU/CSU_2017</td>\n",
              "    </tr>\n",
              "    <tr>\n",
              "      <th>25147</th>\n",
              "      <td>Wir werben um ein starkes Mandat für einen neu...</td>\n",
              "      <td>CDU/CSU_2017_right</td>\n",
              "      <td>CDU/CSU</td>\n",
              "      <td>2017</td>\n",
              "      <td>right</td>\n",
              "      <td>CDU/CSU_2017</td>\n",
              "    </tr>\n",
              "  </tbody>\n",
              "</table>\n",
              "<p>25148 rows × 6 columns</p>\n",
              "</div>"
            ],
            "text/plain": [
              "                                           sentence_text  \\\n",
              "0      Deutschland ist auf einem guten Weg. Trotz der...   \n",
              "1      Dafür haben wir uns vier Jahre lang in der chr...   \n",
              "2      Wir haben den Staatshaushalt in Ordnung gebrac...   \n",
              "3      Wir haben neue Subventionen verhindert und Sta...   \n",
              "4      Sicheres Geld. Solide Haushalte. Und starke, f...   \n",
              "...                                                  ...   \n",
              "25143  Wir werden deshalb auch künftig die Arbeit der...   \n",
              "25144  Moscheen, in denen Hass und Gewalt gepredigt w...   \n",
              "25145  CDU und CSU wollen weiter Verantwortung für De...   \n",
              "25146  Sie verlangen unser mutiges und vorausschauend...   \n",
              "25147  Wir werben um ein starkes Mandat für einen neu...   \n",
              "\n",
              "      party_cabinet_sentiment    party cabinet sentiment party_cabinet  \n",
              "0              FDP_2013_right      FDP    2013     right      FDP_2013  \n",
              "1              FDP_2013_right      FDP    2013     right      FDP_2013  \n",
              "2              FDP_2013_right      FDP    2013     right      FDP_2013  \n",
              "3              FDP_2013_right      FDP    2013     right      FDP_2013  \n",
              "4              FDP_2013_right      FDP    2013     right      FDP_2013  \n",
              "...                       ...      ...     ...       ...           ...  \n",
              "25143      CDU/CSU_2017_right  CDU/CSU    2017     right  CDU/CSU_2017  \n",
              "25144      CDU/CSU_2017_right  CDU/CSU    2017     right  CDU/CSU_2017  \n",
              "25145      CDU/CSU_2017_right  CDU/CSU    2017     right  CDU/CSU_2017  \n",
              "25146      CDU/CSU_2017_right  CDU/CSU    2017     right  CDU/CSU_2017  \n",
              "25147      CDU/CSU_2017_right  CDU/CSU    2017     right  CDU/CSU_2017  \n",
              "\n",
              "[25148 rows x 6 columns]"
            ]
          },
          "execution_count": 224,
          "metadata": {},
          "output_type": "execute_result"
        }
      ],
      "source": [
        "manifesto_regrouped"
      ]
    },
    {
      "cell_type": "code",
      "execution_count": 282,
      "metadata": {},
      "outputs": [],
      "source": [
        "manifesto_regrouped['text_cleaned'] = outputs"
      ]
    },
    {
      "cell_type": "code",
      "execution_count": 283,
      "metadata": {},
      "outputs": [
        {
          "data": {
            "text/plain": [
              "'Deutschland ist auf einem guten Weg. Trotz der schweren Krise in Europa. Und es ist ein Verdienst liberaler Politik, weil mehr Menschen die Freiheit dazu haben, ihre Träume zu verfolgen und ihren eigenen Weg zu gehen.'"
            ]
          },
          "execution_count": 283,
          "metadata": {},
          "output_type": "execute_result"
        }
      ],
      "source": [
        "## Before\n",
        "manifesto_regrouped.loc[0,'sentence_text']"
      ]
    },
    {
      "cell_type": "code",
      "execution_count": 227,
      "metadata": {},
      "outputs": [
        {
          "data": {
            "text/plain": [
              "'deutschland guten trotz schweren krise europa verdienst liberaler politik mehr menschen freiheit träume verfolgen eigenen gehen'"
            ]
          },
          "execution_count": 227,
          "metadata": {},
          "output_type": "execute_result"
        }
      ],
      "source": [
        "## After\n",
        "outputs[0]"
      ]
    },
    {
      "cell_type": "code",
      "execution_count": 284,
      "metadata": {},
      "outputs": [],
      "source": [
        "df_train, df_test = train_test_split(manifesto_regrouped, test_size=0.2, stratify = manifesto_regrouped['sentiment'],random_state=seed_val)\n",
        "df_train, df_eval = train_test_split(df_train, test_size=0.25, stratify = df_train['sentiment'], random_state=seed_val)\n",
        "enc = OrdinalEncoder()\n",
        "\n",
        "df_train['labels'] = enc.fit_transform(np.array(df_train['sentiment'].tolist()).reshape(-1,1))\n",
        "df_test['labels'] = enc.fit_transform(np.array(df_test['sentiment'].tolist()).reshape(-1,1))\n",
        "df_eval['labels'] = enc.fit_transform(np.array(df_eval['sentiment'].tolist()).reshape(-1,1))\n",
        "\n",
        "df_train = df_train.reset_index(drop=True)\n",
        "df_eval = df_eval.reset_index(drop=True)\n",
        "df_test = df_test.reset_index(drop=True)\n",
        "\n"
      ]
    },
    {
      "cell_type": "code",
      "execution_count": 285,
      "metadata": {},
      "outputs": [],
      "source": [
        "y_train = np.array(df_train['labels'])\n",
        "y_eval = np.array(df_eval['labels'])\n",
        "y_test = np.array(df_test['labels'])"
      ]
    },
    {
      "cell_type": "code",
      "execution_count": 286,
      "metadata": {},
      "outputs": [],
      "source": [
        "vectorizer = feature_extraction.text.TfidfVectorizer(max_features=10000, ngram_range=(1,2))"
      ]
    },
    {
      "cell_type": "code",
      "execution_count": 287,
      "metadata": {},
      "outputs": [],
      "source": [
        "corp_train = df_train['sentence_text'].tolist()\n",
        "vectorizer.fit(corp_train)\n",
        "X_train = vectorizer.transform(corp_train)\n",
        "dic_vocabulary = vectorizer.vocabulary_"
      ]
    },
    {
      "cell_type": "code",
      "execution_count": 288,
      "metadata": {},
      "outputs": [],
      "source": [
        "classifier = naive_bayes.MultinomialNB()"
      ]
    },
    {
      "cell_type": "code",
      "execution_count": 289,
      "metadata": {},
      "outputs": [],
      "source": [
        "## pipeline\n",
        "model = pipeline.Pipeline([(\"vectorizer\", vectorizer),  \n",
        "                           (\"classifier\", classifier)])\n",
        "## train classifier\n",
        "model[\"classifier\"].fit(X_train, y_train)\n",
        "## test\n",
        "X_test = df_test[\"sentence_text\"].tolist()\n",
        "predicted = model.predict(X_test)\n",
        "predicted_prob = model.predict_proba(X_test)"
      ]
    },
    {
      "cell_type": "code",
      "execution_count": 290,
      "metadata": {},
      "outputs": [],
      "source": [
        "precision, recall, f1, _ = precision_recall_fscore_support(y_test, predicted, average=None)\n",
        "matrix = confusion_matrix(y_test, predicted)\n",
        "accuracy = matrix.diagonal()/matrix.sum(axis=1)"
      ]
    },
    {
      "cell_type": "code",
      "execution_count": 291,
      "metadata": {},
      "outputs": [
        {
          "data": {
            "text/html": [
              "<div>\n",
              "<style scoped>\n",
              "    .dataframe tbody tr th:only-of-type {\n",
              "        vertical-align: middle;\n",
              "    }\n",
              "\n",
              "    .dataframe tbody tr th {\n",
              "        vertical-align: top;\n",
              "    }\n",
              "\n",
              "    .dataframe thead th {\n",
              "        text-align: right;\n",
              "    }\n",
              "</style>\n",
              "<table border=\"1\" class=\"dataframe\">\n",
              "  <thead>\n",
              "    <tr style=\"text-align: right;\">\n",
              "      <th></th>\n",
              "      <th>f1</th>\n",
              "      <th>precision</th>\n",
              "      <th>recall</th>\n",
              "      <th>accuracy</th>\n",
              "    </tr>\n",
              "  </thead>\n",
              "  <tbody>\n",
              "    <tr>\n",
              "      <th>0</th>\n",
              "      <td>0.62</td>\n",
              "      <td>0.74</td>\n",
              "      <td>0.53</td>\n",
              "      <td>0.53</td>\n",
              "    </tr>\n",
              "    <tr>\n",
              "      <th>1</th>\n",
              "      <td>0.75</td>\n",
              "      <td>0.64</td>\n",
              "      <td>0.92</td>\n",
              "      <td>0.92</td>\n",
              "    </tr>\n",
              "    <tr>\n",
              "      <th>2</th>\n",
              "      <td>0.47</td>\n",
              "      <td>0.81</td>\n",
              "      <td>0.33</td>\n",
              "      <td>0.33</td>\n",
              "    </tr>\n",
              "  </tbody>\n",
              "</table>\n",
              "</div>"
            ],
            "text/plain": [
              "     f1  precision  recall  accuracy\n",
              "0  0.62       0.74    0.53      0.53\n",
              "1  0.75       0.64    0.92      0.92\n",
              "2  0.47       0.81    0.33      0.33"
            ]
          },
          "execution_count": 291,
          "metadata": {},
          "output_type": "execute_result"
        }
      ],
      "source": [
        "res_table = pd.DataFrame({'f1': np.round(f1,2), 'precision': np.round(precision,2), \n",
        "'recall': np.round(recall,2), 'accuracy': np.round(accuracy,2)})\n",
        "res_table"
      ]
    },
    {
      "cell_type": "code",
      "execution_count": 292,
      "metadata": {},
      "outputs": [
        {
          "data": {
            "text/plain": [
              "f1           0.61\n",
              "precision    0.73\n",
              "recall       0.59\n",
              "accuracy     0.59\n",
              "dtype: float64"
            ]
          },
          "execution_count": 292,
          "metadata": {},
          "output_type": "execute_result"
        }
      ],
      "source": [
        "round(res_table.mean(axis=0),2)"
      ]
    },
    {
      "cell_type": "markdown",
      "metadata": {},
      "source": [
        "## Doc2Vec\n"
      ]
    },
    {
      "cell_type": "code",
      "execution_count": 236,
      "metadata": {},
      "outputs": [
        {
          "name": "stdout",
          "output_type": "stream",
          "text": [
            "Cleaning the 1th sentence\n",
            "Cleaning the 101th sentence\n",
            "Cleaning the 201th sentence\n",
            "Cleaning the 301th sentence\n",
            "Cleaning the 401th sentence\n",
            "Cleaning the 501th sentence\n",
            "Cleaning the 601th sentence\n",
            "Cleaning the 701th sentence\n",
            "Cleaning the 801th sentence\n",
            "Cleaning the 901th sentence\n",
            "Cleaning the 1001th sentence\n",
            "Cleaning the 1101th sentence\n",
            "Cleaning the 1201th sentence\n",
            "Cleaning the 1301th sentence\n",
            "Cleaning the 1401th sentence\n",
            "Cleaning the 1501th sentence\n",
            "Cleaning the 1601th sentence\n",
            "Cleaning the 1701th sentence\n",
            "Cleaning the 1801th sentence\n",
            "Cleaning the 1901th sentence\n",
            "Cleaning the 2001th sentence\n",
            "Cleaning the 2101th sentence\n",
            "Cleaning the 2201th sentence\n",
            "Cleaning the 2301th sentence\n",
            "Cleaning the 2401th sentence\n",
            "Cleaning the 2501th sentence\n",
            "Cleaning the 2601th sentence\n",
            "Cleaning the 2701th sentence\n",
            "Cleaning the 2801th sentence\n",
            "Cleaning the 2901th sentence\n",
            "Cleaning the 3001th sentence\n",
            "Cleaning the 3101th sentence\n",
            "Cleaning the 3201th sentence\n",
            "Cleaning the 3301th sentence\n",
            "Cleaning the 3401th sentence\n",
            "Cleaning the 3501th sentence\n",
            "Cleaning the 3601th sentence\n",
            "Cleaning the 3701th sentence\n",
            "Cleaning the 3801th sentence\n",
            "Cleaning the 3901th sentence\n",
            "Cleaning the 4001th sentence\n",
            "Cleaning the 4101th sentence\n",
            "Cleaning the 4201th sentence\n",
            "Cleaning the 4301th sentence\n",
            "Cleaning the 4401th sentence\n",
            "Cleaning the 4501th sentence\n",
            "Cleaning the 4601th sentence\n",
            "Cleaning the 4701th sentence\n",
            "Cleaning the 4801th sentence\n",
            "Cleaning the 4901th sentence\n",
            "Cleaning the 5001th sentence\n",
            "Cleaning the 5101th sentence\n",
            "Cleaning the 5201th sentence\n",
            "Cleaning the 5301th sentence\n",
            "Cleaning the 5401th sentence\n",
            "Cleaning the 5501th sentence\n",
            "Cleaning the 5601th sentence\n",
            "Cleaning the 5701th sentence\n",
            "Cleaning the 5801th sentence\n",
            "Cleaning the 5901th sentence\n",
            "Cleaning the 6001th sentence\n",
            "Cleaning the 6101th sentence\n",
            "Cleaning the 6201th sentence\n",
            "Cleaning the 6301th sentence\n",
            "Cleaning the 6401th sentence\n",
            "Cleaning the 6501th sentence\n",
            "Cleaning the 6601th sentence\n",
            "Cleaning the 6701th sentence\n",
            "Cleaning the 6801th sentence\n",
            "Cleaning the 6901th sentence\n",
            "Cleaning the 7001th sentence\n",
            "Cleaning the 7101th sentence\n",
            "Cleaning the 7201th sentence\n",
            "Cleaning the 7301th sentence\n",
            "Cleaning the 7401th sentence\n",
            "Cleaning the 7501th sentence\n",
            "Cleaning the 7601th sentence\n",
            "Cleaning the 7701th sentence\n",
            "Cleaning the 7801th sentence\n",
            "Cleaning the 7901th sentence\n",
            "Cleaning the 8001th sentence\n",
            "Cleaning the 8101th sentence\n",
            "Cleaning the 8201th sentence\n",
            "Cleaning the 8301th sentence\n",
            "Cleaning the 8401th sentence\n",
            "Cleaning the 8501th sentence\n",
            "Cleaning the 8601th sentence\n",
            "Cleaning the 8701th sentence\n",
            "Cleaning the 8801th sentence\n",
            "Cleaning the 8901th sentence\n",
            "Cleaning the 9001th sentence\n",
            "Cleaning the 9101th sentence\n",
            "Cleaning the 9201th sentence\n",
            "Cleaning the 9301th sentence\n",
            "Cleaning the 9401th sentence\n",
            "Cleaning the 9501th sentence\n",
            "Cleaning the 9601th sentence\n",
            "Cleaning the 9701th sentence\n",
            "Cleaning the 9801th sentence\n",
            "Cleaning the 9901th sentence\n",
            "Cleaning the 10001th sentence\n",
            "Cleaning the 10101th sentence\n",
            "Cleaning the 10201th sentence\n",
            "Cleaning the 10301th sentence\n",
            "Cleaning the 10401th sentence\n",
            "Cleaning the 10501th sentence\n",
            "Cleaning the 10601th sentence\n",
            "Cleaning the 10701th sentence\n",
            "Cleaning the 10801th sentence\n",
            "Cleaning the 10901th sentence\n",
            "Cleaning the 11001th sentence\n",
            "Cleaning the 11101th sentence\n",
            "Cleaning the 11201th sentence\n",
            "Cleaning the 11301th sentence\n",
            "Cleaning the 11401th sentence\n",
            "Cleaning the 11501th sentence\n",
            "Cleaning the 11601th sentence\n",
            "Cleaning the 11701th sentence\n",
            "Cleaning the 11801th sentence\n",
            "Cleaning the 11901th sentence\n",
            "Cleaning the 12001th sentence\n",
            "Cleaning the 12101th sentence\n",
            "Cleaning the 12201th sentence\n",
            "Cleaning the 12301th sentence\n",
            "Cleaning the 12401th sentence\n",
            "Cleaning the 12501th sentence\n",
            "Cleaning the 12601th sentence\n",
            "Cleaning the 12701th sentence\n",
            "Cleaning the 12801th sentence\n",
            "Cleaning the 12901th sentence\n",
            "Cleaning the 13001th sentence\n",
            "Cleaning the 13101th sentence\n",
            "Cleaning the 13201th sentence\n",
            "Cleaning the 13301th sentence\n",
            "Cleaning the 13401th sentence\n",
            "Cleaning the 13501th sentence\n",
            "Cleaning the 13601th sentence\n",
            "Cleaning the 13701th sentence\n",
            "Cleaning the 13801th sentence\n",
            "Cleaning the 13901th sentence\n",
            "Cleaning the 14001th sentence\n",
            "Cleaning the 14101th sentence\n",
            "Cleaning the 14201th sentence\n",
            "Cleaning the 14301th sentence\n",
            "Cleaning the 14401th sentence\n",
            "Cleaning the 14501th sentence\n",
            "Cleaning the 14601th sentence\n",
            "Cleaning the 14701th sentence\n",
            "Cleaning the 14801th sentence\n",
            "Cleaning the 14901th sentence\n",
            "Cleaning the 15001th sentence\n",
            "Cleaning the 15101th sentence\n",
            "Cleaning the 15201th sentence\n",
            "Cleaning the 15301th sentence\n",
            "Cleaning the 15401th sentence\n",
            "Cleaning the 15501th sentence\n",
            "Cleaning the 15601th sentence\n",
            "Cleaning the 15701th sentence\n",
            "Cleaning the 15801th sentence\n",
            "Cleaning the 15901th sentence\n",
            "Cleaning the 16001th sentence\n",
            "Cleaning the 16101th sentence\n",
            "Cleaning the 16201th sentence\n",
            "Cleaning the 16301th sentence\n",
            "Cleaning the 16401th sentence\n",
            "Cleaning the 16501th sentence\n",
            "Cleaning the 16601th sentence\n",
            "Cleaning the 16701th sentence\n",
            "Cleaning the 16801th sentence\n",
            "Cleaning the 16901th sentence\n",
            "Cleaning the 17001th sentence\n",
            "Cleaning the 17101th sentence\n",
            "Cleaning the 17201th sentence\n",
            "Cleaning the 17301th sentence\n",
            "Cleaning the 17401th sentence\n",
            "Cleaning the 17501th sentence\n",
            "Cleaning the 17601th sentence\n",
            "Cleaning the 17701th sentence\n",
            "Cleaning the 17801th sentence\n",
            "Cleaning the 17901th sentence\n",
            "Cleaning the 18001th sentence\n",
            "Cleaning the 18101th sentence\n",
            "Cleaning the 18201th sentence\n",
            "Cleaning the 18301th sentence\n",
            "Cleaning the 18401th sentence\n",
            "Cleaning the 18501th sentence\n",
            "Cleaning the 18601th sentence\n",
            "Cleaning the 18701th sentence\n",
            "Cleaning the 18801th sentence\n",
            "Cleaning the 18901th sentence\n",
            "Cleaning the 19001th sentence\n",
            "Cleaning the 19101th sentence\n",
            "Cleaning the 19201th sentence\n",
            "Cleaning the 19301th sentence\n",
            "Cleaning the 19401th sentence\n",
            "Cleaning the 19501th sentence\n",
            "Cleaning the 19601th sentence\n",
            "Cleaning the 19701th sentence\n",
            "Cleaning the 19801th sentence\n",
            "Cleaning the 19901th sentence\n",
            "Cleaning the 20001th sentence\n",
            "Cleaning the 20101th sentence\n",
            "Cleaning the 20201th sentence\n",
            "Cleaning the 20301th sentence\n",
            "Cleaning the 20401th sentence\n",
            "Cleaning the 20501th sentence\n",
            "Cleaning the 20601th sentence\n",
            "Cleaning the 20701th sentence\n",
            "Cleaning the 20801th sentence\n",
            "Cleaning the 20901th sentence\n",
            "Cleaning the 21001th sentence\n",
            "Cleaning the 21101th sentence\n",
            "Cleaning the 21201th sentence\n",
            "Cleaning the 21301th sentence\n",
            "Cleaning the 21401th sentence\n",
            "Cleaning the 21501th sentence\n",
            "Cleaning the 21601th sentence\n",
            "Cleaning the 21701th sentence\n",
            "Cleaning the 21801th sentence\n",
            "Cleaning the 21901th sentence\n",
            "Cleaning the 22001th sentence\n",
            "Cleaning the 22101th sentence\n",
            "Cleaning the 22201th sentence\n",
            "Cleaning the 22301th sentence\n",
            "Cleaning the 22401th sentence\n",
            "Cleaning the 22501th sentence\n",
            "Cleaning the 22601th sentence\n",
            "Cleaning the 22701th sentence\n",
            "Cleaning the 22801th sentence\n",
            "Cleaning the 22901th sentence\n",
            "Cleaning the 23001th sentence\n",
            "Cleaning the 23101th sentence\n",
            "Cleaning the 23201th sentence\n",
            "Cleaning the 23301th sentence\n",
            "Cleaning the 23401th sentence\n",
            "Cleaning the 23501th sentence\n",
            "Cleaning the 23601th sentence\n",
            "Cleaning the 23701th sentence\n",
            "Cleaning the 23801th sentence\n",
            "Cleaning the 23901th sentence\n",
            "Cleaning the 24001th sentence\n",
            "Cleaning the 24101th sentence\n",
            "Cleaning the 24201th sentence\n",
            "Cleaning the 24301th sentence\n",
            "Cleaning the 24401th sentence\n",
            "Cleaning the 24501th sentence\n",
            "Cleaning the 24601th sentence\n",
            "Cleaning the 24701th sentence\n",
            "Cleaning the 24801th sentence\n",
            "Cleaning the 24901th sentence\n",
            "Cleaning the 25001th sentence\n",
            "Cleaning the 25101th sentence\n"
          ]
        }
      ],
      "source": [
        "## We train word2vec embeddings on the GermaParl dataset before using embeddings for classification\n",
        "outputs = []\n",
        "for idx, text in enumerate(manifesto_regrouped['sentence_text']):\n",
        "    if idx % 100 ==0:\n",
        "        print(f'Cleaning the {idx+1}th sentence')\n",
        "    outputs.append(clean_text(text, stopwords.words('german')))"
      ]
    },
    {
      "cell_type": "code",
      "execution_count": 237,
      "metadata": {},
      "outputs": [],
      "source": [
        "manifesto_regrouped['text_cleaned'] = outputs"
      ]
    },
    {
      "cell_type": "code",
      "execution_count": 238,
      "metadata": {},
      "outputs": [
        {
          "data": {
            "text/html": [
              "<div>\n",
              "<style scoped>\n",
              "    .dataframe tbody tr th:only-of-type {\n",
              "        vertical-align: middle;\n",
              "    }\n",
              "\n",
              "    .dataframe tbody tr th {\n",
              "        vertical-align: top;\n",
              "    }\n",
              "\n",
              "    .dataframe thead th {\n",
              "        text-align: right;\n",
              "    }\n",
              "</style>\n",
              "<table border=\"1\" class=\"dataframe\">\n",
              "  <thead>\n",
              "    <tr style=\"text-align: right;\">\n",
              "      <th></th>\n",
              "      <th>sentence_text</th>\n",
              "      <th>party_cabinet_sentiment</th>\n",
              "      <th>party</th>\n",
              "      <th>cabinet</th>\n",
              "      <th>sentiment</th>\n",
              "      <th>party_cabinet</th>\n",
              "      <th>text_cleaned</th>\n",
              "    </tr>\n",
              "  </thead>\n",
              "  <tbody>\n",
              "    <tr>\n",
              "      <th>0</th>\n",
              "      <td>Deutschland ist auf einem guten Weg. Trotz der...</td>\n",
              "      <td>FDP_2013_right</td>\n",
              "      <td>FDP</td>\n",
              "      <td>2013</td>\n",
              "      <td>right</td>\n",
              "      <td>FDP_2013</td>\n",
              "      <td>deutschland guten trotz schweren krise europa ...</td>\n",
              "    </tr>\n",
              "    <tr>\n",
              "      <th>1</th>\n",
              "      <td>Dafür haben wir uns vier Jahre lang in der chr...</td>\n",
              "      <td>FDP_2013_right</td>\n",
              "      <td>FDP</td>\n",
              "      <td>2013</td>\n",
              "      <td>right</td>\n",
              "      <td>FDP_2013</td>\n",
              "      <td>dafür vier jahre lang christlich liberalen koa...</td>\n",
              "    </tr>\n",
              "    <tr>\n",
              "      <th>2</th>\n",
              "      <td>Wir haben den Staatshaushalt in Ordnung gebrac...</td>\n",
              "      <td>FDP_2013_right</td>\n",
              "      <td>FDP</td>\n",
              "      <td>2013</td>\n",
              "      <td>right</td>\n",
              "      <td>FDP_2013</td>\n",
              "      <td>staatshaushalt ordnung gebracht erste mal seit...</td>\n",
              "    </tr>\n",
              "    <tr>\n",
              "      <th>3</th>\n",
              "      <td>Wir haben neue Subventionen verhindert und Sta...</td>\n",
              "      <td>FDP_2013_right</td>\n",
              "      <td>FDP</td>\n",
              "      <td>2013</td>\n",
              "      <td>right</td>\n",
              "      <td>FDP_2013</td>\n",
              "      <td>neue subventionen verhindert staatshilfen groß...</td>\n",
              "    </tr>\n",
              "    <tr>\n",
              "      <th>4</th>\n",
              "      <td>Sicheres Geld. Solide Haushalte. Und starke, f...</td>\n",
              "      <td>FDP_2013_right</td>\n",
              "      <td>FDP</td>\n",
              "      <td>2013</td>\n",
              "      <td>right</td>\n",
              "      <td>FDP_2013</td>\n",
              "      <td>sicheres geld solide haushalte starke freie bü...</td>\n",
              "    </tr>\n",
              "    <tr>\n",
              "      <th>...</th>\n",
              "      <td>...</td>\n",
              "      <td>...</td>\n",
              "      <td>...</td>\n",
              "      <td>...</td>\n",
              "      <td>...</td>\n",
              "      <td>...</td>\n",
              "      <td>...</td>\n",
              "    </tr>\n",
              "    <tr>\n",
              "      <th>25143</th>\n",
              "      <td>Wir werden deshalb auch künftig die Arbeit der...</td>\n",
              "      <td>CDU/CSU_2017_right</td>\n",
              "      <td>CDU/CSU</td>\n",
              "      <td>2017</td>\n",
              "      <td>right</td>\n",
              "      <td>CDU/CSU_2017</td>\n",
              "      <td>deshalb künftig arbeit kirchen vielfältiger we...</td>\n",
              "    </tr>\n",
              "    <tr>\n",
              "      <th>25144</th>\n",
              "      <td>Moscheen, in denen Hass und Gewalt gepredigt w...</td>\n",
              "      <td>CDU/CSU_2017_right</td>\n",
              "      <td>CDU/CSU</td>\n",
              "      <td>2017</td>\n",
              "      <td>right</td>\n",
              "      <td>CDU/CSU_2017</td>\n",
              "      <td>moscheen denen hass gewalt gepredigt denen sal...</td>\n",
              "    </tr>\n",
              "    <tr>\n",
              "      <th>25145</th>\n",
              "      <td>CDU und CSU wollen weiter Verantwortung für De...</td>\n",
              "      <td>CDU/CSU_2017_right</td>\n",
              "      <td>CDU/CSU</td>\n",
              "      <td>2017</td>\n",
              "      <td>right</td>\n",
              "      <td>CDU/CSU_2017</td>\n",
              "      <td>cdu csu verantwortung deutschland tragen septe...</td>\n",
              "    </tr>\n",
              "    <tr>\n",
              "      <th>25146</th>\n",
              "      <td>Sie verlangen unser mutiges und vorausschauend...</td>\n",
              "      <td>CDU/CSU_2017_right</td>\n",
              "      <td>CDU/CSU</td>\n",
              "      <td>2017</td>\n",
              "      <td>right</td>\n",
              "      <td>CDU/CSU_2017</td>\n",
              "      <td>verlangen mutiges vorausschauendes politisches...</td>\n",
              "    </tr>\n",
              "    <tr>\n",
              "      <th>25147</th>\n",
              "      <td>Wir werben um ein starkes Mandat für einen neu...</td>\n",
              "      <td>CDU/CSU_2017_right</td>\n",
              "      <td>CDU/CSU</td>\n",
              "      <td>2017</td>\n",
              "      <td>right</td>\n",
              "      <td>CDU/CSU_2017</td>\n",
              "      <td>werben starkes mandat neuen regierungsauftrag ...</td>\n",
              "    </tr>\n",
              "  </tbody>\n",
              "</table>\n",
              "<p>25148 rows × 7 columns</p>\n",
              "</div>"
            ],
            "text/plain": [
              "                                           sentence_text  \\\n",
              "0      Deutschland ist auf einem guten Weg. Trotz der...   \n",
              "1      Dafür haben wir uns vier Jahre lang in der chr...   \n",
              "2      Wir haben den Staatshaushalt in Ordnung gebrac...   \n",
              "3      Wir haben neue Subventionen verhindert und Sta...   \n",
              "4      Sicheres Geld. Solide Haushalte. Und starke, f...   \n",
              "...                                                  ...   \n",
              "25143  Wir werden deshalb auch künftig die Arbeit der...   \n",
              "25144  Moscheen, in denen Hass und Gewalt gepredigt w...   \n",
              "25145  CDU und CSU wollen weiter Verantwortung für De...   \n",
              "25146  Sie verlangen unser mutiges und vorausschauend...   \n",
              "25147  Wir werben um ein starkes Mandat für einen neu...   \n",
              "\n",
              "      party_cabinet_sentiment    party cabinet sentiment party_cabinet  \\\n",
              "0              FDP_2013_right      FDP    2013     right      FDP_2013   \n",
              "1              FDP_2013_right      FDP    2013     right      FDP_2013   \n",
              "2              FDP_2013_right      FDP    2013     right      FDP_2013   \n",
              "3              FDP_2013_right      FDP    2013     right      FDP_2013   \n",
              "4              FDP_2013_right      FDP    2013     right      FDP_2013   \n",
              "...                       ...      ...     ...       ...           ...   \n",
              "25143      CDU/CSU_2017_right  CDU/CSU    2017     right  CDU/CSU_2017   \n",
              "25144      CDU/CSU_2017_right  CDU/CSU    2017     right  CDU/CSU_2017   \n",
              "25145      CDU/CSU_2017_right  CDU/CSU    2017     right  CDU/CSU_2017   \n",
              "25146      CDU/CSU_2017_right  CDU/CSU    2017     right  CDU/CSU_2017   \n",
              "25147      CDU/CSU_2017_right  CDU/CSU    2017     right  CDU/CSU_2017   \n",
              "\n",
              "                                            text_cleaned  \n",
              "0      deutschland guten trotz schweren krise europa ...  \n",
              "1      dafür vier jahre lang christlich liberalen koa...  \n",
              "2      staatshaushalt ordnung gebracht erste mal seit...  \n",
              "3      neue subventionen verhindert staatshilfen groß...  \n",
              "4      sicheres geld solide haushalte starke freie bü...  \n",
              "...                                                  ...  \n",
              "25143  deshalb künftig arbeit kirchen vielfältiger we...  \n",
              "25144  moscheen denen hass gewalt gepredigt denen sal...  \n",
              "25145  cdu csu verantwortung deutschland tragen septe...  \n",
              "25146  verlangen mutiges vorausschauendes politisches...  \n",
              "25147  werben starkes mandat neuen regierungsauftrag ...  \n",
              "\n",
              "[25148 rows x 7 columns]"
            ]
          },
          "execution_count": 238,
          "metadata": {},
          "output_type": "execute_result"
        }
      ],
      "source": [
        "manifesto_regrouped"
      ]
    },
    {
      "cell_type": "code",
      "execution_count": 293,
      "metadata": {},
      "outputs": [],
      "source": [
        "class corpusIterator(object):\n",
        "    def __init__(self, df, bigram=None, trigram=None):\n",
        "        if bigram:\n",
        "            self.bigram = bigram\n",
        "        else:\n",
        "            self.bigram = None\n",
        "        if trigram:\n",
        "            self.trigram = trigram\n",
        "        else:\n",
        "            self.trigram = None\n",
        "        self.df = df\n",
        "    def __iter__(self):\n",
        "        for  index, row in self.df.iterrows():\n",
        "            if index % 3000 == 0:\n",
        "                print(f'Working on the {index+1}th sentence')\n",
        "            text = row['text_cleaned']\n",
        "            labels = row['sentiment']\n",
        "            tokens = text.split()\n",
        "            if self.bigram and self.trigram:\n",
        "                self.words = self.trigram[self.bigram[tokens]]\n",
        "            elif self.bigram and not self.trigram:\n",
        "                self.words = self.bigram[tokens]\n",
        "            else:\n",
        "                self.words = tokens\n",
        "            yield TaggedDocument(self.words, [labels])\n",
        "            \n",
        "class phraseIterator(object):\n",
        "    def __init__(self, df):\n",
        "        self.df = df\n",
        "    def __iter__(self):\n",
        "        for index, row in self.df.iterrows():\n",
        "            if index % 3000 == 0:\n",
        "                print(f'Working on the {index+1}th sentence')\n",
        "            text = row['text_cleaned']\n",
        "            yield text.split()"
      ]
    },
    {
      "cell_type": "code",
      "execution_count": 294,
      "metadata": {},
      "outputs": [],
      "source": [
        "df_train, df_test = train_test_split(manifesto_regrouped, test_size=0.2, stratify = manifesto_regrouped['sentiment'],random_state=seed_val)\n",
        "df_train, df_eval = train_test_split(df_train, test_size=0.25, stratify = df_train['sentiment'], random_state=seed_val)\n",
        "enc = OrdinalEncoder()\n",
        "\n",
        "df_train['labels'] = enc.fit_transform(np.array(df_train['sentiment'].tolist()).reshape(-1,1))\n",
        "df_test['labels'] = enc.fit_transform(np.array(df_test['sentiment'].tolist()).reshape(-1,1))\n",
        "df_eval['labels'] = enc.fit_transform(np.array(df_eval['sentiment'].tolist()).reshape(-1,1))\n",
        "\n",
        "df_train = df_train.reset_index(drop=True)\n",
        "df_eval = df_eval.reset_index(drop=True)\n",
        "df_test = df_test.reset_index(drop=True)\n",
        "\n"
      ]
    },
    {
      "cell_type": "code",
      "execution_count": 295,
      "metadata": {},
      "outputs": [
        {
          "name": "stdout",
          "output_type": "stream",
          "text": [
            "Working on the 1th sentence\n",
            "Working on the 3001th sentence\n",
            "Working on the 6001th sentence\n",
            "Working on the 9001th sentence\n",
            "Working on the 12001th sentence\n",
            "Working on the 15001th sentence\n",
            "Working on the 1th sentence\n",
            "Working on the 1th sentence\n",
            "Working on the 3001th sentence\n",
            "Working on the 6001th sentence\n",
            "Working on the 9001th sentence\n",
            "Working on the 12001th sentence\n",
            "Working on the 15001th sentence\n"
          ]
        }
      ],
      "source": [
        "outputs_stream = phraseIterator(df_train)\n",
        "bigram = Phraser(Phrases(outputs_stream, min_count=1, threshold=5))\n",
        "trigram = Phrases(bigram[outputs_stream],  min_count=1, threshold=5)"
      ]
    },
    {
      "cell_type": "code",
      "execution_count": 296,
      "metadata": {},
      "outputs": [
        {
          "name": "stdout",
          "output_type": "stream",
          "text": [
            "Working on the 1th sentence\n",
            "Working on the 3001th sentence\n",
            "Working on the 6001th sentence\n",
            "Working on the 9001th sentence\n",
            "Working on the 12001th sentence\n",
            "Working on the 15001th sentence\n",
            "Working on the 1th sentence\n",
            "Working on the 3001th sentence\n",
            "Working on the 6001th sentence\n",
            "Working on the 9001th sentence\n",
            "Working on the 12001th sentence\n",
            "Working on the 15001th sentence\n",
            "Working on the 1th sentence\n",
            "Working on the 3001th sentence\n",
            "Working on the 6001th sentence\n",
            "Working on the 9001th sentence\n",
            "Working on the 12001th sentence\n",
            "Working on the 15001th sentence\n",
            "Working on the 1th sentence\n",
            "Working on the 3001th sentence\n",
            "Working on the 6001th sentence\n",
            "Working on the 9001th sentence\n",
            "Working on the 12001th sentence\n",
            "Working on the 15001th sentence\n",
            "Working on the 1th sentence\n",
            "Working on the 3001th sentence\n",
            "Working on the 6001th sentence\n",
            "Working on the 9001th sentence\n",
            "Working on the 12001th sentence\n",
            "Working on the 15001th sentence\n",
            "Working on the 1th sentence\n",
            "Working on the 3001th sentence\n",
            "Working on the 6001th sentence\n",
            "Working on the 9001th sentence\n",
            "Working on the 12001th sentence\n",
            "Working on the 15001th sentence\n",
            "Working on the 1th sentence\n",
            "Working on the 3001th sentence\n",
            "Working on the 6001th sentence\n",
            "Working on the 9001th sentence\n",
            "Working on the 12001th sentence\n",
            "Working on the 15001th sentence\n",
            "Working on the 1th sentence\n",
            "Working on the 3001th sentence\n",
            "Working on the 6001th sentence\n",
            "Working on the 9001th sentence\n",
            "Working on the 12001th sentence\n",
            "Working on the 15001th sentence\n",
            "Working on the 1th sentence\n",
            "Working on the 3001th sentence\n",
            "Working on the 6001th sentence\n",
            "Working on the 9001th sentence\n",
            "Working on the 12001th sentence\n",
            "Working on the 15001th sentence\n",
            "Working on the 1th sentence\n",
            "Working on the 3001th sentence\n",
            "Working on the 6001th sentence\n",
            "Working on the 9001th sentence\n",
            "Working on the 12001th sentence\n",
            "Working on the 15001th sentence\n",
            "Working on the 1th sentence\n",
            "Working on the 3001th sentence\n",
            "Working on the 6001th sentence\n",
            "Working on the 9001th sentence\n",
            "Working on the 12001th sentence\n",
            "Working on the 15001th sentence\n"
          ]
        }
      ],
      "source": [
        "model = Doc2Vec(vector_size=300, window=5, min_count=1, workers=8, epochs=10, seed=seed_val)\n",
        "model.build_vocab(corpusIterator(df_train, bigram=bigram, trigram=trigram))\n",
        "model.train(corpusIterator(df_train, bigram=bigram, trigram=trigram), total_examples=model.corpus_count, epochs=model.epochs)"
      ]
    },
    {
      "cell_type": "code",
      "execution_count": 243,
      "metadata": {},
      "outputs": [],
      "source": [
        "keys = [k for k in model.dv.index_to_key]"
      ]
    },
    {
      "cell_type": "code",
      "execution_count": 244,
      "metadata": {},
      "outputs": [],
      "source": [
        "from sklearn.decomposition import PCA\n",
        "def dimension_reduction(model, components, keys):\n",
        "    M = model.vector_size\n",
        "    P = len(keys)\n",
        "    z=np.zeros(( P, M ))\n",
        "    for i in range( P ):\n",
        "        z[i,:] = model.dv[keys[i]]\n",
        "    dr = PCA(n_components=components)\n",
        "    Z = dr.fit_transform(z)\n",
        "    return z\n",
        "\n"
      ]
    },
    {
      "cell_type": "code",
      "execution_count": 245,
      "metadata": {},
      "outputs": [],
      "source": [
        "results = pd.DataFrame(dimension_reduction(model, 2, keys))\n"
      ]
    },
    {
      "cell_type": "code",
      "execution_count": 246,
      "metadata": {},
      "outputs": [],
      "source": [
        "a = results.transpose()"
      ]
    },
    {
      "cell_type": "code",
      "execution_count": 247,
      "metadata": {},
      "outputs": [
        {
          "data": {
            "text/plain": [
              "(300,)"
            ]
          },
          "execution_count": 247,
          "metadata": {},
          "output_type": "execute_result"
        }
      ],
      "source": [
        "a[0].shape"
      ]
    },
    {
      "cell_type": "code",
      "execution_count": 248,
      "metadata": {},
      "outputs": [],
      "source": [
        "rng = np.random.RandomState(10)  # deterministic random data\n",
        "b = np.hstack((rng.normal(size=1000),\n",
        "               rng.normal(loc=5, scale=2, size=1000)))"
      ]
    },
    {
      "cell_type": "code",
      "execution_count": 249,
      "metadata": {},
      "outputs": [
        {
          "data": {
            "image/png": "[encoded data removed]",
            "text/plain": [
              "<Figure size 640x480 with 1 Axes>"
            ]
          },
          "metadata": {},
          "output_type": "display_data"
        }
      ],
      "source": [
        "import matplotlib.pyplot as plt\n",
        "_ = plt.hist(a[2], bins='auto')"
      ]
    },
    {
      "cell_type": "code",
      "execution_count": 250,
      "metadata": {},
      "outputs": [
        {
          "data": {
            "text/html": [
              "<div>\n",
              "<style scoped>\n",
              "    .dataframe tbody tr th:only-of-type {\n",
              "        vertical-align: middle;\n",
              "    }\n",
              "\n",
              "    .dataframe tbody tr th {\n",
              "        vertical-align: top;\n",
              "    }\n",
              "\n",
              "    .dataframe thead th {\n",
              "        text-align: right;\n",
              "    }\n",
              "</style>\n",
              "<table border=\"1\" class=\"dataframe\">\n",
              "  <thead>\n",
              "    <tr style=\"text-align: right;\">\n",
              "      <th></th>\n",
              "      <th>sentence_text</th>\n",
              "      <th>party_cabinet_sentiment</th>\n",
              "      <th>party</th>\n",
              "      <th>cabinet</th>\n",
              "      <th>sentiment</th>\n",
              "      <th>party_cabinet</th>\n",
              "      <th>text_cleaned</th>\n",
              "      <th>labels</th>\n",
              "    </tr>\n",
              "  </thead>\n",
              "  <tbody>\n",
              "    <tr>\n",
              "      <th>0</th>\n",
              "      <td>Der Verkehrssektor ist eine der Branchen mit d...</td>\n",
              "      <td>FDP_2002_neutral</td>\n",
              "      <td>FDP</td>\n",
              "      <td>2002</td>\n",
              "      <td>neutral</td>\n",
              "      <td>FDP_2002</td>\n",
              "      <td>verkehrssektor branchen größten direkten indir...</td>\n",
              "      <td>1.0</td>\n",
              "    </tr>\n",
              "    <tr>\n",
              "      <th>1</th>\n",
              "      <td>Viele andere halten diese Idee dagegen für ung...</td>\n",
              "      <td>PDS/LINKE_2021_left</td>\n",
              "      <td>PDS/LINKE</td>\n",
              "      <td>2021</td>\n",
              "      <td>left</td>\n",
              "      <td>PDS/LINKE_2021</td>\n",
              "      <td>viele halten idee dagegen ungeeignet ziel grun...</td>\n",
              "      <td>0.0</td>\n",
              "    </tr>\n",
              "    <tr>\n",
              "      <th>2</th>\n",
              "      <td>Das Europäische Parlament hat in diesem Bereic...</td>\n",
              "      <td>FDP_2002_neutral</td>\n",
              "      <td>FDP</td>\n",
              "      <td>2002</td>\n",
              "      <td>neutral</td>\n",
              "      <td>FDP_2002</td>\n",
              "      <td>europäische parlament bereich kaum entscheidun...</td>\n",
              "      <td>1.0</td>\n",
              "    </tr>\n",
              "    <tr>\n",
              "      <th>3</th>\n",
              "      <td>So bietet er das Potenzial einer guten Rendite...</td>\n",
              "      <td>Greens_2021_left</td>\n",
              "      <td>Greens</td>\n",
              "      <td>2021</td>\n",
              "      <td>left</td>\n",
              "      <td>Greens_2021</td>\n",
              "      <td>bietet potenzial guten rendite arbeitgeber inn...</td>\n",
              "      <td>0.0</td>\n",
              "    </tr>\n",
              "    <tr>\n",
              "      <th>4</th>\n",
              "      <td>Wir sorgen durch unsere Finanzpolitik für eine...</td>\n",
              "      <td>Greens_2013_right</td>\n",
              "      <td>Greens</td>\n",
              "      <td>2013</td>\n",
              "      <td>right</td>\n",
              "      <td>Greens_2013</td>\n",
              "      <td>sorgen finanzpolitik solide finanzierung öffen...</td>\n",
              "      <td>2.0</td>\n",
              "    </tr>\n",
              "  </tbody>\n",
              "</table>\n",
              "</div>"
            ],
            "text/plain": [
              "                                       sentence_text party_cabinet_sentiment  \\\n",
              "0  Der Verkehrssektor ist eine der Branchen mit d...        FDP_2002_neutral   \n",
              "1  Viele andere halten diese Idee dagegen für ung...     PDS/LINKE_2021_left   \n",
              "2  Das Europäische Parlament hat in diesem Bereic...        FDP_2002_neutral   \n",
              "3  So bietet er das Potenzial einer guten Rendite...        Greens_2021_left   \n",
              "4  Wir sorgen durch unsere Finanzpolitik für eine...       Greens_2013_right   \n",
              "\n",
              "       party cabinet sentiment   party_cabinet  \\\n",
              "0        FDP    2002   neutral        FDP_2002   \n",
              "1  PDS/LINKE    2021      left  PDS/LINKE_2021   \n",
              "2        FDP    2002   neutral        FDP_2002   \n",
              "3     Greens    2021      left     Greens_2021   \n",
              "4     Greens    2013     right     Greens_2013   \n",
              "\n",
              "                                        text_cleaned  labels  \n",
              "0  verkehrssektor branchen größten direkten indir...     1.0  \n",
              "1  viele halten idee dagegen ungeeignet ziel grun...     0.0  \n",
              "2  europäische parlament bereich kaum entscheidun...     1.0  \n",
              "3  bietet potenzial guten rendite arbeitgeber inn...     0.0  \n",
              "4  sorgen finanzpolitik solide finanzierung öffen...     2.0  "
            ]
          },
          "execution_count": 250,
          "metadata": {},
          "output_type": "execute_result"
        }
      ],
      "source": [
        "df_train.head()"
      ]
    },
    {
      "cell_type": "code",
      "execution_count": 297,
      "metadata": {},
      "outputs": [],
      "source": [
        "def test_doc2vec(dataset, model):\n",
        "    res = []\n",
        "    for index, row in dataset.iterrows():\n",
        "        text = row['text_cleaned']\n",
        "        infer = model.dv.most_similar(model.infer_vector(text.split()),topn=1)[0][0]\n",
        "        if infer == 'right':\n",
        "            res.append(2)\n",
        "        elif infer == 'left':\n",
        "            res.append(0)\n",
        "        else:\n",
        "            res.append(1)\n",
        "    return np.array(res)\n"
      ]
    },
    {
      "cell_type": "code",
      "execution_count": 298,
      "metadata": {},
      "outputs": [],
      "source": [
        "predicted = test_doc2vec(df_test, model)\n",
        "labels = np.array(df_test['labels'].tolist())"
      ]
    },
    {
      "cell_type": "code",
      "execution_count": 299,
      "metadata": {},
      "outputs": [
        {
          "data": {
            "text/plain": [
              "array([0., 2., 0., ..., 1., 0., 0.])"
            ]
          },
          "execution_count": 299,
          "metadata": {},
          "output_type": "execute_result"
        }
      ],
      "source": [
        "labels"
      ]
    },
    {
      "cell_type": "code",
      "execution_count": 300,
      "metadata": {},
      "outputs": [],
      "source": [
        "precision, recall, f1, _ = precision_recall_fscore_support(labels, predicted, average=None)\n",
        "matrix = confusion_matrix(labels, predicted)\n",
        "accuracy = matrix.diagonal()/matrix.sum(axis=1)"
      ]
    },
    {
      "cell_type": "code",
      "execution_count": 301,
      "metadata": {},
      "outputs": [
        {
          "data": {
            "text/html": [
              "<div>\n",
              "<style scoped>\n",
              "    .dataframe tbody tr th:only-of-type {\n",
              "        vertical-align: middle;\n",
              "    }\n",
              "\n",
              "    .dataframe tbody tr th {\n",
              "        vertical-align: top;\n",
              "    }\n",
              "\n",
              "    .dataframe thead th {\n",
              "        text-align: right;\n",
              "    }\n",
              "</style>\n",
              "<table border=\"1\" class=\"dataframe\">\n",
              "  <thead>\n",
              "    <tr style=\"text-align: right;\">\n",
              "      <th></th>\n",
              "      <th>f1</th>\n",
              "      <th>precision</th>\n",
              "      <th>recall</th>\n",
              "      <th>accuracy</th>\n",
              "    </tr>\n",
              "  </thead>\n",
              "  <tbody>\n",
              "    <tr>\n",
              "      <th>0</th>\n",
              "      <td>0.61</td>\n",
              "      <td>0.68</td>\n",
              "      <td>0.56</td>\n",
              "      <td>0.56</td>\n",
              "    </tr>\n",
              "    <tr>\n",
              "      <th>1</th>\n",
              "      <td>0.75</td>\n",
              "      <td>0.66</td>\n",
              "      <td>0.86</td>\n",
              "      <td>0.86</td>\n",
              "    </tr>\n",
              "    <tr>\n",
              "      <th>2</th>\n",
              "      <td>0.53</td>\n",
              "      <td>0.73</td>\n",
              "      <td>0.42</td>\n",
              "      <td>0.42</td>\n",
              "    </tr>\n",
              "  </tbody>\n",
              "</table>\n",
              "</div>"
            ],
            "text/plain": [
              "     f1  precision  recall  accuracy\n",
              "0  0.61       0.68    0.56      0.56\n",
              "1  0.75       0.66    0.86      0.86\n",
              "2  0.53       0.73    0.42      0.42"
            ]
          },
          "execution_count": 301,
          "metadata": {},
          "output_type": "execute_result"
        }
      ],
      "source": [
        "res_table = pd.DataFrame({'f1': np.round(f1,2), 'precision': np.round(precision,2), \n",
        "'recall': np.round(recall,2), 'accuracy': np.round(accuracy,2)})\n",
        "res_table"
      ]
    },
    {
      "cell_type": "code",
      "execution_count": 302,
      "metadata": {},
      "outputs": [
        {
          "data": {
            "text/plain": [
              "f1           0.63\n",
              "precision    0.69\n",
              "recall       0.61\n",
              "accuracy     0.61\n",
              "dtype: float64"
            ]
          },
          "execution_count": 302,
          "metadata": {},
          "output_type": "execute_result"
        }
      ],
      "source": [
        "round(res_table.mean(axis=0),2)"
      ]
    },
    {
      "attachments": {},
      "cell_type": "markdown",
      "metadata": {},
      "source": [
        "# Scaling with Sentence Transformers"
      ]
    },
    {
      "attachments": {},
      "cell_type": "markdown",
      "metadata": {},
      "source": [
        "## First, some TSDAE pre-training"
      ]
    },
    {
      "cell_type": "code",
      "execution_count": null,
      "metadata": {},
      "outputs": [
        {
          "name": "stderr",
          "output_type": "stream",
          "text": [
            "loading configuration file results/bert/bert_3class_std/checkpoint-944\\config.json\n",
            "Model config BertConfig {\n",
            "  \"_name_or_path\": \"results/bert/bert_3class_std/checkpoint-944\",\n",
            "  \"architectures\": [\n",
            "    \"BertForSequenceClassification\"\n",
            "  ],\n",
            "  \"attention_probs_dropout_prob\": 0.1,\n",
            "  \"classifier_dropout\": null,\n",
            "  \"hidden_act\": \"gelu\",\n",
            "  \"hidden_dropout_prob\": 0.1,\n",
            "  \"hidden_size\": 768,\n",
            "  \"id2label\": {\n",
            "    \"0\": \"LABEL_0\",\n",
            "    \"1\": \"LABEL_1\",\n",
            "    \"2\": \"LABEL_2\"\n",
            "  },\n",
            "  \"initializer_range\": 0.02,\n",
            "  \"intermediate_size\": 3072,\n",
            "  \"label2id\": {\n",
            "    \"LABEL_0\": 0,\n",
            "    \"LABEL_1\": 1,\n",
            "    \"LABEL_2\": 2\n",
            "  },\n",
            "  \"layer_norm_eps\": 1e-12,\n",
            "  \"max_position_embeddings\": 512,\n",
            "  \"model_type\": \"bert\",\n",
            "  \"num_attention_heads\": 12,\n",
            "  \"num_hidden_layers\": 12,\n",
            "  \"pad_token_id\": 0,\n",
            "  \"position_embedding_type\": \"absolute\",\n",
            "  \"problem_type\": \"single_label_classification\",\n",
            "  \"torch_dtype\": \"float32\",\n",
            "  \"transformers_version\": \"4.21.2\",\n",
            "  \"type_vocab_size\": 2,\n",
            "  \"use_cache\": true,\n",
            "  \"vocab_size\": 31102\n",
            "}\n",
            "\n",
            "loading weights file results/bert/bert_3class_std/checkpoint-944\\pytorch_model.bin\n",
            "Some weights of the model checkpoint at results/bert/bert_3class_std/checkpoint-944 were not used when initializing BertModel: ['classifier.bias', 'classifier.weight']\n",
            "- This IS expected if you are initializing BertModel from the checkpoint of a model trained on another task or with another architecture (e.g. initializing a BertForSequenceClassification model from a BertForPreTraining model).\n",
            "- This IS NOT expected if you are initializing BertModel from the checkpoint of a model that you expect to be exactly identical (initializing a BertForSequenceClassification model from a BertForSequenceClassification model).\n",
            "All the weights of BertModel were initialized from the model checkpoint at results/bert/bert_3class_std/checkpoint-944.\n",
            "If your task is similar to the task the model of the checkpoint was trained on, you can already use BertModel for predictions without further training.\n",
            "Didn't find file results/bert/bert_3class_std/checkpoint-944\\added_tokens.json. We won't load it.\n",
            "loading file results/bert/bert_3class_std/checkpoint-944\\vocab.txt\n",
            "loading file results/bert/bert_3class_std/checkpoint-944\\tokenizer.json\n",
            "loading file None\n",
            "loading file results/bert/bert_3class_std/checkpoint-944\\special_tokens_map.json\n",
            "loading file results/bert/bert_3class_std/checkpoint-944\\tokenizer_config.json\n",
            "[nltk_data] Downloading package punkt to\n",
            "[nltk_data]     C:\\Users\\Hung\\AppData\\Roaming\\nltk_data...\n",
            "[nltk_data]   Package punkt is already up-to-date!\n"
          ]
        },
        {
          "data": {
            "text/plain": [
              "True"
            ]
          },
          "metadata": {},
          "output_type": "display_data"
        }
      ],
      "source": [
        "from sentence_transformers import SentenceTransformer, LoggingHandler\n",
        "from sentence_transformers import models, util, datasets, evaluation, losses\n",
        "from torch.utils.data import DataLoader\n",
        "bert_model = 'results/bert/bert_3class_std/checkpoint-944'\n",
        "word_embedding_model = models.Transformer(bert_model)\n",
        "pooling_model = models.Pooling(word_embedding_model.get_word_embedding_dimension(), 'cls')\n",
        "model = SentenceTransformer(modules=[word_embedding_model, pooling_model]).to(device)\n",
        "import nltk\n",
        "nltk.download('punkt')"
      ]
    },
    {
      "cell_type": "code",
      "execution_count": null,
      "metadata": {},
      "outputs": [
        {
          "name": "stderr",
          "output_type": "stream",
          "text": [
            "When tie_encoder_decoder=True, the decoder_name_or_path will be invalid.\n",
            "Didn't find file results/bert/bert_3class_std/checkpoint-944\\added_tokens.json. We won't load it.\n",
            "loading file results/bert/bert_3class_std/checkpoint-944\\vocab.txt\n",
            "loading file results/bert/bert_3class_std/checkpoint-944\\tokenizer.json\n",
            "loading file None\n",
            "loading file results/bert/bert_3class_std/checkpoint-944\\special_tokens_map.json\n",
            "loading file results/bert/bert_3class_std/checkpoint-944\\tokenizer_config.json\n",
            "loading configuration file results/bert/bert_3class_std/checkpoint-944\\config.json\n",
            "Model config BertConfig {\n",
            "  \"_name_or_path\": \"results/bert/bert_3class_std/checkpoint-944\",\n",
            "  \"architectures\": [\n",
            "    \"BertForSequenceClassification\"\n",
            "  ],\n",
            "  \"attention_probs_dropout_prob\": 0.1,\n",
            "  \"classifier_dropout\": null,\n",
            "  \"hidden_act\": \"gelu\",\n",
            "  \"hidden_dropout_prob\": 0.1,\n",
            "  \"hidden_size\": 768,\n",
            "  \"id2label\": {\n",
            "    \"0\": \"LABEL_0\",\n",
            "    \"1\": \"LABEL_1\",\n",
            "    \"2\": \"LABEL_2\"\n",
            "  },\n",
            "  \"initializer_range\": 0.02,\n",
            "  \"intermediate_size\": 3072,\n",
            "  \"label2id\": {\n",
            "    \"LABEL_0\": 0,\n",
            "    \"LABEL_1\": 1,\n",
            "    \"LABEL_2\": 2\n",
            "  },\n",
            "  \"layer_norm_eps\": 1e-12,\n",
            "  \"max_position_embeddings\": 512,\n",
            "  \"model_type\": \"bert\",\n",
            "  \"num_attention_heads\": 12,\n",
            "  \"num_hidden_layers\": 12,\n",
            "  \"pad_token_id\": 0,\n",
            "  \"position_embedding_type\": \"absolute\",\n",
            "  \"problem_type\": \"single_label_classification\",\n",
            "  \"torch_dtype\": \"float32\",\n",
            "  \"transformers_version\": \"4.21.2\",\n",
            "  \"type_vocab_size\": 2,\n",
            "  \"use_cache\": true,\n",
            "  \"vocab_size\": 31102\n",
            "}\n",
            "\n",
            "loading weights file results/bert/bert_3class_std/checkpoint-944\\pytorch_model.bin\n",
            "Some weights of the model checkpoint at results/bert/bert_3class_std/checkpoint-944 were not used when initializing BertLMHeadModel: ['classifier.bias', 'classifier.weight']\n",
            "- This IS expected if you are initializing BertLMHeadModel from the checkpoint of a model trained on another task or with another architecture (e.g. initializing a BertForSequenceClassification model from a BertForPreTraining model).\n",
            "- This IS NOT expected if you are initializing BertLMHeadModel from the checkpoint of a model that you expect to be exactly identical (initializing a BertForSequenceClassification model from a BertForSequenceClassification model).\n",
            "Some weights of BertLMHeadModel were not initialized from the model checkpoint at results/bert/bert_3class_std/checkpoint-944 and are newly initialized: ['bert.encoder.layer.9.crossattention.self.value.bias', 'bert.encoder.layer.8.crossattention.output.dense.weight', 'bert.encoder.layer.2.crossattention.self.query.bias', 'bert.encoder.layer.1.crossattention.self.query.bias', 'bert.encoder.layer.2.crossattention.self.key.bias', 'bert.encoder.layer.0.crossattention.self.query.bias', 'bert.encoder.layer.8.crossattention.output.LayerNorm.weight', 'bert.encoder.layer.7.crossattention.output.dense.weight', 'bert.encoder.layer.8.crossattention.output.dense.bias', 'bert.encoder.layer.6.crossattention.self.key.weight', 'bert.encoder.layer.11.crossattention.self.query.weight', 'cls.predictions.transform.dense.weight', 'bert.encoder.layer.5.crossattention.output.LayerNorm.bias', 'bert.encoder.layer.4.crossattention.self.key.bias', 'bert.encoder.layer.2.crossattention.self.value.bias', 'bert.encoder.layer.4.crossattention.self.query.weight', 'cls.predictions.transform.LayerNorm.bias', 'cls.predictions.transform.dense.bias', 'bert.encoder.layer.10.crossattention.output.LayerNorm.bias', 'bert.encoder.layer.7.crossattention.self.key.weight', 'bert.encoder.layer.1.crossattention.output.dense.weight', 'bert.encoder.layer.1.crossattention.output.LayerNorm.bias', 'bert.encoder.layer.0.crossattention.output.dense.bias', 'bert.encoder.layer.2.crossattention.output.dense.bias', 'bert.encoder.layer.11.crossattention.self.value.weight', 'bert.encoder.layer.1.crossattention.self.value.weight', 'bert.encoder.layer.4.crossattention.output.LayerNorm.bias', 'bert.encoder.layer.11.crossattention.output.dense.bias', 'bert.encoder.layer.6.crossattention.self.value.bias', 'bert.encoder.layer.4.crossattention.output.dense.weight', 'bert.encoder.layer.0.crossattention.self.value.bias', 'bert.encoder.layer.9.crossattention.self.query.weight', 'bert.encoder.layer.10.crossattention.self.query.bias', 'bert.encoder.layer.10.crossattention.output.dense.weight', 'bert.encoder.layer.0.crossattention.self.key.weight', 'bert.encoder.layer.5.crossattention.self.query.weight', 'bert.encoder.layer.10.crossattention.self.value.bias', 'bert.encoder.layer.11.crossattention.output.LayerNorm.bias', 'bert.encoder.layer.2.crossattention.output.dense.weight', 'cls.predictions.decoder.weight', 'bert.encoder.layer.1.crossattention.self.value.bias', 'bert.encoder.layer.6.crossattention.self.query.bias', 'bert.encoder.layer.6.crossattention.output.LayerNorm.bias', 'bert.encoder.layer.3.crossattention.self.query.weight', 'bert.encoder.layer.8.crossattention.self.query.weight', 'bert.encoder.layer.2.crossattention.output.LayerNorm.weight', 'bert.encoder.layer.3.crossattention.self.key.weight', 'bert.encoder.layer.10.crossattention.self.query.weight', 'bert.encoder.layer.3.crossattention.self.value.bias', 'bert.encoder.layer.0.crossattention.output.LayerNorm.bias', 'bert.encoder.layer.4.crossattention.self.query.bias', 'bert.encoder.layer.11.crossattention.output.LayerNorm.weight', 'bert.encoder.layer.7.crossattention.self.value.weight', 'bert.encoder.layer.9.crossattention.output.dense.bias', 'bert.encoder.layer.10.crossattention.self.value.weight', 'bert.encoder.layer.11.crossattention.self.key.weight', 'bert.encoder.layer.11.crossattention.self.key.bias', 'bert.encoder.layer.3.crossattention.self.value.weight', 'bert.encoder.layer.1.crossattention.output.LayerNorm.weight', 'bert.encoder.layer.9.crossattention.output.LayerNorm.weight', 'bert.encoder.layer.6.crossattention.output.LayerNorm.weight', 'bert.encoder.layer.0.crossattention.output.LayerNorm.weight', 'bert.encoder.layer.11.crossattention.self.query.bias', 'bert.encoder.layer.3.crossattention.output.dense.weight', 'bert.encoder.layer.6.crossattention.output.dense.weight', 'bert.encoder.layer.7.crossattention.output.dense.bias', 'bert.encoder.layer.1.crossattention.output.dense.bias', 'bert.encoder.layer.4.crossattention.output.LayerNorm.weight', 'bert.encoder.layer.9.crossattention.self.value.weight', 'bert.encoder.layer.7.crossattention.output.LayerNorm.bias', 'bert.encoder.layer.7.crossattention.self.key.bias', 'bert.encoder.layer.8.crossattention.self.value.bias', 'bert.encoder.layer.4.crossattention.self.key.weight', 'bert.encoder.layer.5.crossattention.self.key.bias', 'cls.predictions.transform.LayerNorm.weight', 'bert.encoder.layer.3.crossattention.self.query.bias', 'bert.encoder.layer.9.crossattention.self.key.bias', 'bert.encoder.layer.4.crossattention.self.value.weight', 'bert.encoder.layer.6.crossattention.self.value.weight', 'bert.encoder.layer.7.crossattention.self.value.bias', 'bert.encoder.layer.8.crossattention.self.value.weight', 'bert.encoder.layer.9.crossattention.output.LayerNorm.bias', 'bert.encoder.layer.5.crossattention.self.value.bias', 'bert.encoder.layer.10.crossattention.output.LayerNorm.weight', 'bert.encoder.layer.11.crossattention.self.value.bias', 'bert.encoder.layer.1.crossattention.self.key.bias', 'bert.encoder.layer.0.crossattention.self.key.bias', 'bert.encoder.layer.9.crossattention.self.query.bias', 'bert.encoder.layer.3.crossattention.self.key.bias', 'bert.encoder.layer.0.crossattention.self.query.weight', 'bert.encoder.layer.0.crossattention.self.value.weight', 'bert.encoder.layer.6.crossattention.output.dense.bias', 'bert.encoder.layer.8.crossattention.self.key.weight', 'bert.encoder.layer.7.crossattention.self.query.bias', 'bert.encoder.layer.9.crossattention.output.dense.weight', 'bert.encoder.layer.6.crossattention.self.key.bias', 'bert.encoder.layer.2.crossattention.self.key.weight', 'bert.encoder.layer.5.crossattention.self.key.weight', 'cls.predictions.bias', 'bert.encoder.layer.4.crossattention.self.value.bias', 'bert.encoder.layer.5.crossattention.self.value.weight', 'bert.encoder.layer.10.crossattention.output.dense.bias', 'bert.encoder.layer.8.crossattention.self.query.bias', 'bert.encoder.layer.5.crossattention.output.dense.weight', 'bert.encoder.layer.10.crossattention.self.key.weight', 'bert.encoder.layer.1.crossattention.self.query.weight', 'bert.encoder.layer.3.crossattention.output.LayerNorm.weight', 'bert.encoder.layer.7.crossattention.output.LayerNorm.weight', 'bert.encoder.layer.2.crossattention.self.value.weight', 'bert.encoder.layer.5.crossattention.output.dense.bias', 'bert.encoder.layer.8.crossattention.output.LayerNorm.bias', 'bert.encoder.layer.2.crossattention.self.query.weight', 'bert.encoder.layer.0.crossattention.output.dense.weight', 'bert.encoder.layer.3.crossattention.output.LayerNorm.bias', 'bert.encoder.layer.5.crossattention.self.query.bias', 'bert.encoder.layer.4.crossattention.output.dense.bias', 'bert.encoder.layer.6.crossattention.self.query.weight', 'bert.encoder.layer.10.crossattention.self.key.bias', 'bert.encoder.layer.9.crossattention.self.key.weight', 'bert.encoder.layer.11.crossattention.output.dense.weight', 'bert.encoder.layer.5.crossattention.output.LayerNorm.weight', 'bert.encoder.layer.7.crossattention.self.query.weight', 'bert.encoder.layer.1.crossattention.self.key.weight', 'bert.encoder.layer.8.crossattention.self.key.bias', 'bert.encoder.layer.3.crossattention.output.dense.bias', 'bert.encoder.layer.2.crossattention.output.LayerNorm.bias']\n",
            "You should probably TRAIN this model on a down-stream task to be able to use it for predictions and inference.\n",
            "Didn't find file results/bert/bert_3class_std/checkpoint-944\\added_tokens.json. We won't load it.\n",
            "loading file results/bert/bert_3class_std/checkpoint-944\\vocab.txt\n",
            "loading file results/bert/bert_3class_std/checkpoint-944\\tokenizer.json\n",
            "loading file None\n",
            "loading file results/bert/bert_3class_std/checkpoint-944\\special_tokens_map.json\n",
            "loading file results/bert/bert_3class_std/checkpoint-944\\tokenizer_config.json\n",
            "The following encoder weights were not tied to the decoder ['bert/pooler']\n"
          ]
        }
      ],
      "source": [
        "train_texts = manifesto['text'].tolist()\n",
        "train_dataset = datasets.DenoisingAutoEncoderDataset(train_texts)\n",
        "# DataLoader to batch your data\n",
        "train_dataloader = DataLoader(train_dataset, batch_size=16, shuffle=True)\n",
        "# Use the denoising auto-encoder loss\n",
        "train_loss = losses.DenoisingAutoEncoderLoss(model, decoder_name_or_path=bert_model, tie_encoder_decoder=True)"
      ]
    },
    {
      "cell_type": "code",
      "execution_count": null,
      "metadata": {},
      "outputs": [
        {
          "data": {
            "application/vnd.jupyter.widget-view+json": {
              "model_id": "419b9aee533f4c5ba0eb4104da8d4d42",
              "version_major": 2,
              "version_minor": 0
            },
            "text/plain": [
              "Epoch:   0%|          | 0/3 [00:00<?, ?it/s]"
            ]
          },
          "metadata": {},
          "output_type": "display_data"
        },
        {
          "data": {
            "application/vnd.jupyter.widget-view+json": {
              "model_id": "754c5feca00c474e8400a0e9b60fdb29",
              "version_major": 2,
              "version_minor": 0
            },
            "text/plain": [
              "Iteration:   0%|          | 0/4722 [00:00<?, ?it/s]"
            ]
          },
          "metadata": {},
          "output_type": "display_data"
        },
        {
          "data": {
            "application/vnd.jupyter.widget-view+json": {
              "model_id": "c3abe64b4f7e4020934a702477ee6dbf",
              "version_major": 2,
              "version_minor": 0
            },
            "text/plain": [
              "Iteration:   0%|          | 0/4722 [00:00<?, ?it/s]"
            ]
          },
          "metadata": {},
          "output_type": "display_data"
        },
        {
          "data": {
            "application/vnd.jupyter.widget-view+json": {
              "model_id": "f3c82fc192374029915ddada7e0b6980",
              "version_major": 2,
              "version_minor": 0
            },
            "text/plain": [
              "Iteration:   0%|          | 0/4722 [00:00<?, ?it/s]"
            ]
          },
          "metadata": {},
          "output_type": "display_data"
        }
      ],
      "source": [
        "model.fit(\n",
        "    train_objectives=[(train_dataloader, train_loss)],\n",
        "    epochs=3,\n",
        "    weight_decay=0,\n",
        "    scheduler='constantlr',\n",
        "    optimizer_params={'lr': 3e-5},\n",
        "    show_progress_bar=True\n",
        ")\n"
      ]
    },
    {
      "cell_type": "code",
      "execution_count": null,
      "metadata": {},
      "outputs": [
        {
          "name": "stderr",
          "output_type": "stream",
          "text": [
            "Configuration saved in results\\tsdae\\manifesto_deu/config.json\n",
            "Model weights saved in results\\tsdae\\manifesto_deu/pytorch_model.bin\n",
            "tokenizer config file saved in results\\tsdae\\manifesto_deu/tokenizer_config.json\n",
            "Special tokens file saved in results\\tsdae\\manifesto_deu/special_tokens_map.json\n"
          ]
        }
      ],
      "source": [
        "model.save(os.path.join(\"results\", \"tsdae\",  \"manifesto_deu\"))"
      ]
    },
    {
      "attachments": {},
      "cell_type": "markdown",
      "metadata": {},
      "source": [
        "## Scaling - Sentence Transformers"
      ]
    },
    {
      "cell_type": "code",
      "execution_count": 304,
      "metadata": {},
      "outputs": [
        {
          "name": "stderr",
          "output_type": "stream",
          "text": [
            "loading configuration file results/tsdae/manifesto_deu/config.json\n",
            "Model config BertConfig {\n",
            "  \"_name_or_path\": \"results/tsdae/manifesto_deu/\",\n",
            "  \"architectures\": [\n",
            "    \"BertModel\"\n",
            "  ],\n",
            "  \"attention_probs_dropout_prob\": 0.1,\n",
            "  \"classifier_dropout\": null,\n",
            "  \"hidden_act\": \"gelu\",\n",
            "  \"hidden_dropout_prob\": 0.1,\n",
            "  \"hidden_size\": 768,\n",
            "  \"id2label\": {\n",
            "    \"0\": \"LABEL_0\",\n",
            "    \"1\": \"LABEL_1\",\n",
            "    \"2\": \"LABEL_2\"\n",
            "  },\n",
            "  \"initializer_range\": 0.02,\n",
            "  \"intermediate_size\": 3072,\n",
            "  \"label2id\": {\n",
            "    \"LABEL_0\": 0,\n",
            "    \"LABEL_1\": 1,\n",
            "    \"LABEL_2\": 2\n",
            "  },\n",
            "  \"layer_norm_eps\": 1e-12,\n",
            "  \"max_position_embeddings\": 512,\n",
            "  \"model_type\": \"bert\",\n",
            "  \"num_attention_heads\": 12,\n",
            "  \"num_hidden_layers\": 12,\n",
            "  \"pad_token_id\": 0,\n",
            "  \"position_embedding_type\": \"absolute\",\n",
            "  \"problem_type\": \"single_label_classification\",\n",
            "  \"torch_dtype\": \"float32\",\n",
            "  \"transformers_version\": \"4.21.2\",\n",
            "  \"type_vocab_size\": 2,\n",
            "  \"use_cache\": true,\n",
            "  \"vocab_size\": 31102\n",
            "}\n",
            "\n",
            "loading weights file results/tsdae/manifesto_deu/pytorch_model.bin\n",
            "All model checkpoint weights were used when initializing BertModel.\n",
            "\n",
            "All the weights of BertModel were initialized from the model checkpoint at results/tsdae/manifesto_deu/.\n",
            "If your task is similar to the task the model of the checkpoint was trained on, you can already use BertModel for predictions without further training.\n",
            "Didn't find file results/tsdae/manifesto_deu/added_tokens.json. We won't load it.\n",
            "loading file results/tsdae/manifesto_deu/vocab.txt\n",
            "loading file results/tsdae/manifesto_deu/tokenizer.json\n",
            "loading file None\n",
            "loading file results/tsdae/manifesto_deu/special_tokens_map.json\n",
            "loading file results/tsdae/manifesto_deu/tokenizer_config.json\n"
          ]
        }
      ],
      "source": [
        "from sentence_transformers import SentenceTransformer\n",
        "import umap.umap_ as umap\n",
        "bert_model = 'results/tsdae/manifesto_deu/'\n",
        "word_embedding_model = models.Transformer(bert_model)\n",
        "pooling_model = models.Pooling(word_embedding_model.get_word_embedding_dimension(), 'cls')\n",
        "model = SentenceTransformer(modules=[word_embedding_model, pooling_model]).to(device)"
      ]
    },
    {
      "cell_type": "code",
      "execution_count": 88,
      "metadata": {},
      "outputs": [],
      "source": [
        "manifesto_welfare = manifesto[manifesto['code'].isin(['504'])].reset_index(drop=True)\n",
        "manifesto_lr = manifesto[manifesto['sentiment'].isin(['left','right'])].reset_index(drop=True)"
      ]
    },
    {
      "cell_type": "code",
      "execution_count": 35,
      "metadata": {},
      "outputs": [
        {
          "data": {
            "text/html": [
              "<div>\n",
              "<style scoped>\n",
              "    .dataframe tbody tr th:only-of-type {\n",
              "        vertical-align: middle;\n",
              "    }\n",
              "\n",
              "    .dataframe tbody tr th {\n",
              "        vertical-align: top;\n",
              "    }\n",
              "\n",
              "    .dataframe thead th {\n",
              "        text-align: right;\n",
              "    }\n",
              "</style>\n",
              "<table border=\"1\" class=\"dataframe\">\n",
              "  <thead>\n",
              "    <tr style=\"text-align: right;\">\n",
              "      <th></th>\n",
              "      <th>text</th>\n",
              "      <th>cabinet</th>\n",
              "      <th>code</th>\n",
              "      <th>pos</th>\n",
              "      <th>party</th>\n",
              "      <th>code_extract</th>\n",
              "      <th>sentiment</th>\n",
              "      <th>domain</th>\n",
              "      <th>party_cabinet_sentiment</th>\n",
              "      <th>party_cabinet</th>\n",
              "      <th>party_cabinet_domain</th>\n",
              "    </tr>\n",
              "  </thead>\n",
              "  <tbody>\n",
              "    <tr>\n",
              "      <th>0</th>\n",
              "      <td>Wir setzen uns dafür ein, daß das Leistungsver...</td>\n",
              "      <td>1998</td>\n",
              "      <td>506</td>\n",
              "      <td>437</td>\n",
              "      <td>CDU/CSU</td>\n",
              "      <td>506</td>\n",
              "      <td>left</td>\n",
              "      <td>5</td>\n",
              "      <td>CDU/CSU_1998_left</td>\n",
              "      <td>CDU/CSU_1998</td>\n",
              "      <td>CDU/CSU_1998_5</td>\n",
              "    </tr>\n",
              "    <tr>\n",
              "      <th>1</th>\n",
              "      <td>In einer weltoffenen modernen Dienstleistungs-...</td>\n",
              "      <td>1998</td>\n",
              "      <td>506</td>\n",
              "      <td>438</td>\n",
              "      <td>CDU/CSU</td>\n",
              "      <td>506</td>\n",
              "      <td>left</td>\n",
              "      <td>5</td>\n",
              "      <td>CDU/CSU_1998_left</td>\n",
              "      <td>CDU/CSU_1998</td>\n",
              "      <td>CDU/CSU_1998_5</td>\n",
              "    </tr>\n",
              "    <tr>\n",
              "      <th>2</th>\n",
              "      <td>Wir werden die Leistungsfähigkeit unserer Hoch...</td>\n",
              "      <td>1998</td>\n",
              "      <td>506</td>\n",
              "      <td>439</td>\n",
              "      <td>CDU/CSU</td>\n",
              "      <td>506</td>\n",
              "      <td>left</td>\n",
              "      <td>5</td>\n",
              "      <td>CDU/CSU_1998_left</td>\n",
              "      <td>CDU/CSU_1998</td>\n",
              "      <td>CDU/CSU_1998_5</td>\n",
              "    </tr>\n",
              "    <tr>\n",
              "      <th>3</th>\n",
              "      <td>Hochschulen sollen eigene Profile entwickeln k...</td>\n",
              "      <td>1998</td>\n",
              "      <td>506</td>\n",
              "      <td>440</td>\n",
              "      <td>CDU/CSU</td>\n",
              "      <td>506</td>\n",
              "      <td>left</td>\n",
              "      <td>5</td>\n",
              "      <td>CDU/CSU_1998_left</td>\n",
              "      <td>CDU/CSU_1998</td>\n",
              "      <td>CDU/CSU_1998_5</td>\n",
              "    </tr>\n",
              "    <tr>\n",
              "      <th>4</th>\n",
              "      <td>Die Finanzierung soll stärker an die Leistungs...</td>\n",
              "      <td>1998</td>\n",
              "      <td>506</td>\n",
              "      <td>441</td>\n",
              "      <td>CDU/CSU</td>\n",
              "      <td>506</td>\n",
              "      <td>left</td>\n",
              "      <td>5</td>\n",
              "      <td>CDU/CSU_1998_left</td>\n",
              "      <td>CDU/CSU_1998</td>\n",
              "      <td>CDU/CSU_1998_5</td>\n",
              "    </tr>\n",
              "    <tr>\n",
              "      <th>...</th>\n",
              "      <td>...</td>\n",
              "      <td>...</td>\n",
              "      <td>...</td>\n",
              "      <td>...</td>\n",
              "      <td>...</td>\n",
              "      <td>...</td>\n",
              "      <td>...</td>\n",
              "      <td>...</td>\n",
              "      <td>...</td>\n",
              "      <td>...</td>\n",
              "      <td>...</td>\n",
              "    </tr>\n",
              "    <tr>\n",
              "      <th>2960</th>\n",
              "      <td>auch die Schulpflicht gilt unmittelbar für all...</td>\n",
              "      <td>2021</td>\n",
              "      <td>506</td>\n",
              "      <td>1241</td>\n",
              "      <td>SPD</td>\n",
              "      <td>506</td>\n",
              "      <td>left</td>\n",
              "      <td>5</td>\n",
              "      <td>SPD_2021_left</td>\n",
              "      <td>SPD_2021</td>\n",
              "      <td>SPD_2021_5</td>\n",
              "    </tr>\n",
              "    <tr>\n",
              "      <th>2961</th>\n",
              "      <td>Die Potentiale von Games in der digitalen Bild...</td>\n",
              "      <td>2021</td>\n",
              "      <td>506</td>\n",
              "      <td>1324</td>\n",
              "      <td>SPD</td>\n",
              "      <td>506</td>\n",
              "      <td>left</td>\n",
              "      <td>5</td>\n",
              "      <td>SPD_2021_left</td>\n",
              "      <td>SPD_2021</td>\n",
              "      <td>SPD_2021_5</td>\n",
              "    </tr>\n",
              "    <tr>\n",
              "      <th>2962</th>\n",
              "      <td>Wir werden sie auch durch Programme wie „Kultu...</td>\n",
              "      <td>2021</td>\n",
              "      <td>506</td>\n",
              "      <td>1332</td>\n",
              "      <td>SPD</td>\n",
              "      <td>506</td>\n",
              "      <td>left</td>\n",
              "      <td>5</td>\n",
              "      <td>SPD_2021_left</td>\n",
              "      <td>SPD_2021</td>\n",
              "      <td>SPD_2021_5</td>\n",
              "    </tr>\n",
              "    <tr>\n",
              "      <th>2963</th>\n",
              "      <td>und diese mit Bildungsangeboten verknüpfen.</td>\n",
              "      <td>2021</td>\n",
              "      <td>506</td>\n",
              "      <td>1371</td>\n",
              "      <td>SPD</td>\n",
              "      <td>506</td>\n",
              "      <td>left</td>\n",
              "      <td>5</td>\n",
              "      <td>SPD_2021_left</td>\n",
              "      <td>SPD_2021</td>\n",
              "      <td>SPD_2021_5</td>\n",
              "    </tr>\n",
              "    <tr>\n",
              "      <th>2964</th>\n",
              "      <td>und mit Möglichkeiten sich zu entwickeln - ein...</td>\n",
              "      <td>2021</td>\n",
              "      <td>506</td>\n",
              "      <td>1761</td>\n",
              "      <td>SPD</td>\n",
              "      <td>506</td>\n",
              "      <td>left</td>\n",
              "      <td>5</td>\n",
              "      <td>SPD_2021_left</td>\n",
              "      <td>SPD_2021</td>\n",
              "      <td>SPD_2021_5</td>\n",
              "    </tr>\n",
              "  </tbody>\n",
              "</table>\n",
              "<p>2965 rows × 11 columns</p>\n",
              "</div>"
            ],
            "text/plain": [
              "                                                   text  cabinet code   pos  \\\n",
              "0     Wir setzen uns dafür ein, daß das Leistungsver...     1998  506   437   \n",
              "1     In einer weltoffenen modernen Dienstleistungs-...     1998  506   438   \n",
              "2     Wir werden die Leistungsfähigkeit unserer Hoch...     1998  506   439   \n",
              "3     Hochschulen sollen eigene Profile entwickeln k...     1998  506   440   \n",
              "4     Die Finanzierung soll stärker an die Leistungs...     1998  506   441   \n",
              "...                                                 ...      ...  ...   ...   \n",
              "2960  auch die Schulpflicht gilt unmittelbar für all...     2021  506  1241   \n",
              "2961  Die Potentiale von Games in der digitalen Bild...     2021  506  1324   \n",
              "2962  Wir werden sie auch durch Programme wie „Kultu...     2021  506  1332   \n",
              "2963        und diese mit Bildungsangeboten verknüpfen.     2021  506  1371   \n",
              "2964  und mit Möglichkeiten sich zu entwickeln - ein...     2021  506  1761   \n",
              "\n",
              "        party  code_extract sentiment domain party_cabinet_sentiment  \\\n",
              "0     CDU/CSU           506      left      5       CDU/CSU_1998_left   \n",
              "1     CDU/CSU           506      left      5       CDU/CSU_1998_left   \n",
              "2     CDU/CSU           506      left      5       CDU/CSU_1998_left   \n",
              "3     CDU/CSU           506      left      5       CDU/CSU_1998_left   \n",
              "4     CDU/CSU           506      left      5       CDU/CSU_1998_left   \n",
              "...       ...           ...       ...    ...                     ...   \n",
              "2960      SPD           506      left      5           SPD_2021_left   \n",
              "2961      SPD           506      left      5           SPD_2021_left   \n",
              "2962      SPD           506      left      5           SPD_2021_left   \n",
              "2963      SPD           506      left      5           SPD_2021_left   \n",
              "2964      SPD           506      left      5           SPD_2021_left   \n",
              "\n",
              "     party_cabinet party_cabinet_domain  \n",
              "0     CDU/CSU_1998       CDU/CSU_1998_5  \n",
              "1     CDU/CSU_1998       CDU/CSU_1998_5  \n",
              "2     CDU/CSU_1998       CDU/CSU_1998_5  \n",
              "3     CDU/CSU_1998       CDU/CSU_1998_5  \n",
              "4     CDU/CSU_1998       CDU/CSU_1998_5  \n",
              "...            ...                  ...  \n",
              "2960      SPD_2021           SPD_2021_5  \n",
              "2961      SPD_2021           SPD_2021_5  \n",
              "2962      SPD_2021           SPD_2021_5  \n",
              "2963      SPD_2021           SPD_2021_5  \n",
              "2964      SPD_2021           SPD_2021_5  \n",
              "\n",
              "[2965 rows x 11 columns]"
            ]
          },
          "execution_count": 35,
          "metadata": {},
          "output_type": "execute_result"
        }
      ],
      "source": [
        "manifesto_welfare"
      ]
    },
    {
      "cell_type": "code",
      "execution_count": 305,
      "metadata": {},
      "outputs": [],
      "source": [
        "len_text = []\n",
        "embed_dict = {}\n",
        "for name, group in manifesto.groupby('party_cabinet'):\n",
        "    left = group[group.sentiment =='left']['code'].tolist()\n",
        "    right = group[group.sentiment =='right']['code'].tolist()\n",
        "    len_text.append(len(left)/(len(left)+len(right)))\n",
        "    text = group['text'].tolist()\n",
        "    #len_text.append(len(text))\n",
        "    embeds = model.encode(text, normalize_embeddings=True, device='cuda')\n",
        "    embed_dict.update({name: embeds})\n",
        "    "
      ]
    },
    {
      "cell_type": "code",
      "execution_count": 511,
      "metadata": {},
      "outputs": [],
      "source": [
        "len_all = []\n",
        "for name, group in manifesto.groupby('party_cabinet'):\n",
        "    text = group['text'].tolist()\n",
        "    len_all.append(len(text))"
      ]
    },
    {
      "cell_type": "code",
      "execution_count": 523,
      "metadata": {},
      "outputs": [],
      "source": [
        "len_text = np.divide(len_text, len_all)"
      ]
    },
    {
      "cell_type": "code",
      "execution_count": 36,
      "metadata": {},
      "outputs": [
        {
          "data": {
            "text/plain": [
              "(75542, 768)"
            ]
          },
          "execution_count": 36,
          "metadata": {},
          "output_type": "execute_result"
        }
      ],
      "source": [
        "np.vstack(list(embed_dict.values())).shape"
      ]
    },
    {
      "cell_type": "code",
      "execution_count": 306,
      "metadata": {},
      "outputs": [],
      "source": [
        "document_embed = np.vstack(list(embed_dict.values()))\n",
        "from sklearn.preprocessing import OrdinalEncoder\n",
        "enc = OrdinalEncoder()\n",
        "y = enc.fit_transform(np.reshape(manifesto['sentiment'].tolist(), newshape=(-1,1)))\n",
        "embedding = umap.UMAP(n_components=2, n_neighbors=2000, n_epochs=1000, metric='cosine', low_memory=True).fit_transform(document_embed, y=y)\n"
      ]
    },
    {
      "cell_type": "code",
      "execution_count": null,
      "metadata": {},
      "outputs": [],
      "source": [
        "emb_mean_dict = {}\n",
        "for name, group in manifesto_welfare.groupby('party_cabinet'):\n",
        "    idx = group.index\n",
        "    embed = embedding[idx]\n",
        "    embed_mean = np.mean(embed, axis=0)\n",
        "    emb_mean_dict.update({name: embed_mean})"
      ]
    },
    {
      "cell_type": "code",
      "execution_count": null,
      "metadata": {},
      "outputs": [],
      "source": [
        "document_embed = np.stack(list(emb_mean_dict.values()))"
      ]
    },
    {
      "cell_type": "code",
      "execution_count": 53,
      "metadata": {},
      "outputs": [
        {
          "data": {
            "text/plain": [
              "(35, 1)"
            ]
          },
          "execution_count": 53,
          "metadata": {},
          "output_type": "execute_result"
        }
      ],
      "source": [
        "document_embed.shape"
      ]
    },
    {
      "cell_type": "code",
      "execution_count": 76,
      "metadata": {},
      "outputs": [],
      "source": [
        "labels = [name for name, group in manifesto.groupby('party_cabinet')]\n",
        "party = [lab.split('_')[0] for lab in labels]\n",
        "year = [int(lab.split('_')[1]) for lab in labels]\n",
        "#sentiment = [lab.split('_')[2] for lab in labels]\n"
      ]
    },
    {
      "cell_type": "code",
      "execution_count": 303,
      "metadata": {},
      "outputs": [
        {
          "ename": "NameError",
          "evalue": "name 'document_embed' is not defined",
          "output_type": "error",
          "traceback": [
            "\u001b[1;31m---------------------------------------------------------------------------\u001b[0m",
            "\u001b[1;31mNameError\u001b[0m                                 Traceback (most recent call last)",
            "\u001b[1;32md:\\Github\\Meta-BERT\\BERT_Scaler.ipynb Cell 108\u001b[0m in \u001b[0;36m<cell line: 1>\u001b[1;34m()\u001b[0m\n\u001b[1;32m----> <a href='vscode-notebook-cell:/d%3A/Github/Meta-BERT/BERT_Scaler.ipynb#Y205sZmlsZQ%3D%3D?line=0'>1</a>\u001b[0m df \u001b[39m=\u001b[39m pd\u001b[39m.\u001b[39mDataFrame({\u001b[39m'\u001b[39m\u001b[39mdim1\u001b[39m\u001b[39m'\u001b[39m: document_embed[:,\u001b[39m0\u001b[39m],  \u001b[39m'\u001b[39m\u001b[39mparty\u001b[39m\u001b[39m'\u001b[39m: party, \u001b[39m'\u001b[39m\u001b[39myear\u001b[39m\u001b[39m'\u001b[39m: year, \u001b[39m'\u001b[39m\u001b[39mper\u001b[39m\u001b[39m'\u001b[39m: len_text}) \u001b[39m#,'dim2': score[:,1]\u001b[39;00m\n\u001b[0;32m      <a href='vscode-notebook-cell:/d%3A/Github/Meta-BERT/BERT_Scaler.ipynb#Y205sZmlsZQ%3D%3D?line=1'>2</a>\u001b[0m \u001b[39mimport\u001b[39;00m \u001b[39mmatplotlib\u001b[39;00m\u001b[39m.\u001b[39;00m\u001b[39mpyplot\u001b[39;00m \u001b[39mas\u001b[39;00m \u001b[39mplt\u001b[39;00m\n\u001b[0;32m      <a href='vscode-notebook-cell:/d%3A/Github/Meta-BERT/BERT_Scaler.ipynb#Y205sZmlsZQ%3D%3D?line=2'>3</a>\u001b[0m sns\u001b[39m.\u001b[39mset()\n",
            "\u001b[1;31mNameError\u001b[0m: name 'document_embed' is not defined"
          ]
        }
      ],
      "source": [
        "df = pd.DataFrame({'dim1': document_embed[:,0],  'party': party, 'year': year, 'per': len_text}) #,'dim2': score[:,1]\n",
        "import matplotlib.pyplot as plt\n",
        "sns.set()\n",
        "fig, ax = plt.subplots()\n",
        "ax.margins(0.05) # Optional, just adds 5% padding to the autoscaling\n",
        "for name, group in df.groupby('party'):\n",
        "    ax.plot(group.year,group.per, marker='o', linestyle='dashed', ms=4, label=name)\n",
        "ax.legend()\n",
        "plt.show()"
      ]
    },
    {
      "cell_type": "code",
      "execution_count": 489,
      "metadata": {},
      "outputs": [
        {
          "data": {
            "text/html": [
              "<div>\n",
              "<style scoped>\n",
              "    .dataframe tbody tr th:only-of-type {\n",
              "        vertical-align: middle;\n",
              "    }\n",
              "\n",
              "    .dataframe tbody tr th {\n",
              "        vertical-align: top;\n",
              "    }\n",
              "\n",
              "    .dataframe thead th {\n",
              "        text-align: right;\n",
              "    }\n",
              "</style>\n",
              "<table border=\"1\" class=\"dataframe\">\n",
              "  <thead>\n",
              "    <tr style=\"text-align: right;\">\n",
              "      <th></th>\n",
              "      <th>dim1</th>\n",
              "      <th>dim2</th>\n",
              "      <th>party</th>\n",
              "      <th>year</th>\n",
              "      <th>per</th>\n",
              "    </tr>\n",
              "  </thead>\n",
              "  <tbody>\n",
              "    <tr>\n",
              "      <th>0</th>\n",
              "      <td>-1.468210</td>\n",
              "      <td>8.265913</td>\n",
              "      <td>CDU/CSU</td>\n",
              "      <td>1998</td>\n",
              "      <td>0.702703</td>\n",
              "    </tr>\n",
              "    <tr>\n",
              "      <th>1</th>\n",
              "      <td>-1.595375</td>\n",
              "      <td>8.885723</td>\n",
              "      <td>CDU/CSU</td>\n",
              "      <td>2002</td>\n",
              "      <td>0.722892</td>\n",
              "    </tr>\n",
              "    <tr>\n",
              "      <th>2</th>\n",
              "      <td>-1.657392</td>\n",
              "      <td>9.999141</td>\n",
              "      <td>CDU/CSU</td>\n",
              "      <td>2005</td>\n",
              "      <td>0.875000</td>\n",
              "    </tr>\n",
              "    <tr>\n",
              "      <th>3</th>\n",
              "      <td>-3.504555</td>\n",
              "      <td>10.785769</td>\n",
              "      <td>CDU/CSU</td>\n",
              "      <td>2009</td>\n",
              "      <td>0.972973</td>\n",
              "    </tr>\n",
              "    <tr>\n",
              "      <th>4</th>\n",
              "      <td>-4.026590</td>\n",
              "      <td>9.540750</td>\n",
              "      <td>CDU/CSU</td>\n",
              "      <td>2013</td>\n",
              "      <td>0.867133</td>\n",
              "    </tr>\n",
              "    <tr>\n",
              "      <th>5</th>\n",
              "      <td>-4.177767</td>\n",
              "      <td>9.129083</td>\n",
              "      <td>CDU/CSU</td>\n",
              "      <td>2017</td>\n",
              "      <td>0.988095</td>\n",
              "    </tr>\n",
              "    <tr>\n",
              "      <th>6</th>\n",
              "      <td>-3.775728</td>\n",
              "      <td>9.750640</td>\n",
              "      <td>CDU/CSU</td>\n",
              "      <td>2021</td>\n",
              "      <td>0.947867</td>\n",
              "    </tr>\n",
              "    <tr>\n",
              "      <th>7</th>\n",
              "      <td>-1.252053</td>\n",
              "      <td>7.292378</td>\n",
              "      <td>FDP</td>\n",
              "      <td>1998</td>\n",
              "      <td>0.411765</td>\n",
              "    </tr>\n",
              "    <tr>\n",
              "      <th>8</th>\n",
              "      <td>-0.889911</td>\n",
              "      <td>8.652964</td>\n",
              "      <td>FDP</td>\n",
              "      <td>2002</td>\n",
              "      <td>0.448276</td>\n",
              "    </tr>\n",
              "    <tr>\n",
              "      <th>9</th>\n",
              "      <td>-0.705908</td>\n",
              "      <td>9.156885</td>\n",
              "      <td>FDP</td>\n",
              "      <td>2005</td>\n",
              "      <td>0.666667</td>\n",
              "    </tr>\n",
              "    <tr>\n",
              "      <th>10</th>\n",
              "      <td>-1.057668</td>\n",
              "      <td>9.035998</td>\n",
              "      <td>FDP</td>\n",
              "      <td>2009</td>\n",
              "      <td>0.649351</td>\n",
              "    </tr>\n",
              "    <tr>\n",
              "      <th>11</th>\n",
              "      <td>-2.168332</td>\n",
              "      <td>10.651568</td>\n",
              "      <td>FDP</td>\n",
              "      <td>2013</td>\n",
              "      <td>0.467391</td>\n",
              "    </tr>\n",
              "    <tr>\n",
              "      <th>12</th>\n",
              "      <td>-1.867518</td>\n",
              "      <td>9.290329</td>\n",
              "      <td>FDP</td>\n",
              "      <td>2017</td>\n",
              "      <td>0.759259</td>\n",
              "    </tr>\n",
              "    <tr>\n",
              "      <th>13</th>\n",
              "      <td>-3.029798</td>\n",
              "      <td>9.773808</td>\n",
              "      <td>FDP</td>\n",
              "      <td>2021</td>\n",
              "      <td>0.828877</td>\n",
              "    </tr>\n",
              "    <tr>\n",
              "      <th>14</th>\n",
              "      <td>-1.691034</td>\n",
              "      <td>7.128670</td>\n",
              "      <td>Greens</td>\n",
              "      <td>1998</td>\n",
              "      <td>0.969512</td>\n",
              "    </tr>\n",
              "    <tr>\n",
              "      <th>15</th>\n",
              "      <td>-3.330282</td>\n",
              "      <td>10.321771</td>\n",
              "      <td>Greens</td>\n",
              "      <td>2002</td>\n",
              "      <td>0.979167</td>\n",
              "    </tr>\n",
              "    <tr>\n",
              "      <th>16</th>\n",
              "      <td>-2.471139</td>\n",
              "      <td>9.457270</td>\n",
              "      <td>Greens</td>\n",
              "      <td>2005</td>\n",
              "      <td>0.951456</td>\n",
              "    </tr>\n",
              "    <tr>\n",
              "      <th>17</th>\n",
              "      <td>-2.543941</td>\n",
              "      <td>8.967677</td>\n",
              "      <td>Greens</td>\n",
              "      <td>2009</td>\n",
              "      <td>0.982301</td>\n",
              "    </tr>\n",
              "    <tr>\n",
              "      <th>18</th>\n",
              "      <td>-2.286806</td>\n",
              "      <td>9.571211</td>\n",
              "      <td>Greens</td>\n",
              "      <td>2013</td>\n",
              "      <td>0.980556</td>\n",
              "    </tr>\n",
              "    <tr>\n",
              "      <th>19</th>\n",
              "      <td>-3.013292</td>\n",
              "      <td>8.875032</td>\n",
              "      <td>Greens</td>\n",
              "      <td>2017</td>\n",
              "      <td>1.000000</td>\n",
              "    </tr>\n",
              "    <tr>\n",
              "      <th>20</th>\n",
              "      <td>-3.256535</td>\n",
              "      <td>9.316763</td>\n",
              "      <td>Greens</td>\n",
              "      <td>2021</td>\n",
              "      <td>1.000000</td>\n",
              "    </tr>\n",
              "    <tr>\n",
              "      <th>21</th>\n",
              "      <td>-1.892158</td>\n",
              "      <td>6.833019</td>\n",
              "      <td>PDS/LINKE</td>\n",
              "      <td>1998</td>\n",
              "      <td>1.000000</td>\n",
              "    </tr>\n",
              "    <tr>\n",
              "      <th>22</th>\n",
              "      <td>-2.094636</td>\n",
              "      <td>7.234963</td>\n",
              "      <td>PDS/LINKE</td>\n",
              "      <td>2002</td>\n",
              "      <td>1.000000</td>\n",
              "    </tr>\n",
              "    <tr>\n",
              "      <th>23</th>\n",
              "      <td>-2.620506</td>\n",
              "      <td>6.986403</td>\n",
              "      <td>PDS/LINKE</td>\n",
              "      <td>2005</td>\n",
              "      <td>1.000000</td>\n",
              "    </tr>\n",
              "    <tr>\n",
              "      <th>24</th>\n",
              "      <td>-3.050600</td>\n",
              "      <td>7.115939</td>\n",
              "      <td>PDS/LINKE</td>\n",
              "      <td>2009</td>\n",
              "      <td>1.000000</td>\n",
              "    </tr>\n",
              "    <tr>\n",
              "      <th>25</th>\n",
              "      <td>-3.359921</td>\n",
              "      <td>7.390723</td>\n",
              "      <td>PDS/LINKE</td>\n",
              "      <td>2013</td>\n",
              "      <td>0.995816</td>\n",
              "    </tr>\n",
              "    <tr>\n",
              "      <th>26</th>\n",
              "      <td>-3.109098</td>\n",
              "      <td>7.693302</td>\n",
              "      <td>PDS/LINKE</td>\n",
              "      <td>2017</td>\n",
              "      <td>1.000000</td>\n",
              "    </tr>\n",
              "    <tr>\n",
              "      <th>27</th>\n",
              "      <td>-3.339502</td>\n",
              "      <td>7.976220</td>\n",
              "      <td>PDS/LINKE</td>\n",
              "      <td>2021</td>\n",
              "      <td>0.998073</td>\n",
              "    </tr>\n",
              "    <tr>\n",
              "      <th>28</th>\n",
              "      <td>-1.564222</td>\n",
              "      <td>7.665206</td>\n",
              "      <td>SPD</td>\n",
              "      <td>1998</td>\n",
              "      <td>0.727273</td>\n",
              "    </tr>\n",
              "    <tr>\n",
              "      <th>29</th>\n",
              "      <td>-3.121447</td>\n",
              "      <td>10.975617</td>\n",
              "      <td>SPD</td>\n",
              "      <td>2002</td>\n",
              "      <td>0.875000</td>\n",
              "    </tr>\n",
              "    <tr>\n",
              "      <th>30</th>\n",
              "      <td>-2.829905</td>\n",
              "      <td>10.883260</td>\n",
              "      <td>SPD</td>\n",
              "      <td>2005</td>\n",
              "      <td>0.875000</td>\n",
              "    </tr>\n",
              "    <tr>\n",
              "      <th>31</th>\n",
              "      <td>-2.461424</td>\n",
              "      <td>10.391715</td>\n",
              "      <td>SPD</td>\n",
              "      <td>2009</td>\n",
              "      <td>0.983607</td>\n",
              "    </tr>\n",
              "    <tr>\n",
              "      <th>32</th>\n",
              "      <td>-2.878703</td>\n",
              "      <td>10.130870</td>\n",
              "      <td>SPD</td>\n",
              "      <td>2013</td>\n",
              "      <td>0.976510</td>\n",
              "    </tr>\n",
              "    <tr>\n",
              "      <th>33</th>\n",
              "      <td>-3.444325</td>\n",
              "      <td>8.895823</td>\n",
              "      <td>SPD</td>\n",
              "      <td>2017</td>\n",
              "      <td>1.000000</td>\n",
              "    </tr>\n",
              "    <tr>\n",
              "      <th>34</th>\n",
              "      <td>-2.789569</td>\n",
              "      <td>9.483924</td>\n",
              "      <td>SPD</td>\n",
              "      <td>2021</td>\n",
              "      <td>1.000000</td>\n",
              "    </tr>\n",
              "  </tbody>\n",
              "</table>\n",
              "</div>"
            ],
            "text/plain": [
              "        dim1       dim2      party  year       per\n",
              "0  -1.468210   8.265913    CDU/CSU  1998  0.702703\n",
              "1  -1.595375   8.885723    CDU/CSU  2002  0.722892\n",
              "2  -1.657392   9.999141    CDU/CSU  2005  0.875000\n",
              "3  -3.504555  10.785769    CDU/CSU  2009  0.972973\n",
              "4  -4.026590   9.540750    CDU/CSU  2013  0.867133\n",
              "5  -4.177767   9.129083    CDU/CSU  2017  0.988095\n",
              "6  -3.775728   9.750640    CDU/CSU  2021  0.947867\n",
              "7  -1.252053   7.292378        FDP  1998  0.411765\n",
              "8  -0.889911   8.652964        FDP  2002  0.448276\n",
              "9  -0.705908   9.156885        FDP  2005  0.666667\n",
              "10 -1.057668   9.035998        FDP  2009  0.649351\n",
              "11 -2.168332  10.651568        FDP  2013  0.467391\n",
              "12 -1.867518   9.290329        FDP  2017  0.759259\n",
              "13 -3.029798   9.773808        FDP  2021  0.828877\n",
              "14 -1.691034   7.128670     Greens  1998  0.969512\n",
              "15 -3.330282  10.321771     Greens  2002  0.979167\n",
              "16 -2.471139   9.457270     Greens  2005  0.951456\n",
              "17 -2.543941   8.967677     Greens  2009  0.982301\n",
              "18 -2.286806   9.571211     Greens  2013  0.980556\n",
              "19 -3.013292   8.875032     Greens  2017  1.000000\n",
              "20 -3.256535   9.316763     Greens  2021  1.000000\n",
              "21 -1.892158   6.833019  PDS/LINKE  1998  1.000000\n",
              "22 -2.094636   7.234963  PDS/LINKE  2002  1.000000\n",
              "23 -2.620506   6.986403  PDS/LINKE  2005  1.000000\n",
              "24 -3.050600   7.115939  PDS/LINKE  2009  1.000000\n",
              "25 -3.359921   7.390723  PDS/LINKE  2013  0.995816\n",
              "26 -3.109098   7.693302  PDS/LINKE  2017  1.000000\n",
              "27 -3.339502   7.976220  PDS/LINKE  2021  0.998073\n",
              "28 -1.564222   7.665206        SPD  1998  0.727273\n",
              "29 -3.121447  10.975617        SPD  2002  0.875000\n",
              "30 -2.829905  10.883260        SPD  2005  0.875000\n",
              "31 -2.461424  10.391715        SPD  2009  0.983607\n",
              "32 -2.878703  10.130870        SPD  2013  0.976510\n",
              "33 -3.444325   8.895823        SPD  2017  1.000000\n",
              "34 -2.789569   9.483924        SPD  2021  1.000000"
            ]
          },
          "execution_count": 489,
          "metadata": {},
          "output_type": "execute_result"
        }
      ],
      "source": [
        "df"
      ]
    },
    {
      "cell_type": "code",
      "execution_count": 83,
      "metadata": {},
      "outputs": [
        {
          "data": {
            "text/plain": [
              "array([[ 1.        , -0.95524976],\n",
              "       [-0.95524976,  1.        ]])"
            ]
          },
          "execution_count": 83,
          "metadata": {},
          "output_type": "execute_result"
        }
      ],
      "source": [
        "np.corrcoef(len_text, document_embed[:,0])"
      ]
    },
    {
      "cell_type": "code",
      "execution_count": null,
      "metadata": {},
      "outputs": [],
      "source": [
        "from sklearn.decomposition import PCA\n",
        "pca = PCA(n_components=2, random_state=seed_val)\n",
        "pca_embed = pca.fit_transform(document_embed)"
      ]
    },
    {
      "cell_type": "code",
      "execution_count": 182,
      "metadata": {},
      "outputs": [],
      "source": [
        "cluster = hdbscan.HDBSCAN(min_cluster_size=3,\n",
        "                          metric='euclidean',                      \n",
        "                          cluster_selection_method='eom').fit(pca_embed)"
      ]
    },
    {
      "cell_type": "code",
      "execution_count": 183,
      "metadata": {},
      "outputs": [
        {
          "data": {
            "text/plain": [
              "array([-1,  2, -1,  0,  0,  0, -1, -1,  2,  2,  2,  2,  2,  2,  1,  2,  2,\n",
              "        2,  2,  2, -1, -1,  1,  1, -1,  2,  2,  2, -1,  2, -1, -1,  2,  2,\n",
              "        2], dtype=int64)"
            ]
          },
          "execution_count": 183,
          "metadata": {},
          "output_type": "execute_result"
        }
      ],
      "source": [
        "cluster.labels_"
      ]
    },
    {
      "cell_type": "code",
      "execution_count": 140,
      "metadata": {},
      "outputs": [
        {
          "data": {
            "text/plain": [
              "(35, 3)"
            ]
          },
          "execution_count": 140,
          "metadata": {},
          "output_type": "execute_result"
        }
      ],
      "source": [
        "document_embed.shape"
      ]
    },
    {
      "cell_type": "code",
      "execution_count": 498,
      "metadata": {},
      "outputs": [],
      "source": [
        "umap_data = umap.UMAP(n_neighbors=15, n_components=2, min_dist=0.0, metric='cosine').fit_transform(document_embed)\n",
        "result = pd.DataFrame(umap_data, columns=['x', 'y'])\n",
        "result['labels'] = cluster.labels_"
      ]
    },
    {
      "cell_type": "code",
      "execution_count": 502,
      "metadata": {},
      "outputs": [
        {
          "data": {
            "text/plain": [
              "<matplotlib.colorbar.Colorbar at 0x18ebb6f0460>"
            ]
          },
          "execution_count": 502,
          "metadata": {},
          "output_type": "execute_result"
        },
        {
          "data": {
            "image/png": "[encoded data removed]",
            "text/plain": [
              "<Figure size 2000x1000 with 2 Axes>"
            ]
          },
          "metadata": {},
          "output_type": "display_data"
        }
      ],
      "source": [
        "# Visualize clusters\n",
        "fig, ax = plt.subplots(figsize=(20, 10))\n",
        "outliers = result.loc[result.labels == -1, :]\n",
        "clustered = result.loc[result.labels != -1, :]\n",
        "plt.scatter(outliers.x, outliers.y, color='#BDBDBD', s=1)\n",
        "plt.scatter(clustered.x, clustered.y, c=clustered.labels, s=1, cmap='hsv_r')\n",
        "plt.colorbar()"
      ]
    },
    {
      "cell_type": "code",
      "execution_count": null,
      "metadata": {},
      "outputs": [],
      "source": [
        "docs_df = pd.DataFrame(manifesto_welfare['text'].tolist(), columns=[\"Doc\"])\n",
        "docs_df['Topic'] = cluster.labels_\n",
        "docs_df['Doc_ID'] = range(len(docs_df))\n",
        "docs_per_topic = docs_df.groupby(['Topic'], as_index = False).agg({'Doc': ' '.join})"
      ]
    },
    {
      "cell_type": "code",
      "execution_count": 150,
      "metadata": {},
      "outputs": [],
      "source": [
        "from sklearn.feature_extraction.text import CountVectorizer\n",
        "\n",
        "def c_tf_idf(documents, m, ngram_range=(1, 1)):\n",
        "    count = CountVectorizer(ngram_range=ngram_range, stop_words=stopwords.words('german')).fit(documents)\n",
        "    t = count.transform(documents).toarray()\n",
        "    w = t.sum(axis=1)\n",
        "    tf = np.divide(t.T, w)\n",
        "    sum_t = t.sum(axis=0)\n",
        "    idf = np.log(np.divide(m, sum_t)).reshape(-1, 1)\n",
        "    tf_idf = np.multiply(tf, idf)\n",
        "\n",
        "    return tf_idf, count\n",
        "  \n",
        "tf_idf, count = c_tf_idf(docs_per_topic.Doc.values, m=len(manifesto_welfare['text'].tolist()))"
      ]
    },
    {
      "cell_type": "code",
      "execution_count": 151,
      "metadata": {},
      "outputs": [
        {
          "data": {
            "text/html": [
              "<div>\n",
              "<style scoped>\n",
              "    .dataframe tbody tr th:only-of-type {\n",
              "        vertical-align: middle;\n",
              "    }\n",
              "\n",
              "    .dataframe tbody tr th {\n",
              "        vertical-align: top;\n",
              "    }\n",
              "\n",
              "    .dataframe thead th {\n",
              "        text-align: right;\n",
              "    }\n",
              "</style>\n",
              "<table border=\"1\" class=\"dataframe\">\n",
              "  <thead>\n",
              "    <tr style=\"text-align: right;\">\n",
              "      <th></th>\n",
              "      <th>Topic</th>\n",
              "      <th>Size</th>\n",
              "    </tr>\n",
              "  </thead>\n",
              "  <tbody>\n",
              "    <tr>\n",
              "      <th>0</th>\n",
              "      <td>-1</td>\n",
              "      <td>3394</td>\n",
              "    </tr>\n",
              "    <tr>\n",
              "      <th>3</th>\n",
              "      <td>2</td>\n",
              "      <td>934</td>\n",
              "    </tr>\n",
              "    <tr>\n",
              "      <th>2</th>\n",
              "      <td>1</td>\n",
              "      <td>627</td>\n",
              "    </tr>\n",
              "    <tr>\n",
              "      <th>1</th>\n",
              "      <td>0</td>\n",
              "      <td>232</td>\n",
              "    </tr>\n",
              "  </tbody>\n",
              "</table>\n",
              "</div>"
            ],
            "text/plain": [
              "   Topic  Size\n",
              "0     -1  3394\n",
              "3      2   934\n",
              "2      1   627\n",
              "1      0   232"
            ]
          },
          "execution_count": 151,
          "metadata": {},
          "output_type": "execute_result"
        }
      ],
      "source": [
        "def extract_top_n_words_per_topic(tf_idf, count, docs_per_topic, n=20):\n",
        "    words = count.get_feature_names_out()\n",
        "    labels = list(docs_per_topic.Topic)\n",
        "    tf_idf_transposed = tf_idf.T\n",
        "    indices = tf_idf_transposed.argsort()[:, -n:]\n",
        "    top_n_words = {label: [(words[j], tf_idf_transposed[i][j]) for j in indices[i]][::-1] for i, label in enumerate(labels)}\n",
        "    return top_n_words\n",
        "\n",
        "def extract_topic_sizes(df):\n",
        "    topic_sizes = (df.groupby(['Topic'])\n",
        "                     .Doc\n",
        "                     .count()\n",
        "                     .reset_index()\n",
        "                     .rename({\"Topic\": \"Topic\", \"Doc\": \"Size\"}, axis='columns')\n",
        "                     .sort_values(\"Size\", ascending=False))\n",
        "    return topic_sizes\n",
        "\n",
        "top_n_words = extract_top_n_words_per_topic(tf_idf, count, docs_per_topic, n=20)\n",
        "topic_sizes = extract_topic_sizes(docs_df); topic_sizes.head(10)"
      ]
    },
    {
      "cell_type": "code",
      "execution_count": 148,
      "metadata": {},
      "outputs": [
        {
          "data": {
            "text/html": [
              "<div>\n",
              "<style scoped>\n",
              "    .dataframe tbody tr th:only-of-type {\n",
              "        vertical-align: middle;\n",
              "    }\n",
              "\n",
              "    .dataframe tbody tr th {\n",
              "        vertical-align: top;\n",
              "    }\n",
              "\n",
              "    .dataframe thead th {\n",
              "        text-align: right;\n",
              "    }\n",
              "</style>\n",
              "<table border=\"1\" class=\"dataframe\">\n",
              "  <thead>\n",
              "    <tr style=\"text-align: right;\">\n",
              "      <th></th>\n",
              "      <th>Topic</th>\n",
              "      <th>Size</th>\n",
              "    </tr>\n",
              "  </thead>\n",
              "  <tbody>\n",
              "    <tr>\n",
              "      <th>0</th>\n",
              "      <td>-1</td>\n",
              "      <td>5187</td>\n",
              "    </tr>\n",
              "  </tbody>\n",
              "</table>\n",
              "</div>"
            ],
            "text/plain": [
              "   Topic  Size\n",
              "0     -1  5187"
            ]
          },
          "execution_count": 148,
          "metadata": {},
          "output_type": "execute_result"
        }
      ],
      "source": [
        "from sklearn.metrics.pairwise import cosine_similarity\n",
        "for i in range(20):\n",
        "    # Calculate cosine similarity\n",
        "    similarities = cosine_similarity(tf_idf.T)\n",
        "    np.fill_diagonal(similarities, 0)\n",
        "\n",
        "    # Extract label to merge into and from where\n",
        "    topic_sizes = docs_df.groupby(['Topic']).count().sort_values(\"Doc\", ascending=False).reset_index()\n",
        "    topic_to_merge = topic_sizes.iloc[-1].Topic\n",
        "    topic_to_merge_into = np.argmax(similarities[topic_to_merge + 1]) - 1\n",
        "\n",
        "    # Adjust topics\n",
        "    docs_df.loc[docs_df.Topic == topic_to_merge, \"Topic\"] = topic_to_merge_into\n",
        "    old_topics = docs_df.sort_values(\"Topic\").Topic.unique()\n",
        "    map_topics = {old_topic: index - 1 for index, old_topic in enumerate(old_topics)}\n",
        "    docs_df.Topic = docs_df.Topic.map(map_topics)\n",
        "    docs_per_topic = docs_df.groupby(['Topic'], as_index = False).agg({'Doc': ' '.join})\n",
        "\n",
        "    # Calculate new topic words\n",
        "    m = len(manifesto_welfare['text'].tolist())\n",
        "    tf_idf, count = c_tf_idf(docs_per_topic.Doc.values, m)\n",
        "    top_n_words = extract_top_n_words_per_topic(tf_idf, count, docs_per_topic, n=20)\n",
        "\n",
        "topic_sizes = extract_topic_sizes(docs_df); topic_sizes.head(10)"
      ]
    },
    {
      "cell_type": "code",
      "execution_count": 154,
      "metadata": {},
      "outputs": [
        {
          "data": {
            "text/plain": [
              "[('rente', 0.0386656175170545),\n",
              " ('altersvorsorge', 0.030643967244284004),\n",
              " ('rentenversicherung', 0.02440442182644493),\n",
              " ('kindergeld', 0.022400303538711978),\n",
              " ('müssen', 0.020437202206478423),\n",
              " ('private', 0.019964771430003126),\n",
              " ('gesetzlichen', 0.01860772532188563),\n",
              " ('altersarmut', 0.0181979623140137),\n",
              " ('alterssicherung', 0.017720215004242906),\n",
              " ('grundsicherung', 0.01767733905579135),\n",
              " ('gesetzliche', 0.017572755096767607),\n",
              " ('menschen', 0.01725232659521793),\n",
              " ('vorsorge', 0.016646262579743335),\n",
              " ('leistungen', 0.016580193036088507),\n",
              " ('alter', 0.01594378531548992),\n",
              " ('kinder', 0.015586618065077601),\n",
              " ('einführen', 0.015517385748632678),\n",
              " ('rentner', 0.015214105919124971),\n",
              " ('euro', 0.014711914568041448),\n",
              " ('einkommen', 0.014703566052634778)]"
            ]
          },
          "execution_count": 154,
          "metadata": {},
          "output_type": "execute_result"
        }
      ],
      "source": [
        "top_n_words[2][:20]"
      ]
    },
    {
      "cell_type": "code",
      "execution_count": null,
      "metadata": {},
      "outputs": [],
      "source": [
        "topic_model = BERTopic(embedding_model=\"xlm-r-bert-base-nli-stsb-mean-tokens\").fit(docs)"
      ]
    },
    {
      "cell_type": "code",
      "execution_count": 470,
      "metadata": {},
      "outputs": [],
      "source": [
        "document_embed = np.stack(list(emb_mean_dict.values()))"
      ]
    },
    {
      "cell_type": "code",
      "execution_count": 464,
      "metadata": {},
      "outputs": [],
      "source": [
        "len_text = (2*(len_text- np.min(len_text))/(np.max(len_text) - np.min(len_text)))-1\n",
        "document_embed = np.multiply(document_embed, len_text.reshape(document_embed.shape[0],-1))"
      ]
    },
    {
      "cell_type": "code",
      "execution_count": 447,
      "metadata": {},
      "outputs": [
        {
          "data": {
            "text/plain": [
              "array([-0.01081081,  0.05783133,  0.575     ,  0.90810811,  0.54825175,\n",
              "        0.95952381,  0.82274882, -1.        , -0.87586207, -0.13333333,\n",
              "       -0.19220779, -0.81086957,  0.18148148,  0.41818182,  0.89634146,\n",
              "        0.92916667,  0.83495146,  0.93982301,  0.93388889,  1.        ,\n",
              "        1.        ,  1.        ,  1.        ,  1.        ,  1.        ,\n",
              "        0.98577406,  1.        ,  0.99344894,  0.07272727,  0.575     ,\n",
              "        0.575     ,  0.9442623 ,  0.92013423,  1.        ,  1.        ])"
            ]
          },
          "execution_count": 447,
          "metadata": {},
          "output_type": "execute_result"
        }
      ],
      "source": [
        "len_text"
      ]
    },
    {
      "attachments": {},
      "cell_type": "markdown",
      "metadata": {},
      "source": [
        "## Scaling - Predict sentiments and use it as guidance"
      ]
    },
    {
      "cell_type": "code",
      "execution_count": 33,
      "metadata": {},
      "outputs": [],
      "source": [
        "cap_deu = pd.read_csv('data/CAP/cap_data_cleaned.csv', encoding='utf-8')"
      ]
    },
    {
      "cell_type": "code",
      "execution_count": 34,
      "metadata": {},
      "outputs": [],
      "source": [
        "cap_deu['party'] = cap_deu['party_name'].apply(functions.party_new)"
      ]
    },
    {
      "cell_type": "code",
      "execution_count": 536,
      "metadata": {},
      "outputs": [
        {
          "data": {
            "text/html": [
              "<div>\n",
              "<style scoped>\n",
              "    .dataframe tbody tr th:only-of-type {\n",
              "        vertical-align: middle;\n",
              "    }\n",
              "\n",
              "    .dataframe tbody tr th {\n",
              "        vertical-align: top;\n",
              "    }\n",
              "\n",
              "    .dataframe thead th {\n",
              "        text-align: right;\n",
              "    }\n",
              "</style>\n",
              "<table border=\"1\" class=\"dataframe\">\n",
              "  <thead>\n",
              "    <tr style=\"text-align: right;\">\n",
              "      <th></th>\n",
              "      <th>Unnamed: 0</th>\n",
              "      <th>election_year</th>\n",
              "      <th>party_name</th>\n",
              "      <th>party_id</th>\n",
              "      <th>manifesto_id</th>\n",
              "      <th>sentence_id</th>\n",
              "      <th>cap_topic</th>\n",
              "      <th>cap_subtopic</th>\n",
              "      <th>header</th>\n",
              "      <th>junk</th>\n",
              "      <th>eu_dummy</th>\n",
              "      <th>sentence_text</th>\n",
              "    </tr>\n",
              "    <tr>\n",
              "      <th>party</th>\n",
              "      <th></th>\n",
              "      <th></th>\n",
              "      <th></th>\n",
              "      <th></th>\n",
              "      <th></th>\n",
              "      <th></th>\n",
              "      <th></th>\n",
              "      <th></th>\n",
              "      <th></th>\n",
              "      <th></th>\n",
              "      <th></th>\n",
              "      <th></th>\n",
              "    </tr>\n",
              "  </thead>\n",
              "  <tbody>\n",
              "    <tr>\n",
              "      <th>CDU/CSU</th>\n",
              "      <td>13236</td>\n",
              "      <td>13236</td>\n",
              "      <td>13236</td>\n",
              "      <td>13236</td>\n",
              "      <td>13236</td>\n",
              "      <td>13236</td>\n",
              "      <td>13236</td>\n",
              "      <td>13236</td>\n",
              "      <td>13236</td>\n",
              "      <td>13236</td>\n",
              "      <td>13236</td>\n",
              "      <td>13236</td>\n",
              "    </tr>\n",
              "    <tr>\n",
              "      <th>FDP</th>\n",
              "      <td>19419</td>\n",
              "      <td>19419</td>\n",
              "      <td>19419</td>\n",
              "      <td>19419</td>\n",
              "      <td>19419</td>\n",
              "      <td>19419</td>\n",
              "      <td>19419</td>\n",
              "      <td>19419</td>\n",
              "      <td>19419</td>\n",
              "      <td>19419</td>\n",
              "      <td>19419</td>\n",
              "      <td>19419</td>\n",
              "    </tr>\n",
              "    <tr>\n",
              "      <th>GRUENEN</th>\n",
              "      <td>18853</td>\n",
              "      <td>18853</td>\n",
              "      <td>18853</td>\n",
              "      <td>18853</td>\n",
              "      <td>18853</td>\n",
              "      <td>18853</td>\n",
              "      <td>18853</td>\n",
              "      <td>18853</td>\n",
              "      <td>18853</td>\n",
              "      <td>18853</td>\n",
              "      <td>18853</td>\n",
              "      <td>18853</td>\n",
              "    </tr>\n",
              "    <tr>\n",
              "      <th>PDS/DIE LINKE</th>\n",
              "      <td>6857</td>\n",
              "      <td>6857</td>\n",
              "      <td>6857</td>\n",
              "      <td>6857</td>\n",
              "      <td>6857</td>\n",
              "      <td>6857</td>\n",
              "      <td>6857</td>\n",
              "      <td>6857</td>\n",
              "      <td>6857</td>\n",
              "      <td>6857</td>\n",
              "      <td>6857</td>\n",
              "      <td>6857</td>\n",
              "    </tr>\n",
              "    <tr>\n",
              "      <th>SPD</th>\n",
              "      <td>16825</td>\n",
              "      <td>16825</td>\n",
              "      <td>16825</td>\n",
              "      <td>16825</td>\n",
              "      <td>16825</td>\n",
              "      <td>16825</td>\n",
              "      <td>16825</td>\n",
              "      <td>16825</td>\n",
              "      <td>16825</td>\n",
              "      <td>16825</td>\n",
              "      <td>16825</td>\n",
              "      <td>16825</td>\n",
              "    </tr>\n",
              "  </tbody>\n",
              "</table>\n",
              "</div>"
            ],
            "text/plain": [
              "               Unnamed: 0  election_year  party_name  party_id  manifesto_id  \\\n",
              "party                                                                          \n",
              "CDU/CSU             13236          13236       13236     13236         13236   \n",
              "FDP                 19419          19419       19419     19419         19419   \n",
              "GRUENEN             18853          18853       18853     18853         18853   \n",
              "PDS/DIE LINKE        6857           6857        6857      6857          6857   \n",
              "SPD                 16825          16825       16825     16825         16825   \n",
              "\n",
              "               sentence_id  cap_topic  cap_subtopic  header   junk  eu_dummy  \\\n",
              "party                                                                          \n",
              "CDU/CSU              13236      13236         13236   13236  13236     13236   \n",
              "FDP                  19419      19419         19419   19419  19419     19419   \n",
              "GRUENEN              18853      18853         18853   18853  18853     18853   \n",
              "PDS/DIE LINKE         6857       6857          6857    6857   6857      6857   \n",
              "SPD                  16825      16825         16825   16825  16825     16825   \n",
              "\n",
              "               sentence_text  \n",
              "party                         \n",
              "CDU/CSU                13236  \n",
              "FDP                    19419  \n",
              "GRUENEN                18853  \n",
              "PDS/DIE LINKE           6857  \n",
              "SPD                    16825  "
            ]
          },
          "execution_count": 536,
          "metadata": {},
          "output_type": "execute_result"
        }
      ],
      "source": [
        "cap_deu.groupby('party').count()"
      ]
    },
    {
      "cell_type": "code",
      "execution_count": 35,
      "metadata": {},
      "outputs": [
        {
          "data": {
            "text/html": [
              "<div>\n",
              "<style scoped>\n",
              "    .dataframe tbody tr th:only-of-type {\n",
              "        vertical-align: middle;\n",
              "    }\n",
              "\n",
              "    .dataframe tbody tr th {\n",
              "        vertical-align: top;\n",
              "    }\n",
              "\n",
              "    .dataframe thead th {\n",
              "        text-align: right;\n",
              "    }\n",
              "</style>\n",
              "<table border=\"1\" class=\"dataframe\">\n",
              "  <thead>\n",
              "    <tr style=\"text-align: right;\">\n",
              "      <th></th>\n",
              "      <th>election_year</th>\n",
              "      <th>party</th>\n",
              "      <th>cap_topic</th>\n",
              "      <th>cap_subtopic</th>\n",
              "      <th>eu_dummy</th>\n",
              "      <th>sentence_text</th>\n",
              "    </tr>\n",
              "  </thead>\n",
              "  <tbody>\n",
              "    <tr>\n",
              "      <th>0</th>\n",
              "      <td>1949</td>\n",
              "      <td>SPD</td>\n",
              "      <td>99</td>\n",
              "      <td>99</td>\n",
              "      <td>0</td>\n",
              "      <td>Für ein freies Deutschland</td>\n",
              "    </tr>\n",
              "    <tr>\n",
              "      <th>1</th>\n",
              "      <td>1949</td>\n",
              "      <td>SPD</td>\n",
              "      <td>99</td>\n",
              "      <td>99</td>\n",
              "      <td>0</td>\n",
              "      <td>Wählerinnen und Wähler!</td>\n",
              "    </tr>\n",
              "    <tr>\n",
              "      <th>2</th>\n",
              "      <td>1949</td>\n",
              "      <td>SPD</td>\n",
              "      <td>99</td>\n",
              "      <td>99</td>\n",
              "      <td>0</td>\n",
              "      <td>Am 14. August entscheidet XX darüber, wie ein ...</td>\n",
              "    </tr>\n",
              "    <tr>\n",
              "      <th>3</th>\n",
              "      <td>1949</td>\n",
              "      <td>SPD</td>\n",
              "      <td>20</td>\n",
              "      <td>2099</td>\n",
              "      <td>0</td>\n",
              "      <td>Heute ist unser land geteilt.</td>\n",
              "    </tr>\n",
              "    <tr>\n",
              "      <th>4</th>\n",
              "      <td>1949</td>\n",
              "      <td>SPD</td>\n",
              "      <td>20</td>\n",
              "      <td>2099</td>\n",
              "      <td>0</td>\n",
              "      <td>Swjetrussland hat seine Besatzungszone separiert.</td>\n",
              "    </tr>\n",
              "  </tbody>\n",
              "</table>\n",
              "</div>"
            ],
            "text/plain": [
              "   election_year party  cap_topic  cap_subtopic  eu_dummy  \\\n",
              "0           1949   SPD         99            99         0   \n",
              "1           1949   SPD         99            99         0   \n",
              "2           1949   SPD         99            99         0   \n",
              "3           1949   SPD         20          2099         0   \n",
              "4           1949   SPD         20          2099         0   \n",
              "\n",
              "                                       sentence_text  \n",
              "0                         Für ein freies Deutschland  \n",
              "1                            Wählerinnen und Wähler!  \n",
              "2  Am 14. August entscheidet XX darüber, wie ein ...  \n",
              "3                      Heute ist unser land geteilt.  \n",
              "4  Swjetrussland hat seine Besatzungszone separiert.  "
            ]
          },
          "execution_count": 35,
          "metadata": {},
          "output_type": "execute_result"
        }
      ],
      "source": [
        "cap_deu = cap_deu[['election_year','party','cap_topic','cap_subtopic','eu_dummy','sentence_text']]\n",
        "cap_deu.head()"
      ]
    },
    {
      "cell_type": "code",
      "execution_count": 36,
      "metadata": {},
      "outputs": [],
      "source": [
        "cap_deu['party_cabinet'] = cap_deu.party.str.cat(others=[cap_deu.election_year.astype(str)], sep='_')"
      ]
    },
    {
      "cell_type": "code",
      "execution_count": 120,
      "metadata": {},
      "outputs": [],
      "source": [
        "cap_deu_macro = cap_deu.loc[(cap_deu.cap_subtopic == 1302) & (cap_deu.election_year >= 1991),:].reset_index(drop=True)\n"
      ]
    },
    {
      "cell_type": "code",
      "execution_count": 121,
      "metadata": {},
      "outputs": [
        {
          "data": {
            "text/html": [
              "<div>\n",
              "<style scoped>\n",
              "    .dataframe tbody tr th:only-of-type {\n",
              "        vertical-align: middle;\n",
              "    }\n",
              "\n",
              "    .dataframe tbody tr th {\n",
              "        vertical-align: top;\n",
              "    }\n",
              "\n",
              "    .dataframe thead th {\n",
              "        text-align: right;\n",
              "    }\n",
              "</style>\n",
              "<table border=\"1\" class=\"dataframe\">\n",
              "  <thead>\n",
              "    <tr style=\"text-align: right;\">\n",
              "      <th></th>\n",
              "      <th>election_year</th>\n",
              "      <th>party</th>\n",
              "      <th>cap_topic</th>\n",
              "      <th>cap_subtopic</th>\n",
              "      <th>eu_dummy</th>\n",
              "      <th>sentence_text</th>\n",
              "    </tr>\n",
              "    <tr>\n",
              "      <th>party_cabinet</th>\n",
              "      <th></th>\n",
              "      <th></th>\n",
              "      <th></th>\n",
              "      <th></th>\n",
              "      <th></th>\n",
              "      <th></th>\n",
              "    </tr>\n",
              "  </thead>\n",
              "  <tbody>\n",
              "    <tr>\n",
              "      <th>CDU/CSU_1994</th>\n",
              "      <td>7</td>\n",
              "      <td>7</td>\n",
              "      <td>7</td>\n",
              "      <td>7</td>\n",
              "      <td>7</td>\n",
              "      <td>7</td>\n",
              "    </tr>\n",
              "    <tr>\n",
              "      <th>CDU/CSU_2002</th>\n",
              "      <td>1</td>\n",
              "      <td>1</td>\n",
              "      <td>1</td>\n",
              "      <td>1</td>\n",
              "      <td>1</td>\n",
              "      <td>1</td>\n",
              "    </tr>\n",
              "    <tr>\n",
              "      <th>CDU/CSU_2005</th>\n",
              "      <td>4</td>\n",
              "      <td>4</td>\n",
              "      <td>4</td>\n",
              "      <td>4</td>\n",
              "      <td>4</td>\n",
              "      <td>4</td>\n",
              "    </tr>\n",
              "    <tr>\n",
              "      <th>CDU/CSU_2009</th>\n",
              "      <td>2</td>\n",
              "      <td>2</td>\n",
              "      <td>2</td>\n",
              "      <td>2</td>\n",
              "      <td>2</td>\n",
              "      <td>2</td>\n",
              "    </tr>\n",
              "    <tr>\n",
              "      <th>FDP_1994</th>\n",
              "      <td>5</td>\n",
              "      <td>5</td>\n",
              "      <td>5</td>\n",
              "      <td>5</td>\n",
              "      <td>5</td>\n",
              "      <td>5</td>\n",
              "    </tr>\n",
              "    <tr>\n",
              "      <th>FDP_1998</th>\n",
              "      <td>23</td>\n",
              "      <td>23</td>\n",
              "      <td>23</td>\n",
              "      <td>23</td>\n",
              "      <td>23</td>\n",
              "      <td>23</td>\n",
              "    </tr>\n",
              "    <tr>\n",
              "      <th>FDP_2002</th>\n",
              "      <td>13</td>\n",
              "      <td>13</td>\n",
              "      <td>13</td>\n",
              "      <td>13</td>\n",
              "      <td>13</td>\n",
              "      <td>13</td>\n",
              "    </tr>\n",
              "    <tr>\n",
              "      <th>FDP_2005</th>\n",
              "      <td>4</td>\n",
              "      <td>4</td>\n",
              "      <td>4</td>\n",
              "      <td>4</td>\n",
              "      <td>4</td>\n",
              "      <td>4</td>\n",
              "    </tr>\n",
              "    <tr>\n",
              "      <th>FDP_2009</th>\n",
              "      <td>13</td>\n",
              "      <td>13</td>\n",
              "      <td>13</td>\n",
              "      <td>13</td>\n",
              "      <td>13</td>\n",
              "      <td>13</td>\n",
              "    </tr>\n",
              "    <tr>\n",
              "      <th>FDP_2013</th>\n",
              "      <td>21</td>\n",
              "      <td>21</td>\n",
              "      <td>21</td>\n",
              "      <td>21</td>\n",
              "      <td>21</td>\n",
              "      <td>21</td>\n",
              "    </tr>\n",
              "    <tr>\n",
              "      <th>GRUENEN_1994</th>\n",
              "      <td>25</td>\n",
              "      <td>25</td>\n",
              "      <td>25</td>\n",
              "      <td>25</td>\n",
              "      <td>25</td>\n",
              "      <td>25</td>\n",
              "    </tr>\n",
              "    <tr>\n",
              "      <th>GRUENEN_1998</th>\n",
              "      <td>35</td>\n",
              "      <td>35</td>\n",
              "      <td>35</td>\n",
              "      <td>35</td>\n",
              "      <td>35</td>\n",
              "      <td>35</td>\n",
              "    </tr>\n",
              "    <tr>\n",
              "      <th>GRUENEN_2002</th>\n",
              "      <td>1</td>\n",
              "      <td>1</td>\n",
              "      <td>1</td>\n",
              "      <td>1</td>\n",
              "      <td>1</td>\n",
              "      <td>1</td>\n",
              "    </tr>\n",
              "    <tr>\n",
              "      <th>GRUENEN_2005</th>\n",
              "      <td>17</td>\n",
              "      <td>17</td>\n",
              "      <td>17</td>\n",
              "      <td>17</td>\n",
              "      <td>17</td>\n",
              "      <td>17</td>\n",
              "    </tr>\n",
              "    <tr>\n",
              "      <th>GRUENEN_2009</th>\n",
              "      <td>8</td>\n",
              "      <td>8</td>\n",
              "      <td>8</td>\n",
              "      <td>8</td>\n",
              "      <td>8</td>\n",
              "      <td>8</td>\n",
              "    </tr>\n",
              "    <tr>\n",
              "      <th>GRUENEN_2013</th>\n",
              "      <td>18</td>\n",
              "      <td>18</td>\n",
              "      <td>18</td>\n",
              "      <td>18</td>\n",
              "      <td>18</td>\n",
              "      <td>18</td>\n",
              "    </tr>\n",
              "    <tr>\n",
              "      <th>PDS/DIE LINKE_1994</th>\n",
              "      <td>8</td>\n",
              "      <td>8</td>\n",
              "      <td>8</td>\n",
              "      <td>8</td>\n",
              "      <td>8</td>\n",
              "      <td>8</td>\n",
              "    </tr>\n",
              "    <tr>\n",
              "      <th>PDS/DIE LINKE_1998</th>\n",
              "      <td>2</td>\n",
              "      <td>2</td>\n",
              "      <td>2</td>\n",
              "      <td>2</td>\n",
              "      <td>2</td>\n",
              "      <td>2</td>\n",
              "    </tr>\n",
              "    <tr>\n",
              "      <th>PDS/DIE LINKE_2002</th>\n",
              "      <td>18</td>\n",
              "      <td>18</td>\n",
              "      <td>18</td>\n",
              "      <td>18</td>\n",
              "      <td>18</td>\n",
              "      <td>18</td>\n",
              "    </tr>\n",
              "    <tr>\n",
              "      <th>PDS/DIE LINKE_2005</th>\n",
              "      <td>13</td>\n",
              "      <td>13</td>\n",
              "      <td>13</td>\n",
              "      <td>13</td>\n",
              "      <td>13</td>\n",
              "      <td>13</td>\n",
              "    </tr>\n",
              "    <tr>\n",
              "      <th>PDS/DIE LINKE_2009</th>\n",
              "      <td>15</td>\n",
              "      <td>15</td>\n",
              "      <td>15</td>\n",
              "      <td>15</td>\n",
              "      <td>15</td>\n",
              "      <td>15</td>\n",
              "    </tr>\n",
              "    <tr>\n",
              "      <th>PDS/DIE LINKE_2013</th>\n",
              "      <td>25</td>\n",
              "      <td>25</td>\n",
              "      <td>25</td>\n",
              "      <td>25</td>\n",
              "      <td>25</td>\n",
              "      <td>25</td>\n",
              "    </tr>\n",
              "    <tr>\n",
              "      <th>SPD_1994</th>\n",
              "      <td>7</td>\n",
              "      <td>7</td>\n",
              "      <td>7</td>\n",
              "      <td>7</td>\n",
              "      <td>7</td>\n",
              "      <td>7</td>\n",
              "    </tr>\n",
              "    <tr>\n",
              "      <th>SPD_1998</th>\n",
              "      <td>2</td>\n",
              "      <td>2</td>\n",
              "      <td>2</td>\n",
              "      <td>2</td>\n",
              "      <td>2</td>\n",
              "      <td>2</td>\n",
              "    </tr>\n",
              "    <tr>\n",
              "      <th>SPD_2002</th>\n",
              "      <td>11</td>\n",
              "      <td>11</td>\n",
              "      <td>11</td>\n",
              "      <td>11</td>\n",
              "      <td>11</td>\n",
              "      <td>11</td>\n",
              "    </tr>\n",
              "    <tr>\n",
              "      <th>SPD_2005</th>\n",
              "      <td>6</td>\n",
              "      <td>6</td>\n",
              "      <td>6</td>\n",
              "      <td>6</td>\n",
              "      <td>6</td>\n",
              "      <td>6</td>\n",
              "    </tr>\n",
              "    <tr>\n",
              "      <th>SPD_2013</th>\n",
              "      <td>8</td>\n",
              "      <td>8</td>\n",
              "      <td>8</td>\n",
              "      <td>8</td>\n",
              "      <td>8</td>\n",
              "      <td>8</td>\n",
              "    </tr>\n",
              "  </tbody>\n",
              "</table>\n",
              "</div>"
            ],
            "text/plain": [
              "                    election_year  party  cap_topic  cap_subtopic  eu_dummy  \\\n",
              "party_cabinet                                                                 \n",
              "CDU/CSU_1994                    7      7          7             7         7   \n",
              "CDU/CSU_2002                    1      1          1             1         1   \n",
              "CDU/CSU_2005                    4      4          4             4         4   \n",
              "CDU/CSU_2009                    2      2          2             2         2   \n",
              "FDP_1994                        5      5          5             5         5   \n",
              "FDP_1998                       23     23         23            23        23   \n",
              "FDP_2002                       13     13         13            13        13   \n",
              "FDP_2005                        4      4          4             4         4   \n",
              "FDP_2009                       13     13         13            13        13   \n",
              "FDP_2013                       21     21         21            21        21   \n",
              "GRUENEN_1994                   25     25         25            25        25   \n",
              "GRUENEN_1998                   35     35         35            35        35   \n",
              "GRUENEN_2002                    1      1          1             1         1   \n",
              "GRUENEN_2005                   17     17         17            17        17   \n",
              "GRUENEN_2009                    8      8          8             8         8   \n",
              "GRUENEN_2013                   18     18         18            18        18   \n",
              "PDS/DIE LINKE_1994              8      8          8             8         8   \n",
              "PDS/DIE LINKE_1998              2      2          2             2         2   \n",
              "PDS/DIE LINKE_2002             18     18         18            18        18   \n",
              "PDS/DIE LINKE_2005             13     13         13            13        13   \n",
              "PDS/DIE LINKE_2009             15     15         15            15        15   \n",
              "PDS/DIE LINKE_2013             25     25         25            25        25   \n",
              "SPD_1994                        7      7          7             7         7   \n",
              "SPD_1998                        2      2          2             2         2   \n",
              "SPD_2002                       11     11         11            11        11   \n",
              "SPD_2005                        6      6          6             6         6   \n",
              "SPD_2013                        8      8          8             8         8   \n",
              "\n",
              "                    sentence_text  \n",
              "party_cabinet                      \n",
              "CDU/CSU_1994                    7  \n",
              "CDU/CSU_2002                    1  \n",
              "CDU/CSU_2005                    4  \n",
              "CDU/CSU_2009                    2  \n",
              "FDP_1994                        5  \n",
              "FDP_1998                       23  \n",
              "FDP_2002                       13  \n",
              "FDP_2005                        4  \n",
              "FDP_2009                       13  \n",
              "FDP_2013                       21  \n",
              "GRUENEN_1994                   25  \n",
              "GRUENEN_1998                   35  \n",
              "GRUENEN_2002                    1  \n",
              "GRUENEN_2005                   17  \n",
              "GRUENEN_2009                    8  \n",
              "GRUENEN_2013                   18  \n",
              "PDS/DIE LINKE_1994              8  \n",
              "PDS/DIE LINKE_1998              2  \n",
              "PDS/DIE LINKE_2002             18  \n",
              "PDS/DIE LINKE_2005             13  \n",
              "PDS/DIE LINKE_2009             15  \n",
              "PDS/DIE LINKE_2013             25  \n",
              "SPD_1994                        7  \n",
              "SPD_1998                        2  \n",
              "SPD_2002                       11  \n",
              "SPD_2005                        6  \n",
              "SPD_2013                        8  "
            ]
          },
          "execution_count": 121,
          "metadata": {},
          "output_type": "execute_result"
        }
      ],
      "source": [
        "cap_deu_macro.groupby('party_cabinet').count()"
      ]
    },
    {
      "cell_type": "code",
      "execution_count": 39,
      "metadata": {},
      "outputs": [],
      "source": [
        "embed_dict = {}\n",
        "len_text = []\n",
        "for name, group in cap_deu.groupby('party_cabinet'):\n",
        "    text = group['sentence_text'].tolist()\n",
        "    #left = group[group.sentiment =='left']['sentiment'].tolist()\n",
        "    #right = group[group.sentiment =='right']['sentiment'].tolist()\n",
        "    #len_text.append(len(left)/(len(left)+len(right)))\n",
        "    embeds = model.encode(text, device='cuda')\n",
        "    embed_dict.update({name: embeds})"
      ]
    },
    {
      "cell_type": "code",
      "execution_count": 131,
      "metadata": {},
      "outputs": [
        {
          "data": {
            "text/plain": [
              "75190"
            ]
          },
          "execution_count": 131,
          "metadata": {},
          "output_type": "execute_result"
        }
      ],
      "source": [
        "len(cap_deu)"
      ]
    },
    {
      "cell_type": "code",
      "execution_count": 40,
      "metadata": {},
      "outputs": [],
      "source": [
        "document_embed = np.vstack(list(embed_dict.values()))\n",
        "from sklearn.preprocessing import OrdinalEncoder\n",
        "enc = OrdinalEncoder()\n",
        "y = enc.fit_transform(np.reshape(cap_deu['cap_topic'].tolist(), newshape=(-1,1)))\n",
        "embedding = umap.UMAP(n_components=2, n_neighbors=1000, n_epochs=1000, metric='cosine', low_memory=True).fit_transform(document_embed, y=y)\n"
      ]
    },
    {
      "cell_type": "code",
      "execution_count": 42,
      "metadata": {},
      "outputs": [],
      "source": [
        "emb_mean_dict = {}\n",
        "for name, group in cap_deu.groupby('party_cabinet'):\n",
        "    idx = group.index\n",
        "    embed = embedding[idx]\n",
        "    embed_mean = np.mean(embed, axis=0)\n",
        "    emb_mean_dict.update({name: embed_mean})"
      ]
    },
    {
      "cell_type": "code",
      "execution_count": 43,
      "metadata": {},
      "outputs": [],
      "source": [
        "document_embed = np.stack(list(emb_mean_dict.values()))"
      ]
    },
    {
      "cell_type": "code",
      "execution_count": 44,
      "metadata": {},
      "outputs": [],
      "source": [
        "labels = [name for name, group in cap_deu.groupby('party_cabinet')]\n",
        "party = [lab.split('_')[0] for lab in labels]\n",
        "year = [int(lab.split('_')[1]) for lab in labels]\n",
        "#sentiment = [lab.split('_')[2] for lab in labels]\n"
      ]
    },
    {
      "cell_type": "code",
      "execution_count": 46,
      "metadata": {},
      "outputs": [
        {
          "data": {
            "image/png": "[encoded data removed]",
            "text/plain": [
              "<Figure size 640x480 with 1 Axes>"
            ]
          },
          "metadata": {},
          "output_type": "display_data"
        }
      ],
      "source": [
        "df = pd.DataFrame({'dim1': document_embed[:,1], 'party': party, 'year': year}) #,'dim2': score[:,1]\n",
        "import matplotlib.pyplot as plt\n",
        "fig, ax = plt.subplots()\n",
        "ax.margins(0.05) # Optional, just adds 5% padding to the autoscaling\n",
        "for name, group in df.groupby('party'):\n",
        "    ax.plot(group.year, group.dim1, marker='o', linestyle='dashed', ms=4, label=name)\n",
        "ax.legend()\n",
        "\n",
        "plt.show()"
      ]
    }
  ],
  "metadata": {
    "accelerator": "GPU",
    "colab": {
      "collapsed_sections": [],
      "machine_shape": "hm",
      "provenance": [],
      "toc_visible": true
    },
    "kernelspec": {
      "display_name": "Python 3.9.4 ('metabert')",
      "language": "python",
      "name": "python3"
    },
    "language_info": {
      "codemirror_mode": {
        "name": "ipython",
        "version": 3
      },
      "file_extension": ".py",
      "mimetype": "text/x-python",
      "name": "python",
      "nbconvert_exporter": "python",
      "pygments_lexer": "ipython3",
      "version": "3.9.4"
    },
    "vscode": {
      "interpreter": {
        "hash": "f7608baaa8ba4b0da71374d08d0f0bb637601ef03f4de7fcaa9569cf52419517"
      }
    }
  },
  "nbformat": 4,
  "nbformat_minor": 0
}
